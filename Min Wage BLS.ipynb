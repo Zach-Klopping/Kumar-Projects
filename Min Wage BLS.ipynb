{
 "cells": [
  {
   "cell_type": "code",
   "execution_count": null,
   "metadata": {},
   "outputs": [
    {
     "name": "stderr",
     "output_type": "stream",
     "text": [
      "/var/folders/pz/dlk33y6105b34bc0mc69xhsm0000gn/T/ipykernel_48116/2229766075.py:16: FutureWarning: A value is trying to be set on a copy of a DataFrame or Series through chained assignment using an inplace method.\n",
      "The behavior will change in pandas 3.0. This inplace method will never work because the intermediate object on which we are setting values always behaves as a copy.\n",
      "\n",
      "For example, when doing 'df[col].method(value, inplace=True)', try using 'df.method({col: value}, inplace=True)' or df[col] = df[col].method(value) instead, to perform the operation inplace on the original object.\n",
      "\n",
      "\n",
      "  df[\"tot_emp\"].replace(34432.5,df[\"tot_emp\"].sum()-34432.5,inplace=True)\n"
     ]
    },
    {
     "data": {
      "text/html": [
       "<div>\n",
       "<style scoped>\n",
       "    .dataframe tbody tr th:only-of-type {\n",
       "        vertical-align: middle;\n",
       "    }\n",
       "\n",
       "    .dataframe tbody tr th {\n",
       "        vertical-align: top;\n",
       "    }\n",
       "\n",
       "    .dataframe thead th {\n",
       "        text-align: right;\n",
       "    }\n",
       "</style>\n",
       "<table border=\"1\" class=\"dataframe\">\n",
       "  <thead>\n",
       "    <tr style=\"text-align: right;\">\n",
       "      <th></th>\n",
       "      <th>area_title</th>\n",
       "      <th>naics_title</th>\n",
       "      <th>occ title</th>\n",
       "      <th>tot_emp</th>\n",
       "      <th>h_mean</th>\n",
       "      <th>a_mean</th>\n",
       "      <th>h_median</th>\n",
       "      <th>a_median</th>\n",
       "      <th>Years</th>\n",
       "    </tr>\n",
       "  </thead>\n",
       "  <tbody>\n",
       "    <tr>\n",
       "      <th>30552</th>\n",
       "      <td>Rhode Island</td>\n",
       "      <td>Accommodation and Food Services</td>\n",
       "      <td>Food Preparation and Serving Related Occupations</td>\n",
       "      <td>41570.0</td>\n",
       "      <td>11.00</td>\n",
       "      <td>24520.0</td>\n",
       "      <td>9.00</td>\n",
       "      <td>20750.0</td>\n",
       "      <td>2016</td>\n",
       "    </tr>\n",
       "    <tr>\n",
       "      <th>43587</th>\n",
       "      <td>Rhode Island</td>\n",
       "      <td>Food Services and Drinking Places</td>\n",
       "      <td>Food Preparation and Serving Related Occupations</td>\n",
       "      <td>40140.0</td>\n",
       "      <td>11.00</td>\n",
       "      <td>24400.0</td>\n",
       "      <td>9.00</td>\n",
       "      <td>20710.0</td>\n",
       "      <td>2016</td>\n",
       "    </tr>\n",
       "    <tr>\n",
       "      <th>48577</th>\n",
       "      <td>Rhode Island</td>\n",
       "      <td>Restaurants and Other Eating Places</td>\n",
       "      <td>Food Preparation and Serving Related Occupations</td>\n",
       "      <td>35450.0</td>\n",
       "      <td>11.00</td>\n",
       "      <td>24150.0</td>\n",
       "      <td>9.00</td>\n",
       "      <td>20460.0</td>\n",
       "      <td>2016</td>\n",
       "    </tr>\n",
       "    <tr>\n",
       "      <th>50579</th>\n",
       "      <td>Rhode Island</td>\n",
       "      <td>Full-Service Restaurants</td>\n",
       "      <td>Food Preparation and Serving Related Occupations</td>\n",
       "      <td>20570.0</td>\n",
       "      <td>12.00</td>\n",
       "      <td>25060.0</td>\n",
       "      <td>10.00</td>\n",
       "      <td>20980.0</td>\n",
       "      <td>2016</td>\n",
       "    </tr>\n",
       "    <tr>\n",
       "      <th>Mean</th>\n",
       "      <td>NaN</td>\n",
       "      <td>NaN</td>\n",
       "      <td>NaN</td>\n",
       "      <td>137730.0</td>\n",
       "      <td>11.25</td>\n",
       "      <td>24532.5</td>\n",
       "      <td>9.25</td>\n",
       "      <td>20725.0</td>\n",
       "      <td>2016</td>\n",
       "    </tr>\n",
       "  </tbody>\n",
       "</table>\n",
       "</div>"
      ],
      "text/plain": [
       "         area_title                          naics_title  \\\n",
       "30552  Rhode Island      Accommodation and Food Services   \n",
       "43587  Rhode Island    Food Services and Drinking Places   \n",
       "48577  Rhode Island  Restaurants and Other Eating Places   \n",
       "50579  Rhode Island             Full-Service Restaurants   \n",
       "Mean            NaN                                  NaN   \n",
       "\n",
       "                                              occ title   tot_emp  h_mean  \\\n",
       "30552  Food Preparation and Serving Related Occupations   41570.0   11.00   \n",
       "43587  Food Preparation and Serving Related Occupations   40140.0   11.00   \n",
       "48577  Food Preparation and Serving Related Occupations   35450.0   11.00   \n",
       "50579  Food Preparation and Serving Related Occupations   20570.0   12.00   \n",
       "Mean                                                NaN  137730.0   11.25   \n",
       "\n",
       "        a_mean  h_median  a_median Years  \n",
       "30552  24520.0      9.00   20750.0  2016  \n",
       "43587  24400.0      9.00   20710.0  2016  \n",
       "48577  24150.0      9.00   20460.0  2016  \n",
       "50579  25060.0     10.00   20980.0  2016  \n",
       "Mean   24532.5      9.25   20725.0  2016  "
      ]
     },
     "execution_count": 1,
     "metadata": {},
     "output_type": "execute_result"
    }
   ],
   "source": [
    "#use 3.12.7\n",
    "import pandas as pd\n",
    "import plotly.express as px\n",
    "from scipy import stats\n",
    "import matplotlib.pyplot as plt\n",
    "file= open(\"Min Wage Comp 2016.xlsx\", \"r\")\n",
    "df = pd.read_excel(\"Min Wage Comp 2016.xlsx\")\n",
    "df.drop(26571,inplace=True)\n",
    "df = df[df['area_title'].str.contains('Rhode Island')]\n",
    "df = df[df['group'].str.contains('major')]\n",
    "df = df[df['occ title'].str.contains('Food Preparation and Serving Related Occupations')]\n",
    "df = df.astype({\"tot_emp\": int,\"h_mean\":int,\"a_mean\":int,\"h_median\":int,\"a_median\":int})\n",
    "df = df[df['tot_emp'] >= 10000]\n",
    "df = df.drop(columns=['area', 'naics',\"occ code\",'i_group','annual','hourly','pct_total','group','h_pct25','h_pct75','h_pct90','h_pct10'\n",
    ",'a_pct25','a_pct75','a_pct90','a_pct10','emp_prse',\"mean_prse\"])\n",
    "df.loc[\"Mean\"]=df.mean(numeric_only=True)\n",
    "df[\"tot_emp\"].replace(34432.5,df[\"tot_emp\"].sum()-34432.5,inplace=True)\n",
    "df['Years']='2016'\n",
    "df8=df\n",
    "df8"
   ]
  },
  {
   "cell_type": "code",
   "execution_count": 2,
   "metadata": {},
   "outputs": [
    {
     "name": "stderr",
     "output_type": "stream",
     "text": [
      "/var/folders/pz/dlk33y6105b34bc0mc69xhsm0000gn/T/ipykernel_48116/3809033766.py:12: FutureWarning: A value is trying to be set on a copy of a DataFrame or Series through chained assignment using an inplace method.\n",
      "The behavior will change in pandas 3.0. This inplace method will never work because the intermediate object on which we are setting values always behaves as a copy.\n",
      "\n",
      "For example, when doing 'df[col].method(value, inplace=True)', try using 'df.method({col: value}, inplace=True)' or df[col] = df[col].method(value) instead, to perform the operation inplace on the original object.\n",
      "\n",
      "\n",
      "  df1[\"tot_emp\"].replace(34672.5, df1[\"tot_emp\"].sum()-34672.5,inplace=True)\n"
     ]
    },
    {
     "data": {
      "text/html": [
       "<div>\n",
       "<style scoped>\n",
       "    .dataframe tbody tr th:only-of-type {\n",
       "        vertical-align: middle;\n",
       "    }\n",
       "\n",
       "    .dataframe tbody tr th {\n",
       "        vertical-align: top;\n",
       "    }\n",
       "\n",
       "    .dataframe thead th {\n",
       "        text-align: right;\n",
       "    }\n",
       "</style>\n",
       "<table border=\"1\" class=\"dataframe\">\n",
       "  <thead>\n",
       "    <tr style=\"text-align: right;\">\n",
       "      <th></th>\n",
       "      <th>area_title</th>\n",
       "      <th>naics_title</th>\n",
       "      <th>occ title</th>\n",
       "      <th>tot_emp</th>\n",
       "      <th>h_mean</th>\n",
       "      <th>a_mean</th>\n",
       "      <th>h_median</th>\n",
       "      <th>a_median</th>\n",
       "      <th>Years</th>\n",
       "    </tr>\n",
       "  </thead>\n",
       "  <tbody>\n",
       "    <tr>\n",
       "      <th>9173</th>\n",
       "      <td>Rhode Island</td>\n",
       "      <td>Accommodation and Food Services</td>\n",
       "      <td>Food Preparation and Serving Related Occupations</td>\n",
       "      <td>41960.0</td>\n",
       "      <td>12.0</td>\n",
       "      <td>26110.0</td>\n",
       "      <td>11.0</td>\n",
       "      <td>23470.0</td>\n",
       "      <td>2017</td>\n",
       "    </tr>\n",
       "    <tr>\n",
       "      <th>43539</th>\n",
       "      <td>Rhode Island</td>\n",
       "      <td>Food Services and Drinking Places</td>\n",
       "      <td>Food Preparation and Serving Related Occupations</td>\n",
       "      <td>40210.0</td>\n",
       "      <td>12.0</td>\n",
       "      <td>25970.0</td>\n",
       "      <td>11.0</td>\n",
       "      <td>23420.0</td>\n",
       "      <td>2017</td>\n",
       "    </tr>\n",
       "    <tr>\n",
       "      <th>48591</th>\n",
       "      <td>Rhode Island</td>\n",
       "      <td>Restaurants and Other Eating Places</td>\n",
       "      <td>Food Preparation and Serving Related Occupations</td>\n",
       "      <td>35600.0</td>\n",
       "      <td>12.0</td>\n",
       "      <td>25670.0</td>\n",
       "      <td>11.0</td>\n",
       "      <td>23190.0</td>\n",
       "      <td>2017</td>\n",
       "    </tr>\n",
       "    <tr>\n",
       "      <th>50554</th>\n",
       "      <td>Rhode Island</td>\n",
       "      <td>Full-Service Restaurants</td>\n",
       "      <td>Food Preparation and Serving Related Occupations</td>\n",
       "      <td>20920.0</td>\n",
       "      <td>12.0</td>\n",
       "      <td>26650.0</td>\n",
       "      <td>11.0</td>\n",
       "      <td>23980.0</td>\n",
       "      <td>2017</td>\n",
       "    </tr>\n",
       "    <tr>\n",
       "      <th>Mean</th>\n",
       "      <td>NaN</td>\n",
       "      <td>NaN</td>\n",
       "      <td>NaN</td>\n",
       "      <td>138690.0</td>\n",
       "      <td>12.0</td>\n",
       "      <td>26100.0</td>\n",
       "      <td>11.0</td>\n",
       "      <td>23515.0</td>\n",
       "      <td>2017</td>\n",
       "    </tr>\n",
       "  </tbody>\n",
       "</table>\n",
       "</div>"
      ],
      "text/plain": [
       "         area_title                          naics_title  \\\n",
       "9173   Rhode Island      Accommodation and Food Services   \n",
       "43539  Rhode Island    Food Services and Drinking Places   \n",
       "48591  Rhode Island  Restaurants and Other Eating Places   \n",
       "50554  Rhode Island             Full-Service Restaurants   \n",
       "Mean            NaN                                  NaN   \n",
       "\n",
       "                                              occ title   tot_emp  h_mean  \\\n",
       "9173   Food Preparation and Serving Related Occupations   41960.0    12.0   \n",
       "43539  Food Preparation and Serving Related Occupations   40210.0    12.0   \n",
       "48591  Food Preparation and Serving Related Occupations   35600.0    12.0   \n",
       "50554  Food Preparation and Serving Related Occupations   20920.0    12.0   \n",
       "Mean                                                NaN  138690.0    12.0   \n",
       "\n",
       "        a_mean  h_median  a_median Years  \n",
       "9173   26110.0      11.0   23470.0  2017  \n",
       "43539  25970.0      11.0   23420.0  2017  \n",
       "48591  25670.0      11.0   23190.0  2017  \n",
       "50554  26650.0      11.0   23980.0  2017  \n",
       "Mean   26100.0      11.0   23515.0  2017  "
      ]
     },
     "execution_count": 2,
     "metadata": {},
     "output_type": "execute_result"
    }
   ],
   "source": [
    "file1= open(\"Min Wage Comp 2017.xlsx\", \"r\")\n",
    "df = pd.read_excel(\"Min Wage Comp 2017.xlsx\")\n",
    "df.drop(26571,inplace=True)\n",
    "df1 = df[df['area_title'].str.contains('Rhode Island')]\n",
    "df1 = df1[df1['group'].str.contains('major')]\n",
    "df1 = df1[df1['occ title'].str.contains('Food Preparation and Serving Related Occupations')]\n",
    "df1 = df1.astype({\"tot_emp\": int,\"h_mean\":int,\"a_mean\":int,\"h_median\":int,\"a_median\":int})\n",
    "df1 = df1[df1['tot_emp'] >= 10000]\n",
    "df1 = df1.drop(columns=['area', 'naics',\"occ code\",'i_group','annual','hourly','pct_total','group','h_pct25','h_pct75','h_pct90','h_pct10'\n",
    ",'a_pct25','a_pct75','a_pct90','a_pct10','emp_prse',\"mean_prse\"])\n",
    "df1.loc[\"Mean\"]=df1.mean(numeric_only=True)\n",
    "df1[\"tot_emp\"].replace(34672.5, df1[\"tot_emp\"].sum()-34672.5,inplace=True)\n",
    "df1['Years']='2017'\n",
    "df9=df1\n",
    "df9"
   ]
  },
  {
   "cell_type": "code",
   "execution_count": 3,
   "metadata": {},
   "outputs": [
    {
     "name": "stderr",
     "output_type": "stream",
     "text": [
      "/var/folders/pz/dlk33y6105b34bc0mc69xhsm0000gn/T/ipykernel_48116/3873154845.py:12: FutureWarning: A value is trying to be set on a copy of a DataFrame or Series through chained assignment using an inplace method.\n",
      "The behavior will change in pandas 3.0. This inplace method will never work because the intermediate object on which we are setting values always behaves as a copy.\n",
      "\n",
      "For example, when doing 'df[col].method(value, inplace=True)', try using 'df.method({col: value}, inplace=True)' or df[col] = df[col].method(value) instead, to perform the operation inplace on the original object.\n",
      "\n",
      "\n",
      "  df11[\"tot_emp\"].replace(34552.5, df11[\"tot_emp\"].sum()-34552.5,inplace=True)\n"
     ]
    },
    {
     "data": {
      "text/html": [
       "<div>\n",
       "<style scoped>\n",
       "    .dataframe tbody tr th:only-of-type {\n",
       "        vertical-align: middle;\n",
       "    }\n",
       "\n",
       "    .dataframe tbody tr th {\n",
       "        vertical-align: top;\n",
       "    }\n",
       "\n",
       "    .dataframe thead th {\n",
       "        text-align: right;\n",
       "    }\n",
       "</style>\n",
       "<table border=\"1\" class=\"dataframe\">\n",
       "  <thead>\n",
       "    <tr style=\"text-align: right;\">\n",
       "      <th></th>\n",
       "      <th>area_title</th>\n",
       "      <th>naics_title</th>\n",
       "      <th>occ title</th>\n",
       "      <th>tot_emp</th>\n",
       "      <th>h_mean</th>\n",
       "      <th>a_mean</th>\n",
       "      <th>h_median</th>\n",
       "      <th>a_median</th>\n",
       "      <th>Years</th>\n",
       "    </tr>\n",
       "  </thead>\n",
       "  <tbody>\n",
       "    <tr>\n",
       "      <th>9220</th>\n",
       "      <td>Rhode Island</td>\n",
       "      <td>Accommodation and Food Services</td>\n",
       "      <td>Food Preparation and Serving Related Occupations</td>\n",
       "      <td>41580.0</td>\n",
       "      <td>13.0</td>\n",
       "      <td>27910.0</td>\n",
       "      <td>11.00</td>\n",
       "      <td>24760.0</td>\n",
       "      <td>2018</td>\n",
       "    </tr>\n",
       "    <tr>\n",
       "      <th>43976</th>\n",
       "      <td>Rhode Island</td>\n",
       "      <td>Food Services and Drinking Places</td>\n",
       "      <td>Food Preparation and Serving Related Occupations</td>\n",
       "      <td>40080.0</td>\n",
       "      <td>13.0</td>\n",
       "      <td>27810.0</td>\n",
       "      <td>11.00</td>\n",
       "      <td>24730.0</td>\n",
       "      <td>2018</td>\n",
       "    </tr>\n",
       "    <tr>\n",
       "      <th>49023</th>\n",
       "      <td>Rhode Island</td>\n",
       "      <td>Restaurants and Other Eating Places</td>\n",
       "      <td>Food Preparation and Serving Related Occupations</td>\n",
       "      <td>35300.0</td>\n",
       "      <td>13.0</td>\n",
       "      <td>27630.0</td>\n",
       "      <td>11.00</td>\n",
       "      <td>24520.0</td>\n",
       "      <td>2018</td>\n",
       "    </tr>\n",
       "    <tr>\n",
       "      <th>50967</th>\n",
       "      <td>Rhode Island</td>\n",
       "      <td>Full-Service Restaurants</td>\n",
       "      <td>Food Preparation and Serving Related Occupations</td>\n",
       "      <td>21250.0</td>\n",
       "      <td>13.0</td>\n",
       "      <td>28810.0</td>\n",
       "      <td>12.00</td>\n",
       "      <td>25580.0</td>\n",
       "      <td>2018</td>\n",
       "    </tr>\n",
       "    <tr>\n",
       "      <th>Mean</th>\n",
       "      <td>NaN</td>\n",
       "      <td>NaN</td>\n",
       "      <td>NaN</td>\n",
       "      <td>138210.0</td>\n",
       "      <td>13.0</td>\n",
       "      <td>28040.0</td>\n",
       "      <td>11.25</td>\n",
       "      <td>24897.5</td>\n",
       "      <td>2018</td>\n",
       "    </tr>\n",
       "  </tbody>\n",
       "</table>\n",
       "</div>"
      ],
      "text/plain": [
       "         area_title                          naics_title  \\\n",
       "9220   Rhode Island      Accommodation and Food Services   \n",
       "43976  Rhode Island    Food Services and Drinking Places   \n",
       "49023  Rhode Island  Restaurants and Other Eating Places   \n",
       "50967  Rhode Island             Full-Service Restaurants   \n",
       "Mean            NaN                                  NaN   \n",
       "\n",
       "                                              occ title   tot_emp  h_mean  \\\n",
       "9220   Food Preparation and Serving Related Occupations   41580.0    13.0   \n",
       "43976  Food Preparation and Serving Related Occupations   40080.0    13.0   \n",
       "49023  Food Preparation and Serving Related Occupations   35300.0    13.0   \n",
       "50967  Food Preparation and Serving Related Occupations   21250.0    13.0   \n",
       "Mean                                                NaN  138210.0    13.0   \n",
       "\n",
       "        a_mean  h_median  a_median Years  \n",
       "9220   27910.0     11.00   24760.0  2018  \n",
       "43976  27810.0     11.00   24730.0  2018  \n",
       "49023  27630.0     11.00   24520.0  2018  \n",
       "50967  28810.0     12.00   25580.0  2018  \n",
       "Mean   28040.0     11.25   24897.5  2018  "
      ]
     },
     "execution_count": 3,
     "metadata": {},
     "output_type": "execute_result"
    }
   ],
   "source": [
    "file2= open(\"Min Wage Comp 2018.xlsx\", \"r\")\n",
    "df = pd.read_excel(\"Min Wage Comp 2018.xlsx\")\n",
    "df.drop(26571,inplace=True)\n",
    "df11 = df[df['area_title'].str.contains('Rhode Island')]\n",
    "df11 = df11[df11['o_group'].str.contains('major')]\n",
    "df11 = df11[df11['occ title'].str.contains('Food Preparation and Serving Related Occupations')]\n",
    "df11 = df11.astype({\"tot_emp\": int,\"h_mean\":int,\"a_mean\":int,\"h_median\":int,\"a_median\":int})\n",
    "df11 = df11[df11['tot_emp'] >= 10000]\n",
    "df11 = df11.drop(columns=['area', 'naics',\"occ code\",'i_group','annual','hourly','pct_total','o_group','h_pct25','h_pct75','h_pct90','h_pct10'\n",
    ",'a_pct25','a_pct75','a_pct90','a_pct10','emp_prse',\"mean_prse\"])\n",
    "df11.loc[\"Mean\"]=df11.mean(numeric_only=True)\n",
    "df11[\"tot_emp\"].replace(34552.5, df11[\"tot_emp\"].sum()-34552.5,inplace=True)\n",
    "df11['Years']='2018'\n",
    "df12=df11\n",
    "df12"
   ]
  },
  {
   "cell_type": "code",
   "execution_count": 4,
   "metadata": {},
   "outputs": [
    {
     "data": {
      "text/html": [
       "<div>\n",
       "<style scoped>\n",
       "    .dataframe tbody tr th:only-of-type {\n",
       "        vertical-align: middle;\n",
       "    }\n",
       "\n",
       "    .dataframe tbody tr th {\n",
       "        vertical-align: top;\n",
       "    }\n",
       "\n",
       "    .dataframe thead th {\n",
       "        text-align: right;\n",
       "    }\n",
       "</style>\n",
       "<table border=\"1\" class=\"dataframe\">\n",
       "  <thead>\n",
       "    <tr style=\"text-align: right;\">\n",
       "      <th></th>\n",
       "      <th>area_title</th>\n",
       "      <th>naics_title</th>\n",
       "      <th>occ title</th>\n",
       "      <th>tot_emp</th>\n",
       "      <th>h_mean</th>\n",
       "      <th>a_mean</th>\n",
       "      <th>h_median</th>\n",
       "      <th>a_median</th>\n",
       "      <th>Years</th>\n",
       "    </tr>\n",
       "  </thead>\n",
       "  <tbody>\n",
       "    <tr>\n",
       "      <th>Mean</th>\n",
       "      <td>NaN</td>\n",
       "      <td>NaN</td>\n",
       "      <td>NaN</td>\n",
       "      <td>137730.0</td>\n",
       "      <td>11.25</td>\n",
       "      <td>24532.5</td>\n",
       "      <td>9.25</td>\n",
       "      <td>20725.0</td>\n",
       "      <td>2016</td>\n",
       "    </tr>\n",
       "    <tr>\n",
       "      <th>Mean</th>\n",
       "      <td>NaN</td>\n",
       "      <td>NaN</td>\n",
       "      <td>NaN</td>\n",
       "      <td>138690.0</td>\n",
       "      <td>12.00</td>\n",
       "      <td>26100.0</td>\n",
       "      <td>11.00</td>\n",
       "      <td>23515.0</td>\n",
       "      <td>2017</td>\n",
       "    </tr>\n",
       "    <tr>\n",
       "      <th>Mean</th>\n",
       "      <td>NaN</td>\n",
       "      <td>NaN</td>\n",
       "      <td>NaN</td>\n",
       "      <td>138210.0</td>\n",
       "      <td>13.00</td>\n",
       "      <td>28040.0</td>\n",
       "      <td>11.25</td>\n",
       "      <td>24897.5</td>\n",
       "      <td>2018</td>\n",
       "    </tr>\n",
       "  </tbody>\n",
       "</table>\n",
       "</div>"
      ],
      "text/plain": [
       "     area_title naics_title occ title   tot_emp  h_mean   a_mean  h_median  \\\n",
       "Mean        NaN         NaN       NaN  137730.0   11.25  24532.5      9.25   \n",
       "Mean        NaN         NaN       NaN  138690.0   12.00  26100.0     11.00   \n",
       "Mean        NaN         NaN       NaN  138210.0   13.00  28040.0     11.25   \n",
       "\n",
       "      a_median Years  \n",
       "Mean   20725.0  2016  \n",
       "Mean   23515.0  2017  \n",
       "Mean   24897.5  2018  "
      ]
     },
     "execution_count": 4,
     "metadata": {},
     "output_type": "execute_result"
    }
   ],
   "source": [
    "df4=pd.concat([df8,df9,df12])\n",
    "df4.drop([30552,43587,48577,50579,9173,43539,48591,50554,9220,43976,49023,50967], inplace=True)\n",
    "df4"
   ]
  },
  {
   "cell_type": "code",
   "execution_count": 5,
   "metadata": {},
   "outputs": [
    {
     "name": "stderr",
     "output_type": "stream",
     "text": [
      "/var/folders/pz/dlk33y6105b34bc0mc69xhsm0000gn/T/ipykernel_48116/3612866995.py:11: FutureWarning: A value is trying to be set on a copy of a DataFrame or Series through chained assignment using an inplace method.\n",
      "The behavior will change in pandas 3.0. This inplace method will never work because the intermediate object on which we are setting values always behaves as a copy.\n",
      "\n",
      "For example, when doing 'df[col].method(value, inplace=True)', try using 'df.method({col: value}, inplace=True)' or df[col] = df[col].method(value) instead, to perform the operation inplace on the original object.\n",
      "\n",
      "\n",
      "  df2[\"tot_emp\"].replace(90850.0, df2[\"tot_emp\"].sum()-90850.0,inplace=True)\n"
     ]
    },
    {
     "data": {
      "text/html": [
       "<div>\n",
       "<style scoped>\n",
       "    .dataframe tbody tr th:only-of-type {\n",
       "        vertical-align: middle;\n",
       "    }\n",
       "\n",
       "    .dataframe tbody tr th {\n",
       "        vertical-align: top;\n",
       "    }\n",
       "\n",
       "    .dataframe thead th {\n",
       "        text-align: right;\n",
       "    }\n",
       "</style>\n",
       "<table border=\"1\" class=\"dataframe\">\n",
       "  <thead>\n",
       "    <tr style=\"text-align: right;\">\n",
       "      <th></th>\n",
       "      <th>area_title</th>\n",
       "      <th>naics_title</th>\n",
       "      <th>occ title</th>\n",
       "      <th>tot_emp</th>\n",
       "      <th>h_mean</th>\n",
       "      <th>a_mean</th>\n",
       "      <th>h_median</th>\n",
       "      <th>a_median</th>\n",
       "      <th>Years</th>\n",
       "    </tr>\n",
       "  </thead>\n",
       "  <tbody>\n",
       "    <tr>\n",
       "      <th>27565</th>\n",
       "      <td>Connecticut</td>\n",
       "      <td>Accommodation and Food Services</td>\n",
       "      <td>Food Preparation and Serving Related Occupations</td>\n",
       "      <td>109310.0</td>\n",
       "      <td>12.00</td>\n",
       "      <td>25370.0</td>\n",
       "      <td>10.0</td>\n",
       "      <td>21820.0</td>\n",
       "      <td>2016</td>\n",
       "    </tr>\n",
       "    <tr>\n",
       "      <th>41812</th>\n",
       "      <td>Connecticut</td>\n",
       "      <td>Food Services and Drinking Places</td>\n",
       "      <td>Food Preparation and Serving Related Occupations</td>\n",
       "      <td>105970.0</td>\n",
       "      <td>12.00</td>\n",
       "      <td>25330.0</td>\n",
       "      <td>10.0</td>\n",
       "      <td>21810.0</td>\n",
       "      <td>2016</td>\n",
       "    </tr>\n",
       "    <tr>\n",
       "      <th>47133</th>\n",
       "      <td>Connecticut</td>\n",
       "      <td>Restaurants and Other Eating Places</td>\n",
       "      <td>Food Preparation and Serving Related Occupations</td>\n",
       "      <td>94160.0</td>\n",
       "      <td>11.00</td>\n",
       "      <td>24760.0</td>\n",
       "      <td>10.0</td>\n",
       "      <td>21390.0</td>\n",
       "      <td>2016</td>\n",
       "    </tr>\n",
       "    <tr>\n",
       "      <th>49377</th>\n",
       "      <td>Connecticut</td>\n",
       "      <td>Full-Service Restaurants</td>\n",
       "      <td>Food Preparation and Serving Related Occupations</td>\n",
       "      <td>53960.0</td>\n",
       "      <td>12.00</td>\n",
       "      <td>25290.0</td>\n",
       "      <td>10.0</td>\n",
       "      <td>21120.0</td>\n",
       "      <td>2016</td>\n",
       "    </tr>\n",
       "    <tr>\n",
       "      <th>Mean</th>\n",
       "      <td>NaN</td>\n",
       "      <td>NaN</td>\n",
       "      <td>NaN</td>\n",
       "      <td>363400.0</td>\n",
       "      <td>11.75</td>\n",
       "      <td>25187.5</td>\n",
       "      <td>10.0</td>\n",
       "      <td>21535.0</td>\n",
       "      <td>2016</td>\n",
       "    </tr>\n",
       "  </tbody>\n",
       "</table>\n",
       "</div>"
      ],
      "text/plain": [
       "        area_title                          naics_title  \\\n",
       "27565  Connecticut      Accommodation and Food Services   \n",
       "41812  Connecticut    Food Services and Drinking Places   \n",
       "47133  Connecticut  Restaurants and Other Eating Places   \n",
       "49377  Connecticut             Full-Service Restaurants   \n",
       "Mean           NaN                                  NaN   \n",
       "\n",
       "                                              occ title   tot_emp  h_mean  \\\n",
       "27565  Food Preparation and Serving Related Occupations  109310.0   12.00   \n",
       "41812  Food Preparation and Serving Related Occupations  105970.0   12.00   \n",
       "47133  Food Preparation and Serving Related Occupations   94160.0   11.00   \n",
       "49377  Food Preparation and Serving Related Occupations   53960.0   12.00   \n",
       "Mean                                                NaN  363400.0   11.75   \n",
       "\n",
       "        a_mean  h_median  a_median Years  \n",
       "27565  25370.0      10.0   21820.0  2016  \n",
       "41812  25330.0      10.0   21810.0  2016  \n",
       "47133  24760.0      10.0   21390.0  2016  \n",
       "49377  25290.0      10.0   21120.0  2016  \n",
       "Mean   25187.5      10.0   21535.0  2016  "
      ]
     },
     "execution_count": 5,
     "metadata": {},
     "output_type": "execute_result"
    }
   ],
   "source": [
    "file= open(\"Min Wage Comp 2016.xlsx\", \"r\")\n",
    "df2 = pd.read_excel(\"Min Wage Comp 2016.xlsx\")\n",
    "df2 = df2[df2['area_title'].str.contains('Connecticut')]\n",
    "df2 = df2[df2['group'].str.contains('major')]\n",
    "df2 = df2[df2['occ title'].str.contains('Food Preparation and Serving Related Occupations')]\n",
    "df2 = df2.astype({\"tot_emp\": int,\"h_mean\":int,\"a_mean\":int,\"h_median\":int,\"a_median\":int})\n",
    "df2 = df2[df2['tot_emp'] >= 11000]\n",
    "df2 = df2.drop(columns=['area', 'naics',\"occ code\",'i_group','annual','hourly','pct_total','group','h_pct25','h_pct75','h_pct90','h_pct10'\n",
    ",'a_pct25','a_pct75','a_pct90','a_pct10','emp_prse',\"mean_prse\"])\n",
    "df2.loc[\"Mean\"]=df2.mean(numeric_only=True)\n",
    "df2[\"tot_emp\"].replace(90850.0, df2[\"tot_emp\"].sum()-90850.0,inplace=True)\n",
    "df2['Years']='2016'\n",
    "df6=df2\n",
    "df6\n"
   ]
  },
  {
   "cell_type": "code",
   "execution_count": 6,
   "metadata": {},
   "outputs": [
    {
     "name": "stderr",
     "output_type": "stream",
     "text": [
      "/var/folders/pz/dlk33y6105b34bc0mc69xhsm0000gn/T/ipykernel_48116/1631273224.py:15: FutureWarning: A value is trying to be set on a copy of a DataFrame or Series through chained assignment using an inplace method.\n",
      "The behavior will change in pandas 3.0. This inplace method will never work because the intermediate object on which we are setting values always behaves as a copy.\n",
      "\n",
      "For example, when doing 'df[col].method(value, inplace=True)', try using 'df.method({col: value}, inplace=True)' or df[col] = df[col].method(value) instead, to perform the operation inplace on the original object.\n",
      "\n",
      "\n",
      "  df3[\"tot_emp\"].replace(92070.0, df3[\"tot_emp\"].sum()-92070.0,inplace=True)\n"
     ]
    },
    {
     "data": {
      "text/html": [
       "<div>\n",
       "<style scoped>\n",
       "    .dataframe tbody tr th:only-of-type {\n",
       "        vertical-align: middle;\n",
       "    }\n",
       "\n",
       "    .dataframe tbody tr th {\n",
       "        vertical-align: top;\n",
       "    }\n",
       "\n",
       "    .dataframe thead th {\n",
       "        text-align: right;\n",
       "    }\n",
       "</style>\n",
       "<table border=\"1\" class=\"dataframe\">\n",
       "  <thead>\n",
       "    <tr style=\"text-align: right;\">\n",
       "      <th></th>\n",
       "      <th>area_title</th>\n",
       "      <th>naics_title</th>\n",
       "      <th>occ title</th>\n",
       "      <th>tot_emp</th>\n",
       "      <th>h_mean</th>\n",
       "      <th>a_mean</th>\n",
       "      <th>h_median</th>\n",
       "      <th>a_median</th>\n",
       "      <th>Years</th>\n",
       "    </tr>\n",
       "  </thead>\n",
       "  <tbody>\n",
       "    <tr>\n",
       "      <th>6202</th>\n",
       "      <td>Connecticut</td>\n",
       "      <td>Accommodation and Food Services</td>\n",
       "      <td>Food Preparation and Serving Related Occupations</td>\n",
       "      <td>110450.0</td>\n",
       "      <td>12.0</td>\n",
       "      <td>26230.0</td>\n",
       "      <td>11.00</td>\n",
       "      <td>23130.0</td>\n",
       "      <td>2017</td>\n",
       "    </tr>\n",
       "    <tr>\n",
       "      <th>41775</th>\n",
       "      <td>Connecticut</td>\n",
       "      <td>Food Services and Drinking Places</td>\n",
       "      <td>Food Preparation and Serving Related Occupations</td>\n",
       "      <td>106900.0</td>\n",
       "      <td>12.0</td>\n",
       "      <td>26190.0</td>\n",
       "      <td>11.00</td>\n",
       "      <td>23130.0</td>\n",
       "      <td>2017</td>\n",
       "    </tr>\n",
       "    <tr>\n",
       "      <th>47173</th>\n",
       "      <td>Connecticut</td>\n",
       "      <td>Restaurants and Other Eating Places</td>\n",
       "      <td>Food Preparation and Serving Related Occupations</td>\n",
       "      <td>95310.0</td>\n",
       "      <td>12.0</td>\n",
       "      <td>25650.0</td>\n",
       "      <td>11.00</td>\n",
       "      <td>22880.0</td>\n",
       "      <td>2017</td>\n",
       "    </tr>\n",
       "    <tr>\n",
       "      <th>49386</th>\n",
       "      <td>Connecticut</td>\n",
       "      <td>Full-Service Restaurants</td>\n",
       "      <td>Food Preparation and Serving Related Occupations</td>\n",
       "      <td>55620.0</td>\n",
       "      <td>12.0</td>\n",
       "      <td>26200.0</td>\n",
       "      <td>10.00</td>\n",
       "      <td>22690.0</td>\n",
       "      <td>2017</td>\n",
       "    </tr>\n",
       "    <tr>\n",
       "      <th>Mean</th>\n",
       "      <td>NaN</td>\n",
       "      <td>NaN</td>\n",
       "      <td>NaN</td>\n",
       "      <td>368280.0</td>\n",
       "      <td>12.0</td>\n",
       "      <td>26067.5</td>\n",
       "      <td>10.75</td>\n",
       "      <td>22957.5</td>\n",
       "      <td>2017</td>\n",
       "    </tr>\n",
       "  </tbody>\n",
       "</table>\n",
       "</div>"
      ],
      "text/plain": [
       "        area_title                          naics_title  \\\n",
       "6202   Connecticut      Accommodation and Food Services   \n",
       "41775  Connecticut    Food Services and Drinking Places   \n",
       "47173  Connecticut  Restaurants and Other Eating Places   \n",
       "49386  Connecticut             Full-Service Restaurants   \n",
       "Mean           NaN                                  NaN   \n",
       "\n",
       "                                              occ title   tot_emp  h_mean  \\\n",
       "6202   Food Preparation and Serving Related Occupations  110450.0    12.0   \n",
       "41775  Food Preparation and Serving Related Occupations  106900.0    12.0   \n",
       "47173  Food Preparation and Serving Related Occupations   95310.0    12.0   \n",
       "49386  Food Preparation and Serving Related Occupations   55620.0    12.0   \n",
       "Mean                                                NaN  368280.0    12.0   \n",
       "\n",
       "        a_mean  h_median  a_median Years  \n",
       "6202   26230.0     11.00   23130.0  2017  \n",
       "41775  26190.0     11.00   23130.0  2017  \n",
       "47173  25650.0     11.00   22880.0  2017  \n",
       "49386  26200.0     10.00   22690.0  2017  \n",
       "Mean   26067.5     10.75   22957.5  2017  "
      ]
     },
     "execution_count": 6,
     "metadata": {},
     "output_type": "execute_result"
    }
   ],
   "source": [
    "import pandas as pd\n",
    "import plotly.express as px\n",
    "from scipy import stats\n",
    "import matplotlib.pyplot as plt\n",
    "file1= open(\"Min Wage Comp 2017.xlsx\", \"r\")\n",
    "df3 = pd.read_excel(\"Min Wage Comp 2017.xlsx\")\n",
    "df3 = df3[df3['area_title'].str.contains('Connecticut')]\n",
    "df3 = df3[df3['group'].str.contains('major')]\n",
    "df3 = df3[df3['occ title'].str.contains('Food Preparation and Serving Related Occupations')]\n",
    "df3 = df3.astype({\"tot_emp\": int,\"h_mean\":int,\"a_mean\":int,\"h_median\":int,\"a_median\":int})\n",
    "df3 = df3[df3['tot_emp'] >= 10000]\n",
    "df3 = df3.drop(columns=['area', 'naics',\"occ code\",'i_group','annual','hourly','pct_total','group','h_pct25','h_pct75','h_pct90','h_pct10'\n",
    ",'a_pct25','a_pct75','a_pct90','a_pct10','emp_prse',\"mean_prse\"])\n",
    "df3.loc[\"Mean\"]=df3.mean(numeric_only=True)\n",
    "df3[\"tot_emp\"].replace(92070.0, df3[\"tot_emp\"].sum()-92070.0,inplace=True)\n",
    "df3['Years']='2017'\n",
    "df7=df3\n",
    "df7"
   ]
  },
  {
   "cell_type": "code",
   "execution_count": 7,
   "metadata": {},
   "outputs": [
    {
     "name": "stderr",
     "output_type": "stream",
     "text": [
      "/var/folders/pz/dlk33y6105b34bc0mc69xhsm0000gn/T/ipykernel_48116/733477482.py:16: FutureWarning: A value is trying to be set on a copy of a DataFrame or Series through chained assignment using an inplace method.\n",
      "The behavior will change in pandas 3.0. This inplace method will never work because the intermediate object on which we are setting values always behaves as a copy.\n",
      "\n",
      "For example, when doing 'df[col].method(value, inplace=True)', try using 'df.method({col: value}, inplace=True)' or df[col] = df[col].method(value) instead, to perform the operation inplace on the original object.\n",
      "\n",
      "\n",
      "  df13[\"tot_emp\"].replace(92192.5, df13[\"tot_emp\"].sum()-92192.5,inplace=True)\n"
     ]
    },
    {
     "data": {
      "text/html": [
       "<div>\n",
       "<style scoped>\n",
       "    .dataframe tbody tr th:only-of-type {\n",
       "        vertical-align: middle;\n",
       "    }\n",
       "\n",
       "    .dataframe tbody tr th {\n",
       "        vertical-align: top;\n",
       "    }\n",
       "\n",
       "    .dataframe thead th {\n",
       "        text-align: right;\n",
       "    }\n",
       "</style>\n",
       "<table border=\"1\" class=\"dataframe\">\n",
       "  <thead>\n",
       "    <tr style=\"text-align: right;\">\n",
       "      <th></th>\n",
       "      <th>area_title</th>\n",
       "      <th>naics_title</th>\n",
       "      <th>occ title</th>\n",
       "      <th>tot_emp</th>\n",
       "      <th>h_mean</th>\n",
       "      <th>a_mean</th>\n",
       "      <th>h_median</th>\n",
       "      <th>a_median</th>\n",
       "      <th>Years</th>\n",
       "    </tr>\n",
       "  </thead>\n",
       "  <tbody>\n",
       "    <tr>\n",
       "      <th>6241</th>\n",
       "      <td>Connecticut</td>\n",
       "      <td>Accommodation and Food Services</td>\n",
       "      <td>Food Preparation and Serving Related Occupations</td>\n",
       "      <td>112440.0</td>\n",
       "      <td>13.0</td>\n",
       "      <td>28300.0</td>\n",
       "      <td>11.0</td>\n",
       "      <td>24410.0</td>\n",
       "      <td>2018</td>\n",
       "    </tr>\n",
       "    <tr>\n",
       "      <th>42198</th>\n",
       "      <td>Connecticut</td>\n",
       "      <td>Food Services and Drinking Places</td>\n",
       "      <td>Food Preparation and Serving Related Occupations</td>\n",
       "      <td>105720.0</td>\n",
       "      <td>13.0</td>\n",
       "      <td>28260.0</td>\n",
       "      <td>11.0</td>\n",
       "      <td>24410.0</td>\n",
       "      <td>2018</td>\n",
       "    </tr>\n",
       "    <tr>\n",
       "      <th>47613</th>\n",
       "      <td>Connecticut</td>\n",
       "      <td>Restaurants and Other Eating Places</td>\n",
       "      <td>Food Preparation and Serving Related Occupations</td>\n",
       "      <td>94400.0</td>\n",
       "      <td>13.0</td>\n",
       "      <td>27740.0</td>\n",
       "      <td>11.0</td>\n",
       "      <td>24210.0</td>\n",
       "      <td>2018</td>\n",
       "    </tr>\n",
       "    <tr>\n",
       "      <th>49791</th>\n",
       "      <td>Connecticut</td>\n",
       "      <td>Full-Service Restaurants</td>\n",
       "      <td>Food Preparation and Serving Related Occupations</td>\n",
       "      <td>56210.0</td>\n",
       "      <td>13.0</td>\n",
       "      <td>28390.0</td>\n",
       "      <td>11.0</td>\n",
       "      <td>24200.0</td>\n",
       "      <td>2018</td>\n",
       "    </tr>\n",
       "    <tr>\n",
       "      <th>Mean</th>\n",
       "      <td>NaN</td>\n",
       "      <td>NaN</td>\n",
       "      <td>NaN</td>\n",
       "      <td>368770.0</td>\n",
       "      <td>13.0</td>\n",
       "      <td>28172.5</td>\n",
       "      <td>11.0</td>\n",
       "      <td>24307.5</td>\n",
       "      <td>2018</td>\n",
       "    </tr>\n",
       "  </tbody>\n",
       "</table>\n",
       "</div>"
      ],
      "text/plain": [
       "        area_title                          naics_title  \\\n",
       "6241   Connecticut      Accommodation and Food Services   \n",
       "42198  Connecticut    Food Services and Drinking Places   \n",
       "47613  Connecticut  Restaurants and Other Eating Places   \n",
       "49791  Connecticut             Full-Service Restaurants   \n",
       "Mean           NaN                                  NaN   \n",
       "\n",
       "                                              occ title   tot_emp  h_mean  \\\n",
       "6241   Food Preparation and Serving Related Occupations  112440.0    13.0   \n",
       "42198  Food Preparation and Serving Related Occupations  105720.0    13.0   \n",
       "47613  Food Preparation and Serving Related Occupations   94400.0    13.0   \n",
       "49791  Food Preparation and Serving Related Occupations   56210.0    13.0   \n",
       "Mean                                                NaN  368770.0    13.0   \n",
       "\n",
       "        a_mean  h_median  a_median Years  \n",
       "6241   28300.0      11.0   24410.0  2018  \n",
       "42198  28260.0      11.0   24410.0  2018  \n",
       "47613  27740.0      11.0   24210.0  2018  \n",
       "49791  28390.0      11.0   24200.0  2018  \n",
       "Mean   28172.5      11.0   24307.5  2018  "
      ]
     },
     "execution_count": 7,
     "metadata": {},
     "output_type": "execute_result"
    }
   ],
   "source": [
    "import pandas as pd\n",
    "import plotly.express as px\n",
    "from scipy import stats\n",
    "import matplotlib.pyplot as plt\n",
    "file1= open(\"Min Wage Comp 2018.xlsx\", \"r\")\n",
    "df13 = pd.read_excel(\"Min Wage Comp 2018.xlsx\")\n",
    "df13 = df13[df13['area_title'].str.contains('Connecticut')]\n",
    "df13 = df13[df13['o_group'].str.contains('major')]\n",
    "df13 = df13[df13['occ title'].str.contains('Food Preparation and Serving Related Occupations')]\n",
    "df13.drop(40977,inplace=True)\n",
    "df13 = df13.astype({\"tot_emp\": int,\"h_mean\":int,\"a_mean\":int,\"h_median\":int,\"a_median\":int})\n",
    "df13 = df13[df13['tot_emp'] >= 10000]\n",
    "df13 = df13.drop(columns=['area', 'naics',\"occ code\",'i_group','annual','hourly','pct_total','o_group','h_pct25','h_pct75','h_pct90','h_pct10'\n",
    ",'a_pct25','a_pct75','a_pct90','a_pct10','emp_prse',\"mean_prse\"])\n",
    "df13.loc[\"Mean\"]=df13.mean(numeric_only=True)\n",
    "df13[\"tot_emp\"].replace(92192.5, df13[\"tot_emp\"].sum()-92192.5,inplace=True)\n",
    "df13['Years']='2018'\n",
    "df14=df13\n",
    "df14"
   ]
  },
  {
   "cell_type": "code",
   "execution_count": 8,
   "metadata": {},
   "outputs": [
    {
     "data": {
      "text/html": [
       "<div>\n",
       "<style scoped>\n",
       "    .dataframe tbody tr th:only-of-type {\n",
       "        vertical-align: middle;\n",
       "    }\n",
       "\n",
       "    .dataframe tbody tr th {\n",
       "        vertical-align: top;\n",
       "    }\n",
       "\n",
       "    .dataframe thead th {\n",
       "        text-align: right;\n",
       "    }\n",
       "</style>\n",
       "<table border=\"1\" class=\"dataframe\">\n",
       "  <thead>\n",
       "    <tr style=\"text-align: right;\">\n",
       "      <th></th>\n",
       "      <th>area_title</th>\n",
       "      <th>naics_title</th>\n",
       "      <th>occ title</th>\n",
       "      <th>tot_emp</th>\n",
       "      <th>h_mean</th>\n",
       "      <th>a_mean</th>\n",
       "      <th>h_median</th>\n",
       "      <th>a_median</th>\n",
       "      <th>Years</th>\n",
       "    </tr>\n",
       "  </thead>\n",
       "  <tbody>\n",
       "    <tr>\n",
       "      <th>Mean</th>\n",
       "      <td>NaN</td>\n",
       "      <td>NaN</td>\n",
       "      <td>NaN</td>\n",
       "      <td>363400.0</td>\n",
       "      <td>11.75</td>\n",
       "      <td>25187.5</td>\n",
       "      <td>10.00</td>\n",
       "      <td>21535.0</td>\n",
       "      <td>2016</td>\n",
       "    </tr>\n",
       "    <tr>\n",
       "      <th>Mean</th>\n",
       "      <td>NaN</td>\n",
       "      <td>NaN</td>\n",
       "      <td>NaN</td>\n",
       "      <td>368280.0</td>\n",
       "      <td>12.00</td>\n",
       "      <td>26067.5</td>\n",
       "      <td>10.75</td>\n",
       "      <td>22957.5</td>\n",
       "      <td>2017</td>\n",
       "    </tr>\n",
       "    <tr>\n",
       "      <th>Mean</th>\n",
       "      <td>NaN</td>\n",
       "      <td>NaN</td>\n",
       "      <td>NaN</td>\n",
       "      <td>368770.0</td>\n",
       "      <td>13.00</td>\n",
       "      <td>28172.5</td>\n",
       "      <td>11.00</td>\n",
       "      <td>24307.5</td>\n",
       "      <td>2018</td>\n",
       "    </tr>\n",
       "  </tbody>\n",
       "</table>\n",
       "</div>"
      ],
      "text/plain": [
       "     area_title naics_title occ title   tot_emp  h_mean   a_mean  h_median  \\\n",
       "Mean        NaN         NaN       NaN  363400.0   11.75  25187.5     10.00   \n",
       "Mean        NaN         NaN       NaN  368280.0   12.00  26067.5     10.75   \n",
       "Mean        NaN         NaN       NaN  368770.0   13.00  28172.5     11.00   \n",
       "\n",
       "      a_median Years  \n",
       "Mean   21535.0  2016  \n",
       "Mean   22957.5  2017  \n",
       "Mean   24307.5  2018  "
      ]
     },
     "execution_count": 8,
     "metadata": {},
     "output_type": "execute_result"
    }
   ],
   "source": [
    "df5=pd.concat([df6,df7,df14])\n",
    "df5.drop([27565,41812,47133,49377,6202,41775,47173,49386,6241,42198,47613,49791], inplace=True)\n",
    "df5"
   ]
  },
  {
   "cell_type": "code",
   "execution_count": 9,
   "metadata": {},
   "outputs": [
    {
     "data": {
      "application/vnd.plotly.v1+json": {
       "config": {
        "plotlyServerURL": "https://plot.ly"
       },
       "data": [
        {
         "type": "bar",
         "x": [
          "2016",
          "2017",
          "2018"
         ],
         "xaxis": "x",
         "y": [
          137730,
          138690,
          138210
         ],
         "yaxis": "y"
        },
        {
         "type": "bar",
         "x": [
          "2016",
          "2017",
          "2018"
         ],
         "xaxis": "x2",
         "y": [
          11.25,
          12,
          13
         ],
         "yaxis": "y2"
        },
        {
         "type": "bar",
         "x": [
          "2016",
          "2017",
          "2018"
         ],
         "xaxis": "x3",
         "y": [
          9.25,
          11,
          11.25
         ],
         "yaxis": "y3"
        },
        {
         "type": "bar",
         "x": [
          "2016",
          "2017",
          "2018"
         ],
         "xaxis": "x4",
         "y": [
          24532.5,
          26100,
          28040
         ],
         "yaxis": "y4"
        },
        {
         "type": "bar",
         "x": [
          "2016",
          "2017",
          "2018"
         ],
         "xaxis": "x5",
         "y": [
          20725,
          23515,
          24897.5
         ],
         "yaxis": "y5"
        }
       ],
       "layout": {
        "annotations": [
         {
          "font": {
           "size": 16
          },
          "showarrow": false,
          "text": "Total Employement",
          "x": 0.08399999999999999,
          "xanchor": "center",
          "xref": "paper",
          "y": 1,
          "yanchor": "bottom",
          "yref": "paper"
         },
         {
          "font": {
           "size": 16
          },
          "showarrow": false,
          "text": "Mean Hourly Wage",
          "x": 0.292,
          "xanchor": "center",
          "xref": "paper",
          "y": 1,
          "yanchor": "bottom",
          "yref": "paper"
         },
         {
          "font": {
           "size": 16
          },
          "showarrow": false,
          "text": "Median Hourly Wage",
          "x": 0.5,
          "xanchor": "center",
          "xref": "paper",
          "y": 1,
          "yanchor": "bottom",
          "yref": "paper"
         },
         {
          "font": {
           "size": 16
          },
          "showarrow": false,
          "text": "Mean Annual Wage",
          "x": 0.708,
          "xanchor": "center",
          "xref": "paper",
          "y": 1,
          "yanchor": "bottom",
          "yref": "paper"
         },
         {
          "font": {
           "size": 16
          },
          "showarrow": false,
          "text": "Median Annual Wage",
          "x": 0.9159999999999999,
          "xanchor": "center",
          "xref": "paper",
          "y": 1,
          "yanchor": "bottom",
          "yref": "paper"
         }
        ],
        "height": 600,
        "showlegend": false,
        "template": {
         "data": {
          "bar": [
           {
            "error_x": {
             "color": "#2a3f5f"
            },
            "error_y": {
             "color": "#2a3f5f"
            },
            "marker": {
             "line": {
              "color": "#E5ECF6",
              "width": 0.5
             },
             "pattern": {
              "fillmode": "overlay",
              "size": 10,
              "solidity": 0.2
             }
            },
            "type": "bar"
           }
          ],
          "barpolar": [
           {
            "marker": {
             "line": {
              "color": "#E5ECF6",
              "width": 0.5
             },
             "pattern": {
              "fillmode": "overlay",
              "size": 10,
              "solidity": 0.2
             }
            },
            "type": "barpolar"
           }
          ],
          "carpet": [
           {
            "aaxis": {
             "endlinecolor": "#2a3f5f",
             "gridcolor": "white",
             "linecolor": "white",
             "minorgridcolor": "white",
             "startlinecolor": "#2a3f5f"
            },
            "baxis": {
             "endlinecolor": "#2a3f5f",
             "gridcolor": "white",
             "linecolor": "white",
             "minorgridcolor": "white",
             "startlinecolor": "#2a3f5f"
            },
            "type": "carpet"
           }
          ],
          "choropleth": [
           {
            "colorbar": {
             "outlinewidth": 0,
             "ticks": ""
            },
            "type": "choropleth"
           }
          ],
          "contour": [
           {
            "colorbar": {
             "outlinewidth": 0,
             "ticks": ""
            },
            "colorscale": [
             [
              0,
              "#0d0887"
             ],
             [
              0.1111111111111111,
              "#46039f"
             ],
             [
              0.2222222222222222,
              "#7201a8"
             ],
             [
              0.3333333333333333,
              "#9c179e"
             ],
             [
              0.4444444444444444,
              "#bd3786"
             ],
             [
              0.5555555555555556,
              "#d8576b"
             ],
             [
              0.6666666666666666,
              "#ed7953"
             ],
             [
              0.7777777777777778,
              "#fb9f3a"
             ],
             [
              0.8888888888888888,
              "#fdca26"
             ],
             [
              1,
              "#f0f921"
             ]
            ],
            "type": "contour"
           }
          ],
          "contourcarpet": [
           {
            "colorbar": {
             "outlinewidth": 0,
             "ticks": ""
            },
            "type": "contourcarpet"
           }
          ],
          "heatmap": [
           {
            "colorbar": {
             "outlinewidth": 0,
             "ticks": ""
            },
            "colorscale": [
             [
              0,
              "#0d0887"
             ],
             [
              0.1111111111111111,
              "#46039f"
             ],
             [
              0.2222222222222222,
              "#7201a8"
             ],
             [
              0.3333333333333333,
              "#9c179e"
             ],
             [
              0.4444444444444444,
              "#bd3786"
             ],
             [
              0.5555555555555556,
              "#d8576b"
             ],
             [
              0.6666666666666666,
              "#ed7953"
             ],
             [
              0.7777777777777778,
              "#fb9f3a"
             ],
             [
              0.8888888888888888,
              "#fdca26"
             ],
             [
              1,
              "#f0f921"
             ]
            ],
            "type": "heatmap"
           }
          ],
          "heatmapgl": [
           {
            "colorbar": {
             "outlinewidth": 0,
             "ticks": ""
            },
            "colorscale": [
             [
              0,
              "#0d0887"
             ],
             [
              0.1111111111111111,
              "#46039f"
             ],
             [
              0.2222222222222222,
              "#7201a8"
             ],
             [
              0.3333333333333333,
              "#9c179e"
             ],
             [
              0.4444444444444444,
              "#bd3786"
             ],
             [
              0.5555555555555556,
              "#d8576b"
             ],
             [
              0.6666666666666666,
              "#ed7953"
             ],
             [
              0.7777777777777778,
              "#fb9f3a"
             ],
             [
              0.8888888888888888,
              "#fdca26"
             ],
             [
              1,
              "#f0f921"
             ]
            ],
            "type": "heatmapgl"
           }
          ],
          "histogram": [
           {
            "marker": {
             "pattern": {
              "fillmode": "overlay",
              "size": 10,
              "solidity": 0.2
             }
            },
            "type": "histogram"
           }
          ],
          "histogram2d": [
           {
            "colorbar": {
             "outlinewidth": 0,
             "ticks": ""
            },
            "colorscale": [
             [
              0,
              "#0d0887"
             ],
             [
              0.1111111111111111,
              "#46039f"
             ],
             [
              0.2222222222222222,
              "#7201a8"
             ],
             [
              0.3333333333333333,
              "#9c179e"
             ],
             [
              0.4444444444444444,
              "#bd3786"
             ],
             [
              0.5555555555555556,
              "#d8576b"
             ],
             [
              0.6666666666666666,
              "#ed7953"
             ],
             [
              0.7777777777777778,
              "#fb9f3a"
             ],
             [
              0.8888888888888888,
              "#fdca26"
             ],
             [
              1,
              "#f0f921"
             ]
            ],
            "type": "histogram2d"
           }
          ],
          "histogram2dcontour": [
           {
            "colorbar": {
             "outlinewidth": 0,
             "ticks": ""
            },
            "colorscale": [
             [
              0,
              "#0d0887"
             ],
             [
              0.1111111111111111,
              "#46039f"
             ],
             [
              0.2222222222222222,
              "#7201a8"
             ],
             [
              0.3333333333333333,
              "#9c179e"
             ],
             [
              0.4444444444444444,
              "#bd3786"
             ],
             [
              0.5555555555555556,
              "#d8576b"
             ],
             [
              0.6666666666666666,
              "#ed7953"
             ],
             [
              0.7777777777777778,
              "#fb9f3a"
             ],
             [
              0.8888888888888888,
              "#fdca26"
             ],
             [
              1,
              "#f0f921"
             ]
            ],
            "type": "histogram2dcontour"
           }
          ],
          "mesh3d": [
           {
            "colorbar": {
             "outlinewidth": 0,
             "ticks": ""
            },
            "type": "mesh3d"
           }
          ],
          "parcoords": [
           {
            "line": {
             "colorbar": {
              "outlinewidth": 0,
              "ticks": ""
             }
            },
            "type": "parcoords"
           }
          ],
          "pie": [
           {
            "automargin": true,
            "type": "pie"
           }
          ],
          "scatter": [
           {
            "fillpattern": {
             "fillmode": "overlay",
             "size": 10,
             "solidity": 0.2
            },
            "type": "scatter"
           }
          ],
          "scatter3d": [
           {
            "line": {
             "colorbar": {
              "outlinewidth": 0,
              "ticks": ""
             }
            },
            "marker": {
             "colorbar": {
              "outlinewidth": 0,
              "ticks": ""
             }
            },
            "type": "scatter3d"
           }
          ],
          "scattercarpet": [
           {
            "marker": {
             "colorbar": {
              "outlinewidth": 0,
              "ticks": ""
             }
            },
            "type": "scattercarpet"
           }
          ],
          "scattergeo": [
           {
            "marker": {
             "colorbar": {
              "outlinewidth": 0,
              "ticks": ""
             }
            },
            "type": "scattergeo"
           }
          ],
          "scattergl": [
           {
            "marker": {
             "colorbar": {
              "outlinewidth": 0,
              "ticks": ""
             }
            },
            "type": "scattergl"
           }
          ],
          "scattermapbox": [
           {
            "marker": {
             "colorbar": {
              "outlinewidth": 0,
              "ticks": ""
             }
            },
            "type": "scattermapbox"
           }
          ],
          "scatterpolar": [
           {
            "marker": {
             "colorbar": {
              "outlinewidth": 0,
              "ticks": ""
             }
            },
            "type": "scatterpolar"
           }
          ],
          "scatterpolargl": [
           {
            "marker": {
             "colorbar": {
              "outlinewidth": 0,
              "ticks": ""
             }
            },
            "type": "scatterpolargl"
           }
          ],
          "scatterternary": [
           {
            "marker": {
             "colorbar": {
              "outlinewidth": 0,
              "ticks": ""
             }
            },
            "type": "scatterternary"
           }
          ],
          "surface": [
           {
            "colorbar": {
             "outlinewidth": 0,
             "ticks": ""
            },
            "colorscale": [
             [
              0,
              "#0d0887"
             ],
             [
              0.1111111111111111,
              "#46039f"
             ],
             [
              0.2222222222222222,
              "#7201a8"
             ],
             [
              0.3333333333333333,
              "#9c179e"
             ],
             [
              0.4444444444444444,
              "#bd3786"
             ],
             [
              0.5555555555555556,
              "#d8576b"
             ],
             [
              0.6666666666666666,
              "#ed7953"
             ],
             [
              0.7777777777777778,
              "#fb9f3a"
             ],
             [
              0.8888888888888888,
              "#fdca26"
             ],
             [
              1,
              "#f0f921"
             ]
            ],
            "type": "surface"
           }
          ],
          "table": [
           {
            "cells": {
             "fill": {
              "color": "#EBF0F8"
             },
             "line": {
              "color": "white"
             }
            },
            "header": {
             "fill": {
              "color": "#C8D4E3"
             },
             "line": {
              "color": "white"
             }
            },
            "type": "table"
           }
          ]
         },
         "layout": {
          "annotationdefaults": {
           "arrowcolor": "#2a3f5f",
           "arrowhead": 0,
           "arrowwidth": 1
          },
          "autotypenumbers": "strict",
          "coloraxis": {
           "colorbar": {
            "outlinewidth": 0,
            "ticks": ""
           }
          },
          "colorscale": {
           "diverging": [
            [
             0,
             "#8e0152"
            ],
            [
             0.1,
             "#c51b7d"
            ],
            [
             0.2,
             "#de77ae"
            ],
            [
             0.3,
             "#f1b6da"
            ],
            [
             0.4,
             "#fde0ef"
            ],
            [
             0.5,
             "#f7f7f7"
            ],
            [
             0.6,
             "#e6f5d0"
            ],
            [
             0.7,
             "#b8e186"
            ],
            [
             0.8,
             "#7fbc41"
            ],
            [
             0.9,
             "#4d9221"
            ],
            [
             1,
             "#276419"
            ]
           ],
           "sequential": [
            [
             0,
             "#0d0887"
            ],
            [
             0.1111111111111111,
             "#46039f"
            ],
            [
             0.2222222222222222,
             "#7201a8"
            ],
            [
             0.3333333333333333,
             "#9c179e"
            ],
            [
             0.4444444444444444,
             "#bd3786"
            ],
            [
             0.5555555555555556,
             "#d8576b"
            ],
            [
             0.6666666666666666,
             "#ed7953"
            ],
            [
             0.7777777777777778,
             "#fb9f3a"
            ],
            [
             0.8888888888888888,
             "#fdca26"
            ],
            [
             1,
             "#f0f921"
            ]
           ],
           "sequentialminus": [
            [
             0,
             "#0d0887"
            ],
            [
             0.1111111111111111,
             "#46039f"
            ],
            [
             0.2222222222222222,
             "#7201a8"
            ],
            [
             0.3333333333333333,
             "#9c179e"
            ],
            [
             0.4444444444444444,
             "#bd3786"
            ],
            [
             0.5555555555555556,
             "#d8576b"
            ],
            [
             0.6666666666666666,
             "#ed7953"
            ],
            [
             0.7777777777777778,
             "#fb9f3a"
            ],
            [
             0.8888888888888888,
             "#fdca26"
            ],
            [
             1,
             "#f0f921"
            ]
           ]
          },
          "colorway": [
           "#636efa",
           "#EF553B",
           "#00cc96",
           "#ab63fa",
           "#FFA15A",
           "#19d3f3",
           "#FF6692",
           "#B6E880",
           "#FF97FF",
           "#FECB52"
          ],
          "font": {
           "color": "#2a3f5f"
          },
          "geo": {
           "bgcolor": "white",
           "lakecolor": "white",
           "landcolor": "#E5ECF6",
           "showlakes": true,
           "showland": true,
           "subunitcolor": "white"
          },
          "hoverlabel": {
           "align": "left"
          },
          "hovermode": "closest",
          "mapbox": {
           "style": "light"
          },
          "paper_bgcolor": "white",
          "plot_bgcolor": "#E5ECF6",
          "polar": {
           "angularaxis": {
            "gridcolor": "white",
            "linecolor": "white",
            "ticks": ""
           },
           "bgcolor": "#E5ECF6",
           "radialaxis": {
            "gridcolor": "white",
            "linecolor": "white",
            "ticks": ""
           }
          },
          "scene": {
           "xaxis": {
            "backgroundcolor": "#E5ECF6",
            "gridcolor": "white",
            "gridwidth": 2,
            "linecolor": "white",
            "showbackground": true,
            "ticks": "",
            "zerolinecolor": "white"
           },
           "yaxis": {
            "backgroundcolor": "#E5ECF6",
            "gridcolor": "white",
            "gridwidth": 2,
            "linecolor": "white",
            "showbackground": true,
            "ticks": "",
            "zerolinecolor": "white"
           },
           "zaxis": {
            "backgroundcolor": "#E5ECF6",
            "gridcolor": "white",
            "gridwidth": 2,
            "linecolor": "white",
            "showbackground": true,
            "ticks": "",
            "zerolinecolor": "white"
           }
          },
          "shapedefaults": {
           "line": {
            "color": "#2a3f5f"
           }
          },
          "ternary": {
           "aaxis": {
            "gridcolor": "white",
            "linecolor": "white",
            "ticks": ""
           },
           "baxis": {
            "gridcolor": "white",
            "linecolor": "white",
            "ticks": ""
           },
           "bgcolor": "#E5ECF6",
           "caxis": {
            "gridcolor": "white",
            "linecolor": "white",
            "ticks": ""
           }
          },
          "title": {
           "x": 0.05
          },
          "xaxis": {
           "automargin": true,
           "gridcolor": "white",
           "linecolor": "white",
           "ticks": "",
           "title": {
            "standoff": 15
           },
           "zerolinecolor": "white",
           "zerolinewidth": 2
          },
          "yaxis": {
           "automargin": true,
           "gridcolor": "white",
           "linecolor": "white",
           "ticks": "",
           "title": {
            "standoff": 15
           },
           "zerolinecolor": "white",
           "zerolinewidth": 2
          }
         }
        },
        "title": {
         "text": "Employement Among a Sector of Food Service Workers in Rhode Island",
         "x": 0.5
        },
        "width": 1150,
        "xaxis": {
         "anchor": "y",
         "domain": [
          0,
          0.16799999999999998
         ],
         "title": {
          "text": "Year"
         }
        },
        "xaxis2": {
         "anchor": "y2",
         "domain": [
          0.208,
          0.376
         ],
         "title": {
          "text": "Year"
         }
        },
        "xaxis3": {
         "anchor": "y3",
         "domain": [
          0.416,
          0.584
         ],
         "title": {
          "text": "Year"
         }
        },
        "xaxis4": {
         "anchor": "y4",
         "domain": [
          0.624,
          0.792
         ],
         "title": {
          "text": "Year"
         }
        },
        "xaxis5": {
         "anchor": "y5",
         "domain": [
          0.832,
          1
         ],
         "title": {
          "text": "Year"
         }
        },
        "yaxis": {
         "anchor": "x",
         "domain": [
          0,
          1
         ],
         "title": {
          "text": "People"
         }
        },
        "yaxis2": {
         "anchor": "x2",
         "domain": [
          0,
          1
         ]
        },
        "yaxis3": {
         "anchor": "x3",
         "domain": [
          0,
          1
         ]
        },
        "yaxis4": {
         "anchor": "x4",
         "domain": [
          0,
          1
         ]
        },
        "yaxis5": {
         "anchor": "x5",
         "domain": [
          0,
          1
         ]
        }
       }
      }
     },
     "metadata": {},
     "output_type": "display_data"
    }
   ],
   "source": [
    "from plotly.subplots import make_subplots\n",
    "import plotly.graph_objects as go\n",
    "fig = make_subplots(rows=1, cols=5, subplot_titles = ['Total Employement','Mean Hourly Wage', 'Median Hourly Wage', 'Mean Annual Wage', \"Median Annual Wage\"])\n",
    "fig.add_trace(go.Bar(x=df4[\"Years\"],y=df4[\"tot_emp\"]), row=1, col=1)\n",
    "fig.add_trace(go.Bar(x=df4[\"Years\"],y=df4[\"h_mean\"]), row=1, col=2)\n",
    "fig.add_trace(go.Bar(x=df4[\"Years\"],y=df4[\"h_median\"]), row=1, col=3)\n",
    "fig.add_trace(go.Bar(x=df4[\"Years\"],y=df4[\"a_mean\"]), row=1, col=4)\n",
    "fig.add_trace(go.Bar(x=df4[\"Years\"],y=df4[\"a_median\"]), row=1, col=5)\n",
    "fig.update_layout(xaxis_title='Year', xaxis2_title='Year', xaxis3_title='Year', xaxis4_title='Year', xaxis5_title='Year', yaxis_title='People',)\n",
    "fig.update_layout(height=600, width=1150, title_text=\"Employement Among a Sector of Food Service Workers in Rhode Island\", title_x=0.5, showlegend=False)\n",
    "fig.show()"
   ]
  },
  {
   "cell_type": "code",
   "execution_count": 10,
   "metadata": {},
   "outputs": [
    {
     "data": {
      "application/vnd.plotly.v1+json": {
       "config": {
        "plotlyServerURL": "https://plot.ly"
       },
       "data": [
        {
         "type": "bar",
         "x": [
          "2016",
          "2017",
          "2018"
         ],
         "xaxis": "x",
         "y": [
          363400,
          368280,
          368770
         ],
         "yaxis": "y"
        },
        {
         "type": "bar",
         "x": [
          "2016",
          "2017",
          "2018"
         ],
         "xaxis": "x2",
         "y": [
          11.75,
          12,
          13
         ],
         "yaxis": "y2"
        },
        {
         "type": "bar",
         "x": [
          "2016",
          "2017",
          "2018"
         ],
         "xaxis": "x3",
         "y": [
          10,
          10.75,
          11
         ],
         "yaxis": "y3"
        },
        {
         "type": "bar",
         "x": [
          "2016",
          "2017",
          "2018"
         ],
         "xaxis": "x4",
         "y": [
          25187.5,
          26067.5,
          28172.5
         ],
         "yaxis": "y4"
        },
        {
         "type": "bar",
         "x": [
          "2016",
          "2017",
          "2018"
         ],
         "xaxis": "x5",
         "y": [
          21535,
          22957.5,
          24307.5
         ],
         "yaxis": "y5"
        }
       ],
       "layout": {
        "annotations": [
         {
          "font": {
           "size": 16
          },
          "showarrow": false,
          "text": "Total Employement",
          "x": 0.08399999999999999,
          "xanchor": "center",
          "xref": "paper",
          "y": 1,
          "yanchor": "bottom",
          "yref": "paper"
         },
         {
          "font": {
           "size": 16
          },
          "showarrow": false,
          "text": "Mean Hourly Wage ($)",
          "x": 0.292,
          "xanchor": "center",
          "xref": "paper",
          "y": 1,
          "yanchor": "bottom",
          "yref": "paper"
         },
         {
          "font": {
           "size": 16
          },
          "showarrow": false,
          "text": "Median Hourly Wage ($)",
          "x": 0.5,
          "xanchor": "center",
          "xref": "paper",
          "y": 1,
          "yanchor": "bottom",
          "yref": "paper"
         },
         {
          "font": {
           "size": 16
          },
          "showarrow": false,
          "text": "Mean Annual Wage ($)",
          "x": 0.708,
          "xanchor": "center",
          "xref": "paper",
          "y": 1,
          "yanchor": "bottom",
          "yref": "paper"
         },
         {
          "font": {
           "size": 16
          },
          "showarrow": false,
          "text": "Median Annual Wage ($)",
          "x": 0.9159999999999999,
          "xanchor": "center",
          "xref": "paper",
          "y": 1,
          "yanchor": "bottom",
          "yref": "paper"
         }
        ],
        "height": 600,
        "showlegend": false,
        "template": {
         "data": {
          "bar": [
           {
            "error_x": {
             "color": "#2a3f5f"
            },
            "error_y": {
             "color": "#2a3f5f"
            },
            "marker": {
             "line": {
              "color": "#E5ECF6",
              "width": 0.5
             },
             "pattern": {
              "fillmode": "overlay",
              "size": 10,
              "solidity": 0.2
             }
            },
            "type": "bar"
           }
          ],
          "barpolar": [
           {
            "marker": {
             "line": {
              "color": "#E5ECF6",
              "width": 0.5
             },
             "pattern": {
              "fillmode": "overlay",
              "size": 10,
              "solidity": 0.2
             }
            },
            "type": "barpolar"
           }
          ],
          "carpet": [
           {
            "aaxis": {
             "endlinecolor": "#2a3f5f",
             "gridcolor": "white",
             "linecolor": "white",
             "minorgridcolor": "white",
             "startlinecolor": "#2a3f5f"
            },
            "baxis": {
             "endlinecolor": "#2a3f5f",
             "gridcolor": "white",
             "linecolor": "white",
             "minorgridcolor": "white",
             "startlinecolor": "#2a3f5f"
            },
            "type": "carpet"
           }
          ],
          "choropleth": [
           {
            "colorbar": {
             "outlinewidth": 0,
             "ticks": ""
            },
            "type": "choropleth"
           }
          ],
          "contour": [
           {
            "colorbar": {
             "outlinewidth": 0,
             "ticks": ""
            },
            "colorscale": [
             [
              0,
              "#0d0887"
             ],
             [
              0.1111111111111111,
              "#46039f"
             ],
             [
              0.2222222222222222,
              "#7201a8"
             ],
             [
              0.3333333333333333,
              "#9c179e"
             ],
             [
              0.4444444444444444,
              "#bd3786"
             ],
             [
              0.5555555555555556,
              "#d8576b"
             ],
             [
              0.6666666666666666,
              "#ed7953"
             ],
             [
              0.7777777777777778,
              "#fb9f3a"
             ],
             [
              0.8888888888888888,
              "#fdca26"
             ],
             [
              1,
              "#f0f921"
             ]
            ],
            "type": "contour"
           }
          ],
          "contourcarpet": [
           {
            "colorbar": {
             "outlinewidth": 0,
             "ticks": ""
            },
            "type": "contourcarpet"
           }
          ],
          "heatmap": [
           {
            "colorbar": {
             "outlinewidth": 0,
             "ticks": ""
            },
            "colorscale": [
             [
              0,
              "#0d0887"
             ],
             [
              0.1111111111111111,
              "#46039f"
             ],
             [
              0.2222222222222222,
              "#7201a8"
             ],
             [
              0.3333333333333333,
              "#9c179e"
             ],
             [
              0.4444444444444444,
              "#bd3786"
             ],
             [
              0.5555555555555556,
              "#d8576b"
             ],
             [
              0.6666666666666666,
              "#ed7953"
             ],
             [
              0.7777777777777778,
              "#fb9f3a"
             ],
             [
              0.8888888888888888,
              "#fdca26"
             ],
             [
              1,
              "#f0f921"
             ]
            ],
            "type": "heatmap"
           }
          ],
          "heatmapgl": [
           {
            "colorbar": {
             "outlinewidth": 0,
             "ticks": ""
            },
            "colorscale": [
             [
              0,
              "#0d0887"
             ],
             [
              0.1111111111111111,
              "#46039f"
             ],
             [
              0.2222222222222222,
              "#7201a8"
             ],
             [
              0.3333333333333333,
              "#9c179e"
             ],
             [
              0.4444444444444444,
              "#bd3786"
             ],
             [
              0.5555555555555556,
              "#d8576b"
             ],
             [
              0.6666666666666666,
              "#ed7953"
             ],
             [
              0.7777777777777778,
              "#fb9f3a"
             ],
             [
              0.8888888888888888,
              "#fdca26"
             ],
             [
              1,
              "#f0f921"
             ]
            ],
            "type": "heatmapgl"
           }
          ],
          "histogram": [
           {
            "marker": {
             "pattern": {
              "fillmode": "overlay",
              "size": 10,
              "solidity": 0.2
             }
            },
            "type": "histogram"
           }
          ],
          "histogram2d": [
           {
            "colorbar": {
             "outlinewidth": 0,
             "ticks": ""
            },
            "colorscale": [
             [
              0,
              "#0d0887"
             ],
             [
              0.1111111111111111,
              "#46039f"
             ],
             [
              0.2222222222222222,
              "#7201a8"
             ],
             [
              0.3333333333333333,
              "#9c179e"
             ],
             [
              0.4444444444444444,
              "#bd3786"
             ],
             [
              0.5555555555555556,
              "#d8576b"
             ],
             [
              0.6666666666666666,
              "#ed7953"
             ],
             [
              0.7777777777777778,
              "#fb9f3a"
             ],
             [
              0.8888888888888888,
              "#fdca26"
             ],
             [
              1,
              "#f0f921"
             ]
            ],
            "type": "histogram2d"
           }
          ],
          "histogram2dcontour": [
           {
            "colorbar": {
             "outlinewidth": 0,
             "ticks": ""
            },
            "colorscale": [
             [
              0,
              "#0d0887"
             ],
             [
              0.1111111111111111,
              "#46039f"
             ],
             [
              0.2222222222222222,
              "#7201a8"
             ],
             [
              0.3333333333333333,
              "#9c179e"
             ],
             [
              0.4444444444444444,
              "#bd3786"
             ],
             [
              0.5555555555555556,
              "#d8576b"
             ],
             [
              0.6666666666666666,
              "#ed7953"
             ],
             [
              0.7777777777777778,
              "#fb9f3a"
             ],
             [
              0.8888888888888888,
              "#fdca26"
             ],
             [
              1,
              "#f0f921"
             ]
            ],
            "type": "histogram2dcontour"
           }
          ],
          "mesh3d": [
           {
            "colorbar": {
             "outlinewidth": 0,
             "ticks": ""
            },
            "type": "mesh3d"
           }
          ],
          "parcoords": [
           {
            "line": {
             "colorbar": {
              "outlinewidth": 0,
              "ticks": ""
             }
            },
            "type": "parcoords"
           }
          ],
          "pie": [
           {
            "automargin": true,
            "type": "pie"
           }
          ],
          "scatter": [
           {
            "fillpattern": {
             "fillmode": "overlay",
             "size": 10,
             "solidity": 0.2
            },
            "type": "scatter"
           }
          ],
          "scatter3d": [
           {
            "line": {
             "colorbar": {
              "outlinewidth": 0,
              "ticks": ""
             }
            },
            "marker": {
             "colorbar": {
              "outlinewidth": 0,
              "ticks": ""
             }
            },
            "type": "scatter3d"
           }
          ],
          "scattercarpet": [
           {
            "marker": {
             "colorbar": {
              "outlinewidth": 0,
              "ticks": ""
             }
            },
            "type": "scattercarpet"
           }
          ],
          "scattergeo": [
           {
            "marker": {
             "colorbar": {
              "outlinewidth": 0,
              "ticks": ""
             }
            },
            "type": "scattergeo"
           }
          ],
          "scattergl": [
           {
            "marker": {
             "colorbar": {
              "outlinewidth": 0,
              "ticks": ""
             }
            },
            "type": "scattergl"
           }
          ],
          "scattermapbox": [
           {
            "marker": {
             "colorbar": {
              "outlinewidth": 0,
              "ticks": ""
             }
            },
            "type": "scattermapbox"
           }
          ],
          "scatterpolar": [
           {
            "marker": {
             "colorbar": {
              "outlinewidth": 0,
              "ticks": ""
             }
            },
            "type": "scatterpolar"
           }
          ],
          "scatterpolargl": [
           {
            "marker": {
             "colorbar": {
              "outlinewidth": 0,
              "ticks": ""
             }
            },
            "type": "scatterpolargl"
           }
          ],
          "scatterternary": [
           {
            "marker": {
             "colorbar": {
              "outlinewidth": 0,
              "ticks": ""
             }
            },
            "type": "scatterternary"
           }
          ],
          "surface": [
           {
            "colorbar": {
             "outlinewidth": 0,
             "ticks": ""
            },
            "colorscale": [
             [
              0,
              "#0d0887"
             ],
             [
              0.1111111111111111,
              "#46039f"
             ],
             [
              0.2222222222222222,
              "#7201a8"
             ],
             [
              0.3333333333333333,
              "#9c179e"
             ],
             [
              0.4444444444444444,
              "#bd3786"
             ],
             [
              0.5555555555555556,
              "#d8576b"
             ],
             [
              0.6666666666666666,
              "#ed7953"
             ],
             [
              0.7777777777777778,
              "#fb9f3a"
             ],
             [
              0.8888888888888888,
              "#fdca26"
             ],
             [
              1,
              "#f0f921"
             ]
            ],
            "type": "surface"
           }
          ],
          "table": [
           {
            "cells": {
             "fill": {
              "color": "#EBF0F8"
             },
             "line": {
              "color": "white"
             }
            },
            "header": {
             "fill": {
              "color": "#C8D4E3"
             },
             "line": {
              "color": "white"
             }
            },
            "type": "table"
           }
          ]
         },
         "layout": {
          "annotationdefaults": {
           "arrowcolor": "#2a3f5f",
           "arrowhead": 0,
           "arrowwidth": 1
          },
          "autotypenumbers": "strict",
          "coloraxis": {
           "colorbar": {
            "outlinewidth": 0,
            "ticks": ""
           }
          },
          "colorscale": {
           "diverging": [
            [
             0,
             "#8e0152"
            ],
            [
             0.1,
             "#c51b7d"
            ],
            [
             0.2,
             "#de77ae"
            ],
            [
             0.3,
             "#f1b6da"
            ],
            [
             0.4,
             "#fde0ef"
            ],
            [
             0.5,
             "#f7f7f7"
            ],
            [
             0.6,
             "#e6f5d0"
            ],
            [
             0.7,
             "#b8e186"
            ],
            [
             0.8,
             "#7fbc41"
            ],
            [
             0.9,
             "#4d9221"
            ],
            [
             1,
             "#276419"
            ]
           ],
           "sequential": [
            [
             0,
             "#0d0887"
            ],
            [
             0.1111111111111111,
             "#46039f"
            ],
            [
             0.2222222222222222,
             "#7201a8"
            ],
            [
             0.3333333333333333,
             "#9c179e"
            ],
            [
             0.4444444444444444,
             "#bd3786"
            ],
            [
             0.5555555555555556,
             "#d8576b"
            ],
            [
             0.6666666666666666,
             "#ed7953"
            ],
            [
             0.7777777777777778,
             "#fb9f3a"
            ],
            [
             0.8888888888888888,
             "#fdca26"
            ],
            [
             1,
             "#f0f921"
            ]
           ],
           "sequentialminus": [
            [
             0,
             "#0d0887"
            ],
            [
             0.1111111111111111,
             "#46039f"
            ],
            [
             0.2222222222222222,
             "#7201a8"
            ],
            [
             0.3333333333333333,
             "#9c179e"
            ],
            [
             0.4444444444444444,
             "#bd3786"
            ],
            [
             0.5555555555555556,
             "#d8576b"
            ],
            [
             0.6666666666666666,
             "#ed7953"
            ],
            [
             0.7777777777777778,
             "#fb9f3a"
            ],
            [
             0.8888888888888888,
             "#fdca26"
            ],
            [
             1,
             "#f0f921"
            ]
           ]
          },
          "colorway": [
           "#636efa",
           "#EF553B",
           "#00cc96",
           "#ab63fa",
           "#FFA15A",
           "#19d3f3",
           "#FF6692",
           "#B6E880",
           "#FF97FF",
           "#FECB52"
          ],
          "font": {
           "color": "#2a3f5f"
          },
          "geo": {
           "bgcolor": "white",
           "lakecolor": "white",
           "landcolor": "#E5ECF6",
           "showlakes": true,
           "showland": true,
           "subunitcolor": "white"
          },
          "hoverlabel": {
           "align": "left"
          },
          "hovermode": "closest",
          "mapbox": {
           "style": "light"
          },
          "paper_bgcolor": "white",
          "plot_bgcolor": "#E5ECF6",
          "polar": {
           "angularaxis": {
            "gridcolor": "white",
            "linecolor": "white",
            "ticks": ""
           },
           "bgcolor": "#E5ECF6",
           "radialaxis": {
            "gridcolor": "white",
            "linecolor": "white",
            "ticks": ""
           }
          },
          "scene": {
           "xaxis": {
            "backgroundcolor": "#E5ECF6",
            "gridcolor": "white",
            "gridwidth": 2,
            "linecolor": "white",
            "showbackground": true,
            "ticks": "",
            "zerolinecolor": "white"
           },
           "yaxis": {
            "backgroundcolor": "#E5ECF6",
            "gridcolor": "white",
            "gridwidth": 2,
            "linecolor": "white",
            "showbackground": true,
            "ticks": "",
            "zerolinecolor": "white"
           },
           "zaxis": {
            "backgroundcolor": "#E5ECF6",
            "gridcolor": "white",
            "gridwidth": 2,
            "linecolor": "white",
            "showbackground": true,
            "ticks": "",
            "zerolinecolor": "white"
           }
          },
          "shapedefaults": {
           "line": {
            "color": "#2a3f5f"
           }
          },
          "ternary": {
           "aaxis": {
            "gridcolor": "white",
            "linecolor": "white",
            "ticks": ""
           },
           "baxis": {
            "gridcolor": "white",
            "linecolor": "white",
            "ticks": ""
           },
           "bgcolor": "#E5ECF6",
           "caxis": {
            "gridcolor": "white",
            "linecolor": "white",
            "ticks": ""
           }
          },
          "title": {
           "x": 0.05
          },
          "xaxis": {
           "automargin": true,
           "gridcolor": "white",
           "linecolor": "white",
           "ticks": "",
           "title": {
            "standoff": 15
           },
           "zerolinecolor": "white",
           "zerolinewidth": 2
          },
          "yaxis": {
           "automargin": true,
           "gridcolor": "white",
           "linecolor": "white",
           "ticks": "",
           "title": {
            "standoff": 15
           },
           "zerolinecolor": "white",
           "zerolinewidth": 2
          }
         }
        },
        "title": {
         "text": "Employement Among a Sector of Food Service Workers in Connecticut",
         "x": 0.5
        },
        "width": 1150,
        "xaxis": {
         "anchor": "y",
         "domain": [
          0,
          0.16799999999999998
         ],
         "title": {
          "text": "Year"
         }
        },
        "xaxis2": {
         "anchor": "y2",
         "domain": [
          0.208,
          0.376
         ],
         "title": {
          "text": "Year"
         }
        },
        "xaxis3": {
         "anchor": "y3",
         "domain": [
          0.416,
          0.584
         ],
         "title": {
          "text": "Year"
         }
        },
        "xaxis4": {
         "anchor": "y4",
         "domain": [
          0.624,
          0.792
         ],
         "title": {
          "text": "Year"
         }
        },
        "xaxis5": {
         "anchor": "y5",
         "domain": [
          0.832,
          1
         ],
         "title": {
          "text": "Year"
         }
        },
        "yaxis": {
         "anchor": "x",
         "domain": [
          0,
          1
         ],
         "title": {
          "text": "People"
         }
        },
        "yaxis2": {
         "anchor": "x2",
         "domain": [
          0,
          1
         ]
        },
        "yaxis3": {
         "anchor": "x3",
         "domain": [
          0,
          1
         ]
        },
        "yaxis4": {
         "anchor": "x4",
         "domain": [
          0,
          1
         ]
        },
        "yaxis5": {
         "anchor": "x5",
         "domain": [
          0,
          1
         ]
        }
       }
      }
     },
     "metadata": {},
     "output_type": "display_data"
    }
   ],
   "source": [
    "from plotly.subplots import make_subplots\n",
    "import plotly.graph_objects as go\n",
    "fig = make_subplots(rows=1, cols=5, subplot_titles = ['Total Employement','Mean Hourly Wage ($)', 'Median Hourly Wage ($)', 'Mean Annual Wage ($)', \"Median Annual Wage ($)\"])\n",
    "fig.add_trace(go.Bar(x=df5[\"Years\"],y=df5[\"tot_emp\"]), row=1, col=1)\n",
    "fig.add_trace(go.Bar(x=df5[\"Years\"],y=df5[\"h_mean\"]), row=1, col=2)\n",
    "fig.add_trace(go.Bar(x=df5[\"Years\"],y=df5[\"h_median\"]), row=1, col=3)\n",
    "fig.add_trace(go.Bar(x=df5[\"Years\"],y=df5[\"a_mean\"]), row=1, col=4)\n",
    "fig.add_trace(go.Bar(x=df5[\"Years\"],y=df5[\"a_median\"]), row=1, col=5)\n",
    "fig.update_layout(xaxis_title='Year', xaxis2_title='Year', xaxis3_title='Year', xaxis4_title='Year', xaxis5_title='Year', yaxis1_title='People')\n",
    "fig.update_layout(height=600, width=1150, title_text=\"Employement Among a Sector of Food Service Workers in Connecticut\", title_x=0.5, showlegend=False)\n",
    "fig.show()"
   ]
  }
 ],
 "metadata": {
  "kernelspec": {
   "display_name": "Kumar_Summer_24",
   "language": "python",
   "name": "python3"
  },
  "language_info": {
   "codemirror_mode": {
    "name": "ipython",
    "version": 3
   },
   "file_extension": ".py",
   "mimetype": "text/x-python",
   "name": "python",
   "nbconvert_exporter": "python",
   "pygments_lexer": "ipython3",
   "version": "3.13.2"
  }
 },
 "nbformat": 4,
 "nbformat_minor": 2
}
