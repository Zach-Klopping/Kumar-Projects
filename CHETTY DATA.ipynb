{
 "cells": [
  {
   "cell_type": "code",
   "execution_count": 19,
   "metadata": {},
   "outputs": [
    {
     "data": {
      "text/html": [
       "<div>\n",
       "<style scoped>\n",
       "    .dataframe tbody tr th:only-of-type {\n",
       "        vertical-align: middle;\n",
       "    }\n",
       "\n",
       "    .dataframe tbody tr th {\n",
       "        vertical-align: top;\n",
       "    }\n",
       "\n",
       "    .dataframe thead th {\n",
       "        text-align: right;\n",
       "    }\n",
       "</style>\n",
       "<table border=\"1\" class=\"dataframe\">\n",
       "  <thead>\n",
       "    <tr style=\"text-align: right;\">\n",
       "      <th></th>\n",
       "      <th>super_opeid</th>\n",
       "      <th>name</th>\n",
       "      <th>region</th>\n",
       "      <th>state</th>\n",
       "      <th>fips</th>\n",
       "      <th>cz</th>\n",
       "      <th>czname</th>\n",
       "      <th>cfips</th>\n",
       "      <th>county</th>\n",
       "      <th>zip</th>\n",
       "      <th>...</th>\n",
       "      <th>hisp_share_fall_2000</th>\n",
       "      <th>alien_share_fall_2000</th>\n",
       "      <th>pct_arthuman_2000</th>\n",
       "      <th>pct_business_2000</th>\n",
       "      <th>pct_health_2000</th>\n",
       "      <th>pct_multidisci_2000</th>\n",
       "      <th>pct_publicsocial_2000</th>\n",
       "      <th>pct_stem_2000</th>\n",
       "      <th>pct_socialscience_2000</th>\n",
       "      <th>pct_tradepersonal_2000</th>\n",
       "    </tr>\n",
       "  </thead>\n",
       "  <tbody>\n",
       "    <tr>\n",
       "      <th>0</th>\n",
       "      <td>30955</td>\n",
       "      <td>ASA Institute Of Business &amp; Computer Technology</td>\n",
       "      <td>1</td>\n",
       "      <td>NY</td>\n",
       "      <td>36</td>\n",
       "      <td>19400</td>\n",
       "      <td>New York</td>\n",
       "      <td>36047</td>\n",
       "      <td>Kings</td>\n",
       "      <td>11201</td>\n",
       "      <td>...</td>\n",
       "      <td>0.073324</td>\n",
       "      <td>0.071229</td>\n",
       "      <td>0.000000</td>\n",
       "      <td>6.603774</td>\n",
       "      <td>11.425576</td>\n",
       "      <td>0.000000</td>\n",
       "      <td>0.000000</td>\n",
       "      <td>81.970650</td>\n",
       "      <td>0.000000</td>\n",
       "      <td>0.000000</td>\n",
       "    </tr>\n",
       "    <tr>\n",
       "      <th>1</th>\n",
       "      <td>3537</td>\n",
       "      <td>Abilene Christian University</td>\n",
       "      <td>3</td>\n",
       "      <td>TX</td>\n",
       "      <td>48</td>\n",
       "      <td>32501</td>\n",
       "      <td>Abilene</td>\n",
       "      <td>48441</td>\n",
       "      <td>Taylor</td>\n",
       "      <td>79699</td>\n",
       "      <td>...</td>\n",
       "      <td>0.056724</td>\n",
       "      <td>0.039943</td>\n",
       "      <td>10.785619</td>\n",
       "      <td>22.503330</td>\n",
       "      <td>5.059920</td>\n",
       "      <td>9.720373</td>\n",
       "      <td>8.788282</td>\n",
       "      <td>11.318242</td>\n",
       "      <td>31.691078</td>\n",
       "      <td>0.133156</td>\n",
       "    </tr>\n",
       "    <tr>\n",
       "      <th>2</th>\n",
       "      <td>1541</td>\n",
       "      <td>Abraham Baldwin Agricultural College</td>\n",
       "      <td>3</td>\n",
       "      <td>GA</td>\n",
       "      <td>13</td>\n",
       "      <td>8503</td>\n",
       "      <td>Valdosta</td>\n",
       "      <td>13277</td>\n",
       "      <td>Tift</td>\n",
       "      <td>31793</td>\n",
       "      <td>...</td>\n",
       "      <td>0.016730</td>\n",
       "      <td>0.013688</td>\n",
       "      <td>0.000000</td>\n",
       "      <td>4.100228</td>\n",
       "      <td>12.072893</td>\n",
       "      <td>47.152618</td>\n",
       "      <td>6.378132</td>\n",
       "      <td>29.612757</td>\n",
       "      <td>0.000000</td>\n",
       "      <td>0.683371</td>\n",
       "    </tr>\n",
       "    <tr>\n",
       "      <th>3</th>\n",
       "      <td>7531</td>\n",
       "      <td>Academy Of Art University</td>\n",
       "      <td>4</td>\n",
       "      <td>CA</td>\n",
       "      <td>6</td>\n",
       "      <td>37800</td>\n",
       "      <td>San Francisco</td>\n",
       "      <td>6075</td>\n",
       "      <td>San Francisco</td>\n",
       "      <td>94105</td>\n",
       "      <td>...</td>\n",
       "      <td>0.205893</td>\n",
       "      <td>0.271817</td>\n",
       "      <td>96.091957</td>\n",
       "      <td>0.000000</td>\n",
       "      <td>0.000000</td>\n",
       "      <td>0.000000</td>\n",
       "      <td>0.000000</td>\n",
       "      <td>0.000000</td>\n",
       "      <td>3.908046</td>\n",
       "      <td>0.000000</td>\n",
       "    </tr>\n",
       "    <tr>\n",
       "      <th>4</th>\n",
       "      <td>1345</td>\n",
       "      <td>Adams State University</td>\n",
       "      <td>4</td>\n",
       "      <td>CO</td>\n",
       "      <td>8</td>\n",
       "      <td>34805</td>\n",
       "      <td>Alamosa</td>\n",
       "      <td>8003</td>\n",
       "      <td>Alamosa</td>\n",
       "      <td>81101</td>\n",
       "      <td>...</td>\n",
       "      <td>0.275481</td>\n",
       "      <td>0.002404</td>\n",
       "      <td>10.850440</td>\n",
       "      <td>24.046921</td>\n",
       "      <td>0.000000</td>\n",
       "      <td>33.431084</td>\n",
       "      <td>0.000000</td>\n",
       "      <td>13.489737</td>\n",
       "      <td>18.181818</td>\n",
       "      <td>0.000000</td>\n",
       "    </tr>\n",
       "    <tr>\n",
       "      <th>...</th>\n",
       "      <td>...</td>\n",
       "      <td>...</td>\n",
       "      <td>...</td>\n",
       "      <td>...</td>\n",
       "      <td>...</td>\n",
       "      <td>...</td>\n",
       "      <td>...</td>\n",
       "      <td>...</td>\n",
       "      <td>...</td>\n",
       "      <td>...</td>\n",
       "      <td>...</td>\n",
       "      <td>...</td>\n",
       "      <td>...</td>\n",
       "      <td>...</td>\n",
       "      <td>...</td>\n",
       "      <td>...</td>\n",
       "      <td>...</td>\n",
       "      <td>...</td>\n",
       "      <td>...</td>\n",
       "      <td>...</td>\n",
       "      <td>...</td>\n",
       "    </tr>\n",
       "    <tr>\n",
       "      <th>2458</th>\n",
       "      <td>208</td>\n",
       "      <td>Yosemite Community College District</td>\n",
       "      <td>4</td>\n",
       "      <td>CA</td>\n",
       "      <td>6</td>\n",
       "      <td>37000</td>\n",
       "      <td>Modesto</td>\n",
       "      <td>6099</td>\n",
       "      <td>Stanislaus</td>\n",
       "      <td>95350</td>\n",
       "      <td>...</td>\n",
       "      <td>0.225970</td>\n",
       "      <td>0.003514</td>\n",
       "      <td>4.885993</td>\n",
       "      <td>17.003258</td>\n",
       "      <td>6.905538</td>\n",
       "      <td>38.566772</td>\n",
       "      <td>8.990228</td>\n",
       "      <td>7.361564</td>\n",
       "      <td>5.993486</td>\n",
       "      <td>10.293159</td>\n",
       "    </tr>\n",
       "    <tr>\n",
       "      <th>2459</th>\n",
       "      <td>1604</td>\n",
       "      <td>Young Harris College</td>\n",
       "      <td>3</td>\n",
       "      <td>GA</td>\n",
       "      <td>13</td>\n",
       "      <td>1204</td>\n",
       "      <td>Andrews</td>\n",
       "      <td>13281</td>\n",
       "      <td>Towns</td>\n",
       "      <td>30582</td>\n",
       "      <td>...</td>\n",
       "      <td>0.012903</td>\n",
       "      <td>0.014516</td>\n",
       "      <td>8.196721</td>\n",
       "      <td>16.393442</td>\n",
       "      <td>9.836065</td>\n",
       "      <td>52.459015</td>\n",
       "      <td>0.000000</td>\n",
       "      <td>0.000000</td>\n",
       "      <td>13.114754</td>\n",
       "      <td>0.000000</td>\n",
       "    </tr>\n",
       "    <tr>\n",
       "      <th>2460</th>\n",
       "      <td>3145</td>\n",
       "      <td>Youngstown State University</td>\n",
       "      <td>2</td>\n",
       "      <td>OH</td>\n",
       "      <td>39</td>\n",
       "      <td>16400</td>\n",
       "      <td>Youngstown</td>\n",
       "      <td>39099</td>\n",
       "      <td>Mahoning</td>\n",
       "      <td>44555</td>\n",
       "      <td>...</td>\n",
       "      <td>0.017327</td>\n",
       "      <td>0.007439</td>\n",
       "      <td>9.700176</td>\n",
       "      <td>19.282776</td>\n",
       "      <td>11.111111</td>\n",
       "      <td>2.763081</td>\n",
       "      <td>10.699589</td>\n",
       "      <td>20.517342</td>\n",
       "      <td>25.808348</td>\n",
       "      <td>0.117578</td>\n",
       "    </tr>\n",
       "    <tr>\n",
       "      <th>2461</th>\n",
       "      <td>42</td>\n",
       "      <td>Yuba Community College District</td>\n",
       "      <td>4</td>\n",
       "      <td>CA</td>\n",
       "      <td>6</td>\n",
       "      <td>37300</td>\n",
       "      <td>Chico</td>\n",
       "      <td>6115</td>\n",
       "      <td>Yuba</td>\n",
       "      <td>95901</td>\n",
       "      <td>...</td>\n",
       "      <td>0.226032</td>\n",
       "      <td>0.000971</td>\n",
       "      <td>0.728745</td>\n",
       "      <td>24.372469</td>\n",
       "      <td>15.465587</td>\n",
       "      <td>28.097166</td>\n",
       "      <td>18.704453</td>\n",
       "      <td>3.967611</td>\n",
       "      <td>0.971660</td>\n",
       "      <td>7.692308</td>\n",
       "    </tr>\n",
       "    <tr>\n",
       "      <th>2462</th>\n",
       "      <td>8133</td>\n",
       "      <td>Zane State College</td>\n",
       "      <td>2</td>\n",
       "      <td>OH</td>\n",
       "      <td>39</td>\n",
       "      <td>15400</td>\n",
       "      <td>Zanesville</td>\n",
       "      <td>39119</td>\n",
       "      <td>Muskingum</td>\n",
       "      <td>43701</td>\n",
       "      <td>...</td>\n",
       "      <td>0.006322</td>\n",
       "      <td>0.000000</td>\n",
       "      <td>2.397260</td>\n",
       "      <td>38.356163</td>\n",
       "      <td>26.712328</td>\n",
       "      <td>3.082192</td>\n",
       "      <td>10.616438</td>\n",
       "      <td>13.356165</td>\n",
       "      <td>0.000000</td>\n",
       "      <td>5.479452</td>\n",
       "    </tr>\n",
       "  </tbody>\n",
       "</table>\n",
       "<p>2427 rows × 49 columns</p>\n",
       "</div>"
      ],
      "text/plain": [
       "      super_opeid                                             name  region  \\\n",
       "0           30955  ASA Institute Of Business & Computer Technology       1   \n",
       "1            3537                     Abilene Christian University       3   \n",
       "2            1541             Abraham Baldwin Agricultural College       3   \n",
       "3            7531                        Academy Of Art University       4   \n",
       "4            1345                           Adams State University       4   \n",
       "...           ...                                              ...     ...   \n",
       "2458          208              Yosemite Community College District       4   \n",
       "2459         1604                             Young Harris College       3   \n",
       "2460         3145                      Youngstown State University       2   \n",
       "2461           42                  Yuba Community College District       4   \n",
       "2462         8133                               Zane State College       2   \n",
       "\n",
       "     state  fips     cz         czname  cfips         county    zip  ...  \\\n",
       "0       NY    36  19400       New York  36047          Kings  11201  ...   \n",
       "1       TX    48  32501        Abilene  48441         Taylor  79699  ...   \n",
       "2       GA    13   8503       Valdosta  13277           Tift  31793  ...   \n",
       "3       CA     6  37800  San Francisco   6075  San Francisco  94105  ...   \n",
       "4       CO     8  34805        Alamosa   8003        Alamosa  81101  ...   \n",
       "...    ...   ...    ...            ...    ...            ...    ...  ...   \n",
       "2458    CA     6  37000        Modesto   6099     Stanislaus  95350  ...   \n",
       "2459    GA    13   1204        Andrews  13281          Towns  30582  ...   \n",
       "2460    OH    39  16400     Youngstown  39099       Mahoning  44555  ...   \n",
       "2461    CA     6  37300          Chico   6115           Yuba  95901  ...   \n",
       "2462    OH    39  15400     Zanesville  39119      Muskingum  43701  ...   \n",
       "\n",
       "      hisp_share_fall_2000 alien_share_fall_2000  pct_arthuman_2000  \\\n",
       "0                 0.073324              0.071229           0.000000   \n",
       "1                 0.056724              0.039943          10.785619   \n",
       "2                 0.016730              0.013688           0.000000   \n",
       "3                 0.205893              0.271817          96.091957   \n",
       "4                 0.275481              0.002404          10.850440   \n",
       "...                    ...                   ...                ...   \n",
       "2458              0.225970              0.003514           4.885993   \n",
       "2459              0.012903              0.014516           8.196721   \n",
       "2460              0.017327              0.007439           9.700176   \n",
       "2461              0.226032              0.000971           0.728745   \n",
       "2462              0.006322              0.000000           2.397260   \n",
       "\n",
       "      pct_business_2000  pct_health_2000  pct_multidisci_2000  \\\n",
       "0              6.603774        11.425576             0.000000   \n",
       "1             22.503330         5.059920             9.720373   \n",
       "2              4.100228        12.072893            47.152618   \n",
       "3              0.000000         0.000000             0.000000   \n",
       "4             24.046921         0.000000            33.431084   \n",
       "...                 ...              ...                  ...   \n",
       "2458          17.003258         6.905538            38.566772   \n",
       "2459          16.393442         9.836065            52.459015   \n",
       "2460          19.282776        11.111111             2.763081   \n",
       "2461          24.372469        15.465587            28.097166   \n",
       "2462          38.356163        26.712328             3.082192   \n",
       "\n",
       "      pct_publicsocial_2000  pct_stem_2000  pct_socialscience_2000  \\\n",
       "0                  0.000000      81.970650                0.000000   \n",
       "1                  8.788282      11.318242               31.691078   \n",
       "2                  6.378132      29.612757                0.000000   \n",
       "3                  0.000000       0.000000                3.908046   \n",
       "4                  0.000000      13.489737               18.181818   \n",
       "...                     ...            ...                     ...   \n",
       "2458               8.990228       7.361564                5.993486   \n",
       "2459               0.000000       0.000000               13.114754   \n",
       "2460              10.699589      20.517342               25.808348   \n",
       "2461              18.704453       3.967611                0.971660   \n",
       "2462              10.616438      13.356165                0.000000   \n",
       "\n",
       "      pct_tradepersonal_2000  \n",
       "0                   0.000000  \n",
       "1                   0.133156  \n",
       "2                   0.683371  \n",
       "3                   0.000000  \n",
       "4                   0.000000  \n",
       "...                      ...  \n",
       "2458               10.293159  \n",
       "2459                0.000000  \n",
       "2460                0.117578  \n",
       "2461                7.692308  \n",
       "2462                5.479452  \n",
       "\n",
       "[2427 rows x 49 columns]"
      ]
     },
     "execution_count": 19,
     "metadata": {},
     "output_type": "execute_result"
    }
   ],
   "source": [
    "import pandas as pd\n",
    "import plotly.express as px\n",
    "from scipy import stats\n",
    "import matplotlib.pyplot as plt\n",
    "file= open(\"Chetty Table.csv\", \"r\")\n",
    "df = pd.read_csv(\"Chetty Table.csv\")\n",
    "df = df[df.barrons != 9]\n",
    "df"
   ]
  },
  {
   "cell_type": "code",
   "execution_count": 26,
   "metadata": {},
   "outputs": [
    {
     "data": {
      "text/html": [
       "<div>\n",
       "<style scoped>\n",
       "    .dataframe tbody tr th:only-of-type {\n",
       "        vertical-align: middle;\n",
       "    }\n",
       "\n",
       "    .dataframe tbody tr th {\n",
       "        vertical-align: top;\n",
       "    }\n",
       "\n",
       "    .dataframe thead th {\n",
       "        text-align: right;\n",
       "    }\n",
       "</style>\n",
       "<table border=\"1\" class=\"dataframe\">\n",
       "  <thead>\n",
       "    <tr style=\"text-align: right;\">\n",
       "      <th></th>\n",
       "      <th>name</th>\n",
       "      <th>sat_avg_2001</th>\n",
       "      <th>scorecard_median_earnings_2011</th>\n",
       "      <th>barrons</th>\n",
       "      <th>scorecard_rej_rate_2013</th>\n",
       "      <th>tier</th>\n",
       "    </tr>\n",
       "  </thead>\n",
       "  <tbody>\n",
       "    <tr>\n",
       "      <th>1</th>\n",
       "      <td>Abilene Christian University</td>\n",
       "      <td>1100.0</td>\n",
       "      <td>40200.0</td>\n",
       "      <td>3</td>\n",
       "      <td>0.5106</td>\n",
       "      <td>6</td>\n",
       "    </tr>\n",
       "    <tr>\n",
       "      <th>5</th>\n",
       "      <td>Adelphi University</td>\n",
       "      <td>1065.0</td>\n",
       "      <td>50600.0</td>\n",
       "      <td>4</td>\n",
       "      <td>0.3186</td>\n",
       "      <td>6</td>\n",
       "    </tr>\n",
       "    <tr>\n",
       "      <th>11</th>\n",
       "      <td>Agnes Scott College</td>\n",
       "      <td>1185.0</td>\n",
       "      <td>39400.0</td>\n",
       "      <td>2</td>\n",
       "      <td>0.3313</td>\n",
       "      <td>4</td>\n",
       "    </tr>\n",
       "    <tr>\n",
       "      <th>16</th>\n",
       "      <td>Alabama State University</td>\n",
       "      <td>800.0</td>\n",
       "      <td>27800.0</td>\n",
       "      <td>4</td>\n",
       "      <td>0.4875</td>\n",
       "      <td>5</td>\n",
       "    </tr>\n",
       "    <tr>\n",
       "      <th>20</th>\n",
       "      <td>Albany State University</td>\n",
       "      <td>900.0</td>\n",
       "      <td>32700.0</td>\n",
       "      <td>4</td>\n",
       "      <td>0.8008</td>\n",
       "      <td>5</td>\n",
       "    </tr>\n",
       "    <tr>\n",
       "      <th>...</th>\n",
       "      <td>...</td>\n",
       "      <td>...</td>\n",
       "      <td>...</td>\n",
       "      <td>...</td>\n",
       "      <td>...</td>\n",
       "      <td>...</td>\n",
       "    </tr>\n",
       "    <tr>\n",
       "      <th>2449</th>\n",
       "      <td>Xavier University Of Louisiana</td>\n",
       "      <td>980.0</td>\n",
       "      <td>46500.0</td>\n",
       "      <td>4</td>\n",
       "      <td>0.4557</td>\n",
       "      <td>6</td>\n",
       "    </tr>\n",
       "    <tr>\n",
       "      <th>2452</th>\n",
       "      <td>Yale University</td>\n",
       "      <td>1405.0</td>\n",
       "      <td>66000.0</td>\n",
       "      <td>1</td>\n",
       "      <td>0.9295</td>\n",
       "      <td>1</td>\n",
       "    </tr>\n",
       "    <tr>\n",
       "      <th>2454</th>\n",
       "      <td>Yeshiva University</td>\n",
       "      <td>1205.0</td>\n",
       "      <td>55600.0</td>\n",
       "      <td>4</td>\n",
       "      <td>0.1784</td>\n",
       "      <td>6</td>\n",
       "    </tr>\n",
       "    <tr>\n",
       "      <th>2455</th>\n",
       "      <td>York College Of Pennsylvania</td>\n",
       "      <td>1125.0</td>\n",
       "      <td>47900.0</td>\n",
       "      <td>4</td>\n",
       "      <td>0.2649</td>\n",
       "      <td>6</td>\n",
       "    </tr>\n",
       "    <tr>\n",
       "      <th>2459</th>\n",
       "      <td>Young Harris College</td>\n",
       "      <td>1030.0</td>\n",
       "      <td>34100.0</td>\n",
       "      <td>999</td>\n",
       "      <td>0.4635</td>\n",
       "      <td>8</td>\n",
       "    </tr>\n",
       "  </tbody>\n",
       "</table>\n",
       "<p>821 rows × 6 columns</p>\n",
       "</div>"
      ],
      "text/plain": [
       "                                name  sat_avg_2001  \\\n",
       "1       Abilene Christian University        1100.0   \n",
       "5                 Adelphi University        1065.0   \n",
       "11               Agnes Scott College        1185.0   \n",
       "16          Alabama State University         800.0   \n",
       "20           Albany State University         900.0   \n",
       "...                              ...           ...   \n",
       "2449  Xavier University Of Louisiana         980.0   \n",
       "2452                 Yale University        1405.0   \n",
       "2454              Yeshiva University        1205.0   \n",
       "2455    York College Of Pennsylvania        1125.0   \n",
       "2459            Young Harris College        1030.0   \n",
       "\n",
       "      scorecard_median_earnings_2011  barrons  scorecard_rej_rate_2013  tier  \n",
       "1                            40200.0        3                   0.5106     6  \n",
       "5                            50600.0        4                   0.3186     6  \n",
       "11                           39400.0        2                   0.3313     4  \n",
       "16                           27800.0        4                   0.4875     5  \n",
       "20                           32700.0        4                   0.8008     5  \n",
       "...                              ...      ...                      ...   ...  \n",
       "2449                         46500.0        4                   0.4557     6  \n",
       "2452                         66000.0        1                   0.9295     1  \n",
       "2454                         55600.0        4                   0.1784     6  \n",
       "2455                         47900.0        4                   0.2649     6  \n",
       "2459                         34100.0      999                   0.4635     8  \n",
       "\n",
       "[821 rows x 6 columns]"
      ]
     },
     "execution_count": 26,
     "metadata": {},
     "output_type": "execute_result"
    }
   ],
   "source": [
    "df1 = df[['name','sat_avg_2001','scorecard_median_earnings_2011','barrons','scorecard_rej_rate_2013', 'tier']]\n",
    "df1 = df1.dropna()\n",
    "df10=df1\n",
    "df1"
   ]
  },
  {
   "cell_type": "code",
   "execution_count": 27,
   "metadata": {},
   "outputs": [
    {
     "data": {
      "text/html": [
       "<div>\n",
       "<style scoped>\n",
       "    .dataframe tbody tr th:only-of-type {\n",
       "        vertical-align: middle;\n",
       "    }\n",
       "\n",
       "    .dataframe tbody tr th {\n",
       "        vertical-align: top;\n",
       "    }\n",
       "\n",
       "    .dataframe thead th {\n",
       "        text-align: right;\n",
       "    }\n",
       "</style>\n",
       "<table border=\"1\" class=\"dataframe\">\n",
       "  <thead>\n",
       "    <tr style=\"text-align: right;\">\n",
       "      <th></th>\n",
       "      <th>name</th>\n",
       "      <th>sat_avg_2001</th>\n",
       "      <th>scorecard_median_earnings_2011</th>\n",
       "      <th>barrons</th>\n",
       "      <th>scorecard_rej_rate_2013</th>\n",
       "      <th>tier</th>\n",
       "    </tr>\n",
       "  </thead>\n",
       "  <tbody>\n",
       "    <tr>\n",
       "      <th>1</th>\n",
       "      <td>Abilene Christian University</td>\n",
       "      <td>1100.0</td>\n",
       "      <td>40200.0</td>\n",
       "      <td>3</td>\n",
       "      <td>0.5106</td>\n",
       "      <td>6</td>\n",
       "    </tr>\n",
       "    <tr>\n",
       "      <th>5</th>\n",
       "      <td>Adelphi University</td>\n",
       "      <td>1065.0</td>\n",
       "      <td>50600.0</td>\n",
       "      <td>4</td>\n",
       "      <td>0.3186</td>\n",
       "      <td>6</td>\n",
       "    </tr>\n",
       "    <tr>\n",
       "      <th>16</th>\n",
       "      <td>Alabama State University</td>\n",
       "      <td>800.0</td>\n",
       "      <td>27800.0</td>\n",
       "      <td>4</td>\n",
       "      <td>0.4875</td>\n",
       "      <td>5</td>\n",
       "    </tr>\n",
       "    <tr>\n",
       "      <th>20</th>\n",
       "      <td>Albany State University</td>\n",
       "      <td>900.0</td>\n",
       "      <td>32700.0</td>\n",
       "      <td>4</td>\n",
       "      <td>0.8008</td>\n",
       "      <td>5</td>\n",
       "    </tr>\n",
       "    <tr>\n",
       "      <th>22</th>\n",
       "      <td>Albertus Magnus College</td>\n",
       "      <td>1010.0</td>\n",
       "      <td>52200.0</td>\n",
       "      <td>5</td>\n",
       "      <td>0.3179</td>\n",
       "      <td>6</td>\n",
       "    </tr>\n",
       "    <tr>\n",
       "      <th>...</th>\n",
       "      <td>...</td>\n",
       "      <td>...</td>\n",
       "      <td>...</td>\n",
       "      <td>...</td>\n",
       "      <td>...</td>\n",
       "      <td>...</td>\n",
       "    </tr>\n",
       "    <tr>\n",
       "      <th>2443</th>\n",
       "      <td>Worcester State University</td>\n",
       "      <td>980.0</td>\n",
       "      <td>43700.0</td>\n",
       "      <td>4</td>\n",
       "      <td>0.3938</td>\n",
       "      <td>5</td>\n",
       "    </tr>\n",
       "    <tr>\n",
       "      <th>2448</th>\n",
       "      <td>Xavier University</td>\n",
       "      <td>1170.0</td>\n",
       "      <td>48800.0</td>\n",
       "      <td>3</td>\n",
       "      <td>0.3003</td>\n",
       "      <td>6</td>\n",
       "    </tr>\n",
       "    <tr>\n",
       "      <th>2449</th>\n",
       "      <td>Xavier University Of Louisiana</td>\n",
       "      <td>980.0</td>\n",
       "      <td>46500.0</td>\n",
       "      <td>4</td>\n",
       "      <td>0.4557</td>\n",
       "      <td>6</td>\n",
       "    </tr>\n",
       "    <tr>\n",
       "      <th>2454</th>\n",
       "      <td>Yeshiva University</td>\n",
       "      <td>1205.0</td>\n",
       "      <td>55600.0</td>\n",
       "      <td>4</td>\n",
       "      <td>0.1784</td>\n",
       "      <td>6</td>\n",
       "    </tr>\n",
       "    <tr>\n",
       "      <th>2455</th>\n",
       "      <td>York College Of Pennsylvania</td>\n",
       "      <td>1125.0</td>\n",
       "      <td>47900.0</td>\n",
       "      <td>4</td>\n",
       "      <td>0.2649</td>\n",
       "      <td>6</td>\n",
       "    </tr>\n",
       "  </tbody>\n",
       "</table>\n",
       "<p>635 rows × 6 columns</p>\n",
       "</div>"
      ],
      "text/plain": [
       "                                name  sat_avg_2001  \\\n",
       "1       Abilene Christian University        1100.0   \n",
       "5                 Adelphi University        1065.0   \n",
       "16          Alabama State University         800.0   \n",
       "20           Albany State University         900.0   \n",
       "22           Albertus Magnus College        1010.0   \n",
       "...                              ...           ...   \n",
       "2443      Worcester State University         980.0   \n",
       "2448               Xavier University        1170.0   \n",
       "2449  Xavier University Of Louisiana         980.0   \n",
       "2454              Yeshiva University        1205.0   \n",
       "2455    York College Of Pennsylvania        1125.0   \n",
       "\n",
       "      scorecard_median_earnings_2011  barrons  scorecard_rej_rate_2013  tier  \n",
       "1                            40200.0        3                   0.5106     6  \n",
       "5                            50600.0        4                   0.3186     6  \n",
       "16                           27800.0        4                   0.4875     5  \n",
       "20                           32700.0        4                   0.8008     5  \n",
       "22                           52200.0        5                   0.3179     6  \n",
       "...                              ...      ...                      ...   ...  \n",
       "2443                         43700.0        4                   0.3938     5  \n",
       "2448                         48800.0        3                   0.3003     6  \n",
       "2449                         46500.0        4                   0.4557     6  \n",
       "2454                         55600.0        4                   0.1784     6  \n",
       "2455                         47900.0        4                   0.2649     6  \n",
       "\n",
       "[635 rows x 6 columns]"
      ]
     },
     "execution_count": 27,
     "metadata": {},
     "output_type": "execute_result"
    }
   ],
   "source": [
    "x=[3,4,5]\n",
    "df2 = df1[df1['barrons'] == 1]\n",
    "df3 = df1[df1['barrons'] == 2]\n",
    "df4 = df1[df1['barrons'] >= 3]\n",
    "df6= df4[df4['barrons'] <=5]\n",
    "df5 = df1[df1['barrons'] ==999]\n",
    "df6"
   ]
  },
  {
   "cell_type": "code",
   "execution_count": 28,
   "metadata": {},
   "outputs": [
    {
     "name": "stdout",
     "output_type": "stream",
     "text": [
      "R-squared value: 0.40200142757081747\n"
     ]
    },
    {
     "data": {
      "image/png": "[encoded data removed]",
      "text/plain": [
       "<Figure size 640x480 with 1 Axes>"
      ]
     },
     "metadata": {},
     "output_type": "display_data"
    }
   ],
   "source": [
    "x=df1[[\"sat_avg_2001\"]]\n",
    "y=df1[\"scorecard_median_earnings_2011\"]\n",
    "from sklearn.linear_model import LinearRegression\n",
    "\n",
    "model = LinearRegression()\n",
    "model.fit(x, y)\n",
    "\n",
    "# Evaluate the model\n",
    "r2_score = model.score(x, y)\n",
    "print(f\"R-squared value: {r2_score}\")\n",
    "\n",
    "Y_pred = model.predict(x)\n",
    "plt.scatter(x, y)\n",
    "plt.plot(x, Y_pred, color='red')\n",
    "plt.show()"
   ]
  },
  {
   "cell_type": "code",
   "execution_count": 33,
   "metadata": {},
   "outputs": [
    {
     "data": {
      "application/vnd.plotly.v1+json": {
       "config": {
        "plotlyServerURL": "https://plot.ly"
       },
       "data": [
        {
         "customdata": [
          [
           "Abilene Christian University"
          ],
          [
           "Adelphi University"
          ],
          [
           "Agnes Scott College"
          ],
          [
           "Alabama State University"
          ],
          [
           "Albany State University"
          ],
          [
           "Albertus Magnus College"
          ],
          [
           "Albion College"
          ],
          [
           "Albright College"
          ],
          [
           "Alderson Broaddus University"
          ],
          [
           "Alfred University"
          ],
          [
           "Allegheny College"
          ],
          [
           "Alma College"
          ],
          [
           "Alvernia University"
          ],
          [
           "American International College"
          ],
          [
           "American University "
          ],
          [
           "Amherst College"
          ],
          [
           "Anderson University of Anderson, SC"
          ],
          [
           "Andrews University"
          ],
          [
           "Angelo State University"
          ],
          [
           "Anna Maria College"
          ],
          [
           "Appalachian State University"
          ],
          [
           "Arcadia University"
          ],
          [
           "Arizona State And Northern Arizona University And University Of Arizona"
          ],
          [
           "Armstrong Atlantic State University"
          ],
          [
           "Asbury College"
          ],
          [
           "Ashland University"
          ],
          [
           "Assumption College"
          ],
          [
           "Auburn University"
          ],
          [
           "Auburn University Montgomery"
          ],
          [
           "Augsburg College"
          ],
          [
           "Austin College"
          ],
          [
           "Austin Peay State University"
          ],
          [
           "Averett University"
          ],
          [
           "Azusa Pacific University"
          ],
          [
           "Babson College"
          ],
          [
           "Baldwin Wallace University"
          ],
          [
           "Ball State University"
          ],
          [
           "Barnard College"
          ],
          [
           "Barry University"
          ],
          [
           "Barton College"
          ],
          [
           "Bates College"
          ],
          [
           "Bay Path College"
          ],
          [
           "Baylor University"
          ],
          [
           "Becker College"
          ],
          [
           "Belhaven University"
          ],
          [
           "Bellarmine University"
          ],
          [
           "Belmont Abbey College"
          ],
          [
           "Belmont University"
          ],
          [
           "Beloit College"
          ],
          [
           "Bennington College"
          ],
          [
           "Bentley University"
          ],
          [
           "Berry College"
          ],
          [
           "Bethany College of Bethany, WV"
          ],
          [
           "Bethel College"
          ],
          [
           "Bethel University of McKenzie, TN"
          ],
          [
           "Bethel University of Saint Paul, MN"
          ],
          [
           "Bethune Cookman University"
          ],
          [
           "Binghamton University"
          ],
          [
           "Birmingham Southern College"
          ],
          [
           "Bloomfield College"
          ],
          [
           "Bloomsburg University Of Pennsylvania"
          ],
          [
           "Boise State University"
          ],
          [
           "Boston College"
          ],
          [
           "Boston University"
          ],
          [
           "Bowdoin College"
          ],
          [
           "Bowling Green State University"
          ],
          [
           "Brandeis University"
          ],
          [
           "Brenau University"
          ],
          [
           "Brevard College"
          ],
          [
           "Brewton Parker College"
          ],
          [
           "Bridgewater College"
          ],
          [
           "Bridgewater State University"
          ],
          [
           "Brigham Young University-Idaho"
          ],
          [
           "Brown University"
          ],
          [
           "Bryan College"
          ],
          [
           "Bryant University"
          ],
          [
           "Bryn Mawr College"
          ],
          [
           "Bucknell University"
          ],
          [
           "Butler University"
          ],
          [
           "CUNY Bernard M. Baruch College"
          ],
          [
           "CUNY Brooklyn College"
          ],
          [
           "CUNY Hunter College"
          ],
          [
           "CUNY John Jay College Of Criminal Justice"
          ],
          [
           "CUNY Lehman College"
          ],
          [
           "CUNY Queens College"
          ],
          [
           "CUNY York College"
          ],
          [
           "Cabrini College"
          ],
          [
           "Cairn University"
          ],
          [
           "Caldwell College"
          ],
          [
           "California Institute Of Technology"
          ],
          [
           "California Lutheran University"
          ],
          [
           "California Maritime Academy"
          ],
          [
           "California Polytechnic State University"
          ],
          [
           "California State Polytechnic University, Pomona"
          ],
          [
           "California State University - Sacramento"
          ],
          [
           "California State University, Bakersfield"
          ],
          [
           "California State University, Chico"
          ],
          [
           "California State University, Dominguez Hills"
          ],
          [
           "California State University, East Bay"
          ],
          [
           "California State University, Fresno"
          ],
          [
           "California State University, Fullerton"
          ],
          [
           "California State University, Long Beach"
          ],
          [
           "California State University, Los Angeles"
          ],
          [
           "California State University, Monterey Bay"
          ],
          [
           "California State University, Northridge"
          ],
          [
           "California State University, San Bernardino"
          ],
          [
           "California State University, San Marcos"
          ],
          [
           "California State University, Stanislaus"
          ],
          [
           "California University Of Pennsylvania"
          ],
          [
           "Canisius College"
          ],
          [
           "Capital University"
          ],
          [
           "Carleton College"
          ],
          [
           "Carlow University"
          ],
          [
           "Carnegie Mellon University"
          ],
          [
           "Carroll College"
          ],
          [
           "Carthage College"
          ],
          [
           "Case Western Reserve University"
          ],
          [
           "Catawba College"
          ],
          [
           "Catholic University Of America "
          ],
          [
           "Cazenovia College"
          ],
          [
           "Cedar Crest College"
          ],
          [
           "Cedarville University"
          ],
          [
           "Centenary College"
          ],
          [
           "Centenary College Of Louisiana"
          ],
          [
           "Central Connecticut State University"
          ],
          [
           "Central Washington University"
          ],
          [
           "Centre College Of Kentucky"
          ],
          [
           "Chaminade University Of Honolulu"
          ],
          [
           "Champlain College"
          ],
          [
           "Chapman University"
          ],
          [
           "Charleston Southern University"
          ],
          [
           "Chatham University"
          ],
          [
           "Chestnut Hill College"
          ],
          [
           "Christian Brothers University"
          ],
          [
           "Christopher Newport University"
          ],
          [
           "Citadel, The Military College Of South Carolina"
          ],
          [
           "City College Of New York - CUNY"
          ],
          [
           "Claflin University"
          ],
          [
           "Claremont Mckenna College"
          ],
          [
           "Clark Atlanta University"
          ],
          [
           "Clark University"
          ],
          [
           "Clarke University"
          ],
          [
           "Clarkson University"
          ],
          [
           "Clemson University"
          ],
          [
           "Coastal Carolina University"
          ],
          [
           "Coe College"
          ],
          [
           "Colby College"
          ],
          [
           "Colby-Sawyer College"
          ],
          [
           "Colgate University"
          ],
          [
           "College Of Charleston"
          ],
          [
           "College Of Mount Saint Joseph"
          ],
          [
           "College Of Mount Saint Vincent And Manhattan College"
          ],
          [
           "College Of New Jersey "
          ],
          [
           "College Of New Rochelle "
          ],
          [
           "College Of Our Lady Of The Elms"
          ],
          [
           "College Of Saint Benedict"
          ],
          [
           "College Of Saint Elizabeth"
          ],
          [
           "College Of Saint Rose"
          ],
          [
           "College Of Saint Scholastica"
          ],
          [
           "College Of Staten Island/CUNY"
          ],
          [
           "College Of The Holy Cross"
          ],
          [
           "College Of William & Mary"
          ],
          [
           "College Of Wooster "
          ],
          [
           "Colorado Christian University"
          ],
          [
           "Colorado College"
          ],
          [
           "Colorado School Of Mines"
          ],
          [
           "Colorado State University"
          ],
          [
           "Colorado State University-Pueblo"
          ],
          [
           "Columbus State University"
          ],
          [
           "Concord University"
          ],
          [
           "Concordia University - Saint Paul"
          ],
          [
           "Concordia University - Wisconsin"
          ],
          [
           "Concordia University Texas"
          ],
          [
           "Concordia University of Irvine, CA"
          ],
          [
           "Concordia University of Portland, OR"
          ],
          [
           "Connecticut College"
          ],
          [
           "Cornell College"
          ],
          [
           "Cornell University"
          ],
          [
           "Covenant College"
          ],
          [
           "Crown College"
          ],
          [
           "Curry College"
          ],
          [
           "D'Youville College"
          ],
          [
           "Daemen College"
          ],
          [
           "Dallas Baptist University"
          ],
          [
           "Daniel Webster College"
          ],
          [
           "Dartmouth College"
          ],
          [
           "Davidson College"
          ],
          [
           "Davis & Elkins College"
          ],
          [
           "DePauw University"
          ],
          [
           "DeSales University"
          ],
          [
           "Dean College"
          ],
          [
           "Defiance College"
          ],
          [
           "Delaware Valley College Of Science & Agriculture"
          ],
          [
           "Denison University"
          ],
          [
           "Depaul University"
          ],
          [
           "Dickinson College"
          ],
          [
           "Dillard University"
          ],
          [
           "Dominican College Of Blauvelt"
          ],
          [
           "Dordt College"
          ],
          [
           "Drake University"
          ],
          [
           "Drew University"
          ],
          [
           "Duquesne University Of The Holy Spirit"
          ],
          [
           "Earlham College"
          ],
          [
           "East Carolina University"
          ],
          [
           "East Stroudsburg University Of Pennsylvania"
          ],
          [
           "East Tennessee State University"
          ],
          [
           "Eastern Connecticut State University"
          ],
          [
           "Eastern Mennonite University"
          ],
          [
           "Eastern Michigan University"
          ],
          [
           "Eastern Nazarene College"
          ],
          [
           "Eastern Oregon University"
          ],
          [
           "Eastern University"
          ],
          [
           "Eastern Washington University"
          ],
          [
           "Eckerd College"
          ],
          [
           "Edinboro University Of Pennsylvania"
          ],
          [
           "Elizabeth City State University"
          ],
          [
           "Elizabethtown College"
          ],
          [
           "Elmira College"
          ],
          [
           "Elon University"
          ],
          [
           "Embry-Riddle Aeronautical University"
          ],
          [
           "Emerson College"
          ],
          [
           "Emory & Henry College"
          ],
          [
           "Emory University"
          ],
          [
           "Endicott College"
          ],
          [
           "Erskine College"
          ],
          [
           "Evergreen State College "
          ],
          [
           "Fairfield University"
          ],
          [
           "Fairleigh Dickinson University"
          ],
          [
           "Fayetteville State University"
          ],
          [
           "Felician College"
          ],
          [
           "Ferrum College"
          ],
          [
           "Fitchburg State University"
          ],
          [
           "Flagler College"
          ],
          [
           "Florida Agricultural & Mechanical University"
          ],
          [
           "Florida Atlantic University"
          ],
          [
           "Florida College"
          ],
          [
           "Florida Gulf Coast University"
          ],
          [
           "Florida Institute Of Technology"
          ],
          [
           "Florida International University"
          ],
          [
           "Florida Southern College"
          ],
          [
           "Florida State University"
          ],
          [
           "Fordham University"
          ],
          [
           "Fort Lewis College"
          ],
          [
           "Fort Valley State University"
          ],
          [
           "Framingham State University"
          ],
          [
           "Francis Marion University"
          ],
          [
           "Franciscan University Of Steubenville"
          ],
          [
           "Franklin & Marshall College"
          ],
          [
           "Franklin College Of Indiana"
          ],
          [
           "Franklin Pierce University"
          ],
          [
           "Fresno Pacific University"
          ],
          [
           "Furman University"
          ],
          [
           "Gannon University"
          ],
          [
           "Geneva College"
          ],
          [
           "George Fox University"
          ],
          [
           "George Mason University"
          ],
          [
           "George Washington University"
          ],
          [
           "Georgetown University"
          ],
          [
           "Georgia College & State University"
          ],
          [
           "Georgia Institute Of Technology"
          ],
          [
           "Georgia Perimeter College"
          ],
          [
           "Georgia Southern University"
          ],
          [
           "Georgia Southwestern State University"
          ],
          [
           "Georgia State University"
          ],
          [
           "Georgian Court University"
          ],
          [
           "Gettysburg College"
          ],
          [
           "Glenville State College"
          ],
          [
           "Gonzaga University"
          ],
          [
           "Gordon College"
          ],
          [
           "Gordon State College"
          ],
          [
           "Goshen College"
          ],
          [
           "Goucher College"
          ],
          [
           "Green Mountain College"
          ],
          [
           "Greensboro College"
          ],
          [
           "Grinnell College"
          ],
          [
           "Guilford College"
          ],
          [
           "Hamilton College"
          ],
          [
           "Hampden Sydney College"
          ],
          [
           "Hampton University"
          ],
          [
           "Hannibal - Lagrange University"
          ],
          [
           "Hanover College"
          ],
          [
           "Harcum College"
          ],
          [
           "Hardin-Simmons University"
          ],
          [
           "Harding University"
          ],
          [
           "Hartwick College"
          ],
          [
           "Harvard University"
          ],
          [
           "Harvey Mudd College"
          ],
          [
           "Hastings College"
          ],
          [
           "Haverford College"
          ],
          [
           "Hawaii Pacific University"
          ],
          [
           "Henderson State University"
          ],
          [
           "Hendrix College"
          ],
          [
           "High Point University"
          ],
          [
           "Hiram College"
          ],
          [
           "Hobart And William Smith Colleges"
          ],
          [
           "Hofstra University"
          ],
          [
           "Hollins University"
          ],
          [
           "Holy Family University"
          ],
          [
           "Hood College"
          ],
          [
           "Hope College"
          ],
          [
           "Houghton College"
          ],
          [
           "Houston Baptist University"
          ],
          [
           "Howard Payne University"
          ],
          [
           "Howard University"
          ],
          [
           "Humboldt State University"
          ],
          [
           "Huntingdon College"
          ],
          [
           "Huntington University"
          ],
          [
           "Huston - Tillotson University"
          ],
          [
           "Illinois Institute Of Technology"
          ],
          [
           "Illinois Wesleyan University"
          ],
          [
           "Immaculata University"
          ],
          [
           "Indiana State University"
          ],
          [
           "Indiana University - Purdue University - Ft Wayne"
          ],
          [
           "Indiana University Of Pennsylvania"
          ],
          [
           "Indiana University System"
          ],
          [
           "Indiana Wesleyan University"
          ],
          [
           "Iona College"
          ],
          [
           "Iowa State University Of Science & Technology"
          ],
          [
           "Ithaca College"
          ],
          [
           "Jacksonville University"
          ],
          [
           "James Madison University"
          ],
          [
           "John Brown University"
          ],
          [
           "John Carroll University"
          ],
          [
           "John, Castleton And Lyndon State Colleges And Community College Of Vermont"
          ],
          [
           "Johns Hopkins University"
          ],
          [
           "Johnson & Wales University"
          ],
          [
           "Johnson C Smith University"
          ],
          [
           "Johnson University"
          ],
          [
           "Juniata College"
          ],
          [
           "Kalamazoo College"
          ],
          [
           "Kean University"
          ],
          [
           "Keene State College"
          ],
          [
           "Kendall College"
          ],
          [
           "Kennesaw State University"
          ],
          [
           "Kentucky State University"
          ],
          [
           "Kentucky Wesleyan College"
          ],
          [
           "Kenyon College"
          ],
          [
           "Kettering University"
          ],
          [
           "Keystone College"
          ],
          [
           "King University"
          ],
          [
           "King's College of Wilkes-Barre, PA"
          ],
          [
           "Knox College"
          ],
          [
           "Kutztown University Of Pennsylvania"
          ],
          [
           "La Salle University"
          ],
          [
           "La Sierra University"
          ],
          [
           "Lafayette College"
          ],
          [
           "Lagrange College"
          ],
          [
           "Lamar University"
          ],
          [
           "Lancaster Bible College"
          ],
          [
           "Lander University"
          ],
          [
           "Lasell College"
          ],
          [
           "Lawrence University Of Wisconsin"
          ],
          [
           "Le Moyne College"
          ],
          [
           "Lebanon Valley College"
          ],
          [
           "Lees-Mcrae College"
          ],
          [
           "Lehigh University"
          ],
          [
           "Lenoir-Rhyne University"
          ],
          [
           "Lesley University"
          ],
          [
           "Letourneau University"
          ],
          [
           "Lewis & Clark College"
          ],
          [
           "Lewis University"
          ],
          [
           "Lim College"
          ],
          [
           "Limestone College"
          ],
          [
           "Linfield College"
          ],
          [
           "Lipscomb University"
          ],
          [
           "Lock Haven University Of Pennsylvania"
          ],
          [
           "Long Island University System"
          ],
          [
           "Longwood University"
          ],
          [
           "Louisburg College"
          ],
          [
           "Lourdes University"
          ],
          [
           "Loyola Marymount University"
          ],
          [
           "Loyola University Chicago"
          ],
          [
           "Loyola University Maryland"
          ],
          [
           "Loyola University New Orleans"
          ],
          [
           "Lubbock Christian University"
          ],
          [
           "Lycoming College"
          ],
          [
           "Lynchburg College"
          ],
          [
           "Lynn University"
          ],
          [
           "MCP Hahnemann And Drexel Universities"
          ],
          [
           "MacMurray College"
          ],
          [
           "Macalester College"
          ],
          [
           "Manchester University"
          ],
          [
           "Manhattanville College"
          ],
          [
           "Manor College"
          ],
          [
           "Marian University of Indianapolis, IN"
          ],
          [
           "Marquette University"
          ],
          [
           "Mars Hill University"
          ],
          [
           "Mary Baldwin College"
          ],
          [
           "Marymount Manhattan College"
          ],
          [
           "Marymount University"
          ],
          [
           "Maryville College"
          ],
          [
           "Maryville University Of Saint Louis"
          ],
          [
           "Marywood University"
          ],
          [
           "Massachusetts College Of Liberal Arts"
          ],
          [
           "Massachusetts Institute Of Technology"
          ],
          [
           "Massachusetts Maritime Academy"
          ],
          [
           "Master's College & Seminary "
          ],
          [
           "McDaniel College"
          ],
          [
           "McMurry University"
          ],
          [
           "McPherson College"
          ],
          [
           "Medaille College"
          ],
          [
           "Mercer University"
          ],
          [
           "Mercyhurst University"
          ],
          [
           "Meredith College"
          ],
          [
           "Merrimack College"
          ],
          [
           "Messiah College"
          ],
          [
           "Methodist University"
          ],
          [
           "Miami University"
          ],
          [
           "Michigan State University"
          ],
          [
           "Midwestern State University"
          ],
          [
           "Millersville University Of Pennsylvania"
          ],
          [
           "Milligan College"
          ],
          [
           "Mills College"
          ],
          [
           "Millsaps College"
          ],
          [
           "Milwaukee School Of Engineering"
          ],
          [
           "Misericordia  University"
          ],
          [
           "Missouri Valley College"
          ],
          [
           "Molloy College"
          ],
          [
           "Monmouth University"
          ],
          [
           "Montana State University Bozeman"
          ],
          [
           "Montana Tech Of The University Of Montana"
          ],
          [
           "Montclair State University"
          ],
          [
           "Moravian College"
          ],
          [
           "Morehouse College"
          ],
          [
           "Motlow State Community College"
          ],
          [
           "Mount Ida College"
          ],
          [
           "Mount Saint Mary College"
          ],
          [
           "Mount Saint Mary's University"
          ],
          [
           "Mount St. Mary's College"
          ],
          [
           "Mount Vernon Nazarene University"
          ],
          [
           "Multnomah University"
          ],
          [
           "Muskingum University"
          ],
          [
           "Nazareth College Of Rochester"
          ],
          [
           "Neumann University"
          ],
          [
           "New Jersey City University"
          ],
          [
           "New Jersey Institute Of Technology"
          ],
          [
           "New York University"
          ],
          [
           "Newberry College"
          ],
          [
           "Newman University"
          ],
          [
           "Niagara University"
          ],
          [
           "Nichols College"
          ],
          [
           "Norfolk State University"
          ],
          [
           "North Carolina Agricultural & Technical State University"
          ],
          [
           "North Carolina Central University"
          ],
          [
           "North Carolina State University"
          ],
          [
           "North Central College"
          ],
          [
           "North Central University"
          ],
          [
           "North Greenville University"
          ],
          [
           "Northeastern University"
          ],
          [
           "Northland College"
          ],
          [
           "Northwest University"
          ],
          [
           "Northwestern University"
          ],
          [
           "Northwood University"
          ],
          [
           "Norwich University"
          ],
          [
           "Notre Dame Of Maryland University"
          ],
          [
           "Nova Southeastern University"
          ],
          [
           "Nyack College"
          ],
          [
           "Oberlin College"
          ],
          [
           "Occidental College"
          ],
          [
           "Ohio State University "
          ],
          [
           "Ohio University"
          ],
          [
           "Ohio Wesleyan University"
          ],
          [
           "Oklahoma City University"
          ],
          [
           "Oklahoma State University"
          ],
          [
           "Old Dominion University"
          ],
          [
           "Oregon Institute Of Technology"
          ],
          [
           "Oregon State University"
          ],
          [
           "Pace University"
          ],
          [
           "Pacific Lutheran University"
          ],
          [
           "Pacific University"
          ],
          [
           "Paine College"
          ],
          [
           "Palm Beach Atlantic University"
          ],
          [
           "Pennsylvania State University "
          ],
          [
           "Pepperdine University"
          ],
          [
           "Pfeiffer University"
          ],
          [
           "Philadelphia University"
          ],
          [
           "Pitzer College"
          ],
          [
           "Plymouth State University Of The University System Of New Hampshire"
          ],
          [
           "Point Loma Nazarene University"
          ],
          [
           "Point Park University"
          ],
          [
           "Pomona College"
          ],
          [
           "Portland State University"
          ],
          [
           "Prairie View Agricultural & Mechanical University"
          ],
          [
           "Presbyterian College"
          ],
          [
           "Princeton University"
          ],
          [
           "Providence College"
          ],
          [
           "Purdue University"
          ],
          [
           "Purdue University - Calumet"
          ],
          [
           "Purdue University - North Central"
          ],
          [
           "Queens University Of Charlotte"
          ],
          [
           "Quinnipiac University"
          ],
          [
           "Radford University"
          ],
          [
           "Ramapo College Of New Jersey"
          ],
          [
           "Randolph - Macon College"
          ],
          [
           "Randolph College"
          ],
          [
           "Reed College"
          ],
          [
           "Regis College"
          ],
          [
           "Regis University"
          ],
          [
           "Rensselaer Polytechnic Institute"
          ],
          [
           "Rhode Island College"
          ],
          [
           "Rhodes College"
          ],
          [
           "Rice University"
          ],
          [
           "Richard Bland College"
          ],
          [
           "Richard Stockton College Of New Jersey "
          ],
          [
           "Rider University"
          ],
          [
           "Ripon College"
          ],
          [
           "Roanoke College"
          ],
          [
           "Robert Morris University"
          ],
          [
           "Roberts Wesleyan College"
          ],
          [
           "Rochester Institute Of Technology"
          ],
          [
           "Rockford University"
          ],
          [
           "Rocky Mountain College"
          ],
          [
           "Roger Williams University"
          ],
          [
           "Rollins College"
          ],
          [
           "Roosevelt University"
          ],
          [
           "Rose - Hulman Institute Of Technology"
          ],
          [
           "Rowan University"
          ],
          [
           "Rutgers, The State University Of New Jersey"
          ],
          [
           "SUNY At Fredonia"
          ],
          [
           "SUNY College At Brockport"
          ],
          [
           "SUNY College At Buffalo"
          ],
          [
           "SUNY College At Cortland"
          ],
          [
           "SUNY College At Geneseo"
          ],
          [
           "SUNY College At Old Westbury"
          ],
          [
           "SUNY College At Oneonta"
          ],
          [
           "SUNY College At Oswego"
          ],
          [
           "SUNY College At Purchase"
          ],
          [
           "SUNY College Of Agriculture & Technology At Cobleskill"
          ],
          [
           "SUNY College Of Technology At Delhi"
          ],
          [
           "SUNY Maritime College"
          ],
          [
           "SUNY Upstate Medical University And SUNY College Of Environment Science And Forestry"
          ],
          [
           "Sacred Heart University"
          ],
          [
           "Sage Colleges"
          ],
          [
           "Saint Anselm College"
          ],
          [
           "Saint Augustine's University"
          ],
          [
           "Saint Francis College"
          ],
          [
           "Saint Francis University"
          ],
          [
           "Saint John Fisher College"
          ],
          [
           "Saint John's University of Collegeville, MN"
          ],
          [
           "Saint John's University of Queens, NY"
          ],
          [
           "Saint Joseph's College of Brooklyn, NY"
          ],
          [
           "Saint Joseph's College of Rensselaer, IN"
          ],
          [
           "Saint Joseph's University"
          ],
          [
           "Saint Leo University"
          ],
          [
           "Saint Martin's University"
          ],
          [
           "Saint Mary's College"
          ],
          [
           "Saint Mary's College Of California"
          ],
          [
           "Saint Mary's University"
          ],
          [
           "Saint Michael's College"
          ],
          [
           "Saint Olaf College"
          ],
          [
           "Saint Peter's University"
          ],
          [
           "Saint Thomas Aquinas College"
          ],
          [
           "Saint Vincent College & Seminary"
          ],
          [
           "Salem College"
          ],
          [
           "Salem State University"
          ],
          [
           "Salve Regina University"
          ],
          [
           "Sam Houston State University"
          ],
          [
           "Samford University"
          ],
          [
           "San Diego State University"
          ],
          [
           "San Francisco State University"
          ],
          [
           "San Jose State University"
          ],
          [
           "Santa Clara University"
          ],
          [
           "Santa Fe University Of Art And Design"
          ],
          [
           "Sarah Lawrence College"
          ],
          [
           "Savannah State University"
          ],
          [
           "Schreiner University"
          ],
          [
           "Scripps College"
          ],
          [
           "Seattle Pacific University"
          ],
          [
           "Seattle University"
          ],
          [
           "Seton Hall University"
          ],
          [
           "Seton Hill University"
          ],
          [
           "Shenandoah University"
          ],
          [
           "Shepherd University"
          ],
          [
           "Shippensburg University Of Pennsylvania"
          ],
          [
           "Shorter University"
          ],
          [
           "Simpson University"
          ],
          [
           "Skidmore College"
          ],
          [
           "Slippery Rock University"
          ],
          [
           "Smith College"
          ],
          [
           "Sonoma State University"
          ],
          [
           "South Carolina State University"
          ],
          [
           "Southern Connecticut State University"
          ],
          [
           "Southern Methodist University"
          ],
          [
           "Southern New Hampshire University"
          ],
          [
           "Southern Oregon University"
          ],
          [
           "Southern Polytechnic State University"
          ],
          [
           "Southern Utah University"
          ],
          [
           "Southern Wesleyan University"
          ],
          [
           "Southwest Baptist University"
          ],
          [
           "Southwestern Adventist University"
          ],
          [
           "Southwestern College"
          ],
          [
           "Southwestern University"
          ],
          [
           "Spartanburg Methodist College"
          ],
          [
           "Spelman College"
          ],
          [
           "Spring Hill College"
          ],
          [
           "Springfield College"
          ],
          [
           "St. Edward's University"
          ],
          [
           "St. John's College"
          ],
          [
           "St. Lawrence University"
          ],
          [
           "Stanford University"
          ],
          [
           "State University Of New York At Albany"
          ],
          [
           "State University Of New York At Buffalo"
          ],
          [
           "State University Of New York At Farmingdale"
          ],
          [
           "State University Of New York At New Paltz"
          ],
          [
           "State University Of New York At Stony Brook"
          ],
          [
           "State University Of New York College At Plattsburgh"
          ],
          [
           "State University Of New York College At Potsdam"
          ],
          [
           "Stephens College"
          ],
          [
           "Sterling College"
          ],
          [
           "Stetson University"
          ],
          [
           "Stevenson University"
          ],
          [
           "Stonehill College"
          ],
          [
           "Suffolk University"
          ],
          [
           "Susquehanna University"
          ],
          [
           "Swarthmore College"
          ],
          [
           "Sweet Briar College"
          ],
          [
           "Syracuse University"
          ],
          [
           "Tarleton State University"
          ],
          [
           "Taylor University"
          ],
          [
           "Temple University"
          ],
          [
           "Tennessee Wesleyan College"
          ],
          [
           "Texas A&M University"
          ],
          [
           "Texas A&M University - Commerce"
          ],
          [
           "Texas A&M University - Corpus Christi"
          ],
          [
           "Texas A&M University - Kingsville"
          ],
          [
           "Texas Christian University"
          ],
          [
           "Texas Lutheran University"
          ],
          [
           "Texas State University"
          ],
          [
           "Texas Tech University"
          ],
          [
           "Texas Wesleyan University"
          ],
          [
           "Texas Woman's University"
          ],
          [
           "Thiel College"
          ],
          [
           "Thomas College"
          ],
          [
           "Thomas More College"
          ],
          [
           "Toccoa Falls College"
          ],
          [
           "Transylvania University"
          ],
          [
           "Trine University"
          ],
          [
           "Trinity College of Hartford, CT"
          ],
          [
           "Trinity International University"
          ],
          [
           "Trinity University"
          ],
          [
           "Truett Mcconnell College"
          ],
          [
           "Truman State University"
          ],
          [
           "Tufts University"
          ],
          [
           "Tulane University"
          ],
          [
           "Tuskegee University"
          ],
          [
           "Union College of Barbourville, KY"
          ],
          [
           "Union College of Schenectady, NY"
          ],
          [
           "Union University"
          ],
          [
           "University Of Alabama"
          ],
          [
           "University Of Alabama In Huntsville"
          ],
          [
           "University Of Arkansas"
          ],
          [
           "University Of Arkansas At Little Rock"
          ],
          [
           "University Of Bridgeport"
          ],
          [
           "University Of California, Berkeley"
          ],
          [
           "University Of California, Davis"
          ],
          [
           "University Of California, Irvine"
          ],
          [
           "University Of California, Los Angeles"
          ],
          [
           "University Of California, Riverside"
          ],
          [
           "University Of California, San Diego"
          ],
          [
           "University Of California, Santa Barbara"
          ],
          [
           "University Of California, Santa Cruz"
          ],
          [
           "University Of Central Florida"
          ],
          [
           "University Of Charleston"
          ],
          [
           "University Of Chicago "
          ],
          [
           "University Of Cincinnati"
          ],
          [
           "University Of Colorado System"
          ],
          [
           "University Of Connecticut"
          ],
          [
           "University Of Dallas"
          ],
          [
           "University Of Dayton"
          ],
          [
           "University Of Delaware"
          ],
          [
           "University Of Denver"
          ],
          [
           "University Of Findlay "
          ],
          [
           "University Of Florida"
          ],
          [
           "University Of Georgia"
          ],
          [
           "University Of Hartford"
          ],
          [
           "University Of Hawaii And Hawaii Community Colleges"
          ],
          [
           "University Of Houston System"
          ],
          [
           "University Of Idaho"
          ],
          [
           "University Of Indianapolis"
          ],
          [
           "University Of La Verne"
          ],
          [
           "University Of Maine System"
          ],
          [
           "University Of Mary Hardin-Baylor"
          ],
          [
           "University Of Mary Washington"
          ],
          [
           "University Of Maryland System (Except University College) And Baltimore City Community College"
          ],
          [
           "University Of Massachusetts System"
          ],
          [
           "University Of Memphis "
          ],
          [
           "University Of Miami"
          ],
          [
           "University Of Michigan - Ann Arbor"
          ],
          [
           "University Of Michigan - Flint"
          ],
          [
           "University Of Missouri System And Missouri University Of Science And Technology"
          ],
          [
           "University Of Montana "
          ],
          [
           "University Of Mount Olive"
          ],
          [
           "University Of Mount Union"
          ],
          [
           "University Of Nebraska System"
          ],
          [
           "University Of Nevada , Reno"
          ],
          [
           "University Of Nevada - Las Vegas"
          ],
          [
           "University Of New England"
          ],
          [
           "University Of New Hampshire"
          ],
          [
           "University Of New Haven"
          ],
          [
           "University Of New Orleans "
          ],
          [
           "University Of North Carolina  Asheville"
          ],
          [
           "University Of North Carolina - Chapel Hill"
          ],
          [
           "University Of North Carolina - Charlotte"
          ],
          [
           "University Of North Carolina - Greensboro"
          ],
          [
           "University Of North Carolina At Pembroke"
          ],
          [
           "University Of North Carolina At Wilmington "
          ],
          [
           "University Of North Florida"
          ],
          [
           "University Of North Texas"
          ],
          [
           "University Of Notre Dame"
          ],
          [
           "University Of Oregon"
          ],
          [
           "University Of Pennsylvania"
          ],
          [
           "University Of Pittsburgh System"
          ],
          [
           "University Of Portland"
          ],
          [
           "University Of Puget Sound"
          ],
          [
           "University Of Redlands"
          ],
          [
           "University Of Rhode Island"
          ],
          [
           "University Of Richmond"
          ],
          [
           "University Of Rochester"
          ],
          [
           "University Of Saint Francis of Fort Wayne, IN"
          ],
          [
           "University Of Saint Thomas of Houston, TX"
          ],
          [
           "University Of San Diego"
          ],
          [
           "University Of San Francisco"
          ],
          [
           "University Of Scranton"
          ],
          [
           "University Of South Alabama"
          ],
          [
           "University Of South Carolina System"
          ],
          [
           "University Of South Florida"
          ],
          [
           "University Of Southern California"
          ],
          [
           "University Of Southern Indiana"
          ],
          [
           "University Of Tampa "
          ],
          [
           "University Of Tennessee System"
          ],
          [
           "University Of Texas At Arlington"
          ],
          [
           "University Of Texas At Austin"
          ],
          [
           "University Of Texas At Dallas"
          ],
          [
           "University Of Texas At San Antonio"
          ],
          [
           "University Of Texas At Tyler"
          ],
          [
           "University Of Texas Of The Permian Basin"
          ],
          [
           "University Of The Cumberlands"
          ],
          [
           "University Of The Incarnate Word"
          ],
          [
           "University Of The Ozarks"
          ],
          [
           "University Of The Pacific"
          ],
          [
           "University Of The Sciences In Philadelphia"
          ],
          [
           "University Of The South "
          ],
          [
           "University Of Tulsa "
          ],
          [
           "University Of Vermont And State Agricultural College"
          ],
          [
           "University Of Virginia"
          ],
          [
           "University Of Virginia's College At Wise "
          ],
          [
           "University Of Washington System"
          ],
          [
           "University Of West Florida "
          ],
          [
           "University Of West Georgia"
          ],
          [
           "University Of Wyoming"
          ],
          [
           "Ursinus College"
          ],
          [
           "Ursuline College"
          ],
          [
           "Valparaiso University"
          ],
          [
           "Vanderbilt University"
          ],
          [
           "Vanguard University Of Southern California"
          ],
          [
           "Vassar College"
          ],
          [
           "Villanova University"
          ],
          [
           "Virginia Commonwealth University"
          ],
          [
           "Virginia Military Institute"
          ],
          [
           "Virginia Polytechnic Institute & State University"
          ],
          [
           "Virginia State University"
          ],
          [
           "Wagner College"
          ],
          [
           "Wake Forest University"
          ],
          [
           "Waldorf College"
          ],
          [
           "Warner University"
          ],
          [
           "Warren Wilson College"
          ],
          [
           "Washington Adventist University"
          ],
          [
           "Washington And Jefferson College"
          ],
          [
           "Washington And Lee University"
          ],
          [
           "Washington College"
          ],
          [
           "Washington State University"
          ],
          [
           "Washington University In St. Louis"
          ],
          [
           "Wayland Baptist University"
          ],
          [
           "Waynesburg University"
          ],
          [
           "Webber International University"
          ],
          [
           "Webster University"
          ],
          [
           "Wellesley College"
          ],
          [
           "Wells College"
          ],
          [
           "Wesley College"
          ],
          [
           "Wesleyan University"
          ],
          [
           "West Chester University Of Pennsylvania"
          ],
          [
           "West Liberty University"
          ],
          [
           "West Texas A&M University"
          ],
          [
           "West Virginia University, West Virginia University Institute Of Technology, West Virginia University - Parkersburg, And Potomac State College"
          ],
          [
           "West Virginia Wesleyan College"
          ],
          [
           "Western Carolina University"
          ],
          [
           "Western Connecticut State University"
          ],
          [
           "Western New England University"
          ],
          [
           "Western Oregon University"
          ],
          [
           "Western State Colorado University"
          ],
          [
           "Western Washington University"
          ],
          [
           "Westfield State University"
          ],
          [
           "Westminster College of New Wilmington, PA"
          ],
          [
           "Westmont College"
          ],
          [
           "Wheaton College of Wheaton, IL"
          ],
          [
           "Wheeling Jesuit University"
          ],
          [
           "Whitman College"
          ],
          [
           "Whittier College"
          ],
          [
           "Widener University"
          ],
          [
           "Wilkes University"
          ],
          [
           "Willamette University"
          ],
          [
           "William Carey University"
          ],
          [
           "William Jewell College"
          ],
          [
           "William Paterson University Of New Jersey"
          ],
          [
           "William Peace University"
          ],
          [
           "Williams College"
          ],
          [
           "Wilmington College"
          ],
          [
           "Wingate University"
          ],
          [
           "Winston-Salem State University"
          ],
          [
           "Winthrop University"
          ],
          [
           "Wittenberg University"
          ],
          [
           "Wofford College"
          ],
          [
           "Woodbury University"
          ],
          [
           "Worcester Polytechnic Institute"
          ],
          [
           "Worcester State University"
          ],
          [
           "Xavier University"
          ],
          [
           "Xavier University Of Louisiana"
          ],
          [
           "Yale University"
          ],
          [
           "Yeshiva University"
          ],
          [
           "York College Of Pennsylvania"
          ],
          [
           "Young Harris College"
          ]
         ],
         "hovertemplate": "sat_avg_2001=%{x}<br>scorecard_median_earnings_2011=%{y}<br>name=%{customdata[0]}<br>College Ranking=%{marker.color}<extra></extra>",
         "legendgroup": "",
         "marker": {
          "color": [
           3,
           4,
           2,
           4,
           4,
           5,
           3,
           4,
           4,
           3,
           3,
           3,
           4,
           5,
           2,
           1,
           999,
           4,
           5,
           5,
           3,
           3,
           4,
           4,
           3,
           4,
           4,
           3,
           4,
           4,
           2,
           4,
           5,
           4,
           2,
           3,
           4,
           1,
           4,
           4,
           1,
           4,
           2,
           5,
           5,
           3,
           4,
           3,
           2,
           2,
           2,
           3,
           4,
           4,
           5,
           4,
           5,
           2,
           4,
           4,
           4,
           5,
           1,
           2,
           1,
           4,
           1,
           4,
           999,
           5,
           4,
           4,
           999,
           1,
           4,
           3,
           1,
           1,
           3,
           3,
           4,
           4,
           4,
           5,
           4,
           5,
           4,
           5,
           5,
           1,
           4,
           4,
           3,
           4,
           4,
           5,
           4,
           5,
           4,
           5,
           4,
           4,
           4,
           4,
           5,
           4,
           5,
           4,
           4,
           3,
           4,
           1,
           4,
           1,
           4,
           4,
           1,
           4,
           3,
           4,
           4,
           3,
           5,
           3,
           4,
           4,
           2,
           4,
           3,
           2,
           4,
           4,
           5,
           3,
           3,
           4,
           4,
           4,
           1,
           5,
           2,
           4,
           3,
           2,
           4,
           3,
           1,
           4,
           1,
           3,
           4,
           3,
           1,
           3,
           4,
           3,
           5,
           4,
           4,
           5,
           1,
           1,
           3,
           3,
           2,
           2,
           4,
           5,
           4,
           4,
           4,
           3,
           4,
           4,
           4,
           1,
           3,
           1,
           3,
           999,
           4,
           4,
           4,
           3,
           4,
           1,
           1,
           4,
           3,
           4,
           999,
           4,
           4,
           2,
           3,
           2,
           3,
           5,
           3,
           3,
           3,
           3,
           3,
           4,
           4,
           4,
           4,
           3,
           4,
           5,
           5,
           4,
           4,
           3,
           5,
           5,
           3,
           3,
           2,
           4,
           2,
           4,
           1,
           4,
           4,
           4,
           3,
           4,
           5,
           4,
           5,
           4,
           3,
           4,
           4,
           999,
           4,
           3,
           3,
           4,
           3,
           2,
           4,
           4,
           4,
           4,
           3,
           1,
           4,
           4,
           4,
           2,
           4,
           4,
           4,
           3,
           1,
           1,
           3,
           2,
           999,
           3,
           4,
           3,
           5,
           2,
           5,
           2,
           4,
           999,
           3,
           3,
           4,
           5,
           2,
           3,
           1,
           3,
           4,
           4,
           3,
           999,
           4,
           3,
           4,
           1,
           1,
           4,
           1,
           4,
           3,
           2,
           4,
           3,
           3,
           3,
           4,
           4,
           3,
           3,
           3,
           4,
           4,
           4,
           4,
           4,
           4,
           5,
           2,
           2,
           4,
           4,
           5,
           4,
           3,
           4,
           3,
           3,
           3,
           4,
           3,
           3,
           4,
           999,
           1,
           4,
           4,
           999,
           3,
           2,
           4,
           4,
           4,
           4,
           5,
           4,
           1,
           2,
           5,
           3,
           4,
           2,
           4,
           4,
           4,
           1,
           4,
           5,
           999,
           4,
           4,
           2,
           3,
           3,
           4,
           1,
           4,
           3,
           4,
           4,
           4,
           5,
           4,
           3,
           3,
           5,
           4,
           4,
           999,
           5,
           3,
           2,
           2,
           2,
           4,
           4,
           4,
           4,
           3,
           4,
           1,
           4,
           4,
           999,
           4,
           2,
           5,
           4,
           3,
           4,
           3,
           3,
           4,
           4,
           1,
           4,
           3,
           3,
           5,
           4,
           5,
           3,
           4,
           4,
           4,
           3,
           5,
           3,
           3,
           4,
           4,
           4,
           3,
           3,
           2,
           4,
           4,
           4,
           4,
           3,
           4,
           4,
           4,
           4,
           999,
           5,
           4,
           4,
           4,
           4,
           999,
           4,
           3,
           5,
           4,
           3,
           1,
           5,
           4,
           4,
           5,
           5,
           5,
           5,
           3,
           3,
           4,
           999,
           2,
           4,
           4,
           1,
           5,
           4,
           4,
           4,
           4,
           1,
           1,
           2,
           4,
           4,
           3,
           3,
           4,
           4,
           4,
           4,
           3,
           4,
           5,
           4,
           3,
           2,
           4,
           4,
           2,
           5,
           3,
           4,
           1,
           4,
           5,
           3,
           1,
           2,
           3,
           5,
           999,
           4,
           2,
           4,
           2,
           4,
           3,
           1,
           5,
           4,
           1,
           4,
           2,
           1,
           999,
           3,
           4,
           4,
           3,
           4,
           4,
           3,
           4,
           4,
           4,
           2,
           3,
           1,
           3,
           2,
           3,
           3,
           4,
           4,
           2,
           4,
           3,
           3,
           3,
           4,
           999,
           4,
           3,
           4,
           4,
           4,
           4,
           5,
           5,
           4,
           3,
           4,
           4,
           4,
           3,
           4,
           4,
           3,
           4,
           4,
           3,
           2,
           5,
           5,
           3,
           3,
           5,
           3,
           4,
           3,
           4,
           4,
           4,
           2,
           4,
           2,
           5,
           4,
           1,
           4,
           3,
           3,
           4,
           4,
           4,
           5,
           4,
           4,
           2,
           5,
           2,
           4,
           5,
           4,
           2,
           4,
           4,
           3,
           4,
           4,
           4,
           5,
           4,
           2,
           999,
           3,
           4,
           4,
           3,
           2,
           2,
           1,
           4,
           3,
           4,
           3,
           2,
           4,
           4,
           3,
           4,
           4,
           4,
           3,
           4,
           3,
           1,
           4,
           2,
           4,
           3,
           4,
           4,
           2,
           4,
           5,
           5,
           2,
           4,
           4,
           4,
           4,
           5,
           5,
           5,
           4,
           4,
           3,
           4,
           2,
           4,
           2,
           999,
           3,
           1,
           1,
           4,
           5,
           2,
           3,
           4,
           4,
           3,
           5,
           5,
           2,
           3,
           2,
           1,
           4,
           2,
           2,
           3,
           3,
           4,
           1,
           4,
           3,
           2,
           3,
           3,
           3,
           3,
           4,
           2,
           2,
           4,
           3,
           4,
           4,
           4,
           4,
           4,
           4,
           3,
           2,
           4,
           4,
           1,
           2,
           4,
           3,
           4,
           4,
           4,
           3,
           5,
           4,
           4,
           3,
           4,
           4,
           3,
           1,
           4,
           4,
           5,
           3,
           3,
           4,
           1,
           4,
           1,
           2,
           3,
           2,
           3,
           4,
           1,
           1,
           4,
           4,
           2,
           3,
           3,
           5,
           3,
           3,
           1,
           5,
           4,
           3,
           5,
           2,
           2,
           5,
           999,
           999,
           4,
           4,
           4,
           3,
           3,
           2,
           2,
           3,
           1,
           4,
           3,
           4,
           4,
           4,
           3,
           4,
           3,
           1,
           4,
           1,
           1,
           4,
           4,
           2,
           4,
           3,
           1,
           999,
           5,
           3,
           4,
           3,
           1,
           3,
           4,
           1,
           5,
           4,
           5,
           3,
           1,
           3,
           4,
           1,
           4,
           5,
           4,
           4,
           4,
           4,
           4,
           4,
           4,
           4,
           3,
           4,
           4,
           2,
           2,
           4,
           1,
           4,
           4,
           4,
           3,
           5,
           3,
           4,
           999,
           1,
           4,
           4,
           5,
           4,
           3,
           2,
           5,
           2,
           4,
           3,
           4,
           1,
           4,
           4,
           999
          ],
          "coloraxis": "coloraxis",
          "line": {
           "width": 1
          },
          "size": 10,
          "symbol": "circle"
         },
         "mode": "markers",
         "name": "",
         "orientation": "v",
         "showlegend": false,
         "type": "scatter",
         "x": [
          1100,
          1065,
          1185,
          800,
          900,
          1010,
          1150,
          1015,
          985,
          1074,
          1185,
          1200,
          930,
          874,
          1210,
          1415,
          1000.5,
          1020,
          1005,
          950,
          1100,
          1080,
          1092.1804,
          995,
          1145,
          1005,
          1070,
          1105,
          985,
          1075,
          1195,
          990,
          947.5,
          1066.5,
          1250,
          1140,
          1044,
          1325,
          955,
          935,
          1335,
          980,
          1175,
          872.5,
          1180,
          1080,
          1035,
          1125,
          1230,
          1195,
          1145,
          1145,
          1020,
          1070,
          830,
          1160,
          760,
          1190,
          1190,
          820,
          1015,
          1005,
          1305,
          1290,
          1360,
          960,
          1335,
          1045,
          984,
          920,
          1040,
          1010,
          1045,
          1390,
          1105.5,
          1090,
          1290,
          1285,
          1165,
          1050,
          990,
          985,
          860,
          889,
          1045,
          805,
          955,
          1075,
          935,
          1520,
          1045,
          1080,
          1170,
          1015,
          975,
          965,
          1025,
          835,
          940,
          940,
          980,
          980,
          860,
          980,
          925,
          910,
          985,
          945,
          940,
          1075,
          1070,
          1370,
          980,
          1360,
          1105,
          1035,
          1340,
          995,
          1155,
          905,
          1070,
          1180,
          915,
          1175,
          980,
          990,
          1250,
          965,
          975,
          1173.5,
          990,
          1065,
          945,
          1100,
          1120,
          1070,
          995,
          966.5,
          1360,
          880,
          1165,
          1122.5,
          1170,
          1185,
          1015,
          1145,
          1330,
          1000,
          1320,
          1155,
          985,
          1055.3013,
          1255,
          950,
          925,
          1180,
          920,
          1050,
          1165,
          880,
          1230,
          1325,
          1180,
          1074,
          1270,
          1240,
          1110,
          935,
          965,
          1000,
          1020,
          925,
          990,
          1000,
          1005,
          1308,
          1130,
          1400,
          1172.5,
          1050,
          956.5,
          940,
          970,
          995,
          1060,
          1425,
          1322.5,
          938,
          1190,
          1080,
          935,
          1010,
          980,
          1210,
          1115,
          1235,
          925,
          945,
          1160,
          1155,
          1210,
          1080,
          1205,
          1030,
          955,
          990,
          1010,
          1070,
          1005,
          1030,
          970,
          1095,
          1005,
          1135,
          940,
          835,
          1115,
          1090,
          1120,
          1100,
          1200,
          1043,
          1380,
          1015,
          1135,
          1120,
          1180,
          995,
          835,
          870,
          890,
          1000,
          1110,
          985,
          1030,
          1065,
          1025,
          1165,
          1125,
          1055,
          1165,
          1165,
          982.5,
          905,
          1010,
          952.5,
          1130,
          1270,
          1030,
          990,
          1015,
          1265,
          1040,
          1060,
          1130,
          1070,
          1240,
          1375,
          1045,
          1335,
          880,
          1005,
          1000,
          1040,
          900,
          1200,
          940,
          1170,
          1195,
          885,
          1125,
          1195,
          985,
          945,
          1345,
          1135,
          1280,
          1120,
          1030,
          1115,
          1135,
          830,
          1015,
          1135,
          1115,
          1485,
          1465,
          1070,
          1365,
          995,
          1050,
          1230,
          1005,
          1140,
          1155,
          1095,
          1130,
          915,
          1145,
          1200,
          1165,
          1060,
          992,
          1090,
          1055,
          1145,
          1050,
          822,
          1334,
          1260,
          995,
          930,
          968,
          990,
          1014.3737,
          1220.5,
          1000,
          1205,
          1170,
          1046.5,
          1170,
          1150,
          1140,
          952.43774,
          1405,
          920,
          940,
          1061.5,
          1155,
          1260,
          945,
          985,
          972.5,
          1025,
          830,
          965,
          1280,
          1220,
          870,
          1051,
          1035,
          1220,
          980,
          1080,
          975,
          1245,
          1005,
          955,
          995,
          948.5,
          925,
          1255,
          1090,
          1095,
          960,
          1275,
          1105,
          1015,
          1170,
          1264,
          1060,
          930,
          950,
          1078.0975,
          1095,
          975,
          980,
          1070,
          815,
          990,
          1110,
          1155,
          1220,
          1160,
          1000,
          1080,
          1020,
          930,
          1150,
          995,
          1335,
          1010,
          1280,
          865,
          970,
          1155,
          960,
          1037.5,
          1030,
          995,
          1090,
          1120,
          1020,
          1016.5,
          1485,
          1055,
          1120,
          1110,
          1005,
          955,
          850,
          1160,
          1015,
          1050,
          1132.5,
          1190,
          975,
          1215,
          1125,
          975,
          1070,
          1060,
          1140,
          1195,
          1200,
          1000,
          935.5,
          1100,
          1035,
          1115,
          1090,
          1005,
          1140,
          1050,
          890,
          850,
          1010,
          1075,
          1012.5,
          1130,
          1045,
          1055,
          1140,
          925,
          848.5,
          1140,
          1317.3922,
          970,
          885,
          1045,
          935,
          791,
          890,
          865,
          1185,
          1130,
          1080,
          995,
          1125,
          1160,
          1015,
          1380,
          937.44324,
          1005,
          1015,
          1035,
          944,
          1362,
          1200,
          1175,
          1095,
          1210,
          1105,
          1120,
          1015,
          1015,
          1080,
          1020,
          1105,
          1125,
          775,
          1075,
          1100.4523,
          1250,
          960,
          1060,
          1205,
          960,
          1100,
          1015,
          1440,
          1005,
          820,
          1125,
          1445,
          1175,
          1135,
          900,
          905,
          1060,
          1060,
          985,
          1065,
          1094,
          1170,
          1330,
          980,
          1055,
          1315,
          960,
          1295,
          1420,
          920,
          1060,
          1030,
          1175,
          1100,
          970,
          1075.5,
          1225,
          1070,
          990,
          1065,
          1170,
          1000,
          1285,
          1090,
          1143.6714,
          1080,
          1035,
          960,
          1015,
          1195,
          895,
          1010,
          1035,
          1140,
          895,
          885,
          1020,
          1145,
          1048.5,
          1045,
          1105,
          915,
          1000,
          1020,
          1060,
          1205,
          1005,
          1015,
          1000,
          1222.5,
          942.5,
          995,
          1120,
          1090,
          1060,
          1125,
          1255,
          925,
          915,
          1075,
          1095,
          955,
          1030,
          975,
          1125,
          1045,
          980,
          995,
          1220,
          1130,
          1250,
          860,
          1005,
          1265,
          1140,
          1145,
          1060,
          990,
          1000,
          1000,
          1060,
          1050.5,
          1010,
          1235,
          955,
          1265,
          1020,
          860,
          925,
          1165,
          950,
          1037.5,
          1095,
          985,
          1010,
          1050,
          965,
          960,
          1225,
          860,
          1080,
          1060,
          1010,
          1065,
          1320,
          1140,
          1455,
          1115,
          1125,
          920,
          1075,
          1144,
          1050,
          1027.5,
          1070,
          1025,
          1116.5,
          1025,
          1170,
          995,
          1135,
          1445,
          1115.5,
          1205,
          974.5,
          1205,
          1040,
          970,
          1180,
          1015,
          995,
          890,
          1155,
          1040,
          1035,
          1110,
          905,
          910,
          955,
          930,
          950,
          1000,
          1160,
          1010,
          1275,
          1100,
          1260,
          940,
          1210,
          1310,
          1325,
          900,
          970,
          1225,
          1045,
          1095,
          1120.5,
          1155,
          995,
          890,
          1320,
          1175,
          1160,
          1280,
          1065,
          1270,
          1195,
          1145,
          1120,
          975,
          1400,
          1060,
          1165,
          1114.6174,
          1210,
          1145,
          1160,
          1130,
          1025,
          1220,
          1230,
          1050,
          1063.5869,
          1035,
          1095,
          1020,
          1005,
          1039.0848,
          1020,
          1205,
          1138.452,
          1073.8521,
          1085,
          1190,
          1294,
          930,
          1164.2617,
          1055,
          900,
          1034,
          1155,
          1050,
          1005,
          1055,
          1110,
          965,
          1045,
          1160,
          1255,
          1035,
          1030,
          925,
          1095,
          1095,
          1085,
          1355,
          1110,
          1400,
          1132.9808,
          1145,
          1250,
          1130,
          1090,
          1285,
          1315,
          935,
          1140,
          1165,
          1100,
          1100,
          950,
          1050.1914,
          1045,
          1305,
          945,
          1050,
          1085,
          1055,
          1210,
          1170,
          985,
          1037,
          950,
          990,
          940,
          1010,
          1120,
          1095,
          1220,
          1245,
          1135,
          1315,
          950,
          1160,
          1065,
          995,
          1095,
          1205,
          990,
          1180,
          1315,
          990,
          1350,
          1235,
          1035,
          1130,
          1185,
          795,
          1120,
          1305,
          1050,
          1012,
          1140,
          915,
          1100,
          1340,
          1150,
          1060,
          1390,
          975,
          945,
          947.54761,
          1110,
          1345,
          1125,
          920,
          1365,
          1045,
          930,
          975,
          1019.9548,
          1025,
          995,
          945,
          1040,
          980,
          1020,
          1090,
          1020,
          1073.5,
          1205,
          1315,
          1025,
          1270,
          1060,
          1045,
          1055,
          1235,
          925,
          1135,
          995,
          930,
          1410,
          950,
          1030,
          860,
          1055,
          1117,
          1220,
          970,
          1265,
          980,
          1170,
          980,
          1405,
          1205,
          1125,
          1030
         ],
         "xaxis": "x",
         "y": [
          40200,
          50600,
          39400,
          27800,
          32700,
          52200,
          45100,
          48500,
          43400,
          42300,
          49200,
          44700,
          42600,
          42400,
          55900,
          56800,
          32800,
          36000,
          38000,
          42400,
          36600,
          43700,
          43394.035,
          39400,
          34100,
          39200,
          52800,
          45400,
          34800,
          44800,
          47600,
          34700,
          42300,
          49000,
          85500,
          44000,
          39000,
          57400,
          45300,
          36500,
          53500,
          41900,
          49100,
          35800,
          37900,
          44900,
          39200,
          39100,
          37900,
          26500,
          74900,
          37700,
          40900,
          36500,
          35200,
          44000,
          28700,
          58400,
          41900,
          39000,
          43800,
          35300,
          67000,
          60600,
          54800,
          39000,
          58800,
          42600,
          31100,
          34700,
          42600,
          41500,
          39000,
          59700,
          35500,
          61900,
          50400,
          68800,
          52400,
          54000,
          44500,
          44800,
          43700,
          41500,
          48000,
          38200,
          42700,
          32600,
          46200,
          74000,
          52900,
          81100,
          60900,
          52000,
          46500,
          48100,
          45100,
          42800,
          51300,
          43200,
          46500,
          46900,
          44900,
          41500,
          44200,
          45500,
          45400,
          44900,
          38100,
          45700,
          41400,
          46100,
          39900,
          72000,
          44000,
          42400,
          67000,
          36600,
          54500,
          31900,
          45200,
          40900,
          41600,
          39300,
          43700,
          44900,
          45000,
          37300,
          40400,
          51800,
          36100,
          34300,
          43000,
          45300,
          42400,
          52500,
          44500,
          27500,
          63600,
          33700,
          44100,
          40900,
          68400,
          49400,
          36200,
          43800,
          53000,
          38600,
          61500,
          39700,
          39900,
          59749.98,
          56800,
          37400,
          43700,
          47600,
          44900,
          42700,
          47500,
          41600,
          63700,
          56400,
          44400,
          40500,
          41100,
          74700,
          44300,
          36200,
          36100,
          32900,
          45300,
          40700,
          41000,
          42100,
          41800,
          51000,
          41900,
          70900,
          39800,
          31600,
          43600,
          48300,
          42900,
          42200,
          51900,
          67100,
          58500,
          35900,
          47800,
          48300,
          32700,
          37000,
          42200,
          48600,
          50900,
          52100,
          34000,
          51000,
          38400,
          55700,
          50900,
          54300,
          32300,
          39200,
          42900,
          34000,
          42400,
          39500,
          37300,
          44400,
          37800,
          42800,
          40500,
          40800,
          33900,
          30100,
          47700,
          43600,
          44500,
          60900,
          44800,
          39600,
          59000,
          42800,
          36000,
          31800,
          69000,
          46800,
          31100,
          41400,
          36500,
          42100,
          37200,
          37300,
          41400,
          36900,
          41200,
          53100,
          45100,
          37600,
          44000,
          55400,
          34000,
          28900,
          43200,
          32300,
          35500,
          54800,
          41000,
          38000,
          39700,
          47500,
          46200,
          37500,
          43300,
          57000,
          64500,
          83300,
          38500,
          74000,
          32500,
          39300,
          36400,
          41500,
          45700,
          52200,
          31400,
          52800,
          41600,
          29900,
          36300,
          45500,
          30600,
          35100,
          45600,
          38500,
          57300,
          50200,
          42200,
          33900,
          44400,
          33700,
          38600,
          38600,
          46100,
          87200,
          78600,
          40400,
          55600,
          43400,
          35200,
          40500,
          37500,
          39000,
          48600,
          53200,
          37000,
          49900,
          43100,
          43300,
          39200,
          43600,
          37300,
          46500,
          36200,
          37100,
          35500,
          30500,
          68200,
          54600,
          49000,
          36000,
          35900,
          38000,
          39941.473,
          46000,
          52700,
          47200,
          50400,
          47700,
          53400,
          46200,
          51000,
          33739.887,
          69200,
          35100,
          31300,
          29400,
          45200,
          49400,
          46800,
          39900,
          40500,
          41300,
          26600,
          36600,
          43700,
          74900,
          31400,
          39700,
          48900,
          41600,
          41400,
          53200,
          41300,
          69800,
          38100,
          38800,
          30400,
          33900,
          40900,
          42800,
          48800,
          46100,
          34400,
          76800,
          36900,
          36700,
          50000,
          43400,
          47100,
          48900,
          36100,
          51300,
          39000,
          39100,
          46000,
          40800,
          27700,
          36000,
          55600,
          50600,
          62100,
          41300,
          36700,
          42800,
          40900,
          35500,
          61100,
          36700,
          45700,
          38000,
          46300,
          38100,
          40400,
          55600,
          32800,
          36800,
          39500,
          49600,
          36500,
          44500,
          38000,
          36400,
          91600,
          79500,
          40900,
          44600,
          37200,
          35500,
          38200,
          46600,
          38500,
          38400,
          55400,
          41400,
          39600,
          45800,
          49800,
          38500,
          43200,
          36400,
          39000,
          45200,
          65700,
          47500,
          33400,
          57500,
          50300,
          39700,
          39800,
          48700,
          50000,
          40900,
          26700,
          34700,
          47600,
          50300,
          50200,
          39100,
          31400,
          39400,
          43900,
          41600,
          41900,
          65300,
          58800,
          33300,
          41900,
          44000,
          47100,
          34400,
          33600,
          31600,
          47500,
          45700,
          29600,
          31200,
          60100,
          31900,
          40200,
          64100,
          44600,
          45300,
          48800,
          46500,
          38100,
          38400,
          50100,
          42600,
          39500,
          41000,
          39400,
          43400,
          43300,
          50100,
          46400,
          58400,
          45900,
          42300,
          25900,
          38100,
          47500,
          61400,
          37500,
          48700,
          45300,
          37700,
          50300,
          37900,
          52600,
          42800,
          33600,
          41300,
          75100,
          59600,
          52600,
          38100,
          35200,
          38600,
          56400,
          42100,
          48700,
          45700,
          38700,
          36200,
          43300,
          53100,
          81700,
          39600,
          50300,
          59900,
          32100,
          46800,
          48100,
          42800,
          42500,
          44900,
          41900,
          56900,
          39100,
          38200,
          47200,
          42200,
          44600,
          78900,
          48800,
          54800,
          40600,
          40100,
          38900,
          45300,
          46700,
          42900,
          42400,
          40700,
          34700,
          34800,
          34600,
          77300,
          54425.855,
          54100,
          39300,
          55300,
          28200,
          49000,
          46900,
          44800,
          55900,
          54100,
          51800,
          39800,
          58500,
          42600,
          47400,
          45600,
          59000,
          46300,
          46300,
          44800,
          44500,
          48000,
          44200,
          33200,
          40400,
          48300,
          41400,
          45800,
          48700,
          46900,
          54600,
          67700,
          36200,
          39700,
          30800,
          36700,
          47200,
          43900,
          55200,
          53300,
          35600,
          40600,
          38500,
          45200,
          43000,
          33700,
          43100,
          39000,
          42700,
          45600,
          30400,
          41700,
          52200,
          41800,
          37300,
          52400,
          37200,
          41300,
          32800,
          37900,
          44200,
          47200,
          28700,
          46400,
          43800,
          45100,
          44700,
          34300,
          45500,
          80900,
          50900,
          49700,
          45600,
          46000,
          55500,
          40600,
          38000,
          30700,
          32100,
          42600,
          51400,
          58800,
          49900,
          50000,
          49400,
          38600,
          56600,
          40400,
          38600,
          46500,
          35300,
          52900,
          37100,
          42400,
          39700,
          49100,
          43600,
          43700,
          46100,
          39500,
          44800,
          37200,
          36600,
          45800,
          26400,
          41100,
          42600,
          56100,
          38200,
          53200,
          32400,
          42700,
          67800,
          52400,
          37100,
          32500,
          61800,
          37400,
          42400,
          46600,
          43600,
          34800,
          40600,
          62700,
          57100,
          55800,
          59200,
          48700,
          59600,
          52000,
          44600,
          43000,
          42000,
          62800,
          39400,
          53648.348,
          53900,
          45200,
          52300,
          54300,
          51400,
          40600,
          51300,
          46500,
          45900,
          35276.055,
          46279.215,
          39900,
          41600,
          52700,
          34186.586,
          41700,
          47400,
          49980.156,
          47924.445,
          37000,
          52400,
          57900,
          40100,
          46249.395,
          34100,
          39200,
          40800,
          42409.016,
          45500,
          43500,
          44800,
          47300,
          48900,
          38400,
          36000,
          50400,
          41700,
          37000,
          33400,
          38700,
          41600,
          42100,
          69400,
          41600,
          78200,
          48200,
          51700,
          51500,
          53800,
          48200,
          60800,
          55500,
          40000,
          48800,
          56300,
          61000,
          56000,
          38300,
          39789.398,
          41700,
          66100,
          35500,
          44400,
          39380.559,
          46400,
          52800,
          49500,
          44100,
          41600,
          42400,
          33300,
          42700,
          31100,
          66400,
          85800,
          38200,
          43200,
          44000,
          58600,
          36500,
          52100,
          36300,
          36900,
          46200,
          51500,
          42900,
          48100,
          60900,
          38800,
          47100,
          73700,
          41800,
          56600,
          57900,
          34400,
          53800,
          61000,
          36400,
          42200,
          25500,
          46800,
          49900,
          77600,
          48300,
          46400,
          62300,
          40900,
          44700,
          35800,
          39400,
          56700,
          33600,
          41400,
          50900,
          46500,
          33200,
          40000,
          42151.66,
          43100,
          35100,
          43300,
          55100,
          38500,
          36500,
          43200,
          43300,
          44400,
          48300,
          42600,
          43300,
          43000,
          45100,
          51700,
          49900,
          49200,
          34100,
          40300,
          44300,
          35900,
          58100,
          39000,
          37000,
          33300,
          36100,
          42700,
          46800,
          45600,
          77600,
          43700,
          48800,
          46500,
          66000,
          55600,
          47900,
          34100
         ],
         "yaxis": "y"
        },
        {
         "hovertemplate": "<b>OLS trendline</b><br>scorecard_median_earnings_2011 = 48.9517 * sat_avg_2001 + -7674.8<br>R<sup>2</sup>=0.402001<br><br>sat_avg_2001=%{x}<br>scorecard_median_earnings_2011=%{y} <b>(trend)</b><extra></extra>",
         "legendgroup": "Overall Trendline",
         "marker": {
          "line": {
           "width": 1
          },
          "size": 10
         },
         "mode": "lines",
         "name": "Overall Trendline",
         "showlegend": true,
         "type": "scatter",
         "x": [
          760,
          775,
          791,
          795,
          800,
          805,
          815,
          820,
          820,
          822,
          830,
          830,
          830,
          835,
          835,
          835,
          848.5,
          850,
          850,
          860,
          860,
          860,
          860,
          860,
          860,
          865,
          865,
          870,
          870,
          872.5,
          874,
          880,
          880,
          880,
          885,
          885,
          885,
          889,
          890,
          890,
          890,
          890,
          890,
          895,
          895,
          900,
          900,
          900,
          900,
          900,
          905,
          905,
          905,
          905,
          910,
          910,
          915,
          915,
          915,
          915,
          915,
          920,
          920,
          920,
          920,
          920,
          920,
          925,
          925,
          925,
          925,
          925,
          925,
          925,
          925,
          925,
          925,
          930,
          930,
          930,
          930,
          930,
          930,
          930,
          930,
          935,
          935,
          935,
          935,
          935,
          935,
          935.5,
          937.44324,
          938,
          940,
          940,
          940,
          940,
          940,
          940,
          940,
          940,
          940,
          942.5,
          944,
          945,
          945,
          945,
          945,
          945,
          945,
          945,
          945,
          947.5,
          947.54761,
          948.5,
          950,
          950,
          950,
          950,
          950,
          950,
          950,
          950,
          950,
          952.43774,
          952.5,
          955,
          955,
          955,
          955,
          955,
          955,
          955,
          955,
          956.5,
          960,
          960,
          960,
          960,
          960,
          960,
          960,
          960,
          965,
          965,
          965,
          965,
          965,
          965,
          966.5,
          968,
          970,
          970,
          970,
          970,
          970,
          970,
          970,
          970,
          972.5,
          974.5,
          975,
          975,
          975,
          975,
          975,
          975,
          975,
          975,
          975,
          975,
          980,
          980,
          980,
          980,
          980,
          980,
          980,
          980,
          980,
          980,
          980,
          980,
          980,
          980,
          982.5,
          984,
          985,
          985,
          985,
          985,
          985,
          985,
          985,
          985,
          985,
          985,
          985,
          990,
          990,
          990,
          990,
          990,
          990,
          990,
          990,
          990,
          990,
          990,
          990,
          990,
          990,
          992,
          995,
          995,
          995,
          995,
          995,
          995,
          995,
          995,
          995,
          995,
          995,
          995,
          995,
          995,
          995,
          995,
          995,
          995,
          995,
          1000,
          1000,
          1000,
          1000,
          1000,
          1000,
          1000,
          1000,
          1000,
          1000,
          1000,
          1000,
          1000,
          1000,
          1000.5,
          1005,
          1005,
          1005,
          1005,
          1005,
          1005,
          1005,
          1005,
          1005,
          1005,
          1005,
          1005,
          1005,
          1005,
          1005,
          1005,
          1005,
          1010,
          1010,
          1010,
          1010,
          1010,
          1010,
          1010,
          1010,
          1010,
          1010,
          1010,
          1010,
          1010,
          1012,
          1012.5,
          1014.3737,
          1015,
          1015,
          1015,
          1015,
          1015,
          1015,
          1015,
          1015,
          1015,
          1015,
          1015,
          1015,
          1015,
          1015,
          1015,
          1015,
          1015,
          1016.5,
          1019.9548,
          1020,
          1020,
          1020,
          1020,
          1020,
          1020,
          1020,
          1020,
          1020,
          1020,
          1020,
          1020,
          1020,
          1025,
          1025,
          1025,
          1025,
          1025,
          1025,
          1025,
          1025,
          1027.5,
          1030,
          1030,
          1030,
          1030,
          1030,
          1030,
          1030,
          1030,
          1030,
          1030,
          1030,
          1034,
          1035,
          1035,
          1035,
          1035,
          1035,
          1035,
          1035,
          1035,
          1035,
          1035,
          1035,
          1037,
          1037.5,
          1037.5,
          1039.0848,
          1040,
          1040,
          1040,
          1040,
          1040,
          1040,
          1043,
          1044,
          1045,
          1045,
          1045,
          1045,
          1045,
          1045,
          1045,
          1045,
          1045,
          1045,
          1045,
          1045,
          1045,
          1045,
          1046.5,
          1048.5,
          1050,
          1050,
          1050,
          1050,
          1050,
          1050,
          1050,
          1050,
          1050,
          1050,
          1050,
          1050,
          1050,
          1050.1914,
          1050.5,
          1051,
          1055,
          1055,
          1055,
          1055,
          1055,
          1055,
          1055,
          1055,
          1055,
          1055,
          1055.3013,
          1060,
          1060,
          1060,
          1060,
          1060,
          1060,
          1060,
          1060,
          1060,
          1060,
          1060,
          1060,
          1060,
          1060,
          1060,
          1060,
          1060,
          1061.5,
          1063.5869,
          1065,
          1065,
          1065,
          1065,
          1065,
          1065,
          1065,
          1065,
          1066.5,
          1070,
          1070,
          1070,
          1070,
          1070,
          1070,
          1070,
          1070,
          1070,
          1070,
          1070,
          1070,
          1073.5,
          1073.8521,
          1074,
          1074,
          1075,
          1075,
          1075,
          1075,
          1075,
          1075,
          1075,
          1075.5,
          1078.0975,
          1080,
          1080,
          1080,
          1080,
          1080,
          1080,
          1080,
          1080,
          1080,
          1080,
          1080,
          1085,
          1085,
          1085,
          1090,
          1090,
          1090,
          1090,
          1090,
          1090,
          1090,
          1090,
          1090,
          1090,
          1092.1804,
          1094,
          1095,
          1095,
          1095,
          1095,
          1095,
          1095,
          1095,
          1095,
          1095,
          1095,
          1095,
          1095,
          1095,
          1100,
          1100,
          1100,
          1100,
          1100,
          1100,
          1100,
          1100,
          1100,
          1100,
          1100,
          1100.4523,
          1105,
          1105,
          1105,
          1105,
          1105,
          1105,
          1105.5,
          1110,
          1110,
          1110,
          1110,
          1110,
          1110,
          1110,
          1110,
          1114.6174,
          1115,
          1115,
          1115,
          1115,
          1115,
          1115,
          1115.5,
          1116.5,
          1117,
          1120,
          1120,
          1120,
          1120,
          1120,
          1120,
          1120,
          1120,
          1120,
          1120,
          1120,
          1120.5,
          1122.5,
          1125,
          1125,
          1125,
          1125,
          1125,
          1125,
          1125,
          1125,
          1125,
          1125,
          1125,
          1125,
          1130,
          1130,
          1130,
          1130,
          1130,
          1130,
          1130,
          1130,
          1130,
          1130,
          1132.5,
          1132.9808,
          1135,
          1135,
          1135,
          1135,
          1135,
          1135,
          1135,
          1135,
          1135,
          1138.452,
          1140,
          1140,
          1140,
          1140,
          1140,
          1140,
          1140,
          1140,
          1140,
          1140,
          1140,
          1140,
          1143.6714,
          1144,
          1145,
          1145,
          1145,
          1145,
          1145,
          1145,
          1145,
          1145,
          1145,
          1145,
          1145,
          1150,
          1150,
          1150,
          1150,
          1155,
          1155,
          1155,
          1155,
          1155,
          1155,
          1155,
          1155,
          1155,
          1155,
          1160,
          1160,
          1160,
          1160,
          1160,
          1160,
          1160,
          1160,
          1160,
          1160,
          1164.2617,
          1165,
          1165,
          1165,
          1165,
          1165,
          1165,
          1165,
          1165,
          1165,
          1165,
          1170,
          1170,
          1170,
          1170,
          1170,
          1170,
          1170,
          1170,
          1170,
          1170,
          1170,
          1172.5,
          1173.5,
          1175,
          1175,
          1175,
          1175,
          1175,
          1175,
          1180,
          1180,
          1180,
          1180,
          1180,
          1180,
          1180,
          1185,
          1185,
          1185,
          1185,
          1185,
          1190,
          1190,
          1190,
          1190,
          1190,
          1195,
          1195,
          1195,
          1195,
          1195,
          1195,
          1195,
          1200,
          1200,
          1200,
          1200,
          1200,
          1200,
          1205,
          1205,
          1205,
          1205,
          1205,
          1205,
          1205,
          1205,
          1205,
          1205,
          1210,
          1210,
          1210,
          1210,
          1210,
          1210,
          1210,
          1215,
          1220,
          1220,
          1220,
          1220,
          1220,
          1220,
          1220,
          1220.5,
          1222.5,
          1225,
          1225,
          1225,
          1230,
          1230,
          1230,
          1230,
          1235,
          1235,
          1235,
          1235,
          1240,
          1240,
          1245,
          1245,
          1250,
          1250,
          1250,
          1250,
          1250,
          1255,
          1255,
          1255,
          1255,
          1260,
          1260,
          1260,
          1264,
          1265,
          1265,
          1265,
          1265,
          1270,
          1270,
          1270,
          1270,
          1275,
          1275,
          1280,
          1280,
          1280,
          1280,
          1285,
          1285,
          1285,
          1290,
          1290,
          1294,
          1295,
          1305,
          1305,
          1305,
          1308,
          1310,
          1315,
          1315,
          1315,
          1315,
          1315,
          1317.3922,
          1320,
          1320,
          1320,
          1322.5,
          1325,
          1325,
          1325,
          1330,
          1330,
          1334,
          1335,
          1335,
          1335,
          1335,
          1340,
          1340,
          1345,
          1345,
          1350,
          1355,
          1360,
          1360,
          1360,
          1362,
          1365,
          1365,
          1370,
          1375,
          1380,
          1380,
          1390,
          1390,
          1400,
          1400,
          1400,
          1405,
          1405,
          1410,
          1415,
          1420,
          1425,
          1440,
          1445,
          1445,
          1455,
          1465,
          1485,
          1485,
          1520
         ],
         "xaxis": "x",
         "y": [
          29528.500389592584,
          30262.776059581425,
          31046.003440902856,
          31241.810286233216,
          31486.568842896162,
          31731.327399559108,
          32220.844512885003,
          32465.60306954795,
          32465.60306954795,
          32563.50649221313,
          32955.12018287385,
          32955.12018287385,
          32955.12018287385,
          33199.87873953679,
          33199.87873953679,
          33199.87873953679,
          33860.72684252675,
          33934.15440952563,
          33934.15440952563,
          34423.67152285153,
          34423.67152285153,
          34423.67152285153,
          34423.67152285153,
          34423.67152285153,
          34423.67152285153,
          34668.43007951447,
          34668.43007951447,
          34913.18863617742,
          34913.18863617742,
          35035.567914508894,
          35108.99548150778,
          35402.705749503315,
          35402.705749503315,
          35402.705749503315,
          35647.464306166265,
          35647.464306166265,
          35647.464306166265,
          35843.27115149662,
          35892.222862829214,
          35892.222862829214,
          35892.222862829214,
          35892.222862829214,
          35892.222862829214,
          36136.98141949216,
          36136.98141949216,
          36381.739976155106,
          36381.739976155106,
          36381.739976155106,
          36381.739976155106,
          36381.739976155106,
          36626.498532818056,
          36626.498532818056,
          36626.498532818056,
          36626.498532818056,
          36871.257089481,
          36871.257089481,
          37116.01564614395,
          37116.01564614395,
          37116.01564614395,
          37116.01564614395,
          37116.01564614395,
          37360.7742028069,
          37360.7742028069,
          37360.7742028069,
          37360.7742028069,
          37360.7742028069,
          37360.7742028069,
          37605.53275946984,
          37605.53275946984,
          37605.53275946984,
          37605.53275946984,
          37605.53275946984,
          37605.53275946984,
          37605.53275946984,
          37605.53275946984,
          37605.53275946984,
          37605.53275946984,
          37850.29131613279,
          37850.29131613279,
          37850.29131613279,
          37850.29131613279,
          37850.29131613279,
          37850.29131613279,
          37850.29131613279,
          37850.29131613279,
          38095.04987279574,
          38095.04987279574,
          38095.04987279574,
          38095.04987279574,
          38095.04987279574,
          38095.04987279574,
          38119.52572846203,
          38214.65065199197,
          38241.9050067935,
          38339.80842945868,
          38339.80842945868,
          38339.80842945868,
          38339.80842945868,
          38339.80842945868,
          38339.80842945868,
          38339.80842945868,
          38339.80842945868,
          38339.80842945868,
          38462.18770779016,
          38535.615274789045,
          38584.56698612163,
          38584.56698612163,
          38584.56698612163,
          38584.56698612163,
          38584.56698612163,
          38584.56698612163,
          38584.56698612163,
          38584.56698612163,
          38706.9462644531,
          38709.27685542965,
          38755.897975785694,
          38829.32554278458,
          38829.32554278458,
          38829.32554278458,
          38829.32554278458,
          38829.32554278458,
          38829.32554278458,
          38829.32554278458,
          38829.32554278458,
          38829.32554278458,
          38948.657087568485,
          38951.70482111605,
          39074.08409944752,
          39074.08409944752,
          39074.08409944752,
          39074.08409944752,
          39074.08409944752,
          39074.08409944752,
          39074.08409944752,
          39074.08409944752,
          39147.51166644641,
          39318.84265611047,
          39318.84265611047,
          39318.84265611047,
          39318.84265611047,
          39318.84265611047,
          39318.84265611047,
          39318.84265611047,
          39318.84265611047,
          39563.60121277342,
          39563.60121277342,
          39563.60121277342,
          39563.60121277342,
          39563.60121277342,
          39563.60121277342,
          39637.02877977231,
          39710.456346771185,
          39808.35976943636,
          39808.35976943636,
          39808.35976943636,
          39808.35976943636,
          39808.35976943636,
          39808.35976943636,
          39808.35976943636,
          39808.35976943636,
          39930.73904776784,
          40028.64247043302,
          40053.11832609931,
          40053.11832609931,
          40053.11832609931,
          40053.11832609931,
          40053.11832609931,
          40053.11832609931,
          40053.11832609931,
          40053.11832609931,
          40053.11832609931,
          40053.11832609931,
          40297.87688276226,
          40297.87688276226,
          40297.87688276226,
          40297.87688276226,
          40297.87688276226,
          40297.87688276226,
          40297.87688276226,
          40297.87688276226,
          40297.87688276226,
          40297.87688276226,
          40297.87688276226,
          40297.87688276226,
          40297.87688276226,
          40297.87688276226,
          40420.256161093734,
          40493.68372809262,
          40542.63543942521,
          40542.63543942521,
          40542.63543942521,
          40542.63543942521,
          40542.63543942521,
          40542.63543942521,
          40542.63543942521,
          40542.63543942521,
          40542.63543942521,
          40542.63543942521,
          40542.63543942521,
          40787.393996088154,
          40787.393996088154,
          40787.393996088154,
          40787.393996088154,
          40787.393996088154,
          40787.393996088154,
          40787.393996088154,
          40787.393996088154,
          40787.393996088154,
          40787.393996088154,
          40787.393996088154,
          40787.393996088154,
          40787.393996088154,
          40787.393996088154,
          40885.29741875333,
          41032.152552751104,
          41032.152552751104,
          41032.152552751104,
          41032.152552751104,
          41032.152552751104,
          41032.152552751104,
          41032.152552751104,
          41032.152552751104,
          41032.152552751104,
          41032.152552751104,
          41032.152552751104,
          41032.152552751104,
          41032.152552751104,
          41032.152552751104,
          41032.152552751104,
          41032.152552751104,
          41032.152552751104,
          41032.152552751104,
          41032.152552751104,
          41276.91110941405,
          41276.91110941405,
          41276.91110941405,
          41276.91110941405,
          41276.91110941405,
          41276.91110941405,
          41276.91110941405,
          41276.91110941405,
          41276.91110941405,
          41276.91110941405,
          41276.91110941405,
          41276.91110941405,
          41276.91110941405,
          41276.91110941405,
          41301.386965080346,
          41521.669666076996,
          41521.669666076996,
          41521.669666076996,
          41521.669666076996,
          41521.669666076996,
          41521.669666076996,
          41521.669666076996,
          41521.669666076996,
          41521.669666076996,
          41521.669666076996,
          41521.669666076996,
          41521.669666076996,
          41521.669666076996,
          41521.669666076996,
          41521.669666076996,
          41521.669666076996,
          41521.669666076996,
          41766.428222739945,
          41766.428222739945,
          41766.428222739945,
          41766.428222739945,
          41766.428222739945,
          41766.428222739945,
          41766.428222739945,
          41766.428222739945,
          41766.428222739945,
          41766.428222739945,
          41766.428222739945,
          41766.428222739945,
          41766.428222739945,
          41864.331645405124,
          41888.80750107142,
          41980.52832259529,
          42011.186779402895,
          42011.186779402895,
          42011.186779402895,
          42011.186779402895,
          42011.186779402895,
          42011.186779402895,
          42011.186779402895,
          42011.186779402895,
          42011.186779402895,
          42011.186779402895,
          42011.186779402895,
          42011.186779402895,
          42011.186779402895,
          42011.186779402895,
          42011.186779402895,
          42011.186779402895,
          42011.186779402895,
          42084.61434640177,
          42253.7327187136,
          42255.94533606584,
          42255.94533606584,
          42255.94533606584,
          42255.94533606584,
          42255.94533606584,
          42255.94533606584,
          42255.94533606584,
          42255.94533606584,
          42255.94533606584,
          42255.94533606584,
          42255.94533606584,
          42255.94533606584,
          42255.94533606584,
          42500.70389272879,
          42500.70389272879,
          42500.70389272879,
          42500.70389272879,
          42500.70389272879,
          42500.70389272879,
          42500.70389272879,
          42500.70389272879,
          42623.08317106026,
          42745.462449391736,
          42745.462449391736,
          42745.462449391736,
          42745.462449391736,
          42745.462449391736,
          42745.462449391736,
          42745.462449391736,
          42745.462449391736,
          42745.462449391736,
          42745.462449391736,
          42745.462449391736,
          42941.26929472209,
          42990.22100605468,
          42990.22100605468,
          42990.22100605468,
          42990.22100605468,
          42990.22100605468,
          42990.22100605468,
          42990.22100605468,
          42990.22100605468,
          42990.22100605468,
          42990.22100605468,
          42990.22100605468,
          43088.12442871986,
          43112.60028438616,
          43112.60028438616,
          43190.178956506046,
          43234.97956271763,
          43234.97956271763,
          43234.97956271763,
          43234.97956271763,
          43234.97956271763,
          43234.97956271763,
          43381.8346967154,
          43430.786408047985,
          43479.73811938058,
          43479.73811938058,
          43479.73811938058,
          43479.73811938058,
          43479.73811938058,
          43479.73811938058,
          43479.73811938058,
          43479.73811938058,
          43479.73811938058,
          43479.73811938058,
          43479.73811938058,
          43479.73811938058,
          43479.73811938058,
          43479.73811938058,
          43553.165686379456,
          43651.069109044634,
          43724.49667604352,
          43724.49667604352,
          43724.49667604352,
          43724.49667604352,
          43724.49667604352,
          43724.49667604352,
          43724.49667604352,
          43724.49667604352,
          43724.49667604352,
          43724.49667604352,
          43724.49667604352,
          43724.49667604352,
          43724.49667604352,
          43733.866033592574,
          43748.97253170982,
          43773.44838737611,
          43969.25523270647,
          43969.25523270647,
          43969.25523270647,
          43969.25523270647,
          43969.25523270647,
          43969.25523270647,
          43969.25523270647,
          43969.25523270647,
          43969.25523270647,
          43969.25523270647,
          43984.00438333098,
          44214.01378936942,
          44214.01378936942,
          44214.01378936942,
          44214.01378936942,
          44214.01378936942,
          44214.01378936942,
          44214.01378936942,
          44214.01378936942,
          44214.01378936942,
          44214.01378936942,
          44214.01378936942,
          44214.01378936942,
          44214.01378936942,
          44214.01378936942,
          44214.01378936942,
          44214.01378936942,
          44214.01378936942,
          44287.4413563683,
          44389.598682748285,
          44458.77234603236,
          44458.77234603236,
          44458.77234603236,
          44458.77234603236,
          44458.77234603236,
          44458.77234603236,
          44458.77234603236,
          44458.77234603236,
          44532.19991303125,
          44703.53090269531,
          44703.53090269531,
          44703.53090269531,
          44703.53090269531,
          44703.53090269531,
          44703.53090269531,
          44703.53090269531,
          44703.53090269531,
          44703.53090269531,
          44703.53090269531,
          44703.53090269531,
          44703.53090269531,
          44874.861892359375,
          44892.09778991958,
          44899.33774802567,
          44899.33774802567,
          44948.28945935826,
          44948.28945935826,
          44948.28945935826,
          44948.28945935826,
          44948.28945935826,
          44948.28945935826,
          44948.28945935826,
          44972.76531502455,
          45099.91738521096,
          45193.0480160212,
          45193.0480160212,
          45193.0480160212,
          45193.0480160212,
          45193.0480160212,
          45193.0480160212,
          45193.0480160212,
          45193.0480160212,
          45193.0480160212,
          45193.0480160212,
          45193.0480160212,
          45437.80657268415,
          45437.80657268415,
          45437.80657268415,
          45682.5651293471,
          45682.5651293471,
          45682.5651293471,
          45682.5651293471,
          45682.5651293471,
          45682.5651293471,
          45682.5651293471,
          45682.5651293471,
          45682.5651293471,
          45682.5651293471,
          45789.29944073668,
          45878.37197467746,
          45927.323686010044,
          45927.323686010044,
          45927.323686010044,
          45927.323686010044,
          45927.323686010044,
          45927.323686010044,
          45927.323686010044,
          45927.323686010044,
          45927.323686010044,
          45927.323686010044,
          45927.323686010044,
          45927.323686010044,
          45927.323686010044,
          46172.082242672994,
          46172.082242672994,
          46172.082242672994,
          46172.082242672994,
          46172.082242672994,
          46172.082242672994,
          46172.082242672994,
          46172.082242672994,
          46172.082242672994,
          46172.082242672994,
          46172.082242672994,
          46194.22310170872,
          46416.84079933594,
          46416.84079933594,
          46416.84079933594,
          46416.84079933594,
          46416.84079933594,
          46416.84079933594,
          46441.316655002236,
          46661.599355998886,
          46661.599355998886,
          46661.599355998886,
          46661.599355998886,
          46661.599355998886,
          46661.599355998886,
          46661.599355998886,
          46661.599355998886,
          46887.62898790599,
          46906.357912661835,
          46906.357912661835,
          46906.357912661835,
          46906.357912661835,
          46906.357912661835,
          46906.357912661835,
          46930.83376832813,
          46979.78547966072,
          47004.26133532701,
          47151.116469324785,
          47151.116469324785,
          47151.116469324785,
          47151.116469324785,
          47151.116469324785,
          47151.116469324785,
          47151.116469324785,
          47151.116469324785,
          47151.116469324785,
          47151.116469324785,
          47151.116469324785,
          47175.59232499108,
          47273.495747656256,
          47395.87502598773,
          47395.87502598773,
          47395.87502598773,
          47395.87502598773,
          47395.87502598773,
          47395.87502598773,
          47395.87502598773,
          47395.87502598773,
          47395.87502598773,
          47395.87502598773,
          47395.87502598773,
          47395.87502598773,
          47640.63358265068,
          47640.63358265068,
          47640.63358265068,
          47640.63358265068,
          47640.63358265068,
          47640.63358265068,
          47640.63358265068,
          47640.63358265068,
          47640.63358265068,
          47640.63358265068,
          47763.01286098215,
          47786.548843790864,
          47885.392139313626,
          47885.392139313626,
          47885.392139313626,
          47885.392139313626,
          47885.392139313626,
          47885.392139313626,
          47885.392139313626,
          47885.392139313626,
          47885.392139313626,
          48054.37344683372,
          48130.15069597657,
          48130.15069597657,
          48130.15069597657,
          48130.15069597657,
          48130.15069597657,
          48130.15069597657,
          48130.15069597657,
          48130.15069597657,
          48130.15069597657,
          48130.15069597657,
          48130.15069597657,
          48130.15069597657,
          48309.87200896304,
          48325.95754130693,
          48374.90925263952,
          48374.90925263952,
          48374.90925263952,
          48374.90925263952,
          48374.90925263952,
          48374.90925263952,
          48374.90925263952,
          48374.90925263952,
          48374.90925263952,
          48374.90925263952,
          48374.90925263952,
          48619.66780930247,
          48619.66780930247,
          48619.66780930247,
          48619.66780930247,
          48864.42636596541,
          48864.42636596541,
          48864.42636596541,
          48864.42636596541,
          48864.42636596541,
          48864.42636596541,
          48864.42636596541,
          48864.42636596541,
          48864.42636596541,
          48864.42636596541,
          49109.18492262836,
          49109.18492262836,
          49109.18492262836,
          49109.18492262836,
          49109.18492262836,
          49109.18492262836,
          49109.18492262836,
          49109.18492262836,
          49109.18492262836,
          49109.18492262836,
          49317.80243081446,
          49353.94347929131,
          49353.94347929131,
          49353.94347929131,
          49353.94347929131,
          49353.94347929131,
          49353.94347929131,
          49353.94347929131,
          49353.94347929131,
          49353.94347929131,
          49353.94347929131,
          49598.70203595426,
          49598.70203595426,
          49598.70203595426,
          49598.70203595426,
          49598.70203595426,
          49598.70203595426,
          49598.70203595426,
          49598.70203595426,
          49598.70203595426,
          49598.70203595426,
          49598.70203595426,
          49721.08131428573,
          49770.033025618315,
          49843.4605926172,
          49843.4605926172,
          49843.4605926172,
          49843.4605926172,
          49843.4605926172,
          49843.4605926172,
          50088.21914928015,
          50088.21914928015,
          50088.21914928015,
          50088.21914928015,
          50088.21914928015,
          50088.21914928015,
          50088.21914928015,
          50332.9777059431,
          50332.9777059431,
          50332.9777059431,
          50332.9777059431,
          50332.9777059431,
          50577.73626260604,
          50577.73626260604,
          50577.73626260604,
          50577.73626260604,
          50577.73626260604,
          50822.49481926899,
          50822.49481926899,
          50822.49481926899,
          50822.49481926899,
          50822.49481926899,
          50822.49481926899,
          50822.49481926899,
          51067.25337593194,
          51067.25337593194,
          51067.25337593194,
          51067.25337593194,
          51067.25337593194,
          51067.25337593194,
          51312.01193259488,
          51312.01193259488,
          51312.01193259488,
          51312.01193259488,
          51312.01193259488,
          51312.01193259488,
          51312.01193259488,
          51312.01193259488,
          51312.01193259488,
          51312.01193259488,
          51556.77048925783,
          51556.77048925783,
          51556.77048925783,
          51556.77048925783,
          51556.77048925783,
          51556.77048925783,
          51556.77048925783,
          51801.52904592078,
          52046.287602583725,
          52046.287602583725,
          52046.287602583725,
          52046.287602583725,
          52046.287602583725,
          52046.287602583725,
          52046.287602583725,
          52070.763458250025,
          52168.6668809152,
          52291.046159246675,
          52291.046159246675,
          52291.046159246675,
          52535.804715909624,
          52535.804715909624,
          52535.804715909624,
          52535.804715909624,
          52780.563272572566,
          52780.563272572566,
          52780.563272572566,
          52780.563272572566,
          53025.321829235516,
          53025.321829235516,
          53270.080385898465,
          53270.080385898465,
          53514.83894256141,
          53514.83894256141,
          53514.83894256141,
          53514.83894256141,
          53514.83894256141,
          53759.59749922436,
          53759.59749922436,
          53759.59749922436,
          53759.59749922436,
          54004.35605588731,
          54004.35605588731,
          54004.35605588731,
          54200.16290121766,
          54249.11461255025,
          54249.11461255025,
          54249.11461255025,
          54249.11461255025,
          54493.8731692132,
          54493.8731692132,
          54493.8731692132,
          54493.8731692132,
          54738.63172587615,
          54738.63172587615,
          54983.39028253909,
          54983.39028253909,
          54983.39028253909,
          54983.39028253909,
          55228.14883920204,
          55228.14883920204,
          55228.14883920204,
          55472.90739586499,
          55472.90739586499,
          55668.71424119535,
          55717.66595252793,
          56207.18306585383,
          56207.18306585383,
          56207.18306585383,
          56354.038199851595,
          56451.94162251677,
          56696.70017917972,
          56696.70017917972,
          56696.70017917972,
          56696.70017917972,
          56696.70017917972,
          56813.80246302955,
          56941.45873584267,
          56941.45873584267,
          56941.45873584267,
          57063.83801417414,
          57186.217292505615,
          57186.217292505615,
          57186.217292505615,
          57430.975849168564,
          57430.975849168564,
          57626.78269449892,
          57675.734405831514,
          57675.734405831514,
          57675.734405831514,
          57675.734405831514,
          57920.492962494456,
          57920.492962494456,
          58165.251519157406,
          58165.251519157406,
          58410.010075820355,
          58654.768632483305,
          58899.52718914625,
          58899.52718914625,
          58899.52718914625,
          58997.430611811425,
          59144.2857458092,
          59144.2857458092,
          59389.044302472146,
          59633.80285913509,
          59878.56141579804,
          59878.56141579804,
          60368.07852912393,
          60368.07852912393,
          60857.59564244983,
          60857.59564244983,
          60857.59564244983,
          61102.35419911277,
          61102.35419911277,
          61347.11275577572,
          61591.87131243867,
          61836.62986910161,
          62081.38842576456,
          62815.664095753404,
          63060.42265241635,
          63060.42265241635,
          63549.939765742245,
          64039.45687906814,
          65018.49110571993,
          65018.49110571993,
          66731.80100236056
         ],
         "yaxis": "y"
        }
       ],
       "layout": {
        "coloraxis": {
         "cmax": 6,
         "cmin": 1,
         "colorbar": {
          "ticktext": [
           "Elite",
           "Highly Selective",
           "Selective",
           "Selective",
           "Selective",
           "Non-Selective"
          ],
          "tickvals": [
           1,
           2,
           3,
           4,
           5,
           6
          ],
          "title": {
           "text": "College Ranking"
          }
         },
         "colorscale": [
          [
           0,
           "#440154"
          ],
          [
           0.1111111111111111,
           "#482878"
          ],
          [
           0.2222222222222222,
           "#3e4989"
          ],
          [
           0.3333333333333333,
           "#31688e"
          ],
          [
           0.4444444444444444,
           "#26828e"
          ],
          [
           0.5555555555555556,
           "#1f9e89"
          ],
          [
           0.6666666666666666,
           "#35b779"
          ],
          [
           0.7777777777777778,
           "#6ece58"
          ],
          [
           0.8888888888888888,
           "#b5de2b"
          ],
          [
           1,
           "#fde725"
          ]
         ]
        },
        "legend": {
         "orientation": "h",
         "tracegroupgap": 0
        },
        "margin": {
         "t": 60
        },
        "template": {
         "data": {
          "bar": [
           {
            "error_x": {
             "color": "#2a3f5f"
            },
            "error_y": {
             "color": "#2a3f5f"
            },
            "marker": {
             "line": {
              "color": "#E5ECF6",
              "width": 0.5
             },
             "pattern": {
              "fillmode": "overlay",
              "size": 10,
              "solidity": 0.2
             }
            },
            "type": "bar"
           }
          ],
          "barpolar": [
           {
            "marker": {
             "line": {
              "color": "#E5ECF6",
              "width": 0.5
             },
             "pattern": {
              "fillmode": "overlay",
              "size": 10,
              "solidity": 0.2
             }
            },
            "type": "barpolar"
           }
          ],
          "carpet": [
           {
            "aaxis": {
             "endlinecolor": "#2a3f5f",
             "gridcolor": "white",
             "linecolor": "white",
             "minorgridcolor": "white",
             "startlinecolor": "#2a3f5f"
            },
            "baxis": {
             "endlinecolor": "#2a3f5f",
             "gridcolor": "white",
             "linecolor": "white",
             "minorgridcolor": "white",
             "startlinecolor": "#2a3f5f"
            },
            "type": "carpet"
           }
          ],
          "choropleth": [
           {
            "colorbar": {
             "outlinewidth": 0,
             "ticks": ""
            },
            "type": "choropleth"
           }
          ],
          "contour": [
           {
            "colorbar": {
             "outlinewidth": 0,
             "ticks": ""
            },
            "colorscale": [
             [
              0,
              "#0d0887"
             ],
             [
              0.1111111111111111,
              "#46039f"
             ],
             [
              0.2222222222222222,
              "#7201a8"
             ],
             [
              0.3333333333333333,
              "#9c179e"
             ],
             [
              0.4444444444444444,
              "#bd3786"
             ],
             [
              0.5555555555555556,
              "#d8576b"
             ],
             [
              0.6666666666666666,
              "#ed7953"
             ],
             [
              0.7777777777777778,
              "#fb9f3a"
             ],
             [
              0.8888888888888888,
              "#fdca26"
             ],
             [
              1,
              "#f0f921"
             ]
            ],
            "type": "contour"
           }
          ],
          "contourcarpet": [
           {
            "colorbar": {
             "outlinewidth": 0,
             "ticks": ""
            },
            "type": "contourcarpet"
           }
          ],
          "heatmap": [
           {
            "colorbar": {
             "outlinewidth": 0,
             "ticks": ""
            },
            "colorscale": [
             [
              0,
              "#0d0887"
             ],
             [
              0.1111111111111111,
              "#46039f"
             ],
             [
              0.2222222222222222,
              "#7201a8"
             ],
             [
              0.3333333333333333,
              "#9c179e"
             ],
             [
              0.4444444444444444,
              "#bd3786"
             ],
             [
              0.5555555555555556,
              "#d8576b"
             ],
             [
              0.6666666666666666,
              "#ed7953"
             ],
             [
              0.7777777777777778,
              "#fb9f3a"
             ],
             [
              0.8888888888888888,
              "#fdca26"
             ],
             [
              1,
              "#f0f921"
             ]
            ],
            "type": "heatmap"
           }
          ],
          "heatmapgl": [
           {
            "colorbar": {
             "outlinewidth": 0,
             "ticks": ""
            },
            "colorscale": [
             [
              0,
              "#0d0887"
             ],
             [
              0.1111111111111111,
              "#46039f"
             ],
             [
              0.2222222222222222,
              "#7201a8"
             ],
             [
              0.3333333333333333,
              "#9c179e"
             ],
             [
              0.4444444444444444,
              "#bd3786"
             ],
             [
              0.5555555555555556,
              "#d8576b"
             ],
             [
              0.6666666666666666,
              "#ed7953"
             ],
             [
              0.7777777777777778,
              "#fb9f3a"
             ],
             [
              0.8888888888888888,
              "#fdca26"
             ],
             [
              1,
              "#f0f921"
             ]
            ],
            "type": "heatmapgl"
           }
          ],
          "histogram": [
           {
            "marker": {
             "pattern": {
              "fillmode": "overlay",
              "size": 10,
              "solidity": 0.2
             }
            },
            "type": "histogram"
           }
          ],
          "histogram2d": [
           {
            "colorbar": {
             "outlinewidth": 0,
             "ticks": ""
            },
            "colorscale": [
             [
              0,
              "#0d0887"
             ],
             [
              0.1111111111111111,
              "#46039f"
             ],
             [
              0.2222222222222222,
              "#7201a8"
             ],
             [
              0.3333333333333333,
              "#9c179e"
             ],
             [
              0.4444444444444444,
              "#bd3786"
             ],
             [
              0.5555555555555556,
              "#d8576b"
             ],
             [
              0.6666666666666666,
              "#ed7953"
             ],
             [
              0.7777777777777778,
              "#fb9f3a"
             ],
             [
              0.8888888888888888,
              "#fdca26"
             ],
             [
              1,
              "#f0f921"
             ]
            ],
            "type": "histogram2d"
           }
          ],
          "histogram2dcontour": [
           {
            "colorbar": {
             "outlinewidth": 0,
             "ticks": ""
            },
            "colorscale": [
             [
              0,
              "#0d0887"
             ],
             [
              0.1111111111111111,
              "#46039f"
             ],
             [
              0.2222222222222222,
              "#7201a8"
             ],
             [
              0.3333333333333333,
              "#9c179e"
             ],
             [
              0.4444444444444444,
              "#bd3786"
             ],
             [
              0.5555555555555556,
              "#d8576b"
             ],
             [
              0.6666666666666666,
              "#ed7953"
             ],
             [
              0.7777777777777778,
              "#fb9f3a"
             ],
             [
              0.8888888888888888,
              "#fdca26"
             ],
             [
              1,
              "#f0f921"
             ]
            ],
            "type": "histogram2dcontour"
           }
          ],
          "mesh3d": [
           {
            "colorbar": {
             "outlinewidth": 0,
             "ticks": ""
            },
            "type": "mesh3d"
           }
          ],
          "parcoords": [
           {
            "line": {
             "colorbar": {
              "outlinewidth": 0,
              "ticks": ""
             }
            },
            "type": "parcoords"
           }
          ],
          "pie": [
           {
            "automargin": true,
            "type": "pie"
           }
          ],
          "scatter": [
           {
            "fillpattern": {
             "fillmode": "overlay",
             "size": 10,
             "solidity": 0.2
            },
            "type": "scatter"
           }
          ],
          "scatter3d": [
           {
            "line": {
             "colorbar": {
              "outlinewidth": 0,
              "ticks": ""
             }
            },
            "marker": {
             "colorbar": {
              "outlinewidth": 0,
              "ticks": ""
             }
            },
            "type": "scatter3d"
           }
          ],
          "scattercarpet": [
           {
            "marker": {
             "colorbar": {
              "outlinewidth": 0,
              "ticks": ""
             }
            },
            "type": "scattercarpet"
           }
          ],
          "scattergeo": [
           {
            "marker": {
             "colorbar": {
              "outlinewidth": 0,
              "ticks": ""
             }
            },
            "type": "scattergeo"
           }
          ],
          "scattergl": [
           {
            "marker": {
             "colorbar": {
              "outlinewidth": 0,
              "ticks": ""
             }
            },
            "type": "scattergl"
           }
          ],
          "scattermapbox": [
           {
            "marker": {
             "colorbar": {
              "outlinewidth": 0,
              "ticks": ""
             }
            },
            "type": "scattermapbox"
           }
          ],
          "scatterpolar": [
           {
            "marker": {
             "colorbar": {
              "outlinewidth": 0,
              "ticks": ""
             }
            },
            "type": "scatterpolar"
           }
          ],
          "scatterpolargl": [
           {
            "marker": {
             "colorbar": {
              "outlinewidth": 0,
              "ticks": ""
             }
            },
            "type": "scatterpolargl"
           }
          ],
          "scatterternary": [
           {
            "marker": {
             "colorbar": {
              "outlinewidth": 0,
              "ticks": ""
             }
            },
            "type": "scatterternary"
           }
          ],
          "surface": [
           {
            "colorbar": {
             "outlinewidth": 0,
             "ticks": ""
            },
            "colorscale": [
             [
              0,
              "#0d0887"
             ],
             [
              0.1111111111111111,
              "#46039f"
             ],
             [
              0.2222222222222222,
              "#7201a8"
             ],
             [
              0.3333333333333333,
              "#9c179e"
             ],
             [
              0.4444444444444444,
              "#bd3786"
             ],
             [
              0.5555555555555556,
              "#d8576b"
             ],
             [
              0.6666666666666666,
              "#ed7953"
             ],
             [
              0.7777777777777778,
              "#fb9f3a"
             ],
             [
              0.8888888888888888,
              "#fdca26"
             ],
             [
              1,
              "#f0f921"
             ]
            ],
            "type": "surface"
           }
          ],
          "table": [
           {
            "cells": {
             "fill": {
              "color": "#EBF0F8"
             },
             "line": {
              "color": "white"
             }
            },
            "header": {
             "fill": {
              "color": "#C8D4E3"
             },
             "line": {
              "color": "white"
             }
            },
            "type": "table"
           }
          ]
         },
         "layout": {
          "annotationdefaults": {
           "arrowcolor": "#2a3f5f",
           "arrowhead": 0,
           "arrowwidth": 1
          },
          "autotypenumbers": "strict",
          "coloraxis": {
           "colorbar": {
            "outlinewidth": 0,
            "ticks": ""
           }
          },
          "colorscale": {
           "diverging": [
            [
             0,
             "#8e0152"
            ],
            [
             0.1,
             "#c51b7d"
            ],
            [
             0.2,
             "#de77ae"
            ],
            [
             0.3,
             "#f1b6da"
            ],
            [
             0.4,
             "#fde0ef"
            ],
            [
             0.5,
             "#f7f7f7"
            ],
            [
             0.6,
             "#e6f5d0"
            ],
            [
             0.7,
             "#b8e186"
            ],
            [
             0.8,
             "#7fbc41"
            ],
            [
             0.9,
             "#4d9221"
            ],
            [
             1,
             "#276419"
            ]
           ],
           "sequential": [
            [
             0,
             "#0d0887"
            ],
            [
             0.1111111111111111,
             "#46039f"
            ],
            [
             0.2222222222222222,
             "#7201a8"
            ],
            [
             0.3333333333333333,
             "#9c179e"
            ],
            [
             0.4444444444444444,
             "#bd3786"
            ],
            [
             0.5555555555555556,
             "#d8576b"
            ],
            [
             0.6666666666666666,
             "#ed7953"
            ],
            [
             0.7777777777777778,
             "#fb9f3a"
            ],
            [
             0.8888888888888888,
             "#fdca26"
            ],
            [
             1,
             "#f0f921"
            ]
           ],
           "sequentialminus": [
            [
             0,
             "#0d0887"
            ],
            [
             0.1111111111111111,
             "#46039f"
            ],
            [
             0.2222222222222222,
             "#7201a8"
            ],
            [
             0.3333333333333333,
             "#9c179e"
            ],
            [
             0.4444444444444444,
             "#bd3786"
            ],
            [
             0.5555555555555556,
             "#d8576b"
            ],
            [
             0.6666666666666666,
             "#ed7953"
            ],
            [
             0.7777777777777778,
             "#fb9f3a"
            ],
            [
             0.8888888888888888,
             "#fdca26"
            ],
            [
             1,
             "#f0f921"
            ]
           ]
          },
          "colorway": [
           "#636efa",
           "#EF553B",
           "#00cc96",
           "#ab63fa",
           "#FFA15A",
           "#19d3f3",
           "#FF6692",
           "#B6E880",
           "#FF97FF",
           "#FECB52"
          ],
          "font": {
           "color": "#2a3f5f"
          },
          "geo": {
           "bgcolor": "white",
           "lakecolor": "white",
           "landcolor": "#E5ECF6",
           "showlakes": true,
           "showland": true,
           "subunitcolor": "white"
          },
          "hoverlabel": {
           "align": "left"
          },
          "hovermode": "closest",
          "mapbox": {
           "style": "light"
          },
          "paper_bgcolor": "white",
          "plot_bgcolor": "#E5ECF6",
          "polar": {
           "angularaxis": {
            "gridcolor": "white",
            "linecolor": "white",
            "ticks": ""
           },
           "bgcolor": "#E5ECF6",
           "radialaxis": {
            "gridcolor": "white",
            "linecolor": "white",
            "ticks": ""
           }
          },
          "scene": {
           "xaxis": {
            "backgroundcolor": "#E5ECF6",
            "gridcolor": "white",
            "gridwidth": 2,
            "linecolor": "white",
            "showbackground": true,
            "ticks": "",
            "zerolinecolor": "white"
           },
           "yaxis": {
            "backgroundcolor": "#E5ECF6",
            "gridcolor": "white",
            "gridwidth": 2,
            "linecolor": "white",
            "showbackground": true,
            "ticks": "",
            "zerolinecolor": "white"
           },
           "zaxis": {
            "backgroundcolor": "#E5ECF6",
            "gridcolor": "white",
            "gridwidth": 2,
            "linecolor": "white",
            "showbackground": true,
            "ticks": "",
            "zerolinecolor": "white"
           }
          },
          "shapedefaults": {
           "line": {
            "color": "#2a3f5f"
           }
          },
          "ternary": {
           "aaxis": {
            "gridcolor": "white",
            "linecolor": "white",
            "ticks": ""
           },
           "baxis": {
            "gridcolor": "white",
            "linecolor": "white",
            "ticks": ""
           },
           "bgcolor": "#E5ECF6",
           "caxis": {
            "gridcolor": "white",
            "linecolor": "white",
            "ticks": ""
           }
          },
          "title": {
           "x": 0.05
          },
          "xaxis": {
           "automargin": true,
           "gridcolor": "white",
           "linecolor": "white",
           "ticks": "",
           "title": {
            "standoff": 15
           },
           "zerolinecolor": "white",
           "zerolinewidth": 2
          },
          "yaxis": {
           "automargin": true,
           "gridcolor": "white",
           "linecolor": "white",
           "ticks": "",
           "title": {
            "standoff": 15
           },
           "zerolinecolor": "white",
           "zerolinewidth": 2
          }
         }
        },
        "title": {
         "text": "Effect of College Selectivity on Median Income 10 Years Later"
        },
        "xaxis": {
         "anchor": "y",
         "domain": [
          0,
          1
         ],
         "title": {
          "text": "Average SAT"
         }
        },
        "yaxis": {
         "anchor": "x",
         "domain": [
          0,
          1
         ],
         "title": {
          "text": "Median Earning 10 Years After"
         }
        }
       }
      }
     },
     "metadata": {},
     "output_type": "display_data"
    }
   ],
   "source": [
    "import plotly.express as px\n",
    "df1.rename(columns={'scorecard_rej_rate_2013': 'Rejection Rate'}, inplace=True)\n",
    "df1.rename(columns={'barrons': 'College Ranking'}, inplace=True)\n",
    "fig = px.scatter(df1, x=\"sat_avg_2001\", color= \"College Ranking\",y=\"scorecard_median_earnings_2011\", hover_data=[\"name\"],\n",
    "trendline=\"ols\", trendline_scope=\"overall\",color_continuous_scale=px.colors.sequential.Viridis, range_color=[1,6])\n",
    "fig.update_layout(legend_orientation=\"h\", title=\"Effect of College Selectivity on Median Income 10 Years Later\")\n",
    "fig.update_traces(marker=dict(size=10,line=dict(width=1)))\n",
    "fig.update_xaxes(title=\"Average SAT\")\n",
    "fig.update_yaxes(title=\"Median Earning 10 Years After\") \n",
    "fig.update_layout(coloraxis_colorbar=dict(tickvals=[1,2,3,4,5,6],ticktext=[\"Elite\", \"Highly Selective\", \"Selective\", \"Selective\",\"Selective\",\"Non-Selective\"]))\n",
    "fig.show()\n"
   ]
  },
  {
   "cell_type": "code",
   "execution_count": 34,
   "metadata": {},
   "outputs": [
    {
     "data": {
      "application/vnd.plotly.v1+json": {
       "config": {
        "plotlyServerURL": "https://plot.ly"
       },
       "data": [
        {
         "customdata": [
          [
           "Abilene Christian University"
          ],
          [
           "Adelphi University"
          ],
          [
           "Agnes Scott College"
          ],
          [
           "Alabama State University"
          ],
          [
           "Albany State University"
          ],
          [
           "Albertus Magnus College"
          ],
          [
           "Albion College"
          ],
          [
           "Albright College"
          ],
          [
           "Alderson Broaddus University"
          ],
          [
           "Alfred University"
          ],
          [
           "Allegheny College"
          ],
          [
           "Alma College"
          ],
          [
           "Alvernia University"
          ],
          [
           "American International College"
          ],
          [
           "American University "
          ],
          [
           "Amherst College"
          ],
          [
           "Anderson University of Anderson, SC"
          ],
          [
           "Andrews University"
          ],
          [
           "Angelo State University"
          ],
          [
           "Anna Maria College"
          ],
          [
           "Appalachian State University"
          ],
          [
           "Arcadia University"
          ],
          [
           "Arizona State And Northern Arizona University And University Of Arizona"
          ],
          [
           "Armstrong Atlantic State University"
          ],
          [
           "Asbury College"
          ],
          [
           "Ashland University"
          ],
          [
           "Assumption College"
          ],
          [
           "Auburn University"
          ],
          [
           "Auburn University Montgomery"
          ],
          [
           "Augsburg College"
          ],
          [
           "Austin College"
          ],
          [
           "Austin Peay State University"
          ],
          [
           "Averett University"
          ],
          [
           "Azusa Pacific University"
          ],
          [
           "Babson College"
          ],
          [
           "Baldwin Wallace University"
          ],
          [
           "Ball State University"
          ],
          [
           "Barnard College"
          ],
          [
           "Barry University"
          ],
          [
           "Barton College"
          ],
          [
           "Bates College"
          ],
          [
           "Bay Path College"
          ],
          [
           "Baylor University"
          ],
          [
           "Becker College"
          ],
          [
           "Belhaven University"
          ],
          [
           "Bellarmine University"
          ],
          [
           "Belmont Abbey College"
          ],
          [
           "Belmont University"
          ],
          [
           "Beloit College"
          ],
          [
           "Bennington College"
          ],
          [
           "Bentley University"
          ],
          [
           "Berry College"
          ],
          [
           "Bethany College of Bethany, WV"
          ],
          [
           "Bethel College"
          ],
          [
           "Bethel University of McKenzie, TN"
          ],
          [
           "Bethel University of Saint Paul, MN"
          ],
          [
           "Bethune Cookman University"
          ],
          [
           "Binghamton University"
          ],
          [
           "Birmingham Southern College"
          ],
          [
           "Bloomfield College"
          ],
          [
           "Bloomsburg University Of Pennsylvania"
          ],
          [
           "Boise State University"
          ],
          [
           "Boston College"
          ],
          [
           "Boston University"
          ],
          [
           "Bowdoin College"
          ],
          [
           "Bowling Green State University"
          ],
          [
           "Brandeis University"
          ],
          [
           "Brenau University"
          ],
          [
           "Brevard College"
          ],
          [
           "Brewton Parker College"
          ],
          [
           "Bridgewater College"
          ],
          [
           "Bridgewater State University"
          ],
          [
           "Brigham Young University-Idaho"
          ],
          [
           "Brown University"
          ],
          [
           "Bryan College"
          ],
          [
           "Bryant University"
          ],
          [
           "Bryn Mawr College"
          ],
          [
           "Bucknell University"
          ],
          [
           "Butler University"
          ],
          [
           "CUNY Bernard M. Baruch College"
          ],
          [
           "CUNY Brooklyn College"
          ],
          [
           "CUNY Hunter College"
          ],
          [
           "CUNY John Jay College Of Criminal Justice"
          ],
          [
           "CUNY Lehman College"
          ],
          [
           "CUNY Queens College"
          ],
          [
           "CUNY York College"
          ],
          [
           "Cabrini College"
          ],
          [
           "Cairn University"
          ],
          [
           "Caldwell College"
          ],
          [
           "California Institute Of Technology"
          ],
          [
           "California Lutheran University"
          ],
          [
           "California Maritime Academy"
          ],
          [
           "California Polytechnic State University"
          ],
          [
           "California State Polytechnic University, Pomona"
          ],
          [
           "California State University - Sacramento"
          ],
          [
           "California State University, Bakersfield"
          ],
          [
           "California State University, Chico"
          ],
          [
           "California State University, Dominguez Hills"
          ],
          [
           "California State University, East Bay"
          ],
          [
           "California State University, Fresno"
          ],
          [
           "California State University, Fullerton"
          ],
          [
           "California State University, Long Beach"
          ],
          [
           "California State University, Los Angeles"
          ],
          [
           "California State University, Monterey Bay"
          ],
          [
           "California State University, Northridge"
          ],
          [
           "California State University, San Bernardino"
          ],
          [
           "California State University, San Marcos"
          ],
          [
           "California State University, Stanislaus"
          ],
          [
           "California University Of Pennsylvania"
          ],
          [
           "Canisius College"
          ],
          [
           "Capital University"
          ],
          [
           "Carleton College"
          ],
          [
           "Carlow University"
          ],
          [
           "Carnegie Mellon University"
          ],
          [
           "Carroll College"
          ],
          [
           "Carthage College"
          ],
          [
           "Case Western Reserve University"
          ],
          [
           "Catawba College"
          ],
          [
           "Catholic University Of America "
          ],
          [
           "Cazenovia College"
          ],
          [
           "Cedar Crest College"
          ],
          [
           "Cedarville University"
          ],
          [
           "Centenary College"
          ],
          [
           "Centenary College Of Louisiana"
          ],
          [
           "Central Connecticut State University"
          ],
          [
           "Central Washington University"
          ],
          [
           "Centre College Of Kentucky"
          ],
          [
           "Chaminade University Of Honolulu"
          ],
          [
           "Champlain College"
          ],
          [
           "Chapman University"
          ],
          [
           "Charleston Southern University"
          ],
          [
           "Chatham University"
          ],
          [
           "Chestnut Hill College"
          ],
          [
           "Christian Brothers University"
          ],
          [
           "Christopher Newport University"
          ],
          [
           "Citadel, The Military College Of South Carolina"
          ],
          [
           "City College Of New York - CUNY"
          ],
          [
           "Claflin University"
          ],
          [
           "Claremont Mckenna College"
          ],
          [
           "Clark Atlanta University"
          ],
          [
           "Clark University"
          ],
          [
           "Clarke University"
          ],
          [
           "Clarkson University"
          ],
          [
           "Clemson University"
          ],
          [
           "Coastal Carolina University"
          ],
          [
           "Coe College"
          ],
          [
           "Colby College"
          ],
          [
           "Colby-Sawyer College"
          ],
          [
           "Colgate University"
          ],
          [
           "College Of Charleston"
          ],
          [
           "College Of Mount Saint Joseph"
          ],
          [
           "College Of Mount Saint Vincent And Manhattan College"
          ],
          [
           "College Of New Jersey "
          ],
          [
           "College Of New Rochelle "
          ],
          [
           "College Of Our Lady Of The Elms"
          ],
          [
           "College Of Saint Benedict"
          ],
          [
           "College Of Saint Elizabeth"
          ],
          [
           "College Of Saint Rose"
          ],
          [
           "College Of Saint Scholastica"
          ],
          [
           "College Of Staten Island/CUNY"
          ],
          [
           "College Of The Holy Cross"
          ],
          [
           "College Of William & Mary"
          ],
          [
           "College Of Wooster "
          ],
          [
           "Colorado Christian University"
          ],
          [
           "Colorado College"
          ],
          [
           "Colorado School Of Mines"
          ],
          [
           "Colorado State University"
          ],
          [
           "Colorado State University-Pueblo"
          ],
          [
           "Columbus State University"
          ],
          [
           "Concord University"
          ],
          [
           "Concordia University - Saint Paul"
          ],
          [
           "Concordia University - Wisconsin"
          ],
          [
           "Concordia University Texas"
          ],
          [
           "Concordia University of Irvine, CA"
          ],
          [
           "Concordia University of Portland, OR"
          ],
          [
           "Connecticut College"
          ],
          [
           "Cornell College"
          ],
          [
           "Cornell University"
          ],
          [
           "Covenant College"
          ],
          [
           "Crown College"
          ],
          [
           "Curry College"
          ],
          [
           "D'Youville College"
          ],
          [
           "Daemen College"
          ],
          [
           "Dallas Baptist University"
          ],
          [
           "Daniel Webster College"
          ],
          [
           "Dartmouth College"
          ],
          [
           "Davidson College"
          ],
          [
           "Davis & Elkins College"
          ],
          [
           "DePauw University"
          ],
          [
           "DeSales University"
          ],
          [
           "Dean College"
          ],
          [
           "Defiance College"
          ],
          [
           "Delaware Valley College Of Science & Agriculture"
          ],
          [
           "Denison University"
          ],
          [
           "Depaul University"
          ],
          [
           "Dickinson College"
          ],
          [
           "Dillard University"
          ],
          [
           "Dominican College Of Blauvelt"
          ],
          [
           "Dordt College"
          ],
          [
           "Drake University"
          ],
          [
           "Drew University"
          ],
          [
           "Duquesne University Of The Holy Spirit"
          ],
          [
           "Earlham College"
          ],
          [
           "East Carolina University"
          ],
          [
           "East Stroudsburg University Of Pennsylvania"
          ],
          [
           "East Tennessee State University"
          ],
          [
           "Eastern Connecticut State University"
          ],
          [
           "Eastern Mennonite University"
          ],
          [
           "Eastern Michigan University"
          ],
          [
           "Eastern Nazarene College"
          ],
          [
           "Eastern Oregon University"
          ],
          [
           "Eastern University"
          ],
          [
           "Eastern Washington University"
          ],
          [
           "Eckerd College"
          ],
          [
           "Edinboro University Of Pennsylvania"
          ],
          [
           "Elizabeth City State University"
          ],
          [
           "Elizabethtown College"
          ],
          [
           "Elmira College"
          ],
          [
           "Elon University"
          ],
          [
           "Embry-Riddle Aeronautical University"
          ],
          [
           "Emerson College"
          ],
          [
           "Emory & Henry College"
          ],
          [
           "Emory University"
          ],
          [
           "Endicott College"
          ],
          [
           "Erskine College"
          ],
          [
           "Evergreen State College "
          ],
          [
           "Fairfield University"
          ],
          [
           "Fairleigh Dickinson University"
          ],
          [
           "Fayetteville State University"
          ],
          [
           "Felician College"
          ],
          [
           "Ferrum College"
          ],
          [
           "Fitchburg State University"
          ],
          [
           "Flagler College"
          ],
          [
           "Florida Agricultural & Mechanical University"
          ],
          [
           "Florida Atlantic University"
          ],
          [
           "Florida College"
          ],
          [
           "Florida Gulf Coast University"
          ],
          [
           "Florida Institute Of Technology"
          ],
          [
           "Florida International University"
          ],
          [
           "Florida Southern College"
          ],
          [
           "Florida State University"
          ],
          [
           "Fordham University"
          ],
          [
           "Fort Lewis College"
          ],
          [
           "Fort Valley State University"
          ],
          [
           "Framingham State University"
          ],
          [
           "Francis Marion University"
          ],
          [
           "Franciscan University Of Steubenville"
          ],
          [
           "Franklin & Marshall College"
          ],
          [
           "Franklin College Of Indiana"
          ],
          [
           "Franklin Pierce University"
          ],
          [
           "Fresno Pacific University"
          ],
          [
           "Furman University"
          ],
          [
           "Gannon University"
          ],
          [
           "Geneva College"
          ],
          [
           "George Fox University"
          ],
          [
           "George Mason University"
          ],
          [
           "George Washington University"
          ],
          [
           "Georgetown University"
          ],
          [
           "Georgia College & State University"
          ],
          [
           "Georgia Institute Of Technology"
          ],
          [
           "Georgia Perimeter College"
          ],
          [
           "Georgia Southern University"
          ],
          [
           "Georgia Southwestern State University"
          ],
          [
           "Georgia State University"
          ],
          [
           "Georgian Court University"
          ],
          [
           "Gettysburg College"
          ],
          [
           "Glenville State College"
          ],
          [
           "Gonzaga University"
          ],
          [
           "Gordon College"
          ],
          [
           "Gordon State College"
          ],
          [
           "Goshen College"
          ],
          [
           "Goucher College"
          ],
          [
           "Green Mountain College"
          ],
          [
           "Greensboro College"
          ],
          [
           "Grinnell College"
          ],
          [
           "Guilford College"
          ],
          [
           "Hamilton College"
          ],
          [
           "Hampden Sydney College"
          ],
          [
           "Hampton University"
          ],
          [
           "Hannibal - Lagrange University"
          ],
          [
           "Hanover College"
          ],
          [
           "Harcum College"
          ],
          [
           "Hardin-Simmons University"
          ],
          [
           "Harding University"
          ],
          [
           "Hartwick College"
          ],
          [
           "Harvard University"
          ],
          [
           "Harvey Mudd College"
          ],
          [
           "Hastings College"
          ],
          [
           "Haverford College"
          ],
          [
           "Hawaii Pacific University"
          ],
          [
           "Henderson State University"
          ],
          [
           "Hendrix College"
          ],
          [
           "High Point University"
          ],
          [
           "Hiram College"
          ],
          [
           "Hobart And William Smith Colleges"
          ],
          [
           "Hofstra University"
          ],
          [
           "Hollins University"
          ],
          [
           "Holy Family University"
          ],
          [
           "Hood College"
          ],
          [
           "Hope College"
          ],
          [
           "Houghton College"
          ],
          [
           "Houston Baptist University"
          ],
          [
           "Howard Payne University"
          ],
          [
           "Howard University"
          ],
          [
           "Humboldt State University"
          ],
          [
           "Huntingdon College"
          ],
          [
           "Huntington University"
          ],
          [
           "Huston - Tillotson University"
          ],
          [
           "Illinois Institute Of Technology"
          ],
          [
           "Illinois Wesleyan University"
          ],
          [
           "Immaculata University"
          ],
          [
           "Indiana State University"
          ],
          [
           "Indiana University - Purdue University - Ft Wayne"
          ],
          [
           "Indiana University Of Pennsylvania"
          ],
          [
           "Indiana University System"
          ],
          [
           "Indiana Wesleyan University"
          ],
          [
           "Iona College"
          ],
          [
           "Iowa State University Of Science & Technology"
          ],
          [
           "Ithaca College"
          ],
          [
           "Jacksonville University"
          ],
          [
           "James Madison University"
          ],
          [
           "John Brown University"
          ],
          [
           "John Carroll University"
          ],
          [
           "John, Castleton And Lyndon State Colleges And Community College Of Vermont"
          ],
          [
           "Johns Hopkins University"
          ],
          [
           "Johnson & Wales University"
          ],
          [
           "Johnson C Smith University"
          ],
          [
           "Johnson University"
          ],
          [
           "Juniata College"
          ],
          [
           "Kalamazoo College"
          ],
          [
           "Kean University"
          ],
          [
           "Keene State College"
          ],
          [
           "Kendall College"
          ],
          [
           "Kennesaw State University"
          ],
          [
           "Kentucky State University"
          ],
          [
           "Kentucky Wesleyan College"
          ],
          [
           "Kenyon College"
          ],
          [
           "Kettering University"
          ],
          [
           "Keystone College"
          ],
          [
           "King University"
          ],
          [
           "King's College of Wilkes-Barre, PA"
          ],
          [
           "Knox College"
          ],
          [
           "Kutztown University Of Pennsylvania"
          ],
          [
           "La Salle University"
          ],
          [
           "La Sierra University"
          ],
          [
           "Lafayette College"
          ],
          [
           "Lagrange College"
          ],
          [
           "Lamar University"
          ],
          [
           "Lancaster Bible College"
          ],
          [
           "Lander University"
          ],
          [
           "Lasell College"
          ],
          [
           "Lawrence University Of Wisconsin"
          ],
          [
           "Le Moyne College"
          ],
          [
           "Lebanon Valley College"
          ],
          [
           "Lees-Mcrae College"
          ],
          [
           "Lehigh University"
          ],
          [
           "Lenoir-Rhyne University"
          ],
          [
           "Lesley University"
          ],
          [
           "Letourneau University"
          ],
          [
           "Lewis & Clark College"
          ],
          [
           "Lewis University"
          ],
          [
           "Lim College"
          ],
          [
           "Limestone College"
          ],
          [
           "Linfield College"
          ],
          [
           "Lipscomb University"
          ],
          [
           "Lock Haven University Of Pennsylvania"
          ],
          [
           "Long Island University System"
          ],
          [
           "Longwood University"
          ],
          [
           "Louisburg College"
          ],
          [
           "Lourdes University"
          ],
          [
           "Loyola Marymount University"
          ],
          [
           "Loyola University Chicago"
          ],
          [
           "Loyola University Maryland"
          ],
          [
           "Loyola University New Orleans"
          ],
          [
           "Lubbock Christian University"
          ],
          [
           "Lycoming College"
          ],
          [
           "Lynchburg College"
          ],
          [
           "Lynn University"
          ],
          [
           "MCP Hahnemann And Drexel Universities"
          ],
          [
           "MacMurray College"
          ],
          [
           "Macalester College"
          ],
          [
           "Manchester University"
          ],
          [
           "Manhattanville College"
          ],
          [
           "Manor College"
          ],
          [
           "Marian University of Indianapolis, IN"
          ],
          [
           "Marquette University"
          ],
          [
           "Mars Hill University"
          ],
          [
           "Mary Baldwin College"
          ],
          [
           "Marymount Manhattan College"
          ],
          [
           "Marymount University"
          ],
          [
           "Maryville College"
          ],
          [
           "Maryville University Of Saint Louis"
          ],
          [
           "Marywood University"
          ],
          [
           "Massachusetts College Of Liberal Arts"
          ],
          [
           "Massachusetts Institute Of Technology"
          ],
          [
           "Massachusetts Maritime Academy"
          ],
          [
           "Master's College & Seminary "
          ],
          [
           "McDaniel College"
          ],
          [
           "McMurry University"
          ],
          [
           "McPherson College"
          ],
          [
           "Medaille College"
          ],
          [
           "Mercer University"
          ],
          [
           "Mercyhurst University"
          ],
          [
           "Meredith College"
          ],
          [
           "Merrimack College"
          ],
          [
           "Messiah College"
          ],
          [
           "Methodist University"
          ],
          [
           "Miami University"
          ],
          [
           "Michigan State University"
          ],
          [
           "Midwestern State University"
          ],
          [
           "Millersville University Of Pennsylvania"
          ],
          [
           "Milligan College"
          ],
          [
           "Mills College"
          ],
          [
           "Millsaps College"
          ],
          [
           "Milwaukee School Of Engineering"
          ],
          [
           "Misericordia  University"
          ],
          [
           "Missouri Valley College"
          ],
          [
           "Molloy College"
          ],
          [
           "Monmouth University"
          ],
          [
           "Montana State University Bozeman"
          ],
          [
           "Montana Tech Of The University Of Montana"
          ],
          [
           "Montclair State University"
          ],
          [
           "Moravian College"
          ],
          [
           "Morehouse College"
          ],
          [
           "Motlow State Community College"
          ],
          [
           "Mount Ida College"
          ],
          [
           "Mount Saint Mary College"
          ],
          [
           "Mount Saint Mary's University"
          ],
          [
           "Mount St. Mary's College"
          ],
          [
           "Mount Vernon Nazarene University"
          ],
          [
           "Multnomah University"
          ],
          [
           "Muskingum University"
          ],
          [
           "Nazareth College Of Rochester"
          ],
          [
           "Neumann University"
          ],
          [
           "New Jersey City University"
          ],
          [
           "New Jersey Institute Of Technology"
          ],
          [
           "New York University"
          ],
          [
           "Newberry College"
          ],
          [
           "Newman University"
          ],
          [
           "Niagara University"
          ],
          [
           "Nichols College"
          ],
          [
           "Norfolk State University"
          ],
          [
           "North Carolina Agricultural & Technical State University"
          ],
          [
           "North Carolina Central University"
          ],
          [
           "North Carolina State University"
          ],
          [
           "North Central College"
          ],
          [
           "North Central University"
          ],
          [
           "North Greenville University"
          ],
          [
           "Northeastern University"
          ],
          [
           "Northland College"
          ],
          [
           "Northwest University"
          ],
          [
           "Northwestern University"
          ],
          [
           "Northwood University"
          ],
          [
           "Norwich University"
          ],
          [
           "Notre Dame Of Maryland University"
          ],
          [
           "Nova Southeastern University"
          ],
          [
           "Nyack College"
          ],
          [
           "Oberlin College"
          ],
          [
           "Occidental College"
          ],
          [
           "Ohio State University "
          ],
          [
           "Ohio University"
          ],
          [
           "Ohio Wesleyan University"
          ],
          [
           "Oklahoma City University"
          ],
          [
           "Oklahoma State University"
          ],
          [
           "Old Dominion University"
          ],
          [
           "Oregon Institute Of Technology"
          ],
          [
           "Oregon State University"
          ],
          [
           "Pace University"
          ],
          [
           "Pacific Lutheran University"
          ],
          [
           "Pacific University"
          ],
          [
           "Paine College"
          ],
          [
           "Palm Beach Atlantic University"
          ],
          [
           "Pennsylvania State University "
          ],
          [
           "Pepperdine University"
          ],
          [
           "Pfeiffer University"
          ],
          [
           "Philadelphia University"
          ],
          [
           "Pitzer College"
          ],
          [
           "Plymouth State University Of The University System Of New Hampshire"
          ],
          [
           "Point Loma Nazarene University"
          ],
          [
           "Point Park University"
          ],
          [
           "Pomona College"
          ],
          [
           "Portland State University"
          ],
          [
           "Prairie View Agricultural & Mechanical University"
          ],
          [
           "Presbyterian College"
          ],
          [
           "Princeton University"
          ],
          [
           "Providence College"
          ],
          [
           "Purdue University"
          ],
          [
           "Purdue University - Calumet"
          ],
          [
           "Purdue University - North Central"
          ],
          [
           "Queens University Of Charlotte"
          ],
          [
           "Quinnipiac University"
          ],
          [
           "Radford University"
          ],
          [
           "Ramapo College Of New Jersey"
          ],
          [
           "Randolph - Macon College"
          ],
          [
           "Randolph College"
          ],
          [
           "Reed College"
          ],
          [
           "Regis College"
          ],
          [
           "Regis University"
          ],
          [
           "Rensselaer Polytechnic Institute"
          ],
          [
           "Rhode Island College"
          ],
          [
           "Rhodes College"
          ],
          [
           "Rice University"
          ],
          [
           "Richard Bland College"
          ],
          [
           "Richard Stockton College Of New Jersey "
          ],
          [
           "Rider University"
          ],
          [
           "Ripon College"
          ],
          [
           "Roanoke College"
          ],
          [
           "Robert Morris University"
          ],
          [
           "Roberts Wesleyan College"
          ],
          [
           "Rochester Institute Of Technology"
          ],
          [
           "Rockford University"
          ],
          [
           "Rocky Mountain College"
          ],
          [
           "Roger Williams University"
          ],
          [
           "Rollins College"
          ],
          [
           "Roosevelt University"
          ],
          [
           "Rose - Hulman Institute Of Technology"
          ],
          [
           "Rowan University"
          ],
          [
           "Rutgers, The State University Of New Jersey"
          ],
          [
           "SUNY At Fredonia"
          ],
          [
           "SUNY College At Brockport"
          ],
          [
           "SUNY College At Buffalo"
          ],
          [
           "SUNY College At Cortland"
          ],
          [
           "SUNY College At Geneseo"
          ],
          [
           "SUNY College At Old Westbury"
          ],
          [
           "SUNY College At Oneonta"
          ],
          [
           "SUNY College At Oswego"
          ],
          [
           "SUNY College At Purchase"
          ],
          [
           "SUNY College Of Agriculture & Technology At Cobleskill"
          ],
          [
           "SUNY College Of Technology At Delhi"
          ],
          [
           "SUNY Maritime College"
          ],
          [
           "SUNY Upstate Medical University And SUNY College Of Environment Science And Forestry"
          ],
          [
           "Sacred Heart University"
          ],
          [
           "Sage Colleges"
          ],
          [
           "Saint Anselm College"
          ],
          [
           "Saint Augustine's University"
          ],
          [
           "Saint Francis College"
          ],
          [
           "Saint Francis University"
          ],
          [
           "Saint John Fisher College"
          ],
          [
           "Saint John's University of Collegeville, MN"
          ],
          [
           "Saint John's University of Queens, NY"
          ],
          [
           "Saint Joseph's College of Brooklyn, NY"
          ],
          [
           "Saint Joseph's College of Rensselaer, IN"
          ],
          [
           "Saint Joseph's University"
          ],
          [
           "Saint Leo University"
          ],
          [
           "Saint Martin's University"
          ],
          [
           "Saint Mary's College"
          ],
          [
           "Saint Mary's College Of California"
          ],
          [
           "Saint Mary's University"
          ],
          [
           "Saint Michael's College"
          ],
          [
           "Saint Olaf College"
          ],
          [
           "Saint Peter's University"
          ],
          [
           "Saint Thomas Aquinas College"
          ],
          [
           "Saint Vincent College & Seminary"
          ],
          [
           "Salem College"
          ],
          [
           "Salem State University"
          ],
          [
           "Salve Regina University"
          ],
          [
           "Sam Houston State University"
          ],
          [
           "Samford University"
          ],
          [
           "San Diego State University"
          ],
          [
           "San Francisco State University"
          ],
          [
           "San Jose State University"
          ],
          [
           "Santa Clara University"
          ],
          [
           "Santa Fe University Of Art And Design"
          ],
          [
           "Sarah Lawrence College"
          ],
          [
           "Savannah State University"
          ],
          [
           "Schreiner University"
          ],
          [
           "Scripps College"
          ],
          [
           "Seattle Pacific University"
          ],
          [
           "Seattle University"
          ],
          [
           "Seton Hall University"
          ],
          [
           "Seton Hill University"
          ],
          [
           "Shenandoah University"
          ],
          [
           "Shepherd University"
          ],
          [
           "Shippensburg University Of Pennsylvania"
          ],
          [
           "Shorter University"
          ],
          [
           "Simpson University"
          ],
          [
           "Skidmore College"
          ],
          [
           "Slippery Rock University"
          ],
          [
           "Smith College"
          ],
          [
           "Sonoma State University"
          ],
          [
           "South Carolina State University"
          ],
          [
           "Southern Connecticut State University"
          ],
          [
           "Southern Methodist University"
          ],
          [
           "Southern New Hampshire University"
          ],
          [
           "Southern Oregon University"
          ],
          [
           "Southern Polytechnic State University"
          ],
          [
           "Southern Utah University"
          ],
          [
           "Southern Wesleyan University"
          ],
          [
           "Southwest Baptist University"
          ],
          [
           "Southwestern Adventist University"
          ],
          [
           "Southwestern College"
          ],
          [
           "Southwestern University"
          ],
          [
           "Spartanburg Methodist College"
          ],
          [
           "Spelman College"
          ],
          [
           "Spring Hill College"
          ],
          [
           "Springfield College"
          ],
          [
           "St. Edward's University"
          ],
          [
           "St. John's College"
          ],
          [
           "St. Lawrence University"
          ],
          [
           "Stanford University"
          ],
          [
           "State University Of New York At Albany"
          ],
          [
           "State University Of New York At Buffalo"
          ],
          [
           "State University Of New York At Farmingdale"
          ],
          [
           "State University Of New York At New Paltz"
          ],
          [
           "State University Of New York At Stony Brook"
          ],
          [
           "State University Of New York College At Plattsburgh"
          ],
          [
           "State University Of New York College At Potsdam"
          ],
          [
           "Stephens College"
          ],
          [
           "Sterling College"
          ],
          [
           "Stetson University"
          ],
          [
           "Stevenson University"
          ],
          [
           "Stonehill College"
          ],
          [
           "Suffolk University"
          ],
          [
           "Susquehanna University"
          ],
          [
           "Swarthmore College"
          ],
          [
           "Sweet Briar College"
          ],
          [
           "Syracuse University"
          ],
          [
           "Tarleton State University"
          ],
          [
           "Taylor University"
          ],
          [
           "Temple University"
          ],
          [
           "Tennessee Wesleyan College"
          ],
          [
           "Texas A&M University"
          ],
          [
           "Texas A&M University - Commerce"
          ],
          [
           "Texas A&M University - Corpus Christi"
          ],
          [
           "Texas A&M University - Kingsville"
          ],
          [
           "Texas Christian University"
          ],
          [
           "Texas Lutheran University"
          ],
          [
           "Texas State University"
          ],
          [
           "Texas Tech University"
          ],
          [
           "Texas Wesleyan University"
          ],
          [
           "Texas Woman's University"
          ],
          [
           "Thiel College"
          ],
          [
           "Thomas College"
          ],
          [
           "Thomas More College"
          ],
          [
           "Toccoa Falls College"
          ],
          [
           "Transylvania University"
          ],
          [
           "Trine University"
          ],
          [
           "Trinity College of Hartford, CT"
          ],
          [
           "Trinity International University"
          ],
          [
           "Trinity University"
          ],
          [
           "Truett Mcconnell College"
          ],
          [
           "Truman State University"
          ],
          [
           "Tufts University"
          ],
          [
           "Tulane University"
          ],
          [
           "Tuskegee University"
          ],
          [
           "Union College of Barbourville, KY"
          ],
          [
           "Union College of Schenectady, NY"
          ],
          [
           "Union University"
          ],
          [
           "University Of Alabama"
          ],
          [
           "University Of Alabama In Huntsville"
          ],
          [
           "University Of Arkansas"
          ],
          [
           "University Of Arkansas At Little Rock"
          ],
          [
           "University Of Bridgeport"
          ],
          [
           "University Of California, Berkeley"
          ],
          [
           "University Of California, Davis"
          ],
          [
           "University Of California, Irvine"
          ],
          [
           "University Of California, Los Angeles"
          ],
          [
           "University Of California, Riverside"
          ],
          [
           "University Of California, San Diego"
          ],
          [
           "University Of California, Santa Barbara"
          ],
          [
           "University Of California, Santa Cruz"
          ],
          [
           "University Of Central Florida"
          ],
          [
           "University Of Charleston"
          ],
          [
           "University Of Chicago "
          ],
          [
           "University Of Cincinnati"
          ],
          [
           "University Of Colorado System"
          ],
          [
           "University Of Connecticut"
          ],
          [
           "University Of Dallas"
          ],
          [
           "University Of Dayton"
          ],
          [
           "University Of Delaware"
          ],
          [
           "University Of Denver"
          ],
          [
           "University Of Findlay "
          ],
          [
           "University Of Florida"
          ],
          [
           "University Of Georgia"
          ],
          [
           "University Of Hartford"
          ],
          [
           "University Of Hawaii And Hawaii Community Colleges"
          ],
          [
           "University Of Houston System"
          ],
          [
           "University Of Idaho"
          ],
          [
           "University Of Indianapolis"
          ],
          [
           "University Of La Verne"
          ],
          [
           "University Of Maine System"
          ],
          [
           "University Of Mary Hardin-Baylor"
          ],
          [
           "University Of Mary Washington"
          ],
          [
           "University Of Maryland System (Except University College) And Baltimore City Community College"
          ],
          [
           "University Of Massachusetts System"
          ],
          [
           "University Of Memphis "
          ],
          [
           "University Of Miami"
          ],
          [
           "University Of Michigan - Ann Arbor"
          ],
          [
           "University Of Michigan - Flint"
          ],
          [
           "University Of Missouri System And Missouri University Of Science And Technology"
          ],
          [
           "University Of Montana "
          ],
          [
           "University Of Mount Olive"
          ],
          [
           "University Of Mount Union"
          ],
          [
           "University Of Nebraska System"
          ],
          [
           "University Of Nevada , Reno"
          ],
          [
           "University Of Nevada - Las Vegas"
          ],
          [
           "University Of New England"
          ],
          [
           "University Of New Hampshire"
          ],
          [
           "University Of New Haven"
          ],
          [
           "University Of New Orleans "
          ],
          [
           "University Of North Carolina  Asheville"
          ],
          [
           "University Of North Carolina - Chapel Hill"
          ],
          [
           "University Of North Carolina - Charlotte"
          ],
          [
           "University Of North Carolina - Greensboro"
          ],
          [
           "University Of North Carolina At Pembroke"
          ],
          [
           "University Of North Carolina At Wilmington "
          ],
          [
           "University Of North Florida"
          ],
          [
           "University Of North Texas"
          ],
          [
           "University Of Notre Dame"
          ],
          [
           "University Of Oregon"
          ],
          [
           "University Of Pennsylvania"
          ],
          [
           "University Of Pittsburgh System"
          ],
          [
           "University Of Portland"
          ],
          [
           "University Of Puget Sound"
          ],
          [
           "University Of Redlands"
          ],
          [
           "University Of Rhode Island"
          ],
          [
           "University Of Richmond"
          ],
          [
           "University Of Rochester"
          ],
          [
           "University Of Saint Francis of Fort Wayne, IN"
          ],
          [
           "University Of Saint Thomas of Houston, TX"
          ],
          [
           "University Of San Diego"
          ],
          [
           "University Of San Francisco"
          ],
          [
           "University Of Scranton"
          ],
          [
           "University Of South Alabama"
          ],
          [
           "University Of South Carolina System"
          ],
          [
           "University Of South Florida"
          ],
          [
           "University Of Southern California"
          ],
          [
           "University Of Southern Indiana"
          ],
          [
           "University Of Tampa "
          ],
          [
           "University Of Tennessee System"
          ],
          [
           "University Of Texas At Arlington"
          ],
          [
           "University Of Texas At Austin"
          ],
          [
           "University Of Texas At Dallas"
          ],
          [
           "University Of Texas At San Antonio"
          ],
          [
           "University Of Texas At Tyler"
          ],
          [
           "University Of Texas Of The Permian Basin"
          ],
          [
           "University Of The Cumberlands"
          ],
          [
           "University Of The Incarnate Word"
          ],
          [
           "University Of The Ozarks"
          ],
          [
           "University Of The Pacific"
          ],
          [
           "University Of The Sciences In Philadelphia"
          ],
          [
           "University Of The South "
          ],
          [
           "University Of Tulsa "
          ],
          [
           "University Of Vermont And State Agricultural College"
          ],
          [
           "University Of Virginia"
          ],
          [
           "University Of Virginia's College At Wise "
          ],
          [
           "University Of Washington System"
          ],
          [
           "University Of West Florida "
          ],
          [
           "University Of West Georgia"
          ],
          [
           "University Of Wyoming"
          ],
          [
           "Ursinus College"
          ],
          [
           "Ursuline College"
          ],
          [
           "Valparaiso University"
          ],
          [
           "Vanderbilt University"
          ],
          [
           "Vanguard University Of Southern California"
          ],
          [
           "Vassar College"
          ],
          [
           "Villanova University"
          ],
          [
           "Virginia Commonwealth University"
          ],
          [
           "Virginia Military Institute"
          ],
          [
           "Virginia Polytechnic Institute & State University"
          ],
          [
           "Virginia State University"
          ],
          [
           "Wagner College"
          ],
          [
           "Wake Forest University"
          ],
          [
           "Waldorf College"
          ],
          [
           "Warner University"
          ],
          [
           "Warren Wilson College"
          ],
          [
           "Washington Adventist University"
          ],
          [
           "Washington And Jefferson College"
          ],
          [
           "Washington And Lee University"
          ],
          [
           "Washington College"
          ],
          [
           "Washington State University"
          ],
          [
           "Washington University In St. Louis"
          ],
          [
           "Wayland Baptist University"
          ],
          [
           "Waynesburg University"
          ],
          [
           "Webber International University"
          ],
          [
           "Webster University"
          ],
          [
           "Wellesley College"
          ],
          [
           "Wells College"
          ],
          [
           "Wesley College"
          ],
          [
           "Wesleyan University"
          ],
          [
           "West Chester University Of Pennsylvania"
          ],
          [
           "West Liberty University"
          ],
          [
           "West Texas A&M University"
          ],
          [
           "West Virginia University, West Virginia University Institute Of Technology, West Virginia University - Parkersburg, And Potomac State College"
          ],
          [
           "West Virginia Wesleyan College"
          ],
          [
           "Western Carolina University"
          ],
          [
           "Western Connecticut State University"
          ],
          [
           "Western New England University"
          ],
          [
           "Western Oregon University"
          ],
          [
           "Western State Colorado University"
          ],
          [
           "Western Washington University"
          ],
          [
           "Westfield State University"
          ],
          [
           "Westminster College of New Wilmington, PA"
          ],
          [
           "Westmont College"
          ],
          [
           "Wheaton College of Wheaton, IL"
          ],
          [
           "Wheeling Jesuit University"
          ],
          [
           "Whitman College"
          ],
          [
           "Whittier College"
          ],
          [
           "Widener University"
          ],
          [
           "Wilkes University"
          ],
          [
           "Willamette University"
          ],
          [
           "William Carey University"
          ],
          [
           "William Jewell College"
          ],
          [
           "William Paterson University Of New Jersey"
          ],
          [
           "William Peace University"
          ],
          [
           "Williams College"
          ],
          [
           "Wilmington College"
          ],
          [
           "Wingate University"
          ],
          [
           "Winston-Salem State University"
          ],
          [
           "Winthrop University"
          ],
          [
           "Wittenberg University"
          ],
          [
           "Wofford College"
          ],
          [
           "Woodbury University"
          ],
          [
           "Worcester Polytechnic Institute"
          ],
          [
           "Worcester State University"
          ],
          [
           "Xavier University"
          ],
          [
           "Xavier University Of Louisiana"
          ],
          [
           "Yale University"
          ],
          [
           "Yeshiva University"
          ],
          [
           "York College Of Pennsylvania"
          ],
          [
           "Young Harris College"
          ]
         ],
         "hovertemplate": "Rejection Rate=%{x}<br>scorecard_median_earnings_2011=%{y}<br>name=%{customdata[0]}<br>College Ranking=%{marker.color}<extra></extra>",
         "legendgroup": "",
         "marker": {
          "color": [
           3,
           4,
           2,
           4,
           4,
           5,
           3,
           4,
           4,
           3,
           3,
           3,
           4,
           5,
           2,
           1,
           999,
           4,
           5,
           5,
           3,
           3,
           4,
           4,
           3,
           4,
           4,
           3,
           4,
           4,
           2,
           4,
           5,
           4,
           2,
           3,
           4,
           1,
           4,
           4,
           1,
           4,
           2,
           5,
           5,
           3,
           4,
           3,
           2,
           2,
           2,
           3,
           4,
           4,
           5,
           4,
           5,
           2,
           4,
           4,
           4,
           5,
           1,
           2,
           1,
           4,
           1,
           4,
           999,
           5,
           4,
           4,
           999,
           1,
           4,
           3,
           1,
           1,
           3,
           3,
           4,
           4,
           4,
           5,
           4,
           5,
           4,
           5,
           5,
           1,
           4,
           4,
           3,
           4,
           4,
           5,
           4,
           5,
           4,
           5,
           4,
           4,
           4,
           4,
           5,
           4,
           5,
           4,
           4,
           3,
           4,
           1,
           4,
           1,
           4,
           4,
           1,
           4,
           3,
           4,
           4,
           3,
           5,
           3,
           4,
           4,
           2,
           4,
           3,
           2,
           4,
           4,
           5,
           3,
           3,
           4,
           4,
           4,
           1,
           5,
           2,
           4,
           3,
           2,
           4,
           3,
           1,
           4,
           1,
           3,
           4,
           3,
           1,
           3,
           4,
           3,
           5,
           4,
           4,
           5,
           1,
           1,
           3,
           3,
           2,
           2,
           4,
           5,
           4,
           4,
           4,
           3,
           4,
           4,
           4,
           1,
           3,
           1,
           3,
           999,
           4,
           4,
           4,
           3,
           4,
           1,
           1,
           4,
           3,
           4,
           999,
           4,
           4,
           2,
           3,
           2,
           3,
           5,
           3,
           3,
           3,
           3,
           3,
           4,
           4,
           4,
           4,
           3,
           4,
           5,
           5,
           4,
           4,
           3,
           5,
           5,
           3,
           3,
           2,
           4,
           2,
           4,
           1,
           4,
           4,
           4,
           3,
           4,
           5,
           4,
           5,
           4,
           3,
           4,
           4,
           999,
           4,
           3,
           3,
           4,
           3,
           2,
           4,
           4,
           4,
           4,
           3,
           1,
           4,
           4,
           4,
           2,
           4,
           4,
           4,
           3,
           1,
           1,
           3,
           2,
           999,
           3,
           4,
           3,
           5,
           2,
           5,
           2,
           4,
           999,
           3,
           3,
           4,
           5,
           2,
           3,
           1,
           3,
           4,
           4,
           3,
           999,
           4,
           3,
           4,
           1,
           1,
           4,
           1,
           4,
           3,
           2,
           4,
           3,
           3,
           3,
           4,
           4,
           3,
           3,
           3,
           4,
           4,
           4,
           4,
           4,
           4,
           5,
           2,
           2,
           4,
           4,
           5,
           4,
           3,
           4,
           3,
           3,
           3,
           4,
           3,
           3,
           4,
           999,
           1,
           4,
           4,
           999,
           3,
           2,
           4,
           4,
           4,
           4,
           5,
           4,
           1,
           2,
           5,
           3,
           4,
           2,
           4,
           4,
           4,
           1,
           4,
           5,
           999,
           4,
           4,
           2,
           3,
           3,
           4,
           1,
           4,
           3,
           4,
           4,
           4,
           5,
           4,
           3,
           3,
           5,
           4,
           4,
           999,
           5,
           3,
           2,
           2,
           2,
           4,
           4,
           4,
           4,
           3,
           4,
           1,
           4,
           4,
           999,
           4,
           2,
           5,
           4,
           3,
           4,
           3,
           3,
           4,
           4,
           1,
           4,
           3,
           3,
           5,
           4,
           5,
           3,
           4,
           4,
           4,
           3,
           5,
           3,
           3,
           4,
           4,
           4,
           3,
           3,
           2,
           4,
           4,
           4,
           4,
           3,
           4,
           4,
           4,
           4,
           999,
           5,
           4,
           4,
           4,
           4,
           999,
           4,
           3,
           5,
           4,
           3,
           1,
           5,
           4,
           4,
           5,
           5,
           5,
           5,
           3,
           3,
           4,
           999,
           2,
           4,
           4,
           1,
           5,
           4,
           4,
           4,
           4,
           1,
           1,
           2,
           4,
           4,
           3,
           3,
           4,
           4,
           4,
           4,
           3,
           4,
           5,
           4,
           3,
           2,
           4,
           4,
           2,
           5,
           3,
           4,
           1,
           4,
           5,
           3,
           1,
           2,
           3,
           5,
           999,
           4,
           2,
           4,
           2,
           4,
           3,
           1,
           5,
           4,
           1,
           4,
           2,
           1,
           999,
           3,
           4,
           4,
           3,
           4,
           4,
           3,
           4,
           4,
           4,
           2,
           3,
           1,
           3,
           2,
           3,
           3,
           4,
           4,
           2,
           4,
           3,
           3,
           3,
           4,
           999,
           4,
           3,
           4,
           4,
           4,
           4,
           5,
           5,
           4,
           3,
           4,
           4,
           4,
           3,
           4,
           4,
           3,
           4,
           4,
           3,
           2,
           5,
           5,
           3,
           3,
           5,
           3,
           4,
           3,
           4,
           4,
           4,
           2,
           4,
           2,
           5,
           4,
           1,
           4,
           3,
           3,
           4,
           4,
           4,
           5,
           4,
           4,
           2,
           5,
           2,
           4,
           5,
           4,
           2,
           4,
           4,
           3,
           4,
           4,
           4,
           5,
           4,
           2,
           999,
           3,
           4,
           4,
           3,
           2,
           2,
           1,
           4,
           3,
           4,
           3,
           2,
           4,
           4,
           3,
           4,
           4,
           4,
           3,
           4,
           3,
           1,
           4,
           2,
           4,
           3,
           4,
           4,
           2,
           4,
           5,
           5,
           2,
           4,
           4,
           4,
           4,
           5,
           5,
           5,
           4,
           4,
           3,
           4,
           2,
           4,
           2,
           999,
           3,
           1,
           1,
           4,
           5,
           2,
           3,
           4,
           4,
           3,
           5,
           5,
           2,
           3,
           2,
           1,
           4,
           2,
           2,
           3,
           3,
           4,
           1,
           4,
           3,
           2,
           3,
           3,
           3,
           3,
           4,
           2,
           2,
           4,
           3,
           4,
           4,
           4,
           4,
           4,
           4,
           3,
           2,
           4,
           4,
           1,
           2,
           4,
           3,
           4,
           4,
           4,
           3,
           5,
           4,
           4,
           3,
           4,
           4,
           3,
           1,
           4,
           4,
           5,
           3,
           3,
           4,
           1,
           4,
           1,
           2,
           3,
           2,
           3,
           4,
           1,
           1,
           4,
           4,
           2,
           3,
           3,
           5,
           3,
           3,
           1,
           5,
           4,
           3,
           5,
           2,
           2,
           5,
           999,
           999,
           4,
           4,
           4,
           3,
           3,
           2,
           2,
           3,
           1,
           4,
           3,
           4,
           4,
           4,
           3,
           4,
           3,
           1,
           4,
           1,
           1,
           4,
           4,
           2,
           4,
           3,
           1,
           999,
           5,
           3,
           4,
           3,
           1,
           3,
           4,
           1,
           5,
           4,
           5,
           3,
           1,
           3,
           4,
           1,
           4,
           5,
           4,
           4,
           4,
           4,
           4,
           4,
           4,
           4,
           3,
           4,
           4,
           2,
           2,
           4,
           1,
           4,
           4,
           4,
           3,
           5,
           3,
           4,
           999,
           1,
           4,
           4,
           5,
           4,
           3,
           2,
           5,
           2,
           4,
           3,
           4,
           1,
           4,
           4,
           999
          ],
          "coloraxis": "coloraxis",
          "line": {
           "width": 1
          },
          "size": 10,
          "symbol": "circle"
         },
         "mode": "markers",
         "name": "",
         "orientation": "v",
         "showlegend": false,
         "type": "scatter",
         "x": [
          0.51059997,
          0.3186,
          0.33129999,
          0.48750001,
          0.80080003,
          0.3179,
          0.43610001,
          0.37689999,
          0.5679,
          0.30199999,
          0.3513,
          0.32089999,
          0.2238,
          0.32210001,
          0.56879997,
          0.85720003,
          0.34979999,
          0.62489998,
          0.19509999,
          0.2244,
          0.36770001,
          0.40310001,
          0.20348535,
          0.30019999,
          0.3427,
          0.25619999,
          0.25780001,
          0.1726,
          0.1629,
          0.39140001,
          0.41389999,
          0.14049999,
          0.3671,
          0.2015,
          0.71789998,
          0.36039999,
          0.3946,
          0.79470003,
          0.53219998,
          0.58230001,
          0.75830001,
          0.42399999,
          0.4253,
          0.37450001,
          0.5158,
          0.052200001,
          0.32409999,
          0.2013,
          0.3231,
          0.3513,
          0.56209999,
          0.39680001,
          0.50520003,
          0.28420001,
          0.48969999,
          0.0515,
          0.33399999,
          0.57130003,
          0.35780001,
          0.45359999,
          0.1144,
          0.2234,
          0.6778,
          0.54390001,
          0.85049999,
          0.2753,
          0.62959999,
          0.21709999,
          0.55110002,
          0.48629999,
          0.45070001,
          0.214,
          0.0037,
          0.90820003,
          0.62379998,
          0.23450001,
          0.60079998,
          0.70490003,
          0.33899999,
          0.75169998,
          0.68019998,
          0.70279998,
          0.6595,
          0.76719999,
          0.62980002,
          0.64899999,
          0.2572,
          0.4869,
          0.3592,
          0.89450002,
          0.51980001,
          0.252,
          0.68769997,
          0.47819999,
          0.30320001,
          0.33739999,
          0.28389999,
          0.4253,
          0.31279999,
          0.41850001,
          0.54210001,
          0.6918,
          0.32480001,
          0.55599999,
          0.53759998,
          0.41690001,
          0.37490001,
          0.27849999,
          0.073100001,
          0.27489999,
          0.2396,
          0.79049999,
          0.047800001,
          0.74510002,
          0.47,
          0.29820001,
          0.5812,
          0.59420002,
          0.39930001,
          0.22050001,
          0.412,
          0.2599,
          0.090599999,
          0.34029999,
          0.35870001,
          0.17839999,
          0.3143,
          0.16410001,
          0.29210001,
          0.55290002,
          0.31130001,
          0.39230001,
          0.4215,
          0.5255,
          0.40979999,
          0.19589999,
          0.65899998,
          0.47400001,
          0.88270003,
          0.43200001,
          0.38460001,
          0.22480001,
          0.35969999,
          0.42129999,
          0.25960001,
          0.3829,
          0.7396,
          0.1688,
          0.73619998,
          0.2969,
          0.1245,
          0.31549603,
          0.56889999,
          0.4305,
          0.25080001,
          0.2446,
          0.51639998,
          0.22490001,
          0.2735,
          0.0024999999,
          0.67030001,
          0.66790003,
          0.43669999,
          0.023600001,
          0.77719998,
          0.6257,
          0.22570001,
          0.056600001,
          0.44569999,
          0.54299998,
          0.4761,
          0.3008,
          0.53149998,
          0.088100001,
          0.44080001,
          0.6415,
          0.35890001,
          0.84439999,
          0.4296,
          0.44999999,
          0.3308,
          0.20919999,
          0.51359999,
          0.57700002,
          0.40079999,
          0.90219998,
          0.7439,
          0.42660001,
          0.38789999,
          0.242,
          0.31650001,
          0.28400001,
          0.31659999,
          0.54030001,
          0.40130001,
          0.55559999,
          0.64560002,
          0.2811,
          0.2458,
          0.3405,
          0.22570001,
          0.25909999,
          0.36300001,
          0.37830001,
          0.2156,
          0.13510001,
          0.3547,
          0.3495,
          0.36019999,
          0.44209999,
          0.33000001,
          0.35910001,
          0.2033,
          0.28960001,
          0.1265,
          0.4285,
          0.30430001,
          0.2022,
          0.46020001,
          0.12221906,
          0.52020001,
          0.34279999,
          0.7367,
          0.28349999,
          0.30270001,
          0.029100001,
          0.28839999,
          0.25415289,
          0.45039999,
          0.1181,
          0.25889999,
          0.2789,
          0.50129998,
          0.55000001,
          0.52270001,
          0.41249999,
          0.34209999,
          0.3955,
          0.56959999,
          0.5011,
          0.43189999,
          0.52869999,
          0.125,
          0.67269999,
          0.4833,
          0.43329999,
          0.2393,
          0.60689998,
          0.3998,
          0.15279999,
          0.2156,
          0.3603,
          0.19580001,
          0.31979999,
          0.2472,
          0.37970001,
          0.6692,
          0.83029997,
          0.3202,
          0.45070001,
          0.48820001,
          0.47999999,
          0.3197,
          0.45339999,
          0.221,
          0.5837,
          0.2554,
          0.33489999,
          0.58670002,
          0.54710001,
          0.44940001,
          0.2827,
          0.2445,
          0.21690001,
          0.6494,
          0.31819999,
          0.7281,
          0.45140001,
          0.63950002,
          0.3186,
          0.33270001,
          0.31639999,
          0.62410003,
          0.23720001,
          0.1576,
          0.94160002,
          0.81830001,
          0.26359999,
          0.7651,
          0.35890001,
          0.3779,
          0.1961,
          0.35820001,
          0.42640001,
          0.50559998,
          0.4129,
          0.30700001,
          0.24150001,
          0.18979999,
          0.27469999,
          0.089199997,
          0.26820001,
          0.46180001,
          0.50700003,
          0.1982,
          0.3721,
          0.026799999,
          0.54110003,
          0.4303,
          0.41620001,
          0.2036,
          0.16940001,
          0.1691,
          0.095100001,
          0.28738871,
          0.048500001,
          0.0788,
          0.17479999,
          0.33399999,
          0.52630001,
          0.3644,
          0.30180001,
          0.1666,
          0.044296276,
          0.81870002,
          0.27670568,
          0.63319999,
          0.45359999,
          0.25909999,
          0.33109999,
          0.1963,
          0.1815,
          0.1227,
          0.4346,
          0.62260002,
          0.329,
          0.61619997,
          0.38409999,
          0.27950001,
          0.36230001,
          0.28490001,
          0.25040001,
          0.1821,
          0.1979,
          0.5323,
          0.65859997,
          0.4163,
          0.2318,
          0.41870001,
          0.57840002,
          0.2386,
          0.27309999,
          0.38100001,
          0.33140001,
          0.33520001,
          0.69160002,
          0.31940001,
          0.3251,
          0.5934,
          0.37149999,
          0.4413,
          0.2498,
          0.46779999,
          0.078100003,
          0.47299999,
          0.1223,
          0.1692894,
          0.1864,
          0.58490002,
          0.30680001,
          0.45879999,
          0.086000003,
          0.41999999,
          0.1293,
          0.051100001,
          0.28380001,
          0.36309999,
          0.22400001,
          0.185,
          0.25119999,
          0.6584,
          0.28839999,
          0.2326,
          0.54500002,
          0.42050001,
          0.42550001,
          0.35530001,
          0.1165,
          0.25369999,
          0.17479999,
          0.27410001,
          0.23890001,
          0.287,
          0.32800001,
          0.91850001,
          0.2274,
          0.3863,
          0.2413,
          0.40759999,
          0.134,
          0.4571,
          0.31,
          0.2464,
          0.3768,
          0.214,
          0.34099999,
          0.38780001,
          0.33239999,
          0.31349999,
          0.28220001,
          0.2814,
          0.317,
          0.3202,
          0.5255,
          0.3161,
          0.3511,
          0.77819997,
          0.27329999,
          0.2209,
          0.1551,
          0.1109,
          0.3468,
          0.2005,
          0.33160001,
          0.57740003,
          0.3935,
          0.14,
          0.32589999,
          0.25909999,
          0.3651,
          0.46200001,
          0.2404,
          0.3161,
          0.44690001,
          0.58710003,
          0.34529999,
          0.69671321,
          0.40920001,
          0.5528,
          0.33669999,
          0.1953,
          0.35010001,
          0.30360001,
          0.49669999,
          0.49990001,
          0.3635,
          0.047899999,
          0.42089999,
          0.67690003,
          0.4093,
          0.028000001,
          0.84680003,
          0.42775568,
          0.3651,
          0.5036,
          0.42539999,
          0.032900002,
          0.69590002,
          0.57609999,
          0.4447,
          0.2705,
          0.2467,
          0.2802,
          0.23980001,
          0.2321,
          0.28650001,
          0.2106,
          0.2317,
          0.2324,
          0.1381,
          0.56230003,
          0.15880001,
          0.32732177,
          0.62660003,
          0.039099999,
          0.3592,
          0.8549,
          0.2252,
          0.3346,
          0.26069999,
          0.86080003,
          0.3883,
          0.57679999,
          0.34,
          0.92589998,
          0.4021,
          0.39579999,
          0.3937,
          0.2782,
          0.2314,
          0.32780001,
          0.21690001,
          0.4474,
          0.36300001,
          0.1657,
          0.5147,
          0.2757,
          0.30140001,
          0.588,
          0.30849999,
          0.42359999,
          0.8326,
          0.44279999,
          0.37889999,
          0.28130001,
          0.2485,
          0.2719,
          0.19490001,
          0.27399999,
          0.39840001,
          0.59030002,
          0.3317,
          0.1902,
          0.4111,
          0.2122,
          0.43779999,
          0.4077,
          0.41450578,
          0.48460001,
          0.5226,
          0.5147,
          0.53170002,
          0.54339999,
          0.41960001,
          0.49270001,
          0.51370001,
          0.6681,
          0.26910001,
          0.41330001,
          0.36039999,
          0.4948,
          0.2376,
          0.43360001,
          0.26350001,
          0.32620001,
          0.3567,
          0.2394,
          0.3723,
          0.2484,
          0.4684,
          0.2462,
          0.3581,
          0.21269999,
          0.23379999,
          0.124,
          0.1432,
          0.3053,
          0.41769999,
          0.2489,
          0.40810001,
          0.45919999,
          0.1776,
          0.3125,
          0.41800001,
          0.3071,
          0.3294,
          0.35010001,
          0.23029999,
          0.68006116,
          0.36210001,
          0.3653,
          0.4878,
          0.0024999999,
          0.38339999,
          0.1701,
          0.073799998,
          0.64300001,
          0.27860001,
          0.26769999,
          0.2084,
          0.34799999,
          0.15440001,
          0.18979999,
          0.16590001,
          0.3193,
          0.44499999,
          0.64950001,
          0.33019999,
          0.56919998,
          0.1814,
          0.4921,
          0.2458,
          0.493,
          0.21340001,
          0.2696,
          0.2202,
          0.42910001,
          0.063000001,
          0.097800002,
          0.46079999,
          0.1032,
          0.47830001,
          0.1188,
          0.61979997,
          0.53729999,
          0.3008,
          0.2147,
          0.1901,
          0.53570002,
          0.94309998,
          0.44549999,
          0.4348,
          0.4736,
          0.56410003,
          0.60519999,
          0.54360002,
          0.3163,
          0.32440001,
          0.55949998,
          0.4075,
          0.4041,
          0.29089999,
          0.175,
          0.27669999,
          0.85680002,
          0.1569,
          0.50510001,
          0.43180001,
          0.124,
          0.36129999,
          0.287,
          0.3053,
          0.31819999,
          0.074199997,
          0.119,
          0.52609998,
          0.49129999,
          0.2492,
          0.33700001,
          0.7008,
          0.1397,
          0.345,
          0.27559999,
          0.1225,
          0.50599998,
          0.0385,
          0.36248451,
          0.68220001,
          0.062799998,
          0.36070001,
          0.1936,
          0.27810001,
          0.81160003,
          0.73570001,
          0.64889997,
          0.25839999,
          0.62720001,
          0.2588,
          0.43450001,
          0.1938,
          0.41420001,
          0.47260001,
          0.36149999,
          0.81999999,
          0.54790002,
          0.57609999,
          0.78009999,
          0.38,
          0.625,
          0.55559999,
          0.40090001,
          0.51059997,
          0.30950001,
          0.91189998,
          0.26750001,
          0.14849794,
          0.48217809,
          0.098899998,
          0.47029999,
          0.35319999,
          0.23270001,
          0.3168,
          0.5345,
          0.43920001,
          0.3827,
          0.21167371,
          0.31745845,
          0.34349999,
          0.1557,
          0.61049998,
          0.18973465,
          0.1532,
          0.1904,
          0.44592938,
          0.33654049,
          0.3159,
          0.59560001,
          0.6674,
          0.2191,
          0.30264345,
          0.057700001,
          0.50209999,
          0.28799999,
          0.30647621,
          0.1604,
          0.1488,
          0.1416,
          0.22458281,
          0.2559,
          0.4964,
          0.35969999,
          0.72409999,
          0.31479999,
          0.3998,
          0.27959999,
          0.45809999,
          0.4657,
          0.40310001,
          0.77700001,
          0.25830001,
          0.87760001,
          0.35185936,
          0.33199999,
          0.1478,
          0.32800001,
          0.2129,
          0.68839997,
          0.64319998,
          0.46380001,
          0.22759999,
          0.5115,
          0.38710001,
          0.24969999,
          0.13959999,
          0.3740499,
          0.55392766,
          0.80159998,
          0.3066,
          0.4779,
          0.25387013,
          0.40020001,
          0.59810001,
          0.41429999,
          0.26730001,
          0.1797,
          0.15989999,
          0.28729999,
          0.069300003,
          0.38640001,
          0.2735,
          0.43650001,
          0.3973,
          0.5941,
          0.2245,
          0.7001,
          0.25510001,
          0.39629233,
          0.51920003,
          0.46149999,
          0.043099999,
          0.33669999,
          0.42179999,
          0.2031,
          0.87260002,
          0.30230001,
          0.75889999,
          0.51099998,
          0.3087,
          0.52679998,
          0.29719999,
          0.054099999,
          0.3012,
          0.648,
          0.49329999,
          0.66219997,
          0.30399999,
          0.67290002,
          0.6027,
          0.81569999,
          0.33450001,
          0.17919999,
          0.84450001,
          0.0138,
          0.24770001,
          0.35895252,
          0.41940001,
          0.70889997,
          0.40329999,
          0.375,
          0.79079998,
          0.4844,
          0.28780001,
          0.2597,
          0.16621982,
          0.2304,
          0.62339997,
          0.34509999,
          0.1849,
          0.118,
          0.068000004,
          0.1629,
          0.25130001,
          0.26640001,
          0.29840001,
          0.31290001,
          0.31079999,
          0.43040001,
          0.36750001,
          0.3274,
          0.2402,
          0.42160001,
          0.51230001,
          0.42219999,
          0.31889999,
          0.091399997,
          0.82980001,
          0.53969997,
          0.207,
          0.44350001,
          0.2775,
          0.1068,
          0.31200001,
          0.4425,
          0.48410001,
          0.39379999,
          0.3003,
          0.45570001,
          0.92949998,
          0.17839999,
          0.2649,
          0.46349999
         ],
         "xaxis": "x",
         "y": [
          40200,
          50600,
          39400,
          27800,
          32700,
          52200,
          45100,
          48500,
          43400,
          42300,
          49200,
          44700,
          42600,
          42400,
          55900,
          56800,
          32800,
          36000,
          38000,
          42400,
          36600,
          43700,
          43394.035,
          39400,
          34100,
          39200,
          52800,
          45400,
          34800,
          44800,
          47600,
          34700,
          42300,
          49000,
          85500,
          44000,
          39000,
          57400,
          45300,
          36500,
          53500,
          41900,
          49100,
          35800,
          37900,
          44900,
          39200,
          39100,
          37900,
          26500,
          74900,
          37700,
          40900,
          36500,
          35200,
          44000,
          28700,
          58400,
          41900,
          39000,
          43800,
          35300,
          67000,
          60600,
          54800,
          39000,
          58800,
          42600,
          31100,
          34700,
          42600,
          41500,
          39000,
          59700,
          35500,
          61900,
          50400,
          68800,
          52400,
          54000,
          44500,
          44800,
          43700,
          41500,
          48000,
          38200,
          42700,
          32600,
          46200,
          74000,
          52900,
          81100,
          60900,
          52000,
          46500,
          48100,
          45100,
          42800,
          51300,
          43200,
          46500,
          46900,
          44900,
          41500,
          44200,
          45500,
          45400,
          44900,
          38100,
          45700,
          41400,
          46100,
          39900,
          72000,
          44000,
          42400,
          67000,
          36600,
          54500,
          31900,
          45200,
          40900,
          41600,
          39300,
          43700,
          44900,
          45000,
          37300,
          40400,
          51800,
          36100,
          34300,
          43000,
          45300,
          42400,
          52500,
          44500,
          27500,
          63600,
          33700,
          44100,
          40900,
          68400,
          49400,
          36200,
          43800,
          53000,
          38600,
          61500,
          39700,
          39900,
          59749.98,
          56800,
          37400,
          43700,
          47600,
          44900,
          42700,
          47500,
          41600,
          63700,
          56400,
          44400,
          40500,
          41100,
          74700,
          44300,
          36200,
          36100,
          32900,
          45300,
          40700,
          41000,
          42100,
          41800,
          51000,
          41900,
          70900,
          39800,
          31600,
          43600,
          48300,
          42900,
          42200,
          51900,
          67100,
          58500,
          35900,
          47800,
          48300,
          32700,
          37000,
          42200,
          48600,
          50900,
          52100,
          34000,
          51000,
          38400,
          55700,
          50900,
          54300,
          32300,
          39200,
          42900,
          34000,
          42400,
          39500,
          37300,
          44400,
          37800,
          42800,
          40500,
          40800,
          33900,
          30100,
          47700,
          43600,
          44500,
          60900,
          44800,
          39600,
          59000,
          42800,
          36000,
          31800,
          69000,
          46800,
          31100,
          41400,
          36500,
          42100,
          37200,
          37300,
          41400,
          36900,
          41200,
          53100,
          45100,
          37600,
          44000,
          55400,
          34000,
          28900,
          43200,
          32300,
          35500,
          54800,
          41000,
          38000,
          39700,
          47500,
          46200,
          37500,
          43300,
          57000,
          64500,
          83300,
          38500,
          74000,
          32500,
          39300,
          36400,
          41500,
          45700,
          52200,
          31400,
          52800,
          41600,
          29900,
          36300,
          45500,
          30600,
          35100,
          45600,
          38500,
          57300,
          50200,
          42200,
          33900,
          44400,
          33700,
          38600,
          38600,
          46100,
          87200,
          78600,
          40400,
          55600,
          43400,
          35200,
          40500,
          37500,
          39000,
          48600,
          53200,
          37000,
          49900,
          43100,
          43300,
          39200,
          43600,
          37300,
          46500,
          36200,
          37100,
          35500,
          30500,
          68200,
          54600,
          49000,
          36000,
          35900,
          38000,
          39941.473,
          46000,
          52700,
          47200,
          50400,
          47700,
          53400,
          46200,
          51000,
          33739.887,
          69200,
          35100,
          31300,
          29400,
          45200,
          49400,
          46800,
          39900,
          40500,
          41300,
          26600,
          36600,
          43700,
          74900,
          31400,
          39700,
          48900,
          41600,
          41400,
          53200,
          41300,
          69800,
          38100,
          38800,
          30400,
          33900,
          40900,
          42800,
          48800,
          46100,
          34400,
          76800,
          36900,
          36700,
          50000,
          43400,
          47100,
          48900,
          36100,
          51300,
          39000,
          39100,
          46000,
          40800,
          27700,
          36000,
          55600,
          50600,
          62100,
          41300,
          36700,
          42800,
          40900,
          35500,
          61100,
          36700,
          45700,
          38000,
          46300,
          38100,
          40400,
          55600,
          32800,
          36800,
          39500,
          49600,
          36500,
          44500,
          38000,
          36400,
          91600,
          79500,
          40900,
          44600,
          37200,
          35500,
          38200,
          46600,
          38500,
          38400,
          55400,
          41400,
          39600,
          45800,
          49800,
          38500,
          43200,
          36400,
          39000,
          45200,
          65700,
          47500,
          33400,
          57500,
          50300,
          39700,
          39800,
          48700,
          50000,
          40900,
          26700,
          34700,
          47600,
          50300,
          50200,
          39100,
          31400,
          39400,
          43900,
          41600,
          41900,
          65300,
          58800,
          33300,
          41900,
          44000,
          47100,
          34400,
          33600,
          31600,
          47500,
          45700,
          29600,
          31200,
          60100,
          31900,
          40200,
          64100,
          44600,
          45300,
          48800,
          46500,
          38100,
          38400,
          50100,
          42600,
          39500,
          41000,
          39400,
          43400,
          43300,
          50100,
          46400,
          58400,
          45900,
          42300,
          25900,
          38100,
          47500,
          61400,
          37500,
          48700,
          45300,
          37700,
          50300,
          37900,
          52600,
          42800,
          33600,
          41300,
          75100,
          59600,
          52600,
          38100,
          35200,
          38600,
          56400,
          42100,
          48700,
          45700,
          38700,
          36200,
          43300,
          53100,
          81700,
          39600,
          50300,
          59900,
          32100,
          46800,
          48100,
          42800,
          42500,
          44900,
          41900,
          56900,
          39100,
          38200,
          47200,
          42200,
          44600,
          78900,
          48800,
          54800,
          40600,
          40100,
          38900,
          45300,
          46700,
          42900,
          42400,
          40700,
          34700,
          34800,
          34600,
          77300,
          54425.855,
          54100,
          39300,
          55300,
          28200,
          49000,
          46900,
          44800,
          55900,
          54100,
          51800,
          39800,
          58500,
          42600,
          47400,
          45600,
          59000,
          46300,
          46300,
          44800,
          44500,
          48000,
          44200,
          33200,
          40400,
          48300,
          41400,
          45800,
          48700,
          46900,
          54600,
          67700,
          36200,
          39700,
          30800,
          36700,
          47200,
          43900,
          55200,
          53300,
          35600,
          40600,
          38500,
          45200,
          43000,
          33700,
          43100,
          39000,
          42700,
          45600,
          30400,
          41700,
          52200,
          41800,
          37300,
          52400,
          37200,
          41300,
          32800,
          37900,
          44200,
          47200,
          28700,
          46400,
          43800,
          45100,
          44700,
          34300,
          45500,
          80900,
          50900,
          49700,
          45600,
          46000,
          55500,
          40600,
          38000,
          30700,
          32100,
          42600,
          51400,
          58800,
          49900,
          50000,
          49400,
          38600,
          56600,
          40400,
          38600,
          46500,
          35300,
          52900,
          37100,
          42400,
          39700,
          49100,
          43600,
          43700,
          46100,
          39500,
          44800,
          37200,
          36600,
          45800,
          26400,
          41100,
          42600,
          56100,
          38200,
          53200,
          32400,
          42700,
          67800,
          52400,
          37100,
          32500,
          61800,
          37400,
          42400,
          46600,
          43600,
          34800,
          40600,
          62700,
          57100,
          55800,
          59200,
          48700,
          59600,
          52000,
          44600,
          43000,
          42000,
          62800,
          39400,
          53648.348,
          53900,
          45200,
          52300,
          54300,
          51400,
          40600,
          51300,
          46500,
          45900,
          35276.055,
          46279.215,
          39900,
          41600,
          52700,
          34186.586,
          41700,
          47400,
          49980.156,
          47924.445,
          37000,
          52400,
          57900,
          40100,
          46249.395,
          34100,
          39200,
          40800,
          42409.016,
          45500,
          43500,
          44800,
          47300,
          48900,
          38400,
          36000,
          50400,
          41700,
          37000,
          33400,
          38700,
          41600,
          42100,
          69400,
          41600,
          78200,
          48200,
          51700,
          51500,
          53800,
          48200,
          60800,
          55500,
          40000,
          48800,
          56300,
          61000,
          56000,
          38300,
          39789.398,
          41700,
          66100,
          35500,
          44400,
          39380.559,
          46400,
          52800,
          49500,
          44100,
          41600,
          42400,
          33300,
          42700,
          31100,
          66400,
          85800,
          38200,
          43200,
          44000,
          58600,
          36500,
          52100,
          36300,
          36900,
          46200,
          51500,
          42900,
          48100,
          60900,
          38800,
          47100,
          73700,
          41800,
          56600,
          57900,
          34400,
          53800,
          61000,
          36400,
          42200,
          25500,
          46800,
          49900,
          77600,
          48300,
          46400,
          62300,
          40900,
          44700,
          35800,
          39400,
          56700,
          33600,
          41400,
          50900,
          46500,
          33200,
          40000,
          42151.66,
          43100,
          35100,
          43300,
          55100,
          38500,
          36500,
          43200,
          43300,
          44400,
          48300,
          42600,
          43300,
          43000,
          45100,
          51700,
          49900,
          49200,
          34100,
          40300,
          44300,
          35900,
          58100,
          39000,
          37000,
          33300,
          36100,
          42700,
          46800,
          45600,
          77600,
          43700,
          48800,
          46500,
          66000,
          55600,
          47900,
          34100
         ],
         "yaxis": "y"
        },
        {
         "hovertemplate": "<b>OLS trendline</b><br>scorecard_median_earnings_2011 = 20614.7 * Rejection Rate + 37310.1<br>R<sup>2</sup>=0.148811<br><br>Rejection Rate=%{x}<br>scorecard_median_earnings_2011=%{y} <b>(trend)</b><extra></extra>",
         "legendgroup": "Overall Trendline",
         "line": {
          "color": "blue"
         },
         "marker": {
          "line": {
           "width": 1
          },
          "size": 10
         },
         "mode": "lines",
         "name": "Overall Trendline",
         "showlegend": true,
         "type": "scatter",
         "x": [
          0.0024999999,
          0.0024999999,
          0.0037,
          0.0138,
          0.023600001,
          0.026799999,
          0.028000001,
          0.029100001,
          0.032900002,
          0.0385,
          0.039099999,
          0.043099999,
          0.044296276,
          0.047800001,
          0.047899999,
          0.048500001,
          0.051100001,
          0.0515,
          0.052200001,
          0.054099999,
          0.056600001,
          0.057700001,
          0.062799998,
          0.063000001,
          0.068000004,
          0.069300003,
          0.073100001,
          0.073799998,
          0.074199997,
          0.078100003,
          0.0788,
          0.086000003,
          0.088100001,
          0.089199997,
          0.090599999,
          0.091399997,
          0.095100001,
          0.097800002,
          0.098899998,
          0.1032,
          0.1068,
          0.1109,
          0.1144,
          0.1165,
          0.118,
          0.1181,
          0.1188,
          0.119,
          0.12221906,
          0.1223,
          0.1225,
          0.1227,
          0.124,
          0.124,
          0.1245,
          0.125,
          0.1265,
          0.1293,
          0.134,
          0.13510001,
          0.1381,
          0.13959999,
          0.1397,
          0.14,
          0.14049999,
          0.1416,
          0.1432,
          0.1478,
          0.14849794,
          0.1488,
          0.15279999,
          0.1532,
          0.15440001,
          0.1551,
          0.1557,
          0.1569,
          0.1576,
          0.15880001,
          0.15989999,
          0.1604,
          0.1629,
          0.1629,
          0.16410001,
          0.1657,
          0.16590001,
          0.16621982,
          0.1666,
          0.1688,
          0.1691,
          0.1692894,
          0.16940001,
          0.1701,
          0.1726,
          0.17479999,
          0.17479999,
          0.175,
          0.1776,
          0.17839999,
          0.17839999,
          0.17919999,
          0.1797,
          0.1814,
          0.1815,
          0.1821,
          0.1849,
          0.185,
          0.1864,
          0.18973465,
          0.18979999,
          0.18979999,
          0.1901,
          0.1902,
          0.1904,
          0.1936,
          0.1938,
          0.19490001,
          0.19509999,
          0.1953,
          0.19580001,
          0.19589999,
          0.1961,
          0.1963,
          0.1979,
          0.1982,
          0.2005,
          0.2013,
          0.2015,
          0.2022,
          0.2031,
          0.2033,
          0.20348535,
          0.2036,
          0.207,
          0.2084,
          0.20919999,
          0.2106,
          0.21167371,
          0.2122,
          0.21269999,
          0.2129,
          0.21340001,
          0.214,
          0.214,
          0.2147,
          0.2156,
          0.2156,
          0.21690001,
          0.21690001,
          0.21709999,
          0.2191,
          0.2202,
          0.22050001,
          0.2209,
          0.221,
          0.2234,
          0.2238,
          0.22400001,
          0.2244,
          0.2245,
          0.22458281,
          0.22480001,
          0.22490001,
          0.2252,
          0.22570001,
          0.22570001,
          0.2274,
          0.22759999,
          0.23029999,
          0.2304,
          0.2314,
          0.2317,
          0.2318,
          0.2321,
          0.2324,
          0.2326,
          0.23270001,
          0.23379999,
          0.23450001,
          0.23720001,
          0.2376,
          0.2386,
          0.23890001,
          0.2393,
          0.2394,
          0.2396,
          0.23980001,
          0.2402,
          0.2404,
          0.2413,
          0.24150001,
          0.242,
          0.2445,
          0.2446,
          0.2458,
          0.2458,
          0.2462,
          0.2464,
          0.2467,
          0.2472,
          0.24770001,
          0.2484,
          0.2485,
          0.2489,
          0.2492,
          0.24969999,
          0.2498,
          0.25040001,
          0.25080001,
          0.25119999,
          0.25130001,
          0.252,
          0.25369999,
          0.25387013,
          0.25415289,
          0.25510001,
          0.2554,
          0.2559,
          0.25619999,
          0.2572,
          0.25780001,
          0.25830001,
          0.25839999,
          0.2588,
          0.25889999,
          0.25909999,
          0.25909999,
          0.25909999,
          0.25960001,
          0.2597,
          0.2599,
          0.26069999,
          0.26350001,
          0.26359999,
          0.2649,
          0.26640001,
          0.26730001,
          0.26750001,
          0.26769999,
          0.26820001,
          0.26910001,
          0.2696,
          0.2705,
          0.2719,
          0.27309999,
          0.27329999,
          0.2735,
          0.2735,
          0.27399999,
          0.27410001,
          0.27469999,
          0.27489999,
          0.2753,
          0.27559999,
          0.2757,
          0.27669999,
          0.27670568,
          0.2775,
          0.27810001,
          0.2782,
          0.27849999,
          0.27860001,
          0.2789,
          0.27950001,
          0.27959999,
          0.2802,
          0.2811,
          0.28130001,
          0.2814,
          0.28220001,
          0.2827,
          0.28349999,
          0.28380001,
          0.28389999,
          0.28400001,
          0.28420001,
          0.28490001,
          0.28650001,
          0.287,
          0.287,
          0.28729999,
          0.28738871,
          0.28780001,
          0.28799999,
          0.28839999,
          0.28839999,
          0.28960001,
          0.29089999,
          0.29210001,
          0.2969,
          0.29719999,
          0.29820001,
          0.29840001,
          0.30019999,
          0.3003,
          0.3008,
          0.3008,
          0.3012,
          0.30140001,
          0.30180001,
          0.30199999,
          0.30230001,
          0.30264345,
          0.30270001,
          0.30320001,
          0.30360001,
          0.30399999,
          0.30430001,
          0.3053,
          0.3053,
          0.30647621,
          0.3066,
          0.30680001,
          0.30700001,
          0.3071,
          0.30849999,
          0.3087,
          0.30950001,
          0.31,
          0.31079999,
          0.31130001,
          0.31200001,
          0.3125,
          0.31279999,
          0.31290001,
          0.31349999,
          0.3143,
          0.31479999,
          0.31549603,
          0.3159,
          0.3161,
          0.3161,
          0.3163,
          0.31639999,
          0.31650001,
          0.31659999,
          0.3168,
          0.317,
          0.31745845,
          0.3179,
          0.31819999,
          0.31819999,
          0.3186,
          0.3186,
          0.31889999,
          0.3193,
          0.31940001,
          0.3197,
          0.31979999,
          0.3202,
          0.3202,
          0.32089999,
          0.32210001,
          0.3231,
          0.32409999,
          0.32440001,
          0.32480001,
          0.3251,
          0.32589999,
          0.32620001,
          0.32732177,
          0.3274,
          0.32780001,
          0.32800001,
          0.32800001,
          0.329,
          0.3294,
          0.33000001,
          0.33019999,
          0.3308,
          0.33109999,
          0.33129999,
          0.33140001,
          0.33160001,
          0.3317,
          0.33199999,
          0.33239999,
          0.33270001,
          0.33399999,
          0.33399999,
          0.33450001,
          0.3346,
          0.33489999,
          0.33520001,
          0.33654049,
          0.33669999,
          0.33669999,
          0.33700001,
          0.33739999,
          0.33899999,
          0.34,
          0.34029999,
          0.3405,
          0.34099999,
          0.34209999,
          0.3427,
          0.34279999,
          0.34349999,
          0.345,
          0.34509999,
          0.34529999,
          0.3468,
          0.34799999,
          0.3495,
          0.34979999,
          0.35010001,
          0.35010001,
          0.3511,
          0.3513,
          0.3513,
          0.35185936,
          0.35319999,
          0.3547,
          0.35530001,
          0.3567,
          0.35780001,
          0.3581,
          0.35820001,
          0.35870001,
          0.35890001,
          0.35890001,
          0.35895252,
          0.35910001,
          0.3592,
          0.3592,
          0.35969999,
          0.35969999,
          0.36019999,
          0.3603,
          0.36039999,
          0.36039999,
          0.36070001,
          0.36129999,
          0.36149999,
          0.36210001,
          0.36230001,
          0.36248451,
          0.36300001,
          0.36300001,
          0.36309999,
          0.3635,
          0.3644,
          0.3651,
          0.3651,
          0.3653,
          0.3671,
          0.36750001,
          0.36770001,
          0.37149999,
          0.3721,
          0.3723,
          0.3740499,
          0.37450001,
          0.37490001,
          0.375,
          0.3768,
          0.37689999,
          0.3779,
          0.37830001,
          0.37889999,
          0.37970001,
          0.38,
          0.38100001,
          0.3827,
          0.3829,
          0.38339999,
          0.38409999,
          0.38460001,
          0.3863,
          0.38640001,
          0.38710001,
          0.38780001,
          0.38789999,
          0.3883,
          0.39140001,
          0.39230001,
          0.3935,
          0.3937,
          0.39379999,
          0.3946,
          0.3955,
          0.39579999,
          0.39629233,
          0.39680001,
          0.3973,
          0.39840001,
          0.39930001,
          0.3998,
          0.3998,
          0.40020001,
          0.40079999,
          0.40090001,
          0.40130001,
          0.4021,
          0.40310001,
          0.40310001,
          0.40329999,
          0.4041,
          0.4075,
          0.40759999,
          0.4077,
          0.40810001,
          0.40920001,
          0.4093,
          0.40979999,
          0.4111,
          0.412,
          0.41249999,
          0.4129,
          0.41330001,
          0.41389999,
          0.41420001,
          0.41429999,
          0.41450578,
          0.41620001,
          0.4163,
          0.41690001,
          0.41769999,
          0.41800001,
          0.41850001,
          0.41870001,
          0.41940001,
          0.41960001,
          0.41999999,
          0.42050001,
          0.42089999,
          0.42129999,
          0.4215,
          0.42160001,
          0.42179999,
          0.42219999,
          0.42359999,
          0.42399999,
          0.4253,
          0.4253,
          0.42539999,
          0.42550001,
          0.42640001,
          0.42660001,
          0.42775568,
          0.4285,
          0.42910001,
          0.4296,
          0.4303,
          0.43040001,
          0.4305,
          0.43180001,
          0.43189999,
          0.43200001,
          0.43329999,
          0.43360001,
          0.43450001,
          0.4346,
          0.4348,
          0.43610001,
          0.43650001,
          0.43669999,
          0.43779999,
          0.43920001,
          0.44080001,
          0.4413,
          0.44209999,
          0.4425,
          0.44279999,
          0.44350001,
          0.4447,
          0.44499999,
          0.44549999,
          0.44569999,
          0.44592938,
          0.44690001,
          0.4474,
          0.44940001,
          0.44999999,
          0.45039999,
          0.45070001,
          0.45070001,
          0.45140001,
          0.45339999,
          0.45359999,
          0.45359999,
          0.45570001,
          0.4571,
          0.45809999,
          0.45879999,
          0.45919999,
          0.46020001,
          0.46079999,
          0.46149999,
          0.46180001,
          0.46200001,
          0.46349999,
          0.46380001,
          0.4657,
          0.46779999,
          0.4684,
          0.47,
          0.47029999,
          0.47260001,
          0.47299999,
          0.4736,
          0.47400001,
          0.4761,
          0.4779,
          0.47819999,
          0.47830001,
          0.47999999,
          0.48217809,
          0.4833,
          0.48410001,
          0.4844,
          0.48460001,
          0.48629999,
          0.4869,
          0.48750001,
          0.4878,
          0.48820001,
          0.48969999,
          0.49129999,
          0.4921,
          0.49270001,
          0.493,
          0.49329999,
          0.4948,
          0.4964,
          0.49669999,
          0.49990001,
          0.5011,
          0.50129998,
          0.50209999,
          0.5036,
          0.50510001,
          0.50520003,
          0.50559998,
          0.50599998,
          0.50700003,
          0.51059997,
          0.51059997,
          0.51099998,
          0.5115,
          0.51230001,
          0.51359999,
          0.51370001,
          0.5147,
          0.5147,
          0.5158,
          0.51639998,
          0.51920003,
          0.51980001,
          0.52020001,
          0.5226,
          0.52270001,
          0.5255,
          0.5255,
          0.52609998,
          0.52630001,
          0.52679998,
          0.52869999,
          0.53149998,
          0.53170002,
          0.53219998,
          0.5323,
          0.5345,
          0.53570002,
          0.53729999,
          0.53759998,
          0.53969997,
          0.54030001,
          0.54110003,
          0.54210001,
          0.54299998,
          0.54339999,
          0.54360002,
          0.54390001,
          0.54500002,
          0.54710001,
          0.54790002,
          0.55000001,
          0.55110002,
          0.5528,
          0.55290002,
          0.55392766,
          0.55559999,
          0.55559999,
          0.55599999,
          0.55949998,
          0.56209999,
          0.56230003,
          0.56410003,
          0.5679,
          0.56879997,
          0.56889999,
          0.56919998,
          0.56959999,
          0.57130003,
          0.57609999,
          0.57609999,
          0.57679999,
          0.57700002,
          0.57740003,
          0.57840002,
          0.5812,
          0.58230001,
          0.5837,
          0.58490002,
          0.58670002,
          0.58710003,
          0.588,
          0.59030002,
          0.5934,
          0.5941,
          0.59420002,
          0.59560001,
          0.59810001,
          0.60079998,
          0.6027,
          0.60519999,
          0.60689998,
          0.61049998,
          0.61619997,
          0.61979997,
          0.62260002,
          0.62339997,
          0.62379998,
          0.62410003,
          0.62489998,
          0.625,
          0.6257,
          0.62660003,
          0.62720001,
          0.62959999,
          0.62980002,
          0.63319999,
          0.63950002,
          0.6415,
          0.64300001,
          0.64319998,
          0.64560002,
          0.648,
          0.64889997,
          0.64899999,
          0.6494,
          0.64950001,
          0.6584,
          0.65859997,
          0.65899998,
          0.6595,
          0.66219997,
          0.6674,
          0.66790003,
          0.6681,
          0.6692,
          0.67030001,
          0.67269999,
          0.67290002,
          0.67690003,
          0.6778,
          0.68006116,
          0.68019998,
          0.68220001,
          0.68769997,
          0.68839997,
          0.69160002,
          0.6918,
          0.69590002,
          0.69671321,
          0.7001,
          0.7008,
          0.70279998,
          0.70490003,
          0.70889997,
          0.71789998,
          0.72409999,
          0.7281,
          0.73570001,
          0.73619998,
          0.7367,
          0.7396,
          0.7439,
          0.74510002,
          0.75169998,
          0.75830001,
          0.75889999,
          0.7651,
          0.76719999,
          0.77700001,
          0.77719998,
          0.77819997,
          0.78009999,
          0.79049999,
          0.79079998,
          0.79470003,
          0.80080003,
          0.80159998,
          0.81160003,
          0.81569999,
          0.81830001,
          0.81870002,
          0.81999999,
          0.82980001,
          0.83029997,
          0.8326,
          0.84439999,
          0.84450001,
          0.84680003,
          0.85049999,
          0.8549,
          0.85680002,
          0.85720003,
          0.86080003,
          0.87260002,
          0.87760001,
          0.88270003,
          0.89450002,
          0.90219998,
          0.90820003,
          0.91189998,
          0.91850001,
          0.92589998,
          0.92949998,
          0.94160002,
          0.94309998
         ],
         "xaxis": "x",
         "y": [
          37361.60159237293,
          37361.60159237293,
          37386.339282255045,
          37594.54815474548,
          37796.57262589549,
          37862.53975218773,
          37887.277481237856,
          37909.95369507345,
          37988.28972712023,
          38103.732229053756,
          38116.101052349346,
          38198.56001175149,
          38223.22095089567,
          38295.4493302785,
          38297.51076303407,
          38309.879648173875,
          38363.47797178527,
          38371.72384711075,
          38386.154185620864,
          38425.32215010741,
          38476.85904096323,
          38499.53525479882,
          38604.670366192346,
          38608.79337600667,
          38711.86713710358,
          38738.66627829454,
          38817.002248497105,
          38831.43250454826,
          38839.67837987374,
          38920.075988979275,
          38934.50624503043,
          39082.93243379852,
          39126.223346255174,
          39148.89947763181,
          39177.76015465204,
          39194.25190530299,
          39270.52652520894,
          39326.18634342013,
          39348.86247479676,
          39437.505897383555,
          39511.71896084549,
          39596.23939423269,
          39668.39098370958,
          39711.681937395704,
          39742.60404717151,
          39744.66552115657,
          39759.09583905194,
          39763.21878702205,
          39829.57887148532,
          39831.247428528826,
          39835.37037649893,
          39839.49332446904,
          39866.29248627474,
          39866.29248627474,
          39876.5998562,
          39886.90722612527,
          39917.82933590108,
          39975.55060748259,
          40072.43988478011,
          40095.116304763105,
          40156.960318167316,
          40187.88222179573,
          40189.94390192818,
          40196.12832388334,
          40206.43548766121,
          40229.111907644205,
          40262.09549140506,
          40356.92329471753,
          40371.311146248816,
          40377.538034568075,
          40459.99678782283,
          40468.24288991044,
          40492.98078387848,
          40507.41089562646,
          40519.77973953678,
          40544.51742735743,
          40558.94774525281,
          40583.68563922085,
          40606.36144076164,
          40616.66901683431,
          40668.20586646065,
          40668.20586646065,
          40692.9437604287,
          40725.92713804216,
          40730.05029215966,
          40736.64309211127,
          40744.48040390765,
          40789.83283157883,
          40796.01725353399,
          40799.92168526168,
          40802.201881636545,
          40816.63199338453,
          40868.16884301087,
          40913.52106453465,
          40913.52106453465,
          40917.64421865216,
          40971.24254226356,
          40987.73412799659,
          40987.73412799659,
          41004.22591987702,
          41014.53349594969,
          41049.5785536956,
          41051.64002768066,
          41064.00887159098,
          41121.730143172485,
          41123.79161715754,
          41152.65225294829,
          41221.39519519089,
          41222.74216229272,
          41222.74216229272,
          41228.92679039528,
          41230.988264380336,
          41235.11121235044,
          41301.07837987216,
          41305.201327842275,
          41327.87774782526,
          41332.00028350057,
          41336.12343761808,
          41346.431013690744,
          41348.492075381,
          41352.61522949851,
          41356.738177468615,
          41389.72176122948,
          41395.906183184634,
          41443.320084840874,
          41459.8118767213,
          41463.93482469141,
          41478.36514258679,
          41496.91840845227,
          41501.04135642238,
          41504.86229845368,
          41507.22577837754,
          41577.31589386937,
          41606.17652966012,
          41622.66811539316,
          41651.528957331306,
          41673.663209656224,
          41684.51254109217,
          41694.81970487004,
          41698.942858987546,
          41709.25043506021,
          41721.61907282313,
          41721.61907282313,
          41736.04939071851,
          41754.60265658399,
          41754.60265658399,
          41781.40202453709,
          41781.40202453709,
          41785.524560212405,
          41826.754246060875,
          41849.430459896466,
          41855.61508799903,
          41863.860777791844,
          41865.9222517769,
          41915.39762741819,
          41923.643523358405,
          41927.76667747591,
          41936.012367268726,
          41938.07384125378,
          41939.7809478608,
          41944.25846935634,
          41946.3199433414,
          41952.50415914915,
          41962.811735221825,
          41962.811735221825,
          41997.85658682034,
          42001.97932864305,
          42057.6391262395,
          42059.700806371955,
          42080.31554622249,
          42086.49996817765,
          42088.5614421627,
          42094.74586411787,
          42100.93028607303,
          42105.05323404314,
          42107.11491417559,
          42129.790715716386,
          42144.22144590656,
          42199.881243503005,
          42208.126933295825,
          42228.74167314636,
          42234.926301248925,
          42243.17199104174,
          42245.233465026795,
          42249.3564129969,
          42253.47956711441,
          42261.72525690722,
          42265.84820487733,
          42284.401470742814,
          42288.52462486032,
          42298.83178863819,
          42350.36863826453,
          42352.43011224959,
          42377.16780007023,
          42377.16780007023,
          42385.41369601045,
          42389.53664398056,
          42395.721065935715,
          42406.028435860986,
          42416.33601193366,
          42430.766123681635,
          42432.827597666685,
          42441.0734936069,
          42447.25791556206,
          42457.56507933993,
          42459.62675947238,
          42471.995809530104,
          42480.24170547032,
          42488.48718911574,
          42490.54907539559,
          42504.97918714357,
          42540.024038742085,
          42543.53143058025,
          42549.36045442039,
          42568.885086827635,
          42575.0693026354,
          42585.37667256067,
          42591.560888368425,
          42612.17583436637,
          42624.54488442409,
          42634.85225434935,
          42636.91331603961,
          42645.15941812722,
          42647.22068596488,
          42651.34363393499,
          42651.34363393499,
          42651.34363393499,
          42661.65141615505,
          42663.71268399271,
          42667.835631962815,
          42684.32721769585,
          42742.048901572154,
          42744.10996326241,
          42770.90933121551,
          42801.83164713871,
          42820.38491300419,
          42824.5078609743,
          42828.63039664961,
          42838.93817886968,
          42857.49144473516,
          42867.79860851303,
          42886.35187437852,
          42915.212510169265,
          42939.94999184251,
          42944.07293981262,
          42948.19609393013,
          42948.19609393013,
          42958.503257708,
          42960.56514398785,
          42972.933575603376,
          42977.05652357348,
          42985.3026256611,
          42991.48684146886,
          42993.54852160131,
          43014.16305530445,
          43014.2803531742,
          43030.65505333228,
          43043.02410339,
          43045.08537122766,
          43051.26958703542,
          43053.33147331527,
          43059.515689123036,
          43071.88473918076,
          43073.94580087101,
          43086.314850928735,
          43104.86811679422,
          43108.99127091172,
          43111.052538749376,
          43127.544536777204,
          43137.851700555075,
          43154.34328628811,
          43160.52812053807,
          43162.58918222832,
          43164.651068508174,
          43168.77401647828,
          43183.20433437366,
          43216.18791813452,
          43226.49508191239,
          43226.49508191239,
          43232.679297720155,
          43234.508237439695,
          43242.98707994022,
          43247.109615615525,
          43255.35551155575,
          43255.35551155575,
          43280.09361167119,
          43306.89236118209,
          43331.63046129753,
          43430.581006432716,
          43436.76522224048,
          43457.38037438581,
          43461.503322355915,
          43498.60944179209,
          43500.67112192454,
          43510.97849184981,
          43510.97849184981,
          43519.224387790026,
          43523.34754190753,
          43531.59343784775,
          43535.71597352306,
          43541.90080777302,
          43548.98073402728,
          43550.14670371323,
          43560.4540736385,
          43568.699969578716,
          43576.94545322413,
          43583.130287474094,
          43603.74482117723,
          43603.74482117723,
          43627.99208433683,
          43630.54398298293,
          43634.667137100434,
          43638.79008507054,
          43640.8513529082,
          43669.71178255155,
          43673.83493666906,
          43690.32693469689,
          43700.63409847476,
          43717.12568420779,
          43727.43346642786,
          43741.86378432323,
          43752.1709481011,
          43758.35516390886,
          43760.41705018871,
          43772.78548180424,
          43789.27747983207,
          43799.58464360994,
          43813.933327135506,
          43822.26106359293,
          43826.38401156304,
          43826.38401156304,
          43830.506959533144,
          43832.5682273708,
          43834.63011365065,
          43836.69117534091,
          43840.814329458415,
          43844.93727742852,
          43854.388104913,
          43863.49054329401,
          43869.67475910177,
          43869.67475910177,
          43877.920861189385,
          43877.920861189385,
          43884.10507699715,
          43892.351179084755,
          43894.41285921721,
          43900.597075024976,
          43902.658342862625,
          43910.90444495024,
          43910.90444495024,
          43925.334556698224,
          43950.07265681366,
          43970.6871905168,
          43991.30172421994,
          43997.4865584699,
          44005.732454410114,
          44011.91667021788,
          44028.40825595091,
          44034.59309020087,
          44057.717880775606,
          44059.33057187412,
          44067.576673961725,
          44071.69962193184,
          44071.69962193184,
          44092.31415563497,
          44100.560051575194,
          44112.92910163291,
          44117.05163730822,
          44129.42068736594,
          44135.604903173706,
          44139.72785114381,
          44141.78973742366,
          44145.91268539377,
          44147.97395323143,
          44154.15816903919,
          44162.404064979404,
          44168.58889922936,
          44195.38764874027,
          44195.38764874027,
          44205.69543096033,
          44207.75669879799,
          44213.94091460575,
          44220.12574885571,
          44247.759395330555,
          44251.04744633671,
          44251.04744633671,
          44257.23228058668,
          44265.47776423209,
          44298.461347992954,
          44319.07629399089,
          44325.26050979865,
          44329.38366391616,
          44339.69082769403,
          44362.36704152962,
          44374.73609158734,
          44376.797359425,
          44391.22767732037,
          44422.149993243576,
          44424.21126108123,
          44428.33420905134,
          44459.256524974546,
          44483.994006647794,
          44514.916322571,
          44521.10053837876,
          44527.28537262872,
          44527.28537262872,
          44547.89990633186,
          44552.02285430197,
          44552.02285430197,
          44563.55391518476,
          44591.19065387059,
          44622.112969793794,
          44634.482019851515,
          44663.34244949487,
          44686.01886947786,
          44692.203085285626,
          44694.26476541808,
          44704.57213534335,
          44708.695083313454,
          44708.695083313454,
          44709.777563303,
          44712.81803128356,
          44714.87929912122,
          44714.87929912122,
          44725.18646289909,
          44725.18646289909,
          44735.49383282435,
          44737.55551295681,
          44739.61678079446,
          44739.61678079446,
          44745.801615044424,
          44758.17004665994,
          44762.29299463005,
          44774.66225083517,
          44778.78519880528,
          44782.5886183077,
          44793.21551670066,
          44793.21551670066,
          44795.27657839091,
          44803.52268047853,
          44822.07594634401,
          44836.50626423939,
          44836.50626423939,
          44840.6292122095,
          44877.735743940466,
          44885.98184602807,
          44890.10479399819,
          44968.44039313543,
          44980.80944319315,
          44984.93239116326,
          45021.00612442772,
          45030.285024981844,
          45038.53092092206,
          45040.592188759714,
          45077.698720490676,
          45079.75998832833,
          45100.37493432627,
          45108.62103641388,
          45120.98946802941,
          45137.48167220464,
          45143.6658880124,
          45164.28083401034,
          45199.32568560885,
          45203.44863357896,
          45213.75579735683,
          45228.1861152522,
          45238.49389747227,
          45273.53874907079,
          45275.60042920324,
          45290.030747098615,
          45304.46106499399,
          45306.52212668425,
          45314.76822877186,
          45378.67412845593,
          45397.22739432141,
          45421.96487599466,
          45426.087823964765,
          45428.14909180242,
          45444.64108983025,
          45463.194355695734,
          45469.3785715035,
          45479.52803252151,
          45489.99372364883,
          45500.3008874267,
          45522.977307409696,
          45541.53057327517,
          45551.83773705304,
          45551.83773705304,
          45560.08383914066,
          45572.452270756185,
          45574.514157036036,
          45582.76005297625,
          45599.251638709284,
          45619.86658470722,
          45619.86658470722,
          45623.98912038253,
          45640.48111841036,
          45710.571233902185,
          45712.63250173984,
          45714.6941818723,
          45722.940283959906,
          45745.6164977955,
          45747.677765633154,
          45757.984929411024,
          45784.78429736412,
          45803.33756322961,
          45813.64472700748,
          45821.89082909509,
          45830.13693118271,
          45842.505362798234,
          45848.69019704819,
          45850.75125873845,
          45854.99356605229,
          45889.91967674926,
          45891.98094458692,
          45904.34999464464,
          45920.84137423027,
          45927.02620848023,
          45937.3335784055,
          45941.45652637561,
          45955.886844270986,
          45960.00979224109,
          45968.25527588651,
          45978.56305810658,
          45986.808541752,
          45995.05443769221,
          45999.17759180972,
          46001.23927194217,
          46005.36180761748,
          46013.6077035577,
          46042.468339348445,
          46050.71423528866,
          46077.51360324176,
          46077.51360324176,
          46079.574871079414,
          46081.636757359265,
          46100.19002322475,
          46104.31297119486,
          46128.136807597926,
          46143.48077076348,
          46155.849820821204,
          46166.156984599074,
          46180.58730249445,
          46182.6489826269,
          46184.71025046456,
          46211.50961841765,
          46213.570680107914,
          46215.63256638776,
          46242.43131589866,
          46248.61615014862,
          46267.169416014105,
          46269.23068385176,
          46273.35363182187,
          46300.15299977497,
          46308.39889571518,
          46312.521431390494,
          46335.197645226086,
          46364.058693311636,
          46397.04227707249,
          46407.34944085036,
          46423.841026583395,
          46432.08712867101,
          46438.27134447877,
          46452.702074668945,
          46477.43955634219,
          46483.62377214996,
          46493.93114207523,
          46498.054090045334,
          46502.78290521965,
          46522.79219016078,
          46533.09935393865,
          46574.32903978712,
          46586.697471402644,
          46594.94336734286,
          46601.128201592815,
          46601.128201592815,
          46615.55851948819,
          46656.78758689447,
          46660.91053486458,
          46660.91053486458,
          46704.2019008455,
          46733.06233048886,
          46753.676864192,
          46768.10718208738,
          46776.35307802759,
          46796.968230172926,
          46809.33666178845,
          46823.76697968383,
          46829.95181393379,
          46834.074761903896,
          46864.9964593849,
          46871.18129363486,
          46910.349093203484,
          46953.63984074222,
          46966.00889079994,
          46998.99247456079,
          47005.17669036856,
          47052.59100431959,
          47060.83648796501,
          47073.20553802273,
          47081.45164011035,
          47124.74238764908,
          47161.84891938004,
          47168.033135187805,
          47170.095021467656,
          47205.139666918774,
          47250.04063178723,
          47273.16851457295,
          47289.66051260078,
          47295.84472840854,
          47299.96788252605,
          47335.01252797717,
          47347.38157803488,
          47359.7506280926,
          47365.934843900366,
          47374.18094598798,
          47405.10264346899,
          47438.086227229855,
          47454.57822525768,
          47466.947275315404,
          47473.13149112317,
          47479.31570693093,
          47510.23802285414,
          47543.22160661499,
          47549.405822422756,
          47615.373402239275,
          47640.11088391252,
          47644.23341958783,
          47660.725417615664,
          47691.64773353886,
          47722.57004946207,
          47724.63193574192,
          47732.876800945145,
          47741.12269688536,
          47761.73846747289,
          47835.95029405043,
          47835.95029405043,
          47844.196396138046,
          47854.50417835811,
          47870.99617638594,
          47897.794925896844,
          47899.856812176695,
          47920.471345879836,
          47920.471345879836,
          47943.14755971543,
          47955.515991330954,
          48013.23829364945,
          48025.606725264974,
          48033.852621205195,
          48083.327790699084,
          48085.389470831535,
          48143.11053626564,
          48143.11053626564,
          48155.478967881165,
          48159.60253429347,
          48169.90928577654,
          48209.07749763996,
          48266.79856307407,
          48270.922335633775,
          48281.22888096945,
          48283.290767249295,
          48328.64319492048,
          48353.38129503593,
          48386.36426035459,
          48392.54847616235,
          48435.839223701085,
          48448.208892201,
          48464.70109637622,
          48485.31542393196,
          48503.86807135525,
          48512.11417344287,
          48516.23773985517,
          48522.42195566293,
          48545.098375645925,
          48588.38912318466,
          48604.881121212486,
          48648.17186875121,
          48670.8482887342,
          48705.89293418532,
          48707.95482046517,
          48729.13935172518,
          48763.61399961943,
          48763.61399961943,
          48771.859895559646,
          48844.01127888913,
          48897.609808647925,
          48901.73358120763,
          48938.8401129386,
          49017.17550592844,
          49035.72815335173,
          49037.79003963158,
          49043.974255439345,
          49052.22035752696,
          49087.26623986247,
          49186.21616655545,
          49186.21616655545,
          49200.64648445083,
          49204.77005086313,
          49213.016152950746,
          49233.63068665389,
          49291.3515459406,
          49314.02796592358,
          49342.88839556694,
          49367.62649568238,
          49404.73302741335,
          49412.97912950096,
          49431.531776924254,
          49478.94609087529,
          49542.851372117155,
          49557.28169001253,
          49559.343576292384,
          49588.20400593574,
          49639.74085556208,
          49695.40003471634,
          49734.56845272716,
          49786.105096206105,
          49821.14994780462,
          49895.363011266556,
          50012.86682226722,
          50087.07988572915,
          50144.80218804765,
          50161.29294919109,
          50169.539051278705,
          50175.72450397086,
          50192.2152651143,
          50194.27715139415,
          50208.707469289526,
          50227.261353597205,
          50239.62978521273,
          50289.10474855922,
          50293.22831497153,
          50363.31781202116,
          50493.19129152174,
          50534.42035892802,
          50565.34267485122,
          50569.46500437914,
          50618.941204610026,
          50668.416167956515,
          50686.968815379805,
          50689.030701659656,
          50697.27680374727,
          50699.33848387972,
          50882.80946240211,
          50886.93179193002,
          50895.17789401764,
          50905.4856762377,
          50961.144855391954,
          51068.34212105695,
          51078.65010942441,
          51082.77243895233,
          51105.44865278792,
          51128.125072770905,
          51177.6000361174,
          51181.7236025297,
          51264.18276807925,
          51282.73541550254,
          51329.34864066298,
          51332.210378849035,
          51373.440476992306,
          51486.82072158067,
          51501.25103947605,
          51567.21923773476,
          51571.341773410066,
          51655.86261909207,
          51672.62631939113,
          51742.44411416953,
          51756.874432064906,
          51798.10349947119,
          51841.39548389431,
          51923.853206412066,
          52109.38607121431,
          52237.19766443504,
          52319.65682998459,
          52476.329058996074,
          52486.63581047915,
          52496.943592699216,
          52556.72633826578,
          52645.369719623086,
          52670.10781973853,
          52806.16427816248,
          52942.22217961823,
          52954.590611233754,
          53082.40220445448,
          53125.69295199322,
          53327.717814823285,
          53331.8401443512,
          53352.45467805433,
          53391.62309606515,
          53606.01639051075,
          53612.20060631851,
          53692.599122472595,
          53818.34903556088,
          53834.83979670431,
          54040.98822594669,
          54125.5078347443,
          54179.10657065049,
          54187.3526727381,
          54214.15121610161,
          54416.176078931676,
          54426.48262426735,
          54473.89714436579,
          54717.15086845473,
          54719.21275473458,
          54766.627068685615,
          54842.90078154301,
          54933.605843032776,
          54972.774261043596,
          54981.02036313121,
          55055.23342659314,
          55298.48715068209,
          55401.56064378738,
          55506.69622931992,
          55749.94995340887,
          55908.682625668414,
          56032.37209550863,
          56108.64560221863,
          56244.70350367438,
          56397.25196012616,
          56471.46502358809,
          56720.904200369194,
          56751.825485555404
         ],
         "yaxis": "y"
        }
       ],
       "layout": {
        "coloraxis": {
         "cmax": 6,
         "cmin": 1,
         "colorbar": {
          "ticktext": [
           "Elite",
           "Highly Selective",
           "Selective",
           "Selective",
           "Selective",
           "Non-Selective"
          ],
          "tickvals": [
           1,
           2,
           3,
           4,
           5,
           6
          ],
          "title": {
           "text": "College Ranking"
          }
         },
         "colorscale": [
          [
           0,
           "rgb(0,0,0)"
          ],
          [
           0.3333333333333333,
           "rgb(230,0,0)"
          ],
          [
           0.6666666666666666,
           "rgb(255,210,0)"
          ],
          [
           1,
           "rgb(255,255,255)"
          ]
         ]
        },
        "legend": {
         "orientation": "h",
         "tracegroupgap": 0
        },
        "margin": {
         "t": 60
        },
        "template": {
         "data": {
          "bar": [
           {
            "error_x": {
             "color": "#2a3f5f"
            },
            "error_y": {
             "color": "#2a3f5f"
            },
            "marker": {
             "line": {
              "color": "#E5ECF6",
              "width": 0.5
             },
             "pattern": {
              "fillmode": "overlay",
              "size": 10,
              "solidity": 0.2
             }
            },
            "type": "bar"
           }
          ],
          "barpolar": [
           {
            "marker": {
             "line": {
              "color": "#E5ECF6",
              "width": 0.5
             },
             "pattern": {
              "fillmode": "overlay",
              "size": 10,
              "solidity": 0.2
             }
            },
            "type": "barpolar"
           }
          ],
          "carpet": [
           {
            "aaxis": {
             "endlinecolor": "#2a3f5f",
             "gridcolor": "white",
             "linecolor": "white",
             "minorgridcolor": "white",
             "startlinecolor": "#2a3f5f"
            },
            "baxis": {
             "endlinecolor": "#2a3f5f",
             "gridcolor": "white",
             "linecolor": "white",
             "minorgridcolor": "white",
             "startlinecolor": "#2a3f5f"
            },
            "type": "carpet"
           }
          ],
          "choropleth": [
           {
            "colorbar": {
             "outlinewidth": 0,
             "ticks": ""
            },
            "type": "choropleth"
           }
          ],
          "contour": [
           {
            "colorbar": {
             "outlinewidth": 0,
             "ticks": ""
            },
            "colorscale": [
             [
              0,
              "#0d0887"
             ],
             [
              0.1111111111111111,
              "#46039f"
             ],
             [
              0.2222222222222222,
              "#7201a8"
             ],
             [
              0.3333333333333333,
              "#9c179e"
             ],
             [
              0.4444444444444444,
              "#bd3786"
             ],
             [
              0.5555555555555556,
              "#d8576b"
             ],
             [
              0.6666666666666666,
              "#ed7953"
             ],
             [
              0.7777777777777778,
              "#fb9f3a"
             ],
             [
              0.8888888888888888,
              "#fdca26"
             ],
             [
              1,
              "#f0f921"
             ]
            ],
            "type": "contour"
           }
          ],
          "contourcarpet": [
           {
            "colorbar": {
             "outlinewidth": 0,
             "ticks": ""
            },
            "type": "contourcarpet"
           }
          ],
          "heatmap": [
           {
            "colorbar": {
             "outlinewidth": 0,
             "ticks": ""
            },
            "colorscale": [
             [
              0,
              "#0d0887"
             ],
             [
              0.1111111111111111,
              "#46039f"
             ],
             [
              0.2222222222222222,
              "#7201a8"
             ],
             [
              0.3333333333333333,
              "#9c179e"
             ],
             [
              0.4444444444444444,
              "#bd3786"
             ],
             [
              0.5555555555555556,
              "#d8576b"
             ],
             [
              0.6666666666666666,
              "#ed7953"
             ],
             [
              0.7777777777777778,
              "#fb9f3a"
             ],
             [
              0.8888888888888888,
              "#fdca26"
             ],
             [
              1,
              "#f0f921"
             ]
            ],
            "type": "heatmap"
           }
          ],
          "heatmapgl": [
           {
            "colorbar": {
             "outlinewidth": 0,
             "ticks": ""
            },
            "colorscale": [
             [
              0,
              "#0d0887"
             ],
             [
              0.1111111111111111,
              "#46039f"
             ],
             [
              0.2222222222222222,
              "#7201a8"
             ],
             [
              0.3333333333333333,
              "#9c179e"
             ],
             [
              0.4444444444444444,
              "#bd3786"
             ],
             [
              0.5555555555555556,
              "#d8576b"
             ],
             [
              0.6666666666666666,
              "#ed7953"
             ],
             [
              0.7777777777777778,
              "#fb9f3a"
             ],
             [
              0.8888888888888888,
              "#fdca26"
             ],
             [
              1,
              "#f0f921"
             ]
            ],
            "type": "heatmapgl"
           }
          ],
          "histogram": [
           {
            "marker": {
             "pattern": {
              "fillmode": "overlay",
              "size": 10,
              "solidity": 0.2
             }
            },
            "type": "histogram"
           }
          ],
          "histogram2d": [
           {
            "colorbar": {
             "outlinewidth": 0,
             "ticks": ""
            },
            "colorscale": [
             [
              0,
              "#0d0887"
             ],
             [
              0.1111111111111111,
              "#46039f"
             ],
             [
              0.2222222222222222,
              "#7201a8"
             ],
             [
              0.3333333333333333,
              "#9c179e"
             ],
             [
              0.4444444444444444,
              "#bd3786"
             ],
             [
              0.5555555555555556,
              "#d8576b"
             ],
             [
              0.6666666666666666,
              "#ed7953"
             ],
             [
              0.7777777777777778,
              "#fb9f3a"
             ],
             [
              0.8888888888888888,
              "#fdca26"
             ],
             [
              1,
              "#f0f921"
             ]
            ],
            "type": "histogram2d"
           }
          ],
          "histogram2dcontour": [
           {
            "colorbar": {
             "outlinewidth": 0,
             "ticks": ""
            },
            "colorscale": [
             [
              0,
              "#0d0887"
             ],
             [
              0.1111111111111111,
              "#46039f"
             ],
             [
              0.2222222222222222,
              "#7201a8"
             ],
             [
              0.3333333333333333,
              "#9c179e"
             ],
             [
              0.4444444444444444,
              "#bd3786"
             ],
             [
              0.5555555555555556,
              "#d8576b"
             ],
             [
              0.6666666666666666,
              "#ed7953"
             ],
             [
              0.7777777777777778,
              "#fb9f3a"
             ],
             [
              0.8888888888888888,
              "#fdca26"
             ],
             [
              1,
              "#f0f921"
             ]
            ],
            "type": "histogram2dcontour"
           }
          ],
          "mesh3d": [
           {
            "colorbar": {
             "outlinewidth": 0,
             "ticks": ""
            },
            "type": "mesh3d"
           }
          ],
          "parcoords": [
           {
            "line": {
             "colorbar": {
              "outlinewidth": 0,
              "ticks": ""
             }
            },
            "type": "parcoords"
           }
          ],
          "pie": [
           {
            "automargin": true,
            "type": "pie"
           }
          ],
          "scatter": [
           {
            "fillpattern": {
             "fillmode": "overlay",
             "size": 10,
             "solidity": 0.2
            },
            "type": "scatter"
           }
          ],
          "scatter3d": [
           {
            "line": {
             "colorbar": {
              "outlinewidth": 0,
              "ticks": ""
             }
            },
            "marker": {
             "colorbar": {
              "outlinewidth": 0,
              "ticks": ""
             }
            },
            "type": "scatter3d"
           }
          ],
          "scattercarpet": [
           {
            "marker": {
             "colorbar": {
              "outlinewidth": 0,
              "ticks": ""
             }
            },
            "type": "scattercarpet"
           }
          ],
          "scattergeo": [
           {
            "marker": {
             "colorbar": {
              "outlinewidth": 0,
              "ticks": ""
             }
            },
            "type": "scattergeo"
           }
          ],
          "scattergl": [
           {
            "marker": {
             "colorbar": {
              "outlinewidth": 0,
              "ticks": ""
             }
            },
            "type": "scattergl"
           }
          ],
          "scattermapbox": [
           {
            "marker": {
             "colorbar": {
              "outlinewidth": 0,
              "ticks": ""
             }
            },
            "type": "scattermapbox"
           }
          ],
          "scatterpolar": [
           {
            "marker": {
             "colorbar": {
              "outlinewidth": 0,
              "ticks": ""
             }
            },
            "type": "scatterpolar"
           }
          ],
          "scatterpolargl": [
           {
            "marker": {
             "colorbar": {
              "outlinewidth": 0,
              "ticks": ""
             }
            },
            "type": "scatterpolargl"
           }
          ],
          "scatterternary": [
           {
            "marker": {
             "colorbar": {
              "outlinewidth": 0,
              "ticks": ""
             }
            },
            "type": "scatterternary"
           }
          ],
          "surface": [
           {
            "colorbar": {
             "outlinewidth": 0,
             "ticks": ""
            },
            "colorscale": [
             [
              0,
              "#0d0887"
             ],
             [
              0.1111111111111111,
              "#46039f"
             ],
             [
              0.2222222222222222,
              "#7201a8"
             ],
             [
              0.3333333333333333,
              "#9c179e"
             ],
             [
              0.4444444444444444,
              "#bd3786"
             ],
             [
              0.5555555555555556,
              "#d8576b"
             ],
             [
              0.6666666666666666,
              "#ed7953"
             ],
             [
              0.7777777777777778,
              "#fb9f3a"
             ],
             [
              0.8888888888888888,
              "#fdca26"
             ],
             [
              1,
              "#f0f921"
             ]
            ],
            "type": "surface"
           }
          ],
          "table": [
           {
            "cells": {
             "fill": {
              "color": "#EBF0F8"
             },
             "line": {
              "color": "white"
             }
            },
            "header": {
             "fill": {
              "color": "#C8D4E3"
             },
             "line": {
              "color": "white"
             }
            },
            "type": "table"
           }
          ]
         },
         "layout": {
          "annotationdefaults": {
           "arrowcolor": "#2a3f5f",
           "arrowhead": 0,
           "arrowwidth": 1
          },
          "autotypenumbers": "strict",
          "coloraxis": {
           "colorbar": {
            "outlinewidth": 0,
            "ticks": ""
           }
          },
          "colorscale": {
           "diverging": [
            [
             0,
             "#8e0152"
            ],
            [
             0.1,
             "#c51b7d"
            ],
            [
             0.2,
             "#de77ae"
            ],
            [
             0.3,
             "#f1b6da"
            ],
            [
             0.4,
             "#fde0ef"
            ],
            [
             0.5,
             "#f7f7f7"
            ],
            [
             0.6,
             "#e6f5d0"
            ],
            [
             0.7,
             "#b8e186"
            ],
            [
             0.8,
             "#7fbc41"
            ],
            [
             0.9,
             "#4d9221"
            ],
            [
             1,
             "#276419"
            ]
           ],
           "sequential": [
            [
             0,
             "#0d0887"
            ],
            [
             0.1111111111111111,
             "#46039f"
            ],
            [
             0.2222222222222222,
             "#7201a8"
            ],
            [
             0.3333333333333333,
             "#9c179e"
            ],
            [
             0.4444444444444444,
             "#bd3786"
            ],
            [
             0.5555555555555556,
             "#d8576b"
            ],
            [
             0.6666666666666666,
             "#ed7953"
            ],
            [
             0.7777777777777778,
             "#fb9f3a"
            ],
            [
             0.8888888888888888,
             "#fdca26"
            ],
            [
             1,
             "#f0f921"
            ]
           ],
           "sequentialminus": [
            [
             0,
             "#0d0887"
            ],
            [
             0.1111111111111111,
             "#46039f"
            ],
            [
             0.2222222222222222,
             "#7201a8"
            ],
            [
             0.3333333333333333,
             "#9c179e"
            ],
            [
             0.4444444444444444,
             "#bd3786"
            ],
            [
             0.5555555555555556,
             "#d8576b"
            ],
            [
             0.6666666666666666,
             "#ed7953"
            ],
            [
             0.7777777777777778,
             "#fb9f3a"
            ],
            [
             0.8888888888888888,
             "#fdca26"
            ],
            [
             1,
             "#f0f921"
            ]
           ]
          },
          "colorway": [
           "#636efa",
           "#EF553B",
           "#00cc96",
           "#ab63fa",
           "#FFA15A",
           "#19d3f3",
           "#FF6692",
           "#B6E880",
           "#FF97FF",
           "#FECB52"
          ],
          "font": {
           "color": "#2a3f5f"
          },
          "geo": {
           "bgcolor": "white",
           "lakecolor": "white",
           "landcolor": "#E5ECF6",
           "showlakes": true,
           "showland": true,
           "subunitcolor": "white"
          },
          "hoverlabel": {
           "align": "left"
          },
          "hovermode": "closest",
          "mapbox": {
           "style": "light"
          },
          "paper_bgcolor": "white",
          "plot_bgcolor": "#E5ECF6",
          "polar": {
           "angularaxis": {
            "gridcolor": "white",
            "linecolor": "white",
            "ticks": ""
           },
           "bgcolor": "#E5ECF6",
           "radialaxis": {
            "gridcolor": "white",
            "linecolor": "white",
            "ticks": ""
           }
          },
          "scene": {
           "xaxis": {
            "backgroundcolor": "#E5ECF6",
            "gridcolor": "white",
            "gridwidth": 2,
            "linecolor": "white",
            "showbackground": true,
            "ticks": "",
            "zerolinecolor": "white"
           },
           "yaxis": {
            "backgroundcolor": "#E5ECF6",
            "gridcolor": "white",
            "gridwidth": 2,
            "linecolor": "white",
            "showbackground": true,
            "ticks": "",
            "zerolinecolor": "white"
           },
           "zaxis": {
            "backgroundcolor": "#E5ECF6",
            "gridcolor": "white",
            "gridwidth": 2,
            "linecolor": "white",
            "showbackground": true,
            "ticks": "",
            "zerolinecolor": "white"
           }
          },
          "shapedefaults": {
           "line": {
            "color": "#2a3f5f"
           }
          },
          "ternary": {
           "aaxis": {
            "gridcolor": "white",
            "linecolor": "white",
            "ticks": ""
           },
           "baxis": {
            "gridcolor": "white",
            "linecolor": "white",
            "ticks": ""
           },
           "bgcolor": "#E5ECF6",
           "caxis": {
            "gridcolor": "white",
            "linecolor": "white",
            "ticks": ""
           }
          },
          "title": {
           "x": 0.05
          },
          "xaxis": {
           "automargin": true,
           "gridcolor": "white",
           "linecolor": "white",
           "ticks": "",
           "title": {
            "standoff": 15
           },
           "zerolinecolor": "white",
           "zerolinewidth": 2
          },
          "yaxis": {
           "automargin": true,
           "gridcolor": "white",
           "linecolor": "white",
           "ticks": "",
           "title": {
            "standoff": 15
           },
           "zerolinecolor": "white",
           "zerolinewidth": 2
          }
         }
        },
        "title": {
         "text": "Effect of College Selectivity on Median Income 10 Years Later"
        },
        "xaxis": {
         "anchor": "y",
         "domain": [
          0,
          1
         ],
         "title": {
          "text": "Rejection Rate"
         }
        },
        "yaxis": {
         "anchor": "x",
         "domain": [
          0,
          1
         ],
         "title": {
          "text": "Median Earning 10 Years After"
         }
        }
       }
      }
     },
     "metadata": {},
     "output_type": "display_data"
    }
   ],
   "source": [
    "import plotly.express as px\n",
    "df1.rename(columns={'barrons': 'College Ranking'}, inplace=True)\n",
    "fig = px.scatter(df1, x=\"Rejection Rate\", color= \"College Ranking\",y=\"scorecard_median_earnings_2011\", hover_data=[\"name\"],\n",
    "trendline=\"ols\", trendline_scope=\"overall\",color_continuous_scale=px.colors.sequential.Hot, range_color=[1,6], trendline_color_override=\"blue\")\n",
    "fig.update_layout(legend_orientation=\"h\", title=\"Effect of College Selectivity on Median Income 10 Years Later\")\n",
    "fig.update_traces(marker=dict(size=10,line=dict(width=1)))\n",
    "fig.update_xaxes(title=\"Rejection Rate\")\n",
    "fig.update_yaxes(title=\"Median Earning 10 Years After\") \n",
    "fig.update_layout(coloraxis_colorbar=dict(tickvals=[1,2,3,4,5,6],ticktext=[\"Elite\", \"Highly Selective\", \"Selective\", \"Selective\",\"Selective\",\"Non-Selective\"]))\n",
    "fig.show()"
   ]
  },
  {
   "cell_type": "code",
   "execution_count": null,
   "metadata": {},
   "outputs": [],
   "source": []
  }
 ],
 "metadata": {
  "kernelspec": {
   "display_name": "base",
   "language": "python",
   "name": "python3"
  },
  "language_info": {
   "codemirror_mode": {
    "name": "ipython",
    "version": 3
   },
   "file_extension": ".py",
   "mimetype": "text/x-python",
   "name": "python",
   "nbconvert_exporter": "python",
   "pygments_lexer": "ipython3",
   "version": "3.11.7"
  }
 },
 "nbformat": 4,
 "nbformat_minor": 2
}
