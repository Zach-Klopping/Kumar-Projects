{
 "cells": [
  {
   "cell_type": "code",
   "execution_count": null,
   "metadata": {},
   "outputs": [],
   "source": [
    "#use 3.12.7\n",
    "import pandas as pd\n",
    "import plotly.express as px"
   ]
  },
  {
   "cell_type": "code",
   "execution_count": 28,
   "metadata": {},
   "outputs": [],
   "source": [
    "file3= open(\"output1.xlsx\", \"r\")\n",
    "df3 = pd.read_excel(\"output1.xlsx\")\n",
    "df3=df3.drop(columns=\"Unnamed: 0\")"
   ]
  },
  {
   "cell_type": "code",
   "execution_count": 29,
   "metadata": {},
   "outputs": [],
   "source": [
    "file4= open(\"output2.xlsx\", \"r\")\n",
    "df4 = pd.read_excel(\"output2.xlsx\")\n",
    "df4=df4.drop(columns=\"Unnamed: 0\")"
   ]
  },
  {
   "cell_type": "code",
   "execution_count": 30,
   "metadata": {},
   "outputs": [],
   "source": [
    "file5= open(\"output3.xlsx\", \"r\")\n",
    "df5 = pd.read_excel(\"output3.xlsx\")\n",
    "df5=df5.drop(columns=\"Unnamed: 0\")"
   ]
  },
  {
   "cell_type": "code",
   "execution_count": 31,
   "metadata": {},
   "outputs": [
    {
     "data": {
      "text/html": [
       "<div>\n",
       "<style scoped>\n",
       "    .dataframe tbody tr th:only-of-type {\n",
       "        vertical-align: middle;\n",
       "    }\n",
       "\n",
       "    .dataframe tbody tr th {\n",
       "        vertical-align: top;\n",
       "    }\n",
       "\n",
       "    .dataframe thead th {\n",
       "        text-align: right;\n",
       "    }\n",
       "</style>\n",
       "<table border=\"1\" class=\"dataframe\">\n",
       "  <thead>\n",
       "    <tr style=\"text-align: right;\">\n",
       "      <th></th>\n",
       "      <th>District Number</th>\n",
       "      <th>Median Family Income</th>\n",
       "      <th>Student Number</th>\n",
       "      <th>Attendance Rate</th>\n",
       "      <th>District Name</th>\n",
       "      <th>Avg Comp</th>\n",
       "    </tr>\n",
       "  </thead>\n",
       "  <tbody>\n",
       "    <tr>\n",
       "      <th>0</th>\n",
       "      <td>9</td>\n",
       "      <td>80547</td>\n",
       "      <td>607</td>\n",
       "      <td>94.9</td>\n",
       "      <td>AGWSR CMTY SCHOOL DISTRICT</td>\n",
       "      <td>20.9</td>\n",
       "    </tr>\n",
       "    <tr>\n",
       "      <th>1</th>\n",
       "      <td>27</td>\n",
       "      <td>114109</td>\n",
       "      <td>1935</td>\n",
       "      <td>95.6</td>\n",
       "      <td>ADEL-DE SOTO-MINBURN CMTY SD</td>\n",
       "      <td>23.3</td>\n",
       "    </tr>\n",
       "    <tr>\n",
       "      <th>2</th>\n",
       "      <td>63</td>\n",
       "      <td>83947</td>\n",
       "      <td>620</td>\n",
       "      <td>96.2</td>\n",
       "      <td>AKRON WESTFIELD CMTY SCH DIST</td>\n",
       "      <td>21.1</td>\n",
       "    </tr>\n",
       "    <tr>\n",
       "      <th>3</th>\n",
       "      <td>81</td>\n",
       "      <td>89654</td>\n",
       "      <td>1174</td>\n",
       "      <td>95.3</td>\n",
       "      <td>ALBIA CMTY SCHOOL DISTRICT</td>\n",
       "      <td>21.8</td>\n",
       "    </tr>\n",
       "    <tr>\n",
       "      <th>4</th>\n",
       "      <td>99</td>\n",
       "      <td>102773</td>\n",
       "      <td>674</td>\n",
       "      <td>95.5</td>\n",
       "      <td>ALBURNETT CMTY SCHOOL DISTRICT</td>\n",
       "      <td>22.6</td>\n",
       "    </tr>\n",
       "    <tr>\n",
       "      <th>...</th>\n",
       "      <td>...</td>\n",
       "      <td>...</td>\n",
       "      <td>...</td>\n",
       "      <td>...</td>\n",
       "      <td>...</td>\n",
       "      <td>...</td>\n",
       "    </tr>\n",
       "    <tr>\n",
       "      <th>295</th>\n",
       "      <td>7047</td>\n",
       "      <td>88214</td>\n",
       "      <td>418</td>\n",
       "      <td>94.2</td>\n",
       "      <td>WINFIELD-MT UNION CMTY SD</td>\n",
       "      <td>20.1</td>\n",
       "    </tr>\n",
       "    <tr>\n",
       "      <th>296</th>\n",
       "      <td>7056</td>\n",
       "      <td>102768</td>\n",
       "      <td>1741</td>\n",
       "      <td>96.0</td>\n",
       "      <td>WINTERSET CMTY SCHOOL DISTRICT</td>\n",
       "      <td>23.9</td>\n",
       "    </tr>\n",
       "    <tr>\n",
       "      <th>297</th>\n",
       "      <td>7092</td>\n",
       "      <td>94375</td>\n",
       "      <td>459</td>\n",
       "      <td>96.2</td>\n",
       "      <td>WOODBINE CMTY SCHOOL DISTRICT</td>\n",
       "      <td>23.0</td>\n",
       "    </tr>\n",
       "    <tr>\n",
       "      <th>298</th>\n",
       "      <td>7098</td>\n",
       "      <td>115797</td>\n",
       "      <td>596</td>\n",
       "      <td>95.6</td>\n",
       "      <td>WOODBURY CENTRAL CMTY SCH DIST</td>\n",
       "      <td>22.9</td>\n",
       "    </tr>\n",
       "    <tr>\n",
       "      <th>299</th>\n",
       "      <td>7110</td>\n",
       "      <td>119559</td>\n",
       "      <td>1390</td>\n",
       "      <td>96.4</td>\n",
       "      <td>WOODWARD-GRANGER CMTY SCH DIST</td>\n",
       "      <td>22.8</td>\n",
       "    </tr>\n",
       "  </tbody>\n",
       "</table>\n",
       "<p>277 rows × 6 columns</p>\n",
       "</div>"
      ],
      "text/plain": [
       "     District Number  Median Family Income  Student Number  Attendance Rate  \\\n",
       "0                  9                 80547             607             94.9   \n",
       "1                 27                114109            1935             95.6   \n",
       "2                 63                 83947             620             96.2   \n",
       "3                 81                 89654            1174             95.3   \n",
       "4                 99                102773             674             95.5   \n",
       "..               ...                   ...             ...              ...   \n",
       "295             7047                 88214             418             94.2   \n",
       "296             7056                102768            1741             96.0   \n",
       "297             7092                 94375             459             96.2   \n",
       "298             7098                115797             596             95.6   \n",
       "299             7110                119559            1390             96.4   \n",
       "\n",
       "                      District Name  Avg Comp  \n",
       "0        AGWSR CMTY SCHOOL DISTRICT      20.9  \n",
       "1      ADEL-DE SOTO-MINBURN CMTY SD      23.3  \n",
       "2     AKRON WESTFIELD CMTY SCH DIST      21.1  \n",
       "3        ALBIA CMTY SCHOOL DISTRICT      21.8  \n",
       "4    ALBURNETT CMTY SCHOOL DISTRICT      22.6  \n",
       "..                              ...       ...  \n",
       "295       WINFIELD-MT UNION CMTY SD      20.1  \n",
       "296  WINTERSET CMTY SCHOOL DISTRICT      23.9  \n",
       "297   WOODBINE CMTY SCHOOL DISTRICT      23.0  \n",
       "298  WOODBURY CENTRAL CMTY SCH DIST      22.9  \n",
       "299  WOODWARD-GRANGER CMTY SCH DIST      22.8  \n",
       "\n",
       "[277 rows x 6 columns]"
      ]
     },
     "execution_count": 31,
     "metadata": {},
     "output_type": "execute_result"
    }
   ],
   "source": [
    "df6=pd.merge(df3, df4, on='District Number', how='left')\n",
    "df7=pd.merge(df6,df5, on='District Number', how='left')\n",
    "df7=df7.drop(columns=[\"District_x\",'Family Type',\"District_y\", \"N\",\"Grad Year\"])\n",
    "df7['Avg Comp']=pd.to_numeric(df7['Avg Comp'], errors='coerce')\n",
    "df7.dropna(subset=[\"Avg Comp\"], inplace=True)\n",
    "df7"
   ]
  },
  {
   "cell_type": "code",
   "execution_count": 32,
   "metadata": {},
   "outputs": [
    {
     "data": {
      "application/vnd.plotly.v1+json": {
       "config": {
        "plotlyServerURL": "https://plot.ly"
       },
       "data": [
        {
         "customdata": [
          [
           "AGWSR CMTY SCHOOL DISTRICT"
          ],
          [
           "ADEL-DE SOTO-MINBURN CMTY SD"
          ],
          [
           "AKRON WESTFIELD CMTY SCH DIST"
          ],
          [
           "ALBIA CMTY SCHOOL DISTRICT"
          ],
          [
           "ALBURNETT CMTY SCHOOL DISTRICT"
          ],
          [
           "ALGONA CMTY SCHOOL DISTRICT"
          ],
          [
           "ALLAMAKEE CMTY SCHOOL DISTRICT"
          ],
          [
           "ALTA-AURELIA CMTY SCHOOLS"
          ],
          [
           "AMES CMTY SCHOOL DISTRICT"
          ],
          [
           "ANAMOSA CMTY SCHOOL DISTRICT"
          ],
          [
           "ANKENY CMTY SCHOOL DISTRICT"
          ],
          [
           "APLINGTON-PARKERSBURG SD"
          ],
          [
           "ATLANTIC CMTY SCHOOL DISTRICT"
          ],
          [
           "AUDUBON CMTY SCHOOL DISTRICT"
          ],
          [
           "BALLARD CMTY SCHOOL DISTRICT"
          ],
          [
           "BAXTER CMTY SCHOOL DISTRICT"
          ],
          [
           "BEDFORD CMTY SCHOOL DISTRICT"
          ],
          [
           "BELLE PLAINE CMTY SCHOOL DIST"
          ],
          [
           "BELLEVUE CMTY SCHOOL DISTRICT"
          ],
          [
           "BELMOND-KLEMME CMTY SCH DIST"
          ],
          [
           "BENTON CMTY SCHOOL DISTRICT"
          ],
          [
           "BETTENDORF CMTY SCHOOL DIST"
          ],
          [
           "BONDURANT-FARRAR CMTY SCH DIST"
          ],
          [
           "BOONE CMTY SCHOOL DISTRICT"
          ],
          [
           "BOYDEN-HULL CMTY SCH DISTRICT"
          ],
          [
           "BOYER VALLEY CMTY SCH DISTRICT"
          ],
          [
           "BROOKLYN-GUERNSEY-MALCOM CSD"
          ],
          [
           "BURLINGTON CMTY SCHOOL DIST"
          ],
          [
           "CAM CMTY SCHOOL DISTRICT"
          ],
          [
           "CAMANCHE CMTY SCHOOL DISTRICT"
          ],
          [
           "CARDINAL CMTY SCHOOL DISTRICT"
          ],
          [
           "CARLISLE CMTY SCHOOL DISTRICT"
          ],
          [
           "CARROLL CMTY SCHOOL DISTRICT"
          ],
          [
           "CEDAR FALLS CMTY SCH DISTRICT"
          ],
          [
           "CEDAR RAPIDS CMTY SCHOOL DIST"
          ],
          [
           "CENTER POINT-URBANA CMTY SD"
          ],
          [
           "CENTERVILLE CMTY SCHOOL DIST"
          ],
          [
           "CENTRAL CITY CMTY SCH DIST"
          ],
          [
           "CENTRAL CMTY SCHOOL DISTRICT"
          ],
          [
           "CENTRAL DEWITT CMTY SCH DIST"
          ],
          [
           "CENTRAL DECATUR CMTY SCH DIST"
          ],
          [
           "CENTRAL LEE CMTY SCHOOL DIST"
          ],
          [
           "CENTRAL LYON CMTY SCHOOL DIST"
          ],
          [
           "CENTRAL SPRINGS CMTY SCH DIST"
          ],
          [
           "CHARITON CMTY SCHOOL DISTRICT"
          ],
          [
           "CHARLES CITY CMTY SCH DISTRICT"
          ],
          [
           "CHEROKEE CMTY SCHOOL DISTRICT"
          ],
          [
           "CLARINDA CMTY SCHOOL DISTRICT"
          ],
          [
           "CLARION-GOLDFIELD-DOWS CMTY SD"
          ],
          [
           "CLARKE CMTY SCHOOL DISTRICT"
          ],
          [
           "CLARKSVILLE CMTY SCHOOL DIST"
          ],
          [
           "CLAYTON RIDGE CMTY SCH DIST"
          ],
          [
           "CLEAR CREEK AMANA CMTY SD"
          ],
          [
           "CLEAR LAKE CMTY SCH DISTRICT"
          ],
          [
           "CLINTON CMTY SCHOOL DISTRICT"
          ],
          [
           "COLFAX-MINGO CMTY SCH DIST"
          ],
          [
           "COLLEGE CMTY SCHOOL DISTRICT"
          ],
          [
           "COLLINS-MAXWELL CMTY SCH DIST"
          ],
          [
           "COLO-NESCO CMTY SCHOOL DIST"
          ],
          [
           "COLUMBUS CMTY SCHOOL DISTRICT"
          ],
          [
           "COON RAPIDS-BAYARD CMTY SD"
          ],
          [
           "COUNCIL BLUFFS CMTY SCH DIST"
          ],
          [
           "CRESTON CMTY SCHOOL DISTRICT"
          ],
          [
           "DALLAS CENTER GRIMES CMTY SD"
          ],
          [
           "DANVILLE CMTY SCHOOL DISTRICT"
          ],
          [
           "DAVENPORT CMTY SCHOOL DISTRICT"
          ],
          [
           "DAVIS CO CMTY SCHOOL DISTRICT"
          ],
          [
           "DECORAH CMTY SCHOOL DISTRICT"
          ],
          [
           "DENISON CMTY SCHOOL DISTRICT"
          ],
          [
           "DENVER CMTY SCHOOL DISTRICT"
          ],
          [
           "DES MOINES PUBLIC SCHOOL DIST"
          ],
          [
           "DIKE-NEW HARTFORD CMTY SD"
          ],
          [
           "DUBUQUE CMTY SCHOOL DISTRICT"
          ],
          [
           "DUNKERTON CMTY SCH DISTRICT"
          ],
          [
           "DURANT CMTY SCHOOL DISTRICT"
          ],
          [
           "EAGLE GROVE CMTY SCHOOL DIST"
          ],
          [
           "EARLHAM CMTY SCHOOL DISTRICT"
          ],
          [
           "EAST BUCHANAN CMTY SCH DIST"
          ],
          [
           "EAST MARSHALL CMTY SCHOOL DIST"
          ],
          [
           "EAST MILLS CMTY SCHOOL DIST"
          ],
          [
           "EAST SAC CO CMTY SCHOOL DIST"
          ],
          [
           "EAST UNION CMTY SCHOOL DIST"
          ],
          [
           "EASTERN ALLAMAKEE CMTY SD"
          ],
          [
           "EASTON VALLEY CMTY SCHOOL DIST"
          ],
          [
           "EDDYVLL-BLKSBRG-FREMNT CMTY SD"
          ],
          [
           "EDGEWOOD COLESBURG CMTY SD"
          ],
          [
           "ELDORA-NEW PROVIDENCE CMTY SD"
          ],
          [
           "EMMETSBURG CMTY SCH DIST"
          ],
          [
           "ENGLISH VALLEYS CMTY SCH DIST"
          ],
          [
           "ESTHERVILLE LINCOLN CTL CMSD"
          ],
          [
           "EXIRA-ELK HORN-KIMBALLTON SD"
          ],
          [
           "FAIRFIELD CMTY SCHOOL DISTRICT"
          ],
          [
           "FOREST CITY CMTY SCHOOL DIST"
          ],
          [
           "FT DODGE CMTY SCHOOL DIST"
          ],
          [
           "FT MADISON CMTY SCHOOL DIST"
          ],
          [
           "FREMONT-MILLS CMTY SCH DIST"
          ],
          [
           "GALVA-HOLSTEIN CMTY SCH DIST"
          ],
          [
           "GARNER-HAYFIELD-VENTURA CSD"
          ],
          [
           "GEORGE-LITTLE ROCK CMTY SD"
          ],
          [
           "GILBERT CMTY SCHOOL DISTRICT"
          ],
          [
           "GLADBROOK-REINBECK CMTY SD"
          ],
          [
           "GLENWOOD CMTY SCHOOL DISTRICT"
          ],
          [
           "GLIDDEN-RALSTON CMTY SCH DIST"
          ],
          [
           "GREENE CO CMTY SCHOOL DISTRICT"
          ],
          [
           "GRINNELL-NEWBURG CMTY SCH DIST"
          ],
          [
           "GRISWOLD CMTY SCHOOL DISTRICT"
          ],
          [
           "GRUNDY CENTER CMTY SCHOOL DIST"
          ],
          [
           "GUTHRIE CENTER CMTY SCH DIST"
          ],
          [
           "HLV CMTY SCHOOL DISTRICT"
          ],
          [
           "HAMPTON-DUMONT CMTY SCH DIST"
          ],
          [
           "HARLAN CMTY SCHOOL DISTRICT"
          ],
          [
           "HARTLEY-MELVIN-SANBORN CMTY SD"
          ],
          [
           "HIGHLAND CMTY SCHOOL DISTRICT"
          ],
          [
           "HINTON CMTY SCHOOL DISTRICT"
          ],
          [
           "HOWARD-WINNESHIEK CMTY SD"
          ],
          [
           "HUDSON CMTY SCHOOL DISTRICT"
          ],
          [
           "HUMBOLDT CMTY SCHOOL DISTRICT"
          ],
          [
           "IKM-MANNING CMTY SCHOOL DIST"
          ],
          [
           "INDEPENDENCE CMTY SCH DISTRICT"
          ],
          [
           "INDIANOLA CMTY SCHOOL DISTRICT"
          ],
          [
           "INTERSTATE 35 CMTY SCHOOL DIST"
          ],
          [
           "IOWA CITY CMTY SCHOOL DISTRICT"
          ],
          [
           "IOWA FALLS CMTY SCHOOL DIST"
          ],
          [
           "IOWA VALLEY CMTY SCH DISTRICT"
          ],
          [
           "JANESVILLE CONS SCHOOL DIST"
          ],
          [
           "JESUP CMTY SCHOOL DISTRICT"
          ],
          [
           "JOHNSTON CMTY SCHOOL DISTRICT"
          ],
          [
           "KEOKUK CMTY SCHOOL DISTRICT"
          ],
          [
           "KEOTA CMTY SCHOOL DISTRICT"
          ],
          [
           "KINGSLEY-PIERSON CMTY SCH DIST"
          ],
          [
           "KNOXVILLE CMTY SCHOOL DISTRICT"
          ],
          [
           "LAKE MILLS CMTY SCH DISTRICT"
          ],
          [
           "LAMONI CMTY SCHOOL DISTRICT"
          ],
          [
           "LAWTON-BRONSON CMTY SCH DIST"
          ],
          [
           "LE MARS CMTY SCHOOL DISTRICT"
          ],
          [
           "LENOX CMTY SCHOOL DISTRICT"
          ],
          [
           "LEWIS CENTRAL CMTY SCH DIST"
          ],
          [
           "LINN-MAR CMTY SCHOOL DISTRICT"
          ],
          [
           "LISBON CMTY SCHOOL DISTRICT"
          ],
          [
           "LOGAN-MAGNOLIA CMTY SCH DIST"
          ],
          [
           "LONE TREE CMTY SCHOOL DISTRICT"
          ],
          [
           "LOUISA-MUSCATINE CMTY SCH DIST"
          ],
          [
           "LYNNVILLE-SULLY CMTY SCH DIST"
          ],
          [
           "MFL MARMAC CMTY SCHOOL DIST"
          ],
          [
           "MOC-FLOYD VALLEY CMTY SCH DIST"
          ],
          [
           "MADRID CMTY SCHOOL DISTRICT"
          ],
          [
           "MANSON NW WEBSTER CMTY SD"
          ],
          [
           "MAPLE VALLEY ANTHON-OTO SD"
          ],
          [
           "MAQUOKETA CMTY SCHOOL DISTRICT"
          ],
          [
           "MAQUOKETA VALLEY CMTY SCH DIST"
          ],
          [
           "MARCUS-MERIDEN-CLEGHORN CSD"
          ],
          [
           "MARION IND SCHOOL DISTRICT"
          ],
          [
           "MARSHALLTOWN CMTY SCHOOL DIST"
          ],
          [
           "MARTENSDALE-ST MARYS CMTY SD"
          ],
          [
           "MASON CITY CMTY SCH DISTRICT"
          ],
          [
           "MEDIAPOLIS CMTY SCH DISTRICT"
          ],
          [
           "MID-PRAIRIE CMTY SCHOOL DIST"
          ],
          [
           "MIDLAND CMTY SCHOOL DISTRICT"
          ],
          [
           "MISSOURI VALLEY CMTY SCH DIST"
          ],
          [
           "MONTEZUMA CMTY SCHOOL DISTRICT"
          ],
          [
           "MONTICELLO CMTY SCH DISTRICT"
          ],
          [
           "MORAVIA CMTY SCHOOL DISTRICT"
          ],
          [
           "MT AYR CMTY SCHOOL DISTRICT"
          ],
          [
           "MT PLEASANT CMTY SCHOOL DIST"
          ],
          [
           "MT VERNON CMTY SCHOOL DISTRICT"
          ],
          [
           "MURRAY CMTY SCHOOL DISTRICT"
          ],
          [
           "MUSCATINE CMTY SCHOOL DISTRICT"
          ],
          [
           "NASHUA-PLAINFIELD CMTY SD"
          ],
          [
           "NEVADA CMTY SCHOOL DISTRICT"
          ],
          [
           "NEW HAMPTON CMTY SCH DISTRICT"
          ],
          [
           "NEW LONDON CMTY SCH DISTRICT"
          ],
          [
           "NEWELL-FONDA CMTY SCHOOL DIST"
          ],
          [
           "NEWTON CMTY SCHOOL DISTRICT"
          ],
          [
           "NODAWAY VALLEY CMTY SCH DIST"
          ],
          [
           "NORTH BUTLER CMTY SCH DIST"
          ],
          [
           "NORTH CEDAR CMTY SCHOOL DIST"
          ],
          [
           "NORTH FAYETTE VALLEY CMTY SD"
          ],
          [
           "NORTH IOWA CMTY SCH DISTRICT"
          ],
          [
           "NORTH-LINN CMTY SCHOOL DIST"
          ],
          [
           "NORTH MAHASKA CMTY SCH DIST"
          ],
          [
           "NORTH POLK CMTY SCHOOL DIST"
          ],
          [
           "NORTH SCOTT CMTY SCHOOL DIST"
          ],
          [
           "NORTH TAMA CO CMTY SCH DIST"
          ],
          [
           "NORTH UNION CMTY SCHOOL DIST"
          ],
          [
           "NORTHEAST CMTY SCH DISTRICT"
          ],
          [
           "NORTHWOOD-KENSETT CMTY SD"
          ],
          [
           "NORWALK CMTY SCHOOL DISTRICT"
          ],
          [
           "OABCIG CMTY SD"
          ],
          [
           "OELWEIN CMTY SCHOOL DISTRICT"
          ],
          [
           "OGDEN CMTY SCHOOL DISTRICT"
          ],
          [
           "OKOBOJI CMTY SCHOOL DISTRICT"
          ],
          [
           "OSAGE CMTY SCHOOL DISTRICT"
          ],
          [
           "OSKALOOSA CMTY SCHOOL DISTRICT"
          ],
          [
           "OTTUMWA CMTY SCHOOL DISTRICT"
          ],
          [
           "PRAIRIE CITY-MONROE CMTY SD 21"
          ],
          [
           "PANORAMA CMTY SCHOOL DISTRICT"
          ],
          [
           "PEKIN CMTY SCHOOL DISTRICT"
          ],
          [
           "PELLA CMTY SCHOOL DISTRICT"
          ],
          [
           "PERRY CMTY SCHOOL DISTRICT"
          ],
          [
           "PLEASANT VALLEY CMTY SCH DIST"
          ],
          [
           "PLEASANTVILLE CMTY SCHOOL DIST"
          ],
          [
           "POCAHONTAS AREA CMTY SCH DIST"
          ],
          [
           "POSTVILLE CMTY SCHOOL DISTRICT"
          ],
          [
           "PRAIRIE VALLEY CMTY SCH DIST"
          ],
          [
           "RED OAK CMTY SCHOOL DISTRICT"
          ],
          [
           "RIVER VALLEY SCHOOL DISTRICT"
          ],
          [
           "RIVERSIDE CMTY SCHOOL DISTRICT"
          ],
          [
           "ROCK VALLEY SCHOOL DISTRICT"
          ],
          [
           "ROLAND-STORY CMTY SCHOOL DIST"
          ],
          [
           "RUDD-ROCKFORD-MARBLE ROCK CSD"
          ],
          [
           "SAYDEL CMTY SCHOOL DISTRICT"
          ],
          [
           "SERGEANT BLUFF-LUTON CMTY SD"
          ],
          [
           "SHELDON CMTY SCHOOL DISTRICT"
          ],
          [
           "SHENANDOAH CMTY SCH DISTRICT"
          ],
          [
           "SIBLEY-OCHEYEDAN CMTY SCH DIST"
          ],
          [
           "SIDNEY CMTY SCHOOL DISTRICT"
          ],
          [
           "SIGOURNEY CMTY SCHOOL DISTRICT"
          ],
          [
           "SIOUX CENTER CMTY SCHOOL DIST"
          ],
          [
           "SIOUX CENTRAL CMTY SCHOOL DIST"
          ],
          [
           "SIOUX CITY CMTY SCHOOL DIST"
          ],
          [
           "SOLON CMTY SCHOOL DISTRICT"
          ],
          [
           "SOUTH CENTRAL CALHOUN CMTY SD"
          ],
          [
           "SOUTH HAMILTON CMTY SCH DIST"
          ],
          [
           "SOUTH O'BRIEN CMTY SCHOOL DIST"
          ],
          [
           "SOUTH TAMA CO CMTY SCHOOL DIST"
          ],
          [
           "SOUTH WINNESHIEK CMTY SCH DIST"
          ],
          [
           "SOUTHEAST POLK CMTY SCH DIST"
          ],
          [
           "SOUTHEAST WARREN CMTY SCH DIST"
          ],
          [
           "SPENCER CMTY SCHOOL DISTRICT"
          ],
          [
           "SPIRIT LAKE CMTY SCH DISTRICT"
          ],
          [
           "SPRINGVILLE CMTY SCHOOL DIST"
          ],
          [
           "ST ANSGAR CMTY SCHOOL DISTRICT"
          ],
          [
           "STARMONT CMTY SCHOOL DISTRICT"
          ],
          [
           "STORM LAKE CMTY SCH DISTRICT"
          ],
          [
           "SUMNER-FREDERICKSBURG SCHOOLS"
          ],
          [
           "TIPTON CMTY SCHOOL DISTRICT"
          ],
          [
           "TREYNOR CMTY SCHOOL DISTRICT"
          ],
          [
           "TRI-CENTER CMTY SCH DISTRICT"
          ],
          [
           "TRIPOLI CMTY SCHOOL DISTRICT"
          ],
          [
           "TURKEY VALLEY CMTY SCHOOL DIST"
          ],
          [
           "UNDERWOOD CMTY SCHOOL DISTRICT"
          ],
          [
           "UNION CMTY SCHOOL DISTRICT"
          ],
          [
           "URBANDALE CMTY SCHOOL DISTRICT"
          ],
          [
           "VAN BUREN CO CMTY SCHOOL DIST"
          ],
          [
           "VAN METER CMTY SCHOOL DISTRICT"
          ],
          [
           "VINTON-SHELLSBURG CMTY SD"
          ],
          [
           "WACO CMTY SCHOOL DISTRICT"
          ],
          [
           "WAPELLO CMTY SCHOOL DISTRICT"
          ],
          [
           "WAPSIE VALLEY CMTY SCHOOL DIST"
          ],
          [
           "WASHINGTON CMTY SCH DISTRICT"
          ],
          [
           "WATERLOO CMTY SCHOOL DISTRICT"
          ],
          [
           "WAUKEE CMTY SCHOOL DISTRICT"
          ],
          [
           "WAVERLY-SHELL ROCK CMTY SD"
          ],
          [
           "WAYNE CMTY SCHOOL DISTRICT"
          ],
          [
           "WEBSTER CITY CMTY SCHOOL DIST"
          ],
          [
           "WEST BRANCH CMTY SCH DISTRICT"
          ],
          [
           "WEST BURLINGTON IND SCH DIST"
          ],
          [
           "WEST CENTRAL VALLEY CMTY SD"
          ],
          [
           "WEST DELAWARE CO CMTY SCH DIST"
          ],
          [
           "WEST DES MOINES CMTY SCH DIST"
          ],
          [
           "WEST FORK CMTY SCHOOL DISTRICT"
          ],
          [
           "WEST HANCOCK CMTY SCH DISTRICT"
          ],
          [
           "WEST HARRISON CMTY SCHOOL DIST"
          ],
          [
           "WEST LIBERTY CMTY SCHOOL DIST"
          ],
          [
           "WEST LYON CMTY SCHOOL DISTRICT"
          ],
          [
           "WEST MARSHALL CMTY SCHOOL DIST"
          ],
          [
           "WEST MONONA CMTY SCHOOL DIST"
          ],
          [
           "WEST SIOUX CMTY SCH DISTRICT"
          ],
          [
           "WESTERN DUBUQUE CMTY SD"
          ],
          [
           "WESTWOOD CMTY SCHOOL DISTRICT"
          ],
          [
           "WILLIAMSBURG CMTY SCH DISTRICT"
          ],
          [
           "WILTON CMTY SCHOOL DISTRICT"
          ],
          [
           "WINFIELD-MT UNION CMTY SD"
          ],
          [
           "WINTERSET CMTY SCHOOL DISTRICT"
          ],
          [
           "WOODBINE CMTY SCHOOL DISTRICT"
          ],
          [
           "WOODBURY CENTRAL CMTY SCH DIST"
          ],
          [
           "WOODWARD-GRANGER CMTY SCH DIST"
          ]
         ],
         "hovertemplate": "Median Family Income=%{x}<br>Avg Comp=%{y}<br>District Name=%{customdata[0]}<br>Attendance Rate=%{marker.color}<extra></extra>",
         "legendgroup": "",
         "marker": {
          "color": [
           94.9,
           95.6,
           96.2,
           95.3,
           95.5,
           95.8,
           94.9,
           94.8,
           95.4,
           94,
           95.3,
           95.8,
           94.5,
           95.7,
           96,
           95.9,
           95.9,
           95.6,
           95.9,
           94.6,
           94.3,
           95,
           95.5,
           95.6,
           95.1,
           94.5,
           94.4,
           92,
           92.7,
           95.8,
           95.1,
           94.9,
           95.3,
           95.6,
           93,
           95.6,
           92.9,
           94.3,
           94.5,
           95.5,
           94.2,
           95.2,
           96.3,
           95.6,
           94.5,
           94,
           96.1,
           95.8,
           94.8,
           94.2,
           95.5,
           95.7,
           95.2,
           96.8,
           93.8,
           95,
           94.5,
           95,
           94.6,
           91.6,
           94.3,
           94.4,
           95.5,
           95.1,
           94.9,
           93,
           95.2,
           95.4,
           95.1,
           96.1,
           94,
           96.3,
           94.8,
           93.9,
           95.3,
           93.8,
           90.1,
           94.5,
           95.4,
           93.7,
           94.9,
           93.9,
           95.1,
           94.4,
           95.3,
           95,
           93.8,
           95.1,
           94.9,
           94.7,
           94.9,
           95,
           95,
           94,
           94.2,
           94.8,
           95.4,
           95.4,
           95.4,
           96.7,
           95.5,
           91.1,
           95.9,
           94.6,
           94.5,
           94.4,
           96.2,
           95.3,
           94.7,
           94.2,
           94.8,
           94.6,
           95.4,
           96,
           94.3,
           96,
           96.9,
           95.1,
           95.2,
           94.6,
           95.3,
           94.3,
           95.6,
           95.6,
           97.9,
           94.4,
           95.9,
           94.2,
           95.2,
           95.7,
           95.1,
           93.7,
           95.1,
           94.9,
           95.2,
           94.6,
           95.6,
           95.4,
           95.5,
           96.8,
           94.1,
           94.2,
           95.7,
           95.5,
           95.7,
           95,
           96.1,
           93.8,
           96.4,
           95.3,
           95.2,
           94.4,
           92.7,
           95.4,
           93.7,
           96.3,
           95,
           94.3,
           95.7,
           94.7,
           95.2,
           91.5,
           96.3,
           94.6,
           95.6,
           95.8,
           93.2,
           96.2,
           95.5,
           96.4,
           94.2,
           95.4,
           94.7,
           95.1,
           95.5,
           93.4,
           95.1,
           93.7,
           94.5,
           95.5,
           95.9,
           96.1,
           95.3,
           91.7,
           96,
           96.2,
           95.6,
           95.6,
           94,
           95.8,
           95.6,
           95.9,
           94.6,
           93.9,
           95.8,
           94.8,
           95,
           96.4,
           94.4,
           96.5,
           96.6,
           94.4,
           94.6,
           94,
           93.3,
           94.2,
           94.6,
           97.2,
           95.9,
           97,
           94.1,
           96.2,
           96.2,
           95.7,
           96.1,
           95.5,
           95.5,
           96.5,
           95.5,
           94.3,
           97,
           94.6,
           94.9,
           94.8,
           94.2,
           95.4,
           95.5,
           94.1,
           94.6,
           94.7,
           94.2,
           96.2,
           94.5,
           94.3,
           95.3,
           95.5,
           95.9,
           96.3,
           95.3,
           95.3,
           96.1,
           95.9,
           95.1,
           94.5,
           95.5,
           95,
           95.1,
           90.7,
           95,
           94.7,
           91,
           95.3,
           95.7,
           95.5,
           95.3,
           96,
           94.2,
           94.1,
           94.5,
           95.6,
           94.6,
           95.3,
           96.2,
           94.6,
           96.2,
           95.3,
           93.6,
           94.4,
           95.9,
           94,
           96,
           94.4,
           94.2,
           96,
           96.2,
           95.6,
           96.4
          ],
          "coloraxis": "coloraxis",
          "line": {
           "width": 1
          },
          "size": 10,
          "symbol": "circle"
         },
         "mode": "markers",
         "name": "",
         "orientation": "v",
         "showlegend": false,
         "type": "scatter",
         "x": [
          80547,
          114109,
          83947,
          89654,
          102773,
          82284,
          78705,
          86010,
          97316,
          82903,
          119431,
          82171,
          83943,
          78490,
          125833,
          102976,
          76344,
          82051,
          95300,
          69589,
          102717,
          104907,
          123551,
          95127,
          92663,
          79732,
          73942,
          72318,
          92206,
          84019,
          75542,
          115738,
          90838,
          108771,
          88764,
          103900,
          50938,
          92198,
          86719,
          96144,
          67287,
          87525,
          80714,
          86741,
          77864,
          86855,
          94542,
          72500,
          78679,
          71272,
          77604,
          79293,
          115070,
          102441,
          67964,
          92138,
          108678,
          93594,
          97604,
          83884,
          72115,
          72652,
          76685,
          114708,
          90625,
          80483,
          89340,
          93979,
          62384,
          116417,
          75488,
          102386,
          92612,
          87959,
          108882,
          64904,
          112262,
          85087,
          93900,
          86121,
          92600,
          89196,
          76806,
          76339,
          78556,
          92325,
          80395,
          80063,
          57500,
          76355,
          69569,
          67869,
          80074,
          81218,
          77381,
          90000,
          78882,
          89105,
          79219,
          133958,
          99167,
          103229,
          87167,
          81532,
          98958,
          84034,
          91293,
          91875,
          85552,
          65962,
          89318,
          72432,
          100590,
          106893,
          81500,
          121866,
          81875,
          100513,
          87614,
          104111,
          108864,
          109533,
          77462,
          82589,
          89315,
          89960,
          127877,
          65085,
          93098,
          91875,
          82987,
          88750,
          65156,
          114200,
          90192,
          72083,
          101307,
          109729,
          108804,
          100027,
          112820,
          87738,
          103693,
          80185,
          93661,
          99223,
          90923,
          85000,
          78853,
          97292,
          92474,
          80941,
          80932,
          112778,
          79352,
          99036,
          95410,
          75769,
          93013,
          78077,
          97404,
          91641,
          88536,
          79439,
          121118,
          67344,
          78462,
          74615,
          104815,
          87835,
          79766,
          94792,
          70833,
          91316,
          80625,
          82500,
          78258,
          85208,
          95921,
          86875,
          143125,
          106477,
          86354,
          70417,
          89286,
          84464,
          126795,
          82500,
          60315,
          99396,
          97829,
          86667,
          80378,
          64893,
          93859,
          91895,
          81833,
          103545,
          74353,
          140029,
          90833,
          79659,
          61250,
          85662,
          66349,
          75909,
          81875,
          91914,
          112417,
          97069,
          81292,
          110750,
          95901,
          72585,
          80718,
          73750,
          80511,
          103799,
          82159,
          81650,
          137985,
          75417,
          91574,
          90771,
          71212,
          82628,
          101722,
          97759,
          81736,
          96069,
          98466,
          93363,
          68854,
          88071,
          90156,
          88914,
          113778,
          91833,
          98315,
          85577,
          116181,
          100313,
          117176,
          70469,
          150583,
          90288,
          105000,
          82326,
          101552,
          74885,
          71304,
          149353,
          94250,
          78029,
          78125,
          98407,
          73828,
          85697,
          87868,
          115879,
          77022,
          78542,
          87778,
          95947,
          98145,
          99113,
          66667,
          91250,
          98858,
          87926,
          97539,
          95341,
          88214,
          102768,
          94375,
          115797,
          119559
         ],
         "xaxis": "x",
         "y": [
          20.9,
          23.3,
          21.1,
          21.8,
          22.6,
          21.4,
          22,
          20.7,
          25.4,
          21.7,
          24.1,
          21.3,
          22.6,
          21.6,
          23.1,
          24.1,
          20.8,
          21,
          18.9,
          22.8,
          20.8,
          23.2,
          22.6,
          18.5,
          23,
          22.3,
          20.5,
          21.5,
          21.2,
          17.2,
          19,
          19.7,
          22.8,
          24.3,
          19.9,
          22.8,
          20.7,
          21.1,
          20.4,
          20.3,
          20.6,
          23.5,
          23.3,
          21.8,
          21.2,
          19.5,
          20.8,
          21.9,
          21,
          20.6,
          20.5,
          21.8,
          22.3,
          23.6,
          19.9,
          18.6,
          22.6,
          17.5,
          22.2,
          16,
          21.4,
          20.7,
          21.6,
          21.9,
          23.1,
          18.2,
          21.1,
          24.5,
          18.4,
          23,
          16.8,
          21.5,
          22.8,
          20.4,
          20.1,
          20.4,
          20.9,
          22.8,
          22.1,
          21.1,
          20.4,
          19.2,
          23.1,
          19.9,
          19.8,
          20.3,
          19.9,
          21.3,
          22.7,
          19.5,
          20.1,
          22.3,
          23.8,
          18,
          20.7,
          19.6,
          22.6,
          21.9,
          22.1,
          24.4,
          20.3,
          21.6,
          20.6,
          21.9,
          25.3,
          20,
          22.2,
          23.1,
          20.9,
          20.3,
          21.9,
          22.4,
          20.7,
          20.9,
          21.3,
          22.1,
          21.8,
          21.6,
          21.5,
          22.2,
          21.2,
          24.7,
          19.3,
          23.3,
          22,
          22.1,
          23.8,
          20.6,
          22.9,
          22.6,
          21.6,
          22.2,
          21,
          21.6,
          22.1,
          17.4,
          20.8,
          24,
          22.7,
          19.8,
          20.9,
          20.3,
          22.2,
          19.8,
          21.6,
          22.1,
          20.5,
          20.8,
          21.1,
          23.9,
          20.7,
          22.7,
          19.7,
          20.9,
          21.1,
          22,
          22.6,
          19.1,
          21.7,
          20.8,
          22.3,
          18.6,
          20.4,
          22,
          22.2,
          19.6,
          18.7,
          21.8,
          22.8,
          21.4,
          20.8,
          18.7,
          21.3,
          21.3,
          20.5,
          20.2,
          21.1,
          19.7,
          22.1,
          20.6,
          22,
          22.5,
          19.3,
          18.5,
          17.7,
          21.7,
          21.4,
          22.9,
          20.6,
          23.6,
          21.4,
          22.2,
          20.3,
          17.2,
          22.2,
          21.4,
          20.1,
          22.9,
          16.7,
          25.2,
          21.6,
          23.1,
          20.4,
          23.6,
          19.2,
          18.8,
          20,
          20.7,
          22.9,
          20.4,
          18.9,
          21.6,
          21.1,
          20,
          20.8,
          21.5,
          21.5,
          20,
          20.2,
          18.6,
          23.4,
          20.8,
          21.9,
          22.7,
          17.9,
          22.8,
          22.4,
          21.3,
          21.7,
          22,
          20.3,
          21.7,
          20.7,
          17.4,
          20.8,
          22.4,
          22.4,
          21.2,
          22.5,
          21.6,
          22,
          21.4,
          22.3,
          23,
          22.8,
          19.4,
          20.9,
          19.7,
          22.2,
          21,
          20,
          23,
          22.5,
          18.5,
          20.6,
          21.7,
          22.5,
          19.9,
          21.2,
          21.6,
          21,
          21.2,
          18.5,
          20.2,
          22.7,
          21.5,
          20.6,
          20.2,
          22.8,
          19.8,
          21.9,
          20.1,
          20.1,
          23.9,
          23,
          22.9,
          22.8
         ],
         "yaxis": "y"
        },
        {
         "hovertemplate": "<b>OLS trendline</b><br>Avg Comp = 4.26209e-05 * Median Family Income + 17.4073<br>R<sup>2</sup>=0.180381<br><br>Median Family Income=%{x}<br>Avg Comp=%{y} <b>(trend)</b><extra></extra>",
         "legendgroup": "Overall Trendline",
         "marker": {
          "line": {
           "width": 1
          },
          "size": 10
         },
         "mode": "lines",
         "name": "Overall Trendline",
         "showlegend": true,
         "type": "scatter",
         "x": [
          50938,
          57500,
          60315,
          61250,
          62384,
          64893,
          64904,
          65085,
          65156,
          65962,
          66349,
          66667,
          67287,
          67344,
          67869,
          67964,
          68854,
          69569,
          69589,
          70417,
          70469,
          70833,
          71212,
          71272,
          71304,
          72083,
          72115,
          72318,
          72432,
          72500,
          72585,
          72652,
          73750,
          73828,
          73942,
          74353,
          74615,
          74885,
          75417,
          75488,
          75542,
          75769,
          75909,
          76339,
          76344,
          76355,
          76685,
          76806,
          77022,
          77381,
          77462,
          77604,
          77864,
          78029,
          78077,
          78125,
          78258,
          78462,
          78490,
          78542,
          78556,
          78679,
          78705,
          78853,
          78882,
          79219,
          79293,
          79352,
          79439,
          79659,
          79732,
          79766,
          80063,
          80074,
          80185,
          80378,
          80395,
          80483,
          80511,
          80547,
          80625,
          80714,
          80718,
          80932,
          80941,
          81218,
          81292,
          81500,
          81532,
          81650,
          81736,
          81833,
          81875,
          81875,
          82051,
          82159,
          82171,
          82284,
          82326,
          82500,
          82500,
          82589,
          82628,
          82903,
          82987,
          83884,
          83943,
          83947,
          84019,
          84034,
          84464,
          85000,
          85087,
          85208,
          85552,
          85577,
          85662,
          85697,
          86010,
          86121,
          86354,
          86667,
          86719,
          86741,
          86855,
          86875,
          87167,
          87525,
          87614,
          87738,
          87778,
          87835,
          87868,
          87926,
          87959,
          88071,
          88214,
          88536,
          88750,
          88764,
          88914,
          89105,
          89196,
          89286,
          89315,
          89318,
          89340,
          89654,
          89960,
          90000,
          90156,
          90192,
          90288,
          90625,
          90771,
          90833,
          90838,
          90923,
          91250,
          91293,
          91316,
          91574,
          91641,
          91833,
          91875,
          91875,
          91895,
          91914,
          92138,
          92198,
          92206,
          92325,
          92474,
          92600,
          92612,
          92663,
          93013,
          93098,
          93363,
          93594,
          93661,
          93859,
          93900,
          93979,
          94250,
          94375,
          94542,
          94792,
          95127,
          95300,
          95341,
          95410,
          95901,
          95921,
          95947,
          96069,
          96144,
          97069,
          97292,
          97316,
          97404,
          97539,
          97604,
          97759,
          97829,
          98145,
          98315,
          98407,
          98466,
          98858,
          98958,
          99036,
          99113,
          99167,
          99223,
          99396,
          100027,
          100313,
          100513,
          100590,
          101307,
          101552,
          101722,
          102386,
          102441,
          102717,
          102768,
          102773,
          102976,
          103229,
          103545,
          103693,
          103799,
          103900,
          104111,
          104815,
          104907,
          105000,
          106477,
          106893,
          108678,
          108771,
          108804,
          108864,
          108882,
          109533,
          109729,
          110750,
          112262,
          112417,
          112778,
          112820,
          113778,
          114109,
          114200,
          114708,
          115070,
          115738,
          115797,
          115879,
          116181,
          116417,
          117176,
          119431,
          119559,
          121118,
          121866,
          123551,
          125833,
          126795,
          127877,
          133958,
          137985,
          140029,
          143125,
          149353,
          150583
         ],
         "xaxis": "x",
         "y": [
          19.57832632264538,
          19.85800482584944,
          19.97798272687343,
          20.017833290801473,
          20.066165418602967,
          20.17310131688687,
          20.173570147050732,
          20.181284534292416,
          20.18431061989551,
          20.2186630846292,
          20.235157382212247,
          20.248710836040182,
          20.27513580891225,
          20.27756520157952,
          20.299941186672804,
          20.303990174451588,
          20.341922796800205,
          20.37239675745106,
          20.373249175930802,
          20.408539300992214,
          20.410755589039546,
          20.42626960537089,
          20.442422935562043,
          20.444980191001275,
          20.446344060568865,
          20.479545760354902,
          20.480909629922493,
          20.489561677491896,
          20.494420462826437,
          20.497318685657568,
          20.50094146419648,
          20.503797066103623,
          20.550594840641576,
          20.55391927271258,
          20.55877805804712,
          20.576295257805864,
          20.587461939890513,
          20.59896958936706,
          20.621643920928253,
          20.624670006531346,
          20.626971536426655,
          20.636646486171752,
          20.64261341552996,
          20.66094041284446,
          20.661153517464395,
          20.661622347628256,
          20.675687252544034,
          20.680844384346486,
          20.690050503927722,
          20.705351415639132,
          20.708803710482094,
          20.71485588168828,
          20.725937321924953,
          20.73296977438284,
          20.735015578734227,
          20.737061383085614,
          20.74272996597591,
          20.751424634469302,
          20.752618020340943,
          20.75483430838828,
          20.7554310013241,
          20.760673374974527,
          20.761781518998195,
          20.7680894157483,
          20.76932542254393,
          20.78368867392762,
          20.78684262230267,
          20.78935725681792,
          20.793065277204807,
          20.80244188048199,
          20.80555320793306,
          20.807002319348623,
          20.819660733772825,
          20.820129563936682,
          20.82486048649926,
          20.833086324828795,
          20.833810880536575,
          20.83756152184745,
          20.838754907719093,
          20.840289260982633,
          20.843613693053634,
          20.847406955288495,
          20.847577438984445,
          20.856698316717708,
          20.857081905033592,
          20.86888790097805,
          20.872041849353103,
          20.880907001542443,
          20.882270871110034,
          20.887300140140525,
          20.890965539603425,
          20.895099769230182,
          20.896889848037645,
          20.896889848037645,
          20.904391130659395,
          20.908994190450013,
          20.90950564153786,
          20.914321805948415,
          20.916111884755875,
          20.92352792552965,
          20.92352792552965,
          20.927321187764512,
          20.928983403800014,
          20.940704157896494,
          20.94428431551142,
          20.982515284327945,
          20.985029918843193,
          20.985200402539142,
          20.98826910906622,
          20.988908422926027,
          21.007235420240526,
          21.03008023549767,
          21.03378825588456,
          21.03894538768701,
          21.05360698553861,
          21.05467250863829,
          21.058295287177202,
          21.059787019516754,
          21.07312736872475,
          21.07785829128733,
          21.08778896657635,
          21.10112931578435,
          21.10334560383168,
          21.1042832641594,
          21.109142049493943,
          21.109994467973685,
          21.122439777777952,
          21.13769806856537,
          21.141491330800232,
          21.14677632537465,
          21.148481162334136,
          21.150910555001406,
          21.152317045492985,
          21.154789059084244,
          21.15619554957582,
          21.160969093062388,
          21.167063885192558,
          21.18078782271644,
          21.189908700449703,
          21.19050539338552,
          21.196898531983603,
          21.20503912846516,
          21.208917632547998,
          21.212753515706847,
          21.213989522502477,
          21.214117385274438,
          21.215055045602156,
          21.228438015734138,
          21.241480018474224,
          21.243184855433714,
          21.24983371957572,
          21.251368072839256,
          21.25545968154203,
          21.269822932925717,
          21.276045587827852,
          21.278688085115057,
          21.27890118973499,
          21.282523968273907,
          21.296461010417723,
          21.298293710149174,
          21.299273991400877,
          21.310270189789577,
          21.31312579169672,
          21.321309009102265,
          21.32309908790973,
          21.32309908790973,
          21.323951506389474,
          21.32476130394523,
          21.334308390918363,
          21.336865646357598,
          21.337206613749494,
          21.342278503703973,
          21.348629021378066,
          21.353999257800453,
          21.354510708888302,
          21.35668437601165,
          21.371601699407172,
          21.375224477946084,
          21.386519022802695,
          21.396364456243738,
          21.39922005815088,
          21.40765900110035,
          21.409406458983824,
          21.412773511978816,
          21.424323782379346,
          21.42965139787775,
          21.436769092183614,
          21.447424323180414,
          21.46170233271613,
          21.469075752565917,
          21.470823210449392,
          21.47376405420451,
          21.49469092788223,
          21.495543346361973,
          21.49665149038564,
          21.50185124311208,
          21.50504781241112,
          21.54447216709929,
          21.553976633148437,
          21.55499953532413,
          21.558750176635,
          21.564504001373276,
          21.567274361432446,
          21.573880604650462,
          21.576864069329567,
          21.590332281309525,
          21.59757783838735,
          21.601498963394175,
          21.604013597909418,
          21.620721000112404,
          21.624983092511126,
          21.628307524582127,
          21.631589335729142,
          21.63389086562445,
          21.636277637367733,
          21.64365105721752,
          21.67054486025345,
          21.68273444451379,
          21.691258629311235,
          21.694540440458248,
          21.725099642957076,
          21.735541769333942,
          21.74278732641177,
          21.771087619939276,
          21.77343177075857,
          21.785195145779042,
          21.78736881290239,
          21.787581917522324,
          21.796233965091727,
          21.80701705886049,
          21.82048527084045,
          21.826793167590555,
          21.8313109855332,
          21.835615698855907,
          21.84460871381721,
          21.874613844304204,
          21.878534969311026,
          21.882498715241837,
          21.945449819970943,
          21.963180124349623,
          22.03925847366679,
          22.0432222195976,
          22.044628710089178,
          22.04718596552841,
          22.047953142160182,
          22.075699363675852,
          22.084053064777347,
          22.127569028168285,
          22.192011865236946,
          22.198618108454962,
          22.214004262014345,
          22.215794340821805,
          22.256625186001553,
          22.27073271184132,
          22.274611215924153,
          22.296262645309657,
          22.311691419793025,
          22.340162197016483,
          22.342676831531726,
          22.346171747298676,
          22.359043266342812,
          22.369101804403794,
          22.401451085710086,
          22.49756126930124,
          22.503016747571603,
          22.569462768067662,
          22.601343219210094,
          22.67315947612854,
          22.77042042466735,
          22.811421753543044,
          22.857537593297202,
          23.116715432063415,
          23.288349892959904,
          23.37546706158976,
          23.507421442254156,
          23.77286455684649,
          23.825288293350756
         ],
         "yaxis": "y"
        }
       ],
       "layout": {
        "coloraxis": {
         "cmax": 98,
         "cmin": 90,
         "colorbar": {
          "title": {
           "text": "Attendance Rate"
          }
         },
         "colorscale": [
          [
           0,
           "rgb(211, 242, 163)"
          ],
          [
           0.16666666666666666,
           "rgb(151, 225, 150)"
          ],
          [
           0.3333333333333333,
           "rgb(108, 192, 139)"
          ],
          [
           0.5,
           "rgb(76, 155, 130)"
          ],
          [
           0.6666666666666666,
           "rgb(33, 122, 121)"
          ],
          [
           0.8333333333333334,
           "rgb(16, 89, 101)"
          ],
          [
           1,
           "rgb(7, 64, 80)"
          ]
         ]
        },
        "legend": {
         "orientation": "h",
         "tracegroupgap": 0
        },
        "margin": {
         "t": 60
        },
        "template": {
         "data": {
          "bar": [
           {
            "error_x": {
             "color": "#2a3f5f"
            },
            "error_y": {
             "color": "#2a3f5f"
            },
            "marker": {
             "line": {
              "color": "#E5ECF6",
              "width": 0.5
             },
             "pattern": {
              "fillmode": "overlay",
              "size": 10,
              "solidity": 0.2
             }
            },
            "type": "bar"
           }
          ],
          "barpolar": [
           {
            "marker": {
             "line": {
              "color": "#E5ECF6",
              "width": 0.5
             },
             "pattern": {
              "fillmode": "overlay",
              "size": 10,
              "solidity": 0.2
             }
            },
            "type": "barpolar"
           }
          ],
          "carpet": [
           {
            "aaxis": {
             "endlinecolor": "#2a3f5f",
             "gridcolor": "white",
             "linecolor": "white",
             "minorgridcolor": "white",
             "startlinecolor": "#2a3f5f"
            },
            "baxis": {
             "endlinecolor": "#2a3f5f",
             "gridcolor": "white",
             "linecolor": "white",
             "minorgridcolor": "white",
             "startlinecolor": "#2a3f5f"
            },
            "type": "carpet"
           }
          ],
          "choropleth": [
           {
            "colorbar": {
             "outlinewidth": 0,
             "ticks": ""
            },
            "type": "choropleth"
           }
          ],
          "contour": [
           {
            "colorbar": {
             "outlinewidth": 0,
             "ticks": ""
            },
            "colorscale": [
             [
              0,
              "#0d0887"
             ],
             [
              0.1111111111111111,
              "#46039f"
             ],
             [
              0.2222222222222222,
              "#7201a8"
             ],
             [
              0.3333333333333333,
              "#9c179e"
             ],
             [
              0.4444444444444444,
              "#bd3786"
             ],
             [
              0.5555555555555556,
              "#d8576b"
             ],
             [
              0.6666666666666666,
              "#ed7953"
             ],
             [
              0.7777777777777778,
              "#fb9f3a"
             ],
             [
              0.8888888888888888,
              "#fdca26"
             ],
             [
              1,
              "#f0f921"
             ]
            ],
            "type": "contour"
           }
          ],
          "contourcarpet": [
           {
            "colorbar": {
             "outlinewidth": 0,
             "ticks": ""
            },
            "type": "contourcarpet"
           }
          ],
          "heatmap": [
           {
            "colorbar": {
             "outlinewidth": 0,
             "ticks": ""
            },
            "colorscale": [
             [
              0,
              "#0d0887"
             ],
             [
              0.1111111111111111,
              "#46039f"
             ],
             [
              0.2222222222222222,
              "#7201a8"
             ],
             [
              0.3333333333333333,
              "#9c179e"
             ],
             [
              0.4444444444444444,
              "#bd3786"
             ],
             [
              0.5555555555555556,
              "#d8576b"
             ],
             [
              0.6666666666666666,
              "#ed7953"
             ],
             [
              0.7777777777777778,
              "#fb9f3a"
             ],
             [
              0.8888888888888888,
              "#fdca26"
             ],
             [
              1,
              "#f0f921"
             ]
            ],
            "type": "heatmap"
           }
          ],
          "heatmapgl": [
           {
            "colorbar": {
             "outlinewidth": 0,
             "ticks": ""
            },
            "colorscale": [
             [
              0,
              "#0d0887"
             ],
             [
              0.1111111111111111,
              "#46039f"
             ],
             [
              0.2222222222222222,
              "#7201a8"
             ],
             [
              0.3333333333333333,
              "#9c179e"
             ],
             [
              0.4444444444444444,
              "#bd3786"
             ],
             [
              0.5555555555555556,
              "#d8576b"
             ],
             [
              0.6666666666666666,
              "#ed7953"
             ],
             [
              0.7777777777777778,
              "#fb9f3a"
             ],
             [
              0.8888888888888888,
              "#fdca26"
             ],
             [
              1,
              "#f0f921"
             ]
            ],
            "type": "heatmapgl"
           }
          ],
          "histogram": [
           {
            "marker": {
             "pattern": {
              "fillmode": "overlay",
              "size": 10,
              "solidity": 0.2
             }
            },
            "type": "histogram"
           }
          ],
          "histogram2d": [
           {
            "colorbar": {
             "outlinewidth": 0,
             "ticks": ""
            },
            "colorscale": [
             [
              0,
              "#0d0887"
             ],
             [
              0.1111111111111111,
              "#46039f"
             ],
             [
              0.2222222222222222,
              "#7201a8"
             ],
             [
              0.3333333333333333,
              "#9c179e"
             ],
             [
              0.4444444444444444,
              "#bd3786"
             ],
             [
              0.5555555555555556,
              "#d8576b"
             ],
             [
              0.6666666666666666,
              "#ed7953"
             ],
             [
              0.7777777777777778,
              "#fb9f3a"
             ],
             [
              0.8888888888888888,
              "#fdca26"
             ],
             [
              1,
              "#f0f921"
             ]
            ],
            "type": "histogram2d"
           }
          ],
          "histogram2dcontour": [
           {
            "colorbar": {
             "outlinewidth": 0,
             "ticks": ""
            },
            "colorscale": [
             [
              0,
              "#0d0887"
             ],
             [
              0.1111111111111111,
              "#46039f"
             ],
             [
              0.2222222222222222,
              "#7201a8"
             ],
             [
              0.3333333333333333,
              "#9c179e"
             ],
             [
              0.4444444444444444,
              "#bd3786"
             ],
             [
              0.5555555555555556,
              "#d8576b"
             ],
             [
              0.6666666666666666,
              "#ed7953"
             ],
             [
              0.7777777777777778,
              "#fb9f3a"
             ],
             [
              0.8888888888888888,
              "#fdca26"
             ],
             [
              1,
              "#f0f921"
             ]
            ],
            "type": "histogram2dcontour"
           }
          ],
          "mesh3d": [
           {
            "colorbar": {
             "outlinewidth": 0,
             "ticks": ""
            },
            "type": "mesh3d"
           }
          ],
          "parcoords": [
           {
            "line": {
             "colorbar": {
              "outlinewidth": 0,
              "ticks": ""
             }
            },
            "type": "parcoords"
           }
          ],
          "pie": [
           {
            "automargin": true,
            "type": "pie"
           }
          ],
          "scatter": [
           {
            "fillpattern": {
             "fillmode": "overlay",
             "size": 10,
             "solidity": 0.2
            },
            "type": "scatter"
           }
          ],
          "scatter3d": [
           {
            "line": {
             "colorbar": {
              "outlinewidth": 0,
              "ticks": ""
             }
            },
            "marker": {
             "colorbar": {
              "outlinewidth": 0,
              "ticks": ""
             }
            },
            "type": "scatter3d"
           }
          ],
          "scattercarpet": [
           {
            "marker": {
             "colorbar": {
              "outlinewidth": 0,
              "ticks": ""
             }
            },
            "type": "scattercarpet"
           }
          ],
          "scattergeo": [
           {
            "marker": {
             "colorbar": {
              "outlinewidth": 0,
              "ticks": ""
             }
            },
            "type": "scattergeo"
           }
          ],
          "scattergl": [
           {
            "marker": {
             "colorbar": {
              "outlinewidth": 0,
              "ticks": ""
             }
            },
            "type": "scattergl"
           }
          ],
          "scattermapbox": [
           {
            "marker": {
             "colorbar": {
              "outlinewidth": 0,
              "ticks": ""
             }
            },
            "type": "scattermapbox"
           }
          ],
          "scatterpolar": [
           {
            "marker": {
             "colorbar": {
              "outlinewidth": 0,
              "ticks": ""
             }
            },
            "type": "scatterpolar"
           }
          ],
          "scatterpolargl": [
           {
            "marker": {
             "colorbar": {
              "outlinewidth": 0,
              "ticks": ""
             }
            },
            "type": "scatterpolargl"
           }
          ],
          "scatterternary": [
           {
            "marker": {
             "colorbar": {
              "outlinewidth": 0,
              "ticks": ""
             }
            },
            "type": "scatterternary"
           }
          ],
          "surface": [
           {
            "colorbar": {
             "outlinewidth": 0,
             "ticks": ""
            },
            "colorscale": [
             [
              0,
              "#0d0887"
             ],
             [
              0.1111111111111111,
              "#46039f"
             ],
             [
              0.2222222222222222,
              "#7201a8"
             ],
             [
              0.3333333333333333,
              "#9c179e"
             ],
             [
              0.4444444444444444,
              "#bd3786"
             ],
             [
              0.5555555555555556,
              "#d8576b"
             ],
             [
              0.6666666666666666,
              "#ed7953"
             ],
             [
              0.7777777777777778,
              "#fb9f3a"
             ],
             [
              0.8888888888888888,
              "#fdca26"
             ],
             [
              1,
              "#f0f921"
             ]
            ],
            "type": "surface"
           }
          ],
          "table": [
           {
            "cells": {
             "fill": {
              "color": "#EBF0F8"
             },
             "line": {
              "color": "white"
             }
            },
            "header": {
             "fill": {
              "color": "#C8D4E3"
             },
             "line": {
              "color": "white"
             }
            },
            "type": "table"
           }
          ]
         },
         "layout": {
          "annotationdefaults": {
           "arrowcolor": "#2a3f5f",
           "arrowhead": 0,
           "arrowwidth": 1
          },
          "autotypenumbers": "strict",
          "coloraxis": {
           "colorbar": {
            "outlinewidth": 0,
            "ticks": ""
           }
          },
          "colorscale": {
           "diverging": [
            [
             0,
             "#8e0152"
            ],
            [
             0.1,
             "#c51b7d"
            ],
            [
             0.2,
             "#de77ae"
            ],
            [
             0.3,
             "#f1b6da"
            ],
            [
             0.4,
             "#fde0ef"
            ],
            [
             0.5,
             "#f7f7f7"
            ],
            [
             0.6,
             "#e6f5d0"
            ],
            [
             0.7,
             "#b8e186"
            ],
            [
             0.8,
             "#7fbc41"
            ],
            [
             0.9,
             "#4d9221"
            ],
            [
             1,
             "#276419"
            ]
           ],
           "sequential": [
            [
             0,
             "#0d0887"
            ],
            [
             0.1111111111111111,
             "#46039f"
            ],
            [
             0.2222222222222222,
             "#7201a8"
            ],
            [
             0.3333333333333333,
             "#9c179e"
            ],
            [
             0.4444444444444444,
             "#bd3786"
            ],
            [
             0.5555555555555556,
             "#d8576b"
            ],
            [
             0.6666666666666666,
             "#ed7953"
            ],
            [
             0.7777777777777778,
             "#fb9f3a"
            ],
            [
             0.8888888888888888,
             "#fdca26"
            ],
            [
             1,
             "#f0f921"
            ]
           ],
           "sequentialminus": [
            [
             0,
             "#0d0887"
            ],
            [
             0.1111111111111111,
             "#46039f"
            ],
            [
             0.2222222222222222,
             "#7201a8"
            ],
            [
             0.3333333333333333,
             "#9c179e"
            ],
            [
             0.4444444444444444,
             "#bd3786"
            ],
            [
             0.5555555555555556,
             "#d8576b"
            ],
            [
             0.6666666666666666,
             "#ed7953"
            ],
            [
             0.7777777777777778,
             "#fb9f3a"
            ],
            [
             0.8888888888888888,
             "#fdca26"
            ],
            [
             1,
             "#f0f921"
            ]
           ]
          },
          "colorway": [
           "#636efa",
           "#EF553B",
           "#00cc96",
           "#ab63fa",
           "#FFA15A",
           "#19d3f3",
           "#FF6692",
           "#B6E880",
           "#FF97FF",
           "#FECB52"
          ],
          "font": {
           "color": "#2a3f5f"
          },
          "geo": {
           "bgcolor": "white",
           "lakecolor": "white",
           "landcolor": "#E5ECF6",
           "showlakes": true,
           "showland": true,
           "subunitcolor": "white"
          },
          "hoverlabel": {
           "align": "left"
          },
          "hovermode": "closest",
          "mapbox": {
           "style": "light"
          },
          "paper_bgcolor": "white",
          "plot_bgcolor": "#E5ECF6",
          "polar": {
           "angularaxis": {
            "gridcolor": "white",
            "linecolor": "white",
            "ticks": ""
           },
           "bgcolor": "#E5ECF6",
           "radialaxis": {
            "gridcolor": "white",
            "linecolor": "white",
            "ticks": ""
           }
          },
          "scene": {
           "xaxis": {
            "backgroundcolor": "#E5ECF6",
            "gridcolor": "white",
            "gridwidth": 2,
            "linecolor": "white",
            "showbackground": true,
            "ticks": "",
            "zerolinecolor": "white"
           },
           "yaxis": {
            "backgroundcolor": "#E5ECF6",
            "gridcolor": "white",
            "gridwidth": 2,
            "linecolor": "white",
            "showbackground": true,
            "ticks": "",
            "zerolinecolor": "white"
           },
           "zaxis": {
            "backgroundcolor": "#E5ECF6",
            "gridcolor": "white",
            "gridwidth": 2,
            "linecolor": "white",
            "showbackground": true,
            "ticks": "",
            "zerolinecolor": "white"
           }
          },
          "shapedefaults": {
           "line": {
            "color": "#2a3f5f"
           }
          },
          "ternary": {
           "aaxis": {
            "gridcolor": "white",
            "linecolor": "white",
            "ticks": ""
           },
           "baxis": {
            "gridcolor": "white",
            "linecolor": "white",
            "ticks": ""
           },
           "bgcolor": "#E5ECF6",
           "caxis": {
            "gridcolor": "white",
            "linecolor": "white",
            "ticks": ""
           }
          },
          "title": {
           "x": 0.05
          },
          "xaxis": {
           "automargin": true,
           "gridcolor": "white",
           "linecolor": "white",
           "ticks": "",
           "title": {
            "standoff": 15
           },
           "zerolinecolor": "white",
           "zerolinewidth": 2
          },
          "yaxis": {
           "automargin": true,
           "gridcolor": "white",
           "linecolor": "white",
           "ticks": "",
           "title": {
            "standoff": 15
           },
           "zerolinecolor": "white",
           "zerolinewidth": 2
          }
         }
        },
        "title": {
         "text": "Income Effect on Composite ACT Score 2019 in 300 Iowa Districts"
        },
        "xaxis": {
         "anchor": "y",
         "domain": [
          0,
          1
         ],
         "title": {
          "text": "Median Family Income"
         }
        },
        "yaxis": {
         "anchor": "x",
         "domain": [
          0,
          1
         ],
         "title": {
          "text": "Avergage Composite ACT Score"
         }
        }
       }
      }
     },
     "metadata": {},
     "output_type": "display_data"
    }
   ],
   "source": [
    "fig = px.scatter(df7, x=\"Median Family Income\", color= \"Attendance Rate\", y=\"Avg Comp\", hover_data=\"District Name\",\n",
    "trendline=\"ols\", trendline_scope=\"overall\",color_continuous_scale=px.colors.sequential.Emrld, range_color=[90,98])\n",
    "fig.update_layout(legend_orientation=\"h\", title=\"Income Effect on Composite ACT Score 2019 in 300 Iowa Districts\")\n",
    "fig.update_traces(marker=dict(size=10,line=dict(width=1)))\n",
    "fig.update_xaxes(title=\"Median Family Income\")\n",
    "fig.update_yaxes(title=\"Avergage Composite ACT Score\") \n",
    "fig.show()"
   ]
  }
 ],
 "metadata": {
  "kernelspec": {
   "display_name": "base",
   "language": "python",
   "name": "python3"
  },
  "language_info": {
   "codemirror_mode": {
    "name": "ipython",
    "version": 3
   },
   "file_extension": ".py",
   "mimetype": "text/x-python",
   "name": "python",
   "nbconvert_exporter": "python",
   "pygments_lexer": "ipython3",
   "version": "3.12.7"
  }
 },
 "nbformat": 4,
 "nbformat_minor": 2
}
