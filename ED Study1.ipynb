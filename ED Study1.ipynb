{
 "cells": [
  {
   "cell_type": "code",
   "execution_count": 1,
   "metadata": {},
   "outputs": [],
   "source": [
    "#use 3.12.7\n",
    "import pandas as pd\n",
    "import plotly.express as px"
   ]
  },
  {
   "cell_type": "code",
   "execution_count": 2,
   "metadata": {},
   "outputs": [],
   "source": [
    "file3= open(\"output1.xlsx\", \"r\")\n",
    "df3 = pd.read_excel(\"output1.xlsx\")\n",
    "df3=df3.drop(columns=\"Unnamed: 0\")"
   ]
  },
  {
   "cell_type": "code",
   "execution_count": 3,
   "metadata": {},
   "outputs": [],
   "source": [
    "file4= open(\"output2.xlsx\", \"r\")\n",
    "df4 = pd.read_excel(\"output2.xlsx\")\n",
    "df4=df4.drop(columns=\"Unnamed: 0\")"
   ]
  },
  {
   "cell_type": "code",
   "execution_count": 4,
   "metadata": {},
   "outputs": [],
   "source": [
    "file5= open(\"output3.xlsx\", \"r\")\n",
    "df5 = pd.read_excel(\"output3.xlsx\")\n",
    "df5=df5.drop(columns=\"Unnamed: 0\")"
   ]
  },
  {
   "cell_type": "code",
   "execution_count": 5,
   "metadata": {},
   "outputs": [
    {
     "data": {
      "text/html": [
       "<div>\n",
       "<style scoped>\n",
       "    .dataframe tbody tr th:only-of-type {\n",
       "        vertical-align: middle;\n",
       "    }\n",
       "\n",
       "    .dataframe tbody tr th {\n",
       "        vertical-align: top;\n",
       "    }\n",
       "\n",
       "    .dataframe thead th {\n",
       "        text-align: right;\n",
       "    }\n",
       "</style>\n",
       "<table border=\"1\" class=\"dataframe\">\n",
       "  <thead>\n",
       "    <tr style=\"text-align: right;\">\n",
       "      <th></th>\n",
       "      <th>District Number</th>\n",
       "      <th>Median Family Income</th>\n",
       "      <th>Student Number</th>\n",
       "      <th>Attendance Rate</th>\n",
       "      <th>District Name</th>\n",
       "      <th>Avg Comp</th>\n",
       "    </tr>\n",
       "  </thead>\n",
       "  <tbody>\n",
       "    <tr>\n",
       "      <th>0</th>\n",
       "      <td>9</td>\n",
       "      <td>80547</td>\n",
       "      <td>607</td>\n",
       "      <td>94.9</td>\n",
       "      <td>AGWSR CMTY SCHOOL DISTRICT</td>\n",
       "      <td>20.9</td>\n",
       "    </tr>\n",
       "    <tr>\n",
       "      <th>1</th>\n",
       "      <td>27</td>\n",
       "      <td>114109</td>\n",
       "      <td>1935</td>\n",
       "      <td>95.6</td>\n",
       "      <td>ADEL-DE SOTO-MINBURN CMTY SD</td>\n",
       "      <td>23.3</td>\n",
       "    </tr>\n",
       "    <tr>\n",
       "      <th>2</th>\n",
       "      <td>63</td>\n",
       "      <td>83947</td>\n",
       "      <td>620</td>\n",
       "      <td>96.2</td>\n",
       "      <td>AKRON WESTFIELD CMTY SCH DIST</td>\n",
       "      <td>21.1</td>\n",
       "    </tr>\n",
       "    <tr>\n",
       "      <th>3</th>\n",
       "      <td>81</td>\n",
       "      <td>89654</td>\n",
       "      <td>1174</td>\n",
       "      <td>95.3</td>\n",
       "      <td>ALBIA CMTY SCHOOL DISTRICT</td>\n",
       "      <td>21.8</td>\n",
       "    </tr>\n",
       "    <tr>\n",
       "      <th>4</th>\n",
       "      <td>99</td>\n",
       "      <td>102773</td>\n",
       "      <td>674</td>\n",
       "      <td>95.5</td>\n",
       "      <td>ALBURNETT CMTY SCHOOL DISTRICT</td>\n",
       "      <td>22.6</td>\n",
       "    </tr>\n",
       "    <tr>\n",
       "      <th>...</th>\n",
       "      <td>...</td>\n",
       "      <td>...</td>\n",
       "      <td>...</td>\n",
       "      <td>...</td>\n",
       "      <td>...</td>\n",
       "      <td>...</td>\n",
       "    </tr>\n",
       "    <tr>\n",
       "      <th>295</th>\n",
       "      <td>7047</td>\n",
       "      <td>88214</td>\n",
       "      <td>418</td>\n",
       "      <td>94.2</td>\n",
       "      <td>WINFIELD-MT UNION CMTY SD</td>\n",
       "      <td>20.1</td>\n",
       "    </tr>\n",
       "    <tr>\n",
       "      <th>296</th>\n",
       "      <td>7056</td>\n",
       "      <td>102768</td>\n",
       "      <td>1741</td>\n",
       "      <td>96.0</td>\n",
       "      <td>WINTERSET CMTY SCHOOL DISTRICT</td>\n",
       "      <td>23.9</td>\n",
       "    </tr>\n",
       "    <tr>\n",
       "      <th>297</th>\n",
       "      <td>7092</td>\n",
       "      <td>94375</td>\n",
       "      <td>459</td>\n",
       "      <td>96.2</td>\n",
       "      <td>WOODBINE CMTY SCHOOL DISTRICT</td>\n",
       "      <td>23.0</td>\n",
       "    </tr>\n",
       "    <tr>\n",
       "      <th>298</th>\n",
       "      <td>7098</td>\n",
       "      <td>115797</td>\n",
       "      <td>596</td>\n",
       "      <td>95.6</td>\n",
       "      <td>WOODBURY CENTRAL CMTY SCH DIST</td>\n",
       "      <td>22.9</td>\n",
       "    </tr>\n",
       "    <tr>\n",
       "      <th>299</th>\n",
       "      <td>7110</td>\n",
       "      <td>119559</td>\n",
       "      <td>1390</td>\n",
       "      <td>96.4</td>\n",
       "      <td>WOODWARD-GRANGER CMTY SCH DIST</td>\n",
       "      <td>22.8</td>\n",
       "    </tr>\n",
       "  </tbody>\n",
       "</table>\n",
       "<p>277 rows × 6 columns</p>\n",
       "</div>"
      ],
      "text/plain": [
       "     District Number  Median Family Income  Student Number  Attendance Rate  \\\n",
       "0                  9                 80547             607             94.9   \n",
       "1                 27                114109            1935             95.6   \n",
       "2                 63                 83947             620             96.2   \n",
       "3                 81                 89654            1174             95.3   \n",
       "4                 99                102773             674             95.5   \n",
       "..               ...                   ...             ...              ...   \n",
       "295             7047                 88214             418             94.2   \n",
       "296             7056                102768            1741             96.0   \n",
       "297             7092                 94375             459             96.2   \n",
       "298             7098                115797             596             95.6   \n",
       "299             7110                119559            1390             96.4   \n",
       "\n",
       "                      District Name  Avg Comp  \n",
       "0        AGWSR CMTY SCHOOL DISTRICT      20.9  \n",
       "1      ADEL-DE SOTO-MINBURN CMTY SD      23.3  \n",
       "2     AKRON WESTFIELD CMTY SCH DIST      21.1  \n",
       "3        ALBIA CMTY SCHOOL DISTRICT      21.8  \n",
       "4    ALBURNETT CMTY SCHOOL DISTRICT      22.6  \n",
       "..                              ...       ...  \n",
       "295       WINFIELD-MT UNION CMTY SD      20.1  \n",
       "296  WINTERSET CMTY SCHOOL DISTRICT      23.9  \n",
       "297   WOODBINE CMTY SCHOOL DISTRICT      23.0  \n",
       "298  WOODBURY CENTRAL CMTY SCH DIST      22.9  \n",
       "299  WOODWARD-GRANGER CMTY SCH DIST      22.8  \n",
       "\n",
       "[277 rows x 6 columns]"
      ]
     },
     "execution_count": 5,
     "metadata": {},
     "output_type": "execute_result"
    }
   ],
   "source": [
    "df6=pd.merge(df3, df4, on='District Number', how='left')\n",
    "df7=pd.merge(df6,df5, on='District Number', how='left')\n",
    "df7=df7.drop(columns=[\"District_x\",'Family Type',\"District_y\", \"N\",\"Grad Year\"])\n",
    "df7['Avg Comp']=pd.to_numeric(df7['Avg Comp'], errors='coerce')\n",
    "df7.dropna(subset=[\"Avg Comp\"], inplace=True)\n",
    "df7"
   ]
  },
  {
   "cell_type": "code",
   "execution_count": 6,
   "metadata": {},
   "outputs": [
    {
     "data": {
      "application/vnd.plotly.v1+json": {
       "config": {
        "plotlyServerURL": "https://plot.ly"
       },
       "data": [
        {
         "customdata": [
          [
           "AGWSR CMTY SCHOOL DISTRICT"
          ],
          [
           "ADEL-DE SOTO-MINBURN CMTY SD"
          ],
          [
           "AKRON WESTFIELD CMTY SCH DIST"
          ],
          [
           "ALBIA CMTY SCHOOL DISTRICT"
          ],
          [
           "ALBURNETT CMTY SCHOOL DISTRICT"
          ],
          [
           "ALGONA CMTY SCHOOL DISTRICT"
          ],
          [
           "ALLAMAKEE CMTY SCHOOL DISTRICT"
          ],
          [
           "ALTA-AURELIA CMTY SCHOOLS"
          ],
          [
           "AMES CMTY SCHOOL DISTRICT"
          ],
          [
           "ANAMOSA CMTY SCHOOL DISTRICT"
          ],
          [
           "ANKENY CMTY SCHOOL DISTRICT"
          ],
          [
           "APLINGTON-PARKERSBURG SD"
          ],
          [
           "ATLANTIC CMTY SCHOOL DISTRICT"
          ],
          [
           "AUDUBON CMTY SCHOOL DISTRICT"
          ],
          [
           "BALLARD CMTY SCHOOL DISTRICT"
          ],
          [
           "BAXTER CMTY SCHOOL DISTRICT"
          ],
          [
           "BEDFORD CMTY SCHOOL DISTRICT"
          ],
          [
           "BELLE PLAINE CMTY SCHOOL DIST"
          ],
          [
           "BELLEVUE CMTY SCHOOL DISTRICT"
          ],
          [
           "BELMOND-KLEMME CMTY SCH DIST"
          ],
          [
           "BENTON CMTY SCHOOL DISTRICT"
          ],
          [
           "BETTENDORF CMTY SCHOOL DIST"
          ],
          [
           "BONDURANT-FARRAR CMTY SCH DIST"
          ],
          [
           "BOONE CMTY SCHOOL DISTRICT"
          ],
          [
           "BOYDEN-HULL CMTY SCH DISTRICT"
          ],
          [
           "BOYER VALLEY CMTY SCH DISTRICT"
          ],
          [
           "BROOKLYN-GUERNSEY-MALCOM CSD"
          ],
          [
           "BURLINGTON CMTY SCHOOL DIST"
          ],
          [
           "CAM CMTY SCHOOL DISTRICT"
          ],
          [
           "CAMANCHE CMTY SCHOOL DISTRICT"
          ],
          [
           "CARDINAL CMTY SCHOOL DISTRICT"
          ],
          [
           "CARLISLE CMTY SCHOOL DISTRICT"
          ],
          [
           "CARROLL CMTY SCHOOL DISTRICT"
          ],
          [
           "CEDAR FALLS CMTY SCH DISTRICT"
          ],
          [
           "CEDAR RAPIDS CMTY SCHOOL DIST"
          ],
          [
           "CENTER POINT-URBANA CMTY SD"
          ],
          [
           "CENTERVILLE CMTY SCHOOL DIST"
          ],
          [
           "CENTRAL CITY CMTY SCH DIST"
          ],
          [
           "CENTRAL CMTY SCHOOL DISTRICT"
          ],
          [
           "CENTRAL DEWITT CMTY SCH DIST"
          ],
          [
           "CENTRAL DECATUR CMTY SCH DIST"
          ],
          [
           "CENTRAL LEE CMTY SCHOOL DIST"
          ],
          [
           "CENTRAL LYON CMTY SCHOOL DIST"
          ],
          [
           "CENTRAL SPRINGS CMTY SCH DIST"
          ],
          [
           "CHARITON CMTY SCHOOL DISTRICT"
          ],
          [
           "CHARLES CITY CMTY SCH DISTRICT"
          ],
          [
           "CHEROKEE CMTY SCHOOL DISTRICT"
          ],
          [
           "CLARINDA CMTY SCHOOL DISTRICT"
          ],
          [
           "CLARION-GOLDFIELD-DOWS CMTY SD"
          ],
          [
           "CLARKE CMTY SCHOOL DISTRICT"
          ],
          [
           "CLARKSVILLE CMTY SCHOOL DIST"
          ],
          [
           "CLAYTON RIDGE CMTY SCH DIST"
          ],
          [
           "CLEAR CREEK AMANA CMTY SD"
          ],
          [
           "CLEAR LAKE CMTY SCH DISTRICT"
          ],
          [
           "CLINTON CMTY SCHOOL DISTRICT"
          ],
          [
           "COLFAX-MINGO CMTY SCH DIST"
          ],
          [
           "COLLEGE CMTY SCHOOL DISTRICT"
          ],
          [
           "COLLINS-MAXWELL CMTY SCH DIST"
          ],
          [
           "COLO-NESCO CMTY SCHOOL DIST"
          ],
          [
           "COLUMBUS CMTY SCHOOL DISTRICT"
          ],
          [
           "COON RAPIDS-BAYARD CMTY SD"
          ],
          [
           "COUNCIL BLUFFS CMTY SCH DIST"
          ],
          [
           "CRESTON CMTY SCHOOL DISTRICT"
          ],
          [
           "DALLAS CENTER GRIMES CMTY SD"
          ],
          [
           "DANVILLE CMTY SCHOOL DISTRICT"
          ],
          [
           "DAVENPORT CMTY SCHOOL DISTRICT"
          ],
          [
           "DAVIS CO CMTY SCHOOL DISTRICT"
          ],
          [
           "DECORAH CMTY SCHOOL DISTRICT"
          ],
          [
           "DENISON CMTY SCHOOL DISTRICT"
          ],
          [
           "DENVER CMTY SCHOOL DISTRICT"
          ],
          [
           "DES MOINES PUBLIC SCHOOL DIST"
          ],
          [
           "DIKE-NEW HARTFORD CMTY SD"
          ],
          [
           "DUBUQUE CMTY SCHOOL DISTRICT"
          ],
          [
           "DUNKERTON CMTY SCH DISTRICT"
          ],
          [
           "DURANT CMTY SCHOOL DISTRICT"
          ],
          [
           "EAGLE GROVE CMTY SCHOOL DIST"
          ],
          [
           "EARLHAM CMTY SCHOOL DISTRICT"
          ],
          [
           "EAST BUCHANAN CMTY SCH DIST"
          ],
          [
           "EAST MARSHALL CMTY SCHOOL DIST"
          ],
          [
           "EAST MILLS CMTY SCHOOL DIST"
          ],
          [
           "EAST SAC CO CMTY SCHOOL DIST"
          ],
          [
           "EAST UNION CMTY SCHOOL DIST"
          ],
          [
           "EASTERN ALLAMAKEE CMTY SD"
          ],
          [
           "EASTON VALLEY CMTY SCHOOL DIST"
          ],
          [
           "EDDYVLL-BLKSBRG-FREMNT CMTY SD"
          ],
          [
           "EDGEWOOD COLESBURG CMTY SD"
          ],
          [
           "ELDORA-NEW PROVIDENCE CMTY SD"
          ],
          [
           "EMMETSBURG CMTY SCH DIST"
          ],
          [
           "ENGLISH VALLEYS CMTY SCH DIST"
          ],
          [
           "ESTHERVILLE LINCOLN CTL CMSD"
          ],
          [
           "EXIRA-ELK HORN-KIMBALLTON SD"
          ],
          [
           "FAIRFIELD CMTY SCHOOL DISTRICT"
          ],
          [
           "FOREST CITY CMTY SCHOOL DIST"
          ],
          [
           "FT DODGE CMTY SCHOOL DIST"
          ],
          [
           "FT MADISON CMTY SCHOOL DIST"
          ],
          [
           "FREMONT-MILLS CMTY SCH DIST"
          ],
          [
           "GALVA-HOLSTEIN CMTY SCH DIST"
          ],
          [
           "GARNER-HAYFIELD-VENTURA CSD"
          ],
          [
           "GEORGE-LITTLE ROCK CMTY SD"
          ],
          [
           "GILBERT CMTY SCHOOL DISTRICT"
          ],
          [
           "GLADBROOK-REINBECK CMTY SD"
          ],
          [
           "GLENWOOD CMTY SCHOOL DISTRICT"
          ],
          [
           "GLIDDEN-RALSTON CMTY SCH DIST"
          ],
          [
           "GREENE CO CMTY SCHOOL DISTRICT"
          ],
          [
           "GRINNELL-NEWBURG CMTY SCH DIST"
          ],
          [
           "GRISWOLD CMTY SCHOOL DISTRICT"
          ],
          [
           "GRUNDY CENTER CMTY SCHOOL DIST"
          ],
          [
           "GUTHRIE CENTER CMTY SCH DIST"
          ],
          [
           "HLV CMTY SCHOOL DISTRICT"
          ],
          [
           "HAMPTON-DUMONT CMTY SCH DIST"
          ],
          [
           "HARLAN CMTY SCHOOL DISTRICT"
          ],
          [
           "HARTLEY-MELVIN-SANBORN CMTY SD"
          ],
          [
           "HIGHLAND CMTY SCHOOL DISTRICT"
          ],
          [
           "HINTON CMTY SCHOOL DISTRICT"
          ],
          [
           "HOWARD-WINNESHIEK CMTY SD"
          ],
          [
           "HUDSON CMTY SCHOOL DISTRICT"
          ],
          [
           "HUMBOLDT CMTY SCHOOL DISTRICT"
          ],
          [
           "IKM-MANNING CMTY SCHOOL DIST"
          ],
          [
           "INDEPENDENCE CMTY SCH DISTRICT"
          ],
          [
           "INDIANOLA CMTY SCHOOL DISTRICT"
          ],
          [
           "INTERSTATE 35 CMTY SCHOOL DIST"
          ],
          [
           "IOWA CITY CMTY SCHOOL DISTRICT"
          ],
          [
           "IOWA FALLS CMTY SCHOOL DIST"
          ],
          [
           "IOWA VALLEY CMTY SCH DISTRICT"
          ],
          [
           "JANESVILLE CONS SCHOOL DIST"
          ],
          [
           "JESUP CMTY SCHOOL DISTRICT"
          ],
          [
           "JOHNSTON CMTY SCHOOL DISTRICT"
          ],
          [
           "KEOKUK CMTY SCHOOL DISTRICT"
          ],
          [
           "KEOTA CMTY SCHOOL DISTRICT"
          ],
          [
           "KINGSLEY-PIERSON CMTY SCH DIST"
          ],
          [
           "KNOXVILLE CMTY SCHOOL DISTRICT"
          ],
          [
           "LAKE MILLS CMTY SCH DISTRICT"
          ],
          [
           "LAMONI CMTY SCHOOL DISTRICT"
          ],
          [
           "LAWTON-BRONSON CMTY SCH DIST"
          ],
          [
           "LE MARS CMTY SCHOOL DISTRICT"
          ],
          [
           "LENOX CMTY SCHOOL DISTRICT"
          ],
          [
           "LEWIS CENTRAL CMTY SCH DIST"
          ],
          [
           "LINN-MAR CMTY SCHOOL DISTRICT"
          ],
          [
           "LISBON CMTY SCHOOL DISTRICT"
          ],
          [
           "LOGAN-MAGNOLIA CMTY SCH DIST"
          ],
          [
           "LONE TREE CMTY SCHOOL DISTRICT"
          ],
          [
           "LOUISA-MUSCATINE CMTY SCH DIST"
          ],
          [
           "LYNNVILLE-SULLY CMTY SCH DIST"
          ],
          [
           "MFL MARMAC CMTY SCHOOL DIST"
          ],
          [
           "MOC-FLOYD VALLEY CMTY SCH DIST"
          ],
          [
           "MADRID CMTY SCHOOL DISTRICT"
          ],
          [
           "MANSON NW WEBSTER CMTY SD"
          ],
          [
           "MAPLE VALLEY ANTHON-OTO SD"
          ],
          [
           "MAQUOKETA CMTY SCHOOL DISTRICT"
          ],
          [
           "MAQUOKETA VALLEY CMTY SCH DIST"
          ],
          [
           "MARCUS-MERIDEN-CLEGHORN CSD"
          ],
          [
           "MARION IND SCHOOL DISTRICT"
          ],
          [
           "MARSHALLTOWN CMTY SCHOOL DIST"
          ],
          [
           "MARTENSDALE-ST MARYS CMTY SD"
          ],
          [
           "MASON CITY CMTY SCH DISTRICT"
          ],
          [
           "MEDIAPOLIS CMTY SCH DISTRICT"
          ],
          [
           "MID-PRAIRIE CMTY SCHOOL DIST"
          ],
          [
           "MIDLAND CMTY SCHOOL DISTRICT"
          ],
          [
           "MISSOURI VALLEY CMTY SCH DIST"
          ],
          [
           "MONTEZUMA CMTY SCHOOL DISTRICT"
          ],
          [
           "MONTICELLO CMTY SCH DISTRICT"
          ],
          [
           "MORAVIA CMTY SCHOOL DISTRICT"
          ],
          [
           "MT AYR CMTY SCHOOL DISTRICT"
          ],
          [
           "MT PLEASANT CMTY SCHOOL DIST"
          ],
          [
           "MT VERNON CMTY SCHOOL DISTRICT"
          ],
          [
           "MURRAY CMTY SCHOOL DISTRICT"
          ],
          [
           "MUSCATINE CMTY SCHOOL DISTRICT"
          ],
          [
           "NASHUA-PLAINFIELD CMTY SD"
          ],
          [
           "NEVADA CMTY SCHOOL DISTRICT"
          ],
          [
           "NEW HAMPTON CMTY SCH DISTRICT"
          ],
          [
           "NEW LONDON CMTY SCH DISTRICT"
          ],
          [
           "NEWELL-FONDA CMTY SCHOOL DIST"
          ],
          [
           "NEWTON CMTY SCHOOL DISTRICT"
          ],
          [
           "NODAWAY VALLEY CMTY SCH DIST"
          ],
          [
           "NORTH BUTLER CMTY SCH DIST"
          ],
          [
           "NORTH CEDAR CMTY SCHOOL DIST"
          ],
          [
           "NORTH FAYETTE VALLEY CMTY SD"
          ],
          [
           "NORTH IOWA CMTY SCH DISTRICT"
          ],
          [
           "NORTH-LINN CMTY SCHOOL DIST"
          ],
          [
           "NORTH MAHASKA CMTY SCH DIST"
          ],
          [
           "NORTH POLK CMTY SCHOOL DIST"
          ],
          [
           "NORTH SCOTT CMTY SCHOOL DIST"
          ],
          [
           "NORTH TAMA CO CMTY SCH DIST"
          ],
          [
           "NORTH UNION CMTY SCHOOL DIST"
          ],
          [
           "NORTHEAST CMTY SCH DISTRICT"
          ],
          [
           "NORTHWOOD-KENSETT CMTY SD"
          ],
          [
           "NORWALK CMTY SCHOOL DISTRICT"
          ],
          [
           "OABCIG CMTY SD"
          ],
          [
           "OELWEIN CMTY SCHOOL DISTRICT"
          ],
          [
           "OGDEN CMTY SCHOOL DISTRICT"
          ],
          [
           "OKOBOJI CMTY SCHOOL DISTRICT"
          ],
          [
           "OSAGE CMTY SCHOOL DISTRICT"
          ],
          [
           "OSKALOOSA CMTY SCHOOL DISTRICT"
          ],
          [
           "OTTUMWA CMTY SCHOOL DISTRICT"
          ],
          [
           "PRAIRIE CITY-MONROE CMTY SD 21"
          ],
          [
           "PANORAMA CMTY SCHOOL DISTRICT"
          ],
          [
           "PEKIN CMTY SCHOOL DISTRICT"
          ],
          [
           "PELLA CMTY SCHOOL DISTRICT"
          ],
          [
           "PERRY CMTY SCHOOL DISTRICT"
          ],
          [
           "PLEASANT VALLEY CMTY SCH DIST"
          ],
          [
           "PLEASANTVILLE CMTY SCHOOL DIST"
          ],
          [
           "POCAHONTAS AREA CMTY SCH DIST"
          ],
          [
           "POSTVILLE CMTY SCHOOL DISTRICT"
          ],
          [
           "PRAIRIE VALLEY CMTY SCH DIST"
          ],
          [
           "RED OAK CMTY SCHOOL DISTRICT"
          ],
          [
           "RIVER VALLEY SCHOOL DISTRICT"
          ],
          [
           "RIVERSIDE CMTY SCHOOL DISTRICT"
          ],
          [
           "ROCK VALLEY SCHOOL DISTRICT"
          ],
          [
           "ROLAND-STORY CMTY SCHOOL DIST"
          ],
          [
           "RUDD-ROCKFORD-MARBLE ROCK CSD"
          ],
          [
           "SAYDEL CMTY SCHOOL DISTRICT"
          ],
          [
           "SERGEANT BLUFF-LUTON CMTY SD"
          ],
          [
           "SHELDON CMTY SCHOOL DISTRICT"
          ],
          [
           "SHENANDOAH CMTY SCH DISTRICT"
          ],
          [
           "SIBLEY-OCHEYEDAN CMTY SCH DIST"
          ],
          [
           "SIDNEY CMTY SCHOOL DISTRICT"
          ],
          [
           "SIGOURNEY CMTY SCHOOL DISTRICT"
          ],
          [
           "SIOUX CENTER CMTY SCHOOL DIST"
          ],
          [
           "SIOUX CENTRAL CMTY SCHOOL DIST"
          ],
          [
           "SIOUX CITY CMTY SCHOOL DIST"
          ],
          [
           "SOLON CMTY SCHOOL DISTRICT"
          ],
          [
           "SOUTH CENTRAL CALHOUN CMTY SD"
          ],
          [
           "SOUTH HAMILTON CMTY SCH DIST"
          ],
          [
           "SOUTH O'BRIEN CMTY SCHOOL DIST"
          ],
          [
           "SOUTH TAMA CO CMTY SCHOOL DIST"
          ],
          [
           "SOUTH WINNESHIEK CMTY SCH DIST"
          ],
          [
           "SOUTHEAST POLK CMTY SCH DIST"
          ],
          [
           "SOUTHEAST WARREN CMTY SCH DIST"
          ],
          [
           "SPENCER CMTY SCHOOL DISTRICT"
          ],
          [
           "SPIRIT LAKE CMTY SCH DISTRICT"
          ],
          [
           "SPRINGVILLE CMTY SCHOOL DIST"
          ],
          [
           "ST ANSGAR CMTY SCHOOL DISTRICT"
          ],
          [
           "STARMONT CMTY SCHOOL DISTRICT"
          ],
          [
           "STORM LAKE CMTY SCH DISTRICT"
          ],
          [
           "SUMNER-FREDERICKSBURG SCHOOLS"
          ],
          [
           "TIPTON CMTY SCHOOL DISTRICT"
          ],
          [
           "TREYNOR CMTY SCHOOL DISTRICT"
          ],
          [
           "TRI-CENTER CMTY SCH DISTRICT"
          ],
          [
           "TRIPOLI CMTY SCHOOL DISTRICT"
          ],
          [
           "TURKEY VALLEY CMTY SCHOOL DIST"
          ],
          [
           "UNDERWOOD CMTY SCHOOL DISTRICT"
          ],
          [
           "UNION CMTY SCHOOL DISTRICT"
          ],
          [
           "URBANDALE CMTY SCHOOL DISTRICT"
          ],
          [
           "VAN BUREN CO CMTY SCHOOL DIST"
          ],
          [
           "VAN METER CMTY SCHOOL DISTRICT"
          ],
          [
           "VINTON-SHELLSBURG CMTY SD"
          ],
          [
           "WACO CMTY SCHOOL DISTRICT"
          ],
          [
           "WAPELLO CMTY SCHOOL DISTRICT"
          ],
          [
           "WAPSIE VALLEY CMTY SCHOOL DIST"
          ],
          [
           "WASHINGTON CMTY SCH DISTRICT"
          ],
          [
           "WATERLOO CMTY SCHOOL DISTRICT"
          ],
          [
           "WAUKEE CMTY SCHOOL DISTRICT"
          ],
          [
           "WAVERLY-SHELL ROCK CMTY SD"
          ],
          [
           "WAYNE CMTY SCHOOL DISTRICT"
          ],
          [
           "WEBSTER CITY CMTY SCHOOL DIST"
          ],
          [
           "WEST BRANCH CMTY SCH DISTRICT"
          ],
          [
           "WEST BURLINGTON IND SCH DIST"
          ],
          [
           "WEST CENTRAL VALLEY CMTY SD"
          ],
          [
           "WEST DELAWARE CO CMTY SCH DIST"
          ],
          [
           "WEST DES MOINES CMTY SCH DIST"
          ],
          [
           "WEST FORK CMTY SCHOOL DISTRICT"
          ],
          [
           "WEST HANCOCK CMTY SCH DISTRICT"
          ],
          [
           "WEST HARRISON CMTY SCHOOL DIST"
          ],
          [
           "WEST LIBERTY CMTY SCHOOL DIST"
          ],
          [
           "WEST LYON CMTY SCHOOL DISTRICT"
          ],
          [
           "WEST MARSHALL CMTY SCHOOL DIST"
          ],
          [
           "WEST MONONA CMTY SCHOOL DIST"
          ],
          [
           "WEST SIOUX CMTY SCH DISTRICT"
          ],
          [
           "WESTERN DUBUQUE CMTY SD"
          ],
          [
           "WESTWOOD CMTY SCHOOL DISTRICT"
          ],
          [
           "WILLIAMSBURG CMTY SCH DISTRICT"
          ],
          [
           "WILTON CMTY SCHOOL DISTRICT"
          ],
          [
           "WINFIELD-MT UNION CMTY SD"
          ],
          [
           "WINTERSET CMTY SCHOOL DISTRICT"
          ],
          [
           "WOODBINE CMTY SCHOOL DISTRICT"
          ],
          [
           "WOODBURY CENTRAL CMTY SCH DIST"
          ],
          [
           "WOODWARD-GRANGER CMTY SCH DIST"
          ]
         ],
         "hovertemplate": "Median Family Income=%{x}<br>Avg Comp=%{y}<br>District Name=%{customdata[0]}<br>Attendance Rate=%{marker.color}<extra></extra>",
         "legendgroup": "",
         "marker": {
          "color": {
           "bdata": "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",
           "dtype": "f8"
          },
          "coloraxis": "coloraxis",
          "line": {
           "width": 1
          },
          "size": 10,
          "symbol": "circle"
         },
         "mode": "markers",
         "name": "",
         "orientation": "v",
         "showlegend": false,
         "type": "scatter",
         "x": {
          "bdata": "ozoBAL29AQDrRwEANl4BAHWRAQBsQQEAcTMBAPpPAQAkfAEA10MBAIfSAQD7QAEA50cBAJoyAQCJ6wEAQJIBADgqAQCDQAEARHQBANUPAQA9kQEAy5kBAJ/iAQCXcwEA92kBAHQ3AQDWIAEAfhoBAC5oAQAzSAEAFicBABrEAQDWYgEA46gBALxaAQDclQEA+sYAACZoAQC/UgEAkHcBANcGAQDlVQEASjsBANVSAQAoMAEAR1MBAE5xAQA0GwEAVzMBAGgWAQAkLwEAvTUBAH7BAQApkAEAfAkBAOpnAQCGqAEAmm0BAER9AQCsRwEAsxkBAMwbAQCNKwEAFMABAAFiAQBjOgEA/FwBABtvAQCw8wAAwcYBAOAmAQDyjwEAxGkBAJdXAQBSqQEAiP0AAIa2AQBfTAEAzG4BAGlQAQC4aQEAbFwBAAYsAQAzKgEA3DIBAKVoAQALOgEAvzgBAJzgAABDKgEAwQ8BAB0JAQDKOAEAQj0BAEUuAQCQXwEAIjQBABFcAQBzNQEARgsCAF+DAQA9kwEAf1QBAHw+AQCOggEAQkgBAJ1kAQDjZgEAME4BAKoBAQDmXAEA8BoBAO6IAQCNoQEAXD4BAArcAQDTPwEAoYgBAD5WAQCvlgEAQKkBAN2rAQCWLgEAnUIBAONcAQBoXwEAhfMBAD3+AACqawEA42YBACtEAQCuWgEAhP4AABi+AQBQYAEAkxkBALuLAQChrAEABKkBALuGAQC0uAEAulYBAA2VAQA5OQEA3W0BAJeDAQArYwEACEwBAAU0AQAMfAEAOmkBAC08AQAkPAEAirgBAPg1AQDcggEAsnQBAPknAQBVawEA/TABAHx8AQD5ZQEA2FkBAE82AQAe2QEAEAcBAH4yAQB3IwEAb5kBABtXAQCWNwEASHIBALEUAQC0ZAEA8ToBAERCAQCyMQEA2EwBALF2AQBbUwEAFS8CAO2fAQBSUQEAERMBAMZcAQDwSQEAS+8BAERCAQCb6wAARIQBACV+AQCLUgEA+jkBAH39AACjbgEA92YBAKk/AQB5lAEAcSIBAP0iAgDRYgEAKzcBAELvAACeTgEALQMBAIUoAQDTPwEACmcBACG3AQAtewEAjD0BAJ6wAQCddgEAiRsBAE47AQAWIAEAfzoBAHeVAQDvQAEA8j4BAAEbAgCZJgEAtmUBAJNiAQAsFgEAxEIBAFqNAQDffQEASD8BAEV3AQCigAEAs2wBAPYMAQAHWAEALGABAFJbAQByvAEAuWYBAAuAAQBJTgEA1cUBANmHAQC4yQEARRMBADdMAgCwYAEAKJoBAJZBAQCwjAEAhSQBAIgWAQBpRwIAKnABAM0wAQAtMQEAZ4ABAGQgAQDBTgEAPFcBAKfEAQDeLAEAzjIBAOJWAQDLdgEAYX8BACmDAQBrBAEAcmQBACqCAQB2VwEAA30BAG10AQCWWAEAcJEBAKdwAQBVxAEAB9MBAA==",
          "dtype": "i4"
         },
         "xaxis": "x",
         "y": {
          "bdata": "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",
          "dtype": "f8"
         },
         "yaxis": "y"
        },
        {
         "hovertemplate": "<b>OLS trendline</b><br>Avg Comp = 4.26209e-05 * Median Family Income + 17.4073<br>R<sup>2</sup>=0.180381<br><br>Median Family Income=%{x}<br>Avg Comp=%{y} <b>(trend)</b><extra></extra>",
         "legendgroup": "Overall Trendline",
         "marker": {
          "line": {
           "width": 1
          },
          "size": 10
         },
         "mode": "lines",
         "name": "Overall Trendline",
         "showlegend": true,
         "type": "scatter",
         "x": {
          "bdata": "+sYAAJzgAACb6wAAQu8AALDzAAB9/QAAiP0AAD3+AACE/gAAqgEBAC0DAQBrBAEA1wYBABAHAQAdCQEAfAkBAPYMAQDBDwEA1Q8BABETAQBFEwEAsRQBACwWAQBoFgEAiBYBAJMZAQCzGQEAfhoBAPAaAQA0GwEAiRsBAMwbAQAWIAEAZCABANYgAQBxIgEAdyMBAIUkAQCZJgEA4CYBABYnAQD5JwEAhSgBADMqAQA4KgEAQyoBAI0rAQAGLAEA3iwBAEUuAQCWLgEAJC8BACgwAQDNMAEA/TABAC0xAQCyMQEAfjIBAJoyAQDOMgEA3DIBAFczAQBxMwEABTQBACI0AQBzNQEAvTUBAPg1AQBPNgEAKzcBAHQ3AQCWNwEAvzgBAMo4AQA5OQEA+jkBAAs6AQBjOgEAfzoBAKM6AQDxOgEASjsBAE47AQAkPAEALTwBAEI9AQCMPQEAXD4BAHw+AQDyPgEASD8BAKk/AQDTPwEA0z8BAINAAQDvQAEA+0ABAGxBAQCWQQEAREIBAERCAQCdQgEAxEIBANdDAQArRAEArEcBAOdHAQDrRwEAM0gBAEJIAQDwSQEACEwBAF9MAQDYTAEAME4BAElOAQCeTgEAwU4BAPpPAQBpUAEAUlEBAItSAQC/UgEA1VIBAEdTAQBbUwEAf1QBAOVVAQA+VgEAulYBAOJWAQAbVwEAPFcBAHZXAQCXVwEAB1gBAJZYAQDYWQEArloBALxaAQBSWwEAEVwBAGxcAQDGXAEA41wBAOZcAQD8XAEANl4BAGhfAQCQXwEALGABAFBgAQCwYAEAAWIBAJNiAQDRYgEA1mIBACtjAQByZAEAnWQBALRkAQC2ZQEA+WUBALlmAQDjZgEA42YBAPdmAQAKZwEA6mcBACZoAQAuaAEApWgBADppAQC4aQEAxGkBAPdpAQBVawEAqmsBALNsAQCabQEA3W0BAKNuAQDMbgEAG28BACpwAQCncAEATnEBAEhyAQCXcwEARHQBAG10AQCydAEAnXYBALF2AQDLdgEARXcBAJB3AQAtewEADHwBACR8AQB8fAEAA30BAER9AQDffQEAJX4BAGF/AQALgAEAZ4ABAKKAAQAqggEAjoIBANyCAQApgwEAX4MBAJeDAQBEhAEAu4YBANmHAQChiAEA7ogBALuLAQCwjAEAWo0BAPKPAQApkAEAPZEBAHCRAQB1kQEAQJIBAD2TAQB5lAEADZUBAHeVAQDclQEAr5YBAG+ZAQDLmQEAKJoBAO2fAQCNoQEAhqgBAOOoAQAEqQEAQKkBAFKpAQDdqwEAoawBAJ6wAQCGtgEAIbcBAIq4AQC0uAEAcrwBAL29AQAYvgEAFMABAH7BAQAaxAEAVcQBAKfEAQDVxQEAwcYBALjJAQCH0gEAB9MBAB7ZAQAK3AEAn+IBAInrAQBL7wEAhfMBAEYLAgABGwIA/SICABUvAgBpRwIAN0wCAA==",
          "dtype": "i4"
         },
         "xaxis": "x",
         "y": {
          "bdata": "iy2iMQ2UM0Bl1Uo0ptszQG75cxNd+jNAvsX4uJAENECkBoU38BA0QHfsLl5QLDRAFSXZF28sNEB7DsqpaC40QLrBFPsuLzRAL1PNTfo3NEC+AzJGMzw0QBT0aoOrPzRAljzlTG9GNECvSleDDkc0QLF7E/LITDRAMJPRTNJNNECHA55AiFc0QIdj1mRVXzRAveELQo1fNEBt5BgIlmg0QPmSPUcnaTRAy1g+ASBtNEBFPSehQnE0QOa3xzjqcTRAPOi2mkNyNEDoqM2Cw3o0QD7ZvOQcezRA4DMC6lN9NEASUOZWkn40QMiWAkdQfzRALe8lsz2ANEBhvDLY+IA0QObmkcjzjDRAt+xIp82NNEDqCC0UDI80QLodBRaIkzRAeXnb52OWNEBPoS0SVpk0QOQkVg4knzRAItigX+qfNECzeeQ0gaA0QJU4nUP7ojRADawTUIKkNECQxRFkM6k0QB4lX1tBqTRAu10JFWCpNEAyAPzW+aw0QPZuTNFLrjRAO/VaJqewNEB/Ww7pkbQ0QNnN8yh0tTRAVjSJywC3NEAQnUAH17k0QEzuOeijuzRAzLYg+ym8NEBOfwcOsLw0QDOgEY0jvjRAV3RmXV3ANECivheTq8A0QC5tPNI8wTRAUxIV7WPBNEAedIR9u8I0QGPLFh0EwzRA8QoJgqHENEC/zsmC8sQ0QMjDKNKfyDRAj+OhhG7JNECt5DJRE8o0QBcwdVMGyzRAZpzB1GzNNECqQiu8OM40QAVmObSXzjRAo14tSdXRNEBBl9cC9NE0QOtGjQ4q0zRAceI3JUXVNEAf9D6hdNU0QAu5kG5q1jRAVgNCpLjWNEC3GW8yHdc0QIkfJhH31zRA+F2Hqe/YNEACRMXV+tg0QEHXtJRQ2zRA2hxAuGnbNEBCl/5vb940QAi3dyI+3zRAN3EKH4PhNECNofmA3OE0QMqjGxom4zRAsXVOURbkNEA1gCtCJeU0QKZvtZKa5TRApm+1kprlNEB/+Vgthuc0QKE84Nez6DRAwe6ZXNXoNEBxkW7+EOo0QOKA+E6G6jRAtRd9U2zsNEC1F31TbOw0QCRW3utk7TRADdk529HtNEBwYNn80fA0QFE/7Z288TRAOwImH4b7NEBZA7frKvw0QGTp9Bc2/DRAJRZPNP/8NEDONDcaKf00QFBONS7aATVA8LebVrMHNUBaA95Ypgg1QB9yLlP4CTVAu7n5L7kNNUB+l3wE/w01QOLvn3DsDjVAwIy9M04PNUCJHal5uBI1QDPNXoXuEzVAJWV0VnkWNUDu9V+c4xk1QHqkhNt0GjVAtRXZTrIaNUDnMb278Bs1QB2w8pgoHDVALUmZNlgfNUDvNT0uQCM1QF50nsY4JDVAq08dIpMlNUAWTIjcAiY1QC9a+hKiJjVACAT5P/4mNUCki3pBoCc1QHw1eW78JzVAqV4+RTUpNUCpPuOyxCo1QAoVWhxILjVASahJ250wNUBvTSL2xDA1QAKAM/FnMjVAgii/cX00NUD3WT+gezU1QOkRsAN3NjVAt9VwBMg2NUA/Qp9l0DY1QHqz89gNNzVAxb3u6Xo6NUD7+22i0T01QGf42FxBPjVACgRHGvU/NUBqGnSoWUA1QGyrQc5lQTVAdaCgHRNFNUD+7HPsqkY1QKRaMxpYRzVAMrqAEWZHNUCWEqR9U0g1QIRIaN7kSzVAeLEB+lxMNUA2nGU4nUw1QOoR/t1tTzVAHt8KAylQNUAiAaZOQVI1QJPwL5+2UjVAk/Avn7ZSNUDJbmV87lI1QHxzi44jUzVA1cUVPJVVNUB3QLbTPFY1QIwMMixTVjVATIhjkJ9XNUBcQWXAP1k1QK4PA7KfWjVAz8G8NsFaNUDY9tGqT1s1QIQX+kkhXzVA6G8dtg5gNUAwOCLp8mI1QBzdGCR4ZTVAUKolSTNmNUBkpR1XXGg1QFIbmNzOaDVApppehqtpNUD+O8B7oGw1QM6QTqL9bTVAD9VmGdBvNUCufoNminI1QLKAwx8ydjVAA544WRV4NUDxE7Peh3g1QCrU3plIeTVA0eGMEKR+NUAHYMLt2341QE23VI0kfzVAlJ+0UnmANUDeOD3QSoE1QBJGJ4diizVA6h6iadGNNUAqgxVzFI41QBZIZ0AKjzVAAVyQVYOQNUAwNn7kOJE1QFDI3NbpkjVADAIYXa2TNUBd/zEEIJc1QCWweNz6mDVAHFsI1vuZNUA7XJmioJo1QFhsS5LnnjVAZONW5P6fNUA26Q3D2KA1QIV1tdavoTVAFhf5q0aiNUCsq1sX46I1QP3I0FDGpDVAHEr106irNUAcCj+vx641QDX4VVP2sDVAhIT9Zs2xNUCK11QhoLk1QJwhJHdMvDVAZdJqTye+NUBc/Y3/ZcU1QHAY4Z//xTVAVhmQjALJNUBeTqUAkck1QOyt8veeyTVAjQg4/dXLNUC1HoOrmM41QAYcnVIL0jVAk1uPt6jTNUCwq/fL0NQ1QD+cEunq1TVA9sLTRjjYNUBZ6mGx5t81QFCV8arn4DVAyrmQb+vhNUDJyNj/CPI1QCY9/viS9jVAYX3k1wwKNkDboYOcEAs2QLRLgslsCzZAVcYiYRQMNkCFUTmoRgw2QNpQkwhhEzZA6FhsgIQVNkAe9yNdqCA2QPyiibAnMTZAHDXootgyNkBmjrr7yDY2QNd9REw+NzZA5DQtMLJBNkDdUC+9TkU2QFKCr+tMRjZApqFk3tdLNkBydEYCy082QHWFp94UVzZAk4Y4q7lXNkBwci22nlg2QJvKbkLqWzZAFM+ydH1eNkCLEZR/xWY2QLRn4yxgfzZADCmgtMWANkDoI91PyJE2QMEtFKHxmTZA7/buLVSsNkDhHeBFOsU2QPm6Bla5zzZAU01ulYfbNkChpgMQ4R03QGIRcEzRSTdA1ED+mx5gN0BQxSNf5oE3QKnkm3PaxTdAkbb1F0bTN0A=",
          "dtype": "f8"
         },
         "yaxis": "y"
        }
       ],
       "layout": {
        "coloraxis": {
         "cmax": 98,
         "cmin": 90,
         "colorbar": {
          "title": {
           "text": "Attendance Rate"
          }
         },
         "colorscale": [
          [
           0,
           "rgb(211, 242, 163)"
          ],
          [
           0.16666666666666666,
           "rgb(151, 225, 150)"
          ],
          [
           0.3333333333333333,
           "rgb(108, 192, 139)"
          ],
          [
           0.5,
           "rgb(76, 155, 130)"
          ],
          [
           0.6666666666666666,
           "rgb(33, 122, 121)"
          ],
          [
           0.8333333333333334,
           "rgb(16, 89, 101)"
          ],
          [
           1,
           "rgb(7, 64, 80)"
          ]
         ]
        },
        "legend": {
         "orientation": "h",
         "tracegroupgap": 0
        },
        "margin": {
         "t": 60
        },
        "template": {
         "data": {
          "bar": [
           {
            "error_x": {
             "color": "#2a3f5f"
            },
            "error_y": {
             "color": "#2a3f5f"
            },
            "marker": {
             "line": {
              "color": "#E5ECF6",
              "width": 0.5
             },
             "pattern": {
              "fillmode": "overlay",
              "size": 10,
              "solidity": 0.2
             }
            },
            "type": "bar"
           }
          ],
          "barpolar": [
           {
            "marker": {
             "line": {
              "color": "#E5ECF6",
              "width": 0.5
             },
             "pattern": {
              "fillmode": "overlay",
              "size": 10,
              "solidity": 0.2
             }
            },
            "type": "barpolar"
           }
          ],
          "carpet": [
           {
            "aaxis": {
             "endlinecolor": "#2a3f5f",
             "gridcolor": "white",
             "linecolor": "white",
             "minorgridcolor": "white",
             "startlinecolor": "#2a3f5f"
            },
            "baxis": {
             "endlinecolor": "#2a3f5f",
             "gridcolor": "white",
             "linecolor": "white",
             "minorgridcolor": "white",
             "startlinecolor": "#2a3f5f"
            },
            "type": "carpet"
           }
          ],
          "choropleth": [
           {
            "colorbar": {
             "outlinewidth": 0,
             "ticks": ""
            },
            "type": "choropleth"
           }
          ],
          "contour": [
           {
            "colorbar": {
             "outlinewidth": 0,
             "ticks": ""
            },
            "colorscale": [
             [
              0,
              "#0d0887"
             ],
             [
              0.1111111111111111,
              "#46039f"
             ],
             [
              0.2222222222222222,
              "#7201a8"
             ],
             [
              0.3333333333333333,
              "#9c179e"
             ],
             [
              0.4444444444444444,
              "#bd3786"
             ],
             [
              0.5555555555555556,
              "#d8576b"
             ],
             [
              0.6666666666666666,
              "#ed7953"
             ],
             [
              0.7777777777777778,
              "#fb9f3a"
             ],
             [
              0.8888888888888888,
              "#fdca26"
             ],
             [
              1,
              "#f0f921"
             ]
            ],
            "type": "contour"
           }
          ],
          "contourcarpet": [
           {
            "colorbar": {
             "outlinewidth": 0,
             "ticks": ""
            },
            "type": "contourcarpet"
           }
          ],
          "heatmap": [
           {
            "colorbar": {
             "outlinewidth": 0,
             "ticks": ""
            },
            "colorscale": [
             [
              0,
              "#0d0887"
             ],
             [
              0.1111111111111111,
              "#46039f"
             ],
             [
              0.2222222222222222,
              "#7201a8"
             ],
             [
              0.3333333333333333,
              "#9c179e"
             ],
             [
              0.4444444444444444,
              "#bd3786"
             ],
             [
              0.5555555555555556,
              "#d8576b"
             ],
             [
              0.6666666666666666,
              "#ed7953"
             ],
             [
              0.7777777777777778,
              "#fb9f3a"
             ],
             [
              0.8888888888888888,
              "#fdca26"
             ],
             [
              1,
              "#f0f921"
             ]
            ],
            "type": "heatmap"
           }
          ],
          "histogram": [
           {
            "marker": {
             "pattern": {
              "fillmode": "overlay",
              "size": 10,
              "solidity": 0.2
             }
            },
            "type": "histogram"
           }
          ],
          "histogram2d": [
           {
            "colorbar": {
             "outlinewidth": 0,
             "ticks": ""
            },
            "colorscale": [
             [
              0,
              "#0d0887"
             ],
             [
              0.1111111111111111,
              "#46039f"
             ],
             [
              0.2222222222222222,
              "#7201a8"
             ],
             [
              0.3333333333333333,
              "#9c179e"
             ],
             [
              0.4444444444444444,
              "#bd3786"
             ],
             [
              0.5555555555555556,
              "#d8576b"
             ],
             [
              0.6666666666666666,
              "#ed7953"
             ],
             [
              0.7777777777777778,
              "#fb9f3a"
             ],
             [
              0.8888888888888888,
              "#fdca26"
             ],
             [
              1,
              "#f0f921"
             ]
            ],
            "type": "histogram2d"
           }
          ],
          "histogram2dcontour": [
           {
            "colorbar": {
             "outlinewidth": 0,
             "ticks": ""
            },
            "colorscale": [
             [
              0,
              "#0d0887"
             ],
             [
              0.1111111111111111,
              "#46039f"
             ],
             [
              0.2222222222222222,
              "#7201a8"
             ],
             [
              0.3333333333333333,
              "#9c179e"
             ],
             [
              0.4444444444444444,
              "#bd3786"
             ],
             [
              0.5555555555555556,
              "#d8576b"
             ],
             [
              0.6666666666666666,
              "#ed7953"
             ],
             [
              0.7777777777777778,
              "#fb9f3a"
             ],
             [
              0.8888888888888888,
              "#fdca26"
             ],
             [
              1,
              "#f0f921"
             ]
            ],
            "type": "histogram2dcontour"
           }
          ],
          "mesh3d": [
           {
            "colorbar": {
             "outlinewidth": 0,
             "ticks": ""
            },
            "type": "mesh3d"
           }
          ],
          "parcoords": [
           {
            "line": {
             "colorbar": {
              "outlinewidth": 0,
              "ticks": ""
             }
            },
            "type": "parcoords"
           }
          ],
          "pie": [
           {
            "automargin": true,
            "type": "pie"
           }
          ],
          "scatter": [
           {
            "fillpattern": {
             "fillmode": "overlay",
             "size": 10,
             "solidity": 0.2
            },
            "type": "scatter"
           }
          ],
          "scatter3d": [
           {
            "line": {
             "colorbar": {
              "outlinewidth": 0,
              "ticks": ""
             }
            },
            "marker": {
             "colorbar": {
              "outlinewidth": 0,
              "ticks": ""
             }
            },
            "type": "scatter3d"
           }
          ],
          "scattercarpet": [
           {
            "marker": {
             "colorbar": {
              "outlinewidth": 0,
              "ticks": ""
             }
            },
            "type": "scattercarpet"
           }
          ],
          "scattergeo": [
           {
            "marker": {
             "colorbar": {
              "outlinewidth": 0,
              "ticks": ""
             }
            },
            "type": "scattergeo"
           }
          ],
          "scattergl": [
           {
            "marker": {
             "colorbar": {
              "outlinewidth": 0,
              "ticks": ""
             }
            },
            "type": "scattergl"
           }
          ],
          "scattermap": [
           {
            "marker": {
             "colorbar": {
              "outlinewidth": 0,
              "ticks": ""
             }
            },
            "type": "scattermap"
           }
          ],
          "scattermapbox": [
           {
            "marker": {
             "colorbar": {
              "outlinewidth": 0,
              "ticks": ""
             }
            },
            "type": "scattermapbox"
           }
          ],
          "scatterpolar": [
           {
            "marker": {
             "colorbar": {
              "outlinewidth": 0,
              "ticks": ""
             }
            },
            "type": "scatterpolar"
           }
          ],
          "scatterpolargl": [
           {
            "marker": {
             "colorbar": {
              "outlinewidth": 0,
              "ticks": ""
             }
            },
            "type": "scatterpolargl"
           }
          ],
          "scatterternary": [
           {
            "marker": {
             "colorbar": {
              "outlinewidth": 0,
              "ticks": ""
             }
            },
            "type": "scatterternary"
           }
          ],
          "surface": [
           {
            "colorbar": {
             "outlinewidth": 0,
             "ticks": ""
            },
            "colorscale": [
             [
              0,
              "#0d0887"
             ],
             [
              0.1111111111111111,
              "#46039f"
             ],
             [
              0.2222222222222222,
              "#7201a8"
             ],
             [
              0.3333333333333333,
              "#9c179e"
             ],
             [
              0.4444444444444444,
              "#bd3786"
             ],
             [
              0.5555555555555556,
              "#d8576b"
             ],
             [
              0.6666666666666666,
              "#ed7953"
             ],
             [
              0.7777777777777778,
              "#fb9f3a"
             ],
             [
              0.8888888888888888,
              "#fdca26"
             ],
             [
              1,
              "#f0f921"
             ]
            ],
            "type": "surface"
           }
          ],
          "table": [
           {
            "cells": {
             "fill": {
              "color": "#EBF0F8"
             },
             "line": {
              "color": "white"
             }
            },
            "header": {
             "fill": {
              "color": "#C8D4E3"
             },
             "line": {
              "color": "white"
             }
            },
            "type": "table"
           }
          ]
         },
         "layout": {
          "annotationdefaults": {
           "arrowcolor": "#2a3f5f",
           "arrowhead": 0,
           "arrowwidth": 1
          },
          "autotypenumbers": "strict",
          "coloraxis": {
           "colorbar": {
            "outlinewidth": 0,
            "ticks": ""
           }
          },
          "colorscale": {
           "diverging": [
            [
             0,
             "#8e0152"
            ],
            [
             0.1,
             "#c51b7d"
            ],
            [
             0.2,
             "#de77ae"
            ],
            [
             0.3,
             "#f1b6da"
            ],
            [
             0.4,
             "#fde0ef"
            ],
            [
             0.5,
             "#f7f7f7"
            ],
            [
             0.6,
             "#e6f5d0"
            ],
            [
             0.7,
             "#b8e186"
            ],
            [
             0.8,
             "#7fbc41"
            ],
            [
             0.9,
             "#4d9221"
            ],
            [
             1,
             "#276419"
            ]
           ],
           "sequential": [
            [
             0,
             "#0d0887"
            ],
            [
             0.1111111111111111,
             "#46039f"
            ],
            [
             0.2222222222222222,
             "#7201a8"
            ],
            [
             0.3333333333333333,
             "#9c179e"
            ],
            [
             0.4444444444444444,
             "#bd3786"
            ],
            [
             0.5555555555555556,
             "#d8576b"
            ],
            [
             0.6666666666666666,
             "#ed7953"
            ],
            [
             0.7777777777777778,
             "#fb9f3a"
            ],
            [
             0.8888888888888888,
             "#fdca26"
            ],
            [
             1,
             "#f0f921"
            ]
           ],
           "sequentialminus": [
            [
             0,
             "#0d0887"
            ],
            [
             0.1111111111111111,
             "#46039f"
            ],
            [
             0.2222222222222222,
             "#7201a8"
            ],
            [
             0.3333333333333333,
             "#9c179e"
            ],
            [
             0.4444444444444444,
             "#bd3786"
            ],
            [
             0.5555555555555556,
             "#d8576b"
            ],
            [
             0.6666666666666666,
             "#ed7953"
            ],
            [
             0.7777777777777778,
             "#fb9f3a"
            ],
            [
             0.8888888888888888,
             "#fdca26"
            ],
            [
             1,
             "#f0f921"
            ]
           ]
          },
          "colorway": [
           "#636efa",
           "#EF553B",
           "#00cc96",
           "#ab63fa",
           "#FFA15A",
           "#19d3f3",
           "#FF6692",
           "#B6E880",
           "#FF97FF",
           "#FECB52"
          ],
          "font": {
           "color": "#2a3f5f"
          },
          "geo": {
           "bgcolor": "white",
           "lakecolor": "white",
           "landcolor": "#E5ECF6",
           "showlakes": true,
           "showland": true,
           "subunitcolor": "white"
          },
          "hoverlabel": {
           "align": "left"
          },
          "hovermode": "closest",
          "mapbox": {
           "style": "light"
          },
          "paper_bgcolor": "white",
          "plot_bgcolor": "#E5ECF6",
          "polar": {
           "angularaxis": {
            "gridcolor": "white",
            "linecolor": "white",
            "ticks": ""
           },
           "bgcolor": "#E5ECF6",
           "radialaxis": {
            "gridcolor": "white",
            "linecolor": "white",
            "ticks": ""
           }
          },
          "scene": {
           "xaxis": {
            "backgroundcolor": "#E5ECF6",
            "gridcolor": "white",
            "gridwidth": 2,
            "linecolor": "white",
            "showbackground": true,
            "ticks": "",
            "zerolinecolor": "white"
           },
           "yaxis": {
            "backgroundcolor": "#E5ECF6",
            "gridcolor": "white",
            "gridwidth": 2,
            "linecolor": "white",
            "showbackground": true,
            "ticks": "",
            "zerolinecolor": "white"
           },
           "zaxis": {
            "backgroundcolor": "#E5ECF6",
            "gridcolor": "white",
            "gridwidth": 2,
            "linecolor": "white",
            "showbackground": true,
            "ticks": "",
            "zerolinecolor": "white"
           }
          },
          "shapedefaults": {
           "line": {
            "color": "#2a3f5f"
           }
          },
          "ternary": {
           "aaxis": {
            "gridcolor": "white",
            "linecolor": "white",
            "ticks": ""
           },
           "baxis": {
            "gridcolor": "white",
            "linecolor": "white",
            "ticks": ""
           },
           "bgcolor": "#E5ECF6",
           "caxis": {
            "gridcolor": "white",
            "linecolor": "white",
            "ticks": ""
           }
          },
          "title": {
           "x": 0.05
          },
          "xaxis": {
           "automargin": true,
           "gridcolor": "white",
           "linecolor": "white",
           "ticks": "",
           "title": {
            "standoff": 15
           },
           "zerolinecolor": "white",
           "zerolinewidth": 2
          },
          "yaxis": {
           "automargin": true,
           "gridcolor": "white",
           "linecolor": "white",
           "ticks": "",
           "title": {
            "standoff": 15
           },
           "zerolinecolor": "white",
           "zerolinewidth": 2
          }
         }
        },
        "title": {
         "text": "Income Effect on Composite ACT Score 2019 in 300 Iowa Districts"
        },
        "xaxis": {
         "anchor": "y",
         "domain": [
          0,
          1
         ],
         "title": {
          "text": "Median Family Income"
         }
        },
        "yaxis": {
         "anchor": "x",
         "domain": [
          0,
          1
         ],
         "title": {
          "text": "Avergage Composite ACT Score"
         }
        }
       }
      }
     },
     "metadata": {},
     "output_type": "display_data"
    }
   ],
   "source": [
    "fig = px.scatter(df7, x=\"Median Family Income\", color= \"Attendance Rate\", y=\"Avg Comp\", hover_data=\"District Name\",\n",
    "trendline=\"ols\", trendline_scope=\"overall\",color_continuous_scale=px.colors.sequential.Emrld, range_color=[90,98])\n",
    "fig.update_layout(legend_orientation=\"h\", title=\"Income Effect on Composite ACT Score 2019 in 300 Iowa Districts\")\n",
    "fig.update_traces(marker=dict(size=10,line=dict(width=1)))\n",
    "fig.update_xaxes(title=\"Median Family Income\")\n",
    "fig.update_yaxes(title=\"Avergage Composite ACT Score\") \n",
    "fig.show()"
   ]
  }
 ],
 "metadata": {
  "kernelspec": {
   "display_name": "Kumar_Summer_24",
   "language": "python",
   "name": "python3"
  },
  "language_info": {
   "codemirror_mode": {
    "name": "ipython",
    "version": 3
   },
   "file_extension": ".py",
   "mimetype": "text/x-python",
   "name": "python",
   "nbconvert_exporter": "python",
   "pygments_lexer": "ipython3",
   "version": "3.13.2"
  }
 },
 "nbformat": 4,
 "nbformat_minor": 2
}
