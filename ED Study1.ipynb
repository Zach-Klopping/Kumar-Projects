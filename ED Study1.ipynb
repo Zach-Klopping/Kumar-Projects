{
 "cells": [
  {
   "cell_type": "code",
   "execution_count": 4,
   "metadata": {},
   "outputs": [],
   "source": [
    "import pandas as pd\n",
    "import plotly.express as px\n",
    "\n"
   ]
  },
  {
   "cell_type": "code",
   "execution_count": 5,
   "metadata": {},
   "outputs": [],
   "source": [
    "file3= open(\"output1.xlsx\", \"r\")\n",
    "df3 = pd.read_excel(\"output1.xlsx\")\n",
    "df3=df3.drop(columns=\"Unnamed: 0\")"
   ]
  },
  {
   "cell_type": "code",
   "execution_count": null,
   "metadata": {},
   "outputs": [],
   "source": []
  },
  {
   "cell_type": "code",
   "execution_count": 6,
   "metadata": {},
   "outputs": [],
   "source": [
    "file4= open(\"output2.xlsx\", \"r\")\n",
    "df4 = pd.read_excel(\"output2.xlsx\")\n",
    "df4=df4.drop(columns=\"Unnamed: 0\")"
   ]
  },
  {
   "cell_type": "code",
   "execution_count": null,
   "metadata": {},
   "outputs": [],
   "source": []
  },
  {
   "cell_type": "code",
   "execution_count": 7,
   "metadata": {},
   "outputs": [],
   "source": [
    "file5= open(\"output3.xlsx\", \"r\")\n",
    "df5 = pd.read_excel(\"output3.xlsx\")\n",
    "df5=df5.drop(columns=\"Unnamed: 0\")"
   ]
  },
  {
   "cell_type": "code",
   "execution_count": 8,
   "metadata": {},
   "outputs": [
    {
     "data": {
      "text/html": [
       "<div>\n",
       "<style scoped>\n",
       "    .dataframe tbody tr th:only-of-type {\n",
       "        vertical-align: middle;\n",
       "    }\n",
       "\n",
       "    .dataframe tbody tr th {\n",
       "        vertical-align: top;\n",
       "    }\n",
       "\n",
       "    .dataframe thead th {\n",
       "        text-align: right;\n",
       "    }\n",
       "</style>\n",
       "<table border=\"1\" class=\"dataframe\">\n",
       "  <thead>\n",
       "    <tr style=\"text-align: right;\">\n",
       "      <th></th>\n",
       "      <th>District Number</th>\n",
       "      <th>Median Family Income</th>\n",
       "      <th>Student Number</th>\n",
       "      <th>Attendance Rate</th>\n",
       "      <th>District Name</th>\n",
       "      <th>Avg Comp</th>\n",
       "    </tr>\n",
       "  </thead>\n",
       "  <tbody>\n",
       "    <tr>\n",
       "      <th>0</th>\n",
       "      <td>9</td>\n",
       "      <td>80547</td>\n",
       "      <td>607</td>\n",
       "      <td>94.9</td>\n",
       "      <td>AGWSR CMTY SCHOOL DISTRICT</td>\n",
       "      <td>20.9</td>\n",
       "    </tr>\n",
       "    <tr>\n",
       "      <th>1</th>\n",
       "      <td>27</td>\n",
       "      <td>114109</td>\n",
       "      <td>1935</td>\n",
       "      <td>95.6</td>\n",
       "      <td>ADEL-DE SOTO-MINBURN CMTY SD</td>\n",
       "      <td>23.3</td>\n",
       "    </tr>\n",
       "    <tr>\n",
       "      <th>2</th>\n",
       "      <td>63</td>\n",
       "      <td>83947</td>\n",
       "      <td>620</td>\n",
       "      <td>96.2</td>\n",
       "      <td>AKRON WESTFIELD CMTY SCH DIST</td>\n",
       "      <td>21.1</td>\n",
       "    </tr>\n",
       "    <tr>\n",
       "      <th>3</th>\n",
       "      <td>81</td>\n",
       "      <td>89654</td>\n",
       "      <td>1174</td>\n",
       "      <td>95.3</td>\n",
       "      <td>ALBIA CMTY SCHOOL DISTRICT</td>\n",
       "      <td>21.8</td>\n",
       "    </tr>\n",
       "    <tr>\n",
       "      <th>4</th>\n",
       "      <td>99</td>\n",
       "      <td>102773</td>\n",
       "      <td>674</td>\n",
       "      <td>95.5</td>\n",
       "      <td>ALBURNETT CMTY SCHOOL DISTRICT</td>\n",
       "      <td>22.6</td>\n",
       "    </tr>\n",
       "    <tr>\n",
       "      <th>...</th>\n",
       "      <td>...</td>\n",
       "      <td>...</td>\n",
       "      <td>...</td>\n",
       "      <td>...</td>\n",
       "      <td>...</td>\n",
       "      <td>...</td>\n",
       "    </tr>\n",
       "    <tr>\n",
       "      <th>295</th>\n",
       "      <td>7047</td>\n",
       "      <td>88214</td>\n",
       "      <td>418</td>\n",
       "      <td>94.2</td>\n",
       "      <td>WINFIELD-MT UNION CMTY SD</td>\n",
       "      <td>20.1</td>\n",
       "    </tr>\n",
       "    <tr>\n",
       "      <th>296</th>\n",
       "      <td>7056</td>\n",
       "      <td>102768</td>\n",
       "      <td>1741</td>\n",
       "      <td>96.0</td>\n",
       "      <td>WINTERSET CMTY SCHOOL DISTRICT</td>\n",
       "      <td>23.9</td>\n",
       "    </tr>\n",
       "    <tr>\n",
       "      <th>297</th>\n",
       "      <td>7092</td>\n",
       "      <td>94375</td>\n",
       "      <td>459</td>\n",
       "      <td>96.2</td>\n",
       "      <td>WOODBINE CMTY SCHOOL DISTRICT</td>\n",
       "      <td>23.0</td>\n",
       "    </tr>\n",
       "    <tr>\n",
       "      <th>298</th>\n",
       "      <td>7098</td>\n",
       "      <td>115797</td>\n",
       "      <td>596</td>\n",
       "      <td>95.6</td>\n",
       "      <td>WOODBURY CENTRAL CMTY SCH DIST</td>\n",
       "      <td>22.9</td>\n",
       "    </tr>\n",
       "    <tr>\n",
       "      <th>299</th>\n",
       "      <td>7110</td>\n",
       "      <td>119559</td>\n",
       "      <td>1390</td>\n",
       "      <td>96.4</td>\n",
       "      <td>WOODWARD-GRANGER CMTY SCH DIST</td>\n",
       "      <td>22.8</td>\n",
       "    </tr>\n",
       "  </tbody>\n",
       "</table>\n",
       "<p>277 rows × 6 columns</p>\n",
       "</div>"
      ],
      "text/plain": [
       "     District Number  Median Family Income  Student Number  Attendance Rate  \\\n",
       "0                  9                 80547             607             94.9   \n",
       "1                 27                114109            1935             95.6   \n",
       "2                 63                 83947             620             96.2   \n",
       "3                 81                 89654            1174             95.3   \n",
       "4                 99                102773             674             95.5   \n",
       "..               ...                   ...             ...              ...   \n",
       "295             7047                 88214             418             94.2   \n",
       "296             7056                102768            1741             96.0   \n",
       "297             7092                 94375             459             96.2   \n",
       "298             7098                115797             596             95.6   \n",
       "299             7110                119559            1390             96.4   \n",
       "\n",
       "                      District Name  Avg Comp  \n",
       "0        AGWSR CMTY SCHOOL DISTRICT      20.9  \n",
       "1      ADEL-DE SOTO-MINBURN CMTY SD      23.3  \n",
       "2     AKRON WESTFIELD CMTY SCH DIST      21.1  \n",
       "3        ALBIA CMTY SCHOOL DISTRICT      21.8  \n",
       "4    ALBURNETT CMTY SCHOOL DISTRICT      22.6  \n",
       "..                              ...       ...  \n",
       "295       WINFIELD-MT UNION CMTY SD      20.1  \n",
       "296  WINTERSET CMTY SCHOOL DISTRICT      23.9  \n",
       "297   WOODBINE CMTY SCHOOL DISTRICT      23.0  \n",
       "298  WOODBURY CENTRAL CMTY SCH DIST      22.9  \n",
       "299  WOODWARD-GRANGER CMTY SCH DIST      22.8  \n",
       "\n",
       "[277 rows x 6 columns]"
      ]
     },
     "execution_count": 8,
     "metadata": {},
     "output_type": "execute_result"
    }
   ],
   "source": [
    "df6=pd.merge(df3, df4, on='District Number', how='left')\n",
    "df7=pd.merge(df6,df5, on='District Number', how='left')\n",
    "df7=df7.drop(columns=[\"District_x\",'Family Type',\"District_y\", \"N\",\"Grad Year\"])\n",
    "df7['Avg Comp']=pd.to_numeric(df7['Avg Comp'], errors='coerce')\n",
    "df7.dropna(subset=[\"Avg Comp\"], inplace=True)\n",
    "df7"
   ]
  },
  {
   "cell_type": "code",
   "execution_count": 9,
   "metadata": {},
   "outputs": [
    {
     "name": "stderr",
     "output_type": "stream",
     "text": [
      "/Users/zachklopping/Desktop/Folder/.venv/lib/python3.12/site-packages/openpyxl/worksheet/header_footer.py:48: UserWarning: Cannot parse header or footer so it will be ignored\n",
      "  warn(\"\"\"Cannot parse header or footer so it will be ignored\"\"\")\n"
     ]
    },
    {
     "data": {
      "text/html": [
       "<div>\n",
       "<style scoped>\n",
       "    .dataframe tbody tr th:only-of-type {\n",
       "        vertical-align: middle;\n",
       "    }\n",
       "\n",
       "    .dataframe tbody tr th {\n",
       "        vertical-align: top;\n",
       "    }\n",
       "\n",
       "    .dataframe thead th {\n",
       "        text-align: right;\n",
       "    }\n",
       "</style>\n",
       "<table border=\"1\" class=\"dataframe\">\n",
       "  <thead>\n",
       "    <tr style=\"text-align: right;\">\n",
       "      <th></th>\n",
       "      <th>District Number</th>\n",
       "      <th>Median Family Income</th>\n",
       "      <th>Student Number</th>\n",
       "      <th>Attendance Rate</th>\n",
       "      <th>District Name</th>\n",
       "      <th>Avg Comp</th>\n",
       "      <th>Average Regular Salary--Teacher Only</th>\n",
       "      <th>Average Age--Teacher Only</th>\n",
       "      <th>Average Total Experience--Teacher Only</th>\n",
       "    </tr>\n",
       "  </thead>\n",
       "  <tbody>\n",
       "    <tr>\n",
       "      <th>0</th>\n",
       "      <td>9</td>\n",
       "      <td>80547</td>\n",
       "      <td>607</td>\n",
       "      <td>94.9</td>\n",
       "      <td>AGWSR CMTY SCHOOL DISTRICT</td>\n",
       "      <td>20.9</td>\n",
       "      <td>53497.800000</td>\n",
       "      <td>47.960000</td>\n",
       "      <td>17.880000</td>\n",
       "    </tr>\n",
       "    <tr>\n",
       "      <th>1</th>\n",
       "      <td>27</td>\n",
       "      <td>114109</td>\n",
       "      <td>1935</td>\n",
       "      <td>95.6</td>\n",
       "      <td>ADEL-DE SOTO-MINBURN CMTY SD</td>\n",
       "      <td>23.3</td>\n",
       "      <td>50345.507463</td>\n",
       "      <td>34.507463</td>\n",
       "      <td>9.208955</td>\n",
       "    </tr>\n",
       "    <tr>\n",
       "      <th>2</th>\n",
       "      <td>63</td>\n",
       "      <td>83947</td>\n",
       "      <td>620</td>\n",
       "      <td>96.2</td>\n",
       "      <td>AKRON WESTFIELD CMTY SCH DIST</td>\n",
       "      <td>21.1</td>\n",
       "      <td>51892.520000</td>\n",
       "      <td>42.400000</td>\n",
       "      <td>14.920000</td>\n",
       "    </tr>\n",
       "    <tr>\n",
       "      <th>3</th>\n",
       "      <td>81</td>\n",
       "      <td>89654</td>\n",
       "      <td>1174</td>\n",
       "      <td>95.3</td>\n",
       "      <td>ALBIA CMTY SCHOOL DISTRICT</td>\n",
       "      <td>21.8</td>\n",
       "      <td>56955.444444</td>\n",
       "      <td>45.805556</td>\n",
       "      <td>20.305556</td>\n",
       "    </tr>\n",
       "    <tr>\n",
       "      <th>4</th>\n",
       "      <td>99</td>\n",
       "      <td>102773</td>\n",
       "      <td>674</td>\n",
       "      <td>95.5</td>\n",
       "      <td>ALBURNETT CMTY SCHOOL DISTRICT</td>\n",
       "      <td>22.6</td>\n",
       "      <td>48921.535714</td>\n",
       "      <td>33.571429</td>\n",
       "      <td>9.642857</td>\n",
       "    </tr>\n",
       "    <tr>\n",
       "      <th>...</th>\n",
       "      <td>...</td>\n",
       "      <td>...</td>\n",
       "      <td>...</td>\n",
       "      <td>...</td>\n",
       "      <td>...</td>\n",
       "      <td>...</td>\n",
       "      <td>...</td>\n",
       "      <td>...</td>\n",
       "      <td>...</td>\n",
       "    </tr>\n",
       "    <tr>\n",
       "      <th>272</th>\n",
       "      <td>7047</td>\n",
       "      <td>88214</td>\n",
       "      <td>418</td>\n",
       "      <td>94.2</td>\n",
       "      <td>WINFIELD-MT UNION CMTY SD</td>\n",
       "      <td>20.1</td>\n",
       "      <td>45060.954545</td>\n",
       "      <td>37.818182</td>\n",
       "      <td>11.500000</td>\n",
       "    </tr>\n",
       "    <tr>\n",
       "      <th>273</th>\n",
       "      <td>7056</td>\n",
       "      <td>102768</td>\n",
       "      <td>1741</td>\n",
       "      <td>96.0</td>\n",
       "      <td>WINTERSET CMTY SCHOOL DISTRICT</td>\n",
       "      <td>23.9</td>\n",
       "      <td>52165.454545</td>\n",
       "      <td>37.378788</td>\n",
       "      <td>10.909091</td>\n",
       "    </tr>\n",
       "    <tr>\n",
       "      <th>274</th>\n",
       "      <td>7092</td>\n",
       "      <td>94375</td>\n",
       "      <td>459</td>\n",
       "      <td>96.2</td>\n",
       "      <td>WOODBINE CMTY SCHOOL DISTRICT</td>\n",
       "      <td>23.0</td>\n",
       "      <td>44204.173913</td>\n",
       "      <td>42.652174</td>\n",
       "      <td>12.304348</td>\n",
       "    </tr>\n",
       "    <tr>\n",
       "      <th>275</th>\n",
       "      <td>7098</td>\n",
       "      <td>115797</td>\n",
       "      <td>596</td>\n",
       "      <td>95.6</td>\n",
       "      <td>WOODBURY CENTRAL CMTY SCH DIST</td>\n",
       "      <td>22.9</td>\n",
       "      <td>52364.878788</td>\n",
       "      <td>41.909091</td>\n",
       "      <td>12.969697</td>\n",
       "    </tr>\n",
       "    <tr>\n",
       "      <th>276</th>\n",
       "      <td>7110</td>\n",
       "      <td>119559</td>\n",
       "      <td>1390</td>\n",
       "      <td>96.4</td>\n",
       "      <td>WOODWARD-GRANGER CMTY SCH DIST</td>\n",
       "      <td>22.8</td>\n",
       "      <td>44179.982456</td>\n",
       "      <td>35.491228</td>\n",
       "      <td>5.298246</td>\n",
       "    </tr>\n",
       "  </tbody>\n",
       "</table>\n",
       "<p>277 rows × 9 columns</p>\n",
       "</div>"
      ],
      "text/plain": [
       "     District Number  Median Family Income  Student Number  Attendance Rate  \\\n",
       "0                  9                 80547             607             94.9   \n",
       "1                 27                114109            1935             95.6   \n",
       "2                 63                 83947             620             96.2   \n",
       "3                 81                 89654            1174             95.3   \n",
       "4                 99                102773             674             95.5   \n",
       "..               ...                   ...             ...              ...   \n",
       "272             7047                 88214             418             94.2   \n",
       "273             7056                102768            1741             96.0   \n",
       "274             7092                 94375             459             96.2   \n",
       "275             7098                115797             596             95.6   \n",
       "276             7110                119559            1390             96.4   \n",
       "\n",
       "                      District Name  Avg Comp  \\\n",
       "0        AGWSR CMTY SCHOOL DISTRICT      20.9   \n",
       "1      ADEL-DE SOTO-MINBURN CMTY SD      23.3   \n",
       "2     AKRON WESTFIELD CMTY SCH DIST      21.1   \n",
       "3        ALBIA CMTY SCHOOL DISTRICT      21.8   \n",
       "4    ALBURNETT CMTY SCHOOL DISTRICT      22.6   \n",
       "..                              ...       ...   \n",
       "272       WINFIELD-MT UNION CMTY SD      20.1   \n",
       "273  WINTERSET CMTY SCHOOL DISTRICT      23.9   \n",
       "274   WOODBINE CMTY SCHOOL DISTRICT      23.0   \n",
       "275  WOODBURY CENTRAL CMTY SCH DIST      22.9   \n",
       "276  WOODWARD-GRANGER CMTY SCH DIST      22.8   \n",
       "\n",
       "     Average Regular Salary--Teacher Only  Average Age--Teacher Only  \\\n",
       "0                            53497.800000                  47.960000   \n",
       "1                            50345.507463                  34.507463   \n",
       "2                            51892.520000                  42.400000   \n",
       "3                            56955.444444                  45.805556   \n",
       "4                            48921.535714                  33.571429   \n",
       "..                                    ...                        ...   \n",
       "272                          45060.954545                  37.818182   \n",
       "273                          52165.454545                  37.378788   \n",
       "274                          44204.173913                  42.652174   \n",
       "275                          52364.878788                  41.909091   \n",
       "276                          44179.982456                  35.491228   \n",
       "\n",
       "     Average Total Experience--Teacher Only  \n",
       "0                                 17.880000  \n",
       "1                                  9.208955  \n",
       "2                                 14.920000  \n",
       "3                                 20.305556  \n",
       "4                                  9.642857  \n",
       "..                                      ...  \n",
       "272                               11.500000  \n",
       "273                               10.909091  \n",
       "274                               12.304348  \n",
       "275                               12.969697  \n",
       "276                                5.298246  \n",
       "\n",
       "[277 rows x 9 columns]"
      ]
     },
     "execution_count": 9,
     "metadata": {},
     "output_type": "execute_result"
    }
   ],
   "source": [
    "file9= open(\"2019-2020 Iowa Public School Full Time Teachers_1.xlsx\", \"r\")\n",
    "df9 = pd.read_excel(\"2019-2020 Iowa Public School Full Time Teachers_1.xlsx\")\n",
    "df9=df9[['Average Regular Salary--Teacher Only',\"Average Age--Teacher Only\",\"Average Total Experience--Teacher Only\", \"District\"]]\n",
    "df9 = df9.rename(columns={'District': 'District Number'})\n",
    "df10=pd.merge(df7,df9, on='District Number', how='left')\n",
    "df10"
   ]
  },
  {
   "cell_type": "code",
   "execution_count": 10,
   "metadata": {},
   "outputs": [
    {
     "data": {
      "application/vnd.plotly.v1+json": {
       "config": {
        "plotlyServerURL": "https://plot.ly"
       },
       "data": [
        {
         "customdata": [
          [
           "AGWSR CMTY SCHOOL DISTRICT"
          ],
          [
           "ADEL-DE SOTO-MINBURN CMTY SD"
          ],
          [
           "AKRON WESTFIELD CMTY SCH DIST"
          ],
          [
           "ALBIA CMTY SCHOOL DISTRICT"
          ],
          [
           "ALBURNETT CMTY SCHOOL DISTRICT"
          ],
          [
           "ALGONA CMTY SCHOOL DISTRICT"
          ],
          [
           "ALLAMAKEE CMTY SCHOOL DISTRICT"
          ],
          [
           "ALTA-AURELIA CMTY SCHOOLS"
          ],
          [
           "AMES CMTY SCHOOL DISTRICT"
          ],
          [
           "ANAMOSA CMTY SCHOOL DISTRICT"
          ],
          [
           "ANKENY CMTY SCHOOL DISTRICT"
          ],
          [
           "APLINGTON-PARKERSBURG SD"
          ],
          [
           "ATLANTIC CMTY SCHOOL DISTRICT"
          ],
          [
           "AUDUBON CMTY SCHOOL DISTRICT"
          ],
          [
           "BALLARD CMTY SCHOOL DISTRICT"
          ],
          [
           "BAXTER CMTY SCHOOL DISTRICT"
          ],
          [
           "BEDFORD CMTY SCHOOL DISTRICT"
          ],
          [
           "BELLE PLAINE CMTY SCHOOL DIST"
          ],
          [
           "BELLEVUE CMTY SCHOOL DISTRICT"
          ],
          [
           "BELMOND-KLEMME CMTY SCH DIST"
          ],
          [
           "BENTON CMTY SCHOOL DISTRICT"
          ],
          [
           "BETTENDORF CMTY SCHOOL DIST"
          ],
          [
           "BONDURANT-FARRAR CMTY SCH DIST"
          ],
          [
           "BOONE CMTY SCHOOL DISTRICT"
          ],
          [
           "BOYDEN-HULL CMTY SCH DISTRICT"
          ],
          [
           "BOYER VALLEY CMTY SCH DISTRICT"
          ],
          [
           "BROOKLYN-GUERNSEY-MALCOM CSD"
          ],
          [
           "BURLINGTON CMTY SCHOOL DIST"
          ],
          [
           "CAM CMTY SCHOOL DISTRICT"
          ],
          [
           "CAMANCHE CMTY SCHOOL DISTRICT"
          ],
          [
           "CARDINAL CMTY SCHOOL DISTRICT"
          ],
          [
           "CARLISLE CMTY SCHOOL DISTRICT"
          ],
          [
           "CARROLL CMTY SCHOOL DISTRICT"
          ],
          [
           "CEDAR FALLS CMTY SCH DISTRICT"
          ],
          [
           "CEDAR RAPIDS CMTY SCHOOL DIST"
          ],
          [
           "CENTER POINT-URBANA CMTY SD"
          ],
          [
           "CENTERVILLE CMTY SCHOOL DIST"
          ],
          [
           "CENTRAL CITY CMTY SCH DIST"
          ],
          [
           "CENTRAL CMTY SCHOOL DISTRICT"
          ],
          [
           "CENTRAL DEWITT CMTY SCH DIST"
          ],
          [
           "CENTRAL DECATUR CMTY SCH DIST"
          ],
          [
           "CENTRAL LEE CMTY SCHOOL DIST"
          ],
          [
           "CENTRAL LYON CMTY SCHOOL DIST"
          ],
          [
           "CENTRAL SPRINGS CMTY SCH DIST"
          ],
          [
           "CHARITON CMTY SCHOOL DISTRICT"
          ],
          [
           "CHARLES CITY CMTY SCH DISTRICT"
          ],
          [
           "CHEROKEE CMTY SCHOOL DISTRICT"
          ],
          [
           "CLARINDA CMTY SCHOOL DISTRICT"
          ],
          [
           "CLARION-GOLDFIELD-DOWS CMTY SD"
          ],
          [
           "CLARKE CMTY SCHOOL DISTRICT"
          ],
          [
           "CLARKSVILLE CMTY SCHOOL DIST"
          ],
          [
           "CLAYTON RIDGE CMTY SCH DIST"
          ],
          [
           "CLEAR CREEK AMANA CMTY SD"
          ],
          [
           "CLEAR LAKE CMTY SCH DISTRICT"
          ],
          [
           "CLINTON CMTY SCHOOL DISTRICT"
          ],
          [
           "COLFAX-MINGO CMTY SCH DIST"
          ],
          [
           "COLLEGE CMTY SCHOOL DISTRICT"
          ],
          [
           "COLLINS-MAXWELL CMTY SCH DIST"
          ],
          [
           "COLO-NESCO CMTY SCHOOL DIST"
          ],
          [
           "COLUMBUS CMTY SCHOOL DISTRICT"
          ],
          [
           "COON RAPIDS-BAYARD CMTY SD"
          ],
          [
           "COUNCIL BLUFFS CMTY SCH DIST"
          ],
          [
           "CRESTON CMTY SCHOOL DISTRICT"
          ],
          [
           "DALLAS CENTER GRIMES CMTY SD"
          ],
          [
           "DANVILLE CMTY SCHOOL DISTRICT"
          ],
          [
           "DAVENPORT CMTY SCHOOL DISTRICT"
          ],
          [
           "DAVIS CO CMTY SCHOOL DISTRICT"
          ],
          [
           "DECORAH CMTY SCHOOL DISTRICT"
          ],
          [
           "DENISON CMTY SCHOOL DISTRICT"
          ],
          [
           "DENVER CMTY SCHOOL DISTRICT"
          ],
          [
           "DES MOINES PUBLIC SCHOOL DIST"
          ],
          [
           "DIKE-NEW HARTFORD CMTY SD"
          ],
          [
           "DUBUQUE CMTY SCHOOL DISTRICT"
          ],
          [
           "DUNKERTON CMTY SCH DISTRICT"
          ],
          [
           "DURANT CMTY SCHOOL DISTRICT"
          ],
          [
           "EAGLE GROVE CMTY SCHOOL DIST"
          ],
          [
           "EARLHAM CMTY SCHOOL DISTRICT"
          ],
          [
           "EAST BUCHANAN CMTY SCH DIST"
          ],
          [
           "EAST MARSHALL CMTY SCHOOL DIST"
          ],
          [
           "EAST MILLS CMTY SCHOOL DIST"
          ],
          [
           "EAST SAC CO CMTY SCHOOL DIST"
          ],
          [
           "EAST UNION CMTY SCHOOL DIST"
          ],
          [
           "EASTERN ALLAMAKEE CMTY SD"
          ],
          [
           "EASTON VALLEY CMTY SCHOOL DIST"
          ],
          [
           "EDDYVLL-BLKSBRG-FREMNT CMTY SD"
          ],
          [
           "EDGEWOOD COLESBURG CMTY SD"
          ],
          [
           "ELDORA-NEW PROVIDENCE CMTY SD"
          ],
          [
           "EMMETSBURG CMTY SCH DIST"
          ],
          [
           "ENGLISH VALLEYS CMTY SCH DIST"
          ],
          [
           "ESTHERVILLE LINCOLN CTL CMSD"
          ],
          [
           "EXIRA-ELK HORN-KIMBALLTON SD"
          ],
          [
           "FAIRFIELD CMTY SCHOOL DISTRICT"
          ],
          [
           "FOREST CITY CMTY SCHOOL DIST"
          ],
          [
           "FT DODGE CMTY SCHOOL DIST"
          ],
          [
           "FT MADISON CMTY SCHOOL DIST"
          ],
          [
           "FREMONT-MILLS CMTY SCH DIST"
          ],
          [
           "GALVA-HOLSTEIN CMTY SCH DIST"
          ],
          [
           "GARNER-HAYFIELD-VENTURA CSD"
          ],
          [
           "GEORGE-LITTLE ROCK CMTY SD"
          ],
          [
           "GILBERT CMTY SCHOOL DISTRICT"
          ],
          [
           "GLADBROOK-REINBECK CMTY SD"
          ],
          [
           "GLENWOOD CMTY SCHOOL DISTRICT"
          ],
          [
           "GLIDDEN-RALSTON CMTY SCH DIST"
          ],
          [
           "GREENE CO CMTY SCHOOL DISTRICT"
          ],
          [
           "GRINNELL-NEWBURG CMTY SCH DIST"
          ],
          [
           "GRISWOLD CMTY SCHOOL DISTRICT"
          ],
          [
           "GRUNDY CENTER CMTY SCHOOL DIST"
          ],
          [
           "GUTHRIE CENTER CMTY SCH DIST"
          ],
          [
           "HLV CMTY SCHOOL DISTRICT"
          ],
          [
           "HAMPTON-DUMONT CMTY SCH DIST"
          ],
          [
           "HARLAN CMTY SCHOOL DISTRICT"
          ],
          [
           "HARTLEY-MELVIN-SANBORN CMTY SD"
          ],
          [
           "HIGHLAND CMTY SCHOOL DISTRICT"
          ],
          [
           "HINTON CMTY SCHOOL DISTRICT"
          ],
          [
           "HOWARD-WINNESHIEK CMTY SD"
          ],
          [
           "HUDSON CMTY SCHOOL DISTRICT"
          ],
          [
           "HUMBOLDT CMTY SCHOOL DISTRICT"
          ],
          [
           "IKM-MANNING CMTY SCHOOL DIST"
          ],
          [
           "INDEPENDENCE CMTY SCH DISTRICT"
          ],
          [
           "INDIANOLA CMTY SCHOOL DISTRICT"
          ],
          [
           "INTERSTATE 35 CMTY SCHOOL DIST"
          ],
          [
           "IOWA CITY CMTY SCHOOL DISTRICT"
          ],
          [
           "IOWA FALLS CMTY SCHOOL DIST"
          ],
          [
           "IOWA VALLEY CMTY SCH DISTRICT"
          ],
          [
           "JANESVILLE CONS SCHOOL DIST"
          ],
          [
           "JESUP CMTY SCHOOL DISTRICT"
          ],
          [
           "JOHNSTON CMTY SCHOOL DISTRICT"
          ],
          [
           "KEOKUK CMTY SCHOOL DISTRICT"
          ],
          [
           "KEOTA CMTY SCHOOL DISTRICT"
          ],
          [
           "KINGSLEY-PIERSON CMTY SCH DIST"
          ],
          [
           "KNOXVILLE CMTY SCHOOL DISTRICT"
          ],
          [
           "LAKE MILLS CMTY SCH DISTRICT"
          ],
          [
           "LAMONI CMTY SCHOOL DISTRICT"
          ],
          [
           "LAWTON-BRONSON CMTY SCH DIST"
          ],
          [
           "LE MARS CMTY SCHOOL DISTRICT"
          ],
          [
           "LENOX CMTY SCHOOL DISTRICT"
          ],
          [
           "LEWIS CENTRAL CMTY SCH DIST"
          ],
          [
           "LINN-MAR CMTY SCHOOL DISTRICT"
          ],
          [
           "LISBON CMTY SCHOOL DISTRICT"
          ],
          [
           "LOGAN-MAGNOLIA CMTY SCH DIST"
          ],
          [
           "LONE TREE CMTY SCHOOL DISTRICT"
          ],
          [
           "LOUISA-MUSCATINE CMTY SCH DIST"
          ],
          [
           "LYNNVILLE-SULLY CMTY SCH DIST"
          ],
          [
           "MFL MARMAC CMTY SCHOOL DIST"
          ],
          [
           "MOC-FLOYD VALLEY CMTY SCH DIST"
          ],
          [
           "MADRID CMTY SCHOOL DISTRICT"
          ],
          [
           "MANSON NW WEBSTER CMTY SD"
          ],
          [
           "MAPLE VALLEY ANTHON-OTO SD"
          ],
          [
           "MAQUOKETA CMTY SCHOOL DISTRICT"
          ],
          [
           "MAQUOKETA VALLEY CMTY SCH DIST"
          ],
          [
           "MARCUS-MERIDEN-CLEGHORN CSD"
          ],
          [
           "MARION IND SCHOOL DISTRICT"
          ],
          [
           "MARSHALLTOWN CMTY SCHOOL DIST"
          ],
          [
           "MARTENSDALE-ST MARYS CMTY SD"
          ],
          [
           "MASON CITY CMTY SCH DISTRICT"
          ],
          [
           "MEDIAPOLIS CMTY SCH DISTRICT"
          ],
          [
           "MID-PRAIRIE CMTY SCHOOL DIST"
          ],
          [
           "MIDLAND CMTY SCHOOL DISTRICT"
          ],
          [
           "MISSOURI VALLEY CMTY SCH DIST"
          ],
          [
           "MONTEZUMA CMTY SCHOOL DISTRICT"
          ],
          [
           "MONTICELLO CMTY SCH DISTRICT"
          ],
          [
           "MORAVIA CMTY SCHOOL DISTRICT"
          ],
          [
           "MT AYR CMTY SCHOOL DISTRICT"
          ],
          [
           "MT PLEASANT CMTY SCHOOL DIST"
          ],
          [
           "MT VERNON CMTY SCHOOL DISTRICT"
          ],
          [
           "MURRAY CMTY SCHOOL DISTRICT"
          ],
          [
           "MUSCATINE CMTY SCHOOL DISTRICT"
          ],
          [
           "NASHUA-PLAINFIELD CMTY SD"
          ],
          [
           "NEVADA CMTY SCHOOL DISTRICT"
          ],
          [
           "NEW HAMPTON CMTY SCH DISTRICT"
          ],
          [
           "NEW LONDON CMTY SCH DISTRICT"
          ],
          [
           "NEWELL-FONDA CMTY SCHOOL DIST"
          ],
          [
           "NEWTON CMTY SCHOOL DISTRICT"
          ],
          [
           "NODAWAY VALLEY CMTY SCH DIST"
          ],
          [
           "NORTH BUTLER CMTY SCH DIST"
          ],
          [
           "NORTH CEDAR CMTY SCHOOL DIST"
          ],
          [
           "NORTH FAYETTE VALLEY CMTY SD"
          ],
          [
           "NORTH IOWA CMTY SCH DISTRICT"
          ],
          [
           "NORTH-LINN CMTY SCHOOL DIST"
          ],
          [
           "NORTH MAHASKA CMTY SCH DIST"
          ],
          [
           "NORTH POLK CMTY SCHOOL DIST"
          ],
          [
           "NORTH SCOTT CMTY SCHOOL DIST"
          ],
          [
           "NORTH TAMA CO CMTY SCH DIST"
          ],
          [
           "NORTH UNION CMTY SCHOOL DIST"
          ],
          [
           "NORTHEAST CMTY SCH DISTRICT"
          ],
          [
           "NORTHWOOD-KENSETT CMTY SD"
          ],
          [
           "NORWALK CMTY SCHOOL DISTRICT"
          ],
          [
           "OABCIG CMTY SD"
          ],
          [
           "OELWEIN CMTY SCHOOL DISTRICT"
          ],
          [
           "OGDEN CMTY SCHOOL DISTRICT"
          ],
          [
           "OKOBOJI CMTY SCHOOL DISTRICT"
          ],
          [
           "OSAGE CMTY SCHOOL DISTRICT"
          ],
          [
           "OSKALOOSA CMTY SCHOOL DISTRICT"
          ],
          [
           "OTTUMWA CMTY SCHOOL DISTRICT"
          ],
          [
           "PRAIRIE CITY-MONROE CMTY SD 21"
          ],
          [
           "PANORAMA CMTY SCHOOL DISTRICT"
          ],
          [
           "PEKIN CMTY SCHOOL DISTRICT"
          ],
          [
           "PELLA CMTY SCHOOL DISTRICT"
          ],
          [
           "PERRY CMTY SCHOOL DISTRICT"
          ],
          [
           "PLEASANT VALLEY CMTY SCH DIST"
          ],
          [
           "PLEASANTVILLE CMTY SCHOOL DIST"
          ],
          [
           "POCAHONTAS AREA CMTY SCH DIST"
          ],
          [
           "POSTVILLE CMTY SCHOOL DISTRICT"
          ],
          [
           "PRAIRIE VALLEY CMTY SCH DIST"
          ],
          [
           "RED OAK CMTY SCHOOL DISTRICT"
          ],
          [
           "RIVER VALLEY SCHOOL DISTRICT"
          ],
          [
           "RIVERSIDE CMTY SCHOOL DISTRICT"
          ],
          [
           "ROCK VALLEY SCHOOL DISTRICT"
          ],
          [
           "ROLAND-STORY CMTY SCHOOL DIST"
          ],
          [
           "RUDD-ROCKFORD-MARBLE ROCK CSD"
          ],
          [
           "SAYDEL CMTY SCHOOL DISTRICT"
          ],
          [
           "SERGEANT BLUFF-LUTON CMTY SD"
          ],
          [
           "SHELDON CMTY SCHOOL DISTRICT"
          ],
          [
           "SHENANDOAH CMTY SCH DISTRICT"
          ],
          [
           "SIBLEY-OCHEYEDAN CMTY SCH DIST"
          ],
          [
           "SIDNEY CMTY SCHOOL DISTRICT"
          ],
          [
           "SIGOURNEY CMTY SCHOOL DISTRICT"
          ],
          [
           "SIOUX CENTER CMTY SCHOOL DIST"
          ],
          [
           "SIOUX CENTRAL CMTY SCHOOL DIST"
          ],
          [
           "SIOUX CITY CMTY SCHOOL DIST"
          ],
          [
           "SOLON CMTY SCHOOL DISTRICT"
          ],
          [
           "SOUTH CENTRAL CALHOUN CMTY SD"
          ],
          [
           "SOUTH HAMILTON CMTY SCH DIST"
          ],
          [
           "SOUTH O'BRIEN CMTY SCHOOL DIST"
          ],
          [
           "SOUTH TAMA CO CMTY SCHOOL DIST"
          ],
          [
           "SOUTH WINNESHIEK CMTY SCH DIST"
          ],
          [
           "SOUTHEAST POLK CMTY SCH DIST"
          ],
          [
           "SOUTHEAST WARREN CMTY SCH DIST"
          ],
          [
           "SPENCER CMTY SCHOOL DISTRICT"
          ],
          [
           "SPIRIT LAKE CMTY SCH DISTRICT"
          ],
          [
           "SPRINGVILLE CMTY SCHOOL DIST"
          ],
          [
           "ST ANSGAR CMTY SCHOOL DISTRICT"
          ],
          [
           "STARMONT CMTY SCHOOL DISTRICT"
          ],
          [
           "STORM LAKE CMTY SCH DISTRICT"
          ],
          [
           "SUMNER-FREDERICKSBURG SCHOOLS"
          ],
          [
           "TIPTON CMTY SCHOOL DISTRICT"
          ],
          [
           "TREYNOR CMTY SCHOOL DISTRICT"
          ],
          [
           "TRI-CENTER CMTY SCH DISTRICT"
          ],
          [
           "TRIPOLI CMTY SCHOOL DISTRICT"
          ],
          [
           "TURKEY VALLEY CMTY SCHOOL DIST"
          ],
          [
           "UNDERWOOD CMTY SCHOOL DISTRICT"
          ],
          [
           "UNION CMTY SCHOOL DISTRICT"
          ],
          [
           "URBANDALE CMTY SCHOOL DISTRICT"
          ],
          [
           "VAN BUREN CO CMTY SCHOOL DIST"
          ],
          [
           "VAN METER CMTY SCHOOL DISTRICT"
          ],
          [
           "VINTON-SHELLSBURG CMTY SD"
          ],
          [
           "WACO CMTY SCHOOL DISTRICT"
          ],
          [
           "WAPELLO CMTY SCHOOL DISTRICT"
          ],
          [
           "WAPSIE VALLEY CMTY SCHOOL DIST"
          ],
          [
           "WASHINGTON CMTY SCH DISTRICT"
          ],
          [
           "WATERLOO CMTY SCHOOL DISTRICT"
          ],
          [
           "WAUKEE CMTY SCHOOL DISTRICT"
          ],
          [
           "WAVERLY-SHELL ROCK CMTY SD"
          ],
          [
           "WAYNE CMTY SCHOOL DISTRICT"
          ],
          [
           "WEBSTER CITY CMTY SCHOOL DIST"
          ],
          [
           "WEST BRANCH CMTY SCH DISTRICT"
          ],
          [
           "WEST BURLINGTON IND SCH DIST"
          ],
          [
           "WEST CENTRAL VALLEY CMTY SD"
          ],
          [
           "WEST DELAWARE CO CMTY SCH DIST"
          ],
          [
           "WEST DES MOINES CMTY SCH DIST"
          ],
          [
           "WEST FORK CMTY SCHOOL DISTRICT"
          ],
          [
           "WEST HANCOCK CMTY SCH DISTRICT"
          ],
          [
           "WEST HARRISON CMTY SCHOOL DIST"
          ],
          [
           "WEST LIBERTY CMTY SCHOOL DIST"
          ],
          [
           "WEST LYON CMTY SCHOOL DISTRICT"
          ],
          [
           "WEST MARSHALL CMTY SCHOOL DIST"
          ],
          [
           "WEST MONONA CMTY SCHOOL DIST"
          ],
          [
           "WEST SIOUX CMTY SCH DISTRICT"
          ],
          [
           "WESTERN DUBUQUE CMTY SD"
          ],
          [
           "WESTWOOD CMTY SCHOOL DISTRICT"
          ],
          [
           "WILLIAMSBURG CMTY SCH DISTRICT"
          ],
          [
           "WILTON CMTY SCHOOL DISTRICT"
          ],
          [
           "WINFIELD-MT UNION CMTY SD"
          ],
          [
           "WINTERSET CMTY SCHOOL DISTRICT"
          ],
          [
           "WOODBINE CMTY SCHOOL DISTRICT"
          ],
          [
           "WOODBURY CENTRAL CMTY SCH DIST"
          ],
          [
           "WOODWARD-GRANGER CMTY SCH DIST"
          ]
         ],
         "hovertemplate": "Median Family Income=%{x}<br>Avg Comp=%{y}<br>District Name=%{customdata[0]}<br>Attendance Rate=%{marker.color}<extra></extra>",
         "legendgroup": "",
         "marker": {
          "color": [
           94.9,
           95.6,
           96.2,
           95.3,
           95.5,
           95.8,
           94.9,
           94.8,
           95.4,
           94,
           95.3,
           95.8,
           94.5,
           95.7,
           96,
           95.9,
           95.9,
           95.6,
           95.9,
           94.6,
           94.3,
           95,
           95.5,
           95.6,
           95.1,
           94.5,
           94.4,
           92,
           92.7,
           95.8,
           95.1,
           94.9,
           95.3,
           95.6,
           93,
           95.6,
           92.9,
           94.3,
           94.5,
           95.5,
           94.2,
           95.2,
           96.3,
           95.6,
           94.5,
           94,
           96.1,
           95.8,
           94.8,
           94.2,
           95.5,
           95.7,
           95.2,
           96.8,
           93.8,
           95,
           94.5,
           95,
           94.6,
           91.6,
           94.3,
           94.4,
           95.5,
           95.1,
           94.9,
           93,
           95.2,
           95.4,
           95.1,
           96.1,
           94,
           96.3,
           94.8,
           93.9,
           95.3,
           93.8,
           90.1,
           94.5,
           95.4,
           93.7,
           94.9,
           93.9,
           95.1,
           94.4,
           95.3,
           95,
           93.8,
           95.1,
           94.9,
           94.7,
           94.9,
           95,
           95,
           94,
           94.2,
           94.8,
           95.4,
           95.4,
           95.4,
           96.7,
           95.5,
           91.1,
           95.9,
           94.6,
           94.5,
           94.4,
           96.2,
           95.3,
           94.7,
           94.2,
           94.8,
           94.6,
           95.4,
           96,
           94.3,
           96,
           96.9,
           95.1,
           95.2,
           94.6,
           95.3,
           94.3,
           95.6,
           95.6,
           97.9,
           94.4,
           95.9,
           94.2,
           95.2,
           95.7,
           95.1,
           93.7,
           95.1,
           94.9,
           95.2,
           94.6,
           95.6,
           95.4,
           95.5,
           96.8,
           94.1,
           94.2,
           95.7,
           95.5,
           95.7,
           95,
           96.1,
           93.8,
           96.4,
           95.3,
           95.2,
           94.4,
           92.7,
           95.4,
           93.7,
           96.3,
           95,
           94.3,
           95.7,
           94.7,
           95.2,
           91.5,
           96.3,
           94.6,
           95.6,
           95.8,
           93.2,
           96.2,
           95.5,
           96.4,
           94.2,
           95.4,
           94.7,
           95.1,
           95.5,
           93.4,
           95.1,
           93.7,
           94.5,
           95.5,
           95.9,
           96.1,
           95.3,
           91.7,
           96,
           96.2,
           95.6,
           95.6,
           94,
           95.8,
           95.6,
           95.9,
           94.6,
           93.9,
           95.8,
           94.8,
           95,
           96.4,
           94.4,
           96.5,
           96.6,
           94.4,
           94.6,
           94,
           93.3,
           94.2,
           94.6,
           97.2,
           95.9,
           97,
           94.1,
           96.2,
           96.2,
           95.7,
           96.1,
           95.5,
           95.5,
           96.5,
           95.5,
           94.3,
           97,
           94.6,
           94.9,
           94.8,
           94.2,
           95.4,
           95.5,
           94.1,
           94.6,
           94.7,
           94.2,
           96.2,
           94.5,
           94.3,
           95.3,
           95.5,
           95.9,
           96.3,
           95.3,
           95.3,
           96.1,
           95.9,
           95.1,
           94.5,
           95.5,
           95,
           95.1,
           90.7,
           95,
           94.7,
           91,
           95.3,
           95.7,
           95.5,
           95.3,
           96,
           94.2,
           94.1,
           94.5,
           95.6,
           94.6,
           95.3,
           96.2,
           94.6,
           96.2,
           95.3,
           93.6,
           94.4,
           95.9,
           94,
           96,
           94.4,
           94.2,
           96,
           96.2,
           95.6,
           96.4
          ],
          "coloraxis": "coloraxis",
          "line": {
           "width": 1
          },
          "size": 10,
          "symbol": "circle"
         },
         "mode": "markers",
         "name": "",
         "orientation": "v",
         "showlegend": false,
         "type": "scatter",
         "x": [
          80547,
          114109,
          83947,
          89654,
          102773,
          82284,
          78705,
          86010,
          97316,
          82903,
          119431,
          82171,
          83943,
          78490,
          125833,
          102976,
          76344,
          82051,
          95300,
          69589,
          102717,
          104907,
          123551,
          95127,
          92663,
          79732,
          73942,
          72318,
          92206,
          84019,
          75542,
          115738,
          90838,
          108771,
          88764,
          103900,
          50938,
          92198,
          86719,
          96144,
          67287,
          87525,
          80714,
          86741,
          77864,
          86855,
          94542,
          72500,
          78679,
          71272,
          77604,
          79293,
          115070,
          102441,
          67964,
          92138,
          108678,
          93594,
          97604,
          83884,
          72115,
          72652,
          76685,
          114708,
          90625,
          80483,
          89340,
          93979,
          62384,
          116417,
          75488,
          102386,
          92612,
          87959,
          108882,
          64904,
          112262,
          85087,
          93900,
          86121,
          92600,
          89196,
          76806,
          76339,
          78556,
          92325,
          80395,
          80063,
          57500,
          76355,
          69569,
          67869,
          80074,
          81218,
          77381,
          90000,
          78882,
          89105,
          79219,
          133958,
          99167,
          103229,
          87167,
          81532,
          98958,
          84034,
          91293,
          91875,
          85552,
          65962,
          89318,
          72432,
          100590,
          106893,
          81500,
          121866,
          81875,
          100513,
          87614,
          104111,
          108864,
          109533,
          77462,
          82589,
          89315,
          89960,
          127877,
          65085,
          93098,
          91875,
          82987,
          88750,
          65156,
          114200,
          90192,
          72083,
          101307,
          109729,
          108804,
          100027,
          112820,
          87738,
          103693,
          80185,
          93661,
          99223,
          90923,
          85000,
          78853,
          97292,
          92474,
          80941,
          80932,
          112778,
          79352,
          99036,
          95410,
          75769,
          93013,
          78077,
          97404,
          91641,
          88536,
          79439,
          121118,
          67344,
          78462,
          74615,
          104815,
          87835,
          79766,
          94792,
          70833,
          91316,
          80625,
          82500,
          78258,
          85208,
          95921,
          86875,
          143125,
          106477,
          86354,
          70417,
          89286,
          84464,
          126795,
          82500,
          60315,
          99396,
          97829,
          86667,
          80378,
          64893,
          93859,
          91895,
          81833,
          103545,
          74353,
          140029,
          90833,
          79659,
          61250,
          85662,
          66349,
          75909,
          81875,
          91914,
          112417,
          97069,
          81292,
          110750,
          95901,
          72585,
          80718,
          73750,
          80511,
          103799,
          82159,
          81650,
          137985,
          75417,
          91574,
          90771,
          71212,
          82628,
          101722,
          97759,
          81736,
          96069,
          98466,
          93363,
          68854,
          88071,
          90156,
          88914,
          113778,
          91833,
          98315,
          85577,
          116181,
          100313,
          117176,
          70469,
          150583,
          90288,
          105000,
          82326,
          101552,
          74885,
          71304,
          149353,
          94250,
          78029,
          78125,
          98407,
          73828,
          85697,
          87868,
          115879,
          77022,
          78542,
          87778,
          95947,
          98145,
          99113,
          66667,
          91250,
          98858,
          87926,
          97539,
          95341,
          88214,
          102768,
          94375,
          115797,
          119559
         ],
         "xaxis": "x",
         "y": [
          20.9,
          23.3,
          21.1,
          21.8,
          22.6,
          21.4,
          22,
          20.7,
          25.4,
          21.7,
          24.1,
          21.3,
          22.6,
          21.6,
          23.1,
          24.1,
          20.8,
          21,
          18.9,
          22.8,
          20.8,
          23.2,
          22.6,
          18.5,
          23,
          22.3,
          20.5,
          21.5,
          21.2,
          17.2,
          19,
          19.7,
          22.8,
          24.3,
          19.9,
          22.8,
          20.7,
          21.1,
          20.4,
          20.3,
          20.6,
          23.5,
          23.3,
          21.8,
          21.2,
          19.5,
          20.8,
          21.9,
          21,
          20.6,
          20.5,
          21.8,
          22.3,
          23.6,
          19.9,
          18.6,
          22.6,
          17.5,
          22.2,
          16,
          21.4,
          20.7,
          21.6,
          21.9,
          23.1,
          18.2,
          21.1,
          24.5,
          18.4,
          23,
          16.8,
          21.5,
          22.8,
          20.4,
          20.1,
          20.4,
          20.9,
          22.8,
          22.1,
          21.1,
          20.4,
          19.2,
          23.1,
          19.9,
          19.8,
          20.3,
          19.9,
          21.3,
          22.7,
          19.5,
          20.1,
          22.3,
          23.8,
          18,
          20.7,
          19.6,
          22.6,
          21.9,
          22.1,
          24.4,
          20.3,
          21.6,
          20.6,
          21.9,
          25.3,
          20,
          22.2,
          23.1,
          20.9,
          20.3,
          21.9,
          22.4,
          20.7,
          20.9,
          21.3,
          22.1,
          21.8,
          21.6,
          21.5,
          22.2,
          21.2,
          24.7,
          19.3,
          23.3,
          22,
          22.1,
          23.8,
          20.6,
          22.9,
          22.6,
          21.6,
          22.2,
          21,
          21.6,
          22.1,
          17.4,
          20.8,
          24,
          22.7,
          19.8,
          20.9,
          20.3,
          22.2,
          19.8,
          21.6,
          22.1,
          20.5,
          20.8,
          21.1,
          23.9,
          20.7,
          22.7,
          19.7,
          20.9,
          21.1,
          22,
          22.6,
          19.1,
          21.7,
          20.8,
          22.3,
          18.6,
          20.4,
          22,
          22.2,
          19.6,
          18.7,
          21.8,
          22.8,
          21.4,
          20.8,
          18.7,
          21.3,
          21.3,
          20.5,
          20.2,
          21.1,
          19.7,
          22.1,
          20.6,
          22,
          22.5,
          19.3,
          18.5,
          17.7,
          21.7,
          21.4,
          22.9,
          20.6,
          23.6,
          21.4,
          22.2,
          20.3,
          17.2,
          22.2,
          21.4,
          20.1,
          22.9,
          16.7,
          25.2,
          21.6,
          23.1,
          20.4,
          23.6,
          19.2,
          18.8,
          20,
          20.7,
          22.9,
          20.4,
          18.9,
          21.6,
          21.1,
          20,
          20.8,
          21.5,
          21.5,
          20,
          20.2,
          18.6,
          23.4,
          20.8,
          21.9,
          22.7,
          17.9,
          22.8,
          22.4,
          21.3,
          21.7,
          22,
          20.3,
          21.7,
          20.7,
          17.4,
          20.8,
          22.4,
          22.4,
          21.2,
          22.5,
          21.6,
          22,
          21.4,
          22.3,
          23,
          22.8,
          19.4,
          20.9,
          19.7,
          22.2,
          21,
          20,
          23,
          22.5,
          18.5,
          20.6,
          21.7,
          22.5,
          19.9,
          21.2,
          21.6,
          21,
          21.2,
          18.5,
          20.2,
          22.7,
          21.5,
          20.6,
          20.2,
          22.8,
          19.8,
          21.9,
          20.1,
          20.1,
          23.9,
          23,
          22.9,
          22.8
         ],
         "yaxis": "y"
        },
        {
         "hovertemplate": "<b>OLS trendline</b><br>Avg Comp = 4.26209e-05 * Median Family Income + 17.4073<br>R<sup>2</sup>=0.180381<br><br>Median Family Income=%{x}<br>Avg Comp=%{y} <b>(trend)</b><extra></extra>",
         "legendgroup": "Overall Trendline",
         "marker": {
          "line": {
           "width": 1
          },
          "size": 10
         },
         "mode": "lines",
         "name": "Overall Trendline",
         "showlegend": true,
         "type": "scatter",
         "x": [
          50938,
          57500,
          60315,
          61250,
          62384,
          64893,
          64904,
          65085,
          65156,
          65962,
          66349,
          66667,
          67287,
          67344,
          67869,
          67964,
          68854,
          69569,
          69589,
          70417,
          70469,
          70833,
          71212,
          71272,
          71304,
          72083,
          72115,
          72318,
          72432,
          72500,
          72585,
          72652,
          73750,
          73828,
          73942,
          74353,
          74615,
          74885,
          75417,
          75488,
          75542,
          75769,
          75909,
          76339,
          76344,
          76355,
          76685,
          76806,
          77022,
          77381,
          77462,
          77604,
          77864,
          78029,
          78077,
          78125,
          78258,
          78462,
          78490,
          78542,
          78556,
          78679,
          78705,
          78853,
          78882,
          79219,
          79293,
          79352,
          79439,
          79659,
          79732,
          79766,
          80063,
          80074,
          80185,
          80378,
          80395,
          80483,
          80511,
          80547,
          80625,
          80714,
          80718,
          80932,
          80941,
          81218,
          81292,
          81500,
          81532,
          81650,
          81736,
          81833,
          81875,
          81875,
          82051,
          82159,
          82171,
          82284,
          82326,
          82500,
          82500,
          82589,
          82628,
          82903,
          82987,
          83884,
          83943,
          83947,
          84019,
          84034,
          84464,
          85000,
          85087,
          85208,
          85552,
          85577,
          85662,
          85697,
          86010,
          86121,
          86354,
          86667,
          86719,
          86741,
          86855,
          86875,
          87167,
          87525,
          87614,
          87738,
          87778,
          87835,
          87868,
          87926,
          87959,
          88071,
          88214,
          88536,
          88750,
          88764,
          88914,
          89105,
          89196,
          89286,
          89315,
          89318,
          89340,
          89654,
          89960,
          90000,
          90156,
          90192,
          90288,
          90625,
          90771,
          90833,
          90838,
          90923,
          91250,
          91293,
          91316,
          91574,
          91641,
          91833,
          91875,
          91875,
          91895,
          91914,
          92138,
          92198,
          92206,
          92325,
          92474,
          92600,
          92612,
          92663,
          93013,
          93098,
          93363,
          93594,
          93661,
          93859,
          93900,
          93979,
          94250,
          94375,
          94542,
          94792,
          95127,
          95300,
          95341,
          95410,
          95901,
          95921,
          95947,
          96069,
          96144,
          97069,
          97292,
          97316,
          97404,
          97539,
          97604,
          97759,
          97829,
          98145,
          98315,
          98407,
          98466,
          98858,
          98958,
          99036,
          99113,
          99167,
          99223,
          99396,
          100027,
          100313,
          100513,
          100590,
          101307,
          101552,
          101722,
          102386,
          102441,
          102717,
          102768,
          102773,
          102976,
          103229,
          103545,
          103693,
          103799,
          103900,
          104111,
          104815,
          104907,
          105000,
          106477,
          106893,
          108678,
          108771,
          108804,
          108864,
          108882,
          109533,
          109729,
          110750,
          112262,
          112417,
          112778,
          112820,
          113778,
          114109,
          114200,
          114708,
          115070,
          115738,
          115797,
          115879,
          116181,
          116417,
          117176,
          119431,
          119559,
          121118,
          121866,
          123551,
          125833,
          126795,
          127877,
          133958,
          137985,
          140029,
          143125,
          149353,
          150583
         ],
         "xaxis": "x",
         "y": [
          19.578326322645392,
          19.858004825849452,
          19.977982726873442,
          20.017833290801484,
          20.066165418602978,
          20.173101316886882,
          20.173570147050743,
          20.181284534292427,
          20.18431061989552,
          20.21866308462921,
          20.235157382212257,
          20.24871083604019,
          20.27513580891226,
          20.27756520157953,
          20.299941186672815,
          20.3039901744516,
          20.341922796800215,
          20.372396757451067,
          20.373249175930813,
          20.40853930099222,
          20.410755589039557,
          20.4262696053709,
          20.442422935562053,
          20.444980191001285,
          20.446344060568876,
          20.47954576035491,
          20.4809096299225,
          20.489561677491906,
          20.494420462826447,
          20.497318685657575,
          20.50094146419649,
          20.503797066103633,
          20.550594840641587,
          20.553919272712587,
          20.55877805804713,
          20.576295257805874,
          20.58746193989052,
          20.59896958936707,
          20.621643920928264,
          20.624670006531353,
          20.626971536426662,
          20.63664648617176,
          20.64261341552997,
          20.660940412844468,
          20.661153517464406,
          20.661622347628263,
          20.675687252544044,
          20.680844384346493,
          20.690050503927733,
          20.70535141563914,
          20.708803710482105,
          20.714855881688287,
          20.72593732192496,
          20.732969774382852,
          20.735015578734235,
          20.737061383085624,
          20.742729965975922,
          20.751424634469313,
          20.752618020340954,
          20.75483430838829,
          20.75543100132411,
          20.760673374974537,
          20.761781518998202,
          20.76808941574831,
          20.76932542254394,
          20.783688673927628,
          20.786842622302682,
          20.789357256817926,
          20.793065277204814,
          20.802441880482,
          20.805553207933066,
          20.80700231934863,
          20.81966073377283,
          20.820129563936693,
          20.824860486499272,
          20.833086324828802,
          20.833810880536586,
          20.83756152184746,
          20.8387549077191,
          20.84028926098264,
          20.843613693053644,
          20.847406955288506,
          20.84757743898445,
          20.856698316717715,
          20.857081905033603,
          20.86888790097806,
          20.87204184935311,
          20.88090700154245,
          20.88227087111004,
          20.887300140140532,
          20.89096553960343,
          20.89509976923019,
          20.896889848037652,
          20.896889848037652,
          20.904391130659402,
          20.90899419045002,
          20.909505641537866,
          20.914321805948422,
          20.916111884755885,
          20.92352792552966,
          20.92352792552966,
          20.92732118776452,
          20.92898340380002,
          20.940704157896505,
          20.944284315511428,
          20.982515284327956,
          20.9850299188432,
          20.98520040253915,
          20.988269109066227,
          20.988908422926038,
          21.007235420240534,
          21.030080235497678,
          21.033788255884566,
          21.03894538768702,
          21.053606985538618,
          21.054672508638298,
          21.05829528717721,
          21.05978701951676,
          21.07312736872476,
          21.07785829128734,
          21.08778896657636,
          21.101129315784355,
          21.10334560383169,
          21.10428326415941,
          21.10914204949395,
          21.109994467973696,
          21.12243977777796,
          21.13769806856538,
          21.141491330800243,
          21.146776325374656,
          21.148481162334143,
          21.150910555001413,
          21.152317045492993,
          21.15478905908425,
          21.156195549575827,
          21.160969093062395,
          21.167063885192565,
          21.180787822716447,
          21.18990870044971,
          21.190505393385532,
          21.196898531983614,
          21.205039128465167,
          21.208917632548005,
          21.212753515706854,
          21.213989522502484,
          21.214117385274445,
          21.215055045602163,
          21.228438015734145,
          21.24148001847423,
          21.24318485543372,
          21.249833719575726,
          21.251368072839263,
          21.255459681542035,
          21.269822932925724,
          21.27604558782786,
          21.278688085115064,
          21.278901189735002,
          21.282523968273914,
          21.29646101041773,
          21.29829371014918,
          21.299273991400888,
          21.310270189789584,
          21.313125791696727,
          21.321309009102272,
          21.323099087909736,
          21.323099087909736,
          21.32395150638948,
          21.324761303945238,
          21.33430839091837,
          21.336865646357605,
          21.3372066137495,
          21.34227850370398,
          21.348629021378073,
          21.35399925780046,
          21.35451070888831,
          21.356684376011657,
          21.37160169940718,
          21.37522447794609,
          21.386519022802702,
          21.396364456243745,
          21.39922005815089,
          21.407659001100356,
          21.40940645898383,
          21.41277351197882,
          21.424323782379354,
          21.429651397877755,
          21.43676909218362,
          21.44742432318042,
          21.461702332716136,
          21.469075752565924,
          21.4708232104494,
          21.473764054204516,
          21.494690927882235,
          21.49554334636198,
          21.49665149038565,
          21.501851243112085,
          21.505047812411128,
          21.544472167099293,
          21.553976633148444,
          21.554999535324136,
          21.55875017663501,
          21.564504001373283,
          21.567274361432453,
          21.57388060465047,
          21.576864069329574,
          21.590332281309532,
          21.597577838387355,
          21.601498963394178,
          21.604013597909425,
          21.62072100011241,
          21.62498309251113,
          21.628307524582134,
          21.63158933572915,
          21.63389086562446,
          21.63627763736774,
          21.64365105721753,
          21.670544860253457,
          21.682734444513798,
          21.69125862931124,
          21.694540440458255,
          21.725099642957083,
          21.73554176933395,
          21.742787326411776,
          21.77108761993928,
          21.773431770758577,
          21.78519514577905,
          21.787368812902393,
          21.78758191752233,
          21.796233965091734,
          21.8070170588605,
          21.820485270840457,
          21.826793167590562,
          21.831310985533207,
          21.835615698855914,
          21.844608713817216,
          21.87461384430421,
          21.878534969311033,
          21.882498715241844,
          21.94544981997095,
          21.963180124349627,
          22.039258473666795,
          22.043222219597606,
          22.044628710089185,
          22.047185965528417,
          22.047953142160186,
          22.07569936367586,
          22.08405306477735,
          22.12756902816829,
          22.19201186523695,
          22.198618108454966,
          22.21400426201435,
          22.215794340821812,
          22.256625186001557,
          22.270732711841323,
          22.27461121592416,
          22.29626264530966,
          22.31169141979303,
          22.340162197016486,
          22.34267683153173,
          22.346171747298683,
          22.35904326634282,
          22.369101804403797,
          22.40145108571009,
          22.497561269301244,
          22.503016747571607,
          22.569462768067666,
          22.601343219210097,
          22.673159476128543,
          22.770420424667353,
          22.811421753543048,
          22.857537593297206,
          23.11671543206342,
          23.288349892959907,
          23.37546706158976,
          23.507421442254156,
          23.77286455684649,
          23.825288293350756
         ],
         "yaxis": "y"
        }
       ],
       "layout": {
        "coloraxis": {
         "cmax": 98,
         "cmin": 90,
         "colorbar": {
          "title": {
           "text": "Attendance Rate"
          }
         },
         "colorscale": [
          [
           0,
           "rgb(211, 242, 163)"
          ],
          [
           0.16666666666666666,
           "rgb(151, 225, 150)"
          ],
          [
           0.3333333333333333,
           "rgb(108, 192, 139)"
          ],
          [
           0.5,
           "rgb(76, 155, 130)"
          ],
          [
           0.6666666666666666,
           "rgb(33, 122, 121)"
          ],
          [
           0.8333333333333334,
           "rgb(16, 89, 101)"
          ],
          [
           1,
           "rgb(7, 64, 80)"
          ]
         ]
        },
        "legend": {
         "orientation": "h",
         "tracegroupgap": 0
        },
        "margin": {
         "t": 60
        },
        "template": {
         "data": {
          "bar": [
           {
            "error_x": {
             "color": "#2a3f5f"
            },
            "error_y": {
             "color": "#2a3f5f"
            },
            "marker": {
             "line": {
              "color": "#E5ECF6",
              "width": 0.5
             },
             "pattern": {
              "fillmode": "overlay",
              "size": 10,
              "solidity": 0.2
             }
            },
            "type": "bar"
           }
          ],
          "barpolar": [
           {
            "marker": {
             "line": {
              "color": "#E5ECF6",
              "width": 0.5
             },
             "pattern": {
              "fillmode": "overlay",
              "size": 10,
              "solidity": 0.2
             }
            },
            "type": "barpolar"
           }
          ],
          "carpet": [
           {
            "aaxis": {
             "endlinecolor": "#2a3f5f",
             "gridcolor": "white",
             "linecolor": "white",
             "minorgridcolor": "white",
             "startlinecolor": "#2a3f5f"
            },
            "baxis": {
             "endlinecolor": "#2a3f5f",
             "gridcolor": "white",
             "linecolor": "white",
             "minorgridcolor": "white",
             "startlinecolor": "#2a3f5f"
            },
            "type": "carpet"
           }
          ],
          "choropleth": [
           {
            "colorbar": {
             "outlinewidth": 0,
             "ticks": ""
            },
            "type": "choropleth"
           }
          ],
          "contour": [
           {
            "colorbar": {
             "outlinewidth": 0,
             "ticks": ""
            },
            "colorscale": [
             [
              0,
              "#0d0887"
             ],
             [
              0.1111111111111111,
              "#46039f"
             ],
             [
              0.2222222222222222,
              "#7201a8"
             ],
             [
              0.3333333333333333,
              "#9c179e"
             ],
             [
              0.4444444444444444,
              "#bd3786"
             ],
             [
              0.5555555555555556,
              "#d8576b"
             ],
             [
              0.6666666666666666,
              "#ed7953"
             ],
             [
              0.7777777777777778,
              "#fb9f3a"
             ],
             [
              0.8888888888888888,
              "#fdca26"
             ],
             [
              1,
              "#f0f921"
             ]
            ],
            "type": "contour"
           }
          ],
          "contourcarpet": [
           {
            "colorbar": {
             "outlinewidth": 0,
             "ticks": ""
            },
            "type": "contourcarpet"
           }
          ],
          "heatmap": [
           {
            "colorbar": {
             "outlinewidth": 0,
             "ticks": ""
            },
            "colorscale": [
             [
              0,
              "#0d0887"
             ],
             [
              0.1111111111111111,
              "#46039f"
             ],
             [
              0.2222222222222222,
              "#7201a8"
             ],
             [
              0.3333333333333333,
              "#9c179e"
             ],
             [
              0.4444444444444444,
              "#bd3786"
             ],
             [
              0.5555555555555556,
              "#d8576b"
             ],
             [
              0.6666666666666666,
              "#ed7953"
             ],
             [
              0.7777777777777778,
              "#fb9f3a"
             ],
             [
              0.8888888888888888,
              "#fdca26"
             ],
             [
              1,
              "#f0f921"
             ]
            ],
            "type": "heatmap"
           }
          ],
          "heatmapgl": [
           {
            "colorbar": {
             "outlinewidth": 0,
             "ticks": ""
            },
            "colorscale": [
             [
              0,
              "#0d0887"
             ],
             [
              0.1111111111111111,
              "#46039f"
             ],
             [
              0.2222222222222222,
              "#7201a8"
             ],
             [
              0.3333333333333333,
              "#9c179e"
             ],
             [
              0.4444444444444444,
              "#bd3786"
             ],
             [
              0.5555555555555556,
              "#d8576b"
             ],
             [
              0.6666666666666666,
              "#ed7953"
             ],
             [
              0.7777777777777778,
              "#fb9f3a"
             ],
             [
              0.8888888888888888,
              "#fdca26"
             ],
             [
              1,
              "#f0f921"
             ]
            ],
            "type": "heatmapgl"
           }
          ],
          "histogram": [
           {
            "marker": {
             "pattern": {
              "fillmode": "overlay",
              "size": 10,
              "solidity": 0.2
             }
            },
            "type": "histogram"
           }
          ],
          "histogram2d": [
           {
            "colorbar": {
             "outlinewidth": 0,
             "ticks": ""
            },
            "colorscale": [
             [
              0,
              "#0d0887"
             ],
             [
              0.1111111111111111,
              "#46039f"
             ],
             [
              0.2222222222222222,
              "#7201a8"
             ],
             [
              0.3333333333333333,
              "#9c179e"
             ],
             [
              0.4444444444444444,
              "#bd3786"
             ],
             [
              0.5555555555555556,
              "#d8576b"
             ],
             [
              0.6666666666666666,
              "#ed7953"
             ],
             [
              0.7777777777777778,
              "#fb9f3a"
             ],
             [
              0.8888888888888888,
              "#fdca26"
             ],
             [
              1,
              "#f0f921"
             ]
            ],
            "type": "histogram2d"
           }
          ],
          "histogram2dcontour": [
           {
            "colorbar": {
             "outlinewidth": 0,
             "ticks": ""
            },
            "colorscale": [
             [
              0,
              "#0d0887"
             ],
             [
              0.1111111111111111,
              "#46039f"
             ],
             [
              0.2222222222222222,
              "#7201a8"
             ],
             [
              0.3333333333333333,
              "#9c179e"
             ],
             [
              0.4444444444444444,
              "#bd3786"
             ],
             [
              0.5555555555555556,
              "#d8576b"
             ],
             [
              0.6666666666666666,
              "#ed7953"
             ],
             [
              0.7777777777777778,
              "#fb9f3a"
             ],
             [
              0.8888888888888888,
              "#fdca26"
             ],
             [
              1,
              "#f0f921"
             ]
            ],
            "type": "histogram2dcontour"
           }
          ],
          "mesh3d": [
           {
            "colorbar": {
             "outlinewidth": 0,
             "ticks": ""
            },
            "type": "mesh3d"
           }
          ],
          "parcoords": [
           {
            "line": {
             "colorbar": {
              "outlinewidth": 0,
              "ticks": ""
             }
            },
            "type": "parcoords"
           }
          ],
          "pie": [
           {
            "automargin": true,
            "type": "pie"
           }
          ],
          "scatter": [
           {
            "fillpattern": {
             "fillmode": "overlay",
             "size": 10,
             "solidity": 0.2
            },
            "type": "scatter"
           }
          ],
          "scatter3d": [
           {
            "line": {
             "colorbar": {
              "outlinewidth": 0,
              "ticks": ""
             }
            },
            "marker": {
             "colorbar": {
              "outlinewidth": 0,
              "ticks": ""
             }
            },
            "type": "scatter3d"
           }
          ],
          "scattercarpet": [
           {
            "marker": {
             "colorbar": {
              "outlinewidth": 0,
              "ticks": ""
             }
            },
            "type": "scattercarpet"
           }
          ],
          "scattergeo": [
           {
            "marker": {
             "colorbar": {
              "outlinewidth": 0,
              "ticks": ""
             }
            },
            "type": "scattergeo"
           }
          ],
          "scattergl": [
           {
            "marker": {
             "colorbar": {
              "outlinewidth": 0,
              "ticks": ""
             }
            },
            "type": "scattergl"
           }
          ],
          "scattermapbox": [
           {
            "marker": {
             "colorbar": {
              "outlinewidth": 0,
              "ticks": ""
             }
            },
            "type": "scattermapbox"
           }
          ],
          "scatterpolar": [
           {
            "marker": {
             "colorbar": {
              "outlinewidth": 0,
              "ticks": ""
             }
            },
            "type": "scatterpolar"
           }
          ],
          "scatterpolargl": [
           {
            "marker": {
             "colorbar": {
              "outlinewidth": 0,
              "ticks": ""
             }
            },
            "type": "scatterpolargl"
           }
          ],
          "scatterternary": [
           {
            "marker": {
             "colorbar": {
              "outlinewidth": 0,
              "ticks": ""
             }
            },
            "type": "scatterternary"
           }
          ],
          "surface": [
           {
            "colorbar": {
             "outlinewidth": 0,
             "ticks": ""
            },
            "colorscale": [
             [
              0,
              "#0d0887"
             ],
             [
              0.1111111111111111,
              "#46039f"
             ],
             [
              0.2222222222222222,
              "#7201a8"
             ],
             [
              0.3333333333333333,
              "#9c179e"
             ],
             [
              0.4444444444444444,
              "#bd3786"
             ],
             [
              0.5555555555555556,
              "#d8576b"
             ],
             [
              0.6666666666666666,
              "#ed7953"
             ],
             [
              0.7777777777777778,
              "#fb9f3a"
             ],
             [
              0.8888888888888888,
              "#fdca26"
             ],
             [
              1,
              "#f0f921"
             ]
            ],
            "type": "surface"
           }
          ],
          "table": [
           {
            "cells": {
             "fill": {
              "color": "#EBF0F8"
             },
             "line": {
              "color": "white"
             }
            },
            "header": {
             "fill": {
              "color": "#C8D4E3"
             },
             "line": {
              "color": "white"
             }
            },
            "type": "table"
           }
          ]
         },
         "layout": {
          "annotationdefaults": {
           "arrowcolor": "#2a3f5f",
           "arrowhead": 0,
           "arrowwidth": 1
          },
          "autotypenumbers": "strict",
          "coloraxis": {
           "colorbar": {
            "outlinewidth": 0,
            "ticks": ""
           }
          },
          "colorscale": {
           "diverging": [
            [
             0,
             "#8e0152"
            ],
            [
             0.1,
             "#c51b7d"
            ],
            [
             0.2,
             "#de77ae"
            ],
            [
             0.3,
             "#f1b6da"
            ],
            [
             0.4,
             "#fde0ef"
            ],
            [
             0.5,
             "#f7f7f7"
            ],
            [
             0.6,
             "#e6f5d0"
            ],
            [
             0.7,
             "#b8e186"
            ],
            [
             0.8,
             "#7fbc41"
            ],
            [
             0.9,
             "#4d9221"
            ],
            [
             1,
             "#276419"
            ]
           ],
           "sequential": [
            [
             0,
             "#0d0887"
            ],
            [
             0.1111111111111111,
             "#46039f"
            ],
            [
             0.2222222222222222,
             "#7201a8"
            ],
            [
             0.3333333333333333,
             "#9c179e"
            ],
            [
             0.4444444444444444,
             "#bd3786"
            ],
            [
             0.5555555555555556,
             "#d8576b"
            ],
            [
             0.6666666666666666,
             "#ed7953"
            ],
            [
             0.7777777777777778,
             "#fb9f3a"
            ],
            [
             0.8888888888888888,
             "#fdca26"
            ],
            [
             1,
             "#f0f921"
            ]
           ],
           "sequentialminus": [
            [
             0,
             "#0d0887"
            ],
            [
             0.1111111111111111,
             "#46039f"
            ],
            [
             0.2222222222222222,
             "#7201a8"
            ],
            [
             0.3333333333333333,
             "#9c179e"
            ],
            [
             0.4444444444444444,
             "#bd3786"
            ],
            [
             0.5555555555555556,
             "#d8576b"
            ],
            [
             0.6666666666666666,
             "#ed7953"
            ],
            [
             0.7777777777777778,
             "#fb9f3a"
            ],
            [
             0.8888888888888888,
             "#fdca26"
            ],
            [
             1,
             "#f0f921"
            ]
           ]
          },
          "colorway": [
           "#636efa",
           "#EF553B",
           "#00cc96",
           "#ab63fa",
           "#FFA15A",
           "#19d3f3",
           "#FF6692",
           "#B6E880",
           "#FF97FF",
           "#FECB52"
          ],
          "font": {
           "color": "#2a3f5f"
          },
          "geo": {
           "bgcolor": "white",
           "lakecolor": "white",
           "landcolor": "#E5ECF6",
           "showlakes": true,
           "showland": true,
           "subunitcolor": "white"
          },
          "hoverlabel": {
           "align": "left"
          },
          "hovermode": "closest",
          "mapbox": {
           "style": "light"
          },
          "paper_bgcolor": "white",
          "plot_bgcolor": "#E5ECF6",
          "polar": {
           "angularaxis": {
            "gridcolor": "white",
            "linecolor": "white",
            "ticks": ""
           },
           "bgcolor": "#E5ECF6",
           "radialaxis": {
            "gridcolor": "white",
            "linecolor": "white",
            "ticks": ""
           }
          },
          "scene": {
           "xaxis": {
            "backgroundcolor": "#E5ECF6",
            "gridcolor": "white",
            "gridwidth": 2,
            "linecolor": "white",
            "showbackground": true,
            "ticks": "",
            "zerolinecolor": "white"
           },
           "yaxis": {
            "backgroundcolor": "#E5ECF6",
            "gridcolor": "white",
            "gridwidth": 2,
            "linecolor": "white",
            "showbackground": true,
            "ticks": "",
            "zerolinecolor": "white"
           },
           "zaxis": {
            "backgroundcolor": "#E5ECF6",
            "gridcolor": "white",
            "gridwidth": 2,
            "linecolor": "white",
            "showbackground": true,
            "ticks": "",
            "zerolinecolor": "white"
           }
          },
          "shapedefaults": {
           "line": {
            "color": "#2a3f5f"
           }
          },
          "ternary": {
           "aaxis": {
            "gridcolor": "white",
            "linecolor": "white",
            "ticks": ""
           },
           "baxis": {
            "gridcolor": "white",
            "linecolor": "white",
            "ticks": ""
           },
           "bgcolor": "#E5ECF6",
           "caxis": {
            "gridcolor": "white",
            "linecolor": "white",
            "ticks": ""
           }
          },
          "title": {
           "x": 0.05
          },
          "xaxis": {
           "automargin": true,
           "gridcolor": "white",
           "linecolor": "white",
           "ticks": "",
           "title": {
            "standoff": 15
           },
           "zerolinecolor": "white",
           "zerolinewidth": 2
          },
          "yaxis": {
           "automargin": true,
           "gridcolor": "white",
           "linecolor": "white",
           "ticks": "",
           "title": {
            "standoff": 15
           },
           "zerolinecolor": "white",
           "zerolinewidth": 2
          }
         }
        },
        "title": {
         "text": "Income Effect on Composite ACT Score 2019 in 300 Iowa Districts"
        },
        "xaxis": {
         "anchor": "y",
         "domain": [
          0,
          1
         ],
         "title": {
          "text": "Median Family Income"
         }
        },
        "yaxis": {
         "anchor": "x",
         "domain": [
          0,
          1
         ],
         "title": {
          "text": "Avergage Composite ACT Score"
         }
        }
       }
      }
     },
     "metadata": {},
     "output_type": "display_data"
    }
   ],
   "source": [
    "\n",
    "fig = px.scatter(df7, x=\"Median Family Income\", color= \"Attendance Rate\", y=\"Avg Comp\", hover_data=\"District Name\",\n",
    "trendline=\"ols\", trendline_scope=\"overall\",color_continuous_scale=px.colors.sequential.Emrld, range_color=[90,98])\n",
    "fig.update_layout(legend_orientation=\"h\", title=\"Income Effect on Composite ACT Score 2019 in 300 Iowa Districts\")\n",
    "fig.update_traces(marker=dict(size=10,line=dict(width=1)))\n",
    "fig.update_xaxes(title=\"Median Family Income\")\n",
    "fig.update_yaxes(title=\"Avergage Composite ACT Score\") \n",
    "fig.show()"
   ]
  },
  {
   "cell_type": "code",
   "execution_count": 11,
   "metadata": {},
   "outputs": [
    {
     "data": {
      "application/vnd.plotly.v1+json": {
       "config": {
        "plotlyServerURL": "https://plot.ly"
       },
       "data": [
        {
         "customdata": [
          [
           "AGWSR CMTY SCHOOL DISTRICT"
          ],
          [
           "ADEL-DE SOTO-MINBURN CMTY SD"
          ],
          [
           "AKRON WESTFIELD CMTY SCH DIST"
          ],
          [
           "ALBIA CMTY SCHOOL DISTRICT"
          ],
          [
           "ALBURNETT CMTY SCHOOL DISTRICT"
          ],
          [
           "ALGONA CMTY SCHOOL DISTRICT"
          ],
          [
           "ALLAMAKEE CMTY SCHOOL DISTRICT"
          ],
          [
           "ALTA-AURELIA CMTY SCHOOLS"
          ],
          [
           "AMES CMTY SCHOOL DISTRICT"
          ],
          [
           "ANAMOSA CMTY SCHOOL DISTRICT"
          ],
          [
           "ANKENY CMTY SCHOOL DISTRICT"
          ],
          [
           "APLINGTON-PARKERSBURG SD"
          ],
          [
           "ATLANTIC CMTY SCHOOL DISTRICT"
          ],
          [
           "AUDUBON CMTY SCHOOL DISTRICT"
          ],
          [
           "BALLARD CMTY SCHOOL DISTRICT"
          ],
          [
           "BAXTER CMTY SCHOOL DISTRICT"
          ],
          [
           "BEDFORD CMTY SCHOOL DISTRICT"
          ],
          [
           "BELLE PLAINE CMTY SCHOOL DIST"
          ],
          [
           "BELLEVUE CMTY SCHOOL DISTRICT"
          ],
          [
           "BELMOND-KLEMME CMTY SCH DIST"
          ],
          [
           "BENTON CMTY SCHOOL DISTRICT"
          ],
          [
           "BETTENDORF CMTY SCHOOL DIST"
          ],
          [
           "BONDURANT-FARRAR CMTY SCH DIST"
          ],
          [
           "BOONE CMTY SCHOOL DISTRICT"
          ],
          [
           "BOYDEN-HULL CMTY SCH DISTRICT"
          ],
          [
           "BOYER VALLEY CMTY SCH DISTRICT"
          ],
          [
           "BROOKLYN-GUERNSEY-MALCOM CSD"
          ],
          [
           "BURLINGTON CMTY SCHOOL DIST"
          ],
          [
           "CAM CMTY SCHOOL DISTRICT"
          ],
          [
           "CAMANCHE CMTY SCHOOL DISTRICT"
          ],
          [
           "CARDINAL CMTY SCHOOL DISTRICT"
          ],
          [
           "CARLISLE CMTY SCHOOL DISTRICT"
          ],
          [
           "CARROLL CMTY SCHOOL DISTRICT"
          ],
          [
           "CEDAR FALLS CMTY SCH DISTRICT"
          ],
          [
           "CEDAR RAPIDS CMTY SCHOOL DIST"
          ],
          [
           "CENTER POINT-URBANA CMTY SD"
          ],
          [
           "CENTERVILLE CMTY SCHOOL DIST"
          ],
          [
           "CENTRAL CITY CMTY SCH DIST"
          ],
          [
           "CENTRAL CMTY SCHOOL DISTRICT"
          ],
          [
           "CENTRAL DEWITT CMTY SCH DIST"
          ],
          [
           "CENTRAL DECATUR CMTY SCH DIST"
          ],
          [
           "CENTRAL LEE CMTY SCHOOL DIST"
          ],
          [
           "CENTRAL LYON CMTY SCHOOL DIST"
          ],
          [
           "CENTRAL SPRINGS CMTY SCH DIST"
          ],
          [
           "CHARITON CMTY SCHOOL DISTRICT"
          ],
          [
           "CHARLES CITY CMTY SCH DISTRICT"
          ],
          [
           "CHEROKEE CMTY SCHOOL DISTRICT"
          ],
          [
           "CLARINDA CMTY SCHOOL DISTRICT"
          ],
          [
           "CLARION-GOLDFIELD-DOWS CMTY SD"
          ],
          [
           "CLARKE CMTY SCHOOL DISTRICT"
          ],
          [
           "CLARKSVILLE CMTY SCHOOL DIST"
          ],
          [
           "CLAYTON RIDGE CMTY SCH DIST"
          ],
          [
           "CLEAR CREEK AMANA CMTY SD"
          ],
          [
           "CLEAR LAKE CMTY SCH DISTRICT"
          ],
          [
           "CLINTON CMTY SCHOOL DISTRICT"
          ],
          [
           "COLFAX-MINGO CMTY SCH DIST"
          ],
          [
           "COLLEGE CMTY SCHOOL DISTRICT"
          ],
          [
           "COLLINS-MAXWELL CMTY SCH DIST"
          ],
          [
           "COLO-NESCO CMTY SCHOOL DIST"
          ],
          [
           "COLUMBUS CMTY SCHOOL DISTRICT"
          ],
          [
           "COON RAPIDS-BAYARD CMTY SD"
          ],
          [
           "COUNCIL BLUFFS CMTY SCH DIST"
          ],
          [
           "CRESTON CMTY SCHOOL DISTRICT"
          ],
          [
           "DALLAS CENTER GRIMES CMTY SD"
          ],
          [
           "DANVILLE CMTY SCHOOL DISTRICT"
          ],
          [
           "DAVENPORT CMTY SCHOOL DISTRICT"
          ],
          [
           "DAVIS CO CMTY SCHOOL DISTRICT"
          ],
          [
           "DECORAH CMTY SCHOOL DISTRICT"
          ],
          [
           "DENISON CMTY SCHOOL DISTRICT"
          ],
          [
           "DENVER CMTY SCHOOL DISTRICT"
          ],
          [
           "DES MOINES PUBLIC SCHOOL DIST"
          ],
          [
           "DIKE-NEW HARTFORD CMTY SD"
          ],
          [
           "DUBUQUE CMTY SCHOOL DISTRICT"
          ],
          [
           "DUNKERTON CMTY SCH DISTRICT"
          ],
          [
           "DURANT CMTY SCHOOL DISTRICT"
          ],
          [
           "EAGLE GROVE CMTY SCHOOL DIST"
          ],
          [
           "EARLHAM CMTY SCHOOL DISTRICT"
          ],
          [
           "EAST BUCHANAN CMTY SCH DIST"
          ],
          [
           "EAST MARSHALL CMTY SCHOOL DIST"
          ],
          [
           "EAST MILLS CMTY SCHOOL DIST"
          ],
          [
           "EAST SAC CO CMTY SCHOOL DIST"
          ],
          [
           "EAST UNION CMTY SCHOOL DIST"
          ],
          [
           "EASTERN ALLAMAKEE CMTY SD"
          ],
          [
           "EASTON VALLEY CMTY SCHOOL DIST"
          ],
          [
           "EDDYVLL-BLKSBRG-FREMNT CMTY SD"
          ],
          [
           "EDGEWOOD COLESBURG CMTY SD"
          ],
          [
           "ELDORA-NEW PROVIDENCE CMTY SD"
          ],
          [
           "EMMETSBURG CMTY SCH DIST"
          ],
          [
           "ENGLISH VALLEYS CMTY SCH DIST"
          ],
          [
           "ESTHERVILLE LINCOLN CTL CMSD"
          ],
          [
           "EXIRA-ELK HORN-KIMBALLTON SD"
          ],
          [
           "FAIRFIELD CMTY SCHOOL DISTRICT"
          ],
          [
           "FOREST CITY CMTY SCHOOL DIST"
          ],
          [
           "FT DODGE CMTY SCHOOL DIST"
          ],
          [
           "FT MADISON CMTY SCHOOL DIST"
          ],
          [
           "FREMONT-MILLS CMTY SCH DIST"
          ],
          [
           "GALVA-HOLSTEIN CMTY SCH DIST"
          ],
          [
           "GARNER-HAYFIELD-VENTURA CSD"
          ],
          [
           "GEORGE-LITTLE ROCK CMTY SD"
          ],
          [
           "GILBERT CMTY SCHOOL DISTRICT"
          ],
          [
           "GLADBROOK-REINBECK CMTY SD"
          ],
          [
           "GLENWOOD CMTY SCHOOL DISTRICT"
          ],
          [
           "GLIDDEN-RALSTON CMTY SCH DIST"
          ],
          [
           "GREENE CO CMTY SCHOOL DISTRICT"
          ],
          [
           "GRINNELL-NEWBURG CMTY SCH DIST"
          ],
          [
           "GRISWOLD CMTY SCHOOL DISTRICT"
          ],
          [
           "GRUNDY CENTER CMTY SCHOOL DIST"
          ],
          [
           "GUTHRIE CENTER CMTY SCH DIST"
          ],
          [
           "HLV CMTY SCHOOL DISTRICT"
          ],
          [
           "HAMPTON-DUMONT CMTY SCH DIST"
          ],
          [
           "HARLAN CMTY SCHOOL DISTRICT"
          ],
          [
           "HARTLEY-MELVIN-SANBORN CMTY SD"
          ],
          [
           "HIGHLAND CMTY SCHOOL DISTRICT"
          ],
          [
           "HINTON CMTY SCHOOL DISTRICT"
          ],
          [
           "HOWARD-WINNESHIEK CMTY SD"
          ],
          [
           "HUDSON CMTY SCHOOL DISTRICT"
          ],
          [
           "HUMBOLDT CMTY SCHOOL DISTRICT"
          ],
          [
           "IKM-MANNING CMTY SCHOOL DIST"
          ],
          [
           "INDEPENDENCE CMTY SCH DISTRICT"
          ],
          [
           "INDIANOLA CMTY SCHOOL DISTRICT"
          ],
          [
           "INTERSTATE 35 CMTY SCHOOL DIST"
          ],
          [
           "IOWA CITY CMTY SCHOOL DISTRICT"
          ],
          [
           "IOWA FALLS CMTY SCHOOL DIST"
          ],
          [
           "IOWA VALLEY CMTY SCH DISTRICT"
          ],
          [
           "JANESVILLE CONS SCHOOL DIST"
          ],
          [
           "JESUP CMTY SCHOOL DISTRICT"
          ],
          [
           "JOHNSTON CMTY SCHOOL DISTRICT"
          ],
          [
           "KEOKUK CMTY SCHOOL DISTRICT"
          ],
          [
           "KEOTA CMTY SCHOOL DISTRICT"
          ],
          [
           "KINGSLEY-PIERSON CMTY SCH DIST"
          ],
          [
           "KNOXVILLE CMTY SCHOOL DISTRICT"
          ],
          [
           "LAKE MILLS CMTY SCH DISTRICT"
          ],
          [
           "LAMONI CMTY SCHOOL DISTRICT"
          ],
          [
           "LAWTON-BRONSON CMTY SCH DIST"
          ],
          [
           "LE MARS CMTY SCHOOL DISTRICT"
          ],
          [
           "LENOX CMTY SCHOOL DISTRICT"
          ],
          [
           "LEWIS CENTRAL CMTY SCH DIST"
          ],
          [
           "LINN-MAR CMTY SCHOOL DISTRICT"
          ],
          [
           "LISBON CMTY SCHOOL DISTRICT"
          ],
          [
           "LOGAN-MAGNOLIA CMTY SCH DIST"
          ],
          [
           "LONE TREE CMTY SCHOOL DISTRICT"
          ],
          [
           "LOUISA-MUSCATINE CMTY SCH DIST"
          ],
          [
           "LYNNVILLE-SULLY CMTY SCH DIST"
          ],
          [
           "MFL MARMAC CMTY SCHOOL DIST"
          ],
          [
           "MOC-FLOYD VALLEY CMTY SCH DIST"
          ],
          [
           "MADRID CMTY SCHOOL DISTRICT"
          ],
          [
           "MANSON NW WEBSTER CMTY SD"
          ],
          [
           "MAPLE VALLEY ANTHON-OTO SD"
          ],
          [
           "MAQUOKETA CMTY SCHOOL DISTRICT"
          ],
          [
           "MAQUOKETA VALLEY CMTY SCH DIST"
          ],
          [
           "MARCUS-MERIDEN-CLEGHORN CSD"
          ],
          [
           "MARION IND SCHOOL DISTRICT"
          ],
          [
           "MARSHALLTOWN CMTY SCHOOL DIST"
          ],
          [
           "MARTENSDALE-ST MARYS CMTY SD"
          ],
          [
           "MASON CITY CMTY SCH DISTRICT"
          ],
          [
           "MEDIAPOLIS CMTY SCH DISTRICT"
          ],
          [
           "MID-PRAIRIE CMTY SCHOOL DIST"
          ],
          [
           "MIDLAND CMTY SCHOOL DISTRICT"
          ],
          [
           "MISSOURI VALLEY CMTY SCH DIST"
          ],
          [
           "MONTEZUMA CMTY SCHOOL DISTRICT"
          ],
          [
           "MONTICELLO CMTY SCH DISTRICT"
          ],
          [
           "MORAVIA CMTY SCHOOL DISTRICT"
          ],
          [
           "MT AYR CMTY SCHOOL DISTRICT"
          ],
          [
           "MT PLEASANT CMTY SCHOOL DIST"
          ],
          [
           "MT VERNON CMTY SCHOOL DISTRICT"
          ],
          [
           "MURRAY CMTY SCHOOL DISTRICT"
          ],
          [
           "MUSCATINE CMTY SCHOOL DISTRICT"
          ],
          [
           "NASHUA-PLAINFIELD CMTY SD"
          ],
          [
           "NEVADA CMTY SCHOOL DISTRICT"
          ],
          [
           "NEW HAMPTON CMTY SCH DISTRICT"
          ],
          [
           "NEW LONDON CMTY SCH DISTRICT"
          ],
          [
           "NEWELL-FONDA CMTY SCHOOL DIST"
          ],
          [
           "NEWTON CMTY SCHOOL DISTRICT"
          ],
          [
           "NODAWAY VALLEY CMTY SCH DIST"
          ],
          [
           "NORTH BUTLER CMTY SCH DIST"
          ],
          [
           "NORTH CEDAR CMTY SCHOOL DIST"
          ],
          [
           "NORTH FAYETTE VALLEY CMTY SD"
          ],
          [
           "NORTH IOWA CMTY SCH DISTRICT"
          ],
          [
           "NORTH-LINN CMTY SCHOOL DIST"
          ],
          [
           "NORTH MAHASKA CMTY SCH DIST"
          ],
          [
           "NORTH POLK CMTY SCHOOL DIST"
          ],
          [
           "NORTH SCOTT CMTY SCHOOL DIST"
          ],
          [
           "NORTH TAMA CO CMTY SCH DIST"
          ],
          [
           "NORTH UNION CMTY SCHOOL DIST"
          ],
          [
           "NORTHEAST CMTY SCH DISTRICT"
          ],
          [
           "NORTHWOOD-KENSETT CMTY SD"
          ],
          [
           "NORWALK CMTY SCHOOL DISTRICT"
          ],
          [
           "OABCIG CMTY SD"
          ],
          [
           "OELWEIN CMTY SCHOOL DISTRICT"
          ],
          [
           "OGDEN CMTY SCHOOL DISTRICT"
          ],
          [
           "OKOBOJI CMTY SCHOOL DISTRICT"
          ],
          [
           "OSAGE CMTY SCHOOL DISTRICT"
          ],
          [
           "OSKALOOSA CMTY SCHOOL DISTRICT"
          ],
          [
           "OTTUMWA CMTY SCHOOL DISTRICT"
          ],
          [
           "PRAIRIE CITY-MONROE CMTY SD 21"
          ],
          [
           "PANORAMA CMTY SCHOOL DISTRICT"
          ],
          [
           "PEKIN CMTY SCHOOL DISTRICT"
          ],
          [
           "PELLA CMTY SCHOOL DISTRICT"
          ],
          [
           "PERRY CMTY SCHOOL DISTRICT"
          ],
          [
           "PLEASANT VALLEY CMTY SCH DIST"
          ],
          [
           "PLEASANTVILLE CMTY SCHOOL DIST"
          ],
          [
           "POCAHONTAS AREA CMTY SCH DIST"
          ],
          [
           "POSTVILLE CMTY SCHOOL DISTRICT"
          ],
          [
           "PRAIRIE VALLEY CMTY SCH DIST"
          ],
          [
           "RED OAK CMTY SCHOOL DISTRICT"
          ],
          [
           "RIVER VALLEY SCHOOL DISTRICT"
          ],
          [
           "RIVERSIDE CMTY SCHOOL DISTRICT"
          ],
          [
           "ROCK VALLEY SCHOOL DISTRICT"
          ],
          [
           "ROLAND-STORY CMTY SCHOOL DIST"
          ],
          [
           "RUDD-ROCKFORD-MARBLE ROCK CSD"
          ],
          [
           "SAYDEL CMTY SCHOOL DISTRICT"
          ],
          [
           "SERGEANT BLUFF-LUTON CMTY SD"
          ],
          [
           "SHELDON CMTY SCHOOL DISTRICT"
          ],
          [
           "SHENANDOAH CMTY SCH DISTRICT"
          ],
          [
           "SIBLEY-OCHEYEDAN CMTY SCH DIST"
          ],
          [
           "SIDNEY CMTY SCHOOL DISTRICT"
          ],
          [
           "SIGOURNEY CMTY SCHOOL DISTRICT"
          ],
          [
           "SIOUX CENTER CMTY SCHOOL DIST"
          ],
          [
           "SIOUX CENTRAL CMTY SCHOOL DIST"
          ],
          [
           "SIOUX CITY CMTY SCHOOL DIST"
          ],
          [
           "SOLON CMTY SCHOOL DISTRICT"
          ],
          [
           "SOUTH CENTRAL CALHOUN CMTY SD"
          ],
          [
           "SOUTH HAMILTON CMTY SCH DIST"
          ],
          [
           "SOUTH O'BRIEN CMTY SCHOOL DIST"
          ],
          [
           "SOUTH TAMA CO CMTY SCHOOL DIST"
          ],
          [
           "SOUTH WINNESHIEK CMTY SCH DIST"
          ],
          [
           "SOUTHEAST POLK CMTY SCH DIST"
          ],
          [
           "SOUTHEAST WARREN CMTY SCH DIST"
          ],
          [
           "SPENCER CMTY SCHOOL DISTRICT"
          ],
          [
           "SPIRIT LAKE CMTY SCH DISTRICT"
          ],
          [
           "SPRINGVILLE CMTY SCHOOL DIST"
          ],
          [
           "ST ANSGAR CMTY SCHOOL DISTRICT"
          ],
          [
           "STARMONT CMTY SCHOOL DISTRICT"
          ],
          [
           "STORM LAKE CMTY SCH DISTRICT"
          ],
          [
           "SUMNER-FREDERICKSBURG SCHOOLS"
          ],
          [
           "TIPTON CMTY SCHOOL DISTRICT"
          ],
          [
           "TREYNOR CMTY SCHOOL DISTRICT"
          ],
          [
           "TRI-CENTER CMTY SCH DISTRICT"
          ],
          [
           "TRIPOLI CMTY SCHOOL DISTRICT"
          ],
          [
           "TURKEY VALLEY CMTY SCHOOL DIST"
          ],
          [
           "UNDERWOOD CMTY SCHOOL DISTRICT"
          ],
          [
           "UNION CMTY SCHOOL DISTRICT"
          ],
          [
           "URBANDALE CMTY SCHOOL DISTRICT"
          ],
          [
           "VAN BUREN CO CMTY SCHOOL DIST"
          ],
          [
           "VAN METER CMTY SCHOOL DISTRICT"
          ],
          [
           "VINTON-SHELLSBURG CMTY SD"
          ],
          [
           "WACO CMTY SCHOOL DISTRICT"
          ],
          [
           "WAPELLO CMTY SCHOOL DISTRICT"
          ],
          [
           "WAPSIE VALLEY CMTY SCHOOL DIST"
          ],
          [
           "WASHINGTON CMTY SCH DISTRICT"
          ],
          [
           "WATERLOO CMTY SCHOOL DISTRICT"
          ],
          [
           "WAUKEE CMTY SCHOOL DISTRICT"
          ],
          [
           "WAVERLY-SHELL ROCK CMTY SD"
          ],
          [
           "WAYNE CMTY SCHOOL DISTRICT"
          ],
          [
           "WEBSTER CITY CMTY SCHOOL DIST"
          ],
          [
           "WEST BRANCH CMTY SCH DISTRICT"
          ],
          [
           "WEST BURLINGTON IND SCH DIST"
          ],
          [
           "WEST CENTRAL VALLEY CMTY SD"
          ],
          [
           "WEST DELAWARE CO CMTY SCH DIST"
          ],
          [
           "WEST DES MOINES CMTY SCH DIST"
          ],
          [
           "WEST FORK CMTY SCHOOL DISTRICT"
          ],
          [
           "WEST HANCOCK CMTY SCH DISTRICT"
          ],
          [
           "WEST HARRISON CMTY SCHOOL DIST"
          ],
          [
           "WEST LIBERTY CMTY SCHOOL DIST"
          ],
          [
           "WEST LYON CMTY SCHOOL DISTRICT"
          ],
          [
           "WEST MARSHALL CMTY SCHOOL DIST"
          ],
          [
           "WEST MONONA CMTY SCHOOL DIST"
          ],
          [
           "WEST SIOUX CMTY SCH DISTRICT"
          ],
          [
           "WESTERN DUBUQUE CMTY SD"
          ],
          [
           "WESTWOOD CMTY SCHOOL DISTRICT"
          ],
          [
           "WILLIAMSBURG CMTY SCH DISTRICT"
          ],
          [
           "WILTON CMTY SCHOOL DISTRICT"
          ],
          [
           "WINFIELD-MT UNION CMTY SD"
          ],
          [
           "WINTERSET CMTY SCHOOL DISTRICT"
          ],
          [
           "WOODBINE CMTY SCHOOL DISTRICT"
          ],
          [
           "WOODBURY CENTRAL CMTY SCH DIST"
          ],
          [
           "WOODWARD-GRANGER CMTY SCH DIST"
          ]
         ],
         "hovertemplate": "Average Total Experience--Teacher Only=%{x}<br>Avg Comp=%{y}<br>District Name=%{customdata[0]}<br>Average Age--Teacher Only=%{marker.color}<extra></extra>",
         "legendgroup": "",
         "marker": {
          "color": [
           47.96,
           34.507462686567166,
           42.4,
           45.80555555555556,
           33.57142857142857,
           44.981818181818184,
           40.714285714285715,
           41.30555555555556,
           40.409774436090224,
           37.629629629629626,
           37.91962174940898,
           37.36363636363637,
           37.20967741935484,
           38.904761904761905,
           39.29113924050633,
           34.52,
           41.52,
           39.64,
           40.4054054054054,
           41.55263157894737,
           40.45614035087719,
           40.41729323308271,
           36.59340659340659,
           39.94565217391305,
           43.16129032258065,
           45.04761904761905,
           41.6,
           43.13389121338912,
           42.241379310344826,
           39.333333333333336,
           36.25714285714286,
           34.42168674698795,
           42.013698630136986,
           40.48221343873518,
           41.4031007751938,
           42.172413793103445,
           45.39705882352941,
           37.285714285714285,
           40.26315789473684,
           39.64102564102564,
           44.48571428571429,
           40.93617021276596,
           39.689655172413794,
           42,
           42.49090909090909,
           39.36363636363637,
           40.904761904761905,
           39.68181818181818,
           41.27272727272727,
           40.9277108433735,
           45.46666666666667,
           42.61904761904762,
           38.088050314465406,
           41,
           41.44186046511628,
           40.486486486486484,
           37.69491525423729,
           38.529411764705884,
           35.64,
           43.06521739130435,
           40,
           39.78290993071594,
           41.36363636363637,
           39.14074074074074,
           44.88235294117647,
           43.28423772609819,
           40.224489795918366,
           40.73134328358209,
           40.7319587628866,
           40.404761904761905,
           40.30746705710102,
           38.717948717948715,
           40.3605220228385,
           35.88461538461539,
           44.82857142857143,
           39.10526315789474,
           43.22222222222222,
           42.63333333333333,
           37.827586206896555,
           39.36363636363637,
           39.813559322033896,
           49.15625,
           43.06666666666667,
           39.95652173913044,
           39.35526315789474,
           39.689655172413794,
           39.65384615384615,
           41.10344827586207,
           41.8421052631579,
           42,
           36.411764705882355,
           42.11363636363637,
           41.76315789473684,
           40.06896551724138,
           44.70103092783505,
           38.26086956521739,
           42.43478260869565,
           40.95652173913044,
           38.357142857142854,
           41.48979591836735,
           41.24,
           42.92134831460674,
           39.869565217391305,
           43.9375,
           42.098591549295776,
           43.04,
           40.70454545454545,
           41.71875,
           40.76190476190476,
           40.73770491803279,
           44.224137931034484,
           38.142857142857146,
           45.333333333333336,
           38.733333333333334,
           43,
           39.89655172413793,
           42.810344827586206,
           41.96551724137931,
           41.61538461538461,
           42.225806451612904,
           43.24444444444445,
           39.18779342723005,
           39.93617021276596,
           44.6875,
           37.9375,
           39.22222222222222,
           41.99361022364217,
           45.35227272727273,
           39.6,
           41.05555555555556,
           40.25352112676056,
           42.416666666666664,
           44.3,
           41.88235294117647,
           44.61971830985915,
           39.391304347826086,
           44.108333333333334,
           41.798219584569736,
           38.20454545454545,
           44.21212121212121,
           33,
           42.6,
           37.8,
           41.6,
           42.91489361702128,
           38.32258064516129,
           41.8974358974359,
           43.729729729729726,
           43.690140845070424,
           38.869565217391305,
           38.9,
           41.56962025316456,
           39.738351254480285,
           37.03448275862069,
           41.44,
           40.87096774193548,
           41.38356164383562,
           37.96296296296296,
           38.666666666666664,
           39.63157894736842,
           40,
           38.9,
           36.1764705882353,
           41.66315789473684,
           41.94444444444444,
           36.666666666666664,
           40.67003367003367,
           39.64,
           41.79365079365079,
           38.527272727272724,
           38.65217391304348,
           39.38095238095238,
           38.855932203389834,
           40.96969696969697,
           42.03846153846154,
           40.80952380952381,
           41.55223880597015,
           33.93333333333333,
           40.2,
           41.72,
           40.026315789473685,
           40.64028776978417,
           39.34782608695652,
           40.529411764705884,
           37.883720930232556,
           39.22727272727273,
           38.81060606060606,
           38.734693877551024,
           40.175438596491226,
           39.44,
           41.170212765957444,
           41.86206896551724,
           40.5,
           42.54644808743169,
           36.92307692307692,
           42.65384615384615,
           43.035714285714285,
           42.36046511627907,
           37.88461538461539,
           39.18681318681319,
           41.52777777777778,
           42.2,
           37.025,
           36.10526315789474,
           46.6530612244898,
           38.125,
           37.583333333333336,
           37.794117647058826,
           46.642857142857146,
           38.8,
           36.15384615384615,
           42.306451612903224,
           39.55,
           39.59375,
           38.89655172413793,
           41.54545454545455,
           40.1875,
           37.88,
           39.411764705882355,
           41.95678092399404,
           39.73770491803279,
           41.8,
           37.55555555555556,
           33.93333333333333,
           38.74626865671642,
           45.4375,
           39.31641791044776,
           41.72,
           41.674418604651166,
           41.87755102040816,
           29.647058823529413,
           43.94117647058823,
           35.074074074074076,
           39.157407407407405,
           39.67741935483871,
           34.53488372093023,
           39.57692307692308,
           44.37931034482759,
           40,
           45.875,
           39.833333333333336,
           42.333333333333336,
           38.33031674208145,
           41.8421052631579,
           41.107142857142854,
           42.442622950819676,
           39.64,
           43.07142857142857,
           40.148148148148145,
           38.6,
           39.84700315457413,
           36.809330628803245,
           42.45945945945946,
           42.34615384615385,
           43.82142857142857,
           38.34782608695652,
           42.390243902439025,
           39.06818181818182,
           43,
           42.34057971014493,
           42.23076923076923,
           44,
           37.94117647058823,
           38.392857142857146,
           37.26315789473684,
           37.26,
           44.166666666666664,
           38.51063829787234,
           39.57823129251701,
           40.541666666666664,
           38.84313725490196,
           40.3,
           37.81818181818182,
           37.378787878787875,
           42.65217391304348,
           41.90909090909091,
           35.49122807017544
          ],
          "coloraxis": "coloraxis",
          "line": {
           "width": 1
          },
          "size": 10,
          "symbol": "circle"
         },
         "mode": "markers",
         "name": "",
         "orientation": "v",
         "showlegend": false,
         "type": "scatter",
         "x": [
          17.88,
          9.208955223880597,
          14.92,
          20.305555555555557,
          9.642857142857142,
          18.745454545454546,
          13,
          12.666666666666666,
          12.522556390977444,
          11.296296296296296,
          11.955082742316785,
          10.666666666666666,
          11.870967741935484,
          10.142857142857142,
          11.139240506329115,
          9.56,
          14.16,
          10.96,
          13.297297297297296,
          14.31578947368421,
          13.807017543859649,
          12.913533834586467,
          10.252747252747254,
          11.706521739130435,
          18.70967741935484,
          16.38095238095238,
          11.68,
          12.351464435146443,
          12.379310344827585,
          10.428571428571429,
          6.6571428571428575,
          9.27710843373494,
          13.657534246575343,
          11.213438735177865,
          13.095607235142118,
          15.137931034482758,
          16.66176470588235,
          10.571428571428571,
          9.157894736842104,
          13.192307692307692,
          15.371428571428572,
          13.574468085106384,
          11.620689655172415,
          9.75,
          13.854545454545455,
          12.787878787878787,
          14.5,
          10.431818181818182,
          13.545454545454545,
          11.409638554216867,
          16.266666666666666,
          15.952380952380953,
          11.0062893081761,
          14.617647058823529,
          11.854651162790697,
          11.837837837837839,
          11.533898305084746,
          10.176470588235293,
          8.88,
          14.195652173913043,
          14.476190476190476,
          10.344110854503464,
          13.954545454545455,
          11.318518518518518,
          13.264705882352942,
          13.940568475452196,
          12.755102040816327,
          14.447761194029852,
          14.814432989690722,
          13.30952380952381,
          12.242313323572475,
          12.58974358974359,
          12.592169657422513,
          8.615384615384615,
          14.6,
          9.605263157894736,
          15.222222222222221,
          14.2,
          8.517241379310345,
          7.818181818181818,
          12.542372881355933,
          15.71875,
          15.666666666666666,
          9.91304347826087,
          10.592105263157896,
          13.448275862068966,
          11.615384615384615,
          13.172413793103448,
          16.31578947368421,
          13.723076923076922,
          8.470588235294118,
          12.613636363636363,
          16,
          11.810344827586206,
          13.690721649484535,
          9.826086956521738,
          13.826086956521738,
          12.608695652173912,
          9.428571428571429,
          13.36734693877551,
          13.24,
          12.404494382022472,
          8.304347826086957,
          14.40625,
          15.535211267605634,
          13.12,
          12.545454545454545,
          10.65625,
          11.857142857142858,
          13.80327868852459,
          16.724137931034484,
          12.285714285714286,
          13.88888888888889,
          12.6,
          16.95744680851064,
          12.551724137931034,
          15.60344827586207,
          16.20689655172414,
          13.553846153846154,
          15.725806451612904,
          14.044444444444444,
          11.075117370892018,
          11.957446808510639,
          17.875,
          10.125,
          10.88888888888889,
          14.840255591054314,
          15.784090909090908,
          11.133333333333333,
          15.11111111111111,
          15.309859154929578,
          14.708333333333334,
          16.85,
          15.352941176470589,
          18.47887323943662,
          12.73913043478261,
          16.066666666666666,
          15.264094955489615,
          11.818181818181818,
          15.333333333333334,
          6.7,
          16.325,
          10,
          13.285714285714286,
          17.106382978723403,
          11.129032258064516,
          11.307692307692308,
          15.945945945945946,
          15.71830985915493,
          14.26086956521739,
          11.233333333333333,
          13.860759493670885,
          10.745519713261649,
          10.03448275862069,
          13.045,
          14.193548387096774,
          14.794520547945206,
          12.148148148148149,
          11.948717948717949,
          13.947368421052632,
          13.943396226415095,
          7.85,
          10.735294117647058,
          11.557894736842105,
          15.074074074074074,
          6.611111111111111,
          11.643097643097644,
          13.56,
          13.65079365079365,
          10.218181818181819,
          9.130434782608695,
          12.904761904761905,
          12.610169491525424,
          11.636363636363637,
          12.73076923076923,
          13.452380952380953,
          14.149253731343284,
          7.933333333333334,
          14.08,
          11.28,
          12.460526315789474,
          12.503597122302159,
          14.130434782608695,
          12.764705882352942,
          12.69767441860465,
          13.227272727272727,
          12,
          11.918367346938776,
          13.31578947368421,
          12.08,
          13.72340425531915,
          13.827586206896552,
          12.72340425531915,
          13.114754098360656,
          9.384615384615385,
          12.76923076923077,
          12.75,
          15.05813953488372,
          9.73076923076923,
          13.324175824175825,
          14,
          14.771428571428572,
          10.125,
          10.473684210526315,
          16.510204081632654,
          8.833333333333334,
          12.444444444444445,
          13.323529411764707,
          18.952380952380953,
          10.6,
          8.038461538461538,
          15.419354838709678,
          14.6,
          12.1875,
          12.724137931034482,
          8.409090909090908,
          14.25,
          11.6,
          12.823529411764707,
          12.497764530551416,
          13.295081967213115,
          12.9,
          11.777777777777779,
          7.866666666666666,
          9.895522388059701,
          16.8125,
          11.84179104477612,
          13.88,
          15.313953488372093,
          16.836734693877553,
          5.0588235294117645,
          16.058823529411764,
          10.222222222222221,
          11.092592592592593,
          11.903225806451612,
          8.883720930232558,
          13.192307692307692,
          15.827586206896552,
          13.458333333333334,
          20.8125,
          11.875,
          16.023809523809526,
          11.013574660633484,
          12.75438596491228,
          15.642857142857142,
          11.754098360655737,
          10.68,
          14.178571428571429,
          14.555555555555555,
          11.2,
          10.135646687697161,
          10.933062880324544,
          14.225225225225225,
          14.923076923076923,
          14.142857142857142,
          11.304347826086957,
          11.268292682926829,
          12.340909090909092,
          16.80701754385965,
          14.473429951690822,
          14.333333333333334,
          17.3125,
          12.882352941176471,
          8.892857142857142,
          12.236842105263158,
          10.4,
          11.333333333333334,
          9.361702127659575,
          12.29251700680272,
          12.916666666666666,
          12.627450980392156,
          13.7,
          11.5,
          10.909090909090908,
          12.304347826086957,
          12.969696969696969,
          5.298245614035087
         ],
         "xaxis": "x",
         "y": [
          20.9,
          23.3,
          21.1,
          21.8,
          22.6,
          21.4,
          22,
          20.7,
          25.4,
          21.7,
          24.1,
          21.3,
          22.6,
          21.6,
          23.1,
          24.1,
          20.8,
          21,
          18.9,
          22.8,
          20.8,
          23.2,
          22.6,
          18.5,
          23,
          22.3,
          20.5,
          21.5,
          21.2,
          17.2,
          19,
          19.7,
          22.8,
          24.3,
          19.9,
          22.8,
          20.7,
          21.1,
          20.4,
          20.3,
          20.6,
          23.5,
          23.3,
          21.8,
          21.2,
          19.5,
          20.8,
          21.9,
          21,
          20.6,
          20.5,
          21.8,
          22.3,
          23.6,
          19.9,
          18.6,
          22.6,
          17.5,
          22.2,
          16,
          21.4,
          20.7,
          21.6,
          21.9,
          23.1,
          18.2,
          21.1,
          24.5,
          18.4,
          23,
          16.8,
          21.5,
          22.8,
          20.4,
          20.1,
          20.4,
          20.9,
          22.8,
          22.1,
          21.1,
          20.4,
          19.2,
          23.1,
          19.9,
          19.8,
          20.3,
          19.9,
          21.3,
          22.7,
          19.5,
          20.1,
          22.3,
          23.8,
          18,
          20.7,
          19.6,
          22.6,
          21.9,
          22.1,
          24.4,
          20.3,
          21.6,
          20.6,
          21.9,
          25.3,
          20,
          22.2,
          23.1,
          20.9,
          20.3,
          21.9,
          22.4,
          20.7,
          20.9,
          21.3,
          22.1,
          21.8,
          21.6,
          21.5,
          22.2,
          21.2,
          24.7,
          19.3,
          23.3,
          22,
          22.1,
          23.8,
          20.6,
          22.9,
          22.6,
          21.6,
          22.2,
          21,
          21.6,
          22.1,
          17.4,
          20.8,
          24,
          22.7,
          19.8,
          20.9,
          20.3,
          22.2,
          19.8,
          21.6,
          22.1,
          20.5,
          20.8,
          21.1,
          23.9,
          20.7,
          22.7,
          19.7,
          20.9,
          21.1,
          22,
          22.6,
          19.1,
          21.7,
          20.8,
          22.3,
          18.6,
          20.4,
          22,
          22.2,
          19.6,
          18.7,
          21.8,
          22.8,
          21.4,
          20.8,
          18.7,
          21.3,
          21.3,
          20.5,
          20.2,
          21.1,
          19.7,
          22.1,
          20.6,
          22,
          22.5,
          19.3,
          18.5,
          17.7,
          21.7,
          21.4,
          22.9,
          20.6,
          23.6,
          21.4,
          22.2,
          20.3,
          17.2,
          22.2,
          21.4,
          20.1,
          22.9,
          16.7,
          25.2,
          21.6,
          23.1,
          20.4,
          23.6,
          19.2,
          18.8,
          20,
          20.7,
          22.9,
          20.4,
          18.9,
          21.6,
          21.1,
          20,
          20.8,
          21.5,
          21.5,
          20,
          20.2,
          18.6,
          23.4,
          20.8,
          21.9,
          22.7,
          17.9,
          22.8,
          22.4,
          21.3,
          21.7,
          22,
          20.3,
          21.7,
          20.7,
          17.4,
          20.8,
          22.4,
          22.4,
          21.2,
          22.5,
          21.6,
          22,
          21.4,
          22.3,
          23,
          22.8,
          19.4,
          20.9,
          19.7,
          22.2,
          21,
          20,
          23,
          22.5,
          18.5,
          20.6,
          21.7,
          22.5,
          19.9,
          21.2,
          21.6,
          21,
          21.2,
          18.5,
          20.2,
          22.7,
          21.5,
          20.6,
          20.2,
          22.8,
          19.8,
          21.9,
          20.1,
          20.1,
          23.9,
          23,
          22.9,
          22.8
         ],
         "yaxis": "y"
        },
        {
         "hovertemplate": "<b>OLS trendline</b><br>Avg Comp = 0.106513 * Average Total Experience--Teacher Only + 19.8943<br>R<sup>2</sup>=0.028173<br><br>Average Total Experience--Teacher Only=%{x}<br>Avg Comp=%{y} <b>(trend)</b><extra></extra>",
         "legendgroup": "Overall Trendline",
         "marker": {
          "line": {
           "width": 1
          },
          "size": 10
         },
         "mode": "lines",
         "name": "Overall Trendline",
         "showlegend": true,
         "type": "scatter",
         "x": [
          5.0588235294117645,
          5.298245614035087,
          6.611111111111111,
          6.6571428571428575,
          6.7,
          7.818181818181818,
          7.85,
          7.866666666666666,
          7.933333333333334,
          8.038461538461538,
          8.304347826086957,
          8.409090909090908,
          8.470588235294118,
          8.517241379310345,
          8.615384615384615,
          8.833333333333334,
          8.88,
          8.883720930232558,
          8.892857142857142,
          9.130434782608695,
          9.157894736842104,
          9.208955223880597,
          9.27710843373494,
          9.361702127659575,
          9.384615384615385,
          9.428571428571429,
          9.56,
          9.605263157894736,
          9.642857142857142,
          9.73076923076923,
          9.75,
          9.826086956521738,
          9.895522388059701,
          9.91304347826087,
          10,
          10.03448275862069,
          10.125,
          10.125,
          10.135646687697161,
          10.142857142857142,
          10.176470588235293,
          10.218181818181819,
          10.222222222222221,
          10.252747252747254,
          10.344110854503464,
          10.4,
          10.428571428571429,
          10.431818181818182,
          10.473684210526315,
          10.571428571428571,
          10.592105263157896,
          10.6,
          10.65625,
          10.666666666666666,
          10.68,
          10.735294117647058,
          10.745519713261649,
          10.88888888888889,
          10.909090909090908,
          10.933062880324544,
          10.96,
          11.0062893081761,
          11.013574660633484,
          11.075117370892018,
          11.092592592592593,
          11.129032258064516,
          11.133333333333333,
          11.139240506329115,
          11.2,
          11.213438735177865,
          11.233333333333333,
          11.268292682926829,
          11.28,
          11.296296296296296,
          11.304347826086957,
          11.307692307692308,
          11.318518518518518,
          11.333333333333334,
          11.409638554216867,
          11.5,
          11.533898305084746,
          11.557894736842105,
          11.6,
          11.615384615384615,
          11.620689655172415,
          11.636363636363637,
          11.643097643097644,
          11.68,
          11.706521739130435,
          11.754098360655737,
          11.777777777777779,
          11.810344827586206,
          11.818181818181818,
          11.837837837837839,
          11.84179104477612,
          11.854651162790697,
          11.857142857142858,
          11.870967741935484,
          11.875,
          11.903225806451612,
          11.918367346938776,
          11.948717948717949,
          11.955082742316785,
          11.957446808510639,
          12,
          12.08,
          12.148148148148149,
          12.1875,
          12.236842105263158,
          12.242313323572475,
          12.285714285714286,
          12.29251700680272,
          12.304347826086957,
          12.340909090909092,
          12.351464435146443,
          12.379310344827585,
          12.404494382022472,
          12.444444444444445,
          12.460526315789474,
          12.497764530551416,
          12.503597122302159,
          12.522556390977444,
          12.542372881355933,
          12.545454545454545,
          12.551724137931034,
          12.58974358974359,
          12.592169657422513,
          12.6,
          12.608695652173912,
          12.610169491525424,
          12.613636363636363,
          12.627450980392156,
          12.666666666666666,
          12.69767441860465,
          12.72340425531915,
          12.724137931034482,
          12.73076923076923,
          12.73913043478261,
          12.75,
          12.75438596491228,
          12.755102040816327,
          12.764705882352942,
          12.76923076923077,
          12.787878787878787,
          12.823529411764707,
          12.882352941176471,
          12.9,
          12.904761904761905,
          12.913533834586467,
          12.916666666666666,
          12.969696969696969,
          13,
          13.045,
          13.095607235142118,
          13.114754098360656,
          13.12,
          13.172413793103448,
          13.192307692307692,
          13.192307692307692,
          13.227272727272727,
          13.24,
          13.264705882352942,
          13.285714285714286,
          13.295081967213115,
          13.297297297297296,
          13.30952380952381,
          13.31578947368421,
          13.323529411764707,
          13.324175824175825,
          13.36734693877551,
          13.448275862068966,
          13.452380952380953,
          13.458333333333334,
          13.545454545454545,
          13.553846153846154,
          13.56,
          13.574468085106384,
          13.65079365079365,
          13.657534246575343,
          13.690721649484535,
          13.7,
          13.723076923076922,
          13.72340425531915,
          13.80327868852459,
          13.807017543859649,
          13.826086956521738,
          13.827586206896552,
          13.854545454545455,
          13.860759493670885,
          13.88,
          13.88888888888889,
          13.940568475452196,
          13.943396226415095,
          13.947368421052632,
          13.954545454545455,
          14,
          14.044444444444444,
          14.08,
          14.130434782608695,
          14.142857142857142,
          14.149253731343284,
          14.16,
          14.178571428571429,
          14.193548387096774,
          14.195652173913043,
          14.2,
          14.225225225225225,
          14.25,
          14.26086956521739,
          14.31578947368421,
          14.333333333333334,
          14.40625,
          14.447761194029852,
          14.473429951690822,
          14.476190476190476,
          14.5,
          14.555555555555555,
          14.6,
          14.6,
          14.617647058823529,
          14.708333333333334,
          14.771428571428572,
          14.794520547945206,
          14.814432989690722,
          14.840255591054314,
          14.92,
          14.923076923076923,
          15.05813953488372,
          15.074074074074074,
          15.11111111111111,
          15.137931034482758,
          15.222222222222221,
          15.264094955489615,
          15.309859154929578,
          15.313953488372093,
          15.333333333333334,
          15.352941176470589,
          15.371428571428572,
          15.419354838709678,
          15.535211267605634,
          15.60344827586207,
          15.642857142857142,
          15.666666666666666,
          15.71830985915493,
          15.71875,
          15.725806451612904,
          15.784090909090908,
          15.827586206896552,
          15.945945945945946,
          15.952380952380953,
          16,
          16.023809523809526,
          16.058823529411764,
          16.066666666666666,
          16.20689655172414,
          16.266666666666666,
          16.31578947368421,
          16.325,
          16.38095238095238,
          16.510204081632654,
          16.66176470588235,
          16.724137931034484,
          16.80701754385965,
          16.8125,
          16.836734693877553,
          16.85,
          16.95744680851064,
          17.106382978723403,
          17.3125,
          17.875,
          17.88,
          18.47887323943662,
          18.70967741935484,
          18.745454545454546,
          18.952380952380953,
          20.305555555555557,
          20.8125
         ],
         "xaxis": "x",
         "y": [
          20.433141769316105,
          20.458643406731237,
          20.598481049252577,
          20.60338404263656,
          20.607948898545782,
          20.727050139086433,
          20.73043919877661,
          20.73221442051909,
          20.73931530748899,
          20.750512860018453,
          20.778833287147584,
          20.789989819046937,
          20.796540102481742,
          20.80150928301849,
          20.811962843411848,
          20.835177281582688,
          20.84014790246162,
          20.840544231036684,
          20.841517359234384,
          20.866822538731167,
          20.869747389199322,
          20.87518601040565,
          20.882445234002827,
          20.891455587886707,
          20.89389615460304,
          20.89857805809968,
          20.912576949554634,
          20.917398078076303,
          20.921402337645798,
          20.930766144639076,
          20.932814477418855,
          20.940918750591027,
          20.948314547856892,
          20.950180777073513,
          20.959442803555994,
          20.963115676126634,
          20.972756966624562,
          20.972756966624562,
          20.973890980513684,
          20.974658989920073,
          20.97823926906456,
          20.98268207000295,
          20.983112426789006,
          20.98636374866167,
          20.996095187800183,
          21.002048125375413,
          21.00509136264823,
          21.005437185065595,
          21.009896474131622,
          21.02030754901231,
          21.022509891775528,
          21.02335078628512,
          21.02934215966598,
          21.030451673255026,
          21.031871850649008,
          21.037761409841693,
          21.038850571821577,
          21.054121296488038,
          21.05627308041831,
          21.058826414290948,
          21.061695575922602,
          21.066626003101703,
          21.06740199006674,
          21.07395710750725,
          21.075818451118298,
          21.079699760304354,
          21.08015788204435,
          21.08078707456067,
          21.08725876901425,
          21.088690173107,
          21.090809212499202,
          21.094532848349274,
          21.095779833378135,
          21.09751560574856,
          21.098373200793233,
          21.09872943258102,
          21.09988256807186,
          21.101460542954058,
          21.10958806418467,
          21.11921276037882,
          21.12282338087199,
          21.12537932011584,
          21.12986409083367,
          21.131502757057497,
          21.132067814376057,
          21.133737301908166,
          21.134454563218256,
          21.138385155197557,
          21.141210073274713,
          21.14627761645263,
          21.14879978942008,
          21.152268613514572,
          21.153103357280628,
          21.155196984888462,
          21.155618054023023,
          21.15698782768964,
          21.157253226289015,
          21.15872576045328,
          21.159155249584522,
          21.16216167350323,
          21.163774449016476,
          21.16700719190701,
          21.167685127105994,
          21.167936931608473,
          21.172469412653093,
          21.180990477016977,
          21.1882491614751,
          21.192440657255943,
          21.197696247940907,
          21.198279005482938,
          21.20290178538125,
          21.2036263656843,
          21.20488650534178,
          21.208780766476462,
          21.20990505107183,
          21.212871010930126,
          21.215553445953628,
          21.219808659119114,
          21.221521592379396,
          21.22548795768918,
          21.226109206310635,
          21.228128620669064,
          21.23023934054383,
          21.230567578770483,
          21.231235373783324,
          21.235284951233005,
          21.235543359718545,
          21.23637739538222,
          21.23730359803047,
          21.237460581530172,
          21.237829849535157,
          21.239301290016886,
          21.243478282352125,
          21.246781020477663,
          21.249521590411618,
          21.249599736636522,
          21.250306058284725,
          21.251196637754195,
          21.252354391064504,
          21.252821554680946,
          21.252897826291793,
          21.253920763190216,
          21.254402723844283,
          21.256388985933768,
          21.260186251693074,
          21.26645174019593,
          21.268331386746787,
          21.26883859295892,
          21.269772920191805,
          21.27010660848926,
          21.27575504130623,
          21.27898271720164,
          21.283775815906324,
          21.28916615975538,
          21.291205555428522,
          21.291764313747468,
          21.297347080054838,
          21.299466044999438,
          21.299466044999438,
          21.30319028641722,
          21.304545910293292,
          21.30717741546449,
          21.309415089929796,
          21.310412872642196,
          21.310648834770127,
          21.31195112099048,
          21.312618497585394,
          21.31344290396735,
          21.31351175548936,
          21.318110053566414,
          21.326730060619955,
          21.327167307354557,
          21.327801315119725,
          21.337080883319032,
          21.3379747012593,
          21.33863016774883,
          21.340171211304,
          21.348300899526887,
          21.34901886265822,
          21.352553762611464,
          21.353542030385626,
          21.35600002972136,
          21.356034894960167,
          21.36454258478982,
          21.364940822626785,
          21.366971968785226,
          21.36713165889699,
          21.37000317745222,
          21.37066505529406,
          21.372714425204364,
          21.373661210133683,
          21.379165773676245,
          21.379466966775745,
          21.3798900583529,
          21.380654507907074,
          21.38549602175019,
          21.390229946396794,
          21.394017086114076,
          21.399389061473915,
          21.400712208114268,
          21.401393529891763,
          21.40253815047796,
          21.40451625470529,
          21.40611150004991,
          21.406335581335775,
          21.4067986826599,
          21.40948550475662,
          21.412124347887328,
          21.413282101197638,
          21.419131802133943,
          21.421000456599707,
          21.42876705172304,
          21.433188546174915,
          21.43592261037704,
          21.436216642963785,
          21.438752674024464,
          21.44467007983272,
          21.44940400447932,
          21.44940400447932,
          21.451283651030177,
          21.460942945805414,
          21.467663428116214,
          21.470123030843556,
          21.472243970815505,
          21.474994421418778,
          21.483488261934856,
          21.48381599517962,
          21.49820196028412,
          21.49989920070974,
          21.503844137915245,
          21.506700816581297,
          21.51567894953175,
          21.52013895272254,
          21.52501344883491,
          21.525449549819797,
          21.527513761148256,
          21.529602257315872,
          21.531571410845345,
          21.536676195948132,
          21.549016447043034,
          21.556284596284932,
          21.560482164937092,
          21.56301819599777,
          21.568518883087133,
          21.56856576394301,
          21.569317369922686,
          21.575525440092488,
          21.58015826799409,
          21.592765154925743,
          21.593450568725927,
          21.598522630847288,
          21.601058661907967,
          21.604788119350143,
          21.605623517817193,
          21.620559866271126,
          21.6269261787269,
          21.63215841123104,
          21.633139454825567,
          21.639099127818163,
          21.65286615357614,
          21.669009376504416,
          21.67565295483072,
          21.684480736272434,
          21.685064690792984,
          21.687646008122606,
          21.689058939713554,
          21.700503454351217,
          21.716367138007385,
          21.73832134306726,
          21.79823507687582,
          21.79876764339856,
          21.86255561113665,
          21.887139327043357,
          21.890950066971488,
          21.912990482371576,
          22.057121580986873,
          22.111117908987183
         ],
         "yaxis": "y"
        }
       ],
       "layout": {
        "coloraxis": {
         "cmax": 50,
         "cmin": 30,
         "colorbar": {
          "title": {
           "text": "Average Age--Teacher Only"
          }
         },
         "colorscale": [
          [
           0,
           "rgb(211, 242, 163)"
          ],
          [
           0.16666666666666666,
           "rgb(151, 225, 150)"
          ],
          [
           0.3333333333333333,
           "rgb(108, 192, 139)"
          ],
          [
           0.5,
           "rgb(76, 155, 130)"
          ],
          [
           0.6666666666666666,
           "rgb(33, 122, 121)"
          ],
          [
           0.8333333333333334,
           "rgb(16, 89, 101)"
          ],
          [
           1,
           "rgb(7, 64, 80)"
          ]
         ]
        },
        "legend": {
         "orientation": "h",
         "tracegroupgap": 0
        },
        "margin": {
         "t": 60
        },
        "template": {
         "data": {
          "bar": [
           {
            "error_x": {
             "color": "#2a3f5f"
            },
            "error_y": {
             "color": "#2a3f5f"
            },
            "marker": {
             "line": {
              "color": "#E5ECF6",
              "width": 0.5
             },
             "pattern": {
              "fillmode": "overlay",
              "size": 10,
              "solidity": 0.2
             }
            },
            "type": "bar"
           }
          ],
          "barpolar": [
           {
            "marker": {
             "line": {
              "color": "#E5ECF6",
              "width": 0.5
             },
             "pattern": {
              "fillmode": "overlay",
              "size": 10,
              "solidity": 0.2
             }
            },
            "type": "barpolar"
           }
          ],
          "carpet": [
           {
            "aaxis": {
             "endlinecolor": "#2a3f5f",
             "gridcolor": "white",
             "linecolor": "white",
             "minorgridcolor": "white",
             "startlinecolor": "#2a3f5f"
            },
            "baxis": {
             "endlinecolor": "#2a3f5f",
             "gridcolor": "white",
             "linecolor": "white",
             "minorgridcolor": "white",
             "startlinecolor": "#2a3f5f"
            },
            "type": "carpet"
           }
          ],
          "choropleth": [
           {
            "colorbar": {
             "outlinewidth": 0,
             "ticks": ""
            },
            "type": "choropleth"
           }
          ],
          "contour": [
           {
            "colorbar": {
             "outlinewidth": 0,
             "ticks": ""
            },
            "colorscale": [
             [
              0,
              "#0d0887"
             ],
             [
              0.1111111111111111,
              "#46039f"
             ],
             [
              0.2222222222222222,
              "#7201a8"
             ],
             [
              0.3333333333333333,
              "#9c179e"
             ],
             [
              0.4444444444444444,
              "#bd3786"
             ],
             [
              0.5555555555555556,
              "#d8576b"
             ],
             [
              0.6666666666666666,
              "#ed7953"
             ],
             [
              0.7777777777777778,
              "#fb9f3a"
             ],
             [
              0.8888888888888888,
              "#fdca26"
             ],
             [
              1,
              "#f0f921"
             ]
            ],
            "type": "contour"
           }
          ],
          "contourcarpet": [
           {
            "colorbar": {
             "outlinewidth": 0,
             "ticks": ""
            },
            "type": "contourcarpet"
           }
          ],
          "heatmap": [
           {
            "colorbar": {
             "outlinewidth": 0,
             "ticks": ""
            },
            "colorscale": [
             [
              0,
              "#0d0887"
             ],
             [
              0.1111111111111111,
              "#46039f"
             ],
             [
              0.2222222222222222,
              "#7201a8"
             ],
             [
              0.3333333333333333,
              "#9c179e"
             ],
             [
              0.4444444444444444,
              "#bd3786"
             ],
             [
              0.5555555555555556,
              "#d8576b"
             ],
             [
              0.6666666666666666,
              "#ed7953"
             ],
             [
              0.7777777777777778,
              "#fb9f3a"
             ],
             [
              0.8888888888888888,
              "#fdca26"
             ],
             [
              1,
              "#f0f921"
             ]
            ],
            "type": "heatmap"
           }
          ],
          "heatmapgl": [
           {
            "colorbar": {
             "outlinewidth": 0,
             "ticks": ""
            },
            "colorscale": [
             [
              0,
              "#0d0887"
             ],
             [
              0.1111111111111111,
              "#46039f"
             ],
             [
              0.2222222222222222,
              "#7201a8"
             ],
             [
              0.3333333333333333,
              "#9c179e"
             ],
             [
              0.4444444444444444,
              "#bd3786"
             ],
             [
              0.5555555555555556,
              "#d8576b"
             ],
             [
              0.6666666666666666,
              "#ed7953"
             ],
             [
              0.7777777777777778,
              "#fb9f3a"
             ],
             [
              0.8888888888888888,
              "#fdca26"
             ],
             [
              1,
              "#f0f921"
             ]
            ],
            "type": "heatmapgl"
           }
          ],
          "histogram": [
           {
            "marker": {
             "pattern": {
              "fillmode": "overlay",
              "size": 10,
              "solidity": 0.2
             }
            },
            "type": "histogram"
           }
          ],
          "histogram2d": [
           {
            "colorbar": {
             "outlinewidth": 0,
             "ticks": ""
            },
            "colorscale": [
             [
              0,
              "#0d0887"
             ],
             [
              0.1111111111111111,
              "#46039f"
             ],
             [
              0.2222222222222222,
              "#7201a8"
             ],
             [
              0.3333333333333333,
              "#9c179e"
             ],
             [
              0.4444444444444444,
              "#bd3786"
             ],
             [
              0.5555555555555556,
              "#d8576b"
             ],
             [
              0.6666666666666666,
              "#ed7953"
             ],
             [
              0.7777777777777778,
              "#fb9f3a"
             ],
             [
              0.8888888888888888,
              "#fdca26"
             ],
             [
              1,
              "#f0f921"
             ]
            ],
            "type": "histogram2d"
           }
          ],
          "histogram2dcontour": [
           {
            "colorbar": {
             "outlinewidth": 0,
             "ticks": ""
            },
            "colorscale": [
             [
              0,
              "#0d0887"
             ],
             [
              0.1111111111111111,
              "#46039f"
             ],
             [
              0.2222222222222222,
              "#7201a8"
             ],
             [
              0.3333333333333333,
              "#9c179e"
             ],
             [
              0.4444444444444444,
              "#bd3786"
             ],
             [
              0.5555555555555556,
              "#d8576b"
             ],
             [
              0.6666666666666666,
              "#ed7953"
             ],
             [
              0.7777777777777778,
              "#fb9f3a"
             ],
             [
              0.8888888888888888,
              "#fdca26"
             ],
             [
              1,
              "#f0f921"
             ]
            ],
            "type": "histogram2dcontour"
           }
          ],
          "mesh3d": [
           {
            "colorbar": {
             "outlinewidth": 0,
             "ticks": ""
            },
            "type": "mesh3d"
           }
          ],
          "parcoords": [
           {
            "line": {
             "colorbar": {
              "outlinewidth": 0,
              "ticks": ""
             }
            },
            "type": "parcoords"
           }
          ],
          "pie": [
           {
            "automargin": true,
            "type": "pie"
           }
          ],
          "scatter": [
           {
            "fillpattern": {
             "fillmode": "overlay",
             "size": 10,
             "solidity": 0.2
            },
            "type": "scatter"
           }
          ],
          "scatter3d": [
           {
            "line": {
             "colorbar": {
              "outlinewidth": 0,
              "ticks": ""
             }
            },
            "marker": {
             "colorbar": {
              "outlinewidth": 0,
              "ticks": ""
             }
            },
            "type": "scatter3d"
           }
          ],
          "scattercarpet": [
           {
            "marker": {
             "colorbar": {
              "outlinewidth": 0,
              "ticks": ""
             }
            },
            "type": "scattercarpet"
           }
          ],
          "scattergeo": [
           {
            "marker": {
             "colorbar": {
              "outlinewidth": 0,
              "ticks": ""
             }
            },
            "type": "scattergeo"
           }
          ],
          "scattergl": [
           {
            "marker": {
             "colorbar": {
              "outlinewidth": 0,
              "ticks": ""
             }
            },
            "type": "scattergl"
           }
          ],
          "scattermapbox": [
           {
            "marker": {
             "colorbar": {
              "outlinewidth": 0,
              "ticks": ""
             }
            },
            "type": "scattermapbox"
           }
          ],
          "scatterpolar": [
           {
            "marker": {
             "colorbar": {
              "outlinewidth": 0,
              "ticks": ""
             }
            },
            "type": "scatterpolar"
           }
          ],
          "scatterpolargl": [
           {
            "marker": {
             "colorbar": {
              "outlinewidth": 0,
              "ticks": ""
             }
            },
            "type": "scatterpolargl"
           }
          ],
          "scatterternary": [
           {
            "marker": {
             "colorbar": {
              "outlinewidth": 0,
              "ticks": ""
             }
            },
            "type": "scatterternary"
           }
          ],
          "surface": [
           {
            "colorbar": {
             "outlinewidth": 0,
             "ticks": ""
            },
            "colorscale": [
             [
              0,
              "#0d0887"
             ],
             [
              0.1111111111111111,
              "#46039f"
             ],
             [
              0.2222222222222222,
              "#7201a8"
             ],
             [
              0.3333333333333333,
              "#9c179e"
             ],
             [
              0.4444444444444444,
              "#bd3786"
             ],
             [
              0.5555555555555556,
              "#d8576b"
             ],
             [
              0.6666666666666666,
              "#ed7953"
             ],
             [
              0.7777777777777778,
              "#fb9f3a"
             ],
             [
              0.8888888888888888,
              "#fdca26"
             ],
             [
              1,
              "#f0f921"
             ]
            ],
            "type": "surface"
           }
          ],
          "table": [
           {
            "cells": {
             "fill": {
              "color": "#EBF0F8"
             },
             "line": {
              "color": "white"
             }
            },
            "header": {
             "fill": {
              "color": "#C8D4E3"
             },
             "line": {
              "color": "white"
             }
            },
            "type": "table"
           }
          ]
         },
         "layout": {
          "annotationdefaults": {
           "arrowcolor": "#2a3f5f",
           "arrowhead": 0,
           "arrowwidth": 1
          },
          "autotypenumbers": "strict",
          "coloraxis": {
           "colorbar": {
            "outlinewidth": 0,
            "ticks": ""
           }
          },
          "colorscale": {
           "diverging": [
            [
             0,
             "#8e0152"
            ],
            [
             0.1,
             "#c51b7d"
            ],
            [
             0.2,
             "#de77ae"
            ],
            [
             0.3,
             "#f1b6da"
            ],
            [
             0.4,
             "#fde0ef"
            ],
            [
             0.5,
             "#f7f7f7"
            ],
            [
             0.6,
             "#e6f5d0"
            ],
            [
             0.7,
             "#b8e186"
            ],
            [
             0.8,
             "#7fbc41"
            ],
            [
             0.9,
             "#4d9221"
            ],
            [
             1,
             "#276419"
            ]
           ],
           "sequential": [
            [
             0,
             "#0d0887"
            ],
            [
             0.1111111111111111,
             "#46039f"
            ],
            [
             0.2222222222222222,
             "#7201a8"
            ],
            [
             0.3333333333333333,
             "#9c179e"
            ],
            [
             0.4444444444444444,
             "#bd3786"
            ],
            [
             0.5555555555555556,
             "#d8576b"
            ],
            [
             0.6666666666666666,
             "#ed7953"
            ],
            [
             0.7777777777777778,
             "#fb9f3a"
            ],
            [
             0.8888888888888888,
             "#fdca26"
            ],
            [
             1,
             "#f0f921"
            ]
           ],
           "sequentialminus": [
            [
             0,
             "#0d0887"
            ],
            [
             0.1111111111111111,
             "#46039f"
            ],
            [
             0.2222222222222222,
             "#7201a8"
            ],
            [
             0.3333333333333333,
             "#9c179e"
            ],
            [
             0.4444444444444444,
             "#bd3786"
            ],
            [
             0.5555555555555556,
             "#d8576b"
            ],
            [
             0.6666666666666666,
             "#ed7953"
            ],
            [
             0.7777777777777778,
             "#fb9f3a"
            ],
            [
             0.8888888888888888,
             "#fdca26"
            ],
            [
             1,
             "#f0f921"
            ]
           ]
          },
          "colorway": [
           "#636efa",
           "#EF553B",
           "#00cc96",
           "#ab63fa",
           "#FFA15A",
           "#19d3f3",
           "#FF6692",
           "#B6E880",
           "#FF97FF",
           "#FECB52"
          ],
          "font": {
           "color": "#2a3f5f"
          },
          "geo": {
           "bgcolor": "white",
           "lakecolor": "white",
           "landcolor": "#E5ECF6",
           "showlakes": true,
           "showland": true,
           "subunitcolor": "white"
          },
          "hoverlabel": {
           "align": "left"
          },
          "hovermode": "closest",
          "mapbox": {
           "style": "light"
          },
          "paper_bgcolor": "white",
          "plot_bgcolor": "#E5ECF6",
          "polar": {
           "angularaxis": {
            "gridcolor": "white",
            "linecolor": "white",
            "ticks": ""
           },
           "bgcolor": "#E5ECF6",
           "radialaxis": {
            "gridcolor": "white",
            "linecolor": "white",
            "ticks": ""
           }
          },
          "scene": {
           "xaxis": {
            "backgroundcolor": "#E5ECF6",
            "gridcolor": "white",
            "gridwidth": 2,
            "linecolor": "white",
            "showbackground": true,
            "ticks": "",
            "zerolinecolor": "white"
           },
           "yaxis": {
            "backgroundcolor": "#E5ECF6",
            "gridcolor": "white",
            "gridwidth": 2,
            "linecolor": "white",
            "showbackground": true,
            "ticks": "",
            "zerolinecolor": "white"
           },
           "zaxis": {
            "backgroundcolor": "#E5ECF6",
            "gridcolor": "white",
            "gridwidth": 2,
            "linecolor": "white",
            "showbackground": true,
            "ticks": "",
            "zerolinecolor": "white"
           }
          },
          "shapedefaults": {
           "line": {
            "color": "#2a3f5f"
           }
          },
          "ternary": {
           "aaxis": {
            "gridcolor": "white",
            "linecolor": "white",
            "ticks": ""
           },
           "baxis": {
            "gridcolor": "white",
            "linecolor": "white",
            "ticks": ""
           },
           "bgcolor": "#E5ECF6",
           "caxis": {
            "gridcolor": "white",
            "linecolor": "white",
            "ticks": ""
           }
          },
          "title": {
           "x": 0.05
          },
          "xaxis": {
           "automargin": true,
           "gridcolor": "white",
           "linecolor": "white",
           "ticks": "",
           "title": {
            "standoff": 15
           },
           "zerolinecolor": "white",
           "zerolinewidth": 2
          },
          "yaxis": {
           "automargin": true,
           "gridcolor": "white",
           "linecolor": "white",
           "ticks": "",
           "title": {
            "standoff": 15
           },
           "zerolinecolor": "white",
           "zerolinewidth": 2
          }
         }
        },
        "title": {
         "text": "Teacher Effect on Composite ACT Score 2019 in 300 Iowa Districts"
        },
        "xaxis": {
         "anchor": "y",
         "domain": [
          0,
          1
         ],
         "title": {
          "text": "Average Teacher Experience"
         }
        },
        "yaxis": {
         "anchor": "x",
         "domain": [
          0,
          1
         ],
         "title": {
          "text": "Avergage Composite ACT Score"
         }
        }
       }
      }
     },
     "metadata": {},
     "output_type": "display_data"
    }
   ],
   "source": [
    "fig = px.scatter(df10, x=\"Average Total Experience--Teacher Only\", color= \"Average Age--Teacher Only\", y=\"Avg Comp\", hover_data=\"District Name\",\n",
    "trendline=\"ols\", trendline_scope=\"overall\",color_continuous_scale=px.colors.sequential.Emrld, range_color=[30,50])\n",
    "fig.update_layout(legend_orientation=\"h\", title=\"Teacher Effect on Composite ACT Score 2019 in 300 Iowa Districts\")\n",
    "fig.update_traces(marker=dict(size=10,line=dict(width=1)))\n",
    "fig.update_xaxes(title=\"Average Teacher Experience\")\n",
    "fig.update_yaxes(title=\"Avergage Composite ACT Score\") \n",
    "fig.show()"
   ]
  },
  {
   "cell_type": "code",
   "execution_count": 40,
   "metadata": {},
   "outputs": [
    {
     "data": {
      "application/vnd.plotly.v1+json": {
       "config": {
        "plotlyServerURL": "https://plot.ly"
       },
       "data": [
        {
         "customdata": [
          [
           "AGWSR CMTY SCHOOL DISTRICT"
          ],
          [
           "ADEL-DE SOTO-MINBURN CMTY SD"
          ],
          [
           "AKRON WESTFIELD CMTY SCH DIST"
          ],
          [
           "ALBIA CMTY SCHOOL DISTRICT"
          ],
          [
           "ALBURNETT CMTY SCHOOL DISTRICT"
          ],
          [
           "ALGONA CMTY SCHOOL DISTRICT"
          ],
          [
           "ALLAMAKEE CMTY SCHOOL DISTRICT"
          ],
          [
           "ALTA-AURELIA CMTY SCHOOLS"
          ],
          [
           "AMES CMTY SCHOOL DISTRICT"
          ],
          [
           "ANAMOSA CMTY SCHOOL DISTRICT"
          ],
          [
           "ANKENY CMTY SCHOOL DISTRICT"
          ],
          [
           "APLINGTON-PARKERSBURG SD"
          ],
          [
           "ATLANTIC CMTY SCHOOL DISTRICT"
          ],
          [
           "AUDUBON CMTY SCHOOL DISTRICT"
          ],
          [
           "BALLARD CMTY SCHOOL DISTRICT"
          ],
          [
           "BAXTER CMTY SCHOOL DISTRICT"
          ],
          [
           "BEDFORD CMTY SCHOOL DISTRICT"
          ],
          [
           "BELLE PLAINE CMTY SCHOOL DIST"
          ],
          [
           "BELLEVUE CMTY SCHOOL DISTRICT"
          ],
          [
           "BELMOND-KLEMME CMTY SCH DIST"
          ],
          [
           "BENTON CMTY SCHOOL DISTRICT"
          ],
          [
           "BETTENDORF CMTY SCHOOL DIST"
          ],
          [
           "BONDURANT-FARRAR CMTY SCH DIST"
          ],
          [
           "BOONE CMTY SCHOOL DISTRICT"
          ],
          [
           "BOYDEN-HULL CMTY SCH DISTRICT"
          ],
          [
           "BOYER VALLEY CMTY SCH DISTRICT"
          ],
          [
           "BROOKLYN-GUERNSEY-MALCOM CSD"
          ],
          [
           "BURLINGTON CMTY SCHOOL DIST"
          ],
          [
           "CAM CMTY SCHOOL DISTRICT"
          ],
          [
           "CAMANCHE CMTY SCHOOL DISTRICT"
          ],
          [
           "CARDINAL CMTY SCHOOL DISTRICT"
          ],
          [
           "CARLISLE CMTY SCHOOL DISTRICT"
          ],
          [
           "CARROLL CMTY SCHOOL DISTRICT"
          ],
          [
           "CEDAR FALLS CMTY SCH DISTRICT"
          ],
          [
           "CEDAR RAPIDS CMTY SCHOOL DIST"
          ],
          [
           "CENTER POINT-URBANA CMTY SD"
          ],
          [
           "CENTERVILLE CMTY SCHOOL DIST"
          ],
          [
           "CENTRAL CITY CMTY SCH DIST"
          ],
          [
           "CENTRAL CMTY SCHOOL DISTRICT"
          ],
          [
           "CENTRAL DEWITT CMTY SCH DIST"
          ],
          [
           "CENTRAL DECATUR CMTY SCH DIST"
          ],
          [
           "CENTRAL LEE CMTY SCHOOL DIST"
          ],
          [
           "CENTRAL LYON CMTY SCHOOL DIST"
          ],
          [
           "CENTRAL SPRINGS CMTY SCH DIST"
          ],
          [
           "CHARITON CMTY SCHOOL DISTRICT"
          ],
          [
           "CHARLES CITY CMTY SCH DISTRICT"
          ],
          [
           "CHEROKEE CMTY SCHOOL DISTRICT"
          ],
          [
           "CLARINDA CMTY SCHOOL DISTRICT"
          ],
          [
           "CLARION-GOLDFIELD-DOWS CMTY SD"
          ],
          [
           "CLARKE CMTY SCHOOL DISTRICT"
          ],
          [
           "CLARKSVILLE CMTY SCHOOL DIST"
          ],
          [
           "CLAYTON RIDGE CMTY SCH DIST"
          ],
          [
           "CLEAR CREEK AMANA CMTY SD"
          ],
          [
           "CLEAR LAKE CMTY SCH DISTRICT"
          ],
          [
           "CLINTON CMTY SCHOOL DISTRICT"
          ],
          [
           "COLFAX-MINGO CMTY SCH DIST"
          ],
          [
           "COLLEGE CMTY SCHOOL DISTRICT"
          ],
          [
           "COLLINS-MAXWELL CMTY SCH DIST"
          ],
          [
           "COLO-NESCO CMTY SCHOOL DIST"
          ],
          [
           "COLUMBUS CMTY SCHOOL DISTRICT"
          ],
          [
           "COON RAPIDS-BAYARD CMTY SD"
          ],
          [
           "COUNCIL BLUFFS CMTY SCH DIST"
          ],
          [
           "CRESTON CMTY SCHOOL DISTRICT"
          ],
          [
           "DALLAS CENTER GRIMES CMTY SD"
          ],
          [
           "DANVILLE CMTY SCHOOL DISTRICT"
          ],
          [
           "DAVENPORT CMTY SCHOOL DISTRICT"
          ],
          [
           "DAVIS CO CMTY SCHOOL DISTRICT"
          ],
          [
           "DECORAH CMTY SCHOOL DISTRICT"
          ],
          [
           "DENISON CMTY SCHOOL DISTRICT"
          ],
          [
           "DENVER CMTY SCHOOL DISTRICT"
          ],
          [
           "DES MOINES PUBLIC SCHOOL DIST"
          ],
          [
           "DIKE-NEW HARTFORD CMTY SD"
          ],
          [
           "DUBUQUE CMTY SCHOOL DISTRICT"
          ],
          [
           "DUNKERTON CMTY SCH DISTRICT"
          ],
          [
           "DURANT CMTY SCHOOL DISTRICT"
          ],
          [
           "EAGLE GROVE CMTY SCHOOL DIST"
          ],
          [
           "EARLHAM CMTY SCHOOL DISTRICT"
          ],
          [
           "EAST BUCHANAN CMTY SCH DIST"
          ],
          [
           "EAST MARSHALL CMTY SCHOOL DIST"
          ],
          [
           "EAST MILLS CMTY SCHOOL DIST"
          ],
          [
           "EAST SAC CO CMTY SCHOOL DIST"
          ],
          [
           "EAST UNION CMTY SCHOOL DIST"
          ],
          [
           "EASTERN ALLAMAKEE CMTY SD"
          ],
          [
           "EASTON VALLEY CMTY SCHOOL DIST"
          ],
          [
           "EDDYVLL-BLKSBRG-FREMNT CMTY SD"
          ],
          [
           "EDGEWOOD COLESBURG CMTY SD"
          ],
          [
           "ELDORA-NEW PROVIDENCE CMTY SD"
          ],
          [
           "EMMETSBURG CMTY SCH DIST"
          ],
          [
           "ENGLISH VALLEYS CMTY SCH DIST"
          ],
          [
           "ESTHERVILLE LINCOLN CTL CMSD"
          ],
          [
           "EXIRA-ELK HORN-KIMBALLTON SD"
          ],
          [
           "FAIRFIELD CMTY SCHOOL DISTRICT"
          ],
          [
           "FOREST CITY CMTY SCHOOL DIST"
          ],
          [
           "FT DODGE CMTY SCHOOL DIST"
          ],
          [
           "FT MADISON CMTY SCHOOL DIST"
          ],
          [
           "FREMONT-MILLS CMTY SCH DIST"
          ],
          [
           "GALVA-HOLSTEIN CMTY SCH DIST"
          ],
          [
           "GARNER-HAYFIELD-VENTURA CSD"
          ],
          [
           "GEORGE-LITTLE ROCK CMTY SD"
          ],
          [
           "GILBERT CMTY SCHOOL DISTRICT"
          ],
          [
           "GLADBROOK-REINBECK CMTY SD"
          ],
          [
           "GLENWOOD CMTY SCHOOL DISTRICT"
          ],
          [
           "GLIDDEN-RALSTON CMTY SCH DIST"
          ],
          [
           "GREENE CO CMTY SCHOOL DISTRICT"
          ],
          [
           "GRINNELL-NEWBURG CMTY SCH DIST"
          ],
          [
           "GRISWOLD CMTY SCHOOL DISTRICT"
          ],
          [
           "GRUNDY CENTER CMTY SCHOOL DIST"
          ],
          [
           "GUTHRIE CENTER CMTY SCH DIST"
          ],
          [
           "HLV CMTY SCHOOL DISTRICT"
          ],
          [
           "HAMPTON-DUMONT CMTY SCH DIST"
          ],
          [
           "HARLAN CMTY SCHOOL DISTRICT"
          ],
          [
           "HARTLEY-MELVIN-SANBORN CMTY SD"
          ],
          [
           "HIGHLAND CMTY SCHOOL DISTRICT"
          ],
          [
           "HINTON CMTY SCHOOL DISTRICT"
          ],
          [
           "HOWARD-WINNESHIEK CMTY SD"
          ],
          [
           "HUDSON CMTY SCHOOL DISTRICT"
          ],
          [
           "HUMBOLDT CMTY SCHOOL DISTRICT"
          ],
          [
           "IKM-MANNING CMTY SCHOOL DIST"
          ],
          [
           "INDEPENDENCE CMTY SCH DISTRICT"
          ],
          [
           "INDIANOLA CMTY SCHOOL DISTRICT"
          ],
          [
           "INTERSTATE 35 CMTY SCHOOL DIST"
          ],
          [
           "IOWA CITY CMTY SCHOOL DISTRICT"
          ],
          [
           "IOWA FALLS CMTY SCHOOL DIST"
          ],
          [
           "IOWA VALLEY CMTY SCH DISTRICT"
          ],
          [
           "JANESVILLE CONS SCHOOL DIST"
          ],
          [
           "JESUP CMTY SCHOOL DISTRICT"
          ],
          [
           "JOHNSTON CMTY SCHOOL DISTRICT"
          ],
          [
           "KEOKUK CMTY SCHOOL DISTRICT"
          ],
          [
           "KEOTA CMTY SCHOOL DISTRICT"
          ],
          [
           "KINGSLEY-PIERSON CMTY SCH DIST"
          ],
          [
           "KNOXVILLE CMTY SCHOOL DISTRICT"
          ],
          [
           "LAKE MILLS CMTY SCH DISTRICT"
          ],
          [
           "LAMONI CMTY SCHOOL DISTRICT"
          ],
          [
           "LAWTON-BRONSON CMTY SCH DIST"
          ],
          [
           "LE MARS CMTY SCHOOL DISTRICT"
          ],
          [
           "LENOX CMTY SCHOOL DISTRICT"
          ],
          [
           "LEWIS CENTRAL CMTY SCH DIST"
          ],
          [
           "LINN-MAR CMTY SCHOOL DISTRICT"
          ],
          [
           "LISBON CMTY SCHOOL DISTRICT"
          ],
          [
           "LOGAN-MAGNOLIA CMTY SCH DIST"
          ],
          [
           "LONE TREE CMTY SCHOOL DISTRICT"
          ],
          [
           "LOUISA-MUSCATINE CMTY SCH DIST"
          ],
          [
           "LYNNVILLE-SULLY CMTY SCH DIST"
          ],
          [
           "MFL MARMAC CMTY SCHOOL DIST"
          ],
          [
           "MOC-FLOYD VALLEY CMTY SCH DIST"
          ],
          [
           "MADRID CMTY SCHOOL DISTRICT"
          ],
          [
           "MANSON NW WEBSTER CMTY SD"
          ],
          [
           "MAPLE VALLEY ANTHON-OTO SD"
          ],
          [
           "MAQUOKETA CMTY SCHOOL DISTRICT"
          ],
          [
           "MAQUOKETA VALLEY CMTY SCH DIST"
          ],
          [
           "MARCUS-MERIDEN-CLEGHORN CSD"
          ],
          [
           "MARION IND SCHOOL DISTRICT"
          ],
          [
           "MARSHALLTOWN CMTY SCHOOL DIST"
          ],
          [
           "MARTENSDALE-ST MARYS CMTY SD"
          ],
          [
           "MASON CITY CMTY SCH DISTRICT"
          ],
          [
           "MEDIAPOLIS CMTY SCH DISTRICT"
          ],
          [
           "MID-PRAIRIE CMTY SCHOOL DIST"
          ],
          [
           "MIDLAND CMTY SCHOOL DISTRICT"
          ],
          [
           "MISSOURI VALLEY CMTY SCH DIST"
          ],
          [
           "MONTEZUMA CMTY SCHOOL DISTRICT"
          ],
          [
           "MONTICELLO CMTY SCH DISTRICT"
          ],
          [
           "MORAVIA CMTY SCHOOL DISTRICT"
          ],
          [
           "MT AYR CMTY SCHOOL DISTRICT"
          ],
          [
           "MT PLEASANT CMTY SCHOOL DIST"
          ],
          [
           "MT VERNON CMTY SCHOOL DISTRICT"
          ],
          [
           "MURRAY CMTY SCHOOL DISTRICT"
          ],
          [
           "MUSCATINE CMTY SCHOOL DISTRICT"
          ],
          [
           "NASHUA-PLAINFIELD CMTY SD"
          ],
          [
           "NEVADA CMTY SCHOOL DISTRICT"
          ],
          [
           "NEW HAMPTON CMTY SCH DISTRICT"
          ],
          [
           "NEW LONDON CMTY SCH DISTRICT"
          ],
          [
           "NEWELL-FONDA CMTY SCHOOL DIST"
          ],
          [
           "NEWTON CMTY SCHOOL DISTRICT"
          ],
          [
           "NODAWAY VALLEY CMTY SCH DIST"
          ],
          [
           "NORTH BUTLER CMTY SCH DIST"
          ],
          [
           "NORTH CEDAR CMTY SCHOOL DIST"
          ],
          [
           "NORTH FAYETTE VALLEY CMTY SD"
          ],
          [
           "NORTH IOWA CMTY SCH DISTRICT"
          ],
          [
           "NORTH-LINN CMTY SCHOOL DIST"
          ],
          [
           "NORTH MAHASKA CMTY SCH DIST"
          ],
          [
           "NORTH POLK CMTY SCHOOL DIST"
          ],
          [
           "NORTH SCOTT CMTY SCHOOL DIST"
          ],
          [
           "NORTH TAMA CO CMTY SCH DIST"
          ],
          [
           "NORTH UNION CMTY SCHOOL DIST"
          ],
          [
           "NORTHEAST CMTY SCH DISTRICT"
          ],
          [
           "NORTHWOOD-KENSETT CMTY SD"
          ],
          [
           "NORWALK CMTY SCHOOL DISTRICT"
          ],
          [
           "OABCIG CMTY SD"
          ],
          [
           "OELWEIN CMTY SCHOOL DISTRICT"
          ],
          [
           "OGDEN CMTY SCHOOL DISTRICT"
          ],
          [
           "OKOBOJI CMTY SCHOOL DISTRICT"
          ],
          [
           "OSAGE CMTY SCHOOL DISTRICT"
          ],
          [
           "OSKALOOSA CMTY SCHOOL DISTRICT"
          ],
          [
           "OTTUMWA CMTY SCHOOL DISTRICT"
          ],
          [
           "PRAIRIE CITY-MONROE CMTY SD 21"
          ],
          [
           "PANORAMA CMTY SCHOOL DISTRICT"
          ],
          [
           "PEKIN CMTY SCHOOL DISTRICT"
          ],
          [
           "PELLA CMTY SCHOOL DISTRICT"
          ],
          [
           "PERRY CMTY SCHOOL DISTRICT"
          ],
          [
           "PLEASANT VALLEY CMTY SCH DIST"
          ],
          [
           "PLEASANTVILLE CMTY SCHOOL DIST"
          ],
          [
           "POCAHONTAS AREA CMTY SCH DIST"
          ],
          [
           "POSTVILLE CMTY SCHOOL DISTRICT"
          ],
          [
           "PRAIRIE VALLEY CMTY SCH DIST"
          ],
          [
           "RED OAK CMTY SCHOOL DISTRICT"
          ],
          [
           "RIVER VALLEY SCHOOL DISTRICT"
          ],
          [
           "RIVERSIDE CMTY SCHOOL DISTRICT"
          ],
          [
           "ROCK VALLEY SCHOOL DISTRICT"
          ],
          [
           "ROLAND-STORY CMTY SCHOOL DIST"
          ],
          [
           "RUDD-ROCKFORD-MARBLE ROCK CSD"
          ],
          [
           "SAYDEL CMTY SCHOOL DISTRICT"
          ],
          [
           "SERGEANT BLUFF-LUTON CMTY SD"
          ],
          [
           "SHELDON CMTY SCHOOL DISTRICT"
          ],
          [
           "SHENANDOAH CMTY SCH DISTRICT"
          ],
          [
           "SIBLEY-OCHEYEDAN CMTY SCH DIST"
          ],
          [
           "SIDNEY CMTY SCHOOL DISTRICT"
          ],
          [
           "SIGOURNEY CMTY SCHOOL DISTRICT"
          ],
          [
           "SIOUX CENTER CMTY SCHOOL DIST"
          ],
          [
           "SIOUX CENTRAL CMTY SCHOOL DIST"
          ],
          [
           "SIOUX CITY CMTY SCHOOL DIST"
          ],
          [
           "SOLON CMTY SCHOOL DISTRICT"
          ],
          [
           "SOUTH CENTRAL CALHOUN CMTY SD"
          ],
          [
           "SOUTH HAMILTON CMTY SCH DIST"
          ],
          [
           "SOUTH O'BRIEN CMTY SCHOOL DIST"
          ],
          [
           "SOUTH TAMA CO CMTY SCHOOL DIST"
          ],
          [
           "SOUTH WINNESHIEK CMTY SCH DIST"
          ],
          [
           "SOUTHEAST POLK CMTY SCH DIST"
          ],
          [
           "SOUTHEAST WARREN CMTY SCH DIST"
          ],
          [
           "SPENCER CMTY SCHOOL DISTRICT"
          ],
          [
           "SPIRIT LAKE CMTY SCH DISTRICT"
          ],
          [
           "SPRINGVILLE CMTY SCHOOL DIST"
          ],
          [
           "ST ANSGAR CMTY SCHOOL DISTRICT"
          ],
          [
           "STARMONT CMTY SCHOOL DISTRICT"
          ],
          [
           "STORM LAKE CMTY SCH DISTRICT"
          ],
          [
           "SUMNER-FREDERICKSBURG SCHOOLS"
          ],
          [
           "TIPTON CMTY SCHOOL DISTRICT"
          ],
          [
           "TREYNOR CMTY SCHOOL DISTRICT"
          ],
          [
           "TRI-CENTER CMTY SCH DISTRICT"
          ],
          [
           "TRIPOLI CMTY SCHOOL DISTRICT"
          ],
          [
           "TURKEY VALLEY CMTY SCHOOL DIST"
          ],
          [
           "UNDERWOOD CMTY SCHOOL DISTRICT"
          ],
          [
           "UNION CMTY SCHOOL DISTRICT"
          ],
          [
           "URBANDALE CMTY SCHOOL DISTRICT"
          ],
          [
           "VAN BUREN CO CMTY SCHOOL DIST"
          ],
          [
           "VAN METER CMTY SCHOOL DISTRICT"
          ],
          [
           "VINTON-SHELLSBURG CMTY SD"
          ],
          [
           "WACO CMTY SCHOOL DISTRICT"
          ],
          [
           "WAPELLO CMTY SCHOOL DISTRICT"
          ],
          [
           "WAPSIE VALLEY CMTY SCHOOL DIST"
          ],
          [
           "WASHINGTON CMTY SCH DISTRICT"
          ],
          [
           "WATERLOO CMTY SCHOOL DISTRICT"
          ],
          [
           "WAUKEE CMTY SCHOOL DISTRICT"
          ],
          [
           "WAVERLY-SHELL ROCK CMTY SD"
          ],
          [
           "WAYNE CMTY SCHOOL DISTRICT"
          ],
          [
           "WEBSTER CITY CMTY SCHOOL DIST"
          ],
          [
           "WEST BRANCH CMTY SCH DISTRICT"
          ],
          [
           "WEST BURLINGTON IND SCH DIST"
          ],
          [
           "WEST CENTRAL VALLEY CMTY SD"
          ],
          [
           "WEST DELAWARE CO CMTY SCH DIST"
          ],
          [
           "WEST DES MOINES CMTY SCH DIST"
          ],
          [
           "WEST FORK CMTY SCHOOL DISTRICT"
          ],
          [
           "WEST HANCOCK CMTY SCH DISTRICT"
          ],
          [
           "WEST HARRISON CMTY SCHOOL DIST"
          ],
          [
           "WEST LIBERTY CMTY SCHOOL DIST"
          ],
          [
           "WEST LYON CMTY SCHOOL DISTRICT"
          ],
          [
           "WEST MARSHALL CMTY SCHOOL DIST"
          ],
          [
           "WEST MONONA CMTY SCHOOL DIST"
          ],
          [
           "WEST SIOUX CMTY SCH DISTRICT"
          ],
          [
           "WESTERN DUBUQUE CMTY SD"
          ],
          [
           "WESTWOOD CMTY SCHOOL DISTRICT"
          ],
          [
           "WILLIAMSBURG CMTY SCH DISTRICT"
          ],
          [
           "WILTON CMTY SCHOOL DISTRICT"
          ],
          [
           "WINFIELD-MT UNION CMTY SD"
          ],
          [
           "WINTERSET CMTY SCHOOL DISTRICT"
          ],
          [
           "WOODBINE CMTY SCHOOL DISTRICT"
          ],
          [
           "WOODBURY CENTRAL CMTY SCH DIST"
          ],
          [
           "WOODWARD-GRANGER CMTY SCH DIST"
          ]
         ],
         "hovertemplate": "Average Regular Salary--Teacher Only=%{x}<br>Avg Comp=%{y}<br>District Name=%{customdata[0]}<br>Average Age--Teacher Only=%{marker.color}<extra></extra>",
         "legendgroup": "",
         "marker": {
          "color": [
           47.96,
           34.507462686567166,
           42.4,
           45.80555555555556,
           33.57142857142857,
           44.981818181818184,
           40.714285714285715,
           41.30555555555556,
           40.409774436090224,
           37.629629629629626,
           37.91962174940898,
           37.36363636363637,
           37.20967741935484,
           38.904761904761905,
           39.29113924050633,
           34.52,
           41.52,
           39.64,
           40.4054054054054,
           41.55263157894737,
           40.45614035087719,
           40.41729323308271,
           36.59340659340659,
           39.94565217391305,
           43.16129032258065,
           45.04761904761905,
           41.6,
           43.13389121338912,
           42.241379310344826,
           39.333333333333336,
           36.25714285714286,
           34.42168674698795,
           42.013698630136986,
           40.48221343873518,
           41.4031007751938,
           42.172413793103445,
           45.39705882352941,
           37.285714285714285,
           40.26315789473684,
           39.64102564102564,
           44.48571428571429,
           40.93617021276596,
           39.689655172413794,
           42,
           42.49090909090909,
           39.36363636363637,
           40.904761904761905,
           39.68181818181818,
           41.27272727272727,
           40.9277108433735,
           45.46666666666667,
           42.61904761904762,
           38.088050314465406,
           41,
           41.44186046511628,
           40.486486486486484,
           37.69491525423729,
           38.529411764705884,
           35.64,
           43.06521739130435,
           40,
           39.78290993071594,
           41.36363636363637,
           39.14074074074074,
           44.88235294117647,
           43.28423772609819,
           40.224489795918366,
           40.73134328358209,
           40.7319587628866,
           40.404761904761905,
           40.30746705710102,
           38.717948717948715,
           40.3605220228385,
           35.88461538461539,
           44.82857142857143,
           39.10526315789474,
           43.22222222222222,
           42.63333333333333,
           37.827586206896555,
           39.36363636363637,
           39.813559322033896,
           49.15625,
           43.06666666666667,
           39.95652173913044,
           39.35526315789474,
           39.689655172413794,
           39.65384615384615,
           41.10344827586207,
           41.8421052631579,
           42,
           36.411764705882355,
           42.11363636363637,
           41.76315789473684,
           40.06896551724138,
           44.70103092783505,
           38.26086956521739,
           42.43478260869565,
           40.95652173913044,
           38.357142857142854,
           41.48979591836735,
           41.24,
           42.92134831460674,
           39.869565217391305,
           43.9375,
           42.098591549295776,
           43.04,
           40.70454545454545,
           41.71875,
           40.76190476190476,
           40.73770491803279,
           44.224137931034484,
           38.142857142857146,
           45.333333333333336,
           38.733333333333334,
           43,
           39.89655172413793,
           42.810344827586206,
           41.96551724137931,
           41.61538461538461,
           42.225806451612904,
           43.24444444444445,
           39.18779342723005,
           39.93617021276596,
           44.6875,
           37.9375,
           39.22222222222222,
           41.99361022364217,
           45.35227272727273,
           39.6,
           41.05555555555556,
           40.25352112676056,
           42.416666666666664,
           44.3,
           41.88235294117647,
           44.61971830985915,
           39.391304347826086,
           44.108333333333334,
           41.798219584569736,
           38.20454545454545,
           44.21212121212121,
           33,
           42.6,
           37.8,
           41.6,
           42.91489361702128,
           38.32258064516129,
           41.8974358974359,
           43.729729729729726,
           43.690140845070424,
           38.869565217391305,
           38.9,
           41.56962025316456,
           39.738351254480285,
           37.03448275862069,
           41.44,
           40.87096774193548,
           41.38356164383562,
           37.96296296296296,
           38.666666666666664,
           39.63157894736842,
           40,
           38.9,
           36.1764705882353,
           41.66315789473684,
           41.94444444444444,
           36.666666666666664,
           40.67003367003367,
           39.64,
           41.79365079365079,
           38.527272727272724,
           38.65217391304348,
           39.38095238095238,
           38.855932203389834,
           40.96969696969697,
           42.03846153846154,
           40.80952380952381,
           41.55223880597015,
           33.93333333333333,
           40.2,
           41.72,
           40.026315789473685,
           40.64028776978417,
           39.34782608695652,
           40.529411764705884,
           37.883720930232556,
           39.22727272727273,
           38.81060606060606,
           38.734693877551024,
           40.175438596491226,
           39.44,
           41.170212765957444,
           41.86206896551724,
           40.5,
           42.54644808743169,
           36.92307692307692,
           42.65384615384615,
           43.035714285714285,
           42.36046511627907,
           37.88461538461539,
           39.18681318681319,
           41.52777777777778,
           42.2,
           37.025,
           36.10526315789474,
           46.6530612244898,
           38.125,
           37.583333333333336,
           37.794117647058826,
           46.642857142857146,
           38.8,
           36.15384615384615,
           42.306451612903224,
           39.55,
           39.59375,
           38.89655172413793,
           41.54545454545455,
           40.1875,
           37.88,
           39.411764705882355,
           41.95678092399404,
           39.73770491803279,
           41.8,
           37.55555555555556,
           33.93333333333333,
           38.74626865671642,
           45.4375,
           39.31641791044776,
           41.72,
           41.674418604651166,
           41.87755102040816,
           29.647058823529413,
           43.94117647058823,
           35.074074074074076,
           39.157407407407405,
           39.67741935483871,
           34.53488372093023,
           39.57692307692308,
           44.37931034482759,
           40,
           45.875,
           39.833333333333336,
           42.333333333333336,
           38.33031674208145,
           41.8421052631579,
           41.107142857142854,
           42.442622950819676,
           39.64,
           43.07142857142857,
           40.148148148148145,
           38.6,
           39.84700315457413,
           36.809330628803245,
           42.45945945945946,
           42.34615384615385,
           43.82142857142857,
           38.34782608695652,
           42.390243902439025,
           39.06818181818182,
           43,
           42.34057971014493,
           42.23076923076923,
           44,
           37.94117647058823,
           38.392857142857146,
           37.26315789473684,
           37.26,
           44.166666666666664,
           38.51063829787234,
           39.57823129251701,
           40.541666666666664,
           38.84313725490196,
           40.3,
           37.81818181818182,
           37.378787878787875,
           42.65217391304348,
           41.90909090909091,
           35.49122807017544
          ],
          "coloraxis": "coloraxis",
          "line": {
           "width": 1
          },
          "size": 10,
          "symbol": "circle"
         },
         "mode": "markers",
         "name": "",
         "orientation": "v",
         "showlegend": false,
         "type": "scatter",
         "x": [
          53497.8,
          50345.50746268657,
          51892.52,
          56955.444444444445,
          48921.53571428572,
          59260.781818181815,
          51845.166666666664,
          48649.833333333336,
          56444.57142857143,
          47559.27777777778,
          64350.53191489362,
          50163.84848484849,
          51303.1935483871,
          48931.42857142857,
          55642.40506329114,
          43143.2,
          45934.68,
          44953.04,
          53194.86486486487,
          52220.78947368421,
          54258.666666666664,
          56479.66541353383,
          51319.43956043956,
          60496.184782608696,
          59019.32258064516,
          52030.142857142855,
          49476.92,
          56801.355648535566,
          44590.41379310345,
          44291.666666666664,
          40436.885714285716,
          49749.32530120482,
          53397.397260273974,
          59385.56916996047,
          61797.35658914729,
          53204.89655172414,
          56855.117647058825,
          44994.90476190476,
          50129.31578947369,
          49712.64102564102,
          47156.94285714286,
          56033.31914893617,
          51566.10344827586,
          49111.75,
          54314.781818181815,
          54672.893939393936,
          54695.380952380954,
          49835.454545454544,
          55231.48484848485,
          50452.75903614458,
          47355.333333333336,
          51404.19047619047,
          53005.377358490565,
          53314.85294117647,
          54420.41279069767,
          49279.48648648649,
          60414.220338983054,
          45244.64705882353,
          47174.44,
          51415,
          46668.57142857143,
          62702.06466512702,
          51908.704545454544,
          55220.718518518515,
          50711.529411764706,
          58744.16408268734,
          55057.65306122449,
          52195.746268656716,
          62008.83505154639,
          55037.857142857145,
          57812.88653001464,
          51180.666666666664,
          53497.90212071778,
          42324.57692307692,
          53565.2,
          47178.57894736842,
          47397.444444444445,
          51435.36666666667,
          44205.96551724138,
          41935.13636363636,
          46146.42372881356,
          44796.09375,
          47230.333333333336,
          45204.565217391304,
          46812.60526315789,
          44002.93103448276,
          48646,
          49298.137931034486,
          50742.57894736842,
          54350.56923076923,
          43021.17647058824,
          49122.181818181816,
          50822.07894736842,
          55296.887931034486,
          59861.845360824744,
          48234.782608695656,
          45572.69565217391,
          50806.63043478261,
          45258.71428571428,
          61335.08163265306,
          44890.28,
          52247.168539325845,
          44090.34782608696,
          53404.875,
          49080.859154929574,
          44179.64,
          49375.204545454544,
          44981.34375,
          48485.04761904762,
          51853.59016393442,
          64451.5,
          47587.107142857145,
          52344.77777777778,
          52671.5,
          54450.46808510638,
          53711.862068965514,
          52705.1724137931,
          52950.96551724138,
          55718.4,
          65868.21774193548,
          50958.666666666664,
          66065.19405320814,
          54897.36170212766,
          58265.1875,
          46834.0625,
          55181.27777777778,
          64692.827476038336,
          60625.204545454544,
          41298,
          51164.11111111111,
          55251.23943661972,
          56174.208333333336,
          50538.35,
          50883.029411764706,
          68663.7042253521,
          46535.04347826087,
          65157.075,
          66537.93175074185,
          48040.15909090909,
          50645.393939393936,
          40919.4,
          53661.75,
          45463.6,
          51143.28571428572,
          60735.89361702128,
          48966.967741935485,
          47554.820512820515,
          47088.67567567567,
          51328.67605633803,
          50584.260869565216,
          45147.4,
          57085.784810126584,
          58987.81720430108,
          46657.10344827586,
          62313.04,
          51318.83870967742,
          52509.24657534246,
          41012.11111111111,
          47217.58974358974,
          48338.26315789474,
          52749.622641509435,
          40576.6,
          45270.970588235294,
          52500.44210526316,
          59295.68518518518,
          42391.666666666664,
          53097.53872053872,
          56719.08,
          58303.333333333336,
          47930.30909090909,
          46859.086956521736,
          51463.57142857143,
          54754.99152542373,
          46775.72727272727,
          50133.153846153844,
          46401.90476190476,
          57429.55223880597,
          44848.13333333333,
          52412.88,
          50473.8,
          52074.10526315789,
          57492.11510791367,
          49479.30434782609,
          44741.82352941176,
          46925.023255813954,
          52599.59090909091,
          55618.469696969696,
          49957.836734693876,
          57538.10526315789,
          52388.92,
          51614.59574468085,
          56148.55172413793,
          52511.882978723406,
          59047.81420765027,
          46737.230769230766,
          50627.269230769234,
          50721.142857142855,
          55866.976744186046,
          51139.205128205125,
          63454.18681318681,
          48919.555555555555,
          55733.71428571428,
          48083.825,
          45092.42105263158,
          55938.163265306124,
          45354.333333333336,
          49409.694444444445,
          54606.029411764706,
          67784.21428571429,
          49557.7,
          48887.192307692305,
          65472.62903225807,
          55650.775,
          49845.859375,
          47316.275862068964,
          46763.818181818184,
          47721.3125,
          56953,
          47109.91176470588,
          62499.934426229505,
          57885.2131147541,
          49900,
          55986.148148148146,
          45455.23333333333,
          43609.77611940299,
          55692.4375,
          63414.0776119403,
          49468.32,
          58289.267441860466,
          58688.73469387755,
          38812.82352941176,
          59515.64705882353,
          48961.03703703704,
          56447.51851851852,
          55998.83870967742,
          45882.48837209302,
          51116.42307692308,
          53309.58620689655,
          50409.5,
          53013.9375,
          51372.916666666664,
          52050.833333333336,
          57718.8778280543,
          47170.9649122807,
          55383.42857142857,
          52781.39344262295,
          44079.8,
          51780.17857142857,
          51873.25925925926,
          50269.43529411765,
          56289.43690851735,
          63153.04665314402,
          61725.69369369369,
          47823.153846153844,
          55487.357142857145,
          50226.95652173913,
          50127.26829268293,
          47418.13636363636,
          57955.666666666664,
          65450.25362318841,
          49554.179487179485,
          54019.78125,
          46680.529411764706,
          47664.78571428572,
          52651.92105263158,
          49070,
          46028.38888888889,
          50907.87234042553,
          56370.401360544216,
          49122.708333333336,
          51914.549019607846,
          55867.35,
          45060.954545454544,
          52165.454545454544,
          44204.17391304348,
          52364.878787878784,
          44179.98245614035
         ],
         "xaxis": "x",
         "y": [
          20.9,
          23.3,
          21.1,
          21.8,
          22.6,
          21.4,
          22,
          20.7,
          25.4,
          21.7,
          24.1,
          21.3,
          22.6,
          21.6,
          23.1,
          24.1,
          20.8,
          21,
          18.9,
          22.8,
          20.8,
          23.2,
          22.6,
          18.5,
          23,
          22.3,
          20.5,
          21.5,
          21.2,
          17.2,
          19,
          19.7,
          22.8,
          24.3,
          19.9,
          22.8,
          20.7,
          21.1,
          20.4,
          20.3,
          20.6,
          23.5,
          23.3,
          21.8,
          21.2,
          19.5,
          20.8,
          21.9,
          21,
          20.6,
          20.5,
          21.8,
          22.3,
          23.6,
          19.9,
          18.6,
          22.6,
          17.5,
          22.2,
          16,
          21.4,
          20.7,
          21.6,
          21.9,
          23.1,
          18.2,
          21.1,
          24.5,
          18.4,
          23,
          16.8,
          21.5,
          22.8,
          20.4,
          20.1,
          20.4,
          20.9,
          22.8,
          22.1,
          21.1,
          20.4,
          19.2,
          23.1,
          19.9,
          19.8,
          20.3,
          19.9,
          21.3,
          22.7,
          19.5,
          20.1,
          22.3,
          23.8,
          18,
          20.7,
          19.6,
          22.6,
          21.9,
          22.1,
          24.4,
          20.3,
          21.6,
          20.6,
          21.9,
          25.3,
          20,
          22.2,
          23.1,
          20.9,
          20.3,
          21.9,
          22.4,
          20.7,
          20.9,
          21.3,
          22.1,
          21.8,
          21.6,
          21.5,
          22.2,
          21.2,
          24.7,
          19.3,
          23.3,
          22,
          22.1,
          23.8,
          20.6,
          22.9,
          22.6,
          21.6,
          22.2,
          21,
          21.6,
          22.1,
          17.4,
          20.8,
          24,
          22.7,
          19.8,
          20.9,
          20.3,
          22.2,
          19.8,
          21.6,
          22.1,
          20.5,
          20.8,
          21.1,
          23.9,
          20.7,
          22.7,
          19.7,
          20.9,
          21.1,
          22,
          22.6,
          19.1,
          21.7,
          20.8,
          22.3,
          18.6,
          20.4,
          22,
          22.2,
          19.6,
          18.7,
          21.8,
          22.8,
          21.4,
          20.8,
          18.7,
          21.3,
          21.3,
          20.5,
          20.2,
          21.1,
          19.7,
          22.1,
          20.6,
          22,
          22.5,
          19.3,
          18.5,
          17.7,
          21.7,
          21.4,
          22.9,
          20.6,
          23.6,
          21.4,
          22.2,
          20.3,
          17.2,
          22.2,
          21.4,
          20.1,
          22.9,
          16.7,
          25.2,
          21.6,
          23.1,
          20.4,
          23.6,
          19.2,
          18.8,
          20,
          20.7,
          22.9,
          20.4,
          18.9,
          21.6,
          21.1,
          20,
          20.8,
          21.5,
          21.5,
          20,
          20.2,
          18.6,
          23.4,
          20.8,
          21.9,
          22.7,
          17.9,
          22.8,
          22.4,
          21.3,
          21.7,
          22,
          20.3,
          21.7,
          20.7,
          17.4,
          20.8,
          22.4,
          22.4,
          21.2,
          22.5,
          21.6,
          22,
          21.4,
          22.3,
          23,
          22.8,
          19.4,
          20.9,
          19.7,
          22.2,
          21,
          20,
          23,
          22.5,
          18.5,
          20.6,
          21.7,
          22.5,
          19.9,
          21.2,
          21.6,
          21,
          21.2,
          18.5,
          20.2,
          22.7,
          21.5,
          20.6,
          20.2,
          22.8,
          19.8,
          21.9,
          20.1,
          20.1,
          23.9,
          23,
          22.9,
          22.8
         ],
         "yaxis": "y"
        },
        {
         "hovertemplate": "<b>OLS trendline</b><br>Avg Comp = 6.62726e-05 * Average Regular Salary--Teacher Only + 17.8131<br>R<sup>2</sup>=0.055657<br><br>Average Regular Salary--Teacher Only=%{x}<br>Avg Comp=%{y} <b>(trend)</b><extra></extra>",
         "legendgroup": "Overall Trendline",
         "line": {
          "color": "red"
         },
         "marker": {
          "line": {
           "width": 1
          },
          "size": 10
         },
         "mode": "lines",
         "name": "Overall Trendline",
         "showlegend": true,
         "type": "scatter",
         "x": [
          38812.82352941176,
          40436.885714285716,
          40576.6,
          40919.4,
          41012.11111111111,
          41298,
          41935.13636363636,
          42324.57692307692,
          42391.666666666664,
          43021.17647058824,
          43143.2,
          43609.77611940299,
          44002.93103448276,
          44079.8,
          44090.34782608696,
          44179.64,
          44179.98245614035,
          44204.17391304348,
          44205.96551724138,
          44291.666666666664,
          44590.41379310345,
          44741.82352941176,
          44796.09375,
          44848.13333333333,
          44890.28,
          44953.04,
          44981.34375,
          44994.90476190476,
          45060.954545454544,
          45092.42105263158,
          45147.4,
          45204.565217391304,
          45244.64705882353,
          45258.71428571428,
          45270.970588235294,
          45354.333333333336,
          45455.23333333333,
          45463.6,
          45572.69565217391,
          45882.48837209302,
          45934.68,
          46028.38888888889,
          46146.42372881356,
          46401.90476190476,
          46535.04347826087,
          46657.10344827586,
          46668.57142857143,
          46680.529411764706,
          46737.230769230766,
          46763.818181818184,
          46775.72727272727,
          46812.60526315789,
          46834.0625,
          46859.086956521736,
          46925.023255813954,
          47088.67567567567,
          47109.91176470588,
          47156.94285714286,
          47170.9649122807,
          47174.44,
          47178.57894736842,
          47217.58974358974,
          47230.333333333336,
          47316.275862068964,
          47355.333333333336,
          47397.444444444445,
          47418.13636363636,
          47554.820512820515,
          47559.27777777778,
          47587.107142857145,
          47664.78571428572,
          47721.3125,
          47823.153846153844,
          47930.30909090909,
          48040.15909090909,
          48083.825,
          48234.782608695656,
          48338.26315789474,
          48485.04761904762,
          48646,
          48649.833333333336,
          48887.192307692305,
          48919.555555555555,
          48921.53571428572,
          48931.42857142857,
          48961.03703703704,
          48966.967741935485,
          49070,
          49080.859154929574,
          49111.75,
          49122.181818181816,
          49122.708333333336,
          49279.48648648649,
          49298.137931034486,
          49375.204545454544,
          49409.694444444445,
          49468.32,
          49476.92,
          49479.30434782609,
          49554.179487179485,
          49557.7,
          49712.64102564102,
          49749.32530120482,
          49835.454545454544,
          49845.859375,
          49900,
          49957.836734693876,
          50127.26829268293,
          50129.31578947369,
          50133.153846153844,
          50163.84848484849,
          50226.95652173913,
          50269.43529411765,
          50345.50746268657,
          50409.5,
          50452.75903614458,
          50473.8,
          50538.35,
          50584.260869565216,
          50627.269230769234,
          50645.393939393936,
          50711.529411764706,
          50721.142857142855,
          50742.57894736842,
          50806.63043478261,
          50822.07894736842,
          50883.029411764706,
          50907.87234042553,
          50958.666666666664,
          51116.42307692308,
          51139.205128205125,
          51143.28571428572,
          51164.11111111111,
          51180.666666666664,
          51303.1935483871,
          51318.83870967742,
          51319.43956043956,
          51328.67605633803,
          51372.916666666664,
          51404.19047619047,
          51415,
          51435.36666666667,
          51463.57142857143,
          51566.10344827586,
          51614.59574468085,
          51780.17857142857,
          51845.166666666664,
          51853.59016393442,
          51873.25925925926,
          51892.52,
          51908.704545454544,
          51914.549019607846,
          52030.142857142855,
          52050.833333333336,
          52074.10526315789,
          52165.454545454544,
          52195.746268656716,
          52220.78947368421,
          52247.168539325845,
          52344.77777777778,
          52364.878787878784,
          52388.92,
          52412.88,
          52500.44210526316,
          52509.24657534246,
          52511.882978723406,
          52599.59090909091,
          52651.92105263158,
          52671.5,
          52705.1724137931,
          52749.622641509435,
          52781.39344262295,
          52950.96551724138,
          53005.377358490565,
          53013.9375,
          53097.53872053872,
          53194.86486486487,
          53204.89655172414,
          53309.58620689655,
          53314.85294117647,
          53397.397260273974,
          53404.875,
          53497.8,
          53497.90212071778,
          53565.2,
          53661.75,
          53711.862068965514,
          54019.78125,
          54258.666666666664,
          54314.781818181815,
          54350.56923076923,
          54420.41279069767,
          54450.46808510638,
          54606.029411764706,
          54672.893939393936,
          54695.380952380954,
          54754.99152542373,
          54897.36170212766,
          55037.857142857145,
          55057.65306122449,
          55181.27777777778,
          55220.718518518515,
          55231.48484848485,
          55251.23943661972,
          55296.887931034486,
          55383.42857142857,
          55487.357142857145,
          55618.469696969696,
          55642.40506329114,
          55650.775,
          55692.4375,
          55718.4,
          55733.71428571428,
          55866.976744186046,
          55867.35,
          55938.163265306124,
          55986.148148148146,
          55998.83870967742,
          56033.31914893617,
          56148.55172413793,
          56174.208333333336,
          56289.43690851735,
          56370.401360544216,
          56444.57142857143,
          56447.51851851852,
          56479.66541353383,
          56719.08,
          56801.355648535566,
          56855.117647058825,
          56953,
          56955.444444444445,
          57085.784810126584,
          57429.55223880597,
          57492.11510791367,
          57538.10526315789,
          57718.8778280543,
          57812.88653001464,
          57885.2131147541,
          57955.666666666664,
          58265.1875,
          58289.267441860466,
          58303.333333333336,
          58688.73469387755,
          58744.16408268734,
          58987.81720430108,
          59019.32258064516,
          59047.81420765027,
          59260.781818181815,
          59295.68518518518,
          59385.56916996047,
          59515.64705882353,
          59861.845360824744,
          60414.220338983054,
          60496.184782608696,
          60625.204545454544,
          60735.89361702128,
          61335.08163265306,
          61725.69369369369,
          61797.35658914729,
          62008.83505154639,
          62313.04,
          62499.934426229505,
          62702.06466512702,
          63153.04665314402,
          63414.0776119403,
          63454.18681318681,
          64350.53191489362,
          64451.5,
          64692.827476038336,
          65157.075,
          65450.25362318841,
          65472.62903225807,
          65868.21774193548,
          66065.19405320814,
          66537.93175074185,
          67784.21428571429,
          68663.7042253521
         ],
         "xaxis": "x",
         "y": [
          20.38530724050958,
          20.492938081715312,
          20.50219731220534,
          20.524915563211344,
          20.531059770601274,
          20.55000637368647,
          20.592231063984435,
          20.618040306636974,
          20.62248651910722,
          20.664205777380936,
          20.672292595262544,
          20.703213812864657,
          20.7292692155631,
          20.734363522602752,
          20.73506255457653,
          20.740980180071944,
          20.741002875534473,
          20.742606106544176,
          20.742724840832015,
          20.748404479758932,
          20.768203231817605,
          20.778237550353793,
          20.78183417956463,
          20.78528297862068,
          20.788076148260117,
          20.792235417318278,
          20.79411118072817,
          20.79500990439313,
          20.799387195996328,
          20.80147256358189,
          20.80511616196684,
          20.808904650174274,
          20.811560978454438,
          20.81249325030818,
          20.81330550747585,
          20.81883017424273,
          20.825517080679447,
          20.82607156152372,
          20.833301615227775,
          20.853832387605124,
          20.85729126305204,
          20.86350159578037,
          20.87132407279572,
          20.888255467886268,
          20.897078918226974,
          20.9051681511225,
          20.905928164118084,
          20.906720650885035,
          20.910478397884145,
          20.912240415132572,
          20.9130296616802,
          20.91547366238965,
          20.916895689497217,
          20.918554125566498,
          20.922923896271655,
          20.933769569410973,
          20.93517694047566,
          20.938293813763494,
          20.939223091967232,
          20.939453395103392,
          20.939727693951745,
          20.942313041269426,
          20.94315759223358,
          20.948853227997603,
          20.951441668592246,
          20.954232481872186,
          20.95560378938093,
          20.964662204811816,
          20.964957599397874,
          20.966801924080517,
          20.971949885817686,
          20.975696063491025,
          20.982445355395086,
          20.989546813233357,
          20.996826859537354,
          20.99972071333879,
          21.00972506819764,
          21.016582994367255,
          21.026310783842902,
          21.036977518354252,
          21.03723156336258,
          21.052961962306618,
          21.055106759238726,
          21.055237989527708,
          21.055893614999523,
          21.05785584531923,
          21.058248888617147,
          21.065077105362843,
          21.06579676991186,
          21.067843986866638,
          21.06853533069366,
          21.068570224227415,
          21.078960321764143,
          21.080196401690824,
          21.085303807439303,
          21.08758954309398,
          21.09147481172431,
          21.09204475617779,
          21.092202773133444,
          21.097164944107597,
          21.09739825768381,
          21.107666603983812,
          21.110097766703277,
          21.115805776591905,
          21.116495331811535,
          21.120083372384382,
          21.123916363796702,
          21.13514503550829,
          21.135280728466363,
          21.13553508650322,
          21.137569300349206,
          21.141751634720784,
          21.144566813872835,
          21.149608315098387,
          21.153849267622302,
          21.156716156891292,
          21.1581105965012,
          21.162388493532813,
          21.16543112672618,
          21.16828140311238,
          21.169482574874188,
          21.17386554529927,
          21.174502653423932,
          21.17592327909001,
          21.180168138391014,
          21.18119195165412,
          21.185231298063364,
          21.186877703807355,
          21.190243976424703,
          21.20069890561377,
          21.20220873163319,
          21.202479162726625,
          21.203859316146634,
          21.204956496037692,
          21.213076672390983,
          21.214113518077163,
          21.214153338025913,
          21.21476546472439,
          21.21769740547732,
          21.219770002486293,
          21.220486377851405,
          21.22183613002611,
          21.223705333236484,
          21.230500397880004,
          21.23371410896981,
          21.244687715213505,
          21.24899464596036,
          21.24955289311694,
          21.25085641541756,
          21.252132874993723,
          21.25320546707673,
          21.253592795638028,
          21.261253501051876,
          21.26262471292915,
          21.26416700447859,
          21.270220959917427,
          21.272228471501766,
          21.273888150083476,
          21.27563635963584,
          21.282105178713014,
          21.28343732513352,
          21.285030599029255,
          21.286618490785685,
          21.29242146011469,
          21.293004955334165,
          21.293179676669524,
          21.298992310208924,
          21.30246036544853,
          21.30375791340871,
          21.30598947218505,
          21.308935304829546,
          21.31104083876875,
          21.32227882288424,
          21.32588483766603,
          21.326452140593272,
          21.331992611750234,
          21.338442669440575,
          21.33910749552016,
          21.346045552299444,
          21.34639459253093,
          21.35186502006995,
          21.352360589405,
          21.358518971770028,
          21.35852573957662,
          21.36298574574262,
          21.369384366322056,
          21.372705423968462,
          21.393112032032363,
          21.40894359229347,
          21.412662489893705,
          21.41503421516213,
          21.419662930230995,
          21.421654773061906,
          21.43196422832985,
          21.436395515150384,
          21.437885788211684,
          21.441836336522645,
          21.451271579842743,
          21.460582579515123,
          21.461894506709882,
          21.470087439443848,
          21.472701280307355,
          21.473414793103707,
          21.474723981236053,
          21.47774922614317,
          21.48348450032839,
          21.490372118100883,
          21.499061289379664,
          21.5006475485979,
          21.50120224615641,
          21.50396332880675,
          21.505683931466447,
          21.50669884916433,
          21.51553050021812,
          21.51555523685543,
          21.52024821683145,
          21.52342830029965,
          21.524269336945594,
          21.526554445679192,
          21.534191209295006,
          21.53589153977244,
          21.54352803829664,
          21.548893763920063,
          21.55380920797658,
          21.55400451932184,
          21.55613497798585,
          21.572001607711158,
          21.57745422975058,
          21.58101717775827,
          21.587504096845713,
          21.587666096561172,
          21.596304092896588,
          21.619086457927004,
          21.62323266260625,
          21.626280550268568,
          21.638260820117797,
          21.644491022241144,
          21.64928429384709,
          21.65395343467735,
          21.6744661884208,
          21.676062029037475,
          21.676994212389587,
          21.70253576678544,
          21.706209217100756,
          21.72235674561656,
          21.724444689163303,
          21.726332903672848,
          21.74044682325337,
          21.742759960512817,
          21.748716806859214,
          21.757337408170535,
          21.780280873522685,
          21.81688820550412,
          21.822320203181643,
          21.830870679719176,
          21.838206333486607,
          21.877916087684135,
          21.903802968806342,
          21.908552255990507,
          21.922567485836325,
          21.942727942009714,
          21.95511392359287,
          21.968509622260246,
          21.99839737606117,
          22.01569657921832,
          22.018354720704814,
          22.07775785083485,
          22.084449269449326,
          22.100442671360888,
          22.131209566863447,
          22.150639279673218,
          22.152122156451533,
          22.178338853072283,
          22.19139298749973,
          22.22272254897164,
          22.3053169464451,
          22.3636030409782
         ],
         "yaxis": "y"
        }
       ],
       "layout": {
        "coloraxis": {
         "cmax": 50,
         "cmin": 30,
         "colorbar": {
          "title": {
           "text": "Average Age--Teacher Only"
          }
         },
         "colorscale": [
          [
           0,
           "rgb(247,251,255)"
          ],
          [
           0.125,
           "rgb(222,235,247)"
          ],
          [
           0.25,
           "rgb(198,219,239)"
          ],
          [
           0.375,
           "rgb(158,202,225)"
          ],
          [
           0.5,
           "rgb(107,174,214)"
          ],
          [
           0.625,
           "rgb(66,146,198)"
          ],
          [
           0.75,
           "rgb(33,113,181)"
          ],
          [
           0.875,
           "rgb(8,81,156)"
          ],
          [
           1,
           "rgb(8,48,107)"
          ]
         ]
        },
        "legend": {
         "orientation": "h",
         "tracegroupgap": 0
        },
        "margin": {
         "t": 60
        },
        "template": {
         "data": {
          "bar": [
           {
            "error_x": {
             "color": "#2a3f5f"
            },
            "error_y": {
             "color": "#2a3f5f"
            },
            "marker": {
             "line": {
              "color": "#E5ECF6",
              "width": 0.5
             },
             "pattern": {
              "fillmode": "overlay",
              "size": 10,
              "solidity": 0.2
             }
            },
            "type": "bar"
           }
          ],
          "barpolar": [
           {
            "marker": {
             "line": {
              "color": "#E5ECF6",
              "width": 0.5
             },
             "pattern": {
              "fillmode": "overlay",
              "size": 10,
              "solidity": 0.2
             }
            },
            "type": "barpolar"
           }
          ],
          "carpet": [
           {
            "aaxis": {
             "endlinecolor": "#2a3f5f",
             "gridcolor": "white",
             "linecolor": "white",
             "minorgridcolor": "white",
             "startlinecolor": "#2a3f5f"
            },
            "baxis": {
             "endlinecolor": "#2a3f5f",
             "gridcolor": "white",
             "linecolor": "white",
             "minorgridcolor": "white",
             "startlinecolor": "#2a3f5f"
            },
            "type": "carpet"
           }
          ],
          "choropleth": [
           {
            "colorbar": {
             "outlinewidth": 0,
             "ticks": ""
            },
            "type": "choropleth"
           }
          ],
          "contour": [
           {
            "colorbar": {
             "outlinewidth": 0,
             "ticks": ""
            },
            "colorscale": [
             [
              0,
              "#0d0887"
             ],
             [
              0.1111111111111111,
              "#46039f"
             ],
             [
              0.2222222222222222,
              "#7201a8"
             ],
             [
              0.3333333333333333,
              "#9c179e"
             ],
             [
              0.4444444444444444,
              "#bd3786"
             ],
             [
              0.5555555555555556,
              "#d8576b"
             ],
             [
              0.6666666666666666,
              "#ed7953"
             ],
             [
              0.7777777777777778,
              "#fb9f3a"
             ],
             [
              0.8888888888888888,
              "#fdca26"
             ],
             [
              1,
              "#f0f921"
             ]
            ],
            "type": "contour"
           }
          ],
          "contourcarpet": [
           {
            "colorbar": {
             "outlinewidth": 0,
             "ticks": ""
            },
            "type": "contourcarpet"
           }
          ],
          "heatmap": [
           {
            "colorbar": {
             "outlinewidth": 0,
             "ticks": ""
            },
            "colorscale": [
             [
              0,
              "#0d0887"
             ],
             [
              0.1111111111111111,
              "#46039f"
             ],
             [
              0.2222222222222222,
              "#7201a8"
             ],
             [
              0.3333333333333333,
              "#9c179e"
             ],
             [
              0.4444444444444444,
              "#bd3786"
             ],
             [
              0.5555555555555556,
              "#d8576b"
             ],
             [
              0.6666666666666666,
              "#ed7953"
             ],
             [
              0.7777777777777778,
              "#fb9f3a"
             ],
             [
              0.8888888888888888,
              "#fdca26"
             ],
             [
              1,
              "#f0f921"
             ]
            ],
            "type": "heatmap"
           }
          ],
          "heatmapgl": [
           {
            "colorbar": {
             "outlinewidth": 0,
             "ticks": ""
            },
            "colorscale": [
             [
              0,
              "#0d0887"
             ],
             [
              0.1111111111111111,
              "#46039f"
             ],
             [
              0.2222222222222222,
              "#7201a8"
             ],
             [
              0.3333333333333333,
              "#9c179e"
             ],
             [
              0.4444444444444444,
              "#bd3786"
             ],
             [
              0.5555555555555556,
              "#d8576b"
             ],
             [
              0.6666666666666666,
              "#ed7953"
             ],
             [
              0.7777777777777778,
              "#fb9f3a"
             ],
             [
              0.8888888888888888,
              "#fdca26"
             ],
             [
              1,
              "#f0f921"
             ]
            ],
            "type": "heatmapgl"
           }
          ],
          "histogram": [
           {
            "marker": {
             "pattern": {
              "fillmode": "overlay",
              "size": 10,
              "solidity": 0.2
             }
            },
            "type": "histogram"
           }
          ],
          "histogram2d": [
           {
            "colorbar": {
             "outlinewidth": 0,
             "ticks": ""
            },
            "colorscale": [
             [
              0,
              "#0d0887"
             ],
             [
              0.1111111111111111,
              "#46039f"
             ],
             [
              0.2222222222222222,
              "#7201a8"
             ],
             [
              0.3333333333333333,
              "#9c179e"
             ],
             [
              0.4444444444444444,
              "#bd3786"
             ],
             [
              0.5555555555555556,
              "#d8576b"
             ],
             [
              0.6666666666666666,
              "#ed7953"
             ],
             [
              0.7777777777777778,
              "#fb9f3a"
             ],
             [
              0.8888888888888888,
              "#fdca26"
             ],
             [
              1,
              "#f0f921"
             ]
            ],
            "type": "histogram2d"
           }
          ],
          "histogram2dcontour": [
           {
            "colorbar": {
             "outlinewidth": 0,
             "ticks": ""
            },
            "colorscale": [
             [
              0,
              "#0d0887"
             ],
             [
              0.1111111111111111,
              "#46039f"
             ],
             [
              0.2222222222222222,
              "#7201a8"
             ],
             [
              0.3333333333333333,
              "#9c179e"
             ],
             [
              0.4444444444444444,
              "#bd3786"
             ],
             [
              0.5555555555555556,
              "#d8576b"
             ],
             [
              0.6666666666666666,
              "#ed7953"
             ],
             [
              0.7777777777777778,
              "#fb9f3a"
             ],
             [
              0.8888888888888888,
              "#fdca26"
             ],
             [
              1,
              "#f0f921"
             ]
            ],
            "type": "histogram2dcontour"
           }
          ],
          "mesh3d": [
           {
            "colorbar": {
             "outlinewidth": 0,
             "ticks": ""
            },
            "type": "mesh3d"
           }
          ],
          "parcoords": [
           {
            "line": {
             "colorbar": {
              "outlinewidth": 0,
              "ticks": ""
             }
            },
            "type": "parcoords"
           }
          ],
          "pie": [
           {
            "automargin": true,
            "type": "pie"
           }
          ],
          "scatter": [
           {
            "fillpattern": {
             "fillmode": "overlay",
             "size": 10,
             "solidity": 0.2
            },
            "type": "scatter"
           }
          ],
          "scatter3d": [
           {
            "line": {
             "colorbar": {
              "outlinewidth": 0,
              "ticks": ""
             }
            },
            "marker": {
             "colorbar": {
              "outlinewidth": 0,
              "ticks": ""
             }
            },
            "type": "scatter3d"
           }
          ],
          "scattercarpet": [
           {
            "marker": {
             "colorbar": {
              "outlinewidth": 0,
              "ticks": ""
             }
            },
            "type": "scattercarpet"
           }
          ],
          "scattergeo": [
           {
            "marker": {
             "colorbar": {
              "outlinewidth": 0,
              "ticks": ""
             }
            },
            "type": "scattergeo"
           }
          ],
          "scattergl": [
           {
            "marker": {
             "colorbar": {
              "outlinewidth": 0,
              "ticks": ""
             }
            },
            "type": "scattergl"
           }
          ],
          "scattermapbox": [
           {
            "marker": {
             "colorbar": {
              "outlinewidth": 0,
              "ticks": ""
             }
            },
            "type": "scattermapbox"
           }
          ],
          "scatterpolar": [
           {
            "marker": {
             "colorbar": {
              "outlinewidth": 0,
              "ticks": ""
             }
            },
            "type": "scatterpolar"
           }
          ],
          "scatterpolargl": [
           {
            "marker": {
             "colorbar": {
              "outlinewidth": 0,
              "ticks": ""
             }
            },
            "type": "scatterpolargl"
           }
          ],
          "scatterternary": [
           {
            "marker": {
             "colorbar": {
              "outlinewidth": 0,
              "ticks": ""
             }
            },
            "type": "scatterternary"
           }
          ],
          "surface": [
           {
            "colorbar": {
             "outlinewidth": 0,
             "ticks": ""
            },
            "colorscale": [
             [
              0,
              "#0d0887"
             ],
             [
              0.1111111111111111,
              "#46039f"
             ],
             [
              0.2222222222222222,
              "#7201a8"
             ],
             [
              0.3333333333333333,
              "#9c179e"
             ],
             [
              0.4444444444444444,
              "#bd3786"
             ],
             [
              0.5555555555555556,
              "#d8576b"
             ],
             [
              0.6666666666666666,
              "#ed7953"
             ],
             [
              0.7777777777777778,
              "#fb9f3a"
             ],
             [
              0.8888888888888888,
              "#fdca26"
             ],
             [
              1,
              "#f0f921"
             ]
            ],
            "type": "surface"
           }
          ],
          "table": [
           {
            "cells": {
             "fill": {
              "color": "#EBF0F8"
             },
             "line": {
              "color": "white"
             }
            },
            "header": {
             "fill": {
              "color": "#C8D4E3"
             },
             "line": {
              "color": "white"
             }
            },
            "type": "table"
           }
          ]
         },
         "layout": {
          "annotationdefaults": {
           "arrowcolor": "#2a3f5f",
           "arrowhead": 0,
           "arrowwidth": 1
          },
          "autotypenumbers": "strict",
          "coloraxis": {
           "colorbar": {
            "outlinewidth": 0,
            "ticks": ""
           }
          },
          "colorscale": {
           "diverging": [
            [
             0,
             "#8e0152"
            ],
            [
             0.1,
             "#c51b7d"
            ],
            [
             0.2,
             "#de77ae"
            ],
            [
             0.3,
             "#f1b6da"
            ],
            [
             0.4,
             "#fde0ef"
            ],
            [
             0.5,
             "#f7f7f7"
            ],
            [
             0.6,
             "#e6f5d0"
            ],
            [
             0.7,
             "#b8e186"
            ],
            [
             0.8,
             "#7fbc41"
            ],
            [
             0.9,
             "#4d9221"
            ],
            [
             1,
             "#276419"
            ]
           ],
           "sequential": [
            [
             0,
             "#0d0887"
            ],
            [
             0.1111111111111111,
             "#46039f"
            ],
            [
             0.2222222222222222,
             "#7201a8"
            ],
            [
             0.3333333333333333,
             "#9c179e"
            ],
            [
             0.4444444444444444,
             "#bd3786"
            ],
            [
             0.5555555555555556,
             "#d8576b"
            ],
            [
             0.6666666666666666,
             "#ed7953"
            ],
            [
             0.7777777777777778,
             "#fb9f3a"
            ],
            [
             0.8888888888888888,
             "#fdca26"
            ],
            [
             1,
             "#f0f921"
            ]
           ],
           "sequentialminus": [
            [
             0,
             "#0d0887"
            ],
            [
             0.1111111111111111,
             "#46039f"
            ],
            [
             0.2222222222222222,
             "#7201a8"
            ],
            [
             0.3333333333333333,
             "#9c179e"
            ],
            [
             0.4444444444444444,
             "#bd3786"
            ],
            [
             0.5555555555555556,
             "#d8576b"
            ],
            [
             0.6666666666666666,
             "#ed7953"
            ],
            [
             0.7777777777777778,
             "#fb9f3a"
            ],
            [
             0.8888888888888888,
             "#fdca26"
            ],
            [
             1,
             "#f0f921"
            ]
           ]
          },
          "colorway": [
           "#636efa",
           "#EF553B",
           "#00cc96",
           "#ab63fa",
           "#FFA15A",
           "#19d3f3",
           "#FF6692",
           "#B6E880",
           "#FF97FF",
           "#FECB52"
          ],
          "font": {
           "color": "#2a3f5f"
          },
          "geo": {
           "bgcolor": "white",
           "lakecolor": "white",
           "landcolor": "#E5ECF6",
           "showlakes": true,
           "showland": true,
           "subunitcolor": "white"
          },
          "hoverlabel": {
           "align": "left"
          },
          "hovermode": "closest",
          "mapbox": {
           "style": "light"
          },
          "paper_bgcolor": "white",
          "plot_bgcolor": "#E5ECF6",
          "polar": {
           "angularaxis": {
            "gridcolor": "white",
            "linecolor": "white",
            "ticks": ""
           },
           "bgcolor": "#E5ECF6",
           "radialaxis": {
            "gridcolor": "white",
            "linecolor": "white",
            "ticks": ""
           }
          },
          "scene": {
           "xaxis": {
            "backgroundcolor": "#E5ECF6",
            "gridcolor": "white",
            "gridwidth": 2,
            "linecolor": "white",
            "showbackground": true,
            "ticks": "",
            "zerolinecolor": "white"
           },
           "yaxis": {
            "backgroundcolor": "#E5ECF6",
            "gridcolor": "white",
            "gridwidth": 2,
            "linecolor": "white",
            "showbackground": true,
            "ticks": "",
            "zerolinecolor": "white"
           },
           "zaxis": {
            "backgroundcolor": "#E5ECF6",
            "gridcolor": "white",
            "gridwidth": 2,
            "linecolor": "white",
            "showbackground": true,
            "ticks": "",
            "zerolinecolor": "white"
           }
          },
          "shapedefaults": {
           "line": {
            "color": "#2a3f5f"
           }
          },
          "ternary": {
           "aaxis": {
            "gridcolor": "white",
            "linecolor": "white",
            "ticks": ""
           },
           "baxis": {
            "gridcolor": "white",
            "linecolor": "white",
            "ticks": ""
           },
           "bgcolor": "#E5ECF6",
           "caxis": {
            "gridcolor": "white",
            "linecolor": "white",
            "ticks": ""
           }
          },
          "title": {
           "x": 0.05
          },
          "xaxis": {
           "automargin": true,
           "gridcolor": "white",
           "linecolor": "white",
           "ticks": "",
           "title": {
            "standoff": 15
           },
           "zerolinecolor": "white",
           "zerolinewidth": 2
          },
          "yaxis": {
           "automargin": true,
           "gridcolor": "white",
           "linecolor": "white",
           "ticks": "",
           "title": {
            "standoff": 15
           },
           "zerolinecolor": "white",
           "zerolinewidth": 2
          }
         }
        },
        "title": {
         "text": "Teacher Effect on Composite ACT Score 2019 in 300 Iowa Districts"
        },
        "xaxis": {
         "anchor": "y",
         "domain": [
          0,
          1
         ],
         "title": {
          "text": "Average Teacher Salary"
         }
        },
        "yaxis": {
         "anchor": "x",
         "domain": [
          0,
          1
         ],
         "title": {
          "text": "Avergage Composite ACT Score"
         }
        }
       }
      }
     },
     "metadata": {},
     "output_type": "display_data"
    }
   ],
   "source": [
    "fig = px.scatter(df10, x=\"Average Regular Salary--Teacher Only\", color= \"Average Age--Teacher Only\", y=\"Avg Comp\", hover_data=\"District Name\",\n",
    "trendline=\"ols\", trendline_scope=\"overall\",color_continuous_scale=px.colors.sequential.Blues, range_color=[30,50],trendline_color_override=\"red\")\n",
    "fig.update_layout(legend_orientation=\"h\", title=\"Teacher Effect on Composite ACT Score 2019 in 300 Iowa Districts\")\n",
    "fig.update_traces(marker=dict(size=10,line=dict(width=1)))\n",
    "fig.update_xaxes(title=\"Average Teacher Salary\")\n",
    "fig.update_yaxes(title=\"Avergage Composite ACT Score\") \n",
    "fig.show()"
   ]
  },
  {
   "cell_type": "code",
   "execution_count": 41,
   "metadata": {},
   "outputs": [
    {
     "data": {
      "application/vnd.plotly.v1+json": {
       "config": {
        "plotlyServerURL": "https://plot.ly"
       },
       "data": [
        {
         "customdata": [
          [
           "AGWSR CMTY SCHOOL DISTRICT"
          ],
          [
           "ADEL-DE SOTO-MINBURN CMTY SD"
          ],
          [
           "AKRON WESTFIELD CMTY SCH DIST"
          ],
          [
           "ALBIA CMTY SCHOOL DISTRICT"
          ],
          [
           "ALBURNETT CMTY SCHOOL DISTRICT"
          ],
          [
           "ALGONA CMTY SCHOOL DISTRICT"
          ],
          [
           "ALLAMAKEE CMTY SCHOOL DISTRICT"
          ],
          [
           "ALTA-AURELIA CMTY SCHOOLS"
          ],
          [
           "AMES CMTY SCHOOL DISTRICT"
          ],
          [
           "ANAMOSA CMTY SCHOOL DISTRICT"
          ],
          [
           "ANKENY CMTY SCHOOL DISTRICT"
          ],
          [
           "APLINGTON-PARKERSBURG SD"
          ],
          [
           "ATLANTIC CMTY SCHOOL DISTRICT"
          ],
          [
           "AUDUBON CMTY SCHOOL DISTRICT"
          ],
          [
           "BALLARD CMTY SCHOOL DISTRICT"
          ],
          [
           "BAXTER CMTY SCHOOL DISTRICT"
          ],
          [
           "BEDFORD CMTY SCHOOL DISTRICT"
          ],
          [
           "BELLE PLAINE CMTY SCHOOL DIST"
          ],
          [
           "BELLEVUE CMTY SCHOOL DISTRICT"
          ],
          [
           "BELMOND-KLEMME CMTY SCH DIST"
          ],
          [
           "BENTON CMTY SCHOOL DISTRICT"
          ],
          [
           "BETTENDORF CMTY SCHOOL DIST"
          ],
          [
           "BONDURANT-FARRAR CMTY SCH DIST"
          ],
          [
           "BOONE CMTY SCHOOL DISTRICT"
          ],
          [
           "BOYDEN-HULL CMTY SCH DISTRICT"
          ],
          [
           "BOYER VALLEY CMTY SCH DISTRICT"
          ],
          [
           "BROOKLYN-GUERNSEY-MALCOM CSD"
          ],
          [
           "BURLINGTON CMTY SCHOOL DIST"
          ],
          [
           "CAM CMTY SCHOOL DISTRICT"
          ],
          [
           "CAMANCHE CMTY SCHOOL DISTRICT"
          ],
          [
           "CARDINAL CMTY SCHOOL DISTRICT"
          ],
          [
           "CARLISLE CMTY SCHOOL DISTRICT"
          ],
          [
           "CARROLL CMTY SCHOOL DISTRICT"
          ],
          [
           "CEDAR FALLS CMTY SCH DISTRICT"
          ],
          [
           "CEDAR RAPIDS CMTY SCHOOL DIST"
          ],
          [
           "CENTER POINT-URBANA CMTY SD"
          ],
          [
           "CENTERVILLE CMTY SCHOOL DIST"
          ],
          [
           "CENTRAL CITY CMTY SCH DIST"
          ],
          [
           "CENTRAL CMTY SCHOOL DISTRICT"
          ],
          [
           "CENTRAL DEWITT CMTY SCH DIST"
          ],
          [
           "CENTRAL DECATUR CMTY SCH DIST"
          ],
          [
           "CENTRAL LEE CMTY SCHOOL DIST"
          ],
          [
           "CENTRAL LYON CMTY SCHOOL DIST"
          ],
          [
           "CENTRAL SPRINGS CMTY SCH DIST"
          ],
          [
           "CHARITON CMTY SCHOOL DISTRICT"
          ],
          [
           "CHARLES CITY CMTY SCH DISTRICT"
          ],
          [
           "CHEROKEE CMTY SCHOOL DISTRICT"
          ],
          [
           "CLARINDA CMTY SCHOOL DISTRICT"
          ],
          [
           "CLARION-GOLDFIELD-DOWS CMTY SD"
          ],
          [
           "CLARKE CMTY SCHOOL DISTRICT"
          ],
          [
           "CLARKSVILLE CMTY SCHOOL DIST"
          ],
          [
           "CLAYTON RIDGE CMTY SCH DIST"
          ],
          [
           "CLEAR CREEK AMANA CMTY SD"
          ],
          [
           "CLEAR LAKE CMTY SCH DISTRICT"
          ],
          [
           "CLINTON CMTY SCHOOL DISTRICT"
          ],
          [
           "COLFAX-MINGO CMTY SCH DIST"
          ],
          [
           "COLLEGE CMTY SCHOOL DISTRICT"
          ],
          [
           "COLLINS-MAXWELL CMTY SCH DIST"
          ],
          [
           "COLO-NESCO CMTY SCHOOL DIST"
          ],
          [
           "COLUMBUS CMTY SCHOOL DISTRICT"
          ],
          [
           "COON RAPIDS-BAYARD CMTY SD"
          ],
          [
           "COUNCIL BLUFFS CMTY SCH DIST"
          ],
          [
           "CRESTON CMTY SCHOOL DISTRICT"
          ],
          [
           "DALLAS CENTER GRIMES CMTY SD"
          ],
          [
           "DANVILLE CMTY SCHOOL DISTRICT"
          ],
          [
           "DAVENPORT CMTY SCHOOL DISTRICT"
          ],
          [
           "DAVIS CO CMTY SCHOOL DISTRICT"
          ],
          [
           "DECORAH CMTY SCHOOL DISTRICT"
          ],
          [
           "DENISON CMTY SCHOOL DISTRICT"
          ],
          [
           "DENVER CMTY SCHOOL DISTRICT"
          ],
          [
           "DES MOINES PUBLIC SCHOOL DIST"
          ],
          [
           "DIKE-NEW HARTFORD CMTY SD"
          ],
          [
           "DUBUQUE CMTY SCHOOL DISTRICT"
          ],
          [
           "DUNKERTON CMTY SCH DISTRICT"
          ],
          [
           "DURANT CMTY SCHOOL DISTRICT"
          ],
          [
           "EAGLE GROVE CMTY SCHOOL DIST"
          ],
          [
           "EARLHAM CMTY SCHOOL DISTRICT"
          ],
          [
           "EAST BUCHANAN CMTY SCH DIST"
          ],
          [
           "EAST MARSHALL CMTY SCHOOL DIST"
          ],
          [
           "EAST MILLS CMTY SCHOOL DIST"
          ],
          [
           "EAST SAC CO CMTY SCHOOL DIST"
          ],
          [
           "EAST UNION CMTY SCHOOL DIST"
          ],
          [
           "EASTERN ALLAMAKEE CMTY SD"
          ],
          [
           "EASTON VALLEY CMTY SCHOOL DIST"
          ],
          [
           "EDDYVLL-BLKSBRG-FREMNT CMTY SD"
          ],
          [
           "EDGEWOOD COLESBURG CMTY SD"
          ],
          [
           "ELDORA-NEW PROVIDENCE CMTY SD"
          ],
          [
           "EMMETSBURG CMTY SCH DIST"
          ],
          [
           "ENGLISH VALLEYS CMTY SCH DIST"
          ],
          [
           "ESTHERVILLE LINCOLN CTL CMSD"
          ],
          [
           "EXIRA-ELK HORN-KIMBALLTON SD"
          ],
          [
           "FAIRFIELD CMTY SCHOOL DISTRICT"
          ],
          [
           "FOREST CITY CMTY SCHOOL DIST"
          ],
          [
           "FT DODGE CMTY SCHOOL DIST"
          ],
          [
           "FT MADISON CMTY SCHOOL DIST"
          ],
          [
           "FREMONT-MILLS CMTY SCH DIST"
          ],
          [
           "GALVA-HOLSTEIN CMTY SCH DIST"
          ],
          [
           "GARNER-HAYFIELD-VENTURA CSD"
          ],
          [
           "GEORGE-LITTLE ROCK CMTY SD"
          ],
          [
           "GILBERT CMTY SCHOOL DISTRICT"
          ],
          [
           "GLADBROOK-REINBECK CMTY SD"
          ],
          [
           "GLENWOOD CMTY SCHOOL DISTRICT"
          ],
          [
           "GLIDDEN-RALSTON CMTY SCH DIST"
          ],
          [
           "GREENE CO CMTY SCHOOL DISTRICT"
          ],
          [
           "GRINNELL-NEWBURG CMTY SCH DIST"
          ],
          [
           "GRISWOLD CMTY SCHOOL DISTRICT"
          ],
          [
           "GRUNDY CENTER CMTY SCHOOL DIST"
          ],
          [
           "GUTHRIE CENTER CMTY SCH DIST"
          ],
          [
           "HLV CMTY SCHOOL DISTRICT"
          ],
          [
           "HAMPTON-DUMONT CMTY SCH DIST"
          ],
          [
           "HARLAN CMTY SCHOOL DISTRICT"
          ],
          [
           "HARTLEY-MELVIN-SANBORN CMTY SD"
          ],
          [
           "HIGHLAND CMTY SCHOOL DISTRICT"
          ],
          [
           "HINTON CMTY SCHOOL DISTRICT"
          ],
          [
           "HOWARD-WINNESHIEK CMTY SD"
          ],
          [
           "HUDSON CMTY SCHOOL DISTRICT"
          ],
          [
           "HUMBOLDT CMTY SCHOOL DISTRICT"
          ],
          [
           "IKM-MANNING CMTY SCHOOL DIST"
          ],
          [
           "INDEPENDENCE CMTY SCH DISTRICT"
          ],
          [
           "INDIANOLA CMTY SCHOOL DISTRICT"
          ],
          [
           "INTERSTATE 35 CMTY SCHOOL DIST"
          ],
          [
           "IOWA CITY CMTY SCHOOL DISTRICT"
          ],
          [
           "IOWA FALLS CMTY SCHOOL DIST"
          ],
          [
           "IOWA VALLEY CMTY SCH DISTRICT"
          ],
          [
           "JANESVILLE CONS SCHOOL DIST"
          ],
          [
           "JESUP CMTY SCHOOL DISTRICT"
          ],
          [
           "JOHNSTON CMTY SCHOOL DISTRICT"
          ],
          [
           "KEOKUK CMTY SCHOOL DISTRICT"
          ],
          [
           "KEOTA CMTY SCHOOL DISTRICT"
          ],
          [
           "KINGSLEY-PIERSON CMTY SCH DIST"
          ],
          [
           "KNOXVILLE CMTY SCHOOL DISTRICT"
          ],
          [
           "LAKE MILLS CMTY SCH DISTRICT"
          ],
          [
           "LAMONI CMTY SCHOOL DISTRICT"
          ],
          [
           "LAWTON-BRONSON CMTY SCH DIST"
          ],
          [
           "LE MARS CMTY SCHOOL DISTRICT"
          ],
          [
           "LENOX CMTY SCHOOL DISTRICT"
          ],
          [
           "LEWIS CENTRAL CMTY SCH DIST"
          ],
          [
           "LINN-MAR CMTY SCHOOL DISTRICT"
          ],
          [
           "LISBON CMTY SCHOOL DISTRICT"
          ],
          [
           "LOGAN-MAGNOLIA CMTY SCH DIST"
          ],
          [
           "LONE TREE CMTY SCHOOL DISTRICT"
          ],
          [
           "LOUISA-MUSCATINE CMTY SCH DIST"
          ],
          [
           "LYNNVILLE-SULLY CMTY SCH DIST"
          ],
          [
           "MFL MARMAC CMTY SCHOOL DIST"
          ],
          [
           "MOC-FLOYD VALLEY CMTY SCH DIST"
          ],
          [
           "MADRID CMTY SCHOOL DISTRICT"
          ],
          [
           "MANSON NW WEBSTER CMTY SD"
          ],
          [
           "MAPLE VALLEY ANTHON-OTO SD"
          ],
          [
           "MAQUOKETA CMTY SCHOOL DISTRICT"
          ],
          [
           "MAQUOKETA VALLEY CMTY SCH DIST"
          ],
          [
           "MARCUS-MERIDEN-CLEGHORN CSD"
          ],
          [
           "MARION IND SCHOOL DISTRICT"
          ],
          [
           "MARSHALLTOWN CMTY SCHOOL DIST"
          ],
          [
           "MARTENSDALE-ST MARYS CMTY SD"
          ],
          [
           "MASON CITY CMTY SCH DISTRICT"
          ],
          [
           "MEDIAPOLIS CMTY SCH DISTRICT"
          ],
          [
           "MID-PRAIRIE CMTY SCHOOL DIST"
          ],
          [
           "MIDLAND CMTY SCHOOL DISTRICT"
          ],
          [
           "MISSOURI VALLEY CMTY SCH DIST"
          ],
          [
           "MONTEZUMA CMTY SCHOOL DISTRICT"
          ],
          [
           "MONTICELLO CMTY SCH DISTRICT"
          ],
          [
           "MORAVIA CMTY SCHOOL DISTRICT"
          ],
          [
           "MT AYR CMTY SCHOOL DISTRICT"
          ],
          [
           "MT PLEASANT CMTY SCHOOL DIST"
          ],
          [
           "MT VERNON CMTY SCHOOL DISTRICT"
          ],
          [
           "MURRAY CMTY SCHOOL DISTRICT"
          ],
          [
           "MUSCATINE CMTY SCHOOL DISTRICT"
          ],
          [
           "NASHUA-PLAINFIELD CMTY SD"
          ],
          [
           "NEVADA CMTY SCHOOL DISTRICT"
          ],
          [
           "NEW HAMPTON CMTY SCH DISTRICT"
          ],
          [
           "NEW LONDON CMTY SCH DISTRICT"
          ],
          [
           "NEWELL-FONDA CMTY SCHOOL DIST"
          ],
          [
           "NEWTON CMTY SCHOOL DISTRICT"
          ],
          [
           "NODAWAY VALLEY CMTY SCH DIST"
          ],
          [
           "NORTH BUTLER CMTY SCH DIST"
          ],
          [
           "NORTH CEDAR CMTY SCHOOL DIST"
          ],
          [
           "NORTH FAYETTE VALLEY CMTY SD"
          ],
          [
           "NORTH IOWA CMTY SCH DISTRICT"
          ],
          [
           "NORTH-LINN CMTY SCHOOL DIST"
          ],
          [
           "NORTH MAHASKA CMTY SCH DIST"
          ],
          [
           "NORTH POLK CMTY SCHOOL DIST"
          ],
          [
           "NORTH SCOTT CMTY SCHOOL DIST"
          ],
          [
           "NORTH TAMA CO CMTY SCH DIST"
          ],
          [
           "NORTH UNION CMTY SCHOOL DIST"
          ],
          [
           "NORTHEAST CMTY SCH DISTRICT"
          ],
          [
           "NORTHWOOD-KENSETT CMTY SD"
          ],
          [
           "NORWALK CMTY SCHOOL DISTRICT"
          ],
          [
           "OABCIG CMTY SD"
          ],
          [
           "OELWEIN CMTY SCHOOL DISTRICT"
          ],
          [
           "OGDEN CMTY SCHOOL DISTRICT"
          ],
          [
           "OKOBOJI CMTY SCHOOL DISTRICT"
          ],
          [
           "OSAGE CMTY SCHOOL DISTRICT"
          ],
          [
           "OSKALOOSA CMTY SCHOOL DISTRICT"
          ],
          [
           "OTTUMWA CMTY SCHOOL DISTRICT"
          ],
          [
           "PRAIRIE CITY-MONROE CMTY SD 21"
          ],
          [
           "PANORAMA CMTY SCHOOL DISTRICT"
          ],
          [
           "PEKIN CMTY SCHOOL DISTRICT"
          ],
          [
           "PELLA CMTY SCHOOL DISTRICT"
          ],
          [
           "PERRY CMTY SCHOOL DISTRICT"
          ],
          [
           "PLEASANT VALLEY CMTY SCH DIST"
          ],
          [
           "PLEASANTVILLE CMTY SCHOOL DIST"
          ],
          [
           "POCAHONTAS AREA CMTY SCH DIST"
          ],
          [
           "POSTVILLE CMTY SCHOOL DISTRICT"
          ],
          [
           "PRAIRIE VALLEY CMTY SCH DIST"
          ],
          [
           "RED OAK CMTY SCHOOL DISTRICT"
          ],
          [
           "RIVER VALLEY SCHOOL DISTRICT"
          ],
          [
           "RIVERSIDE CMTY SCHOOL DISTRICT"
          ],
          [
           "ROCK VALLEY SCHOOL DISTRICT"
          ],
          [
           "ROLAND-STORY CMTY SCHOOL DIST"
          ],
          [
           "RUDD-ROCKFORD-MARBLE ROCK CSD"
          ],
          [
           "SAYDEL CMTY SCHOOL DISTRICT"
          ],
          [
           "SERGEANT BLUFF-LUTON CMTY SD"
          ],
          [
           "SHELDON CMTY SCHOOL DISTRICT"
          ],
          [
           "SHENANDOAH CMTY SCH DISTRICT"
          ],
          [
           "SIBLEY-OCHEYEDAN CMTY SCH DIST"
          ],
          [
           "SIDNEY CMTY SCHOOL DISTRICT"
          ],
          [
           "SIGOURNEY CMTY SCHOOL DISTRICT"
          ],
          [
           "SIOUX CENTER CMTY SCHOOL DIST"
          ],
          [
           "SIOUX CENTRAL CMTY SCHOOL DIST"
          ],
          [
           "SIOUX CITY CMTY SCHOOL DIST"
          ],
          [
           "SOLON CMTY SCHOOL DISTRICT"
          ],
          [
           "SOUTH CENTRAL CALHOUN CMTY SD"
          ],
          [
           "SOUTH HAMILTON CMTY SCH DIST"
          ],
          [
           "SOUTH O'BRIEN CMTY SCHOOL DIST"
          ],
          [
           "SOUTH TAMA CO CMTY SCHOOL DIST"
          ],
          [
           "SOUTH WINNESHIEK CMTY SCH DIST"
          ],
          [
           "SOUTHEAST POLK CMTY SCH DIST"
          ],
          [
           "SOUTHEAST WARREN CMTY SCH DIST"
          ],
          [
           "SPENCER CMTY SCHOOL DISTRICT"
          ],
          [
           "SPIRIT LAKE CMTY SCH DISTRICT"
          ],
          [
           "SPRINGVILLE CMTY SCHOOL DIST"
          ],
          [
           "ST ANSGAR CMTY SCHOOL DISTRICT"
          ],
          [
           "STARMONT CMTY SCHOOL DISTRICT"
          ],
          [
           "STORM LAKE CMTY SCH DISTRICT"
          ],
          [
           "SUMNER-FREDERICKSBURG SCHOOLS"
          ],
          [
           "TIPTON CMTY SCHOOL DISTRICT"
          ],
          [
           "TREYNOR CMTY SCHOOL DISTRICT"
          ],
          [
           "TRI-CENTER CMTY SCH DISTRICT"
          ],
          [
           "TRIPOLI CMTY SCHOOL DISTRICT"
          ],
          [
           "TURKEY VALLEY CMTY SCHOOL DIST"
          ],
          [
           "UNDERWOOD CMTY SCHOOL DISTRICT"
          ],
          [
           "UNION CMTY SCHOOL DISTRICT"
          ],
          [
           "URBANDALE CMTY SCHOOL DISTRICT"
          ],
          [
           "VAN BUREN CO CMTY SCHOOL DIST"
          ],
          [
           "VAN METER CMTY SCHOOL DISTRICT"
          ],
          [
           "VINTON-SHELLSBURG CMTY SD"
          ],
          [
           "WACO CMTY SCHOOL DISTRICT"
          ],
          [
           "WAPELLO CMTY SCHOOL DISTRICT"
          ],
          [
           "WAPSIE VALLEY CMTY SCHOOL DIST"
          ],
          [
           "WASHINGTON CMTY SCH DISTRICT"
          ],
          [
           "WATERLOO CMTY SCHOOL DISTRICT"
          ],
          [
           "WAUKEE CMTY SCHOOL DISTRICT"
          ],
          [
           "WAVERLY-SHELL ROCK CMTY SD"
          ],
          [
           "WAYNE CMTY SCHOOL DISTRICT"
          ],
          [
           "WEBSTER CITY CMTY SCHOOL DIST"
          ],
          [
           "WEST BRANCH CMTY SCH DISTRICT"
          ],
          [
           "WEST BURLINGTON IND SCH DIST"
          ],
          [
           "WEST CENTRAL VALLEY CMTY SD"
          ],
          [
           "WEST DELAWARE CO CMTY SCH DIST"
          ],
          [
           "WEST DES MOINES CMTY SCH DIST"
          ],
          [
           "WEST FORK CMTY SCHOOL DISTRICT"
          ],
          [
           "WEST HANCOCK CMTY SCH DISTRICT"
          ],
          [
           "WEST HARRISON CMTY SCHOOL DIST"
          ],
          [
           "WEST LIBERTY CMTY SCHOOL DIST"
          ],
          [
           "WEST LYON CMTY SCHOOL DISTRICT"
          ],
          [
           "WEST MARSHALL CMTY SCHOOL DIST"
          ],
          [
           "WEST MONONA CMTY SCHOOL DIST"
          ],
          [
           "WEST SIOUX CMTY SCH DISTRICT"
          ],
          [
           "WESTERN DUBUQUE CMTY SD"
          ],
          [
           "WESTWOOD CMTY SCHOOL DISTRICT"
          ],
          [
           "WILLIAMSBURG CMTY SCH DISTRICT"
          ],
          [
           "WILTON CMTY SCHOOL DISTRICT"
          ],
          [
           "WINFIELD-MT UNION CMTY SD"
          ],
          [
           "WINTERSET CMTY SCHOOL DISTRICT"
          ],
          [
           "WOODBINE CMTY SCHOOL DISTRICT"
          ],
          [
           "WOODBURY CENTRAL CMTY SCH DIST"
          ],
          [
           "WOODWARD-GRANGER CMTY SCH DIST"
          ]
         ],
         "hovertemplate": "Attendance Rate=%{x}<br>Avg Comp=%{y}<br>District Name=%{customdata[0]}<br>Average Age--Teacher Only=%{marker.color}<extra></extra>",
         "legendgroup": "",
         "marker": {
          "color": [
           47.96,
           34.507462686567166,
           42.4,
           45.80555555555556,
           33.57142857142857,
           44.981818181818184,
           40.714285714285715,
           41.30555555555556,
           40.409774436090224,
           37.629629629629626,
           37.91962174940898,
           37.36363636363637,
           37.20967741935484,
           38.904761904761905,
           39.29113924050633,
           34.52,
           41.52,
           39.64,
           40.4054054054054,
           41.55263157894737,
           40.45614035087719,
           40.41729323308271,
           36.59340659340659,
           39.94565217391305,
           43.16129032258065,
           45.04761904761905,
           41.6,
           43.13389121338912,
           42.241379310344826,
           39.333333333333336,
           36.25714285714286,
           34.42168674698795,
           42.013698630136986,
           40.48221343873518,
           41.4031007751938,
           42.172413793103445,
           45.39705882352941,
           37.285714285714285,
           40.26315789473684,
           39.64102564102564,
           44.48571428571429,
           40.93617021276596,
           39.689655172413794,
           42,
           42.49090909090909,
           39.36363636363637,
           40.904761904761905,
           39.68181818181818,
           41.27272727272727,
           40.9277108433735,
           45.46666666666667,
           42.61904761904762,
           38.088050314465406,
           41,
           41.44186046511628,
           40.486486486486484,
           37.69491525423729,
           38.529411764705884,
           35.64,
           43.06521739130435,
           40,
           39.78290993071594,
           41.36363636363637,
           39.14074074074074,
           44.88235294117647,
           43.28423772609819,
           40.224489795918366,
           40.73134328358209,
           40.7319587628866,
           40.404761904761905,
           40.30746705710102,
           38.717948717948715,
           40.3605220228385,
           35.88461538461539,
           44.82857142857143,
           39.10526315789474,
           43.22222222222222,
           42.63333333333333,
           37.827586206896555,
           39.36363636363637,
           39.813559322033896,
           49.15625,
           43.06666666666667,
           39.95652173913044,
           39.35526315789474,
           39.689655172413794,
           39.65384615384615,
           41.10344827586207,
           41.8421052631579,
           42,
           36.411764705882355,
           42.11363636363637,
           41.76315789473684,
           40.06896551724138,
           44.70103092783505,
           38.26086956521739,
           42.43478260869565,
           40.95652173913044,
           38.357142857142854,
           41.48979591836735,
           41.24,
           42.92134831460674,
           39.869565217391305,
           43.9375,
           42.098591549295776,
           43.04,
           40.70454545454545,
           41.71875,
           40.76190476190476,
           40.73770491803279,
           44.224137931034484,
           38.142857142857146,
           45.333333333333336,
           38.733333333333334,
           43,
           39.89655172413793,
           42.810344827586206,
           41.96551724137931,
           41.61538461538461,
           42.225806451612904,
           43.24444444444445,
           39.18779342723005,
           39.93617021276596,
           44.6875,
           37.9375,
           39.22222222222222,
           41.99361022364217,
           45.35227272727273,
           39.6,
           41.05555555555556,
           40.25352112676056,
           42.416666666666664,
           44.3,
           41.88235294117647,
           44.61971830985915,
           39.391304347826086,
           44.108333333333334,
           41.798219584569736,
           38.20454545454545,
           44.21212121212121,
           33,
           42.6,
           37.8,
           41.6,
           42.91489361702128,
           38.32258064516129,
           41.8974358974359,
           43.729729729729726,
           43.690140845070424,
           38.869565217391305,
           38.9,
           41.56962025316456,
           39.738351254480285,
           37.03448275862069,
           41.44,
           40.87096774193548,
           41.38356164383562,
           37.96296296296296,
           38.666666666666664,
           39.63157894736842,
           40,
           38.9,
           36.1764705882353,
           41.66315789473684,
           41.94444444444444,
           36.666666666666664,
           40.67003367003367,
           39.64,
           41.79365079365079,
           38.527272727272724,
           38.65217391304348,
           39.38095238095238,
           38.855932203389834,
           40.96969696969697,
           42.03846153846154,
           40.80952380952381,
           41.55223880597015,
           33.93333333333333,
           40.2,
           41.72,
           40.026315789473685,
           40.64028776978417,
           39.34782608695652,
           40.529411764705884,
           37.883720930232556,
           39.22727272727273,
           38.81060606060606,
           38.734693877551024,
           40.175438596491226,
           39.44,
           41.170212765957444,
           41.86206896551724,
           40.5,
           42.54644808743169,
           36.92307692307692,
           42.65384615384615,
           43.035714285714285,
           42.36046511627907,
           37.88461538461539,
           39.18681318681319,
           41.52777777777778,
           42.2,
           37.025,
           36.10526315789474,
           46.6530612244898,
           38.125,
           37.583333333333336,
           37.794117647058826,
           46.642857142857146,
           38.8,
           36.15384615384615,
           42.306451612903224,
           39.55,
           39.59375,
           38.89655172413793,
           41.54545454545455,
           40.1875,
           37.88,
           39.411764705882355,
           41.95678092399404,
           39.73770491803279,
           41.8,
           37.55555555555556,
           33.93333333333333,
           38.74626865671642,
           45.4375,
           39.31641791044776,
           41.72,
           41.674418604651166,
           41.87755102040816,
           29.647058823529413,
           43.94117647058823,
           35.074074074074076,
           39.157407407407405,
           39.67741935483871,
           34.53488372093023,
           39.57692307692308,
           44.37931034482759,
           40,
           45.875,
           39.833333333333336,
           42.333333333333336,
           38.33031674208145,
           41.8421052631579,
           41.107142857142854,
           42.442622950819676,
           39.64,
           43.07142857142857,
           40.148148148148145,
           38.6,
           39.84700315457413,
           36.809330628803245,
           42.45945945945946,
           42.34615384615385,
           43.82142857142857,
           38.34782608695652,
           42.390243902439025,
           39.06818181818182,
           43,
           42.34057971014493,
           42.23076923076923,
           44,
           37.94117647058823,
           38.392857142857146,
           37.26315789473684,
           37.26,
           44.166666666666664,
           38.51063829787234,
           39.57823129251701,
           40.541666666666664,
           38.84313725490196,
           40.3,
           37.81818181818182,
           37.378787878787875,
           42.65217391304348,
           41.90909090909091,
           35.49122807017544
          ],
          "coloraxis": "coloraxis",
          "line": {
           "width": 1
          },
          "size": 10,
          "symbol": "circle"
         },
         "mode": "markers",
         "name": "",
         "orientation": "v",
         "showlegend": false,
         "type": "scatter",
         "x": [
          94.9,
          95.6,
          96.2,
          95.3,
          95.5,
          95.8,
          94.9,
          94.8,
          95.4,
          94,
          95.3,
          95.8,
          94.5,
          95.7,
          96,
          95.9,
          95.9,
          95.6,
          95.9,
          94.6,
          94.3,
          95,
          95.5,
          95.6,
          95.1,
          94.5,
          94.4,
          92,
          92.7,
          95.8,
          95.1,
          94.9,
          95.3,
          95.6,
          93,
          95.6,
          92.9,
          94.3,
          94.5,
          95.5,
          94.2,
          95.2,
          96.3,
          95.6,
          94.5,
          94,
          96.1,
          95.8,
          94.8,
          94.2,
          95.5,
          95.7,
          95.2,
          96.8,
          93.8,
          95,
          94.5,
          95,
          94.6,
          91.6,
          94.3,
          94.4,
          95.5,
          95.1,
          94.9,
          93,
          95.2,
          95.4,
          95.1,
          96.1,
          94,
          96.3,
          94.8,
          93.9,
          95.3,
          93.8,
          90.1,
          94.5,
          95.4,
          93.7,
          94.9,
          93.9,
          95.1,
          94.4,
          95.3,
          95,
          93.8,
          95.1,
          94.9,
          94.7,
          94.9,
          95,
          95,
          94,
          94.2,
          94.8,
          95.4,
          95.4,
          95.4,
          96.7,
          95.5,
          91.1,
          95.9,
          94.6,
          94.5,
          94.4,
          96.2,
          95.3,
          94.7,
          94.2,
          94.8,
          94.6,
          95.4,
          96,
          94.3,
          96,
          96.9,
          95.1,
          95.2,
          94.6,
          95.3,
          94.3,
          95.6,
          95.6,
          97.9,
          94.4,
          95.9,
          94.2,
          95.2,
          95.7,
          95.1,
          93.7,
          95.1,
          94.9,
          95.2,
          94.6,
          95.6,
          95.4,
          95.5,
          96.8,
          94.1,
          94.2,
          95.7,
          95.5,
          95.7,
          95,
          96.1,
          93.8,
          96.4,
          95.3,
          95.2,
          94.4,
          92.7,
          95.4,
          93.7,
          96.3,
          95,
          94.3,
          95.7,
          94.7,
          95.2,
          91.5,
          96.3,
          94.6,
          95.6,
          95.8,
          93.2,
          96.2,
          95.5,
          96.4,
          94.2,
          95.4,
          94.7,
          95.1,
          95.5,
          93.4,
          95.1,
          93.7,
          94.5,
          95.5,
          95.9,
          96.1,
          95.3,
          91.7,
          96,
          96.2,
          95.6,
          95.6,
          94,
          95.8,
          95.6,
          95.9,
          94.6,
          93.9,
          95.8,
          94.8,
          95,
          96.4,
          94.4,
          96.5,
          96.6,
          94.4,
          94.6,
          94,
          93.3,
          94.2,
          94.6,
          97.2,
          95.9,
          97,
          94.1,
          96.2,
          96.2,
          95.7,
          96.1,
          95.5,
          95.5,
          96.5,
          95.5,
          94.3,
          97,
          94.6,
          94.9,
          94.8,
          94.2,
          95.4,
          95.5,
          94.1,
          94.6,
          94.7,
          94.2,
          96.2,
          94.5,
          94.3,
          95.3,
          95.5,
          95.9,
          96.3,
          95.3,
          95.3,
          96.1,
          95.9,
          95.1,
          94.5,
          95.5,
          95,
          95.1,
          90.7,
          95,
          94.7,
          91,
          95.3,
          95.7,
          95.5,
          95.3,
          96,
          94.2,
          94.1,
          94.5,
          95.6,
          94.6,
          95.3,
          96.2,
          94.6,
          96.2,
          95.3,
          93.6,
          94.4,
          95.9,
          94,
          96,
          94.4,
          94.2,
          96,
          96.2,
          95.6,
          96.4
         ],
         "xaxis": "x",
         "y": [
          20.9,
          23.3,
          21.1,
          21.8,
          22.6,
          21.4,
          22,
          20.7,
          25.4,
          21.7,
          24.1,
          21.3,
          22.6,
          21.6,
          23.1,
          24.1,
          20.8,
          21,
          18.9,
          22.8,
          20.8,
          23.2,
          22.6,
          18.5,
          23,
          22.3,
          20.5,
          21.5,
          21.2,
          17.2,
          19,
          19.7,
          22.8,
          24.3,
          19.9,
          22.8,
          20.7,
          21.1,
          20.4,
          20.3,
          20.6,
          23.5,
          23.3,
          21.8,
          21.2,
          19.5,
          20.8,
          21.9,
          21,
          20.6,
          20.5,
          21.8,
          22.3,
          23.6,
          19.9,
          18.6,
          22.6,
          17.5,
          22.2,
          16,
          21.4,
          20.7,
          21.6,
          21.9,
          23.1,
          18.2,
          21.1,
          24.5,
          18.4,
          23,
          16.8,
          21.5,
          22.8,
          20.4,
          20.1,
          20.4,
          20.9,
          22.8,
          22.1,
          21.1,
          20.4,
          19.2,
          23.1,
          19.9,
          19.8,
          20.3,
          19.9,
          21.3,
          22.7,
          19.5,
          20.1,
          22.3,
          23.8,
          18,
          20.7,
          19.6,
          22.6,
          21.9,
          22.1,
          24.4,
          20.3,
          21.6,
          20.6,
          21.9,
          25.3,
          20,
          22.2,
          23.1,
          20.9,
          20.3,
          21.9,
          22.4,
          20.7,
          20.9,
          21.3,
          22.1,
          21.8,
          21.6,
          21.5,
          22.2,
          21.2,
          24.7,
          19.3,
          23.3,
          22,
          22.1,
          23.8,
          20.6,
          22.9,
          22.6,
          21.6,
          22.2,
          21,
          21.6,
          22.1,
          17.4,
          20.8,
          24,
          22.7,
          19.8,
          20.9,
          20.3,
          22.2,
          19.8,
          21.6,
          22.1,
          20.5,
          20.8,
          21.1,
          23.9,
          20.7,
          22.7,
          19.7,
          20.9,
          21.1,
          22,
          22.6,
          19.1,
          21.7,
          20.8,
          22.3,
          18.6,
          20.4,
          22,
          22.2,
          19.6,
          18.7,
          21.8,
          22.8,
          21.4,
          20.8,
          18.7,
          21.3,
          21.3,
          20.5,
          20.2,
          21.1,
          19.7,
          22.1,
          20.6,
          22,
          22.5,
          19.3,
          18.5,
          17.7,
          21.7,
          21.4,
          22.9,
          20.6,
          23.6,
          21.4,
          22.2,
          20.3,
          17.2,
          22.2,
          21.4,
          20.1,
          22.9,
          16.7,
          25.2,
          21.6,
          23.1,
          20.4,
          23.6,
          19.2,
          18.8,
          20,
          20.7,
          22.9,
          20.4,
          18.9,
          21.6,
          21.1,
          20,
          20.8,
          21.5,
          21.5,
          20,
          20.2,
          18.6,
          23.4,
          20.8,
          21.9,
          22.7,
          17.9,
          22.8,
          22.4,
          21.3,
          21.7,
          22,
          20.3,
          21.7,
          20.7,
          17.4,
          20.8,
          22.4,
          22.4,
          21.2,
          22.5,
          21.6,
          22,
          21.4,
          22.3,
          23,
          22.8,
          19.4,
          20.9,
          19.7,
          22.2,
          21,
          20,
          23,
          22.5,
          18.5,
          20.6,
          21.7,
          22.5,
          19.9,
          21.2,
          21.6,
          21,
          21.2,
          18.5,
          20.2,
          22.7,
          21.5,
          20.6,
          20.2,
          22.8,
          19.8,
          21.9,
          20.1,
          20.1,
          23.9,
          23,
          22.9,
          22.8
         ],
         "yaxis": "y"
        },
        {
         "hovertemplate": "<b>OLS trendline</b><br>Avg Comp = 0.52401 * Attendance Rate + -28.5302<br>R<sup>2</sup>=0.122627<br><br>Attendance Rate=%{x}<br>Avg Comp=%{y} <b>(trend)</b><extra></extra>",
         "legendgroup": "Overall Trendline",
         "marker": {
          "line": {
           "width": 1
          },
          "size": 10
         },
         "mode": "lines",
         "name": "Overall Trendline",
         "showlegend": true,
         "type": "scatter",
         "x": [
          90.1,
          90.7,
          91,
          91.1,
          91.5,
          91.6,
          91.7,
          92,
          92.7,
          92.7,
          92.9,
          93,
          93,
          93.2,
          93.3,
          93.4,
          93.6,
          93.7,
          93.7,
          93.7,
          93.7,
          93.8,
          93.8,
          93.8,
          93.8,
          93.9,
          93.9,
          93.9,
          94,
          94,
          94,
          94,
          94,
          94,
          94,
          94.1,
          94.1,
          94.1,
          94.1,
          94.2,
          94.2,
          94.2,
          94.2,
          94.2,
          94.2,
          94.2,
          94.2,
          94.2,
          94.2,
          94.2,
          94.2,
          94.3,
          94.3,
          94.3,
          94.3,
          94.3,
          94.3,
          94.3,
          94.3,
          94.4,
          94.4,
          94.4,
          94.4,
          94.4,
          94.4,
          94.4,
          94.4,
          94.4,
          94.4,
          94.5,
          94.5,
          94.5,
          94.5,
          94.5,
          94.5,
          94.5,
          94.5,
          94.5,
          94.5,
          94.5,
          94.6,
          94.6,
          94.6,
          94.6,
          94.6,
          94.6,
          94.6,
          94.6,
          94.6,
          94.6,
          94.6,
          94.6,
          94.6,
          94.6,
          94.7,
          94.7,
          94.7,
          94.7,
          94.7,
          94.7,
          94.8,
          94.8,
          94.8,
          94.8,
          94.8,
          94.8,
          94.8,
          94.9,
          94.9,
          94.9,
          94.9,
          94.9,
          94.9,
          94.9,
          94.9,
          94.9,
          95,
          95,
          95,
          95,
          95,
          95,
          95,
          95,
          95,
          95,
          95,
          95.1,
          95.1,
          95.1,
          95.1,
          95.1,
          95.1,
          95.1,
          95.1,
          95.1,
          95.1,
          95.1,
          95.1,
          95.1,
          95.2,
          95.2,
          95.2,
          95.2,
          95.2,
          95.2,
          95.2,
          95.2,
          95.3,
          95.3,
          95.3,
          95.3,
          95.3,
          95.3,
          95.3,
          95.3,
          95.3,
          95.3,
          95.3,
          95.3,
          95.3,
          95.3,
          95.3,
          95.3,
          95.4,
          95.4,
          95.4,
          95.4,
          95.4,
          95.4,
          95.4,
          95.4,
          95.4,
          95.4,
          95.4,
          95.5,
          95.5,
          95.5,
          95.5,
          95.5,
          95.5,
          95.5,
          95.5,
          95.5,
          95.5,
          95.5,
          95.5,
          95.5,
          95.5,
          95.5,
          95.5,
          95.5,
          95.5,
          95.6,
          95.6,
          95.6,
          95.6,
          95.6,
          95.6,
          95.6,
          95.6,
          95.6,
          95.6,
          95.6,
          95.6,
          95.6,
          95.6,
          95.6,
          95.7,
          95.7,
          95.7,
          95.7,
          95.7,
          95.7,
          95.7,
          95.7,
          95.8,
          95.8,
          95.8,
          95.8,
          95.8,
          95.8,
          95.8,
          95.9,
          95.9,
          95.9,
          95.9,
          95.9,
          95.9,
          95.9,
          95.9,
          95.9,
          95.9,
          95.9,
          96,
          96,
          96,
          96,
          96,
          96,
          96,
          96.1,
          96.1,
          96.1,
          96.1,
          96.1,
          96.1,
          96.2,
          96.2,
          96.2,
          96.2,
          96.2,
          96.2,
          96.2,
          96.2,
          96.2,
          96.2,
          96.3,
          96.3,
          96.3,
          96.3,
          96.3,
          96.4,
          96.4,
          96.4,
          96.4,
          96.5,
          96.5,
          96.6,
          96.7,
          96.8,
          96.8,
          96.9,
          97,
          97,
          97.2,
          97.9
         ],
         "xaxis": "x",
         "y": [
          18.683079776932672,
          18.99748582495284,
          19.15468884896292,
          19.207089856966277,
          19.416693888979722,
          19.46909489698308,
          19.521495904986445,
          19.678698928996525,
          20.04550598502005,
          20.04550598502005,
          20.150308001026772,
          20.20270900903013,
          20.20270900903013,
          20.307511025036852,
          20.35991203304021,
          20.412313041043575,
          20.51711505705029,
          20.569516065053655,
          20.569516065053655,
          20.569516065053655,
          20.569516065053655,
          20.621917073057013,
          20.621917073057013,
          20.621917073057013,
          20.621917073057013,
          20.674318081060377,
          20.674318081060377,
          20.674318081060377,
          20.726719089063735,
          20.726719089063735,
          20.726719089063735,
          20.726719089063735,
          20.726719089063735,
          20.726719089063735,
          20.726719089063735,
          20.779120097067093,
          20.779120097067093,
          20.779120097067093,
          20.779120097067093,
          20.831521105070458,
          20.831521105070458,
          20.831521105070458,
          20.831521105070458,
          20.831521105070458,
          20.831521105070458,
          20.831521105070458,
          20.831521105070458,
          20.831521105070458,
          20.831521105070458,
          20.831521105070458,
          20.831521105070458,
          20.883922113073815,
          20.883922113073815,
          20.883922113073815,
          20.883922113073815,
          20.883922113073815,
          20.883922113073815,
          20.883922113073815,
          20.883922113073815,
          20.93632312107718,
          20.93632312107718,
          20.93632312107718,
          20.93632312107718,
          20.93632312107718,
          20.93632312107718,
          20.93632312107718,
          20.93632312107718,
          20.93632312107718,
          20.93632312107718,
          20.988724129080538,
          20.988724129080538,
          20.988724129080538,
          20.988724129080538,
          20.988724129080538,
          20.988724129080538,
          20.988724129080538,
          20.988724129080538,
          20.988724129080538,
          20.988724129080538,
          20.988724129080538,
          21.041125137083895,
          21.041125137083895,
          21.041125137083895,
          21.041125137083895,
          21.041125137083895,
          21.041125137083895,
          21.041125137083895,
          21.041125137083895,
          21.041125137083895,
          21.041125137083895,
          21.041125137083895,
          21.041125137083895,
          21.041125137083895,
          21.041125137083895,
          21.09352614508726,
          21.09352614508726,
          21.09352614508726,
          21.09352614508726,
          21.09352614508726,
          21.09352614508726,
          21.145927153090618,
          21.145927153090618,
          21.145927153090618,
          21.145927153090618,
          21.145927153090618,
          21.145927153090618,
          21.145927153090618,
          21.198328161093983,
          21.198328161093983,
          21.198328161093983,
          21.198328161093983,
          21.198328161093983,
          21.198328161093983,
          21.198328161093983,
          21.198328161093983,
          21.198328161093983,
          21.25072916909734,
          21.25072916909734,
          21.25072916909734,
          21.25072916909734,
          21.25072916909734,
          21.25072916909734,
          21.25072916909734,
          21.25072916909734,
          21.25072916909734,
          21.25072916909734,
          21.25072916909734,
          21.303130177100698,
          21.303130177100698,
          21.303130177100698,
          21.303130177100698,
          21.303130177100698,
          21.303130177100698,
          21.303130177100698,
          21.303130177100698,
          21.303130177100698,
          21.303130177100698,
          21.303130177100698,
          21.303130177100698,
          21.303130177100698,
          21.355531185104063,
          21.355531185104063,
          21.355531185104063,
          21.355531185104063,
          21.355531185104063,
          21.355531185104063,
          21.355531185104063,
          21.355531185104063,
          21.40793219310742,
          21.40793219310742,
          21.40793219310742,
          21.40793219310742,
          21.40793219310742,
          21.40793219310742,
          21.40793219310742,
          21.40793219310742,
          21.40793219310742,
          21.40793219310742,
          21.40793219310742,
          21.40793219310742,
          21.40793219310742,
          21.40793219310742,
          21.40793219310742,
          21.40793219310742,
          21.460333201110785,
          21.460333201110785,
          21.460333201110785,
          21.460333201110785,
          21.460333201110785,
          21.460333201110785,
          21.460333201110785,
          21.460333201110785,
          21.460333201110785,
          21.460333201110785,
          21.460333201110785,
          21.512734209114143,
          21.512734209114143,
          21.512734209114143,
          21.512734209114143,
          21.512734209114143,
          21.512734209114143,
          21.512734209114143,
          21.512734209114143,
          21.512734209114143,
          21.512734209114143,
          21.512734209114143,
          21.512734209114143,
          21.512734209114143,
          21.512734209114143,
          21.512734209114143,
          21.512734209114143,
          21.512734209114143,
          21.512734209114143,
          21.5651352171175,
          21.5651352171175,
          21.5651352171175,
          21.5651352171175,
          21.5651352171175,
          21.5651352171175,
          21.5651352171175,
          21.5651352171175,
          21.5651352171175,
          21.5651352171175,
          21.5651352171175,
          21.5651352171175,
          21.5651352171175,
          21.5651352171175,
          21.5651352171175,
          21.617536225120865,
          21.617536225120865,
          21.617536225120865,
          21.617536225120865,
          21.617536225120865,
          21.617536225120865,
          21.617536225120865,
          21.617536225120865,
          21.669937233124223,
          21.669937233124223,
          21.669937233124223,
          21.669937233124223,
          21.669937233124223,
          21.669937233124223,
          21.669937233124223,
          21.722338241127588,
          21.722338241127588,
          21.722338241127588,
          21.722338241127588,
          21.722338241127588,
          21.722338241127588,
          21.722338241127588,
          21.722338241127588,
          21.722338241127588,
          21.722338241127588,
          21.722338241127588,
          21.774739249130945,
          21.774739249130945,
          21.774739249130945,
          21.774739249130945,
          21.774739249130945,
          21.774739249130945,
          21.774739249130945,
          21.827140257134303,
          21.827140257134303,
          21.827140257134303,
          21.827140257134303,
          21.827140257134303,
          21.827140257134303,
          21.879541265137668,
          21.879541265137668,
          21.879541265137668,
          21.879541265137668,
          21.879541265137668,
          21.879541265137668,
          21.879541265137668,
          21.879541265137668,
          21.879541265137668,
          21.879541265137668,
          21.931942273141026,
          21.931942273141026,
          21.931942273141026,
          21.931942273141026,
          21.931942273141026,
          21.98434328114439,
          21.98434328114439,
          21.98434328114439,
          21.98434328114439,
          22.036744289147748,
          22.036744289147748,
          22.089145297151106,
          22.14154630515447,
          22.193947313157828,
          22.193947313157828,
          22.246348321161193,
          22.29874932916455,
          22.29874932916455,
          22.403551345171273,
          22.770358401194798
         ],
         "yaxis": "y"
        }
       ],
       "layout": {
        "coloraxis": {
         "cmax": 50,
         "cmin": 30,
         "colorbar": {
          "title": {
           "text": "Average Age--Teacher Only"
          }
         },
         "colorscale": [
          [
           0,
           "rgb(211, 242, 163)"
          ],
          [
           0.16666666666666666,
           "rgb(151, 225, 150)"
          ],
          [
           0.3333333333333333,
           "rgb(108, 192, 139)"
          ],
          [
           0.5,
           "rgb(76, 155, 130)"
          ],
          [
           0.6666666666666666,
           "rgb(33, 122, 121)"
          ],
          [
           0.8333333333333334,
           "rgb(16, 89, 101)"
          ],
          [
           1,
           "rgb(7, 64, 80)"
          ]
         ]
        },
        "legend": {
         "orientation": "h",
         "tracegroupgap": 0
        },
        "margin": {
         "t": 60
        },
        "template": {
         "data": {
          "bar": [
           {
            "error_x": {
             "color": "#2a3f5f"
            },
            "error_y": {
             "color": "#2a3f5f"
            },
            "marker": {
             "line": {
              "color": "#E5ECF6",
              "width": 0.5
             },
             "pattern": {
              "fillmode": "overlay",
              "size": 10,
              "solidity": 0.2
             }
            },
            "type": "bar"
           }
          ],
          "barpolar": [
           {
            "marker": {
             "line": {
              "color": "#E5ECF6",
              "width": 0.5
             },
             "pattern": {
              "fillmode": "overlay",
              "size": 10,
              "solidity": 0.2
             }
            },
            "type": "barpolar"
           }
          ],
          "carpet": [
           {
            "aaxis": {
             "endlinecolor": "#2a3f5f",
             "gridcolor": "white",
             "linecolor": "white",
             "minorgridcolor": "white",
             "startlinecolor": "#2a3f5f"
            },
            "baxis": {
             "endlinecolor": "#2a3f5f",
             "gridcolor": "white",
             "linecolor": "white",
             "minorgridcolor": "white",
             "startlinecolor": "#2a3f5f"
            },
            "type": "carpet"
           }
          ],
          "choropleth": [
           {
            "colorbar": {
             "outlinewidth": 0,
             "ticks": ""
            },
            "type": "choropleth"
           }
          ],
          "contour": [
           {
            "colorbar": {
             "outlinewidth": 0,
             "ticks": ""
            },
            "colorscale": [
             [
              0,
              "#0d0887"
             ],
             [
              0.1111111111111111,
              "#46039f"
             ],
             [
              0.2222222222222222,
              "#7201a8"
             ],
             [
              0.3333333333333333,
              "#9c179e"
             ],
             [
              0.4444444444444444,
              "#bd3786"
             ],
             [
              0.5555555555555556,
              "#d8576b"
             ],
             [
              0.6666666666666666,
              "#ed7953"
             ],
             [
              0.7777777777777778,
              "#fb9f3a"
             ],
             [
              0.8888888888888888,
              "#fdca26"
             ],
             [
              1,
              "#f0f921"
             ]
            ],
            "type": "contour"
           }
          ],
          "contourcarpet": [
           {
            "colorbar": {
             "outlinewidth": 0,
             "ticks": ""
            },
            "type": "contourcarpet"
           }
          ],
          "heatmap": [
           {
            "colorbar": {
             "outlinewidth": 0,
             "ticks": ""
            },
            "colorscale": [
             [
              0,
              "#0d0887"
             ],
             [
              0.1111111111111111,
              "#46039f"
             ],
             [
              0.2222222222222222,
              "#7201a8"
             ],
             [
              0.3333333333333333,
              "#9c179e"
             ],
             [
              0.4444444444444444,
              "#bd3786"
             ],
             [
              0.5555555555555556,
              "#d8576b"
             ],
             [
              0.6666666666666666,
              "#ed7953"
             ],
             [
              0.7777777777777778,
              "#fb9f3a"
             ],
             [
              0.8888888888888888,
              "#fdca26"
             ],
             [
              1,
              "#f0f921"
             ]
            ],
            "type": "heatmap"
           }
          ],
          "heatmapgl": [
           {
            "colorbar": {
             "outlinewidth": 0,
             "ticks": ""
            },
            "colorscale": [
             [
              0,
              "#0d0887"
             ],
             [
              0.1111111111111111,
              "#46039f"
             ],
             [
              0.2222222222222222,
              "#7201a8"
             ],
             [
              0.3333333333333333,
              "#9c179e"
             ],
             [
              0.4444444444444444,
              "#bd3786"
             ],
             [
              0.5555555555555556,
              "#d8576b"
             ],
             [
              0.6666666666666666,
              "#ed7953"
             ],
             [
              0.7777777777777778,
              "#fb9f3a"
             ],
             [
              0.8888888888888888,
              "#fdca26"
             ],
             [
              1,
              "#f0f921"
             ]
            ],
            "type": "heatmapgl"
           }
          ],
          "histogram": [
           {
            "marker": {
             "pattern": {
              "fillmode": "overlay",
              "size": 10,
              "solidity": 0.2
             }
            },
            "type": "histogram"
           }
          ],
          "histogram2d": [
           {
            "colorbar": {
             "outlinewidth": 0,
             "ticks": ""
            },
            "colorscale": [
             [
              0,
              "#0d0887"
             ],
             [
              0.1111111111111111,
              "#46039f"
             ],
             [
              0.2222222222222222,
              "#7201a8"
             ],
             [
              0.3333333333333333,
              "#9c179e"
             ],
             [
              0.4444444444444444,
              "#bd3786"
             ],
             [
              0.5555555555555556,
              "#d8576b"
             ],
             [
              0.6666666666666666,
              "#ed7953"
             ],
             [
              0.7777777777777778,
              "#fb9f3a"
             ],
             [
              0.8888888888888888,
              "#fdca26"
             ],
             [
              1,
              "#f0f921"
             ]
            ],
            "type": "histogram2d"
           }
          ],
          "histogram2dcontour": [
           {
            "colorbar": {
             "outlinewidth": 0,
             "ticks": ""
            },
            "colorscale": [
             [
              0,
              "#0d0887"
             ],
             [
              0.1111111111111111,
              "#46039f"
             ],
             [
              0.2222222222222222,
              "#7201a8"
             ],
             [
              0.3333333333333333,
              "#9c179e"
             ],
             [
              0.4444444444444444,
              "#bd3786"
             ],
             [
              0.5555555555555556,
              "#d8576b"
             ],
             [
              0.6666666666666666,
              "#ed7953"
             ],
             [
              0.7777777777777778,
              "#fb9f3a"
             ],
             [
              0.8888888888888888,
              "#fdca26"
             ],
             [
              1,
              "#f0f921"
             ]
            ],
            "type": "histogram2dcontour"
           }
          ],
          "mesh3d": [
           {
            "colorbar": {
             "outlinewidth": 0,
             "ticks": ""
            },
            "type": "mesh3d"
           }
          ],
          "parcoords": [
           {
            "line": {
             "colorbar": {
              "outlinewidth": 0,
              "ticks": ""
             }
            },
            "type": "parcoords"
           }
          ],
          "pie": [
           {
            "automargin": true,
            "type": "pie"
           }
          ],
          "scatter": [
           {
            "fillpattern": {
             "fillmode": "overlay",
             "size": 10,
             "solidity": 0.2
            },
            "type": "scatter"
           }
          ],
          "scatter3d": [
           {
            "line": {
             "colorbar": {
              "outlinewidth": 0,
              "ticks": ""
             }
            },
            "marker": {
             "colorbar": {
              "outlinewidth": 0,
              "ticks": ""
             }
            },
            "type": "scatter3d"
           }
          ],
          "scattercarpet": [
           {
            "marker": {
             "colorbar": {
              "outlinewidth": 0,
              "ticks": ""
             }
            },
            "type": "scattercarpet"
           }
          ],
          "scattergeo": [
           {
            "marker": {
             "colorbar": {
              "outlinewidth": 0,
              "ticks": ""
             }
            },
            "type": "scattergeo"
           }
          ],
          "scattergl": [
           {
            "marker": {
             "colorbar": {
              "outlinewidth": 0,
              "ticks": ""
             }
            },
            "type": "scattergl"
           }
          ],
          "scattermapbox": [
           {
            "marker": {
             "colorbar": {
              "outlinewidth": 0,
              "ticks": ""
             }
            },
            "type": "scattermapbox"
           }
          ],
          "scatterpolar": [
           {
            "marker": {
             "colorbar": {
              "outlinewidth": 0,
              "ticks": ""
             }
            },
            "type": "scatterpolar"
           }
          ],
          "scatterpolargl": [
           {
            "marker": {
             "colorbar": {
              "outlinewidth": 0,
              "ticks": ""
             }
            },
            "type": "scatterpolargl"
           }
          ],
          "scatterternary": [
           {
            "marker": {
             "colorbar": {
              "outlinewidth": 0,
              "ticks": ""
             }
            },
            "type": "scatterternary"
           }
          ],
          "surface": [
           {
            "colorbar": {
             "outlinewidth": 0,
             "ticks": ""
            },
            "colorscale": [
             [
              0,
              "#0d0887"
             ],
             [
              0.1111111111111111,
              "#46039f"
             ],
             [
              0.2222222222222222,
              "#7201a8"
             ],
             [
              0.3333333333333333,
              "#9c179e"
             ],
             [
              0.4444444444444444,
              "#bd3786"
             ],
             [
              0.5555555555555556,
              "#d8576b"
             ],
             [
              0.6666666666666666,
              "#ed7953"
             ],
             [
              0.7777777777777778,
              "#fb9f3a"
             ],
             [
              0.8888888888888888,
              "#fdca26"
             ],
             [
              1,
              "#f0f921"
             ]
            ],
            "type": "surface"
           }
          ],
          "table": [
           {
            "cells": {
             "fill": {
              "color": "#EBF0F8"
             },
             "line": {
              "color": "white"
             }
            },
            "header": {
             "fill": {
              "color": "#C8D4E3"
             },
             "line": {
              "color": "white"
             }
            },
            "type": "table"
           }
          ]
         },
         "layout": {
          "annotationdefaults": {
           "arrowcolor": "#2a3f5f",
           "arrowhead": 0,
           "arrowwidth": 1
          },
          "autotypenumbers": "strict",
          "coloraxis": {
           "colorbar": {
            "outlinewidth": 0,
            "ticks": ""
           }
          },
          "colorscale": {
           "diverging": [
            [
             0,
             "#8e0152"
            ],
            [
             0.1,
             "#c51b7d"
            ],
            [
             0.2,
             "#de77ae"
            ],
            [
             0.3,
             "#f1b6da"
            ],
            [
             0.4,
             "#fde0ef"
            ],
            [
             0.5,
             "#f7f7f7"
            ],
            [
             0.6,
             "#e6f5d0"
            ],
            [
             0.7,
             "#b8e186"
            ],
            [
             0.8,
             "#7fbc41"
            ],
            [
             0.9,
             "#4d9221"
            ],
            [
             1,
             "#276419"
            ]
           ],
           "sequential": [
            [
             0,
             "#0d0887"
            ],
            [
             0.1111111111111111,
             "#46039f"
            ],
            [
             0.2222222222222222,
             "#7201a8"
            ],
            [
             0.3333333333333333,
             "#9c179e"
            ],
            [
             0.4444444444444444,
             "#bd3786"
            ],
            [
             0.5555555555555556,
             "#d8576b"
            ],
            [
             0.6666666666666666,
             "#ed7953"
            ],
            [
             0.7777777777777778,
             "#fb9f3a"
            ],
            [
             0.8888888888888888,
             "#fdca26"
            ],
            [
             1,
             "#f0f921"
            ]
           ],
           "sequentialminus": [
            [
             0,
             "#0d0887"
            ],
            [
             0.1111111111111111,
             "#46039f"
            ],
            [
             0.2222222222222222,
             "#7201a8"
            ],
            [
             0.3333333333333333,
             "#9c179e"
            ],
            [
             0.4444444444444444,
             "#bd3786"
            ],
            [
             0.5555555555555556,
             "#d8576b"
            ],
            [
             0.6666666666666666,
             "#ed7953"
            ],
            [
             0.7777777777777778,
             "#fb9f3a"
            ],
            [
             0.8888888888888888,
             "#fdca26"
            ],
            [
             1,
             "#f0f921"
            ]
           ]
          },
          "colorway": [
           "#636efa",
           "#EF553B",
           "#00cc96",
           "#ab63fa",
           "#FFA15A",
           "#19d3f3",
           "#FF6692",
           "#B6E880",
           "#FF97FF",
           "#FECB52"
          ],
          "font": {
           "color": "#2a3f5f"
          },
          "geo": {
           "bgcolor": "white",
           "lakecolor": "white",
           "landcolor": "#E5ECF6",
           "showlakes": true,
           "showland": true,
           "subunitcolor": "white"
          },
          "hoverlabel": {
           "align": "left"
          },
          "hovermode": "closest",
          "mapbox": {
           "style": "light"
          },
          "paper_bgcolor": "white",
          "plot_bgcolor": "#E5ECF6",
          "polar": {
           "angularaxis": {
            "gridcolor": "white",
            "linecolor": "white",
            "ticks": ""
           },
           "bgcolor": "#E5ECF6",
           "radialaxis": {
            "gridcolor": "white",
            "linecolor": "white",
            "ticks": ""
           }
          },
          "scene": {
           "xaxis": {
            "backgroundcolor": "#E5ECF6",
            "gridcolor": "white",
            "gridwidth": 2,
            "linecolor": "white",
            "showbackground": true,
            "ticks": "",
            "zerolinecolor": "white"
           },
           "yaxis": {
            "backgroundcolor": "#E5ECF6",
            "gridcolor": "white",
            "gridwidth": 2,
            "linecolor": "white",
            "showbackground": true,
            "ticks": "",
            "zerolinecolor": "white"
           },
           "zaxis": {
            "backgroundcolor": "#E5ECF6",
            "gridcolor": "white",
            "gridwidth": 2,
            "linecolor": "white",
            "showbackground": true,
            "ticks": "",
            "zerolinecolor": "white"
           }
          },
          "shapedefaults": {
           "line": {
            "color": "#2a3f5f"
           }
          },
          "ternary": {
           "aaxis": {
            "gridcolor": "white",
            "linecolor": "white",
            "ticks": ""
           },
           "baxis": {
            "gridcolor": "white",
            "linecolor": "white",
            "ticks": ""
           },
           "bgcolor": "#E5ECF6",
           "caxis": {
            "gridcolor": "white",
            "linecolor": "white",
            "ticks": ""
           }
          },
          "title": {
           "x": 0.05
          },
          "xaxis": {
           "automargin": true,
           "gridcolor": "white",
           "linecolor": "white",
           "ticks": "",
           "title": {
            "standoff": 15
           },
           "zerolinecolor": "white",
           "zerolinewidth": 2
          },
          "yaxis": {
           "automargin": true,
           "gridcolor": "white",
           "linecolor": "white",
           "ticks": "",
           "title": {
            "standoff": 15
           },
           "zerolinecolor": "white",
           "zerolinewidth": 2
          }
         }
        },
        "title": {
         "text": "Income Effect on Composite ACT Score 2019 in 300 Iowa Districts"
        },
        "xaxis": {
         "anchor": "y",
         "domain": [
          0,
          1
         ],
         "title": {
          "text": "Average Attendance Rate"
         }
        },
        "yaxis": {
         "anchor": "x",
         "domain": [
          0,
          1
         ],
         "title": {
          "text": "Avergage Composite ACT Score"
         }
        }
       }
      }
     },
     "metadata": {},
     "output_type": "display_data"
    }
   ],
   "source": [
    "fig = px.scatter(df10, x=\"Attendance Rate\", color= \"Average Age--Teacher Only\", y=\"Avg Comp\", hover_data=\"District Name\",\n",
    "trendline=\"ols\", trendline_scope=\"overall\",color_continuous_scale=px.colors.sequential.Emrld, range_color=[30,50])\n",
    "fig.update_layout(legend_orientation=\"h\", title=\"Income Effect on Composite ACT Score 2019 in 300 Iowa Districts\")\n",
    "fig.update_traces(marker=dict(size=10,line=dict(width=1)))\n",
    "fig.update_xaxes(title=\"Average Attendance Rate\")\n",
    "fig.update_yaxes(title=\"Avergage Composite ACT Score\") \n",
    "fig.show()"
   ]
  }
 ],
 "metadata": {
  "kernelspec": {
   "display_name": ".venv",
   "language": "python",
   "name": "python3"
  },
  "language_info": {
   "codemirror_mode": {
    "name": "ipython",
    "version": 3
   },
   "file_extension": ".py",
   "mimetype": "text/x-python",
   "name": "python",
   "nbconvert_exporter": "python",
   "pygments_lexer": "ipython3",
   "version": "3.12.3"
  }
 },
 "nbformat": 4,
 "nbformat_minor": 2
}
