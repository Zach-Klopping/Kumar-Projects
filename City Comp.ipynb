{
 "cells": [
  {
   "cell_type": "code",
   "execution_count": 2,
   "metadata": {},
   "outputs": [
    {
     "name": "stderr",
     "output_type": "stream",
     "text": [
      "\n",
      "A module that was compiled using NumPy 1.x cannot be run in\n",
      "NumPy 2.0.0 as it may crash. To support both 1.x and 2.x\n",
      "versions of NumPy, modules must be compiled with NumPy 2.0.\n",
      "Some module may need to rebuild instead e.g. with 'pybind11>=2.12'.\n",
      "\n",
      "If you are a user of the module, the easiest solution will be to\n",
      "downgrade to 'numpy<2' or try to upgrade the affected module.\n",
      "We expect that some modules will need time to support NumPy 2.\n",
      "\n",
      "Traceback (most recent call last):  File \"<frozen runpy>\", line 198, in _run_module_as_main\n",
      "  File \"<frozen runpy>\", line 88, in _run_code\n",
      "  File \"/Users/zachklopping/Desktop/Folder/.venv/lib/python3.12/site-packages/ipykernel_launcher.py\", line 18, in <module>\n",
      "    app.launch_new_instance()\n",
      "  File \"/Users/zachklopping/Desktop/Folder/.venv/lib/python3.12/site-packages/traitlets/config/application.py\", line 1075, in launch_instance\n",
      "    app.start()\n",
      "  File \"/Users/zachklopping/Desktop/Folder/.venv/lib/python3.12/site-packages/ipykernel/kernelapp.py\", line 739, in start\n",
      "    self.io_loop.start()\n",
      "  File \"/Users/zachklopping/Desktop/Folder/.venv/lib/python3.12/site-packages/tornado/platform/asyncio.py\", line 205, in start\n",
      "    self.asyncio_loop.run_forever()\n",
      "  File \"/Library/Frameworks/Python.framework/Versions/3.12/lib/python3.12/asyncio/base_events.py\", line 641, in run_forever\n",
      "    self._run_once()\n",
      "  File \"/Library/Frameworks/Python.framework/Versions/3.12/lib/python3.12/asyncio/base_events.py\", line 1987, in _run_once\n",
      "    handle._run()\n",
      "  File \"/Library/Frameworks/Python.framework/Versions/3.12/lib/python3.12/asyncio/events.py\", line 88, in _run\n",
      "    self._context.run(self._callback, *self._args)\n",
      "  File \"/Users/zachklopping/Desktop/Folder/.venv/lib/python3.12/site-packages/ipykernel/kernelbase.py\", line 545, in dispatch_queue\n",
      "    await self.process_one()\n",
      "  File \"/Users/zachklopping/Desktop/Folder/.venv/lib/python3.12/site-packages/ipykernel/kernelbase.py\", line 534, in process_one\n",
      "    await dispatch(*args)\n",
      "  File \"/Users/zachklopping/Desktop/Folder/.venv/lib/python3.12/site-packages/ipykernel/kernelbase.py\", line 437, in dispatch_shell\n",
      "    await result\n",
      "  File \"/Users/zachklopping/Desktop/Folder/.venv/lib/python3.12/site-packages/ipykernel/ipkernel.py\", line 362, in execute_request\n",
      "    await super().execute_request(stream, ident, parent)\n",
      "  File \"/Users/zachklopping/Desktop/Folder/.venv/lib/python3.12/site-packages/ipykernel/kernelbase.py\", line 778, in execute_request\n",
      "    reply_content = await reply_content\n",
      "  File \"/Users/zachklopping/Desktop/Folder/.venv/lib/python3.12/site-packages/ipykernel/ipkernel.py\", line 449, in do_execute\n",
      "    res = shell.run_cell(\n",
      "  File \"/Users/zachklopping/Desktop/Folder/.venv/lib/python3.12/site-packages/ipykernel/zmqshell.py\", line 549, in run_cell\n",
      "    return super().run_cell(*args, **kwargs)\n",
      "  File \"/Users/zachklopping/Desktop/Folder/.venv/lib/python3.12/site-packages/IPython/core/interactiveshell.py\", line 3075, in run_cell\n",
      "    result = self._run_cell(\n",
      "  File \"/Users/zachklopping/Desktop/Folder/.venv/lib/python3.12/site-packages/IPython/core/interactiveshell.py\", line 3130, in _run_cell\n",
      "    result = runner(coro)\n",
      "  File \"/Users/zachklopping/Desktop/Folder/.venv/lib/python3.12/site-packages/IPython/core/async_helpers.py\", line 129, in _pseudo_sync_runner\n",
      "    coro.send(None)\n",
      "  File \"/Users/zachklopping/Desktop/Folder/.venv/lib/python3.12/site-packages/IPython/core/interactiveshell.py\", line 3334, in run_cell_async\n",
      "    has_raised = await self.run_ast_nodes(code_ast.body, cell_name,\n",
      "  File \"/Users/zachklopping/Desktop/Folder/.venv/lib/python3.12/site-packages/IPython/core/interactiveshell.py\", line 3517, in run_ast_nodes\n",
      "    if await self.run_code(code, result, async_=asy):\n",
      "  File \"/Users/zachklopping/Desktop/Folder/.venv/lib/python3.12/site-packages/IPython/core/interactiveshell.py\", line 3577, in run_code\n",
      "    exec(code_obj, self.user_global_ns, self.user_ns)\n",
      "  File \"/var/folders/pz/dlk33y6105b34bc0mc69xhsm0000gn/T/ipykernel_82421/3083476323.py\", line 1, in <module>\n",
      "    import pandas as pd\n",
      "  File \"/Users/zachklopping/Desktop/Folder/.venv/lib/python3.12/site-packages/pandas/__init__.py\", line 26, in <module>\n",
      "    from pandas.compat import (\n",
      "  File \"/Users/zachklopping/Desktop/Folder/.venv/lib/python3.12/site-packages/pandas/compat/__init__.py\", line 27, in <module>\n",
      "    from pandas.compat.pyarrow import (\n",
      "  File \"/Users/zachklopping/Desktop/Folder/.venv/lib/python3.12/site-packages/pandas/compat/pyarrow.py\", line 8, in <module>\n",
      "    import pyarrow as pa\n",
      "  File \"/Users/zachklopping/Desktop/Folder/.venv/lib/python3.12/site-packages/pyarrow/__init__.py\", line 65, in <module>\n",
      "    import pyarrow.lib as _lib\n"
     ]
    },
    {
     "ename": "AttributeError",
     "evalue": "_ARRAY_API not found",
     "output_type": "error",
     "traceback": [
      "\u001b[0;31m---------------------------------------------------------------------------\u001b[0m",
      "\u001b[0;31mAttributeError\u001b[0m                            Traceback (most recent call last)",
      "\u001b[0;31mAttributeError\u001b[0m: _ARRAY_API not found"
     ]
    },
    {
     "name": "stderr",
     "output_type": "stream",
     "text": [
      "\n",
      "A module that was compiled using NumPy 1.x cannot be run in\n",
      "NumPy 2.0.0 as it may crash. To support both 1.x and 2.x\n",
      "versions of NumPy, modules must be compiled with NumPy 2.0.\n",
      "Some module may need to rebuild instead e.g. with 'pybind11>=2.12'.\n",
      "\n",
      "If you are a user of the module, the easiest solution will be to\n",
      "downgrade to 'numpy<2' or try to upgrade the affected module.\n",
      "We expect that some modules will need time to support NumPy 2.\n",
      "\n",
      "Traceback (most recent call last):  File \"<frozen runpy>\", line 198, in _run_module_as_main\n",
      "  File \"<frozen runpy>\", line 88, in _run_code\n",
      "  File \"/Users/zachklopping/Desktop/Folder/.venv/lib/python3.12/site-packages/ipykernel_launcher.py\", line 18, in <module>\n",
      "    app.launch_new_instance()\n",
      "  File \"/Users/zachklopping/Desktop/Folder/.venv/lib/python3.12/site-packages/traitlets/config/application.py\", line 1075, in launch_instance\n",
      "    app.start()\n",
      "  File \"/Users/zachklopping/Desktop/Folder/.venv/lib/python3.12/site-packages/ipykernel/kernelapp.py\", line 739, in start\n",
      "    self.io_loop.start()\n",
      "  File \"/Users/zachklopping/Desktop/Folder/.venv/lib/python3.12/site-packages/tornado/platform/asyncio.py\", line 205, in start\n",
      "    self.asyncio_loop.run_forever()\n",
      "  File \"/Library/Frameworks/Python.framework/Versions/3.12/lib/python3.12/asyncio/base_events.py\", line 641, in run_forever\n",
      "    self._run_once()\n",
      "  File \"/Library/Frameworks/Python.framework/Versions/3.12/lib/python3.12/asyncio/base_events.py\", line 1987, in _run_once\n",
      "    handle._run()\n",
      "  File \"/Library/Frameworks/Python.framework/Versions/3.12/lib/python3.12/asyncio/events.py\", line 88, in _run\n",
      "    self._context.run(self._callback, *self._args)\n",
      "  File \"/Users/zachklopping/Desktop/Folder/.venv/lib/python3.12/site-packages/ipykernel/kernelbase.py\", line 545, in dispatch_queue\n",
      "    await self.process_one()\n",
      "  File \"/Users/zachklopping/Desktop/Folder/.venv/lib/python3.12/site-packages/ipykernel/kernelbase.py\", line 534, in process_one\n",
      "    await dispatch(*args)\n",
      "  File \"/Users/zachklopping/Desktop/Folder/.venv/lib/python3.12/site-packages/ipykernel/kernelbase.py\", line 437, in dispatch_shell\n",
      "    await result\n",
      "  File \"/Users/zachklopping/Desktop/Folder/.venv/lib/python3.12/site-packages/ipykernel/ipkernel.py\", line 362, in execute_request\n",
      "    await super().execute_request(stream, ident, parent)\n",
      "  File \"/Users/zachklopping/Desktop/Folder/.venv/lib/python3.12/site-packages/ipykernel/kernelbase.py\", line 778, in execute_request\n",
      "    reply_content = await reply_content\n",
      "  File \"/Users/zachklopping/Desktop/Folder/.venv/lib/python3.12/site-packages/ipykernel/ipkernel.py\", line 449, in do_execute\n",
      "    res = shell.run_cell(\n",
      "  File \"/Users/zachklopping/Desktop/Folder/.venv/lib/python3.12/site-packages/ipykernel/zmqshell.py\", line 549, in run_cell\n",
      "    return super().run_cell(*args, **kwargs)\n",
      "  File \"/Users/zachklopping/Desktop/Folder/.venv/lib/python3.12/site-packages/IPython/core/interactiveshell.py\", line 3075, in run_cell\n",
      "    result = self._run_cell(\n",
      "  File \"/Users/zachklopping/Desktop/Folder/.venv/lib/python3.12/site-packages/IPython/core/interactiveshell.py\", line 3130, in _run_cell\n",
      "    result = runner(coro)\n",
      "  File \"/Users/zachklopping/Desktop/Folder/.venv/lib/python3.12/site-packages/IPython/core/async_helpers.py\", line 129, in _pseudo_sync_runner\n",
      "    coro.send(None)\n",
      "  File \"/Users/zachklopping/Desktop/Folder/.venv/lib/python3.12/site-packages/IPython/core/interactiveshell.py\", line 3334, in run_cell_async\n",
      "    has_raised = await self.run_ast_nodes(code_ast.body, cell_name,\n",
      "  File \"/Users/zachklopping/Desktop/Folder/.venv/lib/python3.12/site-packages/IPython/core/interactiveshell.py\", line 3517, in run_ast_nodes\n",
      "    if await self.run_code(code, result, async_=asy):\n",
      "  File \"/Users/zachklopping/Desktop/Folder/.venv/lib/python3.12/site-packages/IPython/core/interactiveshell.py\", line 3577, in run_code\n",
      "    exec(code_obj, self.user_global_ns, self.user_ns)\n",
      "  File \"/var/folders/pz/dlk33y6105b34bc0mc69xhsm0000gn/T/ipykernel_82421/3083476323.py\", line 1, in <module>\n",
      "    import pandas as pd\n",
      "  File \"/Users/zachklopping/Desktop/Folder/.venv/lib/python3.12/site-packages/pandas/__init__.py\", line 49, in <module>\n",
      "    from pandas.core.api import (\n",
      "  File \"/Users/zachklopping/Desktop/Folder/.venv/lib/python3.12/site-packages/pandas/core/api.py\", line 9, in <module>\n",
      "    from pandas.core.dtypes.dtypes import (\n",
      "  File \"/Users/zachklopping/Desktop/Folder/.venv/lib/python3.12/site-packages/pandas/core/dtypes/dtypes.py\", line 24, in <module>\n",
      "    from pandas._libs import (\n",
      "  File \"/Users/zachklopping/Desktop/Folder/.venv/lib/python3.12/site-packages/pyarrow/__init__.py\", line 65, in <module>\n",
      "    import pyarrow.lib as _lib\n"
     ]
    },
    {
     "ename": "AttributeError",
     "evalue": "_ARRAY_API not found",
     "output_type": "error",
     "traceback": [
      "\u001b[0;31m---------------------------------------------------------------------------\u001b[0m",
      "\u001b[0;31mAttributeError\u001b[0m                            Traceback (most recent call last)",
      "\u001b[0;31mAttributeError\u001b[0m: _ARRAY_API not found"
     ]
    }
   ],
   "source": [
    "import pandas as pd\n",
    "import numpy as np \n",
    "import matplotlib.pyplot as plt\n",
    "import plotly.graph_objects as go\n",
    "import plotly.io as pio\n",
    "import plotly.express as px\n",
    "import ipywidgets as widgets\n",
    "pio.renderers.default = 'notebook'\n",
    "pd.set_option(\"display.max_columns\", 100)\n",
    "pd.set_option('display.width', 1000)"
   ]
  },
  {
   "cell_type": "code",
   "execution_count": 3,
   "metadata": {},
   "outputs": [],
   "source": [
    "from fredapi import Fred\n",
    "fred_key = \"981efcd7e9faf439aa70c00d5ae16089\"\n",
    "\n",
    "fred=Fred(api_key=fred_key)\n",
    "\n"
   ]
  },
  {
   "cell_type": "code",
   "execution_count": 4,
   "metadata": {},
   "outputs": [
    {
     "name": "stdout",
     "output_type": "stream",
     "text": [
      "                                            id realtime_start realtime_end                                              title observation_start observation_end frequency frequency_short                           units               units_short      seasonal_adjustment seasonal_adjustment_short               last_updated popularity                                              notes\n",
      "series id                                                                                                                                                                                                                                                                                                                                                                                      \n",
      "MEHOINUSCAA646N                MEHOINUSCAA646N     2024-08-08   2024-08-08              Median Household Income in California        1984-01-01      2022-01-01    Annual               A                 Current Dollars                 Current $  Not Seasonally Adjusted                       NSA  2023-09-12 13:48:04-05:00         56  Household data are collected as of March.  As ...\n",
      "MHICA06037A052NCEN          MHICA06037A052NCEN     2024-08-08   2024-08-08  Estimate of Median Household Income for Los An...        1989-01-01      2022-01-01    Annual               A                         Dollars                         $  Not Seasonally Adjusted                       NSA  2023-12-14 12:51:03-06:00         39  The U.S. Census Bureau provides annual estimat...\n",
      "MHICA06073A052NCEN          MHICA06073A052NCEN     2024-08-08   2024-08-08  Estimate of Median Household Income for San Di...        1989-01-01      2022-01-01    Annual               A                         Dollars                         $  Not Seasonally Adjusted                       NSA  2023-12-14 12:51:03-06:00         36  The U.S. Census Bureau provides annual estimat...\n",
      "MEHOINUSCAA672N                MEHOINUSCAA672N     2024-08-08   2024-08-08         Real Median Household Income in California        1984-01-01      2022-01-01    Annual               A  2022 CPI-U-RS Adjusted Dollars  2022 CPI-U-RS Adjusted $  Not Seasonally Adjusted                       NSA  2023-09-12 13:48:06-05:00         36  Household data are collected as of March.  Con...\n",
      "MHICA06075A052NCEN          MHICA06075A052NCEN     2024-08-08   2024-08-08  Estimate of Median Household Income for San Fr...        1989-01-01      2022-01-01    Annual               A                         Dollars                         $  Not Seasonally Adjusted                       NSA  2023-12-14 12:51:04-06:00         35  The U.S. Census Bureau provides annual estimat...\n",
      "...                                        ...            ...          ...                                                ...               ...             ...       ...             ...                             ...                       ...                      ...                       ...                        ...        ...                                                ...\n",
      "MHICILBCA06069A052NCEN  MHICILBCA06069A052NCEN     2024-08-08   2024-08-08  90% Confidence Interval Lower Bound of Estimat...        1989-01-01      2022-01-01    Annual               A                         Dollars                         $  Not Seasonally Adjusted                       NSA  2023-12-14 13:12:49-06:00          1  The U.S. Census Bureau provides annual estimat...\n",
      "MHICIUBCA06069A052NCEN  MHICIUBCA06069A052NCEN     2024-08-08   2024-08-08  90% Confidence Interval Upper Bound of Estimat...        1989-01-01      2022-01-01    Annual               A                         Dollars                         $  Not Seasonally Adjusted                       NSA  2023-12-14 13:10:56-06:00          1  The U.S. Census Bureau provides annual estimat...\n",
      "MHICILBCA06075A052NCEN  MHICILBCA06075A052NCEN     2024-08-08   2024-08-08  90% Confidence Interval Lower Bound of Estimat...        1989-01-01      2022-01-01    Annual               A                         Dollars                         $  Not Seasonally Adjusted                       NSA  2023-12-14 13:54:57-06:00          1  The U.S. Census Bureau provides annual estimat...\n",
      "MHICILBCA06000A052NCEN  MHICILBCA06000A052NCEN     2024-08-08   2024-08-08  90% Confidence Interval Lower Bound of Estimat...        1989-01-01      2022-01-01    Annual               A                         Dollars                         $  Not Seasonally Adjusted                       NSA  2023-12-14 13:12:25-06:00          1  The U.S. Census Bureau provides annual estimat...\n",
      "MHICIUBCA06000A052NCEN  MHICIUBCA06000A052NCEN     2024-08-08   2024-08-08  90% Confidence Interval Upper Bound of Estimat...        1989-01-01      2022-01-01    Annual               A                         Dollars                         $  Not Seasonally Adjusted                       NSA  2023-12-14 13:10:56-06:00          1  The U.S. Census Bureau provides annual estimat...\n",
      "\n",
      "[179 rows x 15 columns]\n"
     ]
    }
   ],
   "source": [
    "CPI_search= fred.search(\"Estimate of Median Household Income California \")\n",
    "\n",
    "print(CPI_search)"
   ]
  },
  {
   "cell_type": "code",
   "execution_count": 5,
   "metadata": {},
   "outputs": [
    {
     "name": "stdout",
     "output_type": "stream",
     "text": [
      "         year   values\n",
      "9  1998-01-01  37655.0\n",
      "10 1999-01-01  38900.0\n",
      "11 2000-01-01  42045.0\n",
      "12 2001-01-01  41573.0\n",
      "13 2002-01-01  41506.0\n",
      "14 2003-01-01  41544.0\n",
      "15 2004-01-01  43518.0\n",
      "16 2005-01-01  48166.0\n",
      "17 2006-01-01  51279.0\n",
      "18 2007-01-01  53494.0\n",
      "19 2008-01-01  55452.0\n",
      "20 2009-01-01  54375.0\n",
      "21 2010-01-01  52595.0\n",
      "22 2011-01-01  52239.0\n",
      "23 2012-01-01  52929.0\n",
      "24 2013-01-01  54443.0\n",
      "25 2014-01-01  55686.0\n",
      "26 2015-01-01  59045.0\n",
      "27 2016-01-01  61308.0\n",
      "28 2017-01-01  64912.0\n",
      "29 2018-01-01  67986.0\n",
      "30 2019-01-01  72721.0\n",
      "31 2020-01-01  75624.0\n",
      "32 2021-01-01  77356.0\n",
      "33 2022-01-01  82455.0\n"
     ]
    }
   ],
   "source": [
    "la=fred.get_series(\"MHICA06037A052NCEN\")\n",
    "la.name=\"values\"\n",
    "df=pd.DataFrame(la).reset_index()\n",
    "df.rename(columns = {\"index\":\"year\"}, inplace=True)\n",
    "df2=df[df[\"year\"]>\"1997-01-01\"]\n",
    "print(df2)"
   ]
  },
  {
   "cell_type": "code",
   "execution_count": 6,
   "metadata": {},
   "outputs": [
    {
     "name": "stdout",
     "output_type": "stream",
     "text": [
      "                                            id realtime_start realtime_end                                              title observation_start observation_end frequency frequency_short    units units_short      seasonal_adjustment seasonal_adjustment_short              last_updated popularity                                              notes\n",
      "series id                                                                                                                                                                                                                                                                                                                                                \n",
      "MHINY36061A052NCEN          MHINY36061A052NCEN     2024-08-08   2024-08-08  Estimate of Median Household Income for New Yo...        1989-01-01      2022-01-01    Annual               A  Dollars           $  Not Seasonally Adjusted                       NSA 2023-12-14 12:50:04-06:00          9  The U.S. Census Bureau provides annual estimat...\n",
      "MHINJ34003A052NCEN          MHINJ34003A052NCEN     2024-08-08   2024-08-08  Estimate of Median Household Income for Bergen...        1989-01-01      2022-01-01    Annual               A  Dollars           $  Not Seasonally Adjusted                       NSA 2023-12-14 12:50:06-06:00          8  The U.S. Census Bureau provides annual estimat...\n",
      "MHINY36119A052NCEN          MHINY36119A052NCEN     2024-08-08   2024-08-08  Estimate of Median Household Income for Westch...        1989-01-01      2022-01-01    Annual               A  Dollars           $  Not Seasonally Adjusted                       NSA 2023-12-14 12:50:36-06:00          8  The U.S. Census Bureau provides annual estimat...\n",
      "MHINY36005A052NCEN          MHINY36005A052NCEN     2024-08-08   2024-08-08  Estimate of Median Household Income for Bronx ...        1989-01-01      2022-01-01    Annual               A  Dollars           $  Not Seasonally Adjusted                       NSA 2023-12-14 12:50:06-06:00          6  The U.S. Census Bureau provides annual estimat...\n",
      "MHINY36059A052NCEN          MHINY36059A052NCEN     2024-08-08   2024-08-08  Estimate of Median Household Income for Nassau...        1989-01-01      2022-01-01    Annual               A  Dollars           $  Not Seasonally Adjusted                       NSA 2023-12-14 12:50:17-06:00          6  The U.S. Census Bureau provides annual estimat...\n",
      "...                                        ...            ...          ...                                                ...               ...             ...       ...             ...      ...         ...                      ...                       ...                       ...        ...                                                ...\n",
      "MHICILBNJ34037A052NCEN  MHICILBNJ34037A052NCEN     2024-08-08   2024-08-08  90% Confidence Interval Lower Bound of Estimat...        1989-01-01      2022-01-01    Annual               A  Dollars           $  Not Seasonally Adjusted                       NSA 2023-12-14 13:54:13-06:00          0  The U.S. Census Bureau provides annual estimat...\n",
      "MHICILBNY36079A052NCEN  MHICILBNY36079A052NCEN     2024-08-08   2024-08-08  90% Confidence Interval Lower Bound of Estimat...        1989-01-01      2022-01-01    Annual               A  Dollars           $  Not Seasonally Adjusted                       NSA 2023-12-14 13:54:27-06:00          0  The U.S. Census Bureau provides annual estimat...\n",
      "MHICIUBNY36061A052NCEN  MHICIUBNY36061A052NCEN     2024-08-08   2024-08-08  90% Confidence Interval Upper Bound of Estimat...        1989-01-01      2022-01-01    Annual               A  Dollars           $  Not Seasonally Adjusted                       NSA 2023-12-14 13:51:36-06:00          0  The U.S. Census Bureau provides annual estimat...\n",
      "MHICIUBNY36085A052NCEN  MHICIUBNY36085A052NCEN     2024-08-08   2024-08-08  90% Confidence Interval Upper Bound of Estimat...        1989-01-01      2022-01-01    Annual               A  Dollars           $  Not Seasonally Adjusted                       NSA 2023-12-14 13:51:35-06:00          0  The U.S. Census Bureau provides annual estimat...\n",
      "MHICIUBNY36119A052NCEN  MHICIUBNY36119A052NCEN     2024-08-08   2024-08-08  90% Confidence Interval Upper Bound of Estimat...        1989-01-01      2022-01-01    Annual               A  Dollars           $  Not Seasonally Adjusted                       NSA 2023-12-14 13:51:35-06:00          0  The U.S. Census Bureau provides annual estimat...\n",
      "\n",
      "[69 rows x 15 columns]\n"
     ]
    }
   ],
   "source": [
    "ny1=fred.search(\"Estimate of Median Household Income New York City \")\n",
    "print(ny1)"
   ]
  },
  {
   "cell_type": "code",
   "execution_count": 7,
   "metadata": {},
   "outputs": [
    {
     "name": "stdout",
     "output_type": "stream",
     "text": [
      "         year   values\n",
      "0  1989-01-01  27667.0\n",
      "1  1990-01-01      NaN\n",
      "2  1991-01-01      NaN\n",
      "3  1992-01-01      NaN\n",
      "4  1993-01-01  31962.0\n",
      "5  1994-01-01      NaN\n",
      "6  1995-01-01  34405.0\n",
      "7  1996-01-01      NaN\n",
      "8  1997-01-01  38224.0\n",
      "9  1998-01-01  41590.0\n",
      "10 1999-01-01  42436.0\n",
      "11 2000-01-01  44085.0\n",
      "12 2001-01-01  42732.0\n",
      "13 2002-01-01  43239.0\n",
      "14 2003-01-01  43930.0\n",
      "15 2004-01-01  45290.0\n",
      "16 2005-01-01  55561.0\n",
      "17 2006-01-01  59542.0\n",
      "18 2007-01-01  63704.0\n",
      "19 2008-01-01  68402.0\n",
      "20 2009-01-01  68295.0\n",
      "21 2010-01-01  63188.0\n",
      "22 2011-01-01  65833.0\n",
      "23 2012-01-01  66739.0\n",
      "24 2013-01-01  71443.0\n",
      "25 2014-01-01  75459.0\n",
      "26 2015-01-01  75136.0\n",
      "27 2016-01-01  77214.0\n",
      "28 2017-01-01  84133.0\n",
      "29 2018-01-01  84610.0\n",
      "30 2019-01-01  93007.0\n",
      "31 2020-01-01  87745.0\n",
      "32 2021-01-01  84371.0\n",
      "33 2022-01-01  95514.0\n"
     ]
    }
   ],
   "source": [
    "ny=fred.get_series(\"MHINY36061A052NCEN\")\n",
    "ny.name=\"values\"\n",
    "df3=pd.DataFrame(ny).reset_index()\n",
    "df3.rename(columns = {\"index\":\"year\"}, inplace=True)\n",
    "df4=df3[df3[\"year\"]>\"1997-01-01\"]\n",
    "print(df3)"
   ]
  },
  {
   "cell_type": "code",
   "execution_count": 9,
   "metadata": {},
   "outputs": [
    {
     "data": {
      "text/html": [
       "<div>                            <div id=\"7a7fd514-129d-4b3a-a19b-79255e4be16c\" class=\"plotly-graph-div\" style=\"height:525px; width:100%;\"></div>            <script type=\"text/javascript\">                require([\"plotly\"], function(Plotly) {                    window.PLOTLYENV=window.PLOTLYENV || {};                                    if (document.getElementById(\"7a7fd514-129d-4b3a-a19b-79255e4be16c\")) {                    Plotly.newPlot(                        \"7a7fd514-129d-4b3a-a19b-79255e4be16c\",                        [{\"hovertemplate\":\"\\u003cextra\\u003e\\u003c\\u002fextra\\u003e\",\"legendgroup\":\"\",\"line\":{\"color\":\"#636efa\",\"dash\":\"solid\"},\"marker\":{\"symbol\":\"circle\"},\"mode\":\"lines\",\"name\":\"\",\"orientation\":\"v\",\"showlegend\":false,\"xaxis\":\"x\",\"yaxis\":\"y\",\"type\":\"scatter\"},{\"mode\":\"lines\",\"name\":\"New York City\",\"x\":[\"1998-01-01T00:00:00\",\"1999-01-01T00:00:00\",\"2000-01-01T00:00:00\",\"2001-01-01T00:00:00\",\"2002-01-01T00:00:00\",\"2003-01-01T00:00:00\",\"2004-01-01T00:00:00\",\"2005-01-01T00:00:00\",\"2006-01-01T00:00:00\",\"2007-01-01T00:00:00\",\"2008-01-01T00:00:00\",\"2009-01-01T00:00:00\",\"2010-01-01T00:00:00\",\"2011-01-01T00:00:00\",\"2012-01-01T00:00:00\",\"2013-01-01T00:00:00\",\"2014-01-01T00:00:00\",\"2015-01-01T00:00:00\",\"2016-01-01T00:00:00\",\"2017-01-01T00:00:00\",\"2018-01-01T00:00:00\",\"2019-01-01T00:00:00\",\"2020-01-01T00:00:00\",\"2021-01-01T00:00:00\",\"2022-01-01T00:00:00\"],\"y\":[41590.0,42436.0,44085.0,42732.0,43239.0,43930.0,45290.0,55561.0,59542.0,63704.0,68402.0,68295.0,63188.0,65833.0,66739.0,71443.0,75459.0,75136.0,77214.0,84133.0,84610.0,93007.0,87745.0,84371.0,95514.0],\"type\":\"scatter\"},{\"mode\":\"lines\",\"name\":\"Los Angeles\",\"x\":[\"1998-01-01T00:00:00\",\"1999-01-01T00:00:00\",\"2000-01-01T00:00:00\",\"2001-01-01T00:00:00\",\"2002-01-01T00:00:00\",\"2003-01-01T00:00:00\",\"2004-01-01T00:00:00\",\"2005-01-01T00:00:00\",\"2006-01-01T00:00:00\",\"2007-01-01T00:00:00\",\"2008-01-01T00:00:00\",\"2009-01-01T00:00:00\",\"2010-01-01T00:00:00\",\"2011-01-01T00:00:00\",\"2012-01-01T00:00:00\",\"2013-01-01T00:00:00\",\"2014-01-01T00:00:00\",\"2015-01-01T00:00:00\",\"2016-01-01T00:00:00\",\"2017-01-01T00:00:00\",\"2018-01-01T00:00:00\",\"2019-01-01T00:00:00\",\"2020-01-01T00:00:00\",\"2021-01-01T00:00:00\",\"2022-01-01T00:00:00\"],\"y\":[37655.0,38900.0,42045.0,41573.0,41506.0,41544.0,43518.0,48166.0,51279.0,53494.0,55452.0,54375.0,52595.0,52239.0,52929.0,54443.0,55686.0,59045.0,61308.0,64912.0,67986.0,72721.0,75624.0,77356.0,82455.0],\"type\":\"scatter\"}],                        {\"template\":{\"data\":{\"histogram2dcontour\":[{\"type\":\"histogram2dcontour\",\"colorbar\":{\"outlinewidth\":0,\"ticks\":\"\"},\"colorscale\":[[0.0,\"#0d0887\"],[0.1111111111111111,\"#46039f\"],[0.2222222222222222,\"#7201a8\"],[0.3333333333333333,\"#9c179e\"],[0.4444444444444444,\"#bd3786\"],[0.5555555555555556,\"#d8576b\"],[0.6666666666666666,\"#ed7953\"],[0.7777777777777778,\"#fb9f3a\"],[0.8888888888888888,\"#fdca26\"],[1.0,\"#f0f921\"]]}],\"choropleth\":[{\"type\":\"choropleth\",\"colorbar\":{\"outlinewidth\":0,\"ticks\":\"\"}}],\"histogram2d\":[{\"type\":\"histogram2d\",\"colorbar\":{\"outlinewidth\":0,\"ticks\":\"\"},\"colorscale\":[[0.0,\"#0d0887\"],[0.1111111111111111,\"#46039f\"],[0.2222222222222222,\"#7201a8\"],[0.3333333333333333,\"#9c179e\"],[0.4444444444444444,\"#bd3786\"],[0.5555555555555556,\"#d8576b\"],[0.6666666666666666,\"#ed7953\"],[0.7777777777777778,\"#fb9f3a\"],[0.8888888888888888,\"#fdca26\"],[1.0,\"#f0f921\"]]}],\"heatmap\":[{\"type\":\"heatmap\",\"colorbar\":{\"outlinewidth\":0,\"ticks\":\"\"},\"colorscale\":[[0.0,\"#0d0887\"],[0.1111111111111111,\"#46039f\"],[0.2222222222222222,\"#7201a8\"],[0.3333333333333333,\"#9c179e\"],[0.4444444444444444,\"#bd3786\"],[0.5555555555555556,\"#d8576b\"],[0.6666666666666666,\"#ed7953\"],[0.7777777777777778,\"#fb9f3a\"],[0.8888888888888888,\"#fdca26\"],[1.0,\"#f0f921\"]]}],\"heatmapgl\":[{\"type\":\"heatmapgl\",\"colorbar\":{\"outlinewidth\":0,\"ticks\":\"\"},\"colorscale\":[[0.0,\"#0d0887\"],[0.1111111111111111,\"#46039f\"],[0.2222222222222222,\"#7201a8\"],[0.3333333333333333,\"#9c179e\"],[0.4444444444444444,\"#bd3786\"],[0.5555555555555556,\"#d8576b\"],[0.6666666666666666,\"#ed7953\"],[0.7777777777777778,\"#fb9f3a\"],[0.8888888888888888,\"#fdca26\"],[1.0,\"#f0f921\"]]}],\"contourcarpet\":[{\"type\":\"contourcarpet\",\"colorbar\":{\"outlinewidth\":0,\"ticks\":\"\"}}],\"contour\":[{\"type\":\"contour\",\"colorbar\":{\"outlinewidth\":0,\"ticks\":\"\"},\"colorscale\":[[0.0,\"#0d0887\"],[0.1111111111111111,\"#46039f\"],[0.2222222222222222,\"#7201a8\"],[0.3333333333333333,\"#9c179e\"],[0.4444444444444444,\"#bd3786\"],[0.5555555555555556,\"#d8576b\"],[0.6666666666666666,\"#ed7953\"],[0.7777777777777778,\"#fb9f3a\"],[0.8888888888888888,\"#fdca26\"],[1.0,\"#f0f921\"]]}],\"surface\":[{\"type\":\"surface\",\"colorbar\":{\"outlinewidth\":0,\"ticks\":\"\"},\"colorscale\":[[0.0,\"#0d0887\"],[0.1111111111111111,\"#46039f\"],[0.2222222222222222,\"#7201a8\"],[0.3333333333333333,\"#9c179e\"],[0.4444444444444444,\"#bd3786\"],[0.5555555555555556,\"#d8576b\"],[0.6666666666666666,\"#ed7953\"],[0.7777777777777778,\"#fb9f3a\"],[0.8888888888888888,\"#fdca26\"],[1.0,\"#f0f921\"]]}],\"mesh3d\":[{\"type\":\"mesh3d\",\"colorbar\":{\"outlinewidth\":0,\"ticks\":\"\"}}],\"scatter\":[{\"fillpattern\":{\"fillmode\":\"overlay\",\"size\":10,\"solidity\":0.2},\"type\":\"scatter\"}],\"parcoords\":[{\"type\":\"parcoords\",\"line\":{\"colorbar\":{\"outlinewidth\":0,\"ticks\":\"\"}}}],\"scatterpolargl\":[{\"type\":\"scatterpolargl\",\"marker\":{\"colorbar\":{\"outlinewidth\":0,\"ticks\":\"\"}}}],\"bar\":[{\"error_x\":{\"color\":\"#2a3f5f\"},\"error_y\":{\"color\":\"#2a3f5f\"},\"marker\":{\"line\":{\"color\":\"#E5ECF6\",\"width\":0.5},\"pattern\":{\"fillmode\":\"overlay\",\"size\":10,\"solidity\":0.2}},\"type\":\"bar\"}],\"scattergeo\":[{\"type\":\"scattergeo\",\"marker\":{\"colorbar\":{\"outlinewidth\":0,\"ticks\":\"\"}}}],\"scatterpolar\":[{\"type\":\"scatterpolar\",\"marker\":{\"colorbar\":{\"outlinewidth\":0,\"ticks\":\"\"}}}],\"histogram\":[{\"marker\":{\"pattern\":{\"fillmode\":\"overlay\",\"size\":10,\"solidity\":0.2}},\"type\":\"histogram\"}],\"scattergl\":[{\"type\":\"scattergl\",\"marker\":{\"colorbar\":{\"outlinewidth\":0,\"ticks\":\"\"}}}],\"scatter3d\":[{\"type\":\"scatter3d\",\"line\":{\"colorbar\":{\"outlinewidth\":0,\"ticks\":\"\"}},\"marker\":{\"colorbar\":{\"outlinewidth\":0,\"ticks\":\"\"}}}],\"scattermapbox\":[{\"type\":\"scattermapbox\",\"marker\":{\"colorbar\":{\"outlinewidth\":0,\"ticks\":\"\"}}}],\"scatterternary\":[{\"type\":\"scatterternary\",\"marker\":{\"colorbar\":{\"outlinewidth\":0,\"ticks\":\"\"}}}],\"scattercarpet\":[{\"type\":\"scattercarpet\",\"marker\":{\"colorbar\":{\"outlinewidth\":0,\"ticks\":\"\"}}}],\"carpet\":[{\"aaxis\":{\"endlinecolor\":\"#2a3f5f\",\"gridcolor\":\"white\",\"linecolor\":\"white\",\"minorgridcolor\":\"white\",\"startlinecolor\":\"#2a3f5f\"},\"baxis\":{\"endlinecolor\":\"#2a3f5f\",\"gridcolor\":\"white\",\"linecolor\":\"white\",\"minorgridcolor\":\"white\",\"startlinecolor\":\"#2a3f5f\"},\"type\":\"carpet\"}],\"table\":[{\"cells\":{\"fill\":{\"color\":\"#EBF0F8\"},\"line\":{\"color\":\"white\"}},\"header\":{\"fill\":{\"color\":\"#C8D4E3\"},\"line\":{\"color\":\"white\"}},\"type\":\"table\"}],\"barpolar\":[{\"marker\":{\"line\":{\"color\":\"#E5ECF6\",\"width\":0.5},\"pattern\":{\"fillmode\":\"overlay\",\"size\":10,\"solidity\":0.2}},\"type\":\"barpolar\"}],\"pie\":[{\"automargin\":true,\"type\":\"pie\"}]},\"layout\":{\"autotypenumbers\":\"strict\",\"colorway\":[\"#636efa\",\"#EF553B\",\"#00cc96\",\"#ab63fa\",\"#FFA15A\",\"#19d3f3\",\"#FF6692\",\"#B6E880\",\"#FF97FF\",\"#FECB52\"],\"font\":{\"color\":\"#2a3f5f\"},\"hovermode\":\"closest\",\"hoverlabel\":{\"align\":\"left\"},\"paper_bgcolor\":\"white\",\"plot_bgcolor\":\"#E5ECF6\",\"polar\":{\"bgcolor\":\"#E5ECF6\",\"angularaxis\":{\"gridcolor\":\"white\",\"linecolor\":\"white\",\"ticks\":\"\"},\"radialaxis\":{\"gridcolor\":\"white\",\"linecolor\":\"white\",\"ticks\":\"\"}},\"ternary\":{\"bgcolor\":\"#E5ECF6\",\"aaxis\":{\"gridcolor\":\"white\",\"linecolor\":\"white\",\"ticks\":\"\"},\"baxis\":{\"gridcolor\":\"white\",\"linecolor\":\"white\",\"ticks\":\"\"},\"caxis\":{\"gridcolor\":\"white\",\"linecolor\":\"white\",\"ticks\":\"\"}},\"coloraxis\":{\"colorbar\":{\"outlinewidth\":0,\"ticks\":\"\"}},\"colorscale\":{\"sequential\":[[0.0,\"#0d0887\"],[0.1111111111111111,\"#46039f\"],[0.2222222222222222,\"#7201a8\"],[0.3333333333333333,\"#9c179e\"],[0.4444444444444444,\"#bd3786\"],[0.5555555555555556,\"#d8576b\"],[0.6666666666666666,\"#ed7953\"],[0.7777777777777778,\"#fb9f3a\"],[0.8888888888888888,\"#fdca26\"],[1.0,\"#f0f921\"]],\"sequentialminus\":[[0.0,\"#0d0887\"],[0.1111111111111111,\"#46039f\"],[0.2222222222222222,\"#7201a8\"],[0.3333333333333333,\"#9c179e\"],[0.4444444444444444,\"#bd3786\"],[0.5555555555555556,\"#d8576b\"],[0.6666666666666666,\"#ed7953\"],[0.7777777777777778,\"#fb9f3a\"],[0.8888888888888888,\"#fdca26\"],[1.0,\"#f0f921\"]],\"diverging\":[[0,\"#8e0152\"],[0.1,\"#c51b7d\"],[0.2,\"#de77ae\"],[0.3,\"#f1b6da\"],[0.4,\"#fde0ef\"],[0.5,\"#f7f7f7\"],[0.6,\"#e6f5d0\"],[0.7,\"#b8e186\"],[0.8,\"#7fbc41\"],[0.9,\"#4d9221\"],[1,\"#276419\"]]},\"xaxis\":{\"gridcolor\":\"white\",\"linecolor\":\"white\",\"ticks\":\"\",\"title\":{\"standoff\":15},\"zerolinecolor\":\"white\",\"automargin\":true,\"zerolinewidth\":2},\"yaxis\":{\"gridcolor\":\"white\",\"linecolor\":\"white\",\"ticks\":\"\",\"title\":{\"standoff\":15},\"zerolinecolor\":\"white\",\"automargin\":true,\"zerolinewidth\":2},\"scene\":{\"xaxis\":{\"backgroundcolor\":\"#E5ECF6\",\"gridcolor\":\"white\",\"linecolor\":\"white\",\"showbackground\":true,\"ticks\":\"\",\"zerolinecolor\":\"white\",\"gridwidth\":2},\"yaxis\":{\"backgroundcolor\":\"#E5ECF6\",\"gridcolor\":\"white\",\"linecolor\":\"white\",\"showbackground\":true,\"ticks\":\"\",\"zerolinecolor\":\"white\",\"gridwidth\":2},\"zaxis\":{\"backgroundcolor\":\"#E5ECF6\",\"gridcolor\":\"white\",\"linecolor\":\"white\",\"showbackground\":true,\"ticks\":\"\",\"zerolinecolor\":\"white\",\"gridwidth\":2}},\"shapedefaults\":{\"line\":{\"color\":\"#2a3f5f\"}},\"annotationdefaults\":{\"arrowcolor\":\"#2a3f5f\",\"arrowhead\":0,\"arrowwidth\":1},\"geo\":{\"bgcolor\":\"white\",\"landcolor\":\"#E5ECF6\",\"subunitcolor\":\"white\",\"showland\":true,\"showlakes\":true,\"lakecolor\":\"white\"},\"title\":{\"x\":0.05},\"mapbox\":{\"style\":\"light\"}}},\"xaxis\":{\"anchor\":\"y\",\"domain\":[0.0,1.0],\"title\":{\"text\":\"Year\"}},\"yaxis\":{\"anchor\":\"x\",\"domain\":[0.0,1.0],\"title\":{\"text\":\"Median Income\"}},\"legend\":{\"tracegroupgap\":0},\"title\":{\"text\":\"City Income Comparison\"}},                        {\"responsive\": true}                    ).then(function(){\n",
       "                            \n",
       "var gd = document.getElementById('7a7fd514-129d-4b3a-a19b-79255e4be16c');\n",
       "var x = new MutationObserver(function (mutations, observer) {{\n",
       "        var display = window.getComputedStyle(gd).display;\n",
       "        if (!display || display === 'none') {{\n",
       "            console.log([gd, 'removed!']);\n",
       "            Plotly.purge(gd);\n",
       "            observer.disconnect();\n",
       "        }}\n",
       "}});\n",
       "\n",
       "// Listen for the removal of the full notebook cells\n",
       "var notebookContainer = gd.closest('#notebook-container');\n",
       "if (notebookContainer) {{\n",
       "    x.observe(notebookContainer, {childList: true});\n",
       "}}\n",
       "\n",
       "// Listen for the clearing of the current output cell\n",
       "var outputEl = gd.closest('.output');\n",
       "if (outputEl) {{\n",
       "    x.observe(outputEl, {childList: true});\n",
       "}}\n",
       "\n",
       "                        })                };                });            </script>        </div>"
      ]
     },
     "metadata": {},
     "output_type": "display_data"
    }
   ],
   "source": [
    "fig=px.line(title=\"City Income Comparison\") \n",
    "fig.update_yaxes(title=\"Median Income\")\n",
    "fig.update_xaxes(title=\"Year\")\n",
    "fig.add_scatter(x=df4[\"year\"], y=df4[\"values\"], mode=\"lines\", name=\"New York City\")\n",
    "fig.add_scatter(x=df2[\"year\"], y=df2[\"values\"], mode=\"lines\", name=\"Los Angeles\")\n",
    "fig.show()\n"
   ]
  },
  {
   "cell_type": "markdown",
   "metadata": {},
   "source": []
  }
 ],
 "metadata": {
  "kernelspec": {
   "display_name": ".venv",
   "language": "python",
   "name": "python3"
  },
  "language_info": {
   "codemirror_mode": {
    "name": "ipython",
    "version": 3
   },
   "file_extension": ".py",
   "mimetype": "text/x-python",
   "name": "python",
   "nbconvert_exporter": "python",
   "pygments_lexer": "ipython3",
   "version": "3.12.3"
  }
 },
 "nbformat": 4,
 "nbformat_minor": 2
}
